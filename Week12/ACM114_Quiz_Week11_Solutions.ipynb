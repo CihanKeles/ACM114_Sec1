{
 "cells": [
  {
   "cell_type": "code",
   "execution_count": 1,
   "metadata": {},
   "outputs": [
    {
     "name": "stdout",
     "output_type": "stream",
     "text": [
      "4,7\n",
      "[[1, 3, 5, 7, 9, 11, 13], [3, 7, 12, 19, 30, 49, 84], [5, 12, 28, 80, 276, 1048, 4124], [7, 19, 80, 533, 4122, 32799, 262180]]\n"
     ]
    }
   ],
   "source": [
    "x, y = map(int,input().split(','))\n",
    "matrix_2D = []\n",
    "\n",
    "for i in range(x):\n",
    "    array_2D = []\n",
    "    for j in range(y):\n",
    "        array_2D.append((2**(i*j) + i * j + 2 * i + 2 * j))\n",
    "    matrix_2D.append(array_2D)\n",
    "    \n",
    "print(matrix_2D)"
   ]
  },
  {
   "cell_type": "code",
   "execution_count": 2,
   "metadata": {},
   "outputs": [
    {
     "name": "stdout",
     "output_type": "stream",
     "text": [
      "4,7\n",
      "[[1, 3, 5, 7, 9, 11, 13], [3, 7, 12, 19, 30, 49, 84], [5, 12, 28, 80, 276, 1048, 4124], [7, 19, 80, 533, 4122, 32799, 262180]]\n"
     ]
    }
   ],
   "source": [
    "x, y = map(int,input().split(','))\n",
    "lst = [[2**(i*j) + i * j + 2 * i + 2 * j for j in range(y)] for i in range(x)]  \n",
    "print(lst)"
   ]
  },
  {
   "cell_type": "code",
   "execution_count": null,
   "metadata": {},
   "outputs": [],
   "source": []
  }
 ],
 "metadata": {
  "kernelspec": {
   "display_name": "Python 3",
   "language": "python",
   "name": "python3"
  },
  "language_info": {
   "codemirror_mode": {
    "name": "ipython",
    "version": 3
   },
   "file_extension": ".py",
   "mimetype": "text/x-python",
   "name": "python",
   "nbconvert_exporter": "python",
   "pygments_lexer": "ipython3",
   "version": "3.7.4"
  }
 },
 "nbformat": 4,
 "nbformat_minor": 2
}
