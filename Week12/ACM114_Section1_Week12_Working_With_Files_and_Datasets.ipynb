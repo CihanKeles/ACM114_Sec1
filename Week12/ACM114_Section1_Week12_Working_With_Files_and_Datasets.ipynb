{
 "cells": [
  {
   "cell_type": "code",
   "execution_count": 1,
   "metadata": {
    "scrolled": false
   },
   "outputs": [
    {
     "name": "stdout",
     "output_type": "stream",
     "text": [
      "Name,Sex,Age,Team,Event,Medal\n",
      "A Dijiang,M,24,China,Basketball,NA\n",
      "A Lamusi,M,23,China,Judo,NA\n",
      "Gunnar Nielsen Aaby,M,24,Denmark,Football,NA\n",
      "Edgar Lindenau Aabye,M,34,Denmark/Sweden,Tug-Of-War,Gold\n",
      "Christine Jacoba Aaftink,F,21,Netherlands,Speed Skating,NA\n",
      "Christine Jacoba Aaftink,F,21,Netherlands,Speed Skating,NA\n",
      "Christine Jacoba Aaftink,F,25,Netherlands,Speed Skating,NA\n",
      "Christine Jacoba Aaftink,F,25,Netherlands,Speed Skating,NA\n",
      "Christine Jacoba Aaftink,F,27,Netherlands,Speed Skating,NA\n",
      "Christine Jacoba Aaftink,F,27,Netherlands,Speed Skating,NA\n",
      "Per Knut Aaland,M,31,United States,Cross Country Skiing,NA\n",
      "Per Knut Aaland,M,31,United States,Cross Country Skiing,NA\n",
      "Per Knut Aaland,M,31,United States,Cross Country Skiing,NA\n",
      "Per Knut Aaland,M,31,United States,Cross Country Skiing,NA\n",
      "Per Knut Aaland,M,33,United States,Cross Country Skiing,NA\n",
      "Per Knut Aaland,M,33,United States,Cross Country Skiing,NA\n",
      "Per Knut Aaland,M,33,United States,Cross Country Skiing,NA\n",
      "Per Knut Aaland,M,33,United States,Cross Country Skiing,NA\n",
      "John Aalberg,M,31,United States,Cross Country Skiing,NA\n",
      "John Aalberg,M,31,United States,Cross Country Skiing,NA\n",
      "John Aalberg,M,31,United States,Cross Country Skiing,NA\n",
      "John Aalberg,M,31,United States,Cross Country Skiing,NA\n",
      "John Aalberg,M,33,United States,Cross Country Skiing,NA\n",
      "John Aalberg,M,33,United States,Cross Country Skiing,NA\n",
      "John Aalberg,M,33,United States,Cross Country Skiing,NA\n",
      "John Aalberg,M,33,United States,Cross Country Skiing,NA\n",
      "\"Cornelia \"\"Cor\"\" Aalten (-Strannood)\",F,18,Netherlands,Athletics,NA\n",
      "\"Cornelia \"\"Cor\"\" Aalten (-Strannood)\",F,18,Netherlands,Athletics,NA\n",
      "Antti Sami Aalto,M,26,Finland,Ice Hockey,NA\n",
      "\"Einar Ferdinand \"\"Einari\"\" Aalto\",M,26,Finland,Swimming,NA\n",
      "Jorma Ilmari Aalto,M,22,Finland,Cross Country Skiing,NA\n",
      "Jyri Tapani Aalto,M,31,Finland,Badminton,NA\n",
      "Minna Maarit Aalto,F,30,Finland,Sailing,NA\n",
      "Minna Maarit Aalto,F,34,Finland,Sailing,NA\n",
      "Pirjo Hannele Aalto (Mattila-),F,32,Finland,Biathlon,NA\n",
      "Arvo Ossian Aaltonen,M,22,Finland,Swimming,NA\n",
      "Arvo Ossian Aaltonen,M,22,Finland,Swimming,NA\n",
      "Arvo Ossian Aaltonen,M,30,Finland,Swimming,Bronze\n",
      "Arvo Ossian Aaltonen,M,30,Finland,Swimming,Bronze\n",
      "Arvo Ossian Aaltonen,M,34,Finland,Swimming,NA\n",
      "Juhamatti Tapio Aaltonen,M,28,Finland,Ice Hockey,Bronze\n",
      "Paavo Johannes Aaltonen,M,28,Finland,Gymnastics,Bronze\n",
      "Paavo Johannes Aaltonen,M,28,Finland,Gymnastics,Gold\n",
      "Paavo Johannes Aaltonen,M,28,Finland,Gymnastics,NA\n",
      "Paavo Johannes Aaltonen,M,28,Finland,Gymnastics,Gold\n",
      "Paavo Johannes Aaltonen,M,28,Finland,Gymnastics,NA\n",
      "Paavo Johannes Aaltonen,M,28,Finland,Gymnastics,NA\n",
      "Paavo Johannes Aaltonen,M,28,Finland,Gymnastics,NA\n",
      "Paavo Johannes Aaltonen,M,28,Finland,Gymnastics,Gold\n",
      "Paavo Johannes Aaltonen,M,32,Finland,Gymnastics,NA\n",
      "Paavo Johannes Aaltonen,M,32,Finland,Gymnastics,Bronze\n",
      "Paavo Johannes Aaltonen,M,32,Finland,Gymnastics,NA\n",
      "Paavo Johannes Aaltonen,M,32,Finland,Gymnastics,NA\n",
      "Paavo Johannes Aaltonen,M,32,Finland,Gymnastics,NA\n",
      "Paavo Johannes Aaltonen,M,32,Finland,Gymnastics,NA\n",
      "Paavo Johannes Aaltonen,M,32,Finland,Gymnastics,NA\n",
      "Paavo Johannes Aaltonen,M,32,Finland,Gymnastics,NA\n",
      "Timo Antero Aaltonen,M,31,Finland,Athletics,NA\n",
      "Win Valdemar Aaltonen,M,54,Finland,Art Competitions,NA\n"
     ]
    }
   ],
   "source": [
    "# Open a file named olympics.txt.\n",
    "fileref = open(\"olympics.txt\", \"r\")\n",
    "\n",
    "# Other codes here that refer to variable fileref\n",
    "# Read the file's contents.\n",
    "file_contents = fileref.read()\n",
    "\n",
    "# Close the file\n",
    "fileref.close()\n",
    "\n",
    "# Print the data that was read into memory.\n",
    "print(file_contents)"
   ]
  },
  {
   "cell_type": "code",
   "execution_count": 2,
   "metadata": {},
   "outputs": [
    {
     "name": "stdout",
     "output_type": "stream",
     "text": [
      "John Locke\n",
      "David Hume\n",
      "Edmund Burke\n",
      "\n"
     ]
    }
   ],
   "source": [
    "# This program reads and displays the contents\n",
    "# of the philosophers.txt file.\n",
    "\n",
    "def main():\n",
    "    \n",
    "    # Open a file named philosophers.txt.\n",
    "    infile = open('philosophers.txt', 'r')\n",
    "    \n",
    "    # Read the file's contents.\n",
    "    file_contents = infile.read()\n",
    "    \n",
    "    # Close the file\n",
    "    infile.close()\n",
    "    \n",
    "    # Print the data that was read into memory.\n",
    "    print(file_contents)\n",
    "    \n",
    "# Call the main function.\n",
    "main()"
   ]
  },
  {
   "cell_type": "code",
   "execution_count": 3,
   "metadata": {},
   "outputs": [
    {
     "name": "stdout",
     "output_type": "stream",
     "text": [
      "John Locke\n",
      "\n",
      "David Hume\n",
      "\n",
      "Edmund Burke\n",
      "\n"
     ]
    }
   ],
   "source": [
    "# This program reads the contents of the philosophers.txt file\n",
    "# one line at a time.\n",
    "\n",
    "def main():\n",
    "    infile = open('philosophers.txt', 'r')\n",
    "    \n",
    "    line1 = infile.readline()\n",
    "    line2 = infile.readline()\n",
    "    line3 = infile.readline()\n",
    "    \n",
    "    infile.close()\n",
    "    \n",
    "    print(line1)\n",
    "    print(line2)\n",
    "    print(line3)\n",
    "    \n",
    "main()"
   ]
  },
  {
   "cell_type": "code",
   "execution_count": 4,
   "metadata": {},
   "outputs": [
    {
     "name": "stdout",
     "output_type": "stream",
     "text": [
      "Total number of characters in the file: 536\n"
     ]
    }
   ],
   "source": [
    "# Find the total number of characters in the file and save to the variable num_char.\n",
    "fileref = open(\"school_prompt.txt\", \"r\")\n",
    "\n",
    "num_char = 0\n",
    "\n",
    "for i in fileref:\n",
    "    num_char += len(i)\n",
    "\n",
    "fileref.close()\n",
    "print(\"Total number of characters in the file:\", num_char)"
   ]
  },
  {
   "cell_type": "code",
   "execution_count": 5,
   "metadata": {},
   "outputs": [
    {
     "name": "stdout",
     "output_type": "stream",
     "text": [
      "Total number of lines in the file: 10\n"
     ]
    }
   ],
   "source": [
    "# Assign to the variable num_lines the number of lines in the file school_prompt.txt.\n",
    "fileref = open(\"school_prompt.txt\")\n",
    "\n",
    "num_lines = 0\n",
    "\n",
    "for line in fileref:\n",
    "    num_lines += 1\n",
    "    \n",
    "fileref.close()\n",
    "\n",
    "print(\"Total number of lines in the file:\", num_lines)"
   ]
  },
  {
   "cell_type": "code",
   "execution_count": 6,
   "metadata": {},
   "outputs": [
    {
     "name": "stdout",
     "output_type": "stream",
     "text": [
      "['for', 'find', 'to', 'many', 'they', 'solid', 'for', 'have', 'some', 'ups,']\n",
      "['for', 'find', 'to', 'many', 'they', 'solid', 'for', 'have', 'some', 'ups,']\n"
     ]
    }
   ],
   "source": [
    "# Challenge: Using the file school_prompt.txt, assign the third word of \n",
    "# every line to lists called three_1 and three_2.\n",
    "\n",
    "three_1 = []\n",
    "three_2 = list()\n",
    "\n",
    "fileref = open('school_prompt.txt')\n",
    "\n",
    "for line in fileref:\n",
    "    each_line = line.split()\n",
    "    three_1.append(each_line[2])\n",
    "\n",
    "print(three_1)\n",
    "\n",
    "with open(\"school_prompt.txt\", 'r') as f:\n",
    "    three_2 = [line.split()[2] for line in f]\n",
    "    print(three_2)"
   ]
  },
  {
   "cell_type": "code",
   "execution_count": 7,
   "metadata": {},
   "outputs": [
    {
     "name": "stdout",
     "output_type": "stream",
     "text": [
      "The words stroring 'p' character inside: ['topic', 'point', 'papers,', 'ups,', 'scripts.']\n",
      "**********\n",
      "The words stroring 'p' character inside: ['topic', 'point', 'papers,', 'ups,', 'scripts.']\n"
     ]
    }
   ],
   "source": [
    "# Challenge: Using the file school_prompt.txt, if the character \"p\" is in a word,\n",
    "# then add the word to a list called p_words.\n",
    "\n",
    "fileref = open('school_prompt.txt', 'r')\n",
    "lines = fileref.read()\n",
    "words = lines.split()\n",
    "p_words = []\n",
    "for word in words:\n",
    "    if 'p' in word:\n",
    "        p_words.append(word)\n",
    "\n",
    "print(\"The words stroring 'p' character inside:\", p_words)\n",
    "\n",
    "print(\"**********\")\n",
    "\n",
    "fileref_1 = open('school_prompt.txt', 'r')\n",
    "p_words_list = list()\n",
    "words_1 = fileref_1.read().split()\n",
    "p_words_list = [word for word in words_1 if 'p' in word]\n",
    "\n",
    "print(\"The words stroring 'p' character inside:\", p_words_list)"
   ]
  },
  {
   "cell_type": "code",
   "execution_count": 8,
   "metadata": {},
   "outputs": [
    {
     "name": "stdout",
     "output_type": "stream",
     "text": [
      "Total number of lines in the file: 11\n",
      "----------\n",
      "Total number of lines in the file: 11\n"
     ]
    }
   ],
   "source": [
    "# Assign to the variable num_lines the number of lines in the file\n",
    "# travel_plans.txt.\n",
    "\n",
    "fileref = open('travel_plans.txt', 'r')\n",
    "num_lines = 0\n",
    "\n",
    "for line in fileref:\n",
    "    num_lines += 1\n",
    "\n",
    "fileref.close()\n",
    "\n",
    "print(\"Total number of lines in the file:\", num_lines)\n",
    "\n",
    "print(\"----------\")\n",
    "\n",
    "num_lines_1 = sum(1 for line in open('travel_plans.txt'))\n",
    "print(\"Total number of lines in the file:\", num_lines_1)"
   ]
  },
  {
   "cell_type": "code",
   "execution_count": 9,
   "metadata": {},
   "outputs": [
    {
     "name": "stdout",
     "output_type": "stream",
     "text": [
      "Sad upset blue down melancholy somber bi\n"
     ]
    }
   ],
   "source": [
    "# Assign the first 40 characters from the textfile,\n",
    "# emotion.words.txt to the the variable first_forty.\n",
    "\n",
    "file = open(\"emotion_words.txt\", \"r\")\n",
    "first_forty = file.read(40)\n",
    "print(first_forty)"
   ]
  },
  {
   "cell_type": "code",
   "execution_count": 11,
   "metadata": {},
   "outputs": [
    {
     "name": "stdout",
     "output_type": "stream",
     "text": [
      "Total number of words in the file: 48\n",
      "=======\n",
      "Total number of words in the file: 48\n"
     ]
    }
   ],
   "source": [
    "# We have provided a file called emotion_words.txt\n",
    "# that contains lines of words that describe emotions.\n",
    "# Find the total number of words in the file and\n",
    "# assign this value to the variable num_words.\n",
    "\n",
    "num_words = 0\n",
    "file = open(\"emotion_words.txt\")\n",
    "for line in file:\n",
    "    each_line = line.split()\n",
    "    num_words = num_words + len(each_line)\n",
    "\n",
    "print(\"Total number of words in the file:\", num_words)\n",
    "\n",
    "print(\"=======\")\n",
    "\n",
    "num_words_1 = 0\n",
    "file_1 = \"emotion_words.txt\"\n",
    "with open(file_1, 'r') as f:\n",
    "    for line in f:\n",
    "        num_words_1 += len(line.split())\n",
    "    print(\"Total number of words in the file:\", num_words_1)"
   ]
  },
  {
   "cell_type": "code",
   "execution_count": 12,
   "metadata": {},
   "outputs": [
    {
     "name": "stdout",
     "output_type": "stream",
     "text": [
      "Name is from Team and is on the roster for Event\n",
      "A Dijiang is from China and is on the roster for Basketball\n",
      "A Lamusi is from China and is on the roster for Judo\n",
      "Gunnar Nielsen Aaby is from Denmark and is on the roster for Football\n",
      "Edgar Lindenau Aabye is from Denmark/Sweden and is on the roster for Tug-Of-War\n",
      "Christine Jacoba Aaftink is from Netherlands and is on the roster for Speed Skating\n",
      "Christine Jacoba Aaftink is from Netherlands and is on the roster for Speed Skating\n",
      "Christine Jacoba Aaftink is from Netherlands and is on the roster for Speed Skating\n",
      "Christine Jacoba Aaftink is from Netherlands and is on the roster for Speed Skating\n",
      "Christine Jacoba Aaftink is from Netherlands and is on the roster for Speed Skating\n",
      "Christine Jacoba Aaftink is from Netherlands and is on the roster for Speed Skating\n",
      "Per Knut Aaland is from United States and is on the roster for Cross Country Skiing\n",
      "Per Knut Aaland is from United States and is on the roster for Cross Country Skiing\n",
      "Per Knut Aaland is from United States and is on the roster for Cross Country Skiing\n",
      "Per Knut Aaland is from United States and is on the roster for Cross Country Skiing\n",
      "Per Knut Aaland is from United States and is on the roster for Cross Country Skiing\n",
      "Per Knut Aaland is from United States and is on the roster for Cross Country Skiing\n",
      "Per Knut Aaland is from United States and is on the roster for Cross Country Skiing\n",
      "Per Knut Aaland is from United States and is on the roster for Cross Country Skiing\n",
      "John Aalberg is from United States and is on the roster for Cross Country Skiing\n",
      "John Aalberg is from United States and is on the roster for Cross Country Skiing\n",
      "John Aalberg is from United States and is on the roster for Cross Country Skiing\n",
      "John Aalberg is from United States and is on the roster for Cross Country Skiing\n",
      "John Aalberg is from United States and is on the roster for Cross Country Skiing\n",
      "John Aalberg is from United States and is on the roster for Cross Country Skiing\n",
      "John Aalberg is from United States and is on the roster for Cross Country Skiing\n",
      "John Aalberg is from United States and is on the roster for Cross Country Skiing\n",
      "\"Cornelia \"\"Cor\"\" Aalten (-Strannood)\" is from Netherlands and is on the roster for Athletics\n",
      "\"Cornelia \"\"Cor\"\" Aalten (-Strannood)\" is from Netherlands and is on the roster for Athletics\n",
      "Antti Sami Aalto is from Finland and is on the roster for Ice Hockey\n",
      "\"Einar Ferdinand \"\"Einari\"\" Aalto\" is from Finland and is on the roster for Swimming\n",
      "Jorma Ilmari Aalto is from Finland and is on the roster for Cross Country Skiing\n",
      "Jyri Tapani Aalto is from Finland and is on the roster for Badminton\n",
      "Minna Maarit Aalto is from Finland and is on the roster for Sailing\n",
      "Minna Maarit Aalto is from Finland and is on the roster for Sailing\n",
      "Pirjo Hannele Aalto (Mattila-) is from Finland and is on the roster for Biathlon\n",
      "Arvo Ossian Aaltonen is from Finland and is on the roster for Swimming\n",
      "Arvo Ossian Aaltonen is from Finland and is on the roster for Swimming\n",
      "Arvo Ossian Aaltonen is from Finland and is on the roster for Swimming\n",
      "Arvo Ossian Aaltonen is from Finland and is on the roster for Swimming\n",
      "Arvo Ossian Aaltonen is from Finland and is on the roster for Swimming\n",
      "Juhamatti Tapio Aaltonen is from Finland and is on the roster for Ice Hockey\n",
      "Paavo Johannes Aaltonen is from Finland and is on the roster for Gymnastics\n",
      "Paavo Johannes Aaltonen is from Finland and is on the roster for Gymnastics\n",
      "Paavo Johannes Aaltonen is from Finland and is on the roster for Gymnastics\n",
      "Paavo Johannes Aaltonen is from Finland and is on the roster for Gymnastics\n",
      "Paavo Johannes Aaltonen is from Finland and is on the roster for Gymnastics\n",
      "Paavo Johannes Aaltonen is from Finland and is on the roster for Gymnastics\n",
      "Paavo Johannes Aaltonen is from Finland and is on the roster for Gymnastics\n",
      "Paavo Johannes Aaltonen is from Finland and is on the roster for Gymnastics\n",
      "Paavo Johannes Aaltonen is from Finland and is on the roster for Gymnastics\n",
      "Paavo Johannes Aaltonen is from Finland and is on the roster for Gymnastics\n",
      "Paavo Johannes Aaltonen is from Finland and is on the roster for Gymnastics\n",
      "Paavo Johannes Aaltonen is from Finland and is on the roster for Gymnastics\n",
      "Paavo Johannes Aaltonen is from Finland and is on the roster for Gymnastics\n",
      "Paavo Johannes Aaltonen is from Finland and is on the roster for Gymnastics\n",
      "Paavo Johannes Aaltonen is from Finland and is on the roster for Gymnastics\n",
      "Paavo Johannes Aaltonen is from Finland and is on the roster for Gymnastics\n",
      "Timo Antero Aaltonen is from Finland and is on the roster for Athletics\n",
      "Win Valdemar Aaltonen is from Finland and is on the roster for Art Competitions\n"
     ]
    }
   ],
   "source": [
    "olympicsfile = open(\"olympics.txt\", \"r\")\n",
    "\n",
    "for aline in olympicsfile.readlines():\n",
    "    values = aline.split(\",\")\n",
    "    print(values[0], \"is from\", values[3], \"and is on the roster for\", values[4])\n",
    "    \n",
    "olympicsfile.close()"
   ]
  },
  {
   "cell_type": "code",
   "execution_count": 13,
   "metadata": {},
   "outputs": [
    {
     "name": "stdout",
     "output_type": "stream",
     "text": [
      "Name is from Team and is on the roster for Event\n",
      "A Dijiang is from China and is on the roster for Basketball\n",
      "A Lamusi is from China and is on the roster for Judo\n",
      "Gunnar Nielsen Aaby is from Denmark and is on the roster for Football\n",
      "Edgar Lindenau Aabye is from Denmark/Sweden and is on the roster for Tug-Of-War\n",
      "Christine Jacoba Aaftink is from Netherlands and is on the roster for Speed Skating\n",
      "Christine Jacoba Aaftink is from Netherlands and is on the roster for Speed Skating\n",
      "Christine Jacoba Aaftink is from Netherlands and is on the roster for Speed Skating\n",
      "Christine Jacoba Aaftink is from Netherlands and is on the roster for Speed Skating\n",
      "Christine Jacoba Aaftink is from Netherlands and is on the roster for Speed Skating\n",
      "Christine Jacoba Aaftink is from Netherlands and is on the roster for Speed Skating\n",
      "Per Knut Aaland is from United States and is on the roster for Cross Country Skiing\n",
      "Per Knut Aaland is from United States and is on the roster for Cross Country Skiing\n",
      "Per Knut Aaland is from United States and is on the roster for Cross Country Skiing\n",
      "Per Knut Aaland is from United States and is on the roster for Cross Country Skiing\n",
      "Per Knut Aaland is from United States and is on the roster for Cross Country Skiing\n",
      "Per Knut Aaland is from United States and is on the roster for Cross Country Skiing\n",
      "Per Knut Aaland is from United States and is on the roster for Cross Country Skiing\n",
      "Per Knut Aaland is from United States and is on the roster for Cross Country Skiing\n",
      "John Aalberg is from United States and is on the roster for Cross Country Skiing\n",
      "John Aalberg is from United States and is on the roster for Cross Country Skiing\n",
      "John Aalberg is from United States and is on the roster for Cross Country Skiing\n",
      "John Aalberg is from United States and is on the roster for Cross Country Skiing\n",
      "John Aalberg is from United States and is on the roster for Cross Country Skiing\n",
      "John Aalberg is from United States and is on the roster for Cross Country Skiing\n",
      "John Aalberg is from United States and is on the roster for Cross Country Skiing\n",
      "John Aalberg is from United States and is on the roster for Cross Country Skiing\n",
      "\"Cornelia \"\"Cor\"\" Aalten (-Strannood)\" is from Netherlands and is on the roster for Athletics\n",
      "\"Cornelia \"\"Cor\"\" Aalten (-Strannood)\" is from Netherlands and is on the roster for Athletics\n",
      "Antti Sami Aalto is from Finland and is on the roster for Ice Hockey\n",
      "\"Einar Ferdinand \"\"Einari\"\" Aalto\" is from Finland and is on the roster for Swimming\n",
      "Jorma Ilmari Aalto is from Finland and is on the roster for Cross Country Skiing\n",
      "Jyri Tapani Aalto is from Finland and is on the roster for Badminton\n",
      "Minna Maarit Aalto is from Finland and is on the roster for Sailing\n",
      "Minna Maarit Aalto is from Finland and is on the roster for Sailing\n",
      "Pirjo Hannele Aalto (Mattila-) is from Finland and is on the roster for Biathlon\n",
      "Arvo Ossian Aaltonen is from Finland and is on the roster for Swimming\n",
      "Arvo Ossian Aaltonen is from Finland and is on the roster for Swimming\n",
      "Arvo Ossian Aaltonen is from Finland and is on the roster for Swimming\n",
      "Arvo Ossian Aaltonen is from Finland and is on the roster for Swimming\n",
      "Arvo Ossian Aaltonen is from Finland and is on the roster for Swimming\n",
      "Juhamatti Tapio Aaltonen is from Finland and is on the roster for Ice Hockey\n",
      "Paavo Johannes Aaltonen is from Finland and is on the roster for Gymnastics\n",
      "Paavo Johannes Aaltonen is from Finland and is on the roster for Gymnastics\n",
      "Paavo Johannes Aaltonen is from Finland and is on the roster for Gymnastics\n",
      "Paavo Johannes Aaltonen is from Finland and is on the roster for Gymnastics\n",
      "Paavo Johannes Aaltonen is from Finland and is on the roster for Gymnastics\n",
      "Paavo Johannes Aaltonen is from Finland and is on the roster for Gymnastics\n",
      "Paavo Johannes Aaltonen is from Finland and is on the roster for Gymnastics\n",
      "Paavo Johannes Aaltonen is from Finland and is on the roster for Gymnastics\n",
      "Paavo Johannes Aaltonen is from Finland and is on the roster for Gymnastics\n",
      "Paavo Johannes Aaltonen is from Finland and is on the roster for Gymnastics\n",
      "Paavo Johannes Aaltonen is from Finland and is on the roster for Gymnastics\n",
      "Paavo Johannes Aaltonen is from Finland and is on the roster for Gymnastics\n",
      "Paavo Johannes Aaltonen is from Finland and is on the roster for Gymnastics\n",
      "Paavo Johannes Aaltonen is from Finland and is on the roster for Gymnastics\n",
      "Paavo Johannes Aaltonen is from Finland and is on the roster for Gymnastics\n",
      "Paavo Johannes Aaltonen is from Finland and is on the roster for Gymnastics\n",
      "Timo Antero Aaltonen is from Finland and is on the roster for Athletics\n",
      "Win Valdemar Aaltonen is from Finland and is on the roster for Art Competitions\n"
     ]
    }
   ],
   "source": [
    "olympicsfile = open(\"olympics.txt\",\"r\")\n",
    "\n",
    "for aline in olympicsfile:\n",
    "    values = aline.split(\",\")\n",
    "    print(values[0], \"is from\", values[3], \"and is on the roster for\", values[4])\n",
    "\n",
    "olympicsfile.close()"
   ]
  },
  {
   "cell_type": "code",
   "execution_count": 14,
   "metadata": {},
   "outputs": [
    {
     "name": "stdout",
     "output_type": "stream",
     "text": [
      "Total number of lines in the file: 7\n",
      "\n",
      "<------------------->\n",
      "\n",
      "[['Sad upset blue down melancholy somber bitter troubled\\n'], ['Angry mad enraged irate irritable wrathful outraged infuriated\\n'], ['Happy cheerful content elated joyous delighted lively glad\\n'], ['Confused disoriented puzzled perplexed dazed befuddled\\n'], ['Excited eager thrilled delighted\\n'], ['Scared afraid fearful panicked terrified petrified startled\\n'], ['Nervous anxious jittery jumpy tense uneasy apprehensive']]\n",
      "\n",
      "Total number of lines in the file: 7\n"
     ]
    }
   ],
   "source": [
    "file = open(\"emotion_words.txt\")\n",
    "num_lines = 0\n",
    "for line in file.readlines():\n",
    "    num_lines += 1\n",
    "\n",
    "print(\"Total number of lines in the file:\", num_lines)\n",
    "\n",
    "print(\"\\n<------------------->\\n\")\n",
    "\n",
    "file = 'emotion_words.txt'\n",
    "list_1 = []\n",
    "sub_list_1 = list()\n",
    "with open(file, 'r') as f:\n",
    "    for line in f:\n",
    "        sub_list_1.append(line)\n",
    "        list_1.append(sub_list_1)\n",
    "        sub_list_1 = []\n",
    "    f.close()\n",
    "\n",
    "print(list_1)\n",
    "print()\n",
    "print(\"Total number of lines in the file:\", len(list_1))"
   ]
  },
  {
   "cell_type": "code",
   "execution_count": 21,
   "metadata": {},
   "outputs": [
    {
     "name": "stdout",
     "output_type": "stream",
     "text": [
      "['Sad', 'Angry', 'Happy', 'Confused', 'Excited', 'Scared', 'Nervous']\n"
     ]
    }
   ],
   "source": [
    "# Challenge: Create a list called emotions that contains\n",
    "# the first word of every line in emotions_words.txt.\n",
    "\n",
    "f = open(\"emotion_words.txt\", \"r\")\n",
    "line = f.readlines()\n",
    "emotions = []\n",
    "for words in line:\n",
    "    word = words.split()\n",
    "    emotions.append(word[0])\n",
    "print(emotions)"
   ]
  },
  {
   "cell_type": "code",
   "execution_count": 22,
   "metadata": {},
   "outputs": [
    {
     "name": "stdout",
     "output_type": "stream",
     "text": [
      "['1-Kaptan', '2-Demir', '3-Demir', '4-Inanilmaz', '5-Thor', '6-Yenilmezler', '7-Demir', '8-Thor:', '9-Kaptan', '10-Galaksinin', '11-Galaksinin', '12-Yenilmezler:', '13-Karinca', '14-Kaptan', '15-Kara', '16-Örümcek', '17-Doktor', '18-Thor:', '19-Yenilmezler:', '20-Karinca', '21-Kaptan', '22-Yenilmezler:', '23-Örümcek']\n"
     ]
    }
   ],
   "source": [
    "f = open(\"../marvel_films_chronology.txt\", 'r')\n",
    "line = f.readlines()\n",
    "elem = []\n",
    "for words in line:\n",
    "    word = words.split()\n",
    "    elem.append(word[0])\n",
    "print(elem)"
   ]
  },
  {
   "cell_type": "code",
   "execution_count": 23,
   "metadata": {},
   "outputs": [
    {
     "name": "stdout",
     "output_type": "stream",
     "text": [
      "1\n",
      "4\n",
      "9\n",
      "16\n",
      "2\n"
     ]
    }
   ],
   "source": [
    "filename = \"squared_numbers.txt\"\n",
    "outfile = open(filename, \"w\")\n",
    "\n",
    "for number in range(1, 21):\n",
    "    square = number * number\n",
    "    outfile.write(str(square) + \"\\n\")\n",
    "\n",
    "outfile.close()\n",
    "\n",
    "infile = open(filename, \"r\")\n",
    "print(infile.read()[:10])"
   ]
  },
  {
   "cell_type": "code",
   "execution_count": 30,
   "metadata": {},
   "outputs": [
    {
     "name": "stdout",
     "output_type": "stream",
     "text": [
      "1\n",
      "4\n",
      "9\n",
      "16\n",
      "2\n"
     ]
    }
   ],
   "source": [
    "# outfile = open(\"C:/Users/cihan/Desktop/Week12/Files_written/squared_numbers_2.txt\", \"w\")\n",
    "# outfile = open(\"Files_written/squared_numbers_2.txt\", \"w\")\n",
    "filename = 'Files_written/squared_numbers_2.txt'\n",
    "outfile = open(filename, \"r+\")\n",
    "\n",
    "for number in range(1,21):\n",
    "    square = number * number\n",
    "    outfile.write(str(square) + \"\\n\")\n",
    "    \n",
    "outfile.close()\n",
    "infile = open(filename, \"r\")\n",
    "print(infile.read()[:10])"
   ]
  },
  {
   "cell_type": "code",
   "execution_count": 38,
   "metadata": {},
   "outputs": [
    {
     "name": "stdout",
     "output_type": "stream",
     "text": [
      "1\n",
      "2\n",
      "3\n",
      "4\n",
      "5\n",
      "6\n",
      "7\n",
      "8\n",
      "9\n",
      "10\n",
      "\n",
      "\n",
      "['1', '2', '3', '4', '5', '6', '7', '8', '9', '10']\n"
     ]
    }
   ],
   "source": [
    "outfile = open(\"Files_written/numbers.txt\", \"w\")\n",
    "\n",
    "for number in range(1,11):\n",
    "    outfile.write(str(number) + \"\\n\")\n",
    "\n",
    "outfile.close()\n",
    "\n",
    "infile = open(\"Files_written/numbers.txt\", \"r\")\n",
    "\n",
    "outfile_1 = open(\"../squared_numbers_oneline.txt\", \"w\")\n",
    "\n",
    "lines = infile.read()\n",
    "print(lines)\n",
    "print()\n",
    "line = lines.split()\n",
    "print(line)\n",
    "for number in line:\n",
    "    square = int(number) ** 2\n",
    "    outfile_1.write(str(square) + \"\\t\")\n",
    "\n",
    "outfile_1.close()"
   ]
  },
  {
   "cell_type": "code",
   "execution_count": null,
   "metadata": {},
   "outputs": [],
   "source": []
  }
 ],
 "metadata": {
  "kernelspec": {
   "display_name": "Python 3",
   "language": "python",
   "name": "python3"
  },
  "language_info": {
   "codemirror_mode": {
    "name": "ipython",
    "version": 3
   },
   "file_extension": ".py",
   "mimetype": "text/x-python",
   "name": "python",
   "nbconvert_exporter": "python",
   "pygments_lexer": "ipython3",
   "version": "3.7.4"
  }
 },
 "nbformat": 4,
 "nbformat_minor": 2
}
