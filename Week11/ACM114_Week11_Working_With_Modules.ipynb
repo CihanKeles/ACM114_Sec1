{
 "cells": [
  {
   "cell_type": "markdown",
   "metadata": {},
   "source": [
    "# How To Write Modules in Python 3"
   ]
  },
  {
   "cell_type": "markdown",
   "metadata": {},
   "source": [
    "### Introduction "
   ]
  },
  {
   "cell_type": "markdown",
   "metadata": {},
   "source": [
    "Python **modules** are *.py* files that consist of Python code. Any Python file can be referenced as a module.\n",
    "\n",
    "Some modules are available through the **Python Standard Library** and are therefore installed with your Python installation. Others can be *installed* with Python’s package manager **pip**. Additionally, you can create your own Python modules since modules are comprised of Python *.py* files."
   ]
  },
  {
   "cell_type": "markdown",
   "metadata": {},
   "source": [
    "## Writing and Importing Modules"
   ]
  },
  {
   "cell_type": "markdown",
   "metadata": {},
   "source": [
    "Writing a module is just like writing any other Python file. Modules can contain definitions of functions, classes, and variables that can then be utilized in other Python programs.\n",
    "\n",
    "From our Python 3 *local programming environment* or *server-based programming environment*, let’s start by creating a file *hello.py* that we’ll later import into another file.\n",
    "\n",
    "To begin, we’ll create a function that prints **Hello, World!**:"
   ]
  },
  {
   "cell_type": "raw",
   "metadata": {},
   "source": [
    "# Define a function\n",
    "def world():\n",
    "    import time, random, math\n",
    "    time.sleep(2)\n",
    "    print(\"Hello, World!\")\n",
    "    time.sleep(2)\n",
    "    print(\"Coding in Python is exciting!\")\n",
    "    time.sleep(2)\n",
    "    name = input(\"Enter a name: \")\n",
    "    time.sleep(2)\n",
    "    n = random.randint(1,10)\n",
    "    for i in range(1, n + 1):\n",
    "        print(\"Hello\", name)\n",
    "    return 'The ant {0} is in the restricted area as {1:.3f} cm^2'.format(name, math.pi * n ** 2)"
   ]
  },
  {
   "cell_type": "markdown",
   "metadata": {},
   "source": [
    "If we run the program on the command line with **python3 hello.py** nothing will happen since we have not told the program to do anything.\n",
    "\n",
    "Let’s create a second file in the same directory called **main_program.py** so that we can import the module we just created, and then call the function. This file needs to be in the same directory so that Python knows where to find the module since it’s **not a built-in module**."
   ]
  },
  {
   "cell_type": "raw",
   "metadata": {},
   "source": [
    "# Import hello module\n",
    "import hello\n",
    "\n",
    "\n",
    "# Call function\n",
    "print(hello.world())"
   ]
  },
  {
   "cell_type": "markdown",
   "metadata": {},
   "source": [
    "Because we are **importing a module**, we need to call the function by referencing the module name in **dot notation**.\n",
    "\n",
    "We could instead import the module as *from hello import world* and call the function directly as *world()*."
   ]
  },
  {
   "cell_type": "markdown",
   "metadata": {},
   "source": [
    "Now, we can run the program on the command line:"
   ]
  },
  {
   "cell_type": "raw",
   "metadata": {},
   "source": [
    "$ python3 main_program.py\n",
    "\n",
    "for example:\n",
    "\n",
    "C:\\Users\\cihan\\Desktop\\Week11>python3 main_program.py"
   ]
  },
  {
   "cell_type": "markdown",
   "metadata": {},
   "source": [
    "When we do, we’ll receive the following output:"
   ]
  },
  {
   "cell_type": "raw",
   "metadata": {},
   "source": [
    "Hello, World!\n",
    "Coding in Python is exciting!\n",
    "Enter a name: Ali\n",
    "Hello Ali\n",
    "Hello Ali\n",
    "Hello Ali\n",
    "Hello Ali\n",
    "Hello Ali\n",
    "Hello Ali\n",
    "Hello Ali\n",
    "Hello Ali\n",
    "The ant Ali is in the restricted area as 201.062 cm^2"
   ]
  },
  {
   "cell_type": "markdown",
   "metadata": {},
   "source": [
    "To see how we can use variables in a module, let’s add a variable definition in our *hello.py* file:"
   ]
  },
  {
   "cell_type": "raw",
   "metadata": {},
   "source": [
    "# Define a function\n",
    "def world():\n",
    "    import time, random, math\n",
    "    time.sleep(2)\n",
    "    print(\"Hello, World!\")\n",
    "    time.sleep(2)\n",
    "    print(\"Coding in Python is exciting!\")\n",
    "    time.sleep(2)\n",
    "    name = input(\"Enter a name: \")\n",
    "    time.sleep(2)\n",
    "    n = random.randint(1,10)\n",
    "    for i in range(1, n + 1):\n",
    "        print(\"Hello\", name)\n",
    "    return 'The ant {0} is in the restricted area as {1:.3f} cm^2'.format(name, math.pi * n ** 2)\n",
    "\n",
    "# Define a variable\n",
    "ant = \"Rocky\""
   ]
  },
  {
   "cell_type": "markdown",
   "metadata": {},
   "source": [
    "Next, we’ll call the variable in a print() function within our main_program.py file:"
   ]
  },
  {
   "cell_type": "raw",
   "metadata": {},
   "source": [
    "# Import hello module\n",
    "import hello\n",
    "\n",
    "\n",
    "# Call function\n",
    "print(hello.world())\n",
    "\n",
    "# Print variable\n",
    "print(\"------->\", hello.ant)"
   ]
  },
  {
   "cell_type": "markdown",
   "metadata": {},
   "source": [
    "Once we run the program again, we’ll receive the following output:"
   ]
  },
  {
   "cell_type": "raw",
   "metadata": {},
   "source": [
    "Hello, World!\n",
    "Coding in Python is exciting!\n",
    "Enter a name: Ali\n",
    "Hello Ali\n",
    "Hello Ali\n",
    "The ant Ali is in the restricted area as 12.566 cm^2\n",
    "-------> Rocky"
   ]
  },
  {
   "cell_type": "markdown",
   "metadata": {},
   "source": [
    "Finally, let’s also **define a class** in the **hello.py** file. We’ll create the class **Car** with *name*, *model* and *color* attributes and a function that will print out the attributes when called."
   ]
  },
  {
   "cell_type": "raw",
   "metadata": {},
   "source": [
    "# Define a function\n",
    "def world():\n",
    "    import time, random, math\n",
    "    time.sleep(2)\n",
    "    print(\"Hello, World!\")\n",
    "    time.sleep(2)\n",
    "    print(\"Coding in Python is exciting!\")\n",
    "    time.sleep(2)\n",
    "    name = input(\"Enter a name: \")\n",
    "    time.sleep(2)\n",
    "    n = random.randint(1,10)\n",
    "    for i in range(1, n + 1):\n",
    "        print(\"Hello\", name)\n",
    "    return 'The ant {0} is in the restricted area as {1:.3f} cm^2'.format(name, math.pi * n ** 2)\n",
    "\n",
    "# Define a variable\n",
    "ant = \"Rocky\"\n",
    "\n",
    "# Define a class\n",
    "class Car:\n",
    "    def __init__(self, name, model, color):\n",
    "        self.color = color\n",
    "        self.model = model\n",
    "        self.name = name\n",
    "\n",
    "    def tell_me_about_the_car(self):\n",
    "        print(self.name + \" is the brand name of car.\")\n",
    "        print(\"The car's model is\" + self.model + \". What a nice car!\")\n",
    "        print(\"This car is \" + self.color + \".\")"
   ]
  },
  {
   "cell_type": "markdown",
   "metadata": {},
   "source": [
    "We’ll now add the class to the end of our **main_program.py** file:"
   ]
  },
  {
   "cell_type": "raw",
   "metadata": {},
   "source": [
    "# Import hello module\n",
    "import hello\n",
    "\n",
    "\n",
    "# Call function\n",
    "print(hello.world())\n",
    "\n",
    "# Print variable\n",
    "print(\"------->\", hello.ant)\n",
    "\n",
    "# Call class\n",
    "the_machine = hello.Car(\"Ford Mustang\", \"1967 Fastback\", \"night blue\")\n",
    "the_machine.tell_me_about_the_car()\n",
    "print(the_machine.color)"
   ]
  },
  {
   "cell_type": "markdown",
   "metadata": {},
   "source": [
    "Once we have called the **Car** class with **hello.Car()**, we can access the functions and attributes of the class within the **main_program.py** file’s namespace. This lets us write **the_machine.tell_me_about_the_car()** on the last line without invoking **hello**. We could also, for example, call one of the class’s attributes such as **the_machine.color** without referencing the name of the hello module.\n",
    "\n",
    "When we run the program, we’ll receive the following output:"
   ]
  },
  {
   "cell_type": "raw",
   "metadata": {},
   "source": [
    "Hello, World!\n",
    "Coding in Python is exciting!\n",
    "Enter a name: Ali\n",
    "Hello Ali\n",
    "Hello Ali\n",
    "Hello Ali\n",
    "Hello Ali\n",
    "Hello Ali\n",
    "The ant Ali is in the restricted area as 78.540 cm^2\n",
    "-------> Rocky\n",
    "Ford Mustang is the brand name of car.\n",
    "The car's model is 1967 Fastback. What a nice car!\n",
    "This car is night blue.\n",
    "night blue"
   ]
  },
  {
   "cell_type": "markdown",
   "metadata": {},
   "source": [
    "It is important to keep in mind that though modules are often definitions, they can also implement code. To see how this works, let’s rewrite our **hello2.py** file so that it implements the **world()** and **root()** functions:"
   ]
  },
  {
   "cell_type": "raw",
   "metadata": {},
   "source": [
    "# Define a function\n",
    "def world():\n",
    "    print(\"Hello, World!\")\n",
    "\n",
    "def root(number):\n",
    "    return \"The square root of %d is: %.2f\" %(number, number ** 0.5)\n",
    "\n",
    "# Call function within module\n",
    "world()\n",
    "print()\n",
    "print(\"Enter an integer to calculate it's square root: \", end = '')\n",
    "n = int(input())\n",
    "print(root(n))"
   ]
  },
  {
   "cell_type": "markdown",
   "metadata": {},
   "source": [
    "Now, we create a new file as **main_program_2.py** file, we’ll ignore every line except for the **import** statement for this file:"
   ]
  },
  {
   "cell_type": "raw",
   "metadata": {},
   "source": [
    "# Import hello module\n",
    "import hello"
   ]
  },
  {
   "cell_type": "markdown",
   "metadata": {},
   "source": [
    "When we run **main_program_2.py** we’ll receive the following output:"
   ]
  },
  {
   "cell_type": "raw",
   "metadata": {},
   "source": [
    "Hello, World!\n",
    "\n",
    "Enter an integer to calculate it's square root: 6\n",
    "The square root of 6 is: 2.45"
   ]
  },
  {
   "cell_type": "markdown",
   "metadata": {},
   "source": [
    "This is because the **hello2** module implemented the **world()** and **root()** functions which are then passed to **main_program_2.py** and executes when **main_program_2.py** runs.\n",
    "\n",
    "A module is a Python program file composed of definitions or code that you can leverage in other Python program files."
   ]
  },
  {
   "cell_type": "markdown",
   "metadata": {},
   "source": [
    "## Accessing Modules from Another Directory"
   ]
  },
  {
   "cell_type": "markdown",
   "metadata": {},
   "source": [
    "Modules may be useful for more than one programming project, and in that case it makes less sense to keep a module in a particular directory that’s tied to a specific project.\n",
    "\n",
    "If you want to use a Python module from a location other than the same directory where your main program is, you have a few options."
   ]
  },
  {
   "cell_type": "markdown",
   "metadata": {},
   "source": [
    "### Appending Paths"
   ]
  },
  {
   "cell_type": "markdown",
   "metadata": {},
   "source": [
    "One option is to invoke **the path of the module** via the programming files that use that module. This should be considered more of **a temporary solution** that can be done during the development process as *it does not make the module available system-wide*.\n",
    "\n",
    "To append the path of a module to another programming file, you’ll start by importing the **sys module** alongside any other modules you wish to use in your main program file.\n",
    "\n",
    "The **sys module** is part of the **Python Standard Library** and provides system-specific parameters and functions that you can use in your program to set the path of the module you wish to implement.\n",
    "\n",
    "For example, let’s say we created and moved the **hello3.py** file and it is now on the path **C:/Users/cihan/Desktop/Module_example** while the **main_program_3.py** file is in another directory. **(for example; C:\\Users\\cihan\\Desktop\\Week11 as Windows path notation)**"
   ]
  },
  {
   "cell_type": "markdown",
   "metadata": {},
   "source": [
    "**hello3.py** file can be created as follows:"
   ]
  },
  {
   "cell_type": "raw",
   "metadata": {},
   "source": [
    "# Define a function\n",
    "def helloworld():\n",
    "    print(\"Hello, World!\")\n",
    "\n",
    "def cube(number):\n",
    "    return \"The square root of {0} is: {1}\".format(number, number ** 3)\n",
    "\n",
    "# Call function within module\n",
    "helloworld()\n",
    "print()\n",
    "print(\"Enter an integer to calculate it's cube: \", end = '')\n",
    "m = int(input())\n",
    "print(cube(m))"
   ]
  },
  {
   "cell_type": "markdown",
   "metadata": {},
   "source": [
    "**main_program_3.py** file can be created as follows:"
   ]
  },
  {
   "cell_type": "raw",
   "metadata": {},
   "source": [
    "import sys\n",
    "sys.path.append('C:/Users/cihan/Desktop/Module_example')\n",
    "\n",
    "import hello3"
   ]
  },
  {
   "cell_type": "markdown",
   "metadata": {},
   "source": [
    "As long as you correctly set the path for the **hello3.py** file, you’ll be able to run the **main_program_3.py** file without *any errors* and receive the output as follows:"
   ]
  },
  {
   "cell_type": "raw",
   "metadata": {},
   "source": [
    "Hello, World!\n",
    "\n",
    "Enter an integer to calculate it's cube: 5\n",
    "The square root of 5 is: 125"
   ]
  },
  {
   "cell_type": "markdown",
   "metadata": {},
   "source": [
    "## Adding the Module to the Python Path"
   ]
  },
  {
   "cell_type": "markdown",
   "metadata": {},
   "source": [
    "A second option that you have is to add the module to the path where Python checks for modules and packages. This is a more **permanent solution** that makes the module available *environment-wide* or *system-wide*, making this method more **portable**.\n",
    "\n",
    "To find out what path Python checks, run the Python interpreter from your programming environment:"
   ]
  },
  {
   "cell_type": "raw",
   "metadata": {},
   "source": [
    "$ python3 \n",
    "or\n",
    "$ python\n",
    "\n",
    "for example:\n",
    "C:\\Users\\cihan\\Desktop\\Week11>python3"
   ]
  },
  {
   "cell_type": "markdown",
   "metadata": {},
   "source": [
    "Next, import the **sys module**:"
   ]
  },
  {
   "cell_type": "raw",
   "metadata": {},
   "source": [
    ">>> import sys"
   ]
  },
  {
   "cell_type": "markdown",
   "metadata": {},
   "source": [
    "Then have Python print out the system path:"
   ]
  },
  {
   "cell_type": "raw",
   "metadata": {},
   "source": [
    ">>> print(sys.path)"
   ]
  },
  {
   "cell_type": "markdown",
   "metadata": {},
   "source": [
    "Here, you’ll receive some outputs with at least system paths. If you’re in a programming environment, you may receive several. You’ll want to look for the one that is in the environment you’re currently using, but you may also want to add the module to *your main system Python path*. What you’re looking for will be similar to this:"
   ]
  },
  {
   "cell_type": "raw",
   "metadata": {},
   "source": [
    "'C:\\\\Users\\\\cihan\\\\AppData\\\\Local\\\\Programs\\\\Python\\\\Python38\\\\lib\\\\site-packages'"
   ]
  },
  {
   "cell_type": "markdown",
   "metadata": {},
   "source": [
    "You can create **hello4.py** file that has the same codes with **hello3.py** file:"
   ]
  },
  {
   "cell_type": "raw",
   "metadata": {},
   "source": [
    "# Define a function\n",
    "def helloworld():\n",
    "    print(\"Hello, World!\")\n",
    "\n",
    "def cube(number):\n",
    "    return \"The square root of {0} is: {1}\".format(number, number ** 3)\n",
    "\n",
    "# Call function within module\n",
    "helloworld()\n",
    "print()\n",
    "print(\"Enter an integer to calculate it's cube: \", end = '')\n",
    "m = int(input())\n",
    "print(cube(m))"
   ]
  },
  {
   "cell_type": "markdown",
   "metadata": {},
   "source": [
    "Now you can move your **hello4.py** file into that directory. Once that is complete, you can import the **hello4 module** in the **main_program_4.py** as usual:"
   ]
  },
  {
   "cell_type": "raw",
   "metadata": {},
   "source": [
    "import hello4"
   ]
  },
  {
   "cell_type": "markdown",
   "metadata": {},
   "source": [
    "When you run your program, it should complete without error.\n",
    "\n",
    "C:\\Users\\cihan\\Desktop\\Week11>python3 main_program_4.py\n",
    "\n",
    "You can run the **main_program_4.py** file as above and receive the output as follows:"
   ]
  },
  {
   "cell_type": "raw",
   "metadata": {},
   "source": [
    "Hello, World!\n",
    "\n",
    "Enter an integer to calculate it's cube: 7\n",
    "The square root of 7 is: 343"
   ]
  },
  {
   "cell_type": "markdown",
   "metadata": {},
   "source": [
    "Modifying the path of your module can ensure that you can access the module regardless of **what directory you are in**. This is useful especially if you have more than one project referencing a particular module."
   ]
  },
  {
   "cell_type": "code",
   "execution_count": null,
   "metadata": {},
   "outputs": [],
   "source": []
  }
 ],
 "metadata": {
  "kernelspec": {
   "display_name": "Python 3",
   "language": "python",
   "name": "python3"
  },
  "language_info": {
   "codemirror_mode": {
    "name": "ipython",
    "version": 3
   },
   "file_extension": ".py",
   "mimetype": "text/x-python",
   "name": "python",
   "nbconvert_exporter": "python",
   "pygments_lexer": "ipython3",
   "version": "3.7.4"
  }
 },
 "nbformat": 4,
 "nbformat_minor": 2
}
