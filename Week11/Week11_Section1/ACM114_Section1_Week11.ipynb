{
 "cells": [
  {
   "cell_type": "code",
   "execution_count": 1,
   "metadata": {},
   "outputs": [],
   "source": [
    "from turtle import *\n",
    "\n",
    "def makeRectangle(myTurtle, x, y):\n",
    "    myTurtle.forward(x)\n",
    "    myTurtle.left(90)\n",
    "    myTurtle.forward(y)\n",
    "    myTurtle.left(90)\n",
    "    myTurtle.forward(x)\n",
    "    myTurtle.left(90)\n",
    "    myTurtle.forward(y)\n",
    "    \n",
    "space = Screen()\n",
    "corona = Turtle()\n",
    "\n",
    "number_of_squares = int(input(\"Enter the size of N: \"))\n",
    "for i in range(number_of_squares):\n",
    "    for i in range(number_of_squares):\n",
    "        makeRectangle(corona, 50, 50)\n",
    "        corona.left(90)\n",
    "        corona.forward(50)\n",
    "    corona.left(180)\n",
    "    corona.forward(50*number_of_squares)\n",
    "    corona.left(90)\n",
    "    corona.forward(50)\n",
    "    corona.left(90)\n",
    "    \n",
    "# to delete the reduntant\n",
    "corona.left(90)\n",
    "corona.color('white')\n",
    "corona.forward(50)"
   ]
  },
  {
   "cell_type": "code",
   "execution_count": null,
   "metadata": {},
   "outputs": [],
   "source": [
    "from turtle import *\n",
    "\n",
    "def makeRectangle(myTurtle, x, y):\n",
    "    myTurtle.forward(x)\n",
    "    myTurtle.left(90)\n",
    "    myTurtle.forward(y)\n",
    "    myTurtle.left(90)\n",
    "    myTurtle.forward(x)\n",
    "    myTurtle.left(90)\n",
    "    myTurtle.forward(y)\n",
    "    \n",
    "space = Screen()\n",
    "corona = Turtle()\n",
    "\n",
    "color_list = ['red', 'blue', 'black', 'magenta', 'cyan', 'brown', 'lightblue']\n",
    "for i in range(10):\n",
    "    next_color = colors_list[(i) % len(colors_list)]\n",
    "    corona.pensize(i**1.5)\n",
    "    corona.color(next_color)\n",
    "    makeRectangle(corona, 50, 100)\n",
    "    corona.left(100)"
   ]
  }
 ],
 "metadata": {
  "kernelspec": {
   "display_name": "Python 3",
   "language": "python",
   "name": "python3"
  },
  "language_info": {
   "codemirror_mode": {
    "name": "ipython",
    "version": 3
   },
   "file_extension": ".py",
   "mimetype": "text/x-python",
   "name": "python",
   "nbconvert_exporter": "python",
   "pygments_lexer": "ipython3",
   "version": "3.7.4"
  }
 },
 "nbformat": 4,
 "nbformat_minor": 2
}
