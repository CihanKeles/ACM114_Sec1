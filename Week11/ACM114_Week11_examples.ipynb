{
 "cells": [
  {
   "cell_type": "markdown",
   "metadata": {},
   "source": [
    "# Examples for Turtle Module "
   ]
  },
  {
   "cell_type": "markdown",
   "metadata": {},
   "source": [
    "**1. Write a turtle function that draw a rectangle.**"
   ]
  },
  {
   "cell_type": "code",
   "execution_count": 1,
   "metadata": {},
   "outputs": [],
   "source": [
    "from turtle import *\n",
    "\n",
    "def makeRectangle(myTurtle,x,y):\n",
    "    myTurtle.forward(x)\n",
    "    myTurtle.left(90)\n",
    "    myTurtle.forward(y)\n",
    "    myTurtle.left(90)\n",
    "    myTurtle.forward(x)\n",
    "    myTurtle.left(90)\n",
    "    myTurtle.forward(y)\n",
    "\n",
    "space = Screen()\n",
    "corona = Turtle()\n",
    "makeRectangle(corona,40,80)\n",
    "\n",
    "#makeRectangle(corona,40,40)\n",
    "#makeRectangle(corona,80,80)\n",
    "#makeRectangle(corona,60,60)"
   ]
  },
  {
   "cell_type": "markdown",
   "metadata": {},
   "source": [
    "**2. Write a turtle function that draws an equilateral triangle.**"
   ]
  },
  {
   "cell_type": "code",
   "execution_count": 1,
   "metadata": {},
   "outputs": [],
   "source": [
    "from turtle import *\n",
    "\n",
    "def makeEquilateralTriangle(myTurtle,x):\n",
    "    myTurtle.forward(x)\n",
    "    myTurtle.left(120)\n",
    "    myTurtle.forward(x)\n",
    "    myTurtle.left(120)\n",
    "    myTurtle.forward(x)\n",
    "\n",
    "space = Screen()\n",
    "corona = Turtle()\n",
    "makeEquilateralTriangle(corona,80)"
   ]
  },
  {
   "cell_type": "markdown",
   "metadata": {},
   "source": [
    "**3. Draw a square if the user enters \"square\" and draw a triangle if \"user\" enters \"triangle\". Ask the user for the required length values as inputs for the square and triangle. Use the functions you wrote in the previous questions.**"
   ]
  },
  {
   "cell_type": "code",
   "execution_count": 2,
   "metadata": {},
   "outputs": [
    {
     "name": "stdout",
     "output_type": "stream",
     "text": [
      "square or trianglesquare\n",
      "Enter the length of side: 100\n"
     ]
    }
   ],
   "source": [
    "from turtle import *\n",
    "\n",
    "def makeRectangle(myTurtle,x,y):\n",
    "    myTurtle.forward(x)\n",
    "    myTurtle.left(90)\n",
    "    myTurtle.forward(y)\n",
    "    myTurtle.left(90)\n",
    "    myTurtle.forward(x)\n",
    "    myTurtle.left(90)\n",
    "    myTurtle.forward(y)\n",
    "\n",
    "def makeEquilateralTriangle(myTurtle,x):\n",
    "    myTurtle.forward(x)\n",
    "    myTurtle.left(120)\n",
    "    myTurtle.forward(x)\n",
    "    myTurtle.left(120)\n",
    "    myTurtle.forward(x)\n",
    "\n",
    "space = Screen()\n",
    "corona = Turtle()\n",
    "\n",
    "choice = input(\"square or triangle\")\n",
    "\n",
    "if choice == \"square\":\n",
    "    x = int(input(\"Enter the length of side: \"))\n",
    "    makeRectangle(corona,x,x)\n",
    "elif choice == \"triangle\":\n",
    "    x = int(input(\"Enter the length of side: \"))\n",
    "    makeEquilateralTriangle(corona,x)\n",
    "else:\n",
    "    print(\"incorrect input\")"
   ]
  },
  {
   "cell_type": "markdown",
   "metadata": {},
   "source": [
    "**4. If we call the function of making the rectangle 4 times in a row with the same values, what do we see on the screen?**"
   ]
  },
  {
   "cell_type": "code",
   "execution_count": 1,
   "metadata": {},
   "outputs": [],
   "source": [
    "from turtle import *\n",
    "\n",
    "def makeRectangle(myTurtle,x,y):\n",
    "    myTurtle.forward(x)\n",
    "    myTurtle.left(90)\n",
    "    myTurtle.forward(y)\n",
    "    myTurtle.left(90)\n",
    "    myTurtle.forward(x)\n",
    "    myTurtle.left(90)\n",
    "    myTurtle.forward(y)\n",
    "\n",
    "space = Screen()\n",
    "corona = Turtle()\n",
    "\n",
    "makeRectangle(corona,40,80)\n",
    "makeRectangle(corona,40,80)\n",
    "makeRectangle(corona,40,80)\n",
    "makeRectangle(corona,40,80)"
   ]
  },
  {
   "cell_type": "markdown",
   "metadata": {},
   "source": [
    "**5. What would it draw on the screen if we called 10 times consecutively rather than 4 times? If we wanted to get a result similar to the figure below, how should we edit the code?**"
   ]
  },
  {
   "cell_type": "markdown",
   "metadata": {},
   "source": [
    "<img src=\"http://foo.yeditepe.edu.tr/runestone/static/StudentCSP/_images/5.png\" alt=\"example\" title=\"example figure\" />"
   ]
  },
  {
   "cell_type": "code",
   "execution_count": 1,
   "metadata": {},
   "outputs": [],
   "source": [
    "from turtle import *\n",
    "\n",
    "def makeRectangle(myTurtle,x,y):\n",
    "    myTurtle.forward(x)\n",
    "    myTurtle.left(90)\n",
    "    myTurtle.forward(y)\n",
    "    myTurtle.left(90)\n",
    "    myTurtle.forward(x)\n",
    "    myTurtle.left(90)\n",
    "    myTurtle.forward(y)\n",
    "\n",
    "space = Screen()\n",
    "corona = Turtle()\n",
    "\n",
    "for i in range(20):\n",
    "    makeRectangle(corona,40,80)\n",
    "    corona.left(100)"
   ]
  },
  {
   "cell_type": "markdown",
   "metadata": {},
   "source": [
    "**6. How would we go if we wanted to change the color of the rectangles and the size of the lines?**"
   ]
  },
  {
   "cell_type": "code",
   "execution_count": 1,
   "metadata": {},
   "outputs": [],
   "source": [
    "from turtle import *\n",
    "\n",
    "def makeRectangle(myTurtle,x,y):\n",
    "    myTurtle.forward(x)\n",
    "    myTurtle.left(90)\n",
    "    myTurtle.forward(y)\n",
    "    myTurtle.left(90)\n",
    "    myTurtle.forward(x)\n",
    "    myTurtle.left(90)\n",
    "    myTurtle.forward(y)\n",
    "\n",
    "space = Screen()\n",
    "corona = Turtle()\n",
    "\n",
    "colors = ['black','red','blue','yellow']\n",
    "for i in range(5):\n",
    "    nextColor = colors[(i) % len(colors)]\n",
    "    corona.pensize(i*5)\n",
    "    corona.color(nextColor)\n",
    "    makeRectangle(corona,40,80)\n",
    "    corona.left(100)"
   ]
  },
  {
   "cell_type": "markdown",
   "metadata": {},
   "source": [
    "**7. Let's draw a game board of N X N.**"
   ]
  },
  {
   "cell_type": "code",
   "execution_count": 1,
   "metadata": {},
   "outputs": [
    {
     "name": "stdout",
     "output_type": "stream",
     "text": [
      "Enter the size of N: 3\n"
     ]
    }
   ],
   "source": [
    "from turtle import *\n",
    "\n",
    "def makeRectangle(myTurtle,x,y):\n",
    "    myTurtle.forward(x)\n",
    "    myTurtle.left(90)\n",
    "    myTurtle.forward(y)\n",
    "    myTurtle.left(90)\n",
    "    myTurtle.forward(x)\n",
    "    myTurtle.left(90)\n",
    "    myTurtle.forward(y)\n",
    "\n",
    "space = Screen()\n",
    "corona = Turtle()\n",
    "\n",
    "numberOfSquares = int(input(\"Enter the size of N: \"))\n",
    "for i in range(numberOfSquares):\n",
    "    for i in range(numberOfSquares):\n",
    "        makeRectangle(corona,40,40)\n",
    "        corona.left(90)\n",
    "        corona.forward(40)\n",
    "    corona.left(180)\n",
    "    corona.forward(40*numberOfSquares)\n",
    "    corona.left(90)\n",
    "    corona.forward(40)\n",
    "    corona.left(90)\n",
    "\n",
    "# to delete the redundant\n",
    "corona.left(90)\n",
    "corona.color('white')\n",
    "corona.forward(40)"
   ]
  },
  {
   "cell_type": "markdown",
   "metadata": {},
   "source": [
    "# Examples for Image Module"
   ]
  },
  {
   "cell_type": "markdown",
   "metadata": {},
   "source": [
    "## Cropping Process"
   ]
  },
  {
   "cell_type": "markdown",
   "metadata": {},
   "source": [
    "Cropping is the action to cut a part of the image to reframe it. In order to crop an image, we need to copy in a new image the pixels we want to keep. Let **start** be the coordinate of *the upper-left corner* and **end** the coordinate of *the bottom-right corner*. The pixel at coordinate (x, y) in the new image is equal to the pixel located at coordinate (x + start.x, y + start.y) in the old image."
   ]
  },
  {
   "cell_type": "code",
   "execution_count": 127,
   "metadata": {},
   "outputs": [
    {
     "name": "stdout",
     "output_type": "stream",
     "text": [
      "<PixelAccess object at 0x00000277D75E6050>\n",
      "(940, 623)\n",
      "940 623\n",
      "425 300\n"
     ]
    }
   ],
   "source": [
    "from PIL import Image, ImageDraw\n",
    "\n",
    "# print(help(Image))\n",
    "# print()\n",
    "# print(help(ImageDraw))\n",
    "\n",
    "# Load image:\n",
    "input_image = Image.open(\"1967_ford_mustang_fastback.jpg\")\n",
    "input_pixels = input_image.load()\n",
    "print(input_pixels)\n",
    "\n",
    "print(input_image.size)\n",
    "print(input_image.width, input_image.height)\n",
    "\n",
    "# Cropped area\n",
    "start = (500, 200)\n",
    "end = (925, 500)\n",
    "\n",
    "# Create output image\n",
    "output_image = Image.new(\"RGB\", (end[0] - start[0], end[1] - start[1]))\n",
    "draw = ImageDraw.Draw(output_image)\n",
    "\n",
    "print(output_image.width, output_image.height)\n",
    "\n",
    "# Copy pixels\n",
    "for x in range(output_image.width):\n",
    "    for y in range(output_image.height):\n",
    "        xp, yp = x + start[0], y + start[1]\n",
    "        # print(x, y, xp, yp)\n",
    "        draw.point((x, y), input_pixels[xp, yp])\n",
    "\n",
    "output_image.save(\"1967_ford_mustang_fastback_cropped.jpg\")"
   ]
  },
  {
   "cell_type": "markdown",
   "metadata": {},
   "source": [
    "## Scaling Process"
   ]
  },
  {
   "cell_type": "markdown",
   "metadata": {},
   "source": [
    "Scaling is used to change the size of the image. It can be a scale down or up. There are several methods available to interpolate the pixels. We will use the simplest possible algorithm: **Nearest Neighbor**. Feel free to implement other algorithms such as the Bilinear algorithm, Box sampling, Fourier transform...\n",
    "\n",
    "To compute the rescaled image, we need the ratio for both **horizontal** and **vertical axes**: x_ratio = old_img.x / new_img.x and y_ratio = old_img.y / new_img.y. The pixel at coordinate (x, y) in the new image is equal to the pixel that is located at coordinate (floor(x * x_ratio), floor(y * y_ratio))."
   ]
  },
  {
   "cell_type": "code",
   "execution_count": 6,
   "metadata": {},
   "outputs": [
    {
     "name": "stdout",
     "output_type": "stream",
     "text": [
      "Help on built-in function floor in module math:\n",
      "\n",
      "floor(x, /)\n",
      "    Return the floor of x as an Integral.\n",
      "    \n",
      "    This is the largest integer <= x.\n",
      "\n",
      "None\n",
      "(940, 623)\n",
      "940 623\n",
      "470 310\n",
      "2.0 2.009677419354839\n",
      "2 2\n"
     ]
    }
   ],
   "source": [
    "from PIL import Image, ImageDraw\n",
    "from math import floor\n",
    "\n",
    "print(help(floor))\n",
    "\n",
    "# Load image:\n",
    "input_image = Image.open(\"1967_ford_mustang_fastback.jpg\")\n",
    "input_pixels = input_image.load()\n",
    "\n",
    "print(input_image.size)\n",
    "new_size = (470, 310)\n",
    "\n",
    "# Create output image\n",
    "output_image = Image.new(\"RGB\", new_size)\n",
    "draw = ImageDraw.Draw(output_image)\n",
    "\n",
    "print(input_image.width, input_image.height)\n",
    "print(output_image.width, output_image.height)\n",
    "\n",
    "x_scale = input_image.width / output_image.width\n",
    "y_scale = input_image.height / output_image.height\n",
    "\n",
    "print(x_scale, y_scale)\n",
    "print(floor(x_scale), floor(y_scale))\n",
    "\n",
    "# Copy pixels\n",
    "for x in range(output_image.width):\n",
    "    for y in range(output_image.height):\n",
    "        xp, yp = floor(x * x_scale), floor(y * y_scale)\n",
    "        # print(xp, yp)\n",
    "        # print(input_pixels[xp, yp])\n",
    "        draw.point((x, y), input_pixels[xp, yp])\n",
    "\n",
    "output_image.save(\"1967_ford_mustang_fastback_scaled.jpg\")"
   ]
  },
  {
   "cell_type": "markdown",
   "metadata": {},
   "source": [
    "## Flipping Process"
   ]
  },
  {
   "cell_type": "markdown",
   "metadata": {},
   "source": [
    "A flip **(mirror effect)** is done by reversing the pixels horizontally or vertically. For instance, for an *horizontal flip*, the pixel situated at coordinate (x, y) will be situated at coordinate (width - x - 1, y) in the new image."
   ]
  },
  {
   "cell_type": "code",
   "execution_count": 4,
   "metadata": {},
   "outputs": [
    {
     "name": "stdout",
     "output_type": "stream",
     "text": [
      "(940, 623)\n",
      "940 623\n"
     ]
    }
   ],
   "source": [
    "from PIL import Image, ImageDraw\n",
    "\n",
    "# Load image:\n",
    "input_image = Image.open(\"1967_ford_mustang_fastback.jpg\")\n",
    "input_pixels = input_image.load()\n",
    "\n",
    "# Create output image\n",
    "output_image = Image.new(\"RGB\", input_image.size)\n",
    "draw = ImageDraw.Draw(output_image)\n",
    "\n",
    "print(output_image.size)\n",
    "print(output_image.width, output_image.height)\n",
    "\n",
    "# Copy pixels\n",
    "for x in range(output_image.width):\n",
    "    for y in range(output_image.height):\n",
    "        xp = input_image.width - x - 1\n",
    "        # print(xp)\n",
    "        draw.point((x, y), input_pixels[xp, y])\n",
    "\n",
    "output_image.save(\"1967_ford_mustang_fastback_flipped.jpg\")"
   ]
  },
  {
   "cell_type": "markdown",
   "metadata": {},
   "source": [
    "## Rotating Process"
   ]
  },
  {
   "cell_type": "markdown",
   "metadata": {},
   "source": [
    "The algorithm used for a rotation is similar to a flip: to compute the new image, we iterate over all the pixels and print the corresponding pixel from the source image.\n",
    "\n",
    "The point situated at the coordinates (x, y) in the new image is equal to the point (xp, yp) in the input image:"
   ]
  },
  {
   "cell_type": "raw",
   "metadata": {},
   "source": [
    "xp = x * cos(angle) - y * sin(angle)\n",
    "yp = x * sin(angle) + y * cos(angle)"
   ]
  },
  {
   "cell_type": "markdown",
   "metadata": {},
   "source": [
    "If (xp, yp) is out of the input image, it is ignored **(black pixel)**.\n",
    "\n",
    "This can be used to do a rotation, however, the center of the rotation will be at coordinate (0, 0). In order to change the coordinates of the center of the rotation, we need to shift the coordinates before the rotation and after the rotation:"
   ]
  },
  {
   "cell_type": "raw",
   "metadata": {},
   "source": [
    "xp = (x - center_x) * cos(angle) - (y - center_y) * sin(angle) + center_x\n",
    "yp = (x - center_x) * sin(angle) + (y - center_y) * cos(angle) + center_y"
   ]
  },
  {
   "cell_type": "code",
   "execution_count": 16,
   "metadata": {},
   "outputs": [
    {
     "name": "stdout",
     "output_type": "stream",
     "text": [
      "(940, 623)\n",
      "940 623\n",
      "1.0471975511965976 470.0 311.5\n",
      "0.8660254037844386 0.5000000000000001\n"
     ]
    }
   ],
   "source": [
    "from PIL import Image, ImageDraw\n",
    "from math import sin, cos, pi\n",
    "\n",
    "# Load image:\n",
    "input_image = Image.open(\"1967_ford_mustang_fastback.jpg\")\n",
    "input_pixels = input_image.load()\n",
    "\n",
    "# Create output image\n",
    "output_image = Image.new(\"RGB\", input_image.size)\n",
    "draw = ImageDraw.Draw(output_image)\n",
    "\n",
    "angle = pi / 3  # angle in radian\n",
    "center_x = input_image.width / 2\n",
    "center_y = input_image.height / 2\n",
    "\n",
    "print(input_image.size)\n",
    "print(input_image.width, input_image.height)\n",
    "print(angle, center_x, center_y)\n",
    "print(sin(angle), cos(angle))\n",
    "\n",
    "# Copy pixels\n",
    "for x in range(input_image.width):\n",
    "    for y in range(input_image.height):\n",
    "        # Compute coordinate in input image\n",
    "        xp = int((x - center_x) * cos(angle) - (y - center_y) * sin(angle) + center_x)\n",
    "        yp = int((x - center_x) * sin(angle) + (y - center_y) * cos(angle) + center_y)\n",
    "        # print(xp, yp)\n",
    "        if 0 <= xp < input_image.width and 0 <= yp < input_image.height:\n",
    "            draw.point((x, y), input_pixels[xp, yp])\n",
    "\n",
    "output_image.save(\"1967_ford_mustang_fastback_rotated.jpg\")"
   ]
  },
  {
   "cell_type": "markdown",
   "metadata": {},
   "source": [
    "## Luminosity Process"
   ]
  },
  {
   "cell_type": "markdown",
   "metadata": {},
   "source": [
    "Changing the **luminosity** of a picture in a **RGB** mode can be done by adding a constant to each color component. However, this is a very simplified algorithm: the perceived luminosity has not an easy definition and there are several ways to estimate the luminosity of a pixel. Note that it is also possible to change from **RGB** to **HSL** (Hue, Saturation, Lightness) to modify the luminosity easily."
   ]
  },
  {
   "cell_type": "code",
   "execution_count": 1,
   "metadata": {},
   "outputs": [],
   "source": [
    "from PIL import Image, ImageDraw\n",
    "\n",
    "# Change this:\n",
    "luminosity = 100\n",
    "\n",
    "# Load image:\n",
    "input_image = Image.open(\"1967_ford_mustang_fastback.jpg\")\n",
    "input_pixels = input_image.load()\n",
    "\n",
    "# Create output image\n",
    "output_image = Image.new(\"RGB\", input_image.size)\n",
    "draw = ImageDraw.Draw(output_image)\n",
    "\n",
    "# Generate image\n",
    "for x in range(output_image.width):\n",
    "    for y in range(output_image.height):\n",
    "        r, g, b = input_pixels[x, y]\n",
    "        # print(input_pixels[x, y], r, g, b)\n",
    "        r = int(r + luminosity)\n",
    "        g = int(g + luminosity)\n",
    "        b = int(b + luminosity)\n",
    "        # print(r, g, b)\n",
    "        draw.point((x, y), (r, g, b))\n",
    "\n",
    "output_image.save(\"1967_ford_mustang_fastback_luminosity.jpg\")"
   ]
  },
  {
   "cell_type": "markdown",
   "metadata": {},
   "source": [
    "## Contrast Process"
   ]
  },
  {
   "cell_type": "markdown",
   "metadata": {},
   "source": [
    "The **contrast** is the difference in brightness (or color) that makes the objects in a picture distinguishable. The intensity histogram of an image is the distribution of pixel luminance for an image. In order to improve the contrast, we can use a linear normalization of the intensity histogram:\n",
    "\n",
    "$$\n",
    "\\begin{array}{c}\n",
    "I_N = (I - Imin)*[255/(Imax - Imin)]\n",
    "\\end{array}\n",
    "$$"
   ]
  },
  {
   "cell_type": "markdown",
   "metadata": {},
   "source": [
    "where $I_N$ is the *normalized pixel intensity*, $Imin$ and $Imax$ are the *minimum* and *maximum intensity* **(before normalization)**."
   ]
  },
  {
   "cell_type": "code",
   "execution_count": 6,
   "metadata": {},
   "outputs": [],
   "source": [
    "from PIL import Image, ImageDraw\n",
    "\n",
    "# Load image:\n",
    "input_image = Image.open(\"1967_ford_mustang_fastback.jpg\")\n",
    "input_pixels = input_image.load()\n",
    "\n",
    "# Create output image\n",
    "output_image = Image.new(\"RGB\", input_image.size)\n",
    "draw = ImageDraw.Draw(output_image)\n",
    "\n",
    "# Find minimum and maximum luminosity\n",
    "imin = 255\n",
    "imax = 0\n",
    "for x in range(input_image.width):\n",
    "    for y in range(input_image.height):\n",
    "        r, g, b = input_pixels[x, y]\n",
    "        i = (r + g + b) / 3\n",
    "        imin = min(imin, i)\n",
    "        imax = max(imax, i)\n",
    "\n",
    "# Generate image\n",
    "for x in range(output_image.width):\n",
    "    for y in range(output_image.height):\n",
    "        r, g, b = input_pixels[x, y]\n",
    "        # Current luminosity\n",
    "        i = (r + g + b) / 3\n",
    "        # New luminosity\n",
    "        ip = 255 * (i - imin) / (imax - imin)\n",
    "        r = int(r * ip / (i + 0.0000000000000001))\n",
    "        g = int(g * ip / (i + 0.0000000000000001))\n",
    "        b = int(b * ip / (i + 0.0000000000000001))\n",
    "        draw.point((x, y), (r, g, b))\n",
    "\n",
    "output_image.save(\"1967_ford_mustang_fastback_contrast.jpg\")"
   ]
  },
  {
   "cell_type": "markdown",
   "metadata": {},
   "source": [
    "## Colorize Process"
   ]
  },
  {
   "cell_type": "markdown",
   "metadata": {},
   "source": [
    "In the previous example code, we saw how to adjust the color of the pixels. This can be used to change the color balance for instance. In the next example code, we detect the pixels whose color is close to blue (0, 0, 255) by computing a distance, and we reduce the value of the red and blue components and increase the green component."
   ]
  },
  {
   "cell_type": "code",
   "execution_count": 7,
   "metadata": {},
   "outputs": [],
   "source": [
    "from PIL import Image, ImageDraw\n",
    "\n",
    "# Square distance between 2 colors\n",
    "def distance2(color1, color2):\n",
    "    r1, g1, b1 = color1\n",
    "    r2, g2, b2 = color2\n",
    "    return (r1 - r2) ** 2 + (g1 - g2) ** 2 + (b1 - b2) ** 2\n",
    "\n",
    "color_to_change = (0, 0, 255)\n",
    "threshold = 220\n",
    "\n",
    "# Load image:\n",
    "input_image = Image.open(\"1967_ford_mustang_fastback.jpg\")\n",
    "input_pixels = input_image.load()\n",
    "\n",
    "# Create output image\n",
    "output_image = Image.new(\"RGB\", input_image.size)\n",
    "draw = ImageDraw.Draw(output_image)\n",
    "\n",
    "# Generate image\n",
    "for x in range(output_image.width):\n",
    "    for y in range(output_image.height):\n",
    "        r, g, b = input_pixels[x, y]\n",
    "        if distance2(color_to_change, input_pixels[x, y]) < threshold ** 2:\n",
    "            r = int(r * .5)\n",
    "            g = int(g * 1.25)\n",
    "            b = int(b * .5)\n",
    "        draw.point((x, y), (r, g, b))\n",
    "\n",
    "output_image.save(\"1967_ford_mustang_fastback_colorized.jpg\")"
   ]
  },
  {
   "cell_type": "code",
   "execution_count": null,
   "metadata": {},
   "outputs": [],
   "source": []
  }
 ],
 "metadata": {
  "kernelspec": {
   "display_name": "Python 3",
   "language": "python",
   "name": "python3"
  },
  "language_info": {
   "codemirror_mode": {
    "name": "ipython",
    "version": 3
   },
   "file_extension": ".py",
   "mimetype": "text/x-python",
   "name": "python",
   "nbconvert_exporter": "python",
   "pygments_lexer": "ipython3",
   "version": "3.7.4"
  }
 },
 "nbformat": 4,
 "nbformat_minor": 2
}
