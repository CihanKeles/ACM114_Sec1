{
 "cells": [
  {
   "cell_type": "markdown",
   "metadata": {},
   "source": [
    "**1. Write a function that takes a value for the grade and returns a string according to that value. Program should print: grade F for any value less than 60 and 60, grade D for a value from 61 to 69, grade C for a value from 70 to 79, grade B for a value from 80 to 89 and grade A for a value of 90 and above. Write the code that tests each grade range. (Use input() function to assign values to the variables!)**"
   ]
  },
  {
   "cell_type": "code",
   "execution_count": null,
   "metadata": {},
   "outputs": [],
   "source": []
  },
  {
   "cell_type": "markdown",
   "metadata": {},
   "source": [
    "**2. Write a code that prints the expression \"even\" if the given value is even and \"odd\" if the given value is odd. Test both possibilities. (Use input() function to assign values to the variables!)**"
   ]
  },
  {
   "cell_type": "code",
   "execution_count": null,
   "metadata": {},
   "outputs": [],
   "source": []
  },
  {
   "cell_type": "markdown",
   "metadata": {},
   "source": [
    "**3. Write a procedure that takes 3 integers (You should get these values using input() function), the first price for a product, the second price for an other product and the amount in the wallet. Program should print: if the difference between the amount in the wallet and the total price is greater than 0 or equals to 0, \"You have enough money.\" expression; otherwise \"Make more money!\" expression.**"
   ]
  },
  {
   "cell_type": "code",
   "execution_count": null,
   "metadata": {},
   "outputs": [],
   "source": []
  },
  {
   "cell_type": "markdown",
   "metadata": {},
   "source": [
    "**4. Write a code that prints \"Really\" when the number entered is divisible by 3, \"Yes\" when it is divisible by 5, and \"ReallyYes\" when it is divisible by both 3 and 5. (The program should also print \"Really\" and \"Yes\" if the number can be divided into both 3 and 5.) (Use input() function to assign values to the variables!)**"
   ]
  },
  {
   "cell_type": "code",
   "execution_count": null,
   "metadata": {},
   "outputs": [],
   "source": []
  },
  {
   "cell_type": "markdown",
   "metadata": {},
   "source": [
    "**5. Create a list of all odd numbers between 1 and 20 and find the average of these numbers. Then create a list of numbers from 1 to 100, using the average number as an increment, and print the product of these numbers.**"
   ]
  },
  {
   "cell_type": "code",
   "execution_count": null,
   "metadata": {},
   "outputs": [],
   "source": []
  },
  {
   "cell_type": "markdown",
   "metadata": {},
   "source": [
    "**6. Write the code that finds the maximum number in the list of integers below. (Without using list methods)**"
   ]
  },
  {
   "cell_type": "raw",
   "metadata": {},
   "source": [
    "liste = [3, -77, 101, 33, -23, 0, 55, -11, 27, 91]"
   ]
  },
  {
   "cell_type": "code",
   "execution_count": null,
   "metadata": {},
   "outputs": [],
   "source": []
  },
  {
   "cell_type": "markdown",
   "metadata": {},
   "source": [
    "**7. Create a blank list called number_list consisting of fractional numbers entered by the user, with a total value of 10. Write the program that calculates the smallest and largest value of this list, and the sum and average of all its elements. (You can use list methods.)**"
   ]
  },
  {
   "cell_type": "code",
   "execution_count": null,
   "metadata": {},
   "outputs": [],
   "source": []
  },
  {
   "cell_type": "markdown",
   "metadata": {},
   "source": [
    "**8. a) What will be the output of the following Python code snippet?**"
   ]
  },
  {
   "cell_type": "raw",
   "metadata": {},
   "source": [
    "my_string = \"hello world\"\n",
    "k = [(i.upper(), len(i)) for i in my_string]\n",
    "print(k)"
   ]
  },
  {
   "cell_type": "markdown",
   "metadata": {},
   "source": [
    "    A. [(‘HELLO’, 5), (‘WORLD’, 5)]\n",
    "    B. [(‘H’, 1), (‘E’, 1), (‘L’, 1), (‘L’, 1), (‘O’, 1), (‘ ‘, 1), (‘W’, 1), (‘O’, 1), (‘R’, 1),            (‘L’, 1), (‘D’, 1)]\n",
    "    C. [(‘HELLO WORLD’, 11)]\n",
    "    D. None of the mentioned"
   ]
  },
  {
   "cell_type": "markdown",
   "metadata": {},
   "source": []
  },
  {
   "cell_type": "markdown",
   "metadata": {},
   "source": [
    "**8. b) What will be the output of the following Python code snippet?**"
   ]
  },
  {
   "cell_type": "raw",
   "metadata": {},
   "source": [
    "print([[i+j for i in \"abc\"] for j in \"def\"])"
   ]
  },
  {
   "cell_type": "markdown",
   "metadata": {},
   "source": [
    "    A. [‘da’, ‘ea’, ‘fa’, ‘db’, ‘eb’, ‘fb’, ‘dc’, ‘ec’, ‘fc’]\n",
    "    B. [[‘ad’, ‘bd’, ‘cd’], [‘ae’, ‘be’, ‘ce’], [‘af’, ‘bf’, ‘cf’]]\n",
    "    C. [[‘da’, ‘db’, ‘dc’], [‘ea’, ‘eb’, ‘ec’], [‘fa’, ‘fb’, ‘fc’]]\n",
    "    D. [‘ad’, ‘ae’, ‘af’, ‘bd’, ‘be’, ‘bf’, ‘cd’, ‘ce’, ‘cf’]"
   ]
  },
  {
   "cell_type": "markdown",
   "metadata": {},
   "source": []
  },
  {
   "cell_type": "markdown",
   "metadata": {},
   "source": [
    "**9. a) What will be the output of the following Python code?**"
   ]
  },
  {
   "cell_type": "raw",
   "metadata": {},
   "source": [
    "a = ('check',)\n",
    "n = 2\n",
    "for i in range(int(n)):\n",
    "    a = (a,)\n",
    "    print(a)"
   ]
  },
  {
   "cell_type": "markdown",
   "metadata": {},
   "source": [
    "    A. Error, tuples are immutable\n",
    "    B. (('check',),)\n",
    "       ((('check',),),)\n",
    "    C. ((‘check’,)’check’,)\n",
    "    D. (('check',)’check’,)\n",
    "       ((('check',)’check’,)’check’,)"
   ]
  },
  {
   "cell_type": "markdown",
   "metadata": {},
   "source": []
  },
  {
   "cell_type": "markdown",
   "metadata": {},
   "source": [
    "**9. b) What will be the output of the following Python code?**"
   ]
  },
  {
   "cell_type": "raw",
   "metadata": {},
   "source": [
    ">>> a,b=6,7\n",
    ">>> a,b=b,a\n",
    ">>> a,b"
   ]
  },
  {
   "cell_type": "markdown",
   "metadata": {},
   "source": [
    "    A. (6,7)\n",
    "    B. Invalid syntax\n",
    "    C. (7,6)\n",
    "    D. Nothing is printed"
   ]
  },
  {
   "cell_type": "markdown",
   "metadata": {},
   "source": []
  }
 ],
 "metadata": {
  "kernelspec": {
   "display_name": "Python 3",
   "language": "python",
   "name": "python3"
  },
  "language_info": {
   "codemirror_mode": {
    "name": "ipython",
    "version": 3
   },
   "file_extension": ".py",
   "mimetype": "text/x-python",
   "name": "python",
   "nbconvert_exporter": "python",
   "pygments_lexer": "ipython3",
   "version": "3.7.4"
  }
 },
 "nbformat": 4,
 "nbformat_minor": 2
}
