{
 "cells": [
  {
   "cell_type": "markdown",
   "metadata": {},
   "source": [
    "# Dictionaries in Python"
   ]
  },
  {
   "cell_type": "markdown",
   "metadata": {},
   "source": [
    "Python provides another composite data type called a *dictionary*, which is similar to a *list* in that it is a collection of **objects**.\n",
    "\n",
    "Dictionaries and lists share the following characteristics:\n",
    "* Both are mutable.\n",
    "* Both are dynamic. They can grow and shrink as needed.\n",
    "* Both can be nested. A list can contain another list. A dictionary can contain another dictionary. A dictionary can also contain a list, and vice versa.\n",
    "\n",
    "Dictionaries differ from lists primarily in how elements are accessed:\n",
    "* List elements are accessed by their position in the list, via indexing.\n",
    "* Dictionary elements are accessed via keys."
   ]
  },
  {
   "cell_type": "markdown",
   "metadata": {},
   "source": [
    "Dictionaries are Python’s implementation of a data structure that is more generally known as an associative array. A dictionary consists of a collection of key-value pairs. Each key-value pair maps the key to its associated value.\n",
    "\n",
    "You can define a dictionary by enclosing a comma-separated list of key-value pairs in curly braces ({ }). A colon (:) separates each key from its associated value:"
   ]
  },
  {
   "cell_type": "code",
   "execution_count": 32,
   "metadata": {},
   "outputs": [
    {
     "name": "stdout",
     "output_type": "stream",
     "text": [
      "{'Orlando': 'Magic', 'Boston': 'Celtics', 'Minnesota': 'Timberwolves', 'Milwaukee': 'Bucks', 'Miami': 'Heat', 'Golden State': 'Warriors', 'Toronto': 'Raptors'}\n",
      "Celtics Raptors\n",
      "<class 'dict'>\n"
     ]
    }
   ],
   "source": [
    "NBA_team = {\n",
    "    'Orlando' : 'Magic',\n",
    "    'Boston'   : 'Celtics',\n",
    "    'Minnesota': 'Timberwolves',\n",
    "    'Milwaukee': 'Bucks',\n",
    "    'Miami'  : 'Heat',\n",
    "    'Golden State' : 'Warriors',\n",
    "    'Toronto' : 'Raptors'\n",
    "    }\n",
    "print(NBA_team)\n",
    "print(NBA_team['Boston'], NBA_team['Toronto'])\n",
    "print(type(NBA_team))"
   ]
  },
  {
   "cell_type": "code",
   "execution_count": 34,
   "metadata": {},
   "outputs": [
    {
     "name": "stdout",
     "output_type": "stream",
     "text": [
      "22\n",
      "<class 'dict'>\n"
     ]
    }
   ],
   "source": [
    "Dict = {'Tim': 18,'Charlie':12,'Tiffany':22,'Robert':25}\t\n",
    "print((Dict['Tiffany']))\n",
    "print(type(Dict))"
   ]
  },
  {
   "cell_type": "code",
   "execution_count": 36,
   "metadata": {},
   "outputs": [
    {
     "name": "stdout",
     "output_type": "stream",
     "text": [
      "{'one': 'uno', 'two': 'dos', 'three': 'tres'}\n",
      "dos\n",
      "<class 'dict'>\n"
     ]
    }
   ],
   "source": [
    "eng2sp = {}\n",
    "type(eng2sp)\n",
    "eng2sp['one'] = 'uno'\n",
    "eng2sp['two'] = 'dos'\n",
    "eng2sp['three'] = 'tres'\n",
    "print(eng2sp)\n",
    "print(eng2sp['two'])\n",
    "print(type(eng2sp))"
   ]
  },
  {
   "cell_type": "code",
   "execution_count": 6,
   "metadata": {},
   "outputs": [
    {
     "name": "stdout",
     "output_type": "stream",
     "text": [
      "{'one': 'uno', 'two': 'dos', 'three': 'tres'}\n"
     ]
    }
   ],
   "source": [
    "eng2sp = {'one': 'uno', 'two': 'dos', 'three': 'tres'}\n",
    "print(eng2sp)\n",
    "print(eng2sp['two'])"
   ]
  },
  {
   "cell_type": "markdown",
   "metadata": {},
   "source": [
    "NBA_team can then also be defined this way:"
   ]
  },
  {
   "cell_type": "code",
   "execution_count": 33,
   "metadata": {},
   "outputs": [
    {
     "name": "stdout",
     "output_type": "stream",
     "text": [
      "{'Orlando': 'Magic', 'Boston': 'Celtics', 'Minnesota': 'Timberwolves', 'Milwaukee': 'Bucks', 'Miami': 'Heat', 'Golden State': 'Warriors', 'Toronto': 'Raptors'}\n",
      "<class 'dict'>\n"
     ]
    }
   ],
   "source": [
    "NBA_team = dict([\n",
    "    ('Orlando', 'Magic'),\n",
    "    ('Boston', 'Celtics'),\n",
    "    ('Minnesota', 'Timberwolves'),\n",
    "    ('Milwaukee', 'Bucks'),\n",
    "    ('Miami', 'Heat'),\n",
    "    ('Golden State', 'Warriors'),\n",
    "    ('Toronto', 'Raptors')\n",
    "    ])\n",
    "print(NBA_team)\n",
    "print(type(NBA_team))"
   ]
  },
  {
   "cell_type": "markdown",
   "metadata": {},
   "source": [
    "If the key values are simple strings, they can be specified as keyword arguments. So here is yet another way to define NBA_team:"
   ]
  },
  {
   "cell_type": "code",
   "execution_count": 26,
   "metadata": {},
   "outputs": [
    {
     "name": "stdout",
     "output_type": "stream",
     "text": [
      "{'Orlando': 'Magic', 'Boston': 'Celtics', 'Minnesota': 'Timberwolves', 'Milwaukee': 'Bucks', 'Miami': 'Heat', 'GoldenState': 'Warriors', 'Toronto': 'Raptors'}\n"
     ]
    }
   ],
   "source": [
    "NBA_team = dict(\n",
    "        Orlando='Magic',\n",
    "        Boston='Celtics',\n",
    "        Minnesota='Timberwolves',\n",
    "        Milwaukee='Bucks',\n",
    "        Miami='Heat',\n",
    "        GoldenState='Warriors',\n",
    "        Toronto='Raptors'\n",
    "        )\n",
    "print(NBA_team)"
   ]
  },
  {
   "cell_type": "code",
   "execution_count": 27,
   "metadata": {},
   "outputs": [
    {
     "name": "stdout",
     "output_type": "stream",
     "text": [
      "\n",
      "Dictionary with the use of Integer Keys: \n",
      "{1: 'ACM', 2: '114', 3: 'Python'}\n",
      "\n",
      "Dictionary with the use of Mixed Keys: \n",
      "{'Name': 'Cihan', 1: [1, 2, 3, 4]}\n"
     ]
    }
   ],
   "source": [
    "# Creating a Dictionary  \n",
    "# with Integer Keys \n",
    "Dict = {1: 'ACM', 2: '114', 3: 'Python'} \n",
    "print(\"\\nDictionary with the use of Integer Keys: \") \n",
    "print(Dict) \n",
    "  \n",
    "# Creating a Dictionary  \n",
    "# with Mixed keys \n",
    "Dict = {'Name': 'Cihan', 1: [1, 2, 3, 4]} \n",
    "print(\"\\nDictionary with the use of Mixed Keys: \") \n",
    "print(Dict)"
   ]
  },
  {
   "cell_type": "code",
   "execution_count": 28,
   "metadata": {},
   "outputs": [
    {
     "name": "stdout",
     "output_type": "stream",
     "text": [
      "Empty Dictionary: \n",
      "{}\n",
      "\n",
      "Dictionary with the use of dict(): \n",
      "{1: 'ACM', 2: '114', 3: 'Python'}\n",
      "\n",
      "Dictionary with each item as a pair: \n",
      "{1: 'ACM 114', 2: 'Python'}\n"
     ]
    }
   ],
   "source": [
    "# Creating an empty Dictionary \n",
    "Dict = {} \n",
    "print(\"Empty Dictionary: \") \n",
    "print(Dict) \n",
    "  \n",
    "# Creating a Dictionary \n",
    "# with dict() method \n",
    "Dict = dict({1: 'ACM', 2: '114', 3:'Python'}) \n",
    "print(\"\\nDictionary with the use of dict(): \") \n",
    "print(Dict) \n",
    "  \n",
    "# Creating a Dictionary \n",
    "# with each item as a Pair \n",
    "Dict = dict([(1, 'ACM 114'), (2, 'Python')]) \n",
    "print(\"\\nDictionary with each item as a pair: \") \n",
    "print(Dict)"
   ]
  },
  {
   "cell_type": "code",
   "execution_count": 30,
   "metadata": {},
   "outputs": [
    {
     "name": "stdout",
     "output_type": "stream",
     "text": [
      "{1: 'ACM', 2: '114', 3: {'A': 'Welcome', 'B': 'To', 'C': 'Python', 'D': 'Programming'}}\n"
     ]
    }
   ],
   "source": [
    "# Creating a Nested Dictionary  \n",
    "# as shown in the below image \n",
    "Dict = {1: 'ACM', 2: '114',  \n",
    "        3:{'A' : 'Welcome', 'B' : 'To', 'C' : 'Python', 'D' : 'Programming'}} \n",
    "print(Dict)"
   ]
  },
  {
   "cell_type": "markdown",
   "metadata": {},
   "source": [
    "The entries in the dictionary display in the order they were defined. But that is irrelevant when it comes to retrieving them. Dictionary elements are not accessed by numerical index:"
   ]
  },
  {
   "cell_type": "code",
   "execution_count": 37,
   "metadata": {},
   "outputs": [
    {
     "ename": "KeyError",
     "evalue": "1",
     "output_type": "error",
     "traceback": [
      "\u001b[1;31m---------------------------------------------------------------------------\u001b[0m",
      "\u001b[1;31mKeyError\u001b[0m                                  Traceback (most recent call last)",
      "\u001b[1;32m<ipython-input-37-0224fd19ccc0>\u001b[0m in \u001b[0;36m<module>\u001b[1;34m\u001b[0m\n\u001b[1;32m----> 1\u001b[1;33m \u001b[0mprint\u001b[0m\u001b[1;33m(\u001b[0m\u001b[0mNBA_team\u001b[0m\u001b[1;33m[\u001b[0m\u001b[1;36m1\u001b[0m\u001b[1;33m]\u001b[0m\u001b[1;33m)\u001b[0m\u001b[1;33m\u001b[0m\u001b[1;33m\u001b[0m\u001b[0m\n\u001b[0m",
      "\u001b[1;31mKeyError\u001b[0m: 1"
     ]
    }
   ],
   "source": [
    "print(NBA_team[1])"
   ]
  },
  {
   "cell_type": "code",
   "execution_count": 38,
   "metadata": {},
   "outputs": [
    {
     "name": "stdout",
     "output_type": "stream",
     "text": [
      "{'apples': 430, 'bananas': 312, 'oranges': 525, 'pears': 217}\n"
     ]
    },
    {
     "ename": "KeyError",
     "evalue": "'mangos'",
     "output_type": "error",
     "traceback": [
      "\u001b[1;31m---------------------------------------------------------------------------\u001b[0m",
      "\u001b[1;31mKeyError\u001b[0m                                  Traceback (most recent call last)",
      "\u001b[1;32m<ipython-input-38-2eaa5e09f855>\u001b[0m in \u001b[0;36m<module>\u001b[1;34m\u001b[0m\n\u001b[0;32m      1\u001b[0m \u001b[0minventory\u001b[0m \u001b[1;33m=\u001b[0m \u001b[1;33m{\u001b[0m\u001b[1;34m'apples'\u001b[0m\u001b[1;33m:\u001b[0m \u001b[1;36m430\u001b[0m\u001b[1;33m,\u001b[0m \u001b[1;34m'bananas'\u001b[0m\u001b[1;33m:\u001b[0m \u001b[1;36m312\u001b[0m\u001b[1;33m,\u001b[0m \u001b[1;34m'oranges'\u001b[0m\u001b[1;33m:\u001b[0m \u001b[1;36m525\u001b[0m\u001b[1;33m,\u001b[0m \u001b[1;34m'pears'\u001b[0m\u001b[1;33m:\u001b[0m \u001b[1;36m217\u001b[0m\u001b[1;33m}\u001b[0m\u001b[1;33m\u001b[0m\u001b[1;33m\u001b[0m\u001b[0m\n\u001b[0;32m      2\u001b[0m \u001b[0mprint\u001b[0m\u001b[1;33m(\u001b[0m\u001b[0minventory\u001b[0m\u001b[1;33m)\u001b[0m\u001b[1;33m\u001b[0m\u001b[1;33m\u001b[0m\u001b[0m\n\u001b[1;32m----> 3\u001b[1;33m \u001b[0mprint\u001b[0m\u001b[1;33m(\u001b[0m\u001b[0minventory\u001b[0m\u001b[1;33m[\u001b[0m\u001b[1;34m'mangos'\u001b[0m\u001b[1;33m]\u001b[0m\u001b[1;33m)\u001b[0m\u001b[1;33m\u001b[0m\u001b[1;33m\u001b[0m\u001b[0m\n\u001b[0m",
      "\u001b[1;31mKeyError\u001b[0m: 'mangos'"
     ]
    }
   ],
   "source": [
    "inventory = {'apples': 430, 'bananas': 312, 'oranges': 525, 'pears': 217}\n",
    "print(inventory)\n",
    "print(inventory['mangos'])"
   ]
  },
  {
   "cell_type": "markdown",
   "metadata": {},
   "source": [
    "Of course, dictionary elements must be accessible somehow. If you don’t get them by index, then how do you get them?\n",
    "\n",
    "A value is retrieved from a dictionary by specifying its corresponding key in square brackets ([ ]):"
   ]
  },
  {
   "cell_type": "code",
   "execution_count": 39,
   "metadata": {},
   "outputs": [
    {
     "name": "stdout",
     "output_type": "stream",
     "text": [
      "Timberwolves\n",
      "Raptors\n"
     ]
    }
   ],
   "source": [
    "print(NBA_team['Minnesota'])\n",
    "print(NBA_team['Toronto'])"
   ]
  },
  {
   "cell_type": "markdown",
   "metadata": {},
   "source": [
    "If you refer to a key that is not in the dictionary, Python raises an exception:"
   ]
  },
  {
   "cell_type": "code",
   "execution_count": 41,
   "metadata": {},
   "outputs": [
    {
     "ename": "KeyError",
     "evalue": "'Charlotte'",
     "output_type": "error",
     "traceback": [
      "\u001b[1;31m---------------------------------------------------------------------------\u001b[0m",
      "\u001b[1;31mKeyError\u001b[0m                                  Traceback (most recent call last)",
      "\u001b[1;32m<ipython-input-41-500e9dd1e277>\u001b[0m in \u001b[0;36m<module>\u001b[1;34m\u001b[0m\n\u001b[1;32m----> 1\u001b[1;33m \u001b[0mprint\u001b[0m\u001b[1;33m(\u001b[0m\u001b[0mNBA_team\u001b[0m\u001b[1;33m[\u001b[0m\u001b[1;34m'Charlotte'\u001b[0m\u001b[1;33m]\u001b[0m\u001b[1;33m)\u001b[0m\u001b[1;33m\u001b[0m\u001b[1;33m\u001b[0m\u001b[0m\n\u001b[0m",
      "\u001b[1;31mKeyError\u001b[0m: 'Charlotte'"
     ]
    }
   ],
   "source": [
    "print(NBA_team['Charlotte'])"
   ]
  },
  {
   "cell_type": "code",
   "execution_count": 44,
   "metadata": {},
   "outputs": [
    {
     "name": "stdout",
     "output_type": "stream",
     "text": [
      "Accessing a element using key:\n",
      "Cihan\n",
      "Accessing a element using key:\n",
      "ACM 114\n",
      "Accessing a element using key:\n",
      "Python\n"
     ]
    }
   ],
   "source": [
    "# Python program to demonstrate   \n",
    "# accessing a element from a Dictionary  \n",
    "  \n",
    "# Creating a Dictionary  \n",
    "Dict = {1: 'ACM 114', 'name': 'Cihan', 3: 'Python'} \n",
    "  \n",
    "# accessing a element using key \n",
    "print(\"Accessing a element using key:\") \n",
    "print(Dict['name']) \n",
    "  \n",
    "# accessing a element using key \n",
    "print(\"Accessing a element using key:\") \n",
    "print(Dict[1])\n",
    "print(\"Accessing a element using key:\") \n",
    "print(Dict[3])"
   ]
  },
  {
   "cell_type": "code",
   "execution_count": 45,
   "metadata": {},
   "outputs": [
    {
     "name": "stdout",
     "output_type": "stream",
     "text": [
      "{1: 'ACM 114'}\n",
      "ACM 114\n",
      "Python\n"
     ]
    }
   ],
   "source": [
    "# Creating a Dictionary \n",
    "Dict = {'Dict1': {1: 'ACM 114'}, \n",
    "        'Dict2': {'Name': 'Python'}} \n",
    "  \n",
    "# Accessing element using key \n",
    "print(Dict['Dict1']) \n",
    "print(Dict['Dict1'][1]) \n",
    "print(Dict['Dict2']['Name'])"
   ]
  },
  {
   "cell_type": "markdown",
   "metadata": {},
   "source": [
    "Adding an entry to an existing dictionary is simply a matter of assigning a new key and value:"
   ]
  },
  {
   "cell_type": "code",
   "execution_count": 47,
   "metadata": {},
   "outputs": [
    {
     "name": "stdout",
     "output_type": "stream",
     "text": [
      "{'Orlando': 'Magic', 'Boston': 'Celtics', 'Minnesota': 'Timberwolves', 'Milwaukee': 'Bucks', 'Miami': 'Heat', 'Golden State': 'Warriors', 'Toronto': 'Raptors', 'Oklohoma City': 'Thunder'}\n"
     ]
    }
   ],
   "source": [
    "NBA_team['Oklohoma City'] = 'Thunder'\n",
    "print(NBA_team)"
   ]
  },
  {
   "cell_type": "markdown",
   "metadata": {},
   "source": [
    "If you want to update an entry, you can just assign a new value to an existing key:"
   ]
  },
  {
   "cell_type": "code",
   "execution_count": 48,
   "metadata": {},
   "outputs": [
    {
     "name": "stdout",
     "output_type": "stream",
     "text": [
      "{'Orlando': 'Magic', 'Boston': 'Celtics', 'Minnesota': 'Timberwolves', 'Milwaukee': 'Bucks', 'Miami': 'Heat', 'Golden State': 'Warriors', 'Toronto': 'Raptors', 'Oklohoma City': 'Thunder', 'Chicago': 'Bulls'}\n"
     ]
    }
   ],
   "source": [
    "NBA_team['Chicago'] = 'Bulls'\n",
    "print(NBA_team)"
   ]
  },
  {
   "cell_type": "code",
   "execution_count": 49,
   "metadata": {},
   "outputs": [
    {
     "name": "stdout",
     "output_type": "stream",
     "text": [
      "Empty Dictionary: \n",
      "{}\n",
      "\n",
      "Dictionary after adding 3 elements: \n",
      "{0: 'ACM', 2: '114', 3: 'Python'}\n",
      "\n",
      "Dictionary after adding 3 elements: \n",
      "{0: 'ACM', 2: '114', 3: 'Python', 'Value_set': (2, 3, 4)}\n",
      "\n",
      "Updated key value: \n",
      "{0: 'ACM', 2: 'Welcome', 3: 'Python', 'Value_set': (2, 3, 4)}\n",
      "\n",
      "Adding a Nested Key: \n",
      "{0: 'ACM', 2: 'Welcome', 3: 'Python', 'Value_set': (2, 3, 4), 5: {'Nested': {'1': 'Music', '2': 'Theatre'}}}\n"
     ]
    }
   ],
   "source": [
    "# Creating an empty Dictionary \n",
    "Dict = {} \n",
    "print(\"Empty Dictionary: \") \n",
    "print(Dict) \n",
    "  \n",
    "# Adding elements one at a time \n",
    "Dict[0] = 'ACM'\n",
    "Dict[2] = '114'\n",
    "Dict[3] = 'Python'\n",
    "print(\"\\nDictionary after adding 3 elements: \") \n",
    "print(Dict) \n",
    "  \n",
    "# Adding set of values  \n",
    "# to a single Key \n",
    "Dict['Value_set'] = 2, 3, 4\n",
    "print(\"\\nDictionary after adding 3 elements: \") \n",
    "print(Dict) \n",
    "  \n",
    "# Updating existing Key's Value \n",
    "Dict[2] = 'Welcome'\n",
    "print(\"\\nUpdated key value: \") \n",
    "print(Dict) \n",
    "  \n",
    "# Adding Nested Key value to Dictionary \n",
    "Dict[5] = {'Nested' :{'1' : 'Music', '2' : 'Theatre'}} \n",
    "print(\"\\nAdding a Nested Key: \") \n",
    "print(Dict) "
   ]
  },
  {
   "cell_type": "markdown",
   "metadata": {},
   "source": [
    "To delete an entry, use the del statement, specifying the key to delete:"
   ]
  },
  {
   "cell_type": "code",
   "execution_count": 50,
   "metadata": {},
   "outputs": [
    {
     "name": "stdout",
     "output_type": "stream",
     "text": [
      "{'Orlando': 'Magic', 'Boston': 'Celtics', 'Minnesota': 'Timberwolves', 'Milwaukee': 'Bucks', 'Golden State': 'Warriors', 'Toronto': 'Raptors', 'Oklohoma City': 'Thunder', 'Chicago': 'Bulls'}\n"
     ]
    }
   ],
   "source": [
    "del NBA_team['Miami']\n",
    "print(NBA_team)"
   ]
  },
  {
   "cell_type": "code",
   "execution_count": 85,
   "metadata": {},
   "outputs": [
    {
     "name": "stdout",
     "output_type": "stream",
     "text": [
      "{'Tim': 18, 'Tiffany': 22, 'Robert': 25}\n"
     ]
    }
   ],
   "source": [
    "Dict = {'Tim': 18,'Charlie':12,'Tiffany':22,'Robert':25}\t\n",
    "del Dict ['Charlie']\n",
    "print(Dict)"
   ]
  },
  {
   "cell_type": "code",
   "execution_count": 52,
   "metadata": {},
   "outputs": [
    {
     "name": "stdout",
     "output_type": "stream",
     "text": [
      "{'apples': 430, 'bananas': 312, 'oranges': 525, 'pears': 0}\n"
     ]
    }
   ],
   "source": [
    "inventory['pears'] = 0\n",
    "print(inventory)"
   ]
  },
  {
   "cell_type": "markdown",
   "metadata": {},
   "source": [
    "**Note**- *del Dict* will delete the entire dictionary and hence printing it after deletion will raise an **Error**."
   ]
  },
  {
   "cell_type": "code",
   "execution_count": 51,
   "metadata": {},
   "outputs": [
    {
     "name": "stdout",
     "output_type": "stream",
     "text": [
      "Initial Dictionary: \n",
      "{5: 'Welcome', 6: 'To', 7: 'Programming', 'A': {1: 'ACM', 2: '114', 3: 'Python'}, 'B': {1: 'Coding', 2: 'Life'}}\n",
      "\n",
      "Deleting a specific key: \n",
      "{5: 'Welcome', 7: 'Programming', 'A': {1: 'ACM', 2: '114', 3: 'Python'}, 'B': {1: 'Coding', 2: 'Life'}}\n",
      "\n",
      "Deleting a key from Nested Dictionary: \n",
      "{5: 'Welcome', 7: 'Programming', 'A': {1: 'ACM', 3: 'Python'}, 'B': {1: 'Coding', 2: 'Life'}}\n"
     ]
    }
   ],
   "source": [
    "# Initial Dictionary \n",
    "Dict = { 5 : 'Welcome', 6 : 'To', 7 : 'Programming', \n",
    "        'A' : {1 : 'ACM', 2 : '114', 3 : 'Python'}, \n",
    "        'B' : {1 : 'Coding', 2 : 'Life'}} \n",
    "print(\"Initial Dictionary: \") \n",
    "print(Dict) \n",
    "  \n",
    "# Deleting a Key value \n",
    "del Dict[6] \n",
    "print(\"\\nDeleting a specific key: \") \n",
    "print(Dict) \n",
    "  \n",
    "# Deleting a Key from \n",
    "# Nested Dictionary \n",
    "del Dict['A'][2] \n",
    "print(\"\\nDeleting a key from Nested Dictionary: \") \n",
    "print(Dict)"
   ]
  },
  {
   "cell_type": "code",
   "execution_count": 53,
   "metadata": {},
   "outputs": [
    {
     "name": "stdout",
     "output_type": "stream",
     "text": [
      "{'apples': 430, 'bananas': 312, 'oranges': 525}\n"
     ]
    }
   ],
   "source": [
    "del inventory['pears']\n",
    "print(inventory)"
   ]
  },
  {
   "cell_type": "markdown",
   "metadata": {},
   "source": [
    "You may have noticed that the interpreter raises the same exception, *KeyError*, when a dictionary is accessed with either an undefined key or by a numeric index:"
   ]
  },
  {
   "cell_type": "code",
   "execution_count": 55,
   "metadata": {},
   "outputs": [
    {
     "ename": "KeyError",
     "evalue": "'Detroit'",
     "output_type": "error",
     "traceback": [
      "\u001b[1;31m---------------------------------------------------------------------------\u001b[0m",
      "\u001b[1;31mKeyError\u001b[0m                                  Traceback (most recent call last)",
      "\u001b[1;32m<ipython-input-55-ef540deb7a38>\u001b[0m in \u001b[0;36m<module>\u001b[1;34m\u001b[0m\n\u001b[1;32m----> 1\u001b[1;33m \u001b[0mprint\u001b[0m\u001b[1;33m(\u001b[0m\u001b[0mNBA_team\u001b[0m\u001b[1;33m[\u001b[0m\u001b[1;34m'Detroit'\u001b[0m\u001b[1;33m]\u001b[0m\u001b[1;33m)\u001b[0m\u001b[1;33m\u001b[0m\u001b[1;33m\u001b[0m\u001b[0m\n\u001b[0m",
      "\u001b[1;31mKeyError\u001b[0m: 'Detroit'"
     ]
    }
   ],
   "source": [
    "print(NBA_team['Detroit'])"
   ]
  },
  {
   "cell_type": "code",
   "execution_count": 56,
   "metadata": {},
   "outputs": [
    {
     "ename": "KeyError",
     "evalue": "3",
     "output_type": "error",
     "traceback": [
      "\u001b[1;31m---------------------------------------------------------------------------\u001b[0m",
      "\u001b[1;31mKeyError\u001b[0m                                  Traceback (most recent call last)",
      "\u001b[1;32m<ipython-input-56-3d9ca8abadd9>\u001b[0m in \u001b[0;36m<module>\u001b[1;34m\u001b[0m\n\u001b[1;32m----> 1\u001b[1;33m \u001b[0mprint\u001b[0m\u001b[1;33m(\u001b[0m\u001b[0mNBA_team\u001b[0m\u001b[1;33m[\u001b[0m\u001b[1;36m3\u001b[0m\u001b[1;33m]\u001b[0m\u001b[1;33m)\u001b[0m\u001b[1;33m\u001b[0m\u001b[1;33m\u001b[0m\u001b[0m\n\u001b[0m",
      "\u001b[1;31mKeyError\u001b[0m: 3"
     ]
    }
   ],
   "source": [
    "print(NBA_team[3])"
   ]
  },
  {
   "cell_type": "markdown",
   "metadata": {},
   "source": [
    "In fact, it’s the same error. In the latter case, [1] looks like a numerical index, but it isn’t.\n",
    "\n",
    "You will see later in this tutorial that an object of any immutable type can be used as a dictionary key. Accordingly, there is no reason you can’t use integers:"
   ]
  },
  {
   "cell_type": "code",
   "execution_count": 57,
   "metadata": {},
   "outputs": [
    {
     "name": "stdout",
     "output_type": "stream",
     "text": [
      "{0: 'a', 1: 'b', 2: 'c', 3: 'd'}\n",
      "a\n",
      "c\n"
     ]
    }
   ],
   "source": [
    "d = {0: 'a', 1: 'b', 2: 'c', 3: 'd'}\n",
    "print(d)\n",
    "print(d[0])\n",
    "print(d[2])"
   ]
  },
  {
   "cell_type": "markdown",
   "metadata": {},
   "source": [
    "In the expressions NBA_team[1], d[0], and d[2], the numbers in square brackets appear as though they might be indices. But they have nothing to do with the order of the items in the dictionary. Python is interpreting them as dictionary keys. If you define this same dictionary in reverse order, you still get the same values using the same keys:"
   ]
  },
  {
   "cell_type": "code",
   "execution_count": 58,
   "metadata": {},
   "outputs": [
    {
     "name": "stdout",
     "output_type": "stream",
     "text": [
      "{3: 'd', 2: 'c', 1: 'b', 0: 'a'}\n",
      "a\n",
      "c\n"
     ]
    }
   ],
   "source": [
    "d = {3: 'd', 2: 'c', 1: 'b', 0: 'a'}\n",
    "print(d)\n",
    "print(d[0])\n",
    "print(d[2])"
   ]
  },
  {
   "cell_type": "markdown",
   "metadata": {},
   "source": [
    "The syntax may look similar, but you can’t treat a dictionary like a list:"
   ]
  },
  {
   "cell_type": "code",
   "execution_count": 59,
   "metadata": {},
   "outputs": [
    {
     "name": "stdout",
     "output_type": "stream",
     "text": [
      "<class 'dict'>\n"
     ]
    },
    {
     "ename": "KeyError",
     "evalue": "-1",
     "output_type": "error",
     "traceback": [
      "\u001b[1;31m---------------------------------------------------------------------------\u001b[0m",
      "\u001b[1;31mKeyError\u001b[0m                                  Traceback (most recent call last)",
      "\u001b[1;32m<ipython-input-59-2d7510bf1309>\u001b[0m in \u001b[0;36m<module>\u001b[1;34m\u001b[0m\n\u001b[0;32m      1\u001b[0m \u001b[0mprint\u001b[0m\u001b[1;33m(\u001b[0m\u001b[0mtype\u001b[0m\u001b[1;33m(\u001b[0m\u001b[0md\u001b[0m\u001b[1;33m)\u001b[0m\u001b[1;33m)\u001b[0m\u001b[1;33m\u001b[0m\u001b[1;33m\u001b[0m\u001b[0m\n\u001b[1;32m----> 2\u001b[1;33m \u001b[0mprint\u001b[0m\u001b[1;33m(\u001b[0m\u001b[0md\u001b[0m\u001b[1;33m[\u001b[0m\u001b[1;33m-\u001b[0m\u001b[1;36m1\u001b[0m\u001b[1;33m]\u001b[0m\u001b[1;33m)\u001b[0m\u001b[1;33m\u001b[0m\u001b[1;33m\u001b[0m\u001b[0m\n\u001b[0m",
      "\u001b[1;31mKeyError\u001b[0m: -1"
     ]
    }
   ],
   "source": [
    "print(type(d))\n",
    "print(d[-1])"
   ]
  },
  {
   "cell_type": "code",
   "execution_count": 60,
   "metadata": {},
   "outputs": [
    {
     "ename": "TypeError",
     "evalue": "unhashable type: 'slice'",
     "output_type": "error",
     "traceback": [
      "\u001b[1;31m---------------------------------------------------------------------------\u001b[0m",
      "\u001b[1;31mTypeError\u001b[0m                                 Traceback (most recent call last)",
      "\u001b[1;32m<ipython-input-60-ac2b8af3aa2f>\u001b[0m in \u001b[0;36m<module>\u001b[1;34m\u001b[0m\n\u001b[1;32m----> 1\u001b[1;33m \u001b[0mprint\u001b[0m\u001b[1;33m(\u001b[0m\u001b[0md\u001b[0m\u001b[1;33m[\u001b[0m\u001b[1;36m0\u001b[0m\u001b[1;33m:\u001b[0m\u001b[1;36m2\u001b[0m\u001b[1;33m]\u001b[0m\u001b[1;33m)\u001b[0m\u001b[1;33m\u001b[0m\u001b[1;33m\u001b[0m\u001b[0m\n\u001b[0m",
      "\u001b[1;31mTypeError\u001b[0m: unhashable type: 'slice'"
     ]
    }
   ],
   "source": [
    "print(d[0:2])"
   ]
  },
  {
   "cell_type": "code",
   "execution_count": 61,
   "metadata": {},
   "outputs": [
    {
     "ename": "AttributeError",
     "evalue": "'dict' object has no attribute 'append'",
     "output_type": "error",
     "traceback": [
      "\u001b[1;31m---------------------------------------------------------------------------\u001b[0m",
      "\u001b[1;31mAttributeError\u001b[0m                            Traceback (most recent call last)",
      "\u001b[1;32m<ipython-input-61-10129ea6570f>\u001b[0m in \u001b[0;36m<module>\u001b[1;34m\u001b[0m\n\u001b[1;32m----> 1\u001b[1;33m \u001b[0md\u001b[0m\u001b[1;33m.\u001b[0m\u001b[0mappend\u001b[0m\u001b[1;33m(\u001b[0m\u001b[1;34m'e'\u001b[0m\u001b[1;33m)\u001b[0m\u001b[1;33m\u001b[0m\u001b[1;33m\u001b[0m\u001b[0m\n\u001b[0m",
      "\u001b[1;31mAttributeError\u001b[0m: 'dict' object has no attribute 'append'"
     ]
    }
   ],
   "source": [
    "d.append('e')"
   ]
  },
  {
   "cell_type": "markdown",
   "metadata": {},
   "source": [
    "You can start by creating an empty dictionary, which is specified by empty curly braces. Then you can add new keys and values one at a time:"
   ]
  },
  {
   "cell_type": "code",
   "execution_count": 63,
   "metadata": {},
   "outputs": [
    {
     "name": "stdout",
     "output_type": "stream",
     "text": [
      "<class 'dict'>\n",
      "{'fname': 'Joe', 'lname': 'Fonebone', 'age': 51, 'spouse': 'Edna', 'children': ['Ralph', 'Betty', 'Joey'], 'pets': {'dog': 'Fido', 'cat': 'Sox'}}\n",
      "Joe\n",
      "51\n",
      "['Ralph', 'Betty', 'Joey']\n"
     ]
    }
   ],
   "source": [
    "person = {}\n",
    "print(type(person))\n",
    "\n",
    "person['fname'] = 'Joe'\n",
    "person['lname'] = 'Fonebone'\n",
    "person['age'] = 51\n",
    "person['spouse'] = 'Edna'\n",
    "person['children'] = ['Ralph', 'Betty', 'Joey']\n",
    "person['pets'] = {'dog': 'Fido', 'cat': 'Sox'}\n",
    "print(person)\n",
    "print(person['fname'])\n",
    "print(person['age'])\n",
    "print(person['children'])"
   ]
  },
  {
   "cell_type": "markdown",
   "metadata": {},
   "source": [
    "Retrieving the values in the sublist or subdictionary requires an additional index or key:"
   ]
  },
  {
   "cell_type": "code",
   "execution_count": 64,
   "metadata": {},
   "outputs": [
    {
     "name": "stdout",
     "output_type": "stream",
     "text": [
      "Joey\n",
      "Sox\n"
     ]
    }
   ],
   "source": [
    "print(person['children'][-1])\n",
    "print(person['pets']['cat'])"
   ]
  },
  {
   "cell_type": "markdown",
   "metadata": {},
   "source": [
    "Just as the values in a dictionary don’t need to be of the same type, the keys don’t either:"
   ]
  },
  {
   "cell_type": "code",
   "execution_count": 66,
   "metadata": {},
   "outputs": [
    {
     "name": "stdout",
     "output_type": "stream",
     "text": [
      "{42: 'aaa', 2.78: 'bbb', True: 'ccc'}\n",
      "aaa\n",
      "bbb\n",
      "ccc\n"
     ]
    }
   ],
   "source": [
    "foo = {42: 'aaa', 2.78: 'bbb', True: 'ccc'}\n",
    "print(foo)\n",
    "print(foo[42])\n",
    "print(foo[2.78])\n",
    "print(foo[True])"
   ]
  },
  {
   "cell_type": "code",
   "execution_count": 67,
   "metadata": {},
   "outputs": [
    {
     "name": "stdout",
     "output_type": "stream",
     "text": [
      "{'H': 1, 'He': 2, 'C': 6, 'Fe': 26}\n",
      "6\n"
     ]
    }
   ],
   "source": [
    "atomic_number = {'H': 1, 'He': 2, 'C': 6, 'Fe': 26}\n",
    "print(atomic_number)\n",
    "print(atomic_number['C'])"
   ]
  },
  {
   "cell_type": "markdown",
   "metadata": {},
   "source": [
    "They are not necessarily homogeneous:"
   ]
  },
  {
   "cell_type": "code",
   "execution_count": 68,
   "metadata": {},
   "outputs": [
    {
     "name": "stdout",
     "output_type": "stream",
     "text": [
      "{'alfa': 3, 2.5: 'xyz', (3+4j): [3, 4, 5], (1, 2, 3): {'x': 2, 'y': 3, 'z': 1}}\n"
     ]
    }
   ],
   "source": [
    "d = {}\n",
    "d['alfa'] = 3\n",
    "d[2.5] = 'xyz'\n",
    "d[3+4j] = [3, 4, 5]\n",
    "d[(1,2,3)] = { 'x': 2, 'y': 3, 'z': 1 }\n",
    "print(d)"
   ]
  },
  {
   "cell_type": "markdown",
   "metadata": {},
   "source": [
    "You can even use built-in objects like types and functions:"
   ]
  },
  {
   "cell_type": "code",
   "execution_count": 69,
   "metadata": {},
   "outputs": [
    {
     "name": "stdout",
     "output_type": "stream",
     "text": [
      "{<class 'int'>: 1, <class 'float'>: 2, <class 'bool'>: 3}\n",
      "2\n",
      "3\n"
     ]
    }
   ],
   "source": [
    "d = {int: 1, float: 2, bool: 3}\n",
    "print(d)\n",
    "print(d[float])\n",
    "d = {bin: 1, hex: 2, oct: 3}\n",
    "print(d[oct])"
   ]
  },
  {
   "cell_type": "markdown",
   "metadata": {},
   "source": [
    "However, there are a couple restrictions that dictionary keys must abide by.\n",
    "\n",
    "First, a given key can appear in a dictionary only once. Duplicate keys are not allowed. A dictionary maps each key to a corresponding value, so it doesn’t make sense to map a particular key more than once.\n",
    "\n",
    "You saw above that when you assign a value to an already existing dictionary key, it does not add the key a second time, but replaces the existing value:"
   ]
  },
  {
   "cell_type": "code",
   "execution_count": 70,
   "metadata": {},
   "outputs": [
    {
     "name": "stdout",
     "output_type": "stream",
     "text": [
      "{'Orlando': 'Magic', 'Boston': 'Celtics', 'Minnesota': 'Bulls', 'Milwaukee': 'Bucks', 'Miami': 'Heat', 'GoldenState': 'Warriors', 'Toronto': 'Raptors'}\n"
     ]
    }
   ],
   "source": [
    "NBA_team = dict(\n",
    "        Orlando='Magic',\n",
    "        Boston='Celtics',\n",
    "        Minnesota='Timberwolves',\n",
    "        Milwaukee='Bucks',\n",
    "        Miami='Heat',\n",
    "        GoldenState='Warriors',\n",
    "        Toronto='Raptors'\n",
    "        )\n",
    "NBA_team['Minnesota'] = 'Bulls'\n",
    "print(NBA_team)"
   ]
  },
  {
   "cell_type": "markdown",
   "metadata": {},
   "source": [
    "Similarly, if you specify a key a second time during the initial creation of a dictionary, the second occurrence will override the first:"
   ]
  },
  {
   "cell_type": "code",
   "execution_count": 71,
   "metadata": {},
   "outputs": [
    {
     "name": "stdout",
     "output_type": "stream",
     "text": [
      "{'Orlando': 'Magic', 'Boston': 'Celtics', 'Minnesota': 'Timberwolves', 'Milwaukee': 'Bucks', 'Miami': 'Heat', 'GoldenState': 'Warriors', 'Toronto': 'Raptors'}\n"
     ]
    }
   ],
   "source": [
    "NBA_team = dict(\n",
    "        Orlando='Magic',\n",
    "        Boston='Celtics',\n",
    "        Minnesota='Timberwolves',\n",
    "        Milwaukee='Bucks',\n",
    "        Miami='Heat',\n",
    "        GoldenState='Warriors',\n",
    "        Toronto='Raptors'\n",
    "        )\n",
    "print(NBA_team)"
   ]
  },
  {
   "cell_type": "markdown",
   "metadata": {},
   "source": [
    "Secondly, *a dictionary key* must be of a type that is **immutable**. You have already seen examples where several of the *immutable types* you are familiar with—**integer**, **float**, **string**, and **Boolean**—have served as *dictionary keys*.\n",
    "\n",
    "A tuple can also be a dictionary key, because tuples are immutable:"
   ]
  },
  {
   "cell_type": "code",
   "execution_count": 72,
   "metadata": {},
   "outputs": [
    {
     "name": "stdout",
     "output_type": "stream",
     "text": [
      "a\n",
      "c\n"
     ]
    }
   ],
   "source": [
    "d = {(1, 1): 'a', (1, 2): 'b', (2, 1): 'c', (2, 2): 'd'}\n",
    "print(d[(1,1)])\n",
    "print(d[(2,1)])"
   ]
  },
  {
   "cell_type": "markdown",
   "metadata": {},
   "source": [
    "However, neither *a list* nor *another dictionary* can serve as a **dictionary key**, because lists and dictionaries are **mutable**:"
   ]
  },
  {
   "cell_type": "code",
   "execution_count": 73,
   "metadata": {},
   "outputs": [
    {
     "ename": "TypeError",
     "evalue": "unhashable type: 'list'",
     "output_type": "error",
     "traceback": [
      "\u001b[1;31m---------------------------------------------------------------------------\u001b[0m",
      "\u001b[1;31mTypeError\u001b[0m                                 Traceback (most recent call last)",
      "\u001b[1;32m<ipython-input-73-8c4c191dbaf2>\u001b[0m in \u001b[0;36m<module>\u001b[1;34m\u001b[0m\n\u001b[1;32m----> 1\u001b[1;33m \u001b[0md\u001b[0m \u001b[1;33m=\u001b[0m \u001b[1;33m{\u001b[0m\u001b[1;33m[\u001b[0m\u001b[1;36m1\u001b[0m\u001b[1;33m,\u001b[0m \u001b[1;36m1\u001b[0m\u001b[1;33m]\u001b[0m\u001b[1;33m:\u001b[0m \u001b[1;34m'a'\u001b[0m\u001b[1;33m,\u001b[0m \u001b[1;33m[\u001b[0m\u001b[1;36m1\u001b[0m\u001b[1;33m,\u001b[0m \u001b[1;36m2\u001b[0m\u001b[1;33m]\u001b[0m\u001b[1;33m:\u001b[0m \u001b[1;34m'b'\u001b[0m\u001b[1;33m,\u001b[0m \u001b[1;33m[\u001b[0m\u001b[1;36m2\u001b[0m\u001b[1;33m,\u001b[0m \u001b[1;36m1\u001b[0m\u001b[1;33m]\u001b[0m\u001b[1;33m:\u001b[0m \u001b[1;34m'c'\u001b[0m\u001b[1;33m,\u001b[0m \u001b[1;33m[\u001b[0m\u001b[1;36m2\u001b[0m\u001b[1;33m,\u001b[0m \u001b[1;36m2\u001b[0m\u001b[1;33m]\u001b[0m\u001b[1;33m:\u001b[0m \u001b[1;34m'd'\u001b[0m\u001b[1;33m}\u001b[0m\u001b[1;33m\u001b[0m\u001b[1;33m\u001b[0m\u001b[0m\n\u001b[0m\u001b[0;32m      2\u001b[0m \u001b[0mprint\u001b[0m\u001b[1;33m(\u001b[0m\u001b[0md\u001b[0m\u001b[1;33m)\u001b[0m\u001b[1;33m\u001b[0m\u001b[1;33m\u001b[0m\u001b[0m\n",
      "\u001b[1;31mTypeError\u001b[0m: unhashable type: 'list'"
     ]
    }
   ],
   "source": [
    "d = {[1, 1]: 'a', [1, 2]: 'b', [2, 1]: 'c', [2, 2]: 'd'}\n",
    "print(d)"
   ]
  },
  {
   "cell_type": "markdown",
   "metadata": {},
   "source": [
    "By contrast, there are no restrictions on dictionary values. Literally none at all. A dictionary value can be any type of object Python supports, including mutable types like lists and dictionaries, and user-defined objects.\n",
    "\n",
    "There is also no restriction against a particular value appearing in a dictionary multiple times:"
   ]
  },
  {
   "cell_type": "code",
   "execution_count": 74,
   "metadata": {},
   "outputs": [
    {
     "name": "stdout",
     "output_type": "stream",
     "text": [
      "{0: 'a', 1: 'a', 2: 'a', 3: 'a'}\n",
      "True\n"
     ]
    }
   ],
   "source": [
    "d = {0: 'a', 1: 'a', 2: 'a', 3: 'a'}\n",
    "print(d)\n",
    "print(d[0] == d[1] == d[2])"
   ]
  },
  {
   "cell_type": "markdown",
   "metadata": {},
   "source": [
    "## Operators and Built-in Functions"
   ]
  },
  {
   "cell_type": "markdown",
   "metadata": {},
   "source": [
    "You have already become familiar with many of the operators and built-in functions that can be used with **strings**, **lists**, and **tuples**. Some of these work with dictionaries as well.\n",
    "\n",
    "For example, the in and not in operators return *True* or *False* according to whether the specified operand occurs as a key in the dictionary:"
   ]
  },
  {
   "cell_type": "code",
   "execution_count": 75,
   "metadata": {},
   "outputs": [
    {
     "name": "stdout",
     "output_type": "stream",
     "text": [
      "True\n",
      "False\n",
      "True\n",
      "False\n"
     ]
    }
   ],
   "source": [
    "NBA_team = dict(\n",
    "        Orlando='Magic',\n",
    "        Boston='Celtics',\n",
    "        Minnesota='Timberwolves',\n",
    "        Milwaukee='Bucks',\n",
    "        Miami='Heat',\n",
    "        GoldenState='Warriors',\n",
    "        Toronto='Raptors'\n",
    "        )\n",
    "print('Boston' in NBA_team)\n",
    "print('Detroit' in NBA_team)\n",
    "print('Utah' not in NBA_team)\n",
    "print('Sacramento' in NBA_team)"
   ]
  },
  {
   "cell_type": "markdown",
   "metadata": {},
   "source": [
    "You can use the in operator together with *short-circuit evaluation* to avoid raising an **error** when trying to access a key that is not in the dictionary:"
   ]
  },
  {
   "cell_type": "code",
   "execution_count": 76,
   "metadata": {},
   "outputs": [
    {
     "ename": "KeyError",
     "evalue": "'Utah'",
     "output_type": "error",
     "traceback": [
      "\u001b[1;31m---------------------------------------------------------------------------\u001b[0m",
      "\u001b[1;31mKeyError\u001b[0m                                  Traceback (most recent call last)",
      "\u001b[1;32m<ipython-input-76-599722574f5a>\u001b[0m in \u001b[0;36m<module>\u001b[1;34m\u001b[0m\n\u001b[1;32m----> 1\u001b[1;33m \u001b[0mprint\u001b[0m\u001b[1;33m(\u001b[0m\u001b[0mNBA_team\u001b[0m\u001b[1;33m[\u001b[0m\u001b[1;34m'Utah'\u001b[0m\u001b[1;33m]\u001b[0m\u001b[1;33m)\u001b[0m\u001b[1;33m\u001b[0m\u001b[1;33m\u001b[0m\u001b[0m\n\u001b[0m",
      "\u001b[1;31mKeyError\u001b[0m: 'Utah'"
     ]
    }
   ],
   "source": [
    "print(NBA_team['Utah'])"
   ]
  },
  {
   "cell_type": "code",
   "execution_count": 77,
   "metadata": {},
   "outputs": [
    {
     "name": "stdout",
     "output_type": "stream",
     "text": [
      "False\n"
     ]
    }
   ],
   "source": [
    "print('Utah' in NBA_team and NBA_team['Utah'])"
   ]
  },
  {
   "cell_type": "markdown",
   "metadata": {},
   "source": [
    "In the second case, due to *short-circuit evaluation*, the expression NBA_team['Utah'] is not evaluated, so the *KeyError exception* does not occur."
   ]
  },
  {
   "cell_type": "code",
   "execution_count": 81,
   "metadata": {},
   "outputs": [
    {
     "name": "stdout",
     "output_type": "stream",
     "text": [
      "{'apples': 430, 'bananas': 312, 'oranges': 525}\n",
      "True\n",
      "False\n"
     ]
    }
   ],
   "source": [
    "print(inventory)\n",
    "print('oranges' in inventory)\n",
    "print('blueberries' in inventory)"
   ]
  },
  {
   "cell_type": "code",
   "execution_count": 86,
   "metadata": {},
   "outputs": [
    {
     "name": "stdout",
     "output_type": "stream",
     "text": [
      "{'alfa': 3, 2.5: 'xyz', (3+4j): [3, 4, 5], (1, 2, 3): {'x': 2, 'y': 3, 'z': 1}}\n",
      "True\n"
     ]
    }
   ],
   "source": [
    "d = {}\n",
    "d['alfa'] = 3\n",
    "d[2.5] = 'xyz'\n",
    "d[3+4j] = [3, 4, 5]\n",
    "d[(1,2,3)] = { 'x': 2, 'y': 3, 'z': 1 }\n",
    "print(d)\n",
    "print('alfa' in d) "
   ]
  },
  {
   "cell_type": "markdown",
   "metadata": {},
   "source": [
    "The len() function returns the number of key-value pairs in a dictionary:"
   ]
  },
  {
   "cell_type": "code",
   "execution_count": 82,
   "metadata": {},
   "outputs": [
    {
     "name": "stdout",
     "output_type": "stream",
     "text": [
      "7\n"
     ]
    }
   ],
   "source": [
    "NBA_team = dict(\n",
    "        Orlando='Magic',\n",
    "        Boston='Celtics',\n",
    "        Minnesota='Timberwolves',\n",
    "        Milwaukee='Bucks',\n",
    "        Miami='Heat',\n",
    "        GoldenState='Warriors',\n",
    "        Toronto='Raptors'\n",
    "        )\n",
    "print(len(NBA_team))"
   ]
  },
  {
   "cell_type": "code",
   "execution_count": 88,
   "metadata": {},
   "outputs": [
    {
     "name": "stdout",
     "output_type": "stream",
     "text": [
      "{'apples': 430, 'bananas': 312, 'oranges': 525}\n",
      "3\n"
     ]
    }
   ],
   "source": [
    "print(inventory)\n",
    "print(len(inventory))"
   ]
  },
  {
   "cell_type": "code",
   "execution_count": 89,
   "metadata": {},
   "outputs": [
    {
     "name": "stdout",
     "output_type": "stream",
     "text": [
      "{'alfa': 3, 2.5: 'xyz', (3+4j): [3, 4, 5], (1, 2, 3): {'x': 2, 'y': 3, 'z': 1}}\n",
      "4\n"
     ]
    }
   ],
   "source": [
    "print(d)\n",
    "print(len(d))"
   ]
  },
  {
   "cell_type": "code",
   "execution_count": 94,
   "metadata": {},
   "outputs": [
    {
     "name": "stdout",
     "output_type": "stream",
     "text": [
      "Length : 4\n",
      "variable Type: <class 'dict'>\n",
      "printable string: {'Tim': 18, 'Charlie': 12, 'Tiffany': 22, 'Robert': 25}\n"
     ]
    }
   ],
   "source": [
    "Dict = {'Tim': 18,'Charlie':12,'Tiffany':22,'Robert':25}\n",
    "print(\"Length : %d\" % len (Dict))\n",
    "print(\"variable Type: %s\" %type (Dict))\n",
    "print(\"printable string: %s\" % str (Dict))"
   ]
  },
  {
   "cell_type": "markdown",
   "metadata": {},
   "source": [
    "## Built-in Dictionary Methods"
   ]
  },
  {
   "cell_type": "markdown",
   "metadata": {},
   "source": [
    "As with strings and lists, there are several built-in methods that can be invoked on dictionaries. In fact, in some cases, the list and dictionary methods share the same name. (In the discussion on object-oriented programming, you will see that it is perfectly acceptable for different types to have methods with the same name.)\n",
    "\n",
    "The following is an overview of methods that apply to dictionaries:"
   ]
  },
  {
   "cell_type": "markdown",
   "metadata": {},
   "source": [
    "### d.clear()"
   ]
  },
  {
   "cell_type": "markdown",
   "metadata": {},
   "source": [
    "d.clear() empties dictionary d of all key-value pairs:"
   ]
  },
  {
   "cell_type": "code",
   "execution_count": 92,
   "metadata": {},
   "outputs": [
    {
     "name": "stdout",
     "output_type": "stream",
     "text": [
      "{'a': 10, 'b': 20, 'c': 30}\n",
      "{}\n"
     ]
    }
   ],
   "source": [
    "d = {'a': 10, 'b': 20, 'c': 30}\n",
    "print(d)\n",
    "d.clear()\n",
    "print(d)"
   ]
  },
  {
   "cell_type": "code",
   "execution_count": 95,
   "metadata": {},
   "outputs": [
    {
     "name": "stdout",
     "output_type": "stream",
     "text": [
      "\n",
      "Deleting Entire Dictionary: \n",
      "{}\n"
     ]
    }
   ],
   "source": [
    "# Creating a Dictionary \n",
    "Dict = {1: 'ACM 114', 'name': 'Cihan', 3: 'Python'} \n",
    "  \n",
    "# Deleting entire Dictionary \n",
    "Dict.clear() \n",
    "print(\"\\nDeleting Entire Dictionary: \") \n",
    "print(Dict)"
   ]
  },
  {
   "cell_type": "markdown",
   "metadata": {},
   "source": [
    "### d.get(\\< key \\> [, \\< default \\>])"
   ]
  },
  {
   "cell_type": "markdown",
   "metadata": {},
   "source": [
    "The Python dictionary *.get()* method provides a convenient way of getting the value of a key from a dictionary without checking ahead of time whether the key **exists**, and without raising an **error**.\n",
    "\n",
    "d.get(\\< key \\>) searches dictionary d for \\< key \\> and returns the associated value if it is found. If \\< key \\> is not found, it returns *None*:"
   ]
  },
  {
   "cell_type": "code",
   "execution_count": 96,
   "metadata": {},
   "outputs": [
    {
     "name": "stdout",
     "output_type": "stream",
     "text": [
      "20\n",
      "None\n"
     ]
    }
   ],
   "source": [
    "d = {'a': 10, 'b': 20, 'c': 30}\n",
    "print(d.get('b'))\n",
    "print(d.get('z'))"
   ]
  },
  {
   "cell_type": "markdown",
   "metadata": {},
   "source": [
    "If \\< key \\> is not found and the optional \\< default \\> argument is specified, that value is returned instead of *None*:"
   ]
  },
  {
   "cell_type": "code",
   "execution_count": 97,
   "metadata": {},
   "outputs": [
    {
     "name": "stdout",
     "output_type": "stream",
     "text": [
      "-1\n"
     ]
    }
   ],
   "source": [
    "print(d.get('z', -1))"
   ]
  },
  {
   "cell_type": "code",
   "execution_count": 99,
   "metadata": {},
   "outputs": [
    {
     "name": "stdout",
     "output_type": "stream",
     "text": [
      "{'apples': 430, 'bananas': 312, 'oranges': 525}\n",
      "0\n",
      "312\n"
     ]
    }
   ],
   "source": [
    "print(inventory)\n",
    "print(inventory.get('blueberries', 0))\n",
    "print(inventory.get('bananas', 0))"
   ]
  },
  {
   "cell_type": "code",
   "execution_count": 102,
   "metadata": {},
   "outputs": [
    {
     "name": "stdout",
     "output_type": "stream",
     "text": [
      "Accessing an element using get:\n",
      "Python\n",
      "No accessing an element using get:\n",
      "No key no value!\n"
     ]
    }
   ],
   "source": [
    "# Creating a Dictionary  \n",
    "Dict = {1: 'ACM 114', 'name': 'Cihan', 3: 'Python'} \n",
    "  \n",
    "# accessing a element using get() \n",
    "# method \n",
    "print(\"Accessing an element using get:\") \n",
    "print(Dict.get(3))\n",
    "print(\"No accessing an element using get:\")\n",
    "print(Dict.get(2, 'No key no value!'))"
   ]
  },
  {
   "cell_type": "code",
   "execution_count": 103,
   "metadata": {},
   "outputs": [
    {
     "name": "stdout",
     "output_type": "stream",
     "text": [
      "{'alfa': 3, 2.5: 'xyz', (3+4j): [3, 4, 5], (1, 2, 3): {'x': 2, 'y': 3, 'z': 1}}\n",
      "3\n"
     ]
    }
   ],
   "source": [
    "d = {}\n",
    "d['alfa'] = 3\n",
    "d[2.5] = 'xyz'\n",
    "d[3+4j] = [3, 4, 5]\n",
    "d[(1,2,3)] = { 'x': 2, 'y': 3, 'z': 1 }\n",
    "print(d)\n",
    "print(d.get('alfa', -1999))"
   ]
  },
  {
   "cell_type": "markdown",
   "metadata": {},
   "source": [
    "### d.items()"
   ]
  },
  {
   "cell_type": "markdown",
   "metadata": {},
   "source": [
    "*d.items()* returns *a list of tuples* containing the **key-value pairs in d**. *The first item* in **each tuple** is the **key**, and *the second item* is the **key’s value**:"
   ]
  },
  {
   "cell_type": "code",
   "execution_count": 104,
   "metadata": {},
   "outputs": [
    {
     "name": "stdout",
     "output_type": "stream",
     "text": [
      "{'a': 10, 'b': 20, 'c': 30}\n",
      "[('a', 10), ('b', 20), ('c', 30)]\n",
      "b\n",
      "20\n"
     ]
    }
   ],
   "source": [
    "d = {'a': 10, 'b': 20, 'c': 30}\n",
    "print(d)\n",
    "print(list(d.items()))\n",
    "print(list(d.items())[1][0])\n",
    "print(list(d.items())[1][1])"
   ]
  },
  {
   "cell_type": "code",
   "execution_count": 106,
   "metadata": {},
   "outputs": [
    {
     "name": "stdout",
     "output_type": "stream",
     "text": [
      "Students Name: [('Tim', 18), ('Charlie', 12), ('Tiffany', 22), ('Robert', 25)]\n"
     ]
    }
   ],
   "source": [
    "Dict = {'Tim': 18,'Charlie':12,'Tiffany':22,'Robert':25}\n",
    "print(\"Students Name: %s\" % list(Dict.items()))"
   ]
  },
  {
   "cell_type": "code",
   "execution_count": 108,
   "metadata": {},
   "outputs": [
    {
     "name": "stdout",
     "output_type": "stream",
     "text": [
      "{'alfa': 3, 2.5: 'xyz', (3+4j): [3, 4, 5], (1, 2, 3): {'x': 2, 'y': 3, 'z': 1}}\n",
      "[('alfa', 3), (2.5, 'xyz'), ((3+4j), [3, 4, 5]), ((1, 2, 3), {'x': 2, 'y': 3, 'z': 1})]\n"
     ]
    }
   ],
   "source": [
    "d = {}\n",
    "d['alfa'] = 3\n",
    "d[2.5] = 'xyz'\n",
    "d[3+4j] = [3, 4, 5]\n",
    "d[(1,2,3)] = { 'x': 2, 'y': 3, 'z': 1 }\n",
    "print(d)\n",
    "print(list(d.items()))"
   ]
  },
  {
   "cell_type": "markdown",
   "metadata": {},
   "source": [
    "### d.keys()"
   ]
  },
  {
   "cell_type": "markdown",
   "metadata": {},
   "source": [
    "*d.keys()* returns a list of all keys in d:"
   ]
  },
  {
   "cell_type": "code",
   "execution_count": 109,
   "metadata": {},
   "outputs": [
    {
     "name": "stdout",
     "output_type": "stream",
     "text": [
      "{'a': 10, 'b': 20, 'c': 30}\n",
      "['a', 'b', 'c']\n"
     ]
    }
   ],
   "source": [
    "dict_1= {'a': 10, 'b': 20, 'c': 30}\n",
    "print(dict_1)\n",
    "print(list(dict_1.keys()))"
   ]
  },
  {
   "cell_type": "code",
   "execution_count": 111,
   "metadata": {},
   "outputs": [
    {
     "name": "stdout",
     "output_type": "stream",
     "text": [
      "Ali\n",
      "True\n",
      "Mehmet\n",
      "True\n",
      "Tuğçe\n",
      "False\n",
      "Remzi\n",
      "True\n",
      "Arzu\n",
      "False\n",
      "Sezin\n",
      "False\n"
     ]
    }
   ],
   "source": [
    "Dict = {'Ali': 22,'Mehmet':20,'Tuğçe':21,'Remzi':25, 'Arzu':23, 'Sezin':19}\n",
    "Boys = {'Ali': 22,'Mehmet':20,'Remzi':25}\n",
    "Girls = {'Tuğçe':21, 'Arzu':23, 'Sezin':19}\n",
    "for key in list(Dict.keys()):\n",
    "    print(key)\n",
    "    if key in list(Boys.keys()):\n",
    "        print(True)\n",
    "    else:       \n",
    "        print(False)"
   ]
  },
  {
   "cell_type": "code",
   "execution_count": 115,
   "metadata": {},
   "outputs": [
    {
     "name": "stdout",
     "output_type": "stream",
     "text": [
      "{'alfa': 3, 2.5: 'xyz', (3+4j): [3, 4, 5], (1, 2, 3): {'x': 2, 'y': 3, 'z': 1}}\n",
      "['alfa', 2.5, (3+4j), (1, 2, 3)]\n"
     ]
    }
   ],
   "source": [
    "d = {}\n",
    "d['alfa'] = 3\n",
    "d[2.5] = 'xyz'\n",
    "d[3+4j] = [3, 4, 5]\n",
    "d[(1,2,3)] = { 'x': 2, 'y': 3, 'z': 1 }\n",
    "print(d)\n",
    "print(list(d.keys()))"
   ]
  },
  {
   "cell_type": "markdown",
   "metadata": {},
   "source": [
    "### d.values()"
   ]
  },
  {
   "cell_type": "markdown",
   "metadata": {},
   "source": [
    "*d.values()* returns a list of all values in d:"
   ]
  },
  {
   "cell_type": "code",
   "execution_count": 113,
   "metadata": {},
   "outputs": [
    {
     "name": "stdout",
     "output_type": "stream",
     "text": [
      "{'a': 10, 'b': 20, 'c': 30}\n",
      "[10, 20, 30]\n"
     ]
    }
   ],
   "source": [
    "dict_1 = {'a': 10, 'b': 20, 'c': 30}\n",
    "print(dict_1)\n",
    "print(list(dict_1.values()))"
   ]
  },
  {
   "cell_type": "markdown",
   "metadata": {},
   "source": [
    "Any duplicate values in d will be returned as many times as they occur:"
   ]
  },
  {
   "cell_type": "code",
   "execution_count": 114,
   "metadata": {},
   "outputs": [
    {
     "name": "stdout",
     "output_type": "stream",
     "text": [
      "{'a': 10, 'b': 10, 'c': 10}\n",
      "[10, 10, 10]\n"
     ]
    }
   ],
   "source": [
    "dict_1 = {'a': 10, 'b': 10, 'c': 10}\n",
    "print(dict_1)\n",
    "print(list(dict_1.values()))"
   ]
  },
  {
   "cell_type": "code",
   "execution_count": 127,
   "metadata": {},
   "outputs": [
    {
     "name": "stdout",
     "output_type": "stream",
     "text": [
      "{'alfa': 3, 2.5: 'xyz', (3+4j): [3, 4, 5], (1, 2, 3): {'x': 2, 'y': 3, 'z': 1}}\n",
      "[3, 'xyz', [3, 4, 5], {'x': 2, 'y': 3, 'z': 1}]\n"
     ]
    }
   ],
   "source": [
    "d = {}\n",
    "d['alfa'] = 3\n",
    "d[2.5] = 'xyz'\n",
    "d[3+4j] = [3, 4, 5]\n",
    "d[(1,2,3)] = { 'x': 2, 'y': 3, 'z': 1 }\n",
    "print(d)\n",
    "print(list(d.values()))"
   ]
  },
  {
   "cell_type": "markdown",
   "metadata": {},
   "source": [
    "### d.pop(\\< key \\> [, \\< default \\>])"
   ]
  },
  {
   "cell_type": "markdown",
   "metadata": {},
   "source": [
    "If \\< key \\> is present in d, *d.pop(\\< key \\>)* removes \\< key \\> and returns its associated value:"
   ]
  },
  {
   "cell_type": "code",
   "execution_count": 118,
   "metadata": {},
   "outputs": [
    {
     "name": "stdout",
     "output_type": "stream",
     "text": [
      "20\n",
      "{'a': 10, 'c': 30}\n"
     ]
    }
   ],
   "source": [
    "dict_2 = {'a': 10, 'b': 20, 'c': 30}\n",
    "print(dict_2.pop('b'))\n",
    "print(dict_2)"
   ]
  },
  {
   "cell_type": "markdown",
   "metadata": {},
   "source": [
    "*d.pop(\\< key \\>)* raises a *KeyError* exception if \\< key \\> is not in d:"
   ]
  },
  {
   "cell_type": "code",
   "execution_count": 119,
   "metadata": {},
   "outputs": [
    {
     "ename": "KeyError",
     "evalue": "'z'",
     "output_type": "error",
     "traceback": [
      "\u001b[1;31m---------------------------------------------------------------------------\u001b[0m",
      "\u001b[1;31mKeyError\u001b[0m                                  Traceback (most recent call last)",
      "\u001b[1;32m<ipython-input-119-7e50f2aafff5>\u001b[0m in \u001b[0;36m<module>\u001b[1;34m\u001b[0m\n\u001b[0;32m      1\u001b[0m \u001b[0mdict_2\u001b[0m \u001b[1;33m=\u001b[0m \u001b[1;33m{\u001b[0m\u001b[1;34m'a'\u001b[0m\u001b[1;33m:\u001b[0m \u001b[1;36m10\u001b[0m\u001b[1;33m,\u001b[0m \u001b[1;34m'b'\u001b[0m\u001b[1;33m:\u001b[0m \u001b[1;36m20\u001b[0m\u001b[1;33m,\u001b[0m \u001b[1;34m'c'\u001b[0m\u001b[1;33m:\u001b[0m \u001b[1;36m30\u001b[0m\u001b[1;33m}\u001b[0m\u001b[1;33m\u001b[0m\u001b[1;33m\u001b[0m\u001b[0m\n\u001b[1;32m----> 2\u001b[1;33m \u001b[0mprint\u001b[0m\u001b[1;33m(\u001b[0m\u001b[0mdict_2\u001b[0m\u001b[1;33m.\u001b[0m\u001b[0mpop\u001b[0m\u001b[1;33m(\u001b[0m\u001b[1;34m'z'\u001b[0m\u001b[1;33m)\u001b[0m\u001b[1;33m)\u001b[0m\u001b[1;33m\u001b[0m\u001b[1;33m\u001b[0m\u001b[0m\n\u001b[0m",
      "\u001b[1;31mKeyError\u001b[0m: 'z'"
     ]
    }
   ],
   "source": [
    "dict_2 = {'a': 10, 'b': 20, 'c': 30}\n",
    "print(dict_2.pop('z'))"
   ]
  },
  {
   "cell_type": "markdown",
   "metadata": {},
   "source": [
    "If \\< key \\> is not in d, and the optional \\< default \\> argument is specified, then that value is returned, and no exception is raised:"
   ]
  },
  {
   "cell_type": "code",
   "execution_count": 121,
   "metadata": {},
   "outputs": [
    {
     "name": "stdout",
     "output_type": "stream",
     "text": [
      "-1\n",
      "{'a': 10, 'b': 20, 'c': 30}\n"
     ]
    }
   ],
   "source": [
    "dict_2 = {'a': 10, 'b': 20, 'c': 30}\n",
    "print(dict_2.pop('z', -1))\n",
    "print(dict_2)"
   ]
  },
  {
   "cell_type": "code",
   "execution_count": 122,
   "metadata": {},
   "outputs": [
    {
     "name": "stdout",
     "output_type": "stream",
     "text": [
      "\n",
      "Dictionary after deletion: {1: 'Liverpool', 3: 'Manchester United'}\n",
      "Value associated to poped key is: Chealsea\n"
     ]
    }
   ],
   "source": [
    "# Creating a Dictionary \n",
    "Dict = {1: 'Liverpool', 2: 'Chealsea', 3: 'Manchester United'} \n",
    "  \n",
    "# Deleting a key  \n",
    "# using pop() method \n",
    "pop_ele = Dict.pop(2) \n",
    "print('\\nDictionary after deletion: ' + str(Dict)) \n",
    "print('Value associated to poped key is: ' + str(pop_ele))"
   ]
  },
  {
   "cell_type": "code",
   "execution_count": 129,
   "metadata": {},
   "outputs": [
    {
     "name": "stdout",
     "output_type": "stream",
     "text": [
      "{'alfa': 3, 2.5: 'xyz', (3+4j): [3, 4, 5], (1, 2, 3): {'x': 2, 'y': 3, 'z': 1}}\n",
      "3\n",
      "{2.5: 'xyz', (3+4j): [3, 4, 5], (1, 2, 3): {'x': 2, 'y': 3, 'z': 1}}\n"
     ]
    }
   ],
   "source": [
    "print(d)\n",
    "print(d.pop('alfa', -1))\n",
    "print(d)"
   ]
  },
  {
   "cell_type": "markdown",
   "metadata": {},
   "source": [
    "### d.popitem()"
   ]
  },
  {
   "cell_type": "markdown",
   "metadata": {},
   "source": [
    "*d.popitem()* removes a random, arbitrary key-value pair from d and returns it as a tuple:"
   ]
  },
  {
   "cell_type": "code",
   "execution_count": 130,
   "metadata": {},
   "outputs": [
    {
     "name": "stdout",
     "output_type": "stream",
     "text": [
      "('c', 30)\n",
      "{'a': 10, 'b': 20}\n",
      "('b', 20)\n",
      "{'a': 10}\n"
     ]
    }
   ],
   "source": [
    "dict_3 = {'a': 10, 'b': 20, 'c': 30}\n",
    "print(dict_3.popitem())\n",
    "print(dict_3)\n",
    "print(dict_3.popitem())\n",
    "print(dict_3)"
   ]
  },
  {
   "cell_type": "markdown",
   "metadata": {},
   "source": [
    "If d is empty, *d.popitem()* raises a *KeyError exception*:"
   ]
  },
  {
   "cell_type": "code",
   "execution_count": 131,
   "metadata": {},
   "outputs": [
    {
     "ename": "KeyError",
     "evalue": "'popitem(): dictionary is empty'",
     "output_type": "error",
     "traceback": [
      "\u001b[1;31m---------------------------------------------------------------------------\u001b[0m",
      "\u001b[1;31mKeyError\u001b[0m                                  Traceback (most recent call last)",
      "\u001b[1;32m<ipython-input-131-7f954c780697>\u001b[0m in \u001b[0;36m<module>\u001b[1;34m\u001b[0m\n\u001b[0;32m      1\u001b[0m \u001b[0mdict_4\u001b[0m \u001b[1;33m=\u001b[0m \u001b[1;33m{\u001b[0m\u001b[1;33m}\u001b[0m\u001b[1;33m\u001b[0m\u001b[1;33m\u001b[0m\u001b[0m\n\u001b[1;32m----> 2\u001b[1;33m \u001b[0mprint\u001b[0m\u001b[1;33m(\u001b[0m\u001b[0mdict_4\u001b[0m\u001b[1;33m.\u001b[0m\u001b[0mpopitem\u001b[0m\u001b[1;33m(\u001b[0m\u001b[1;33m)\u001b[0m\u001b[1;33m)\u001b[0m\u001b[1;33m\u001b[0m\u001b[1;33m\u001b[0m\u001b[0m\n\u001b[0m",
      "\u001b[1;31mKeyError\u001b[0m: 'popitem(): dictionary is empty'"
     ]
    }
   ],
   "source": [
    "dict_4 = {}\n",
    "print(dict_4.popitem())"
   ]
  },
  {
   "cell_type": "code",
   "execution_count": 133,
   "metadata": {},
   "outputs": [
    {
     "name": "stdout",
     "output_type": "stream",
     "text": [
      "\n",
      "Dictionary after deletion: {1: 'Liverpool', 2: 'Chealsea'}\n",
      "The arbitrary pair returned is: (3, 'Manchester United')\n",
      "\n",
      "Dictionary after deletion: {1: 'Liverpool'}\n",
      "The arbitrary pair returned is: (2, 'Chealsea')\n"
     ]
    }
   ],
   "source": [
    "# Creating Dictionary \n",
    "Dict = {1: 'Liverpool', 2: 'Chealsea', 3: 'Manchester United'} \n",
    "  \n",
    "# Deleting an arbitrary key \n",
    "# using popitem() function \n",
    "pop_ele = Dict.popitem() \n",
    "print(\"\\nDictionary after deletion: \" + str(Dict)) \n",
    "print(\"The arbitrary pair returned is: \" + str(pop_ele))\n",
    "pop_ele = Dict.popitem() \n",
    "print(\"\\nDictionary after deletion: \" + str(Dict)) \n",
    "print(\"The arbitrary pair returned is: \" + str(pop_ele))"
   ]
  },
  {
   "cell_type": "code",
   "execution_count": 139,
   "metadata": {},
   "outputs": [
    {
     "name": "stdout",
     "output_type": "stream",
     "text": [
      "{2.5: 'xyz', (3+4j): [3, 4, 5], (1, 2, 3): {'x': 2, 'y': 3, 'z': 1}}\n",
      "((1, 2, 3), {'x': 2, 'y': 3, 'z': 1})\n",
      "{2.5: 'xyz', (3+4j): [3, 4, 5]}\n",
      "((3+4j), [3, 4, 5])\n",
      "{2.5: 'xyz'}\n"
     ]
    }
   ],
   "source": [
    "print(d)\n",
    "print(d.popitem())\n",
    "print(d)\n",
    "print(d.popitem())\n",
    "print(d)"
   ]
  },
  {
   "cell_type": "markdown",
   "metadata": {},
   "source": [
    "### d.update(\\< obj \\>)"
   ]
  },
  {
   "cell_type": "markdown",
   "metadata": {},
   "source": [
    "If \\< obj \\> is a dictionary, *d.update(\\< obj \\>)* merges the entries from \\< obj \\> into d. For each key in \\< obj \\>:\n",
    "\n",
    "* If the key is not present in d, the key-value pair from \\< obj \\> is added to d.\n",
    "* If the key is already present in d, the corresponding value in d for that key is updated to the value from \\< obj \\>.\n",
    "\n",
    "Here is an example showing two dictionaries merged together:"
   ]
  },
  {
   "cell_type": "code",
   "execution_count": 134,
   "metadata": {},
   "outputs": [
    {
     "name": "stdout",
     "output_type": "stream",
     "text": [
      "None\n",
      "{'a': 10, 'b': 200, 'c': 30, 'd': 400}\n",
      "{'b': 200, 'd': 400}\n"
     ]
    }
   ],
   "source": [
    "d1 = {'a': 10, 'b': 20, 'c': 30}\n",
    "d2 = {'b': 200, 'd': 400}\n",
    "print(d1.update(d2))\n",
    "print(d1)\n",
    "print(d2)"
   ]
  },
  {
   "cell_type": "markdown",
   "metadata": {},
   "source": [
    "\\< obj \\> may also be a sequence of key-value pairs, similar to when the *dict()* function is used to define a dictionary. For example, \\< obj \\> can be specified as *a list of tuples*:"
   ]
  },
  {
   "cell_type": "code",
   "execution_count": 135,
   "metadata": {},
   "outputs": [
    {
     "name": "stdout",
     "output_type": "stream",
     "text": [
      "{'a': 10, 'b': 200, 'c': 30, 'd': 400}\n"
     ]
    }
   ],
   "source": [
    "d1 = {'a': 10, 'b': 20, 'c': 30}\n",
    "d1.update([('b', 200), ('d', 400)])\n",
    "print(d1)"
   ]
  },
  {
   "cell_type": "markdown",
   "metadata": {},
   "source": [
    "Or the values to merge can be specified as a list of keyword arguments:"
   ]
  },
  {
   "cell_type": "code",
   "execution_count": 136,
   "metadata": {},
   "outputs": [
    {
     "name": "stdout",
     "output_type": "stream",
     "text": [
      "{'a': 10, 'b': 200, 'c': 30, 'd': 400}\n"
     ]
    }
   ],
   "source": [
    "d1 = {'a': 10, 'b': 20, 'c': 30}\n",
    "d1.update(b=200, d=400)\n",
    "print(d1)"
   ]
  },
  {
   "cell_type": "code",
   "execution_count": 137,
   "metadata": {},
   "outputs": [
    {
     "name": "stdout",
     "output_type": "stream",
     "text": [
      "{'Ali': 22, 'Mehmet': 20, 'Tuğçe': 21, 'Remzi': 25, 'Arzu': 23, 'Sezin': 19, 'Barış': 24}\n"
     ]
    }
   ],
   "source": [
    "Dict = {'Ali': 22,'Mehmet':20,'Tuğçe':21,'Remzi':25, 'Arzu':23, 'Sezin':19}\n",
    "Dict.update({\"Barış\":24})\n",
    "print(Dict)"
   ]
  },
  {
   "cell_type": "code",
   "execution_count": 141,
   "metadata": {},
   "outputs": [
    {
     "name": "stdout",
     "output_type": "stream",
     "text": [
      "None\n",
      "{'a': 1, 'b': 2, 'c': 3, 'd': 4, 1: 1.0, 2: 2.0}\n"
     ]
    }
   ],
   "source": [
    "d_1 = dict(a=1, b=2, c=3, d=4)\n",
    "d_2 = {1: 1.0, 2: 2.0}\n",
    "print(d_1.update(d_2))\n",
    "print(d_1)"
   ]
  },
  {
   "cell_type": "markdown",
   "metadata": {},
   "source": [
    "### d.setdefault(\\< obj \\>)"
   ]
  },
  {
   "cell_type": "code",
   "execution_count": 140,
   "metadata": {},
   "outputs": [
    {
     "name": "stdout",
     "output_type": "stream",
     "text": [
      "{'alfa': 3, 2.5: 'xyz', (3+4j): [3, 4, 5], (1, 2, 3): {'x': 2, 'y': 3, 'z': 1}}\n",
      "3\n",
      "-1999\n",
      "{'alfa': 3, 2.5: 'xyz', (3+4j): [3, 4, 5], (1, 2, 3): {'x': 2, 'y': 3, 'z': 1}, 'beta': -1999}\n"
     ]
    }
   ],
   "source": [
    "d = {}\n",
    "d['alfa'] = 3\n",
    "d[2.5] = 'xyz'\n",
    "d[3+4j] = [3, 4, 5]\n",
    "d[(1,2,3)] = { 'x': 2, 'y': 3, 'z': 1 }\n",
    "print(d)\n",
    "print(d.setdefault('alfa', -1999))\n",
    "print(d.setdefault('beta', -1999))\n",
    "print(d)"
   ]
  },
  {
   "cell_type": "markdown",
   "metadata": {},
   "source": [
    "### d.copy() - Aliasing and copying"
   ]
  },
  {
   "cell_type": "markdown",
   "metadata": {},
   "source": [
    "You can also copy the entire dictionary to new dictionary. For example, here we have copied our original dictionary to new dictionary name \"Boys\" and \"Girls\"."
   ]
  },
  {
   "cell_type": "code",
   "execution_count": 142,
   "metadata": {},
   "outputs": [
    {
     "name": "stdout",
     "output_type": "stream",
     "text": [
      "{'Ali': 22, 'Mehmet': 20, 'Remzi': 25}\n",
      "{'Tuğçe': 21, 'Arzu': 23, 'Sezin': 19}\n"
     ]
    }
   ],
   "source": [
    "Dict = {'Ali': 22,'Mehmet':20,'Tuğçe':21,'Remzi':25, 'Arzu':23, 'Sezin':19}\n",
    "Boys = {'Ali': 22,'Mehmet':20,'Remzi':25}\n",
    "Girls = {'Tuğçe':21, 'Arzu':23, 'Sezin':19}\n",
    "studentX=Boys.copy()\n",
    "studentY=Girls.copy()\n",
    "print(studentX)\n",
    "print(studentY)"
   ]
  },
  {
   "cell_type": "markdown",
   "metadata": {},
   "source": [
    "Because dictionaries are mutable, you need to be aware of aliasing. Whenever two variables refer to the same object, changes to one affect the other.\n",
    "\n",
    "If you want to modify a dictionary and keep a copy of the original, use the copy method. For example, opposites is a dictionary that contains pairs of opposites:"
   ]
  },
  {
   "cell_type": "code",
   "execution_count": 143,
   "metadata": {},
   "outputs": [
    {
     "name": "stdout",
     "output_type": "stream",
     "text": [
      "{'up': 'down', 'right': 'wrong', 'true': 'false'}\n",
      "{'up': 'down', 'right': 'wrong', 'true': 'false'}\n"
     ]
    }
   ],
   "source": [
    "opposites = {'up': 'down', 'right': 'wrong', 'true': 'false'}\n",
    "an_alias = opposites\n",
    "a_copy = opposites.copy()\n",
    "print(an_alias)\n",
    "print(a_copy)"
   ]
  },
  {
   "cell_type": "markdown",
   "metadata": {},
   "source": [
    "*an_alias* and opposites refer to the same object; *a_copy* refers to a fresh copy of the same dictionary. If we modify alias, opposites is also changed:"
   ]
  },
  {
   "cell_type": "code",
   "execution_count": 145,
   "metadata": {},
   "outputs": [
    {
     "name": "stdout",
     "output_type": "stream",
     "text": [
      "left\n",
      "{'up': 'down', 'right': 'left', 'true': 'false'}\n"
     ]
    }
   ],
   "source": [
    "an_alias['right'] = 'left'\n",
    "print(opposites['right'])\n",
    "print(an_alias)"
   ]
  },
  {
   "cell_type": "markdown",
   "metadata": {},
   "source": [
    "If we modify *a_copy*, opposites is unchanged:"
   ]
  },
  {
   "cell_type": "code",
   "execution_count": 146,
   "metadata": {},
   "outputs": [
    {
     "name": "stdout",
     "output_type": "stream",
     "text": [
      "left\n",
      "{'up': 'down', 'right': 'privilege', 'true': 'false'}\n"
     ]
    }
   ],
   "source": [
    "a_copy['right'] = 'privilege'\n",
    "print(opposites['right'])\n",
    "print(a_copy)"
   ]
  },
  {
   "cell_type": "markdown",
   "metadata": {},
   "source": [
    "### sort() and sorted()"
   ]
  },
  {
   "cell_type": "code",
   "execution_count": 148,
   "metadata": {},
   "outputs": [
    {
     "name": "stdout",
     "output_type": "stream",
     "text": [
      "Ali: 22\n",
      "Arzu: 23\n",
      "Mehmet: 20\n",
      "Remzi: 25\n",
      "Sezin: 19\n",
      "Tuğçe: 21\n"
     ]
    }
   ],
   "source": [
    "Dict = {'Ali': 22,'Mehmet':20,'Tuğçe':21,'Remzi':25, 'Arzu':23, 'Sezin':19}\n",
    "Boys = {'Ali': 22,'Mehmet':20,'Remzi':25}\n",
    "Girls = {'Tuğçe':21, 'Arzu':23, 'Sezin':19}\n",
    "Students = list(Dict.keys())\n",
    "Students.sort()\n",
    "for S in Students:\n",
    "      print(\": \".join((S,str(Dict[S]))))"
   ]
  },
  {
   "cell_type": "code",
   "execution_count": 164,
   "metadata": {},
   "outputs": [
    {
     "name": "stdout",
     "output_type": "stream",
     "text": [
      "{'apples': 430, 'bananas': 312, 'oranges': 525}\n",
      "['apples', 'bananas', 'oranges']\n",
      "['apples', 'bananas', 'oranges']\n",
      "['oranges', 'bananas', 'apples']\n",
      "['oranges', 'bananas', 'apples']\n"
     ]
    },
    {
     "ename": "AttributeError",
     "evalue": "'dict' object has no attribute 'sort'",
     "output_type": "error",
     "traceback": [
      "\u001b[1;31m---------------------------------------------------------------------------\u001b[0m",
      "\u001b[1;31mAttributeError\u001b[0m                            Traceback (most recent call last)",
      "\u001b[1;32m<ipython-input-164-a557c2828cdf>\u001b[0m in \u001b[0;36m<module>\u001b[1;34m\u001b[0m\n\u001b[0;32m      6\u001b[0m \u001b[0mprint\u001b[0m\u001b[1;33m(\u001b[0m\u001b[0mlist_1\u001b[0m\u001b[1;33m)\u001b[0m\u001b[1;33m\u001b[0m\u001b[1;33m\u001b[0m\u001b[0m\n\u001b[0;32m      7\u001b[0m \u001b[0mprint\u001b[0m\u001b[1;33m(\u001b[0m\u001b[0msorted\u001b[0m\u001b[1;33m(\u001b[0m\u001b[0minventory\u001b[0m\u001b[1;33m,\u001b[0m \u001b[0mreverse\u001b[0m\u001b[1;33m=\u001b[0m\u001b[1;32mTrue\u001b[0m\u001b[1;33m)\u001b[0m\u001b[1;33m)\u001b[0m\u001b[1;33m\u001b[0m\u001b[1;33m\u001b[0m\u001b[0m\n\u001b[1;32m----> 8\u001b[1;33m \u001b[0minventory\u001b[0m\u001b[1;33m.\u001b[0m\u001b[0msort\u001b[0m\u001b[1;33m(\u001b[0m\u001b[0mreverse\u001b[0m\u001b[1;33m=\u001b[0m\u001b[1;32mTrue\u001b[0m\u001b[1;33m)\u001b[0m\u001b[1;33m\u001b[0m\u001b[1;33m\u001b[0m\u001b[0m\n\u001b[0m",
      "\u001b[1;31mAttributeError\u001b[0m: 'dict' object has no attribute 'sort'"
     ]
    }
   ],
   "source": [
    "print(inventory)\n",
    "print(sorted(inventory))\n",
    "list_1 = list(inventory)\n",
    "print(list_1)\n",
    "list_1.sort(reverse=True)\n",
    "print(list_1)\n",
    "print(sorted(inventory, reverse=True))\n",
    "inventory.sort(reverse=True)"
   ]
  },
  {
   "cell_type": "markdown",
   "metadata": {},
   "source": [
    "# Sets in Python"
   ]
  },
  {
   "cell_type": "markdown",
   "metadata": {},
   "source": [
    "Perhaps you recall learning about sets and set theory at some point in your mathematical education. Maybe you even remember Venn diagrams:\n",
    "\n",
    "In mathematics, a rigorous definition of a set can be abstract and difficult to grasp. Practically though, a set can be thought of simply as a well-defined collection of distinct objects, typically called elements or members.\n",
    "\n",
    "Grouping objects into a set can be useful in programming as well, and Python provides a built-in set type to do so. Sets are distinguished from other object types by the unique operations that can be performed on them."
   ]
  },
  {
   "cell_type": "markdown",
   "metadata": {},
   "source": [
    "<img src=\"https://files.realpython.com/media/t.8b7abb515ae8.png\" alt=\"Venn diagrams\" title=\"Venn diagram\"/>"
   ]
  },
  {
   "cell_type": "markdown",
   "metadata": {},
   "source": [
    "Python’s built-in *set* type has the following characteristics:\n",
    "\n",
    "* Sets are unordered.\n",
    "* Set elements are unique. Duplicate elements are not allowed.\n",
    "* A set itself may be modified, but the elements contained in the set must be of an immutable type.\n",
    "\n",
    "Let’s see what all that means, and how you can work with sets in Python.\n",
    "\n",
    "A set can be created in two ways. First, you can define a set with the built-in set() function:"
   ]
  },
  {
   "cell_type": "raw",
   "metadata": {},
   "source": [
    "x = set(<iter>)"
   ]
  },
  {
   "cell_type": "markdown",
   "metadata": {},
   "source": [
    "In this case, the argument \\< iter \\> is an iterable—again, for the moment, think list or tuple—that generates the list of objects to be included in the set. This is analogous to the \\< iter \\> argument given to the *.extend()* list method:"
   ]
  },
  {
   "cell_type": "code",
   "execution_count": 165,
   "metadata": {},
   "outputs": [
    {
     "name": "stdout",
     "output_type": "stream",
     "text": [
      "{'ali', 'kerem', 'ahmet', 'simge', 'cansu'}\n",
      "{'ali', 'kerem', 'ahmet', 'simge', 'cansu'}\n"
     ]
    }
   ],
   "source": [
    "x = set(['ali', 'ahmet', 'cansu', 'kerem', 'simge'])\n",
    "print(x)\n",
    "x = set(('ali', 'ahmet', 'cansu', 'kerem', 'simge'))\n",
    "print(x)"
   ]
  },
  {
   "cell_type": "markdown",
   "metadata": {},
   "source": [
    "*Strings* are also iterable, so a string can be passed to *set()* as well. You have already seen that list(s) generates a list of the characters in the string s. Similarly, set(s) generates a set of the characters in s:"
   ]
  },
  {
   "cell_type": "code",
   "execution_count": 167,
   "metadata": {},
   "outputs": [
    {
     "name": "stdout",
     "output_type": "stream",
     "text": [
      "['B', 'a', 'n', 'a', 'n', 'a']\n",
      "{'B', 'a', 'n'}\n"
     ]
    }
   ],
   "source": [
    "s = 'Banana'\n",
    "print(list(s))\n",
    "print(set(s))"
   ]
  },
  {
   "cell_type": "markdown",
   "metadata": {},
   "source": [
    "You can see that the resulting sets are unordered: the original order, as specified in the definition, is not necessarily preserved. Additionally, duplicate values are only represented in the set once."
   ]
  },
  {
   "cell_type": "markdown",
   "metadata": {},
   "source": [
    "Alternately, a set can be defined with curly braces ({ }):"
   ]
  },
  {
   "cell_type": "raw",
   "metadata": {},
   "source": [
    "x = {<obj>, <obj>, ..., <obj>}"
   ]
  },
  {
   "cell_type": "markdown",
   "metadata": {},
   "source": [
    "When a set is defined this way, each \\< obj \\> becomes a distinct element of the set, even if it is an iterable. This behavior is similar to that of the *.append()* list method.\n",
    "\n",
    "Thus, the sets shown above can also be defined like this:"
   ]
  },
  {
   "cell_type": "code",
   "execution_count": 168,
   "metadata": {},
   "outputs": [
    {
     "name": "stdout",
     "output_type": "stream",
     "text": [
      "{'ali', 'kerem', 'ahmet', 'simge', 'cansu'}\n",
      "{'B', 'a', 'n'}\n"
     ]
    }
   ],
   "source": [
    "x = {'ali', 'ahmet', 'cansu', 'kerem', 'simge'}\n",
    "print(x)\n",
    "x = {'B', 'a', 'n', 'a', 'n', 'a'}\n",
    "print(x)"
   ]
  },
  {
   "cell_type": "code",
   "execution_count": 169,
   "metadata": {},
   "outputs": [
    {
     "name": "stdout",
     "output_type": "stream",
     "text": [
      "{3.5, 'alfa', 2}\n"
     ]
    }
   ],
   "source": [
    "u = set(['alfa', 2, 3.5])\n",
    "print(u)"
   ]
  },
  {
   "cell_type": "code",
   "execution_count": 170,
   "metadata": {},
   "outputs": [
    {
     "name": "stdout",
     "output_type": "stream",
     "text": [
      "{3.5, 'alfa', 2}\n"
     ]
    }
   ],
   "source": [
    "u = {'alfa', 2, 3.5}\n",
    "print(u)"
   ]
  },
  {
   "cell_type": "markdown",
   "metadata": {},
   "source": [
    "To recap:\n",
    "\n",
    "* The argument to *set()* is an iterable. It generates a list of elements to be placed into the set.\n",
    "* The objects in curly braces are placed into the set intact, even if they are iterable.\n",
    "\n",
    "Observe the difference between these two set definitions:"
   ]
  },
  {
   "cell_type": "code",
   "execution_count": 171,
   "metadata": {},
   "outputs": [
    {
     "name": "stdout",
     "output_type": "stream",
     "text": [
      "{'banana'}\n",
      "{'b', 'n', 'a'}\n"
     ]
    }
   ],
   "source": [
    "print({'banana'})\n",
    "print(set('banana'))"
   ]
  },
  {
   "cell_type": "code",
   "execution_count": 196,
   "metadata": {},
   "outputs": [
    {
     "name": "stdout",
     "output_type": "stream",
     "text": [
      "{1, 2, 3, 4}\n"
     ]
    }
   ],
   "source": [
    "l=[1, 2, 2, 3, 3, 3, 4, 4, 4, 4]\n",
    "t = set(l)\n",
    "print(t)"
   ]
  },
  {
   "cell_type": "markdown",
   "metadata": {},
   "source": [
    "A set can be empty. However, recall that Python interprets empty curly braces ({ }) as an empty **dictionary**, so *the only way to define an empty set* is with the **set()** function:"
   ]
  },
  {
   "cell_type": "code",
   "execution_count": 172,
   "metadata": {},
   "outputs": [
    {
     "name": "stdout",
     "output_type": "stream",
     "text": [
      "<class 'set'>\n",
      "set()\n",
      "<class 'dict'>\n"
     ]
    }
   ],
   "source": [
    "x = set()\n",
    "print(type(x))\n",
    "print(x)\n",
    "x = {}\n",
    "print(type(x))"
   ]
  },
  {
   "cell_type": "code",
   "execution_count": 173,
   "metadata": {},
   "outputs": [
    {
     "name": "stdout",
     "output_type": "stream",
     "text": [
      "<class 'dict'>\n",
      "<class 'set'>\n"
     ]
    }
   ],
   "source": [
    "what_am_i = {'apples': 32, 'bananas': 47, 'pears': 17}\n",
    "print(type(what_am_i))\n",
    "what_am_i = {'apples', 'bananas', 'pears'}\n",
    "print(type(what_am_i))"
   ]
  },
  {
   "cell_type": "code",
   "execution_count": 175,
   "metadata": {},
   "outputs": [
    {
     "name": "stdout",
     "output_type": "stream",
     "text": [
      "<class 'dict'>\n",
      "<class 'set'>\n",
      "set()\n"
     ]
    }
   ],
   "source": [
    "what_am_i = {}\n",
    "print(type(what_am_i))\n",
    "what_am_i = set()\n",
    "print(type(what_am_i))\n",
    "print(what_am_i)"
   ]
  },
  {
   "cell_type": "markdown",
   "metadata": {},
   "source": [
    "An empty *set* is **falsy** in Boolean context:"
   ]
  },
  {
   "cell_type": "code",
   "execution_count": 176,
   "metadata": {},
   "outputs": [
    {
     "name": "stdout",
     "output_type": "stream",
     "text": [
      "False\n",
      "1\n",
      "set()\n"
     ]
    }
   ],
   "source": [
    "x = set()\n",
    "print(bool(x))\n",
    "print(x or 1)\n",
    "print(x and 1)"
   ]
  },
  {
   "cell_type": "markdown",
   "metadata": {},
   "source": [
    "You might think the most intuitive sets would contain similar objects—for example, even numbers or surnames:"
   ]
  },
  {
   "cell_type": "code",
   "execution_count": 177,
   "metadata": {},
   "outputs": [
    {
     "name": "stdout",
     "output_type": "stream",
     "text": [
      "{2, 4, 6, 8, 10}\n",
      "{'Wilson', 'Johansson', 'McArthur', 'Smith'}\n"
     ]
    }
   ],
   "source": [
    "s1 = {2, 4, 6, 8, 10}\n",
    "s2 = {'Smith', 'McArthur', 'Wilson', 'Johansson'}\n",
    "print(s1)\n",
    "print(s2)"
   ]
  },
  {
   "cell_type": "markdown",
   "metadata": {},
   "source": [
    "Python does not require this, though. The elements in a set can be objects of different types:"
   ]
  },
  {
   "cell_type": "code",
   "execution_count": 178,
   "metadata": {},
   "outputs": [
    {
     "name": "stdout",
     "output_type": "stream",
     "text": [
      "{33, 3.14159, 'Python', None}\n"
     ]
    }
   ],
   "source": [
    "x = {33, 'Python', 3.14159, None}\n",
    "print(x)"
   ]
  },
  {
   "cell_type": "markdown",
   "metadata": {},
   "source": [
    "Don’t forget that set elements must be immutable. For example, a tuple may be included in a set:"
   ]
  },
  {
   "cell_type": "code",
   "execution_count": 179,
   "metadata": {},
   "outputs": [
    {
     "name": "stdout",
     "output_type": "stream",
     "text": [
      "{33, 3.14159, 'Python', (1, 2, 3)}\n"
     ]
    }
   ],
   "source": [
    "x = {33, 'Python', (1, 2, 3), 3.14159}\n",
    "print(x)"
   ]
  },
  {
   "cell_type": "markdown",
   "metadata": {},
   "source": [
    "But **lists** and **dictionaries** are mutable, so they can’t be set elements:"
   ]
  },
  {
   "cell_type": "code",
   "execution_count": 180,
   "metadata": {},
   "outputs": [
    {
     "ename": "TypeError",
     "evalue": "unhashable type: 'list'",
     "output_type": "error",
     "traceback": [
      "\u001b[1;31m---------------------------------------------------------------------------\u001b[0m",
      "\u001b[1;31mTypeError\u001b[0m                                 Traceback (most recent call last)",
      "\u001b[1;32m<ipython-input-180-f75821a17488>\u001b[0m in \u001b[0;36m<module>\u001b[1;34m\u001b[0m\n\u001b[0;32m      1\u001b[0m \u001b[0ma\u001b[0m \u001b[1;33m=\u001b[0m \u001b[1;33m[\u001b[0m\u001b[1;36m1\u001b[0m\u001b[1;33m,\u001b[0m \u001b[1;36m2\u001b[0m\u001b[1;33m,\u001b[0m \u001b[1;36m3\u001b[0m\u001b[1;33m]\u001b[0m\u001b[1;33m\u001b[0m\u001b[1;33m\u001b[0m\u001b[0m\n\u001b[1;32m----> 2\u001b[1;33m \u001b[0mprint\u001b[0m\u001b[1;33m(\u001b[0m\u001b[1;33m{\u001b[0m\u001b[0ma\u001b[0m\u001b[1;33m}\u001b[0m\u001b[1;33m)\u001b[0m\u001b[1;33m\u001b[0m\u001b[1;33m\u001b[0m\u001b[0m\n\u001b[0m",
      "\u001b[1;31mTypeError\u001b[0m: unhashable type: 'list'"
     ]
    }
   ],
   "source": [
    "a = [1, 2, 3]\n",
    "print({a})"
   ]
  },
  {
   "cell_type": "code",
   "execution_count": 181,
   "metadata": {},
   "outputs": [
    {
     "ename": "TypeError",
     "evalue": "unhashable type: 'dict'",
     "output_type": "error",
     "traceback": [
      "\u001b[1;31m---------------------------------------------------------------------------\u001b[0m",
      "\u001b[1;31mTypeError\u001b[0m                                 Traceback (most recent call last)",
      "\u001b[1;32m<ipython-input-181-02fd4f78ed89>\u001b[0m in \u001b[0;36m<module>\u001b[1;34m\u001b[0m\n\u001b[0;32m      1\u001b[0m \u001b[0md\u001b[0m \u001b[1;33m=\u001b[0m \u001b[1;33m{\u001b[0m\u001b[1;34m'a'\u001b[0m\u001b[1;33m:\u001b[0m \u001b[1;36m1\u001b[0m\u001b[1;33m,\u001b[0m \u001b[1;34m'b'\u001b[0m\u001b[1;33m:\u001b[0m \u001b[1;36m2\u001b[0m\u001b[1;33m}\u001b[0m\u001b[1;33m\u001b[0m\u001b[1;33m\u001b[0m\u001b[0m\n\u001b[1;32m----> 2\u001b[1;33m \u001b[0mprint\u001b[0m\u001b[1;33m(\u001b[0m\u001b[1;33m{\u001b[0m\u001b[0md\u001b[0m\u001b[1;33m}\u001b[0m\u001b[1;33m)\u001b[0m\u001b[1;33m\u001b[0m\u001b[1;33m\u001b[0m\u001b[0m\n\u001b[0m",
      "\u001b[1;31mTypeError\u001b[0m: unhashable type: 'dict'"
     ]
    }
   ],
   "source": [
    "d = {'a': 1, 'b': 2}\n",
    "print({d})"
   ]
  },
  {
   "cell_type": "code",
   "execution_count": 182,
   "metadata": {},
   "outputs": [
    {
     "name": "stdout",
     "output_type": "stream",
     "text": [
      "{1, 2, 3, 4, 5, 8, 11}\n"
     ]
    }
   ],
   "source": [
    "list_of_numbers = [1, 2, 1, 3, 4, 8, 11, 4, 5, 8]\n",
    "print(set(list_of_numbers))"
   ]
  },
  {
   "cell_type": "markdown",
   "metadata": {},
   "source": [
    "The *len()* function returns the number of elements in a set, and the *in* and *not in* operators can be used to test for membership:"
   ]
  },
  {
   "cell_type": "code",
   "execution_count": 194,
   "metadata": {},
   "outputs": [
    {
     "name": "stdout",
     "output_type": "stream",
     "text": [
      "{33, 3.14159, 'Python', (1, 2, 3)}\n",
      "4\n",
      "True\n",
      "False\n",
      "True\n",
      "False\n"
     ]
    }
   ],
   "source": [
    "print(x)\n",
    "print(len(x))\n",
    "print('Python' in x)\n",
    "print('34' in x)\n",
    "print(34 not in x)\n",
    "print((1,2,3,4) in x)"
   ]
  },
  {
   "cell_type": "markdown",
   "metadata": {},
   "source": [
    "## Operating on a Set"
   ]
  },
  {
   "cell_type": "markdown",
   "metadata": {},
   "source": [
    "Many of the operations that can be used for Python’s other composite data types don’t make sense for sets. For example, sets can’t be indexed or sliced. However, Python provides a whole host of operations on set objects that generally mimic the operations that are defined for mathematical sets.\n",
    "\n",
    "Given two sets, x1 and x2, the union of x1 and x2 is a set consisting of all elements in either set.\n",
    "\n",
    "In Python, set union can be performed with the | operator:\n",
    "\n",
    "Consider these two sets:"
   ]
  },
  {
   "cell_type": "code",
   "execution_count": 197,
   "metadata": {},
   "outputs": [
    {
     "name": "stdout",
     "output_type": "stream",
     "text": [
      "{'ayşe', 'fatma', 'ali', 'veli', 'ahmet', 'hayriye'}\n"
     ]
    }
   ],
   "source": [
    "x1 = {'ali', 'ahmet', 'veli'}\n",
    "x2 = {'ayşe', 'fatma', 'hayriye'}\n",
    "print(x1 | x2)"
   ]
  },
  {
   "cell_type": "markdown",
   "metadata": {},
   "source": [
    "Set union can also be obtained with the *.union()* method. The method is invoked on one of the sets, and the other is passed as an argument:"
   ]
  },
  {
   "cell_type": "code",
   "execution_count": 199,
   "metadata": {},
   "outputs": [
    {
     "name": "stdout",
     "output_type": "stream",
     "text": [
      "{'ayşe', 'fatma', 'ali', 'veli', 'ahmet', 'hayriye'}\n"
     ]
    }
   ],
   "source": [
    "print(x1.union(x2))"
   ]
  },
  {
   "cell_type": "markdown",
   "metadata": {},
   "source": [
    "The way they are used in the examples above, the operator and method behave identically. But there is a subtle difference between them. When you use the | operator, both operands must be sets. The *.union()* method, on the other hand, will take any iterable as an argument, convert it to a set, and then perform the union.\n",
    "\n",
    "Observe the difference between these two statements:"
   ]
  },
  {
   "cell_type": "code",
   "execution_count": 200,
   "metadata": {},
   "outputs": [
    {
     "ename": "TypeError",
     "evalue": "unsupported operand type(s) for |: 'set' and 'tuple'",
     "output_type": "error",
     "traceback": [
      "\u001b[1;31m---------------------------------------------------------------------------\u001b[0m",
      "\u001b[1;31mTypeError\u001b[0m                                 Traceback (most recent call last)",
      "\u001b[1;32m<ipython-input-200-7f4c3c0488ff>\u001b[0m in \u001b[0;36m<module>\u001b[1;34m\u001b[0m\n\u001b[1;32m----> 1\u001b[1;33m \u001b[0mprint\u001b[0m\u001b[1;33m(\u001b[0m\u001b[0mx1\u001b[0m \u001b[1;33m|\u001b[0m \u001b[1;33m(\u001b[0m\u001b[1;34m'Python'\u001b[0m\u001b[1;33m,\u001b[0m \u001b[1;34m'Java'\u001b[0m\u001b[1;33m,\u001b[0m \u001b[1;34m'C++'\u001b[0m\u001b[1;33m)\u001b[0m\u001b[1;33m)\u001b[0m\u001b[1;33m\u001b[0m\u001b[1;33m\u001b[0m\u001b[0m\n\u001b[0m",
      "\u001b[1;31mTypeError\u001b[0m: unsupported operand type(s) for |: 'set' and 'tuple'"
     ]
    }
   ],
   "source": [
    "print(x1 | ('Python', 'Java', 'C++'))"
   ]
  },
  {
   "cell_type": "code",
   "execution_count": 201,
   "metadata": {},
   "outputs": [
    {
     "name": "stdout",
     "output_type": "stream",
     "text": [
      "{'ali', 'veli', 'Java', 'Python', 'ahmet', 'C++'}\n"
     ]
    }
   ],
   "source": [
    "print(x1.union(('Python', 'Java', 'C++')))"
   ]
  },
  {
   "cell_type": "markdown",
   "metadata": {},
   "source": [
    "Both attempt to compute the union of x1 and the tuple ('Python', 'Java', 'C++'). This fails with the | operator but succeeds with the *.union()* method."
   ]
  },
  {
   "cell_type": "raw",
   "metadata": {},
   "source": [
    "x1.union(x2[, x3 ...])\n",
    "x1 | x2 [| x3 ...]"
   ]
  },
  {
   "cell_type": "markdown",
   "metadata": {},
   "source": [
    "<img src=\"https://cdn.programiz.com/sites/tutorial2program/files/set-union.jpg\" alt=\"Union\" title=\"Set Union\"/>"
   ]
  },
  {
   "cell_type": "markdown",
   "metadata": {},
   "source": [
    "*x1.union(x2)* and *x1 | x2* both return the set of all elements in either x1 or x2:"
   ]
  },
  {
   "cell_type": "code",
   "execution_count": 204,
   "metadata": {},
   "outputs": [
    {
     "name": "stdout",
     "output_type": "stream",
     "text": [
      "{'ayşe', 'fatma', 'ali', 'veli', 'ahmet', 'hayriye'}\n",
      "{'ayşe', 'fatma', 'ali', 'veli', 'ahmet', 'hayriye'}\n"
     ]
    }
   ],
   "source": [
    "print(x1.union(x2))\n",
    "print(x1 | x2)"
   ]
  },
  {
   "cell_type": "markdown",
   "metadata": {},
   "source": [
    "More than two sets may be specified with either the operator or the method:"
   ]
  },
  {
   "cell_type": "code",
   "execution_count": 205,
   "metadata": {},
   "outputs": [
    {
     "name": "stdout",
     "output_type": "stream",
     "text": [
      "{1, 2, 3, 4, 5, 6, 7}\n",
      "{1, 2, 3, 4, 5, 6, 7}\n"
     ]
    }
   ],
   "source": [
    "a = {1, 2, 3, 4}\n",
    "b = {2, 3, 4, 5}\n",
    "c = {3, 4, 5, 6}\n",
    "d = {4, 5, 6, 7}\n",
    "\n",
    "print(a.union(b, c, d))\n",
    "\n",
    "print(a | b | c | d)"
   ]
  },
  {
   "cell_type": "code",
   "execution_count": 207,
   "metadata": {},
   "outputs": [
    {
     "name": "stdout",
     "output_type": "stream",
     "text": [
      "{2, 3, 4}\n",
      "{1, 2, 3, 4}\n",
      "{1, 2, 3, 4}\n"
     ]
    }
   ],
   "source": [
    "s = set([2, 3, 4])\n",
    "print(s)\n",
    "print(t)\n",
    "print(s.union(t))"
   ]
  },
  {
   "cell_type": "raw",
   "metadata": {},
   "source": [
    "x1.intersection(x2[, x3 ...])\n",
    "\n",
    "x1 & x2 [& x3 ...]"
   ]
  },
  {
   "cell_type": "markdown",
   "metadata": {},
   "source": [
    "<img src=\"https://cdn.programiz.com/sites/tutorial2program/files/set-intersection.jpg\" alt=\"Intersection\" title=\"Set Intersection\"/>"
   ]
  },
  {
   "cell_type": "markdown",
   "metadata": {},
   "source": [
    "*x1.intersection(x2)* and *x1 & x2* return the set of elements common to both x1 and x2:"
   ]
  },
  {
   "cell_type": "code",
   "execution_count": 209,
   "metadata": {},
   "outputs": [
    {
     "name": "stdout",
     "output_type": "stream",
     "text": [
      "{'veli', 'ahmet', 'ali'}\n",
      "{'fatma', 'ayşe', 'hayriye'}\n",
      "set()\n",
      "set()\n"
     ]
    }
   ],
   "source": [
    "print(x1)\n",
    "print(x2)\n",
    "print(x1.intersection(x2))\n",
    "print(x1 & x2)"
   ]
  },
  {
   "cell_type": "markdown",
   "metadata": {},
   "source": [
    "You can specify multiple sets with the *intersection method* and *operator*, just like you can with set union:"
   ]
  },
  {
   "cell_type": "code",
   "execution_count": 210,
   "metadata": {},
   "outputs": [
    {
     "name": "stdout",
     "output_type": "stream",
     "text": [
      "{4}\n",
      "{4}\n"
     ]
    }
   ],
   "source": [
    "a = {1, 2, 3, 4}\n",
    "b = {2, 3, 4, 5}\n",
    "c = {3, 4, 5, 6}\n",
    "d = {4, 5, 6, 7}\n",
    "print(a.intersection(b, c, d))\n",
    "print(a & b & c & d)"
   ]
  },
  {
   "cell_type": "code",
   "execution_count": 211,
   "metadata": {},
   "outputs": [
    {
     "name": "stdout",
     "output_type": "stream",
     "text": [
      "{2, 3, 4} {1, 2, 3, 4}\n",
      "{2, 3, 4}\n"
     ]
    }
   ],
   "source": [
    "print(s, t)\n",
    "print(s.intersection(t))"
   ]
  },
  {
   "cell_type": "raw",
   "metadata": {},
   "source": [
    "x1.difference(x2[, x3 ...])\n",
    "\n",
    "x1 - x2 [- x3 ...]"
   ]
  },
  {
   "cell_type": "markdown",
   "metadata": {},
   "source": [
    "<img src=\"https://cdn.programiz.com/sites/tutorial2program/files/set-difference.jpg\" alt=\"Difference\" title=\"Set Difference\"/>"
   ]
  },
  {
   "cell_type": "markdown",
   "metadata": {},
   "source": [
    "*x1.difference(x2)* and *x1 - x2* return the set of all elements that are in x1 but not in x2:"
   ]
  },
  {
   "cell_type": "code",
   "execution_count": 212,
   "metadata": {},
   "outputs": [
    {
     "name": "stdout",
     "output_type": "stream",
     "text": [
      "{'veli', 'ahmet', 'ali'}\n",
      "{'fatma', 'ayşe', 'hayriye'}\n",
      "{'veli', 'ahmet', 'ali'}\n",
      "{'veli', 'ahmet', 'ali'}\n"
     ]
    }
   ],
   "source": [
    "print(x1)\n",
    "print(x2)\n",
    "print(x1.difference(x2))\n",
    "print(x1 - x2)"
   ]
  },
  {
   "cell_type": "markdown",
   "metadata": {},
   "source": [
    "Once again, you can specify more than two sets:"
   ]
  },
  {
   "cell_type": "code",
   "execution_count": 213,
   "metadata": {},
   "outputs": [
    {
     "name": "stdout",
     "output_type": "stream",
     "text": [
      "{1, 2, 3}\n",
      "{1, 2, 3}\n"
     ]
    }
   ],
   "source": [
    "a = {1, 2, 3, 30, 300}\n",
    "b = {10, 20, 30, 40}\n",
    "c = {100, 200, 300, 400}\n",
    "\n",
    "print(a.difference(b, c))\n",
    "print(a - b - c)"
   ]
  },
  {
   "cell_type": "markdown",
   "metadata": {},
   "source": [
    "When multiple sets are specified, the operation is performed from left to right. In the example above, *a - b* is computed first, resulting in {1, 2, 3, 300}. Then c is subtracted from that set, leaving *{1, 2, 3}*:"
   ]
  },
  {
   "cell_type": "markdown",
   "metadata": {},
   "source": [
    "<img src=\"https://robocrop.realpython.net/?url=https%3A//files.realpython.com/media/t.b37d6f78f99a.png&w=1153&sig=43b3c03ccbeea1cf89d8152472b81c118a065c67\" alt=\"Difference\" title=\"Set Difference\"/>"
   ]
  },
  {
   "cell_type": "code",
   "execution_count": 215,
   "metadata": {},
   "outputs": [
    {
     "name": "stdout",
     "output_type": "stream",
     "text": [
      "{2, 3, 4} {1, 2, 3, 4}\n",
      "set()\n",
      "{1}\n"
     ]
    }
   ],
   "source": [
    "print(s, t)\n",
    "print(s.difference(t))\n",
    "print(t.difference(s))"
   ]
  },
  {
   "cell_type": "raw",
   "metadata": {},
   "source": [
    "x1.symmetric_difference(x2)\n",
    "\n",
    "x1 ^ x2 [^ x3 ...]"
   ]
  },
  {
   "cell_type": "markdown",
   "metadata": {},
   "source": [
    "<img src=\"https://cdn.programiz.com/sites/tutorial2program/files/set-symmetric-difference.jpg\" alt=\"Symmetric Difference\" title=\"Set Symmetric Difference\"/>"
   ]
  },
  {
   "cell_type": "markdown",
   "metadata": {},
   "source": [
    "*x1.symmetric_difference(x2)* and *x1 ^ x2* return the set of all elements in either x1 or x2, but not both:"
   ]
  },
  {
   "cell_type": "code",
   "execution_count": 216,
   "metadata": {},
   "outputs": [
    {
     "name": "stdout",
     "output_type": "stream",
     "text": [
      "{'veli', 'ahmet', 'ali'}\n",
      "{'fatma', 'ayşe', 'hayriye'}\n",
      "{'ayşe', 'ali', 'veli', 'fatma', 'ahmet', 'hayriye'}\n",
      "{'ayşe', 'ali', 'veli', 'fatma', 'ahmet', 'hayriye'}\n",
      "{'ayşe', 'ali', 'veli', 'fatma', 'ahmet', 'hayriye'}\n",
      "{'ayşe', 'ali', 'veli', 'fatma', 'ahmet', 'hayriye'}\n"
     ]
    }
   ],
   "source": [
    "print(x1)\n",
    "print(x2)\n",
    "print(x1.symmetric_difference(x2))\n",
    "print(x1 ^ x2)\n",
    "print(x2.symmetric_difference(x1))\n",
    "print(x2 ^ x1)"
   ]
  },
  {
   "cell_type": "markdown",
   "metadata": {},
   "source": [
    "The ^ operator also allows more than two sets:"
   ]
  },
  {
   "cell_type": "code",
   "execution_count": 217,
   "metadata": {},
   "outputs": [
    {
     "name": "stdout",
     "output_type": "stream",
     "text": [
      "{10, 100, 5}\n"
     ]
    }
   ],
   "source": [
    "a = {1, 2, 3, 4, 5}\n",
    "b = {10, 2, 3, 4, 50}\n",
    "c = {1, 50, 100}\n",
    "\n",
    "print(a ^ b ^ c)"
   ]
  },
  {
   "cell_type": "markdown",
   "metadata": {},
   "source": [
    "Curiously, although the ^ operator allows multiple sets, the *.symmetric_difference()* method doesn’t:"
   ]
  },
  {
   "cell_type": "code",
   "execution_count": 218,
   "metadata": {},
   "outputs": [
    {
     "ename": "TypeError",
     "evalue": "symmetric_difference() takes exactly one argument (2 given)",
     "output_type": "error",
     "traceback": [
      "\u001b[1;31m---------------------------------------------------------------------------\u001b[0m",
      "\u001b[1;31mTypeError\u001b[0m                                 Traceback (most recent call last)",
      "\u001b[1;32m<ipython-input-218-78cf19c535dc>\u001b[0m in \u001b[0;36m<module>\u001b[1;34m\u001b[0m\n\u001b[1;32m----> 1\u001b[1;33m \u001b[0mprint\u001b[0m\u001b[1;33m(\u001b[0m\u001b[0ma\u001b[0m\u001b[1;33m.\u001b[0m\u001b[0msymmetric_difference\u001b[0m\u001b[1;33m(\u001b[0m\u001b[0mb\u001b[0m\u001b[1;33m,\u001b[0m \u001b[0mc\u001b[0m\u001b[1;33m)\u001b[0m\u001b[1;33m)\u001b[0m\u001b[1;33m\u001b[0m\u001b[1;33m\u001b[0m\u001b[0m\n\u001b[0m",
      "\u001b[1;31mTypeError\u001b[0m: symmetric_difference() takes exactly one argument (2 given)"
     ]
    }
   ],
   "source": [
    "print(a.symmetric_difference(b, c))"
   ]
  },
  {
   "cell_type": "code",
   "execution_count": 219,
   "metadata": {},
   "outputs": [
    {
     "name": "stdout",
     "output_type": "stream",
     "text": [
      "{2, 3, 4} {1, 2, 3, 4}\n",
      "{1}\n",
      "{1}\n"
     ]
    }
   ],
   "source": [
    "print(s, t)\n",
    "print(s.symmetric_difference(t))\n",
    "print(t.symmetric_difference(s))"
   ]
  },
  {
   "cell_type": "raw",
   "metadata": {},
   "source": [
    "x1.isdisjoint(x2)"
   ]
  },
  {
   "cell_type": "markdown",
   "metadata": {},
   "source": [
    "*x1.isdisjoint(x2)* returns True if x1 and x2 have no elements in common:"
   ]
  },
  {
   "cell_type": "code",
   "execution_count": 222,
   "metadata": {},
   "outputs": [
    {
     "name": "stdout",
     "output_type": "stream",
     "text": [
      "{'veli', 'ahmet', 'ali'}\n",
      "{'fatma', 'ayşe', 'hayriye'}\n",
      "True\n",
      "set()\n"
     ]
    }
   ],
   "source": [
    "print(x1)\n",
    "print(x2)\n",
    "print(x1.isdisjoint(x2))\n",
    "print(x1 & x2)"
   ]
  },
  {
   "cell_type": "code",
   "execution_count": 232,
   "metadata": {},
   "outputs": [
    {
     "name": "stdout",
     "output_type": "stream",
     "text": [
      "{2, 3, 4} {1, 2, 3, 4}\n",
      "False\n",
      "set()\n",
      "{5}\n",
      "True\n"
     ]
    }
   ],
   "source": [
    "print(s, t)\n",
    "print(s.isdisjoint(t))\n",
    "print(s - {2} - {3} - {4})\n",
    "s = {5}\n",
    "print(s)\n",
    "print(s.isdisjoint(t))"
   ]
  },
  {
   "cell_type": "markdown",
   "metadata": {},
   "source": [
    "If *x1.isdisjoint(x2)* is *True*, then *x1 & x2* is the empty set:"
   ]
  },
  {
   "cell_type": "code",
   "execution_count": 233,
   "metadata": {},
   "outputs": [
    {
     "name": "stdout",
     "output_type": "stream",
     "text": [
      "True\n",
      "set()\n"
     ]
    }
   ],
   "source": [
    "x_1 = {1, 3, 5}\n",
    "x_2 = {2, 4, 6}\n",
    "\n",
    "print(x_1.isdisjoint(x_2))\n",
    "print(x_1 & x_2)"
   ]
  },
  {
   "cell_type": "raw",
   "metadata": {},
   "source": [
    "x1.issubset(x2)\n",
    "\n",
    "x1 <= x2"
   ]
  },
  {
   "cell_type": "markdown",
   "metadata": {},
   "source": [
    "n set theory, a set x1 is considered a subset of another set x2 if every element of x1 is in x2.\n",
    "\n",
    "*x1.issubset(x2)* and *x1 <= x2* return *True* if x1 is a subset of x2:"
   ]
  },
  {
   "cell_type": "code",
   "execution_count": 236,
   "metadata": {},
   "outputs": [
    {
     "name": "stdout",
     "output_type": "stream",
     "text": [
      "True\n",
      "True\n",
      "False\n"
     ]
    }
   ],
   "source": [
    "x_3 = {1, 2, 'ali', 'Python', 2.3, 'Java'}\n",
    "x_4 = {1, 2.3, 'Python'}\n",
    "x_5 = {'Python', 'Java', 3.14, 2.72}\n",
    "\n",
    "print(x_4.issubset(x_3))\n",
    "print(x_4 <= x_3)\n",
    "print(x_5 <= x_3)"
   ]
  },
  {
   "cell_type": "markdown",
   "metadata": {},
   "source": [
    "A set is considered to be a subset of itself:"
   ]
  },
  {
   "cell_type": "code",
   "execution_count": 235,
   "metadata": {},
   "outputs": [
    {
     "name": "stdout",
     "output_type": "stream",
     "text": [
      "True\n",
      "True\n"
     ]
    }
   ],
   "source": [
    "y = {1, 2, 3, 4, 5}\n",
    "print(y.issubset(y))\n",
    "print(y <= y)"
   ]
  },
  {
   "cell_type": "raw",
   "metadata": {},
   "source": [
    "x1 < x2"
   ]
  },
  {
   "cell_type": "markdown",
   "metadata": {},
   "source": [
    "A proper subset is the same as a subset, except that the sets can’t be identical. A set x1 is considered a proper subset of another set x2 if every element of x1 is in x2, and x1 and x2 are not equal.\n",
    "\n",
    "*x1 < x2* returns *True* if x1 is a proper subset of x2:"
   ]
  },
  {
   "cell_type": "code",
   "execution_count": 237,
   "metadata": {},
   "outputs": [
    {
     "name": "stdout",
     "output_type": "stream",
     "text": [
      "True\n",
      "False\n"
     ]
    }
   ],
   "source": [
    "x_3 = {1, 2, 'ali', 'Python', 2.3, 'Java'}\n",
    "x_4 = {1, 2.3, 'Python'}\n",
    "x_6 = {1, 2, 'ali', 'Python', 2.3, 'Java'}\n",
    "\n",
    "print(x_4 < x_3)\n",
    "print(x_6 < x_3)"
   ]
  },
  {
   "cell_type": "markdown",
   "metadata": {},
   "source": [
    "While a set is considered a subset of itself, it is not a proper subset of itself:"
   ]
  },
  {
   "cell_type": "code",
   "execution_count": 238,
   "metadata": {},
   "outputs": [
    {
     "name": "stdout",
     "output_type": "stream",
     "text": [
      "{1, 2, 2.3, 'ali', 'Java', 'Python'}\n",
      "True\n",
      "False\n"
     ]
    }
   ],
   "source": [
    "print(x_3)\n",
    "print(x_3 <= x_3)\n",
    "print(x_3 < x_3)"
   ]
  },
  {
   "cell_type": "raw",
   "metadata": {},
   "source": [
    "x1.issuperset(x2)\n",
    "\n",
    "x1 >= x2"
   ]
  },
  {
   "cell_type": "markdown",
   "metadata": {},
   "source": [
    "A superset is the reverse of a subset. A set x1 is considered a superset of another set x2 if x1 contains every element of x2.\n",
    "\n",
    "*x1.issuperset(x2)* and *x1 >= x2* return *True* if x1 is a superset of x2:"
   ]
  },
  {
   "cell_type": "code",
   "execution_count": 239,
   "metadata": {},
   "outputs": [
    {
     "name": "stdout",
     "output_type": "stream",
     "text": [
      "{1, 2, 2.3, 'ali', 'Java', 'Python'}\n",
      "{1, 2.3, 'Python'}\n",
      "True\n",
      "True\n"
     ]
    }
   ],
   "source": [
    "print(x_3)\n",
    "print(x_4)\n",
    "print(x_3.issuperset(x_4))\n",
    "print(x_3 >= x_4)"
   ]
  },
  {
   "cell_type": "markdown",
   "metadata": {},
   "source": [
    "You have already seen that a set is considered a subset of itself. A set is also considered a superset of itself:"
   ]
  },
  {
   "cell_type": "code",
   "execution_count": 240,
   "metadata": {},
   "outputs": [
    {
     "name": "stdout",
     "output_type": "stream",
     "text": [
      "{1, 2, 2.3, 'ali', 'Java', 'Python'}\n",
      "True\n",
      "True\n"
     ]
    }
   ],
   "source": [
    "print(x_3)\n",
    "print(x_3.issuperset(x_3))\n",
    "print(x_3 >= x_3)"
   ]
  },
  {
   "cell_type": "raw",
   "metadata": {},
   "source": [
    "x1 > x2"
   ]
  },
  {
   "cell_type": "markdown",
   "metadata": {},
   "source": [
    "A proper superset is the same as a superset, except that the sets can’t be identical. A set x1 is considered a proper superset of another set x2 if x1 contains every element of x2, and x1 and x2 are not equal.\n",
    "\n",
    "*x1 > x2* returns *True* if x1 is a proper superset of x2:"
   ]
  },
  {
   "cell_type": "code",
   "execution_count": 241,
   "metadata": {},
   "outputs": [
    {
     "name": "stdout",
     "output_type": "stream",
     "text": [
      "{1, 2, 2.3, 'ali', 'Java', 'Python'} {1, 2.3, 'Python'} {1, 2, 2.3, 'ali', 'Java', 'Python'}\n",
      "True\n",
      "False\n"
     ]
    }
   ],
   "source": [
    "print(x_3, x_4, x_6)\n",
    "print(x_3 > x_4)\n",
    "print(x_3 > x_6)"
   ]
  },
  {
   "cell_type": "markdown",
   "metadata": {},
   "source": [
    "A set is not a proper superset of itself:"
   ]
  },
  {
   "cell_type": "code",
   "execution_count": 242,
   "metadata": {},
   "outputs": [
    {
     "name": "stdout",
     "output_type": "stream",
     "text": [
      "{1, 2, 2.3, 'ali', 'Java', 'Python'}\n",
      "False\n"
     ]
    }
   ],
   "source": [
    "print(x_3)\n",
    "print(x_3 > x_3)"
   ]
  },
  {
   "cell_type": "raw",
   "metadata": {},
   "source": [
    "x1.update(x2[, x3 ...])"
   ]
  },
  {
   "cell_type": "markdown",
   "metadata": {},
   "source": [
    "*x1.update(x2)* add to x1 any elements in x2 that x1 does not already have:"
   ]
  },
  {
   "cell_type": "code",
   "execution_count": 248,
   "metadata": {},
   "outputs": [
    {
     "name": "stdout",
     "output_type": "stream",
     "text": [
      "{'corge', 'foo', 'garply', 'baz', 'bar'}\n",
      "{'corge', 'foo', 'garply', 'baz', 'qux', 'bar'}\n"
     ]
    }
   ],
   "source": [
    "x1 = {'foo', 'bar', 'baz'}\n",
    "x2 = {'foo', 'baz', 'qux'}\n",
    "\n",
    "x1.update(['corge', 'garply'])\n",
    "print(x1)\n",
    "x1.update(x2)\n",
    "print(x1)"
   ]
  },
  {
   "cell_type": "raw",
   "metadata": {},
   "source": [
    "x1.intersection_update(x2[, x3 ...])"
   ]
  },
  {
   "cell_type": "markdown",
   "metadata": {},
   "source": [
    "*x1.intersection_update(x2)* update x1, retaining only elements found in both x1 and x2:"
   ]
  },
  {
   "cell_type": "code",
   "execution_count": 251,
   "metadata": {},
   "outputs": [
    {
     "name": "stdout",
     "output_type": "stream",
     "text": [
      "{'foo', 'baz'}\n",
      "{'baz'}\n"
     ]
    }
   ],
   "source": [
    "x1 = {'foo', 'bar', 'baz'}\n",
    "x2 = {'foo', 'baz', 'qux'}\n",
    "x1.intersection_update(x2)\n",
    "print(x1)\n",
    "x1.intersection_update(['baz', 'qux'])\n",
    "print(x1)"
   ]
  },
  {
   "cell_type": "raw",
   "metadata": {},
   "source": [
    "x1.difference_update(x2[, x3 ...])"
   ]
  },
  {
   "cell_type": "markdown",
   "metadata": {},
   "source": [
    "*x1.difference_update(x2)* update x1, removing elements found in x2:"
   ]
  },
  {
   "cell_type": "code",
   "execution_count": 252,
   "metadata": {},
   "outputs": [
    {
     "name": "stdout",
     "output_type": "stream",
     "text": [
      "{'bar'}\n",
      "set()\n"
     ]
    }
   ],
   "source": [
    "x1 = {'foo', 'bar', 'baz'}\n",
    "x2 = {'foo', 'baz', 'qux'}\n",
    "x1.difference_update(x2)\n",
    "print(x1)\n",
    "x1.difference_update(['foo', 'bar', 'qux'])\n",
    "print(x1)"
   ]
  },
  {
   "cell_type": "raw",
   "metadata": {},
   "source": [
    "x1.symmetric_difference_update(x2)"
   ]
  },
  {
   "cell_type": "markdown",
   "metadata": {},
   "source": [
    "*x1.symmetric_difference_update(x2)* update x1, retaining elements found in either x1 or x2, but not both:"
   ]
  },
  {
   "cell_type": "code",
   "execution_count": 253,
   "metadata": {},
   "outputs": [
    {
     "name": "stdout",
     "output_type": "stream",
     "text": [
      "{'qux', 'bar'}\n",
      "{'corge', 'bar'}\n"
     ]
    }
   ],
   "source": [
    "x1 = {'foo', 'bar', 'baz'}\n",
    "x2 = {'foo', 'baz', 'qux'}\n",
    "x1.symmetric_difference_update(x2)\n",
    "print(x1)\n",
    "x1.symmetric_difference_update(['qux', 'corge'])\n",
    "print(x1)"
   ]
  },
  {
   "cell_type": "markdown",
   "metadata": {},
   "source": [
    "## Other Methods For Modifying Sets"
   ]
  },
  {
   "cell_type": "markdown",
   "metadata": {},
   "source": [
    "### x.add(\\< elem \\>)"
   ]
  },
  {
   "cell_type": "markdown",
   "metadata": {},
   "source": [
    "*x.add(\\< elem \\>)* adds \\< elem \\>, which must be a single immutable object, to x:"
   ]
  },
  {
   "cell_type": "code",
   "execution_count": 254,
   "metadata": {},
   "outputs": [
    {
     "name": "stdout",
     "output_type": "stream",
     "text": [
      "{'foo', 'qux', 'bar', 'baz'}\n"
     ]
    }
   ],
   "source": [
    "x = {'foo', 'bar', 'baz'}\n",
    "x.add('qux')\n",
    "print(x)"
   ]
  },
  {
   "cell_type": "code",
   "execution_count": 255,
   "metadata": {},
   "outputs": [
    {
     "name": "stdout",
     "output_type": "stream",
     "text": [
      "{2, 3, 4}\n"
     ]
    }
   ],
   "source": [
    "s = set()\n",
    "s.add(2)\n",
    "s.add(3)\n",
    "s.add(2)\n",
    "s.add(4)\n",
    "print(s)"
   ]
  },
  {
   "cell_type": "markdown",
   "metadata": {},
   "source": [
    "x.remove(\\< elem \\>)"
   ]
  },
  {
   "cell_type": "markdown",
   "metadata": {},
   "source": [
    "*x.remove(\\< elem \\>)* removes \\< elem \\> from x. Python raises an exception if \\< elem \\> is not in x:"
   ]
  },
  {
   "cell_type": "code",
   "execution_count": 256,
   "metadata": {},
   "outputs": [
    {
     "name": "stdout",
     "output_type": "stream",
     "text": [
      "{'foo', 'bar'}\n"
     ]
    },
    {
     "ename": "KeyError",
     "evalue": "'qux'",
     "output_type": "error",
     "traceback": [
      "\u001b[1;31m---------------------------------------------------------------------------\u001b[0m",
      "\u001b[1;31mKeyError\u001b[0m                                  Traceback (most recent call last)",
      "\u001b[1;32m<ipython-input-256-00b6b9b060ff>\u001b[0m in \u001b[0;36m<module>\u001b[1;34m\u001b[0m\n\u001b[0;32m      2\u001b[0m \u001b[0mx\u001b[0m\u001b[1;33m.\u001b[0m\u001b[0mremove\u001b[0m\u001b[1;33m(\u001b[0m\u001b[1;34m'baz'\u001b[0m\u001b[1;33m)\u001b[0m\u001b[1;33m\u001b[0m\u001b[1;33m\u001b[0m\u001b[0m\n\u001b[0;32m      3\u001b[0m \u001b[0mprint\u001b[0m\u001b[1;33m(\u001b[0m\u001b[0mx\u001b[0m\u001b[1;33m)\u001b[0m\u001b[1;33m\u001b[0m\u001b[1;33m\u001b[0m\u001b[0m\n\u001b[1;32m----> 4\u001b[1;33m \u001b[0mx\u001b[0m\u001b[1;33m.\u001b[0m\u001b[0mremove\u001b[0m\u001b[1;33m(\u001b[0m\u001b[1;34m'qux'\u001b[0m\u001b[1;33m)\u001b[0m\u001b[1;33m\u001b[0m\u001b[1;33m\u001b[0m\u001b[0m\n\u001b[0m",
      "\u001b[1;31mKeyError\u001b[0m: 'qux'"
     ]
    }
   ],
   "source": [
    "x = {'foo', 'bar', 'baz'}\n",
    "x.remove('baz')\n",
    "print(x)\n",
    "x.remove('qux')"
   ]
  },
  {
   "cell_type": "markdown",
   "metadata": {},
   "source": [
    "x.discard(\\< elem \\>)"
   ]
  },
  {
   "cell_type": "markdown",
   "metadata": {},
   "source": [
    "*x.discard(\\< elem \\>)* also removes \\< elem \\> from x. However, if \\< elem \\> is not in x, this method quietly does nothing instead of raising an exception:"
   ]
  },
  {
   "cell_type": "code",
   "execution_count": 257,
   "metadata": {},
   "outputs": [
    {
     "name": "stdout",
     "output_type": "stream",
     "text": [
      "{'foo', 'bar'}\n",
      "{'foo', 'bar'}\n"
     ]
    }
   ],
   "source": [
    "x = {'foo', 'bar', 'baz'}\n",
    "\n",
    "x.discard('baz')\n",
    "print(x)\n",
    "\n",
    "x.discard('qux')\n",
    "print(x)"
   ]
  },
  {
   "cell_type": "code",
   "execution_count": 258,
   "metadata": {},
   "outputs": [
    {
     "name": "stdout",
     "output_type": "stream",
     "text": [
      "{2, 3, 4}\n",
      "{2, 4}\n"
     ]
    }
   ],
   "source": [
    "print(s)\n",
    "s.discard(3)\n",
    "print(s)"
   ]
  },
  {
   "cell_type": "markdown",
   "metadata": {},
   "source": [
    "x.pop()"
   ]
  },
  {
   "cell_type": "markdown",
   "metadata": {},
   "source": [
    "*x.pop()* removes and returns an arbitrarily chosen element from x. If x is empty, *x.pop()* raises an exception:"
   ]
  },
  {
   "cell_type": "code",
   "execution_count": 259,
   "metadata": {},
   "outputs": [
    {
     "name": "stdout",
     "output_type": "stream",
     "text": [
      "foo\n",
      "{'bar', 'baz'}\n",
      "bar\n",
      "{'baz'}\n",
      "baz\n",
      "set()\n"
     ]
    },
    {
     "ename": "KeyError",
     "evalue": "'pop from an empty set'",
     "output_type": "error",
     "traceback": [
      "\u001b[1;31m---------------------------------------------------------------------------\u001b[0m",
      "\u001b[1;31mKeyError\u001b[0m                                  Traceback (most recent call last)",
      "\u001b[1;32m<ipython-input-259-2de45a7b657b>\u001b[0m in \u001b[0;36m<module>\u001b[1;34m\u001b[0m\n\u001b[0;32m      6\u001b[0m \u001b[0mprint\u001b[0m\u001b[1;33m(\u001b[0m\u001b[0mx\u001b[0m\u001b[1;33m.\u001b[0m\u001b[0mpop\u001b[0m\u001b[1;33m(\u001b[0m\u001b[1;33m)\u001b[0m\u001b[1;33m)\u001b[0m\u001b[1;33m\u001b[0m\u001b[1;33m\u001b[0m\u001b[0m\n\u001b[0;32m      7\u001b[0m \u001b[0mprint\u001b[0m\u001b[1;33m(\u001b[0m\u001b[0mx\u001b[0m\u001b[1;33m)\u001b[0m\u001b[1;33m\u001b[0m\u001b[1;33m\u001b[0m\u001b[0m\n\u001b[1;32m----> 8\u001b[1;33m \u001b[0mprint\u001b[0m\u001b[1;33m(\u001b[0m\u001b[0mx\u001b[0m\u001b[1;33m.\u001b[0m\u001b[0mpop\u001b[0m\u001b[1;33m(\u001b[0m\u001b[1;33m)\u001b[0m\u001b[1;33m)\u001b[0m\u001b[1;33m\u001b[0m\u001b[1;33m\u001b[0m\u001b[0m\n\u001b[0m",
      "\u001b[1;31mKeyError\u001b[0m: 'pop from an empty set'"
     ]
    }
   ],
   "source": [
    "x = {'foo', 'bar', 'baz'}\n",
    "print(x.pop())\n",
    "print(x)\n",
    "print(x.pop())\n",
    "print(x)\n",
    "print(x.pop())\n",
    "print(x)\n",
    "print(x.pop())"
   ]
  },
  {
   "cell_type": "markdown",
   "metadata": {},
   "source": [
    "x.clear()"
   ]
  },
  {
   "cell_type": "markdown",
   "metadata": {},
   "source": [
    "*x.clear()* removes all elements from x:"
   ]
  },
  {
   "cell_type": "code",
   "execution_count": 260,
   "metadata": {},
   "outputs": [
    {
     "name": "stdout",
     "output_type": "stream",
     "text": [
      "{'foo', 'bar', 'baz'}\n",
      "set()\n"
     ]
    }
   ],
   "source": [
    "x = {'foo', 'bar', 'baz'}\n",
    "print(x)\n",
    "x.clear()\n",
    "print(x)"
   ]
  },
  {
   "cell_type": "code",
   "execution_count": 261,
   "metadata": {},
   "outputs": [
    {
     "name": "stdout",
     "output_type": "stream",
     "text": [
      "{2, 4}\n",
      "set()\n"
     ]
    }
   ],
   "source": [
    "print(s)\n",
    "s.clear()\n",
    "print(s)"
   ]
  },
  {
   "cell_type": "markdown",
   "metadata": {},
   "source": [
    "## Frozen Sets "
   ]
  },
  {
   "cell_type": "markdown",
   "metadata": {},
   "source": [
    "Python provides another built-in type called a *frozenset*, which is in all respects exactly like a set, except that a *frozenset* is **immutable**. You can perform non-modifying operations on a *frozenset*:"
   ]
  },
  {
   "cell_type": "code",
   "execution_count": 262,
   "metadata": {},
   "outputs": [
    {
     "name": "stdout",
     "output_type": "stream",
     "text": [
      "frozenset({'foo', 'bar', 'baz'})\n",
      "3\n",
      "frozenset({'baz'})\n"
     ]
    }
   ],
   "source": [
    "x = frozenset(['foo', 'bar', 'baz'])\n",
    "print(x)\n",
    "print(len(x))\n",
    "print(x & {'baz', 'qux', 'quux'})"
   ]
  },
  {
   "cell_type": "markdown",
   "metadata": {},
   "source": [
    "But methods that attempt to modify a frozenset fail:"
   ]
  },
  {
   "cell_type": "code",
   "execution_count": 263,
   "metadata": {},
   "outputs": [
    {
     "ename": "AttributeError",
     "evalue": "'frozenset' object has no attribute 'add'",
     "output_type": "error",
     "traceback": [
      "\u001b[1;31m---------------------------------------------------------------------------\u001b[0m",
      "\u001b[1;31mAttributeError\u001b[0m                            Traceback (most recent call last)",
      "\u001b[1;32m<ipython-input-263-650a9cd60e01>\u001b[0m in \u001b[0;36m<module>\u001b[1;34m\u001b[0m\n\u001b[0;32m      1\u001b[0m \u001b[0mx\u001b[0m \u001b[1;33m=\u001b[0m \u001b[0mfrozenset\u001b[0m\u001b[1;33m(\u001b[0m\u001b[1;33m[\u001b[0m\u001b[1;34m'foo'\u001b[0m\u001b[1;33m,\u001b[0m \u001b[1;34m'bar'\u001b[0m\u001b[1;33m,\u001b[0m \u001b[1;34m'baz'\u001b[0m\u001b[1;33m]\u001b[0m\u001b[1;33m)\u001b[0m\u001b[1;33m\u001b[0m\u001b[1;33m\u001b[0m\u001b[0m\n\u001b[1;32m----> 2\u001b[1;33m \u001b[0mx\u001b[0m\u001b[1;33m.\u001b[0m\u001b[0madd\u001b[0m\u001b[1;33m(\u001b[0m\u001b[1;34m'qux'\u001b[0m\u001b[1;33m)\u001b[0m\u001b[1;33m\u001b[0m\u001b[1;33m\u001b[0m\u001b[0m\n\u001b[0m",
      "\u001b[1;31mAttributeError\u001b[0m: 'frozenset' object has no attribute 'add'"
     ]
    }
   ],
   "source": [
    "x = frozenset(['foo', 'bar', 'baz'])\n",
    "x.add('qux')"
   ]
  },
  {
   "cell_type": "code",
   "execution_count": 264,
   "metadata": {},
   "outputs": [
    {
     "ename": "AttributeError",
     "evalue": "'frozenset' object has no attribute 'pop'",
     "output_type": "error",
     "traceback": [
      "\u001b[1;31m---------------------------------------------------------------------------\u001b[0m",
      "\u001b[1;31mAttributeError\u001b[0m                            Traceback (most recent call last)",
      "\u001b[1;32m<ipython-input-264-22e0729a7b70>\u001b[0m in \u001b[0;36m<module>\u001b[1;34m\u001b[0m\n\u001b[1;32m----> 1\u001b[1;33m \u001b[0mx\u001b[0m\u001b[1;33m.\u001b[0m\u001b[0mpop\u001b[0m\u001b[1;33m(\u001b[0m\u001b[1;33m)\u001b[0m\u001b[1;33m\u001b[0m\u001b[1;33m\u001b[0m\u001b[0m\n\u001b[0m",
      "\u001b[1;31mAttributeError\u001b[0m: 'frozenset' object has no attribute 'pop'"
     ]
    }
   ],
   "source": [
    "x.pop()"
   ]
  },
  {
   "cell_type": "code",
   "execution_count": 265,
   "metadata": {},
   "outputs": [
    {
     "ename": "AttributeError",
     "evalue": "'frozenset' object has no attribute 'clear'",
     "output_type": "error",
     "traceback": [
      "\u001b[1;31m---------------------------------------------------------------------------\u001b[0m",
      "\u001b[1;31mAttributeError\u001b[0m                            Traceback (most recent call last)",
      "\u001b[1;32m<ipython-input-265-e12bd201b1dd>\u001b[0m in \u001b[0;36m<module>\u001b[1;34m\u001b[0m\n\u001b[1;32m----> 1\u001b[1;33m \u001b[0mx\u001b[0m\u001b[1;33m.\u001b[0m\u001b[0mclear\u001b[0m\u001b[1;33m(\u001b[0m\u001b[1;33m)\u001b[0m\u001b[1;33m\u001b[0m\u001b[1;33m\u001b[0m\u001b[0m\n\u001b[0m",
      "\u001b[1;31mAttributeError\u001b[0m: 'frozenset' object has no attribute 'clear'"
     ]
    }
   ],
   "source": [
    "x.clear()"
   ]
  },
  {
   "cell_type": "code",
   "execution_count": 266,
   "metadata": {},
   "outputs": [
    {
     "name": "stdout",
     "output_type": "stream",
     "text": [
      "frozenset({'foo', 'bar', 'baz'})\n"
     ]
    }
   ],
   "source": [
    "print(x)"
   ]
  },
  {
   "cell_type": "markdown",
   "metadata": {},
   "source": [
    "Since a *frozenset* is **immutable**, you might think it can’t be the target of an augmented assignment operator. But observe:"
   ]
  },
  {
   "cell_type": "code",
   "execution_count": 269,
   "metadata": {},
   "outputs": [
    {
     "name": "stdout",
     "output_type": "stream",
     "text": [
      "frozenset({'baz'})\n"
     ]
    }
   ],
   "source": [
    "f = frozenset(['foo', 'bar', 'baz'])\n",
    "s = {'baz', 'qux', 'quux'}\n",
    "f &= s\n",
    "print(f)"
   ]
  },
  {
   "cell_type": "markdown",
   "metadata": {},
   "source": [
    "What gives?\n",
    "\n",
    "Python does not perform augmented assignments on frozensets in place. The statement x &= s is effectively equivalent to x = x & s. It isn’t modifying the original x. It is reassigning x to a new object, and the object x originally referenced is gone.\n",
    "\n",
    "You can verify this with the id() function:"
   ]
  },
  {
   "cell_type": "code",
   "execution_count": 270,
   "metadata": {},
   "outputs": [
    {
     "name": "stdout",
     "output_type": "stream",
     "text": [
      "2708551000136\n",
      "frozenset({'baz'})\n",
      "2708549692104\n"
     ]
    }
   ],
   "source": [
    "f = frozenset(['foo', 'bar', 'baz'])\n",
    "print(id(f))\n",
    "s = {'baz', 'qux', 'quux'}\n",
    "f &= s\n",
    "print(f)\n",
    "print(id(f))"
   ]
  },
  {
   "cell_type": "markdown",
   "metadata": {},
   "source": [
    "**Frozensets** are useful in situations where you want to use *a set*, but you need an **immutable** object. For example, **you can’t define a set whose elements are also sets, because set elements must be immutable**:"
   ]
  },
  {
   "cell_type": "code",
   "execution_count": 271,
   "metadata": {},
   "outputs": [
    {
     "ename": "TypeError",
     "evalue": "unhashable type: 'set'",
     "output_type": "error",
     "traceback": [
      "\u001b[1;31m---------------------------------------------------------------------------\u001b[0m",
      "\u001b[1;31mTypeError\u001b[0m                                 Traceback (most recent call last)",
      "\u001b[1;32m<ipython-input-271-5a2ba5c48252>\u001b[0m in \u001b[0;36m<module>\u001b[1;34m\u001b[0m\n\u001b[0;32m      2\u001b[0m \u001b[0mx2\u001b[0m \u001b[1;33m=\u001b[0m \u001b[0mset\u001b[0m\u001b[1;33m(\u001b[0m\u001b[1;33m[\u001b[0m\u001b[1;34m'bar'\u001b[0m\u001b[1;33m]\u001b[0m\u001b[1;33m)\u001b[0m\u001b[1;33m\u001b[0m\u001b[1;33m\u001b[0m\u001b[0m\n\u001b[0;32m      3\u001b[0m \u001b[0mx3\u001b[0m \u001b[1;33m=\u001b[0m \u001b[0mset\u001b[0m\u001b[1;33m(\u001b[0m\u001b[1;33m[\u001b[0m\u001b[1;34m'baz'\u001b[0m\u001b[1;33m]\u001b[0m\u001b[1;33m)\u001b[0m\u001b[1;33m\u001b[0m\u001b[1;33m\u001b[0m\u001b[0m\n\u001b[1;32m----> 4\u001b[1;33m \u001b[0mx\u001b[0m \u001b[1;33m=\u001b[0m \u001b[1;33m{\u001b[0m\u001b[0mx1\u001b[0m\u001b[1;33m,\u001b[0m \u001b[0mx2\u001b[0m\u001b[1;33m,\u001b[0m \u001b[0mx3\u001b[0m\u001b[1;33m}\u001b[0m\u001b[1;33m\u001b[0m\u001b[1;33m\u001b[0m\u001b[0m\n\u001b[0m",
      "\u001b[1;31mTypeError\u001b[0m: unhashable type: 'set'"
     ]
    }
   ],
   "source": [
    "x1 = set(['foo'])\n",
    "x2 = set(['bar'])\n",
    "x3 = set(['baz'])\n",
    "x = {x1, x2, x3}"
   ]
  },
  {
   "cell_type": "markdown",
   "metadata": {},
   "source": [
    "If you really feel compelled to define a set of sets, you can do it if the elements are *frozensets*, because they are **immutable**:"
   ]
  },
  {
   "cell_type": "code",
   "execution_count": 272,
   "metadata": {},
   "outputs": [
    {
     "name": "stdout",
     "output_type": "stream",
     "text": [
      "{frozenset({'foo'}), frozenset({'baz'}), frozenset({'bar'})}\n"
     ]
    }
   ],
   "source": [
    "x1 = frozenset(['foo'])\n",
    "x2 = frozenset(['bar'])\n",
    "x3 = frozenset(['baz'])\n",
    "x = {x1, x2, x3}\n",
    "print(x)"
   ]
  },
  {
   "cell_type": "markdown",
   "metadata": {},
   "source": [
    "Likewise, recall from the above on dictionaries that a dictionary key must be **immutable**. You can’t use the built-in set type as a dictionary key:"
   ]
  },
  {
   "cell_type": "code",
   "execution_count": 273,
   "metadata": {},
   "outputs": [
    {
     "ename": "TypeError",
     "evalue": "unhashable type: 'set'",
     "output_type": "error",
     "traceback": [
      "\u001b[1;31m---------------------------------------------------------------------------\u001b[0m",
      "\u001b[1;31mTypeError\u001b[0m                                 Traceback (most recent call last)",
      "\u001b[1;32m<ipython-input-273-9a7687d3cc9f>\u001b[0m in \u001b[0;36m<module>\u001b[1;34m\u001b[0m\n\u001b[0;32m      1\u001b[0m \u001b[0mx\u001b[0m \u001b[1;33m=\u001b[0m \u001b[1;33m{\u001b[0m\u001b[1;36m1\u001b[0m\u001b[1;33m,\u001b[0m \u001b[1;36m2\u001b[0m\u001b[1;33m,\u001b[0m \u001b[1;36m3\u001b[0m\u001b[1;33m}\u001b[0m\u001b[1;33m\u001b[0m\u001b[1;33m\u001b[0m\u001b[0m\n\u001b[0;32m      2\u001b[0m \u001b[0my\u001b[0m \u001b[1;33m=\u001b[0m \u001b[1;33m{\u001b[0m\u001b[1;34m'a'\u001b[0m\u001b[1;33m,\u001b[0m \u001b[1;34m'b'\u001b[0m\u001b[1;33m,\u001b[0m \u001b[1;34m'c'\u001b[0m\u001b[1;33m}\u001b[0m\u001b[1;33m\u001b[0m\u001b[1;33m\u001b[0m\u001b[0m\n\u001b[1;32m----> 3\u001b[1;33m \u001b[0md\u001b[0m \u001b[1;33m=\u001b[0m \u001b[1;33m{\u001b[0m\u001b[0mx\u001b[0m\u001b[1;33m:\u001b[0m \u001b[1;34m'foo'\u001b[0m\u001b[1;33m,\u001b[0m \u001b[0my\u001b[0m\u001b[1;33m:\u001b[0m \u001b[1;34m'bar'\u001b[0m\u001b[1;33m}\u001b[0m\u001b[1;33m\u001b[0m\u001b[1;33m\u001b[0m\u001b[0m\n\u001b[0m",
      "\u001b[1;31mTypeError\u001b[0m: unhashable type: 'set'"
     ]
    }
   ],
   "source": [
    "x = {1, 2, 3}\n",
    "y = {'a', 'b', 'c'}\n",
    "d = {x: 'foo', y: 'bar'}"
   ]
  },
  {
   "cell_type": "markdown",
   "metadata": {},
   "source": [
    "If you find yourself needing to use sets as dictionary keys, you can use *frozensets*:"
   ]
  },
  {
   "cell_type": "code",
   "execution_count": 274,
   "metadata": {},
   "outputs": [
    {
     "name": "stdout",
     "output_type": "stream",
     "text": [
      "{frozenset({1, 2, 3}): 'foo', frozenset({'b', 'a', 'c'}): 'bar'}\n"
     ]
    }
   ],
   "source": [
    "x = frozenset({1, 2, 3})\n",
    "y = frozenset({'a', 'b', 'c'})\n",
    "d = {x: 'foo', y: 'bar'}\n",
    "print(d)"
   ]
  },
  {
   "cell_type": "code",
   "execution_count": 275,
   "metadata": {},
   "outputs": [
    {
     "name": "stdout",
     "output_type": "stream",
     "text": [
      "frozenset({1, 2, 3, 4})\n"
     ]
    }
   ],
   "source": [
    "ft = frozenset(t)\n",
    "print(ft)"
   ]
  },
  {
   "cell_type": "code",
   "execution_count": 276,
   "metadata": {},
   "outputs": [
    {
     "ename": "AttributeError",
     "evalue": "'frozenset' object has no attribute 'add'",
     "output_type": "error",
     "traceback": [
      "\u001b[1;31m---------------------------------------------------------------------------\u001b[0m",
      "\u001b[1;31mAttributeError\u001b[0m                            Traceback (most recent call last)",
      "\u001b[1;32m<ipython-input-276-3d85f4b689e3>\u001b[0m in \u001b[0;36m<module>\u001b[1;34m\u001b[0m\n\u001b[1;32m----> 1\u001b[1;33m \u001b[0mft\u001b[0m\u001b[1;33m.\u001b[0m\u001b[0madd\u001b[0m\u001b[1;33m(\u001b[0m\u001b[1;36m2\u001b[0m\u001b[1;33m)\u001b[0m\u001b[1;33m\u001b[0m\u001b[1;33m\u001b[0m\u001b[0m\n\u001b[0m",
      "\u001b[1;31mAttributeError\u001b[0m: 'frozenset' object has no attribute 'add'"
     ]
    }
   ],
   "source": [
    "ft.add(2)"
   ]
  },
  {
   "cell_type": "code",
   "execution_count": 277,
   "metadata": {},
   "outputs": [
    {
     "name": "stdout",
     "output_type": "stream",
     "text": [
      "{1, 2, 3, 4}\n",
      "{1, 2, 3, 4, 5}\n",
      "True\n",
      "False\n"
     ]
    }
   ],
   "source": [
    "set_of_numbers = {1, 2, 3, 4}\n",
    "print(set_of_numbers)\n",
    "set_of_numbers.add(5)\n",
    "print(set_of_numbers)\n",
    "print(3 in set_of_numbers)\n",
    "print(6 in set_of_numbers)"
   ]
  },
  {
   "cell_type": "markdown",
   "metadata": {},
   "source": [
    "### repr() and eval() functions"
   ]
  },
  {
   "cell_type": "markdown",
   "metadata": {},
   "source": [
    "Python has a built-in function named **repr** that takes a Python object as an argument and returns a string *representation* of that object. For Python’s built-in types, the string *representation* of an object can be *evaluated* using the built-in **eval** function to recreate the object.\n",
    "\n",
    "The way this works is easiest to demonstrate by example."
   ]
  },
  {
   "cell_type": "code",
   "execution_count": 280,
   "metadata": {},
   "outputs": [
    {
     "name": "stdout",
     "output_type": "stream",
     "text": [
      "<class 'list'>\n",
      "[1, 2, 'buckle', 'my', 'shoe']\n",
      "<class 'str'>\n",
      "[1, 2, 'buckle', 'my', 'shoe']\n",
      "<class 'str'>\n",
      "[1, 2, 'buckle', 'my', 'shoe']\n",
      "<class 'list'>\n",
      "[1, 2, 'buckle', 'my', 'shoe']\n",
      "<class 'list'>\n"
     ]
    }
   ],
   "source": [
    "mylist = [1, 2, 'buckle', 'my', 'shoe']\n",
    "print(type(mylist))\n",
    "print(repr(mylist))\n",
    "print(type(repr(mylist)))\n",
    "s = repr(mylist)\n",
    "print(s)\n",
    "print(type(s))\n",
    "print(eval(s))\n",
    "print(type(eval(s)))\n",
    "thing = eval(s)\n",
    "print(thing)\n",
    "print(type(thing))"
   ]
  },
  {
   "cell_type": "markdown",
   "metadata": {},
   "source": [
    "### enumarate () function"
   ]
  },
  {
   "cell_type": "code",
   "execution_count": 281,
   "metadata": {},
   "outputs": [
    {
     "name": "stdout",
     "output_type": "stream",
     "text": [
      "index is 0 and value is apples\n",
      "index is 1 and value is bananas\n",
      "index is 2 and value is oranges\n"
     ]
    }
   ],
   "source": [
    "L = ['apples', 'bananas', 'oranges']\n",
    "for idx, val in enumerate(L):\n",
    "    print(\"index is %d and value is %s\" % (idx, val))"
   ]
  },
  {
   "cell_type": "code",
   "execution_count": 283,
   "metadata": {},
   "outputs": [
    {
     "name": "stdout",
     "output_type": "stream",
     "text": [
      "0 1\n",
      "1 2\n",
      "2 3\n",
      "3 4\n",
      "4 5\n",
      "5 6\n",
      "6 7\n",
      "7 8\n",
      "8 9\n"
     ]
    }
   ],
   "source": [
    "l = [1, 2, 3, 4, 5, 6, 7, 8, 9]\n",
    "for i, j in enumerate(l):\n",
    "    print(i, j)"
   ]
  },
  {
   "cell_type": "code",
   "execution_count": 286,
   "metadata": {},
   "outputs": [
    {
     "name": "stdout",
     "output_type": "stream",
     "text": [
      "Return type: <class 'enumerate'>\n",
      "[(0, 'eat'), (1, 'sleep'), (2, 'repeat')]\n",
      "[(2, 'g'), (3, 'e'), (4, 'e'), (5, 'k')]\n"
     ]
    }
   ],
   "source": [
    "# Python program to illustrate \n",
    "# enumerate function \n",
    "l1 = [\"eat\",\"sleep\",\"repeat\"] \n",
    "s1 = \"geek\"\n",
    "  \n",
    "# creating enumerate objects \n",
    "obj1 = enumerate(l1) \n",
    "obj2 = enumerate(s1) \n",
    "  \n",
    "print (\"Return type:\",type(obj1)) \n",
    "print (list(enumerate(l1))) \n",
    "  \n",
    "# changing start index to 2 from 0 \n",
    "print (list(enumerate(s1,2)))"
   ]
  },
  {
   "cell_type": "code",
   "execution_count": 287,
   "metadata": {},
   "outputs": [
    {
     "name": "stdout",
     "output_type": "stream",
     "text": [
      "(0, 'eat')\n",
      "(1, 'sleep')\n",
      "(2, 'repeat')\n",
      "100 eat\n",
      "101 sleep\n",
      "102 repeat\n"
     ]
    }
   ],
   "source": [
    "# Python program to illustrate \n",
    "# enumerate function in loops \n",
    "l1 = [\"eat\",\"sleep\",\"repeat\"] \n",
    "  \n",
    "# printing the tuples in object directly \n",
    "for ele in enumerate(l1): \n",
    "    print (ele) \n",
    "print \n",
    "# changing index and printing separately \n",
    "for count,ele in enumerate(l1,100): \n",
    "    print (count,ele) "
   ]
  },
  {
   "cell_type": "code",
   "execution_count": 292,
   "metadata": {},
   "outputs": [
    {
     "name": "stdout",
     "output_type": "stream",
     "text": [
      "index is 1 and value is apples\n",
      "index is 2 and value is bananas\n",
      "index is 3 and value is oranges\n"
     ]
    }
   ],
   "source": [
    "L = ['apples', 'bananas', 'oranges']\n",
    "for idx, s in enumerate(L, start = 1):\n",
    "    print(\"index is %d and value is %s\" \\\n",
    "         % (idx, s))"
   ]
  },
  {
   "cell_type": "code",
   "execution_count": 288,
   "metadata": {},
   "outputs": [
    {
     "name": "stdout",
     "output_type": "stream",
     "text": [
      "index is 0 and value is apples\n",
      "index is 1 and value is bananas\n",
      "index is 2 and value is oranges\n"
     ]
    }
   ],
   "source": [
    "t = ('apples', 'bananas', 'oranges')\n",
    "for idx, val in enumerate(t):\n",
    "    print(\"index is %d and value is %s\" % (idx, val))"
   ]
  },
  {
   "cell_type": "code",
   "execution_count": 296,
   "metadata": {},
   "outputs": [
    {
     "name": "stdout",
     "output_type": "stream",
     "text": [
      "0 dog\n",
      "1 cat\n",
      "2 parrot\n",
      "3 hamster\n",
      "4 mongoose\n",
      "\n",
      "100 dog\n",
      "101 cat\n",
      "102 parrot\n",
      "103 hamster\n",
      "104 mongoose\n",
      "\n",
      "0 dog\n",
      "1 cat\n",
      "2 parrot\n",
      "3 hamster\n",
      "4 mongoose\n"
     ]
    }
   ],
   "source": [
    "pets = ('dog', 'cat', 'parrot', 'hamster', 'mongoose')\n",
    "for index, pet in enumerate(pets):\n",
    "     print(index, pet)\n",
    "print()\n",
    "for index, pet in enumerate(pets, 100):\n",
    "    print(index, pet)\n",
    "    \n",
    "print()\n",
    "index = 0  # manual index\n",
    "for pet in pets:\n",
    "    print(index, pet)\n",
    "    index += 1"
   ]
  },
  {
   "cell_type": "code",
   "execution_count": 289,
   "metadata": {},
   "outputs": [
    {
     "name": "stdout",
     "output_type": "stream",
     "text": [
      "index is 0, name is Matt, and age is 20\n",
      "index is 1, name is Karim, and age is 30\n",
      "index is 2, name is Maya, and age is 40\n"
     ]
    }
   ],
   "source": [
    "L = [('Matt', 20), ('Karim', 30), ('Maya', 40)]\n",
    "for idx, val in enumerate(L):\n",
    "    name = val[0]\n",
    "    age = val[1]\n",
    "    print(\"index is %d, name is %s, and age is %d\" \\\n",
    "         % (idx, name, age))"
   ]
  },
  {
   "cell_type": "code",
   "execution_count": 290,
   "metadata": {},
   "outputs": [
    {
     "name": "stdout",
     "output_type": "stream",
     "text": [
      "index is 0, name is Matt, and age is 20\n",
      "index is 1, name is Karim, and age is 30\n",
      "index is 2, name is Maya, and age is 40\n"
     ]
    }
   ],
   "source": [
    "for idx, (name, age) in enumerate(L):\n",
    "    print(\"index is %d, name is %s, and age is %d\" \\\n",
    "        % (idx, name, age))"
   ]
  },
  {
   "cell_type": "code",
   "execution_count": 291,
   "metadata": {},
   "outputs": [
    {
     "name": "stdout",
     "output_type": "stream",
     "text": [
      "index is 0 and character is P\n",
      "index is 1 and character is y\n",
      "index is 2 and character is t\n",
      "index is 3 and character is h\n",
      "index is 4 and character is o\n",
      "index is 5 and character is n\n"
     ]
    }
   ],
   "source": [
    "str = \"Python\"\n",
    "for idx, ch in enumerate(str):\n",
    "    print(\"index is %d and character is %s\" \\\n",
    "         % (idx, ch))"
   ]
  },
  {
   "cell_type": "markdown",
   "metadata": {},
   "source": [
    "Think about it, the only reason you would use enumerate is when you actually care about the index of the item.\n",
    "\n",
    "**Dictionaries** and **Sets** are not sequences.\n",
    "\n",
    "Their items do not have an index, and they don’t, by definition, need one.\n",
    "\n",
    "If you want to iterate over the keys and values of a dictionary instead (a very common operation), then you can do that using the following code:"
   ]
  },
  {
   "cell_type": "code",
   "execution_count": 297,
   "metadata": {},
   "outputs": [
    {
     "name": "stdout",
     "output_type": "stream",
     "text": [
      "a 1\n",
      "b 2\n",
      "c 3\n"
     ]
    }
   ],
   "source": [
    "d = {'a': 1, 'b': 2, 'c': 3}\n",
    "for k, v in d.items():\n",
    "  # k is now the key\n",
    "  # v is the value\n",
    "    print(k, v)"
   ]
  },
  {
   "cell_type": "code",
   "execution_count": 298,
   "metadata": {},
   "outputs": [
    {
     "name": "stdout",
     "output_type": "stream",
     "text": [
      "b\n",
      "a\n",
      "c\n"
     ]
    }
   ],
   "source": [
    "s = {'a', 'b', 'c'}\n",
    "for v in s:\n",
    "    print(v)"
   ]
  },
  {
   "cell_type": "code",
   "execution_count": 303,
   "metadata": {},
   "outputs": [
    {
     "name": "stdout",
     "output_type": "stream",
     "text": [
      "Toby\n",
      "Serena\n",
      "Ted\n",
      "Wilma\n",
      "Riki-tiki-tavi\n",
      "\n",
      "Toby is a dog\n",
      "Serena is a cat\n",
      "Ted is a hamster\n",
      "Wilma is a parrot\n",
      "Riki-tiki-tavi is a mongoose\n",
      "\n",
      "0 Toby\n",
      "1 Serena\n",
      "2 Ted\n",
      "3 Wilma\n",
      "4 Riki-tiki-tavi\n",
      "\n",
      "0 ('Toby', 'dog')\n",
      "1 ('Serena', 'cat')\n",
      "2 ('Ted', 'hamster')\n",
      "3 ('Wilma', 'parrot')\n",
      "4 ('Riki-tiki-tavi', 'mongoose')\n"
     ]
    }
   ],
   "source": [
    "pets_dict = { \"Toby\" : \"dog\", \n",
    "             \"Serena\" : \"cat\", \n",
    "             \"Ted\" : \"hamster\", \n",
    "             \"Wilma\" : \"parrot\", \n",
    "             \"Riki-tiki-tavi\" : \"mongoose\" }\n",
    "for key in pets_dict:\n",
    "    print(key)\n",
    "print()\n",
    "for key in pets_dict:\n",
    "    print(key, \"is a\", pets_dict[key])\n",
    "print()\n",
    "for index, value in enumerate(pets_dict):\n",
    "    print(index, value)\n",
    "print()\n",
    "for index, item in enumerate(pets_dict.items()):\n",
    "    print(index, item)"
   ]
  },
  {
   "cell_type": "code",
   "execution_count": 306,
   "metadata": {},
   "outputs": [
    {
     "name": "stdout",
     "output_type": "stream",
     "text": [
      "0 0\n",
      "1 1\n",
      "2 2\n",
      "3 4\n",
      "4 5\n",
      "5 6\n",
      "6 7\n",
      "\n",
      "0 1\n",
      "1 2\n",
      "2 3\n",
      "4 4\n",
      "5 5\n",
      "6 6\n",
      "7 7\n",
      "\n",
      "0) d.key=0, d.value=1\n",
      "1) d.key=1, d.value=2\n",
      "2) d.key=2, d.value=3\n",
      "3) d.key=4, d.value=4\n",
      "4) d.key=5, d.value=5\n",
      "5) d.key=6, d.value=6\n",
      "6) d.key=7, d.value=7\n"
     ]
    }
   ],
   "source": [
    "enumm = {0: 1, 1: 2, 2: 3, 4: 4, 5: 5, 6: 6, 7: 7}\n",
    "for i, j in enumerate(enumm):\n",
    "    print(i, j)\n",
    "print()\n",
    "for i, j in enumm.items():\n",
    "    print(i, j)\n",
    "print()\n",
    "for i, k in enumerate(enumm):\n",
    "    print(\"{}) d.key={}, d.value={}\".format(i, k, enumm[k]))"
   ]
  },
  {
   "cell_type": "code",
   "execution_count": 308,
   "metadata": {},
   "outputs": [
    {
     "name": "stdout",
     "output_type": "stream",
     "text": [
      "0) key=1, value={'a': 1, 'b': 2, 'c': 3}\n",
      "1) key=2, value={'a': 10, 'b': 20, 'c': 30}\n"
     ]
    }
   ],
   "source": [
    "d = {1 : {'a': 1, 'b' : 2, 'c' : 3},\n",
    "     2 : {'a': 10, 'b' : 20, 'c' : 30}\n",
    "    }    \n",
    "for i, k in enumerate(d):\n",
    "        print(\"{}) key={}, value={}\".format(i, k, d[k]))"
   ]
  },
  {
   "cell_type": "code",
   "execution_count": 309,
   "metadata": {},
   "outputs": [
    {
     "name": "stdout",
     "output_type": "stream",
     "text": [
      "List of enumerated d=  [(0, (0, 'zero')), (1, ('0', 'ZERO')), (2, (1, 'one')), (3, ('1', 'ONE'))]\n"
     ]
    }
   ],
   "source": [
    "d = {0: 'zero', '0': 'ZERO', 1: 'one', '1': 'ONE'}\n",
    "\n",
    "print(\"List of enumerated d= \", list(enumerate(d.items())))"
   ]
  },
  {
   "cell_type": "code",
   "execution_count": 312,
   "metadata": {},
   "outputs": [
    {
     "name": "stdout",
     "output_type": "stream",
     "text": [
      "<class 'enumerate'>\n"
     ]
    }
   ],
   "source": [
    "print(type(enumerate([1, 2, 3])))"
   ]
  },
  {
   "cell_type": "code",
   "execution_count": 313,
   "metadata": {},
   "outputs": [
    {
     "name": "stdout",
     "output_type": "stream",
     "text": [
      "[(0, 'a'), (1, 'b'), (2, 'c')]\n"
     ]
    }
   ],
   "source": [
    "print(list(enumerate(['a', 'b', 'c'])))"
   ]
  },
  {
   "cell_type": "code",
   "execution_count": 314,
   "metadata": {},
   "outputs": [
    {
     "name": "stdout",
     "output_type": "stream",
     "text": [
      "0 a\n",
      "1 b\n"
     ]
    }
   ],
   "source": [
    ">>> for idx, val in enumerate(['a', 'b']):\n",
    "...   print(idx, val)"
   ]
  },
  {
   "cell_type": "code",
   "execution_count": 315,
   "metadata": {},
   "outputs": [
    {
     "name": "stdout",
     "output_type": "stream",
     "text": [
      "0 a\n",
      "1 b\n"
     ]
    }
   ],
   "source": [
    ">>> for i in enumerate(['a', 'b']):\n",
    "...   print(i[0], i[1])"
   ]
  },
  {
   "cell_type": "code",
   "execution_count": null,
   "metadata": {},
   "outputs": [],
   "source": []
  }
 ],
 "metadata": {
  "kernelspec": {
   "display_name": "Python 3",
   "language": "python",
   "name": "python3"
  },
  "language_info": {
   "codemirror_mode": {
    "name": "ipython",
    "version": 3
   },
   "file_extension": ".py",
   "mimetype": "text/x-python",
   "name": "python",
   "nbconvert_exporter": "python",
   "pygments_lexer": "ipython3",
   "version": "3.7.4"
  }
 },
 "nbformat": 4,
 "nbformat_minor": 2
}
