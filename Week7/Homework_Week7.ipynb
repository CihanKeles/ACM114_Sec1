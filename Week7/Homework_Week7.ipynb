{
 "cells": [
  {
   "cell_type": "markdown",
   "metadata": {},
   "source": [
    "**1. Convert the code created with the for loop below to work with the while loop.**"
   ]
  },
  {
   "cell_type": "raw",
   "metadata": {},
   "source": [
    "product = 1\n",
    "listOfNumbers = range(10,21,2)\n",
    "for number in listOfNumbers:\n",
    "    product = product * number\n",
    "print(\"Product: \", product)"
   ]
  },
  {
   "cell_type": "code",
   "execution_count": null,
   "metadata": {},
   "outputs": [],
   "source": []
  },
  {
   "cell_type": "markdown",
   "metadata": {},
   "source": [
    "**2. The code below goes into the loop and always writes \"even\". Correct the code so that it prints even or odd for numbers from 0 to 9 on the screen.**"
   ]
  },
  {
   "cell_type": "raw",
   "metadata": {},
   "source": [
    "n = 0\n",
    "while n < 10:\n",
    "    while n % 2 == 0:\n",
    "        print(\"even\")\n",
    "    while n % 2 != 0:\n",
    "        print(\"odd\")\n",
    "    n += 1"
   ]
  },
  {
   "cell_type": "code",
   "execution_count": null,
   "metadata": {},
   "outputs": [],
   "source": []
  },
  {
   "cell_type": "markdown",
   "metadata": {},
   "source": [
    "**3. Complete the missing and wrong places in the code below so print the numbers from -5 to -1 on the screen.**"
   ]
  },
  {
   "cell_type": "raw",
   "metadata": {},
   "source": [
    "output =\n",
    "x = -5\n",
    "while x < :\n",
    "    output = output + x + \" \"\n",
    "    x =\n",
    "print(output)"
   ]
  },
  {
   "cell_type": "code",
   "execution_count": null,
   "metadata": {},
   "outputs": [],
   "source": []
  },
  {
   "cell_type": "markdown",
   "metadata": {},
   "source": [
    "**4. Take two numbers from the user, assuming that the first number is greater than the second number, write the program that finds the remainder of the first number divided by the second number. Write this program without using the mod operator.**"
   ]
  },
  {
   "cell_type": "code",
   "execution_count": null,
   "metadata": {},
   "outputs": [],
   "source": []
  },
  {
   "cell_type": "markdown",
   "metadata": {},
   "source": [
    "**5. Using the while loop, write a program that understands whether the value entered by the user is a prime number.**"
   ]
  },
  {
   "cell_type": "code",
   "execution_count": null,
   "metadata": {},
   "outputs": [],
   "source": []
  },
  {
   "cell_type": "markdown",
   "metadata": {},
   "source": [
    "**6. Take the word from the user continuously until the user enters “exit” and combine the words and write them on the screen.**"
   ]
  },
  {
   "cell_type": "code",
   "execution_count": null,
   "metadata": {},
   "outputs": [],
   "source": []
  },
  {
   "cell_type": "markdown",
   "metadata": {},
   "source": [
    "**7. Take the value from the user until the user enters negative value and find the maximum among the numbers entered.**"
   ]
  },
  {
   "cell_type": "code",
   "execution_count": null,
   "metadata": {},
   "outputs": [],
   "source": []
  },
  {
   "cell_type": "markdown",
   "metadata": {},
   "source": [
    "**8. Take value from the user until the user enters a negative value and print how many even numbers and odd numbers are entered.**"
   ]
  },
  {
   "cell_type": "code",
   "execution_count": null,
   "metadata": {},
   "outputs": [],
   "source": []
  },
  {
   "cell_type": "markdown",
   "metadata": {},
   "source": [
    "**9. Continuously obtain numbers from the user until the sum of the values entered by the user is 100, and print how many numbers are entered.**"
   ]
  },
  {
   "cell_type": "code",
   "execution_count": null,
   "metadata": {},
   "outputs": [],
   "source": []
  },
  {
   "cell_type": "markdown",
   "metadata": {},
   "source": [
    "**10. Write a program that calculates the Fibonacci number sequence. Ask the user for which fibonacci number you want and print the result on the screen.**"
   ]
  },
  {
   "cell_type": "code",
   "execution_count": null,
   "metadata": {},
   "outputs": [],
   "source": []
  },
  {
   "cell_type": "markdown",
   "metadata": {},
   "source": [
    "**11. Write the program that makes a right triangle filled with stars. Let the first line of the triangle begin with 1 star and increase the number of stars in each line. Get the user how many lines the triangle will consist of. For example, if the user enters 4, the output of the program should be as follows.**"
   ]
  },
  {
   "cell_type": "raw",
   "metadata": {},
   "source": [
    "*\n",
    "**\n",
    "***\n",
    "****"
   ]
  },
  {
   "cell_type": "code",
   "execution_count": null,
   "metadata": {},
   "outputs": [],
   "source": []
  },
  {
   "cell_type": "markdown",
   "metadata": {},
   "source": [
    "**12. Create the same triangle as the question given above. Only this time use consecutive numbers instead of stars and each line starts with 1. For example, if the user entered 4, the following should appear on the screen:**"
   ]
  },
  {
   "cell_type": "raw",
   "metadata": {},
   "source": [
    "1\n",
    "1 2\n",
    "1 2 3\n",
    "1 2 3 4"
   ]
  },
  {
   "cell_type": "code",
   "execution_count": null,
   "metadata": {},
   "outputs": [],
   "source": []
  },
  {
   "cell_type": "markdown",
   "metadata": {},
   "source": [
    "**13. Take a value from the user and write the code to print the figure below according to the value received. The following example will appear on the screen if the user enters 4.**"
   ]
  },
  {
   "cell_type": "raw",
   "metadata": {},
   "source": [
    "4321\n",
    "321\n",
    "21\n",
    "1"
   ]
  },
  {
   "cell_type": "code",
   "execution_count": null,
   "metadata": {},
   "outputs": [],
   "source": []
  },
  {
   "cell_type": "markdown",
   "metadata": {},
   "source": [
    "**14. Take a value from the user and write the code to print the following output based on the value received. The following example will appear on the screen if the user enters 5.**"
   ]
  },
  {
   "cell_type": "raw",
   "metadata": {},
   "source": [
    "1 2 3 4 5\n",
    "1 3 5 7\n",
    "1 4 7\n",
    "1 5\n",
    "1"
   ]
  },
  {
   "cell_type": "code",
   "execution_count": null,
   "metadata": {},
   "outputs": [],
   "source": []
  },
  {
   "cell_type": "markdown",
   "metadata": {},
   "source": [
    "**15. Get an odd number from the user and print a triangle like the one below with the stars according to the value entered. In the first line, the number of stars is equal to the value entered by the user.**"
   ]
  },
  {
   "cell_type": "raw",
   "metadata": {},
   "source": [
    "***********\n",
    " *********\n",
    "  *******\n",
    "   *****\n",
    "    ***\n",
    "     *"
   ]
  },
  {
   "cell_type": "code",
   "execution_count": null,
   "metadata": {},
   "outputs": [],
   "source": []
  },
  {
   "cell_type": "markdown",
   "metadata": {},
   "source": [
    "**16. Write a program that finds out how many times the user will guess any fruit in a given list. The program starts with a list. The user is asked to guess one of the fruits in the list, this process continues until he guesses one of the fruits in the list, and when the correct answer is found, it prints on the screen how many times it guessed.**"
   ]
  },
  {
   "cell_type": "code",
   "execution_count": null,
   "metadata": {},
   "outputs": [],
   "source": []
  },
  {
   "cell_type": "markdown",
   "metadata": {},
   "source": [
    "**17. Get numbers continuously until the user enters -1 and calculate how many prime numbers are entered.**"
   ]
  },
  {
   "cell_type": "code",
   "execution_count": null,
   "metadata": {},
   "outputs": [],
   "source": []
  }
 ],
 "metadata": {
  "kernelspec": {
   "display_name": "Python 3",
   "language": "python",
   "name": "python3"
  },
  "language_info": {
   "codemirror_mode": {
    "name": "ipython",
    "version": 3
   },
   "file_extension": ".py",
   "mimetype": "text/x-python",
   "name": "python",
   "nbconvert_exporter": "python",
   "pygments_lexer": "ipython3",
   "version": "3.7.4"
  }
 },
 "nbformat": 4,
 "nbformat_minor": 2
}
