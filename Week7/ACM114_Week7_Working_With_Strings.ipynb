{
 "cells": [
  {
   "cell_type": "markdown",
   "metadata": {},
   "source": [
    "# Strings in Python"
   ]
  },
  {
   "cell_type": "markdown",
   "metadata": {},
   "source": [
    "You learned how to define **strings**: *objects* that contain sequences of *character data*. Processing *character data* is integral to programming. It is a rare application that doesn’t need to manipulate strings at least to some extent.\n",
    "\n",
    "Python provides a rich set of operators, functions, and methods for working with strings. Thus, you will know how to access and extract portions of strings, and also be familiar with the methods that are available to manipulate and modify string data."
   ]
  },
  {
   "cell_type": "markdown",
   "metadata": {},
   "source": [
    "## String Manipulation"
   ]
  },
  {
   "cell_type": "markdown",
   "metadata": {},
   "source": [
    "The sections below highlight the operators, methods, and functions that are available for working with strings."
   ]
  },
  {
   "cell_type": "markdown",
   "metadata": {},
   "source": [
    "### String Operators"
   ]
  },
  {
   "cell_type": "markdown",
   "metadata": {},
   "source": [
    "You have already seen the operators **+** and ***** applied to numeric operands. These two operators can be applied to strings as well."
   ]
  },
  {
   "cell_type": "markdown",
   "metadata": {},
   "source": [
    "#### The + Operator "
   ]
  },
  {
   "cell_type": "markdown",
   "metadata": {},
   "source": [
    "The **+** operator concatenates strings. It returns a string consisting of the operands joined together, as shown here:"
   ]
  },
  {
   "cell_type": "code",
   "execution_count": 2,
   "metadata": {},
   "outputs": [
    {
     "name": "stdout",
     "output_type": "stream",
     "text": [
      "Python rocks!\n",
      "Python rocks! ACM 114\n",
      "Go team!!!\n"
     ]
    }
   ],
   "source": [
    "s = 'Python'\n",
    "t = 'rocks!'\n",
    "u = 'ACM 114'\n",
    "print(s + ' ' + t)\n",
    "print(s + ' ' + t + ' ' + u)\n",
    "print('Go team' + '!!!')"
   ]
  },
  {
   "cell_type": "markdown",
   "metadata": {},
   "source": [
    "#### The * Operator"
   ]
  },
  {
   "cell_type": "markdown",
   "metadata": {},
   "source": [
    "The ***** operator creates multiple copies of a *string*. If *s* is a string and *n* is an integer, either of the following expressions returns a string consisting of *n* concatenated copies of *s*:"
   ]
  },
  {
   "cell_type": "code",
   "execution_count": 4,
   "metadata": {},
   "outputs": [
    {
     "name": "stdout",
     "output_type": "stream",
     "text": [
      "PythonPythonPythonPythonPython\n",
      "PythonPythonPythonPythonPythonPythonPython\n"
     ]
    }
   ],
   "source": [
    "s = 'Python'\n",
    "print(s * 5)\n",
    "print(7 * s)"
   ]
  },
  {
   "cell_type": "markdown",
   "metadata": {},
   "source": [
    "The multiplier operand *n* must be an **integer**. You’d think it would be required to be a *positive integer*, but amusingly, it can be *zero* or *negative*, in which case the result is **an empty string**:"
   ]
  },
  {
   "cell_type": "code",
   "execution_count": 5,
   "metadata": {},
   "outputs": [
    {
     "name": "stdout",
     "output_type": "stream",
     "text": [
      "PythonPythonPython\n",
      "\n",
      "\n"
     ]
    }
   ],
   "source": [
    "print(s * 3)\n",
    "print(0 * s)\n",
    "print(s * -21)"
   ]
  },
  {
   "cell_type": "code",
   "execution_count": 70,
   "metadata": {},
   "outputs": [
    {
     "name": "stdout",
     "output_type": "stream",
     "text": [
      "str1 + str2 =  HelloWorld!\n",
      "str1 * 3 = HelloHelloHello\n"
     ]
    }
   ],
   "source": [
    "str1 = 'Hello'\n",
    "str2 ='World!'\n",
    "\n",
    "# using +\n",
    "print('str1 + str2 = ', str1 + str2)\n",
    "\n",
    "# using *\n",
    "print('str1 * 3 =', str1 * 3)"
   ]
  },
  {
   "cell_type": "markdown",
   "metadata": {},
   "source": [
    "#### The in Operator"
   ]
  },
  {
   "cell_type": "markdown",
   "metadata": {},
   "source": [
    "*Python* also provides a membership operator that can be used with strings. The **in** operator returns *True* if the first operand is contained within the second, and *False* otherwise:"
   ]
  },
  {
   "cell_type": "code",
   "execution_count": 8,
   "metadata": {},
   "outputs": [
    {
     "name": "stdout",
     "output_type": "stream",
     "text": [
      "You're improving your Python programming skills!\n",
      "True\n",
      "That's great for now but you should keep on studying!\n",
      "False\n"
     ]
    }
   ],
   "source": [
    "string = 'skills'\n",
    "print(\"You're improving your Python programming skills!\")\n",
    "print(string in 'You\\'re improving your Python programming skills!')\n",
    "print('''That's great for now but you should keep on studying!''')\n",
    "print(string in 'That\\'s great for now but you should keep on studying!')"
   ]
  },
  {
   "cell_type": "markdown",
   "metadata": {},
   "source": [
    "There is also a **not in** operator, which does the opposite:"
   ]
  },
  {
   "cell_type": "code",
   "execution_count": 9,
   "metadata": {},
   "outputs": [
    {
     "name": "stdout",
     "output_type": "stream",
     "text": [
      "True\n",
      "False\n"
     ]
    }
   ],
   "source": [
    "print('a' not in 'Python')\n",
    "print('y' not in 'Python')"
   ]
  },
  {
   "cell_type": "markdown",
   "metadata": {},
   "source": [
    "### Built-in String Functions"
   ]
  },
  {
   "cell_type": "markdown",
   "metadata": {},
   "source": [
    "Python provides many functions that are built-in to the interpreter and always available. Here are a few that work with strings:"
   ]
  },
  {
   "cell_type": "markdown",
   "metadata": {},
   "source": [
    "|Function|Description|\n",
    "|:-:|:-|\n",
    "|chr()|Converts an integer to a character|\n",
    "|ord()|Converts a character to an integer|\n",
    "|len()|Returns the length of a string|\n",
    "|str()|Returns a string representation of an object|"
   ]
  },
  {
   "cell_type": "markdown",
   "metadata": {},
   "source": [
    "#### ord(c)"
   ]
  },
  {
   "cell_type": "markdown",
   "metadata": {},
   "source": [
    "Returns an integer value for the given character."
   ]
  },
  {
   "cell_type": "markdown",
   "metadata": {},
   "source": [
    "At the most basic level, computers store all _information_ as __numbers__. To represent character data, a translation scheme is used which maps each character to its representative number.\n",
    "\n",
    "The simplest scheme in common use is called _ASCII_. It covers the common Latin characters you are probably most accustomed to working with. For these characters, __ord(c)__ returns the _ASCII_ value for character _c_:"
   ]
  },
  {
   "cell_type": "code",
   "execution_count": 65,
   "metadata": {},
   "outputs": [
    {
     "name": "stdout",
     "output_type": "stream",
     "text": [
      "97\n",
      "98\n",
      "35\n",
      "63\n",
      "125\n",
      "32\n",
      "8364\n",
      "49\n",
      "50\n",
      "51\n",
      "65\n",
      "66\n"
     ]
    }
   ],
   "source": [
    "print(ord('a'))\n",
    "print(ord(\"b\"))\n",
    "print(ord(\"#\"))\n",
    "print(ord('?'))\n",
    "print(ord(\"}\"))\n",
    "print(ord(\"\"\" \"\"\"))\n",
    "print(ord('€'))\n",
    "print(ord('''1'''))\n",
    "print(ord('2'))\n",
    "print(ord(\"3\"))\n",
    "print(ord(\"A\"))\n",
    "print(ord('B'))"
   ]
  },
  {
   "cell_type": "markdown",
   "metadata": {},
   "source": [
    "*ASCII* is fine as far as it goes. But there are many different languages in use in the world and countless symbols and glyphs that appear in digital media. The full set of characters that potentially may need to be represented in computer code far surpasses the ordinary Latin letters, numbers, and symbols you usually see.\n",
    "\n",
    "*Unicode* is an ambitious standard that attempts to provide a numeric code for every possible character, in every possible language, on every possible platform. **Python 3** supports *Unicode* extensively, including allowing *Unicode* characters within strings.\n",
    "\n",
    "As long as you stay in the domain of the common characters, there is little practical difference between *ASCII* and *Unicode*. But the **ord()** function will return *numeric values* for *Unicode characters* as well:"
   ]
  },
  {
   "cell_type": "code",
   "execution_count": 63,
   "metadata": {},
   "outputs": [
    {
     "name": "stdout",
     "output_type": "stream",
     "text": [
      "8364\n",
      "8721\n",
      "948\n",
      "8734\n",
      "8711\n",
      "960\n",
      "961\n",
      "8706\n",
      "963\n",
      "955\n",
      "181\n"
     ]
    }
   ],
   "source": [
    "print(ord('€'))\n",
    "print(ord(\"∑\"))\n",
    "print(ord('δ'))\n",
    "print(ord('∞'))\n",
    "print(ord(\"\"\"∇\"\"\"))\n",
    "print(ord('π'))\n",
    "print(ord('''ρ'''))\n",
    "print(ord('∂'))\n",
    "print(ord(\"σ\"))\n",
    "print(ord('λ'))\n",
    "print(ord(\"µ\"))"
   ]
  },
  {
   "cell_type": "markdown",
   "metadata": {},
   "source": [
    "#### chr(n) "
   ]
  },
  {
   "cell_type": "markdown",
   "metadata": {},
   "source": [
    "**chr()** does the reverse of **ord()**. Given a numeric value *n*, **chr(n)** returns a string representing the character that corresponds to *n*:"
   ]
  },
  {
   "cell_type": "code",
   "execution_count": 66,
   "metadata": {},
   "outputs": [
    {
     "name": "stdout",
     "output_type": "stream",
     "text": [
      "a\n",
      "b\n",
      "#\n",
      "?\n",
      "}\n",
      " \n",
      "€\n",
      "1\n",
      "2\n",
      "3\n",
      "A\n",
      "B\n"
     ]
    }
   ],
   "source": [
    "print(chr(97))\n",
    "print(chr(98))\n",
    "print(chr(35))\n",
    "print(chr(63))\n",
    "print(chr(125))\n",
    "print(chr(32))\n",
    "print(chr(8364))\n",
    "print(chr(49))\n",
    "print(chr(50))\n",
    "print(chr(51))\n",
    "print(chr(65))\n",
    "print(chr(66))"
   ]
  },
  {
   "cell_type": "markdown",
   "metadata": {},
   "source": [
    "**chr()** handles Unicode characters as well:"
   ]
  },
  {
   "cell_type": "code",
   "execution_count": 64,
   "metadata": {},
   "outputs": [
    {
     "name": "stdout",
     "output_type": "stream",
     "text": [
      "€\n",
      "∑\n",
      "δ\n",
      "∞\n",
      "∇\n",
      "π\n",
      "ρ\n",
      "∂\n",
      "σ\n",
      "λ\n",
      "µ\n"
     ]
    }
   ],
   "source": [
    "print(chr(8364))\n",
    "print(chr(8721))\n",
    "print(chr(948))\n",
    "print(chr(8734))\n",
    "print(chr(8711))\n",
    "print(chr(960))\n",
    "print(chr(961))\n",
    "print(chr(8706))\n",
    "print(chr(963))\n",
    "print(chr(955))\n",
    "print(chr(181))"
   ]
  },
  {
   "cell_type": "markdown",
   "metadata": {},
   "source": [
    "#### len(s) "
   ]
  },
  {
   "cell_type": "markdown",
   "metadata": {},
   "source": [
    "Returns the length of a string."
   ]
  },
  {
   "cell_type": "markdown",
   "metadata": {},
   "source": [
    "With **len()**, you can check Python string length. **len(s)** returns the number of characters in *s*:"
   ]
  },
  {
   "cell_type": "code",
   "execution_count": 67,
   "metadata": {},
   "outputs": [
    {
     "name": "stdout",
     "output_type": "stream",
     "text": [
      "14\n",
      "37\n"
     ]
    }
   ],
   "source": [
    "string = 'I am a string.'\n",
    "print(len(string))\n",
    "print(len(\"I love Python! Let's write some code!\"))"
   ]
  },
  {
   "cell_type": "markdown",
   "metadata": {},
   "source": [
    "#### str(obj)"
   ]
  },
  {
   "cell_type": "markdown",
   "metadata": {},
   "source": [
    "Returns a string representation of an object.\n",
    "\n",
    "Virtually any object in Python can be rendered as a string. **str(obj)** returns the string representation of object *obj*:"
   ]
  },
  {
   "cell_type": "code",
   "execution_count": 69,
   "metadata": {},
   "outputs": [
    {
     "name": "stdout",
     "output_type": "stream",
     "text": [
      "49.2\n",
      "(3+4j)\n",
      "55\n",
      "Rock'n Roll\n",
      "Stairway to Heaven\n"
     ]
    }
   ],
   "source": [
    "print(str(49.2))\n",
    "print(str(3+4j))\n",
    "print(str(30 + 25))\n",
    "print(str('Rock\\'n Roll'))\n",
    "print(str(\"Stairway to Heaven\"))"
   ]
  },
  {
   "cell_type": "markdown",
   "metadata": {},
   "source": [
    "### String Indexing"
   ]
  },
  {
   "cell_type": "markdown",
   "metadata": {},
   "source": [
    "Often in programming languages, individual items in an ordered set of data can be accessed directly using a numeric index or key value. This process is referred to as **indexing**.\n",
    "\n",
    "In Python, strings are ordered sequences of character data, and thus can be indexed in this way. Individual characters in a string can be accessed by specifying the string name followed by a number in square brackets ([ ]).\n",
    "\n",
    "String indexing in Python is *zero-based*: the first character in the string has **index 0**, the next has **index 1**, and so on. The index of the last character will be the length of the string **minus one** (-1)."
   ]
  },
  {
   "cell_type": "markdown",
   "metadata": {},
   "source": [
    "<img src=\"https://files.realpython.com/media/t.ed50396b1e71.png\" alt=\"String Indexing\" title=\"Positive and Negative String Indices\" />"
   ]
  },
  {
   "cell_type": "code",
   "execution_count": 72,
   "metadata": {},
   "outputs": [
    {
     "name": "stdout",
     "output_type": "stream",
     "text": [
      "f\n",
      "o\n",
      "b\n",
      "6\n",
      "r\n"
     ]
    }
   ],
   "source": [
    "s = 'foobar'\n",
    "print(s[0])\n",
    "print(s[1])\n",
    "print(s[3])\n",
    "print(len(s))\n",
    "print(s[len(s)-1])"
   ]
  },
  {
   "cell_type": "markdown",
   "metadata": {},
   "source": [
    "Attempting to index beyond the end of the string results in an error:"
   ]
  },
  {
   "cell_type": "code",
   "execution_count": 76,
   "metadata": {},
   "outputs": [
    {
     "ename": "IndexError",
     "evalue": "string index out of range",
     "output_type": "error",
     "traceback": [
      "\u001b[1;31m---------------------------------------------------------------------------\u001b[0m",
      "\u001b[1;31mIndexError\u001b[0m                                Traceback (most recent call last)",
      "\u001b[1;32m<ipython-input-76-e58a81c44342>\u001b[0m in \u001b[0;36m<module>\u001b[1;34m\u001b[0m\n\u001b[1;32m----> 1\u001b[1;33m \u001b[0mprint\u001b[0m\u001b[1;33m(\u001b[0m\u001b[0ms\u001b[0m\u001b[1;33m[\u001b[0m\u001b[1;36m6\u001b[0m\u001b[1;33m]\u001b[0m\u001b[1;33m)\u001b[0m\u001b[1;33m\u001b[0m\u001b[1;33m\u001b[0m\u001b[0m\n\u001b[0m\u001b[0;32m      2\u001b[0m \u001b[0mprint\u001b[0m\u001b[1;33m(\u001b[0m\u001b[0ms\u001b[0m\u001b[1;33m[\u001b[0m\u001b[1;36m25\u001b[0m\u001b[1;33m]\u001b[0m\u001b[1;33m)\u001b[0m\u001b[1;33m\u001b[0m\u001b[1;33m\u001b[0m\u001b[0m\n\u001b[0;32m      3\u001b[0m \u001b[0mprint\u001b[0m\u001b[1;33m(\u001b[0m\u001b[0ms\u001b[0m\u001b[1;33m[\u001b[0m\u001b[1;33m-\u001b[0m\u001b[1;36m34\u001b[0m\u001b[1;33m]\u001b[0m\u001b[1;33m)\u001b[0m\u001b[1;33m\u001b[0m\u001b[1;33m\u001b[0m\u001b[0m\n",
      "\u001b[1;31mIndexError\u001b[0m: string index out of range"
     ]
    }
   ],
   "source": [
    "print(s[6])\n",
    "print(s[25])\n",
    "print(s[-34])"
   ]
  },
  {
   "cell_type": "markdown",
   "metadata": {},
   "source": [
    "String indices can also be specified with negative numbers, in which case indexing occurs from the end of the string backward: -1 refers to the last character, -2 the second-to-last character, and so on. Here is the same diagram showing both the positive and negative indices into the string 'foobar':"
   ]
  },
  {
   "cell_type": "code",
   "execution_count": 77,
   "metadata": {},
   "outputs": [
    {
     "name": "stdout",
     "output_type": "stream",
     "text": [
      "r\n",
      "a\n",
      "6\n",
      "f\n"
     ]
    }
   ],
   "source": [
    "s = 'foobar'\n",
    "print(s[-1])\n",
    "print(s[-2])\n",
    "print(len(s))\n",
    "print(s[-len(s)])"
   ]
  },
  {
   "cell_type": "markdown",
   "metadata": {},
   "source": [
    "For any non-empty string s, s[len(s)-1] and s[-1] both return the last character. There isn’t any index that makes sense for an empty string."
   ]
  },
  {
   "cell_type": "code",
   "execution_count": 78,
   "metadata": {},
   "outputs": [
    {
     "name": "stdout",
     "output_type": "stream",
     "text": [
      "H\n",
      "f\n",
      "!\n"
     ]
    }
   ],
   "source": [
    "hi_folk = \"Hi, folk!\"\n",
    "print(hi_folk[0])\n",
    "print(hi_folk[4])\n",
    "print(hi_folk[-1])"
   ]
  },
  {
   "cell_type": "code",
   "execution_count": 81,
   "metadata": {},
   "outputs": [
    {
     "name": "stdout",
     "output_type": "stream",
     "text": [
      "Initial String: \n",
      "Python for you!\n",
      "\n",
      "First character of String is: \n",
      "P\n",
      "\n",
      "Last character of String is: \n",
      "!\n"
     ]
    }
   ],
   "source": [
    "# Python Program to Access \n",
    "# characters of String \n",
    "  \n",
    "String1 = \"Python for you!\"\n",
    "print(\"Initial String: \") \n",
    "print(String1) \n",
    "  \n",
    "# Printing First character \n",
    "print(\"\\nFirst character of String is: \") \n",
    "print(String1[0]) \n",
    "  \n",
    "# Printing Last character \n",
    "print(\"\\nLast character of String is: \") \n",
    "print(String1[-1])"
   ]
  },
  {
   "cell_type": "markdown",
   "metadata": {},
   "source": [
    "### String Slicing"
   ]
  },
  {
   "cell_type": "markdown",
   "metadata": {},
   "source": [
    "Python also allows a form of indexing syntax that extracts substrings from a string, known as string slicing. If *s* is a string, an expression of the form **s[m:n]** returns the portion of *s* starting with position *m*, and up to but not including position *n*:"
   ]
  },
  {
   "cell_type": "code",
   "execution_count": 84,
   "metadata": {},
   "outputs": [
    {
     "name": "stdout",
     "output_type": "stream",
     "text": [
      "oba\n",
      "foob\n",
      "foob\n",
      "obar\n",
      "obar\n"
     ]
    }
   ],
   "source": [
    "s = 'foobar'\n",
    "print(s[2:5])\n",
    "print(s[:4])\n",
    "print(s[0:4])\n",
    "print(s[2:])\n",
    "print(s[2:len(s)])"
   ]
  },
  {
   "cell_type": "code",
   "execution_count": 93,
   "metadata": {},
   "outputs": [
    {
     "name": "stdout",
     "output_type": "stream",
     "text": [
      ", folk!\n",
      "Hi,\n",
      ", f\n"
     ]
    }
   ],
   "source": [
    "hi_folk = \"Hi, folk!\"\n",
    "print(hi_folk[2:])\n",
    "print(hi_folk[:3])\n",
    "print(hi_folk[2:5])"
   ]
  },
  {
   "cell_type": "code",
   "execution_count": 97,
   "metadata": {},
   "outputs": [
    {
     "name": "stdout",
     "output_type": "stream",
     "text": [
      "str =  Python rocks!\n",
      "str[0] =  P\n",
      "str[-1] =  !\n",
      "str[2:11] =  thon rock\n",
      "str[7:-2] =  rock\n"
     ]
    }
   ],
   "source": [
    "str = 'Python rocks!'\n",
    "print('str = ', str)\n",
    "\n",
    "#first character\n",
    "print('str[0] = ', str[0])\n",
    "\n",
    "#last character\n",
    "print('str[-1] = ', str[-1])\n",
    "\n",
    "#slicing 3rd to 11th character\n",
    "print('str[2:11] = ', str[2:11])\n",
    "\n",
    "#slicing 8th to 2nd last character\n",
    "print('str[7:-2] = ', str[7:-2])"
   ]
  },
  {
   "cell_type": "code",
   "execution_count": 100,
   "metadata": {},
   "outputs": [
    {
     "name": "stdout",
     "output_type": "stream",
     "text": [
      "var1[3]: 1\n",
      "var2[2:7]: ftwar\n"
     ]
    }
   ],
   "source": [
    "var1 = \"ACM114!\"\n",
    "var2 = \"Software Testing\"\n",
    "print (\"var1[3]:\",var1[3])\n",
    "print (\"var2[2:7]:\",var2[2:7])"
   ]
  },
  {
   "cell_type": "code",
   "execution_count": 101,
   "metadata": {},
   "outputs": [
    {
     "name": "stdout",
     "output_type": "stream",
     "text": [
      "Hello \n",
      "Hello Pythonist!\n"
     ]
    }
   ],
   "source": [
    "x = \"Hello World!\"\n",
    "print(x[:6]) \n",
    "print(x[0:6] + \"Pythonist!\")"
   ]
  },
  {
   "cell_type": "code",
   "execution_count": 106,
   "metadata": {},
   "outputs": [
    {
     "name": "stdout",
     "output_type": "stream",
     "text": [
      "Tarkan\n",
      "Sezen\n",
      "Madonna\n"
     ]
    }
   ],
   "source": [
    "singers = \"Tarkan, Sezen, and Madonna\"\n",
    "print(singers[0:6])\n",
    "print(singers[8:13])\n",
    "print(singers[19:26])"
   ]
  },
  {
   "cell_type": "markdown",
   "metadata": {},
   "source": [
    "For any string s and any integer *n* (0 ≤ n ≤ len(s)), **s[:n]** + **s[n:]** will be equal to s:"
   ]
  },
  {
   "cell_type": "code",
   "execution_count": 85,
   "metadata": {},
   "outputs": [
    {
     "name": "stdout",
     "output_type": "stream",
     "text": [
      "foobar\n",
      "True\n"
     ]
    }
   ],
   "source": [
    "s = 'foobar'\n",
    "print(s[:4] + s[4:])\n",
    "print(s[:4] + s[4:] == s)"
   ]
  },
  {
   "cell_type": "code",
   "execution_count": 107,
   "metadata": {},
   "outputs": [
    {
     "name": "stdout",
     "output_type": "stream",
     "text": [
      "ban\n",
      "ana\n"
     ]
    }
   ],
   "source": [
    "fruit = \"banana\"\n",
    "print(fruit[:3])\n",
    "print(fruit[3:])"
   ]
  },
  {
   "cell_type": "markdown",
   "metadata": {},
   "source": [
    "Omitting both indices returns the original string, in its entirety. Literally. It’s not a copy, it’s a reference to the original string:"
   ]
  },
  {
   "cell_type": "code",
   "execution_count": 90,
   "metadata": {},
   "outputs": [
    {
     "name": "stdout",
     "output_type": "stream",
     "text": [
      "1729611656688\n",
      "1729611656688\n",
      "1729611656688\n",
      "True\n",
      "True\n",
      "True\n",
      "True\n"
     ]
    }
   ],
   "source": [
    "s = 'foobar'\n",
    "t = s[:]\n",
    "p = \"foobar\"\n",
    "print(id(s))\n",
    "print(id(t))\n",
    "print(id(p))\n",
    "print(s is t)\n",
    "print(s is p)\n",
    "print(s == t)\n",
    "print(s == p)"
   ]
  },
  {
   "cell_type": "markdown",
   "metadata": {},
   "source": [
    "If the first index in a slice is greater than or equal to the second index, Python returns an empty string. This is yet another obfuscated way to generate an empty string, in case you were looking for one:"
   ]
  },
  {
   "cell_type": "code",
   "execution_count": 91,
   "metadata": {},
   "outputs": [
    {
     "name": "stdout",
     "output_type": "stream",
     "text": [
      "foobar\n",
      "\n",
      "\n"
     ]
    }
   ],
   "source": [
    "print(s)\n",
    "print(s[2:2])\n",
    "print(s[4:2])"
   ]
  },
  {
   "cell_type": "markdown",
   "metadata": {},
   "source": [
    "Negative indices can be used with slicing as well. "
   ]
  },
  {
   "cell_type": "code",
   "execution_count": 92,
   "metadata": {},
   "outputs": [
    {
     "name": "stdout",
     "output_type": "stream",
     "text": [
      "oob\n",
      "oob\n",
      "True\n"
     ]
    }
   ],
   "source": [
    "print(s[-5:-2])\n",
    "print(s[1:4])\n",
    "print(s[-5:-2] == s[1:4])"
   ]
  },
  {
   "cell_type": "code",
   "execution_count": 108,
   "metadata": {},
   "outputs": [
    {
     "name": "stdout",
     "output_type": "stream",
     "text": [
      "na\n"
     ]
    }
   ],
   "source": [
    "print(fruit[-2:])"
   ]
  },
  {
   "cell_type": "code",
   "execution_count": 109,
   "metadata": {},
   "outputs": [
    {
     "name": "stdout",
     "output_type": "stream",
     "text": [
      "(1, 2) <class 'tuple'>\n",
      "[(1, 2)] <class 'list'>\n",
      "12 <class 'str'>\n",
      "['12'] <class 'list'>\n"
     ]
    }
   ],
   "source": [
    "strange_list = [(1, 2), [1, 2], '12', 12, 12.0]\n",
    "print(strange_list[0], type(strange_list[0]))\n",
    "print(strange_list[0:1], type(strange_list[0:1]))\n",
    "print(strange_list[2], type(strange_list[2]))\n",
    "print(strange_list[2:3], type(strange_list[2:3]))"
   ]
  },
  {
   "cell_type": "code",
   "execution_count": 110,
   "metadata": {},
   "outputs": [
    {
     "name": "stdout",
     "output_type": "stream",
     "text": [
      "Initial String: \n",
      "Python for you!\n",
      "\n",
      "Slicing characters from 3-12: \n",
      "hon for y\n",
      "\n",
      "Slicing characters between 3rd and 2nd last character: \n",
      "hon for yo\n"
     ]
    }
   ],
   "source": [
    "# Python Program to \n",
    "# demonstrate String slicing \n",
    "  \n",
    "# Creating a String \n",
    "String1 = \"Python for you!\"\n",
    "print(\"Initial String: \")  \n",
    "print(String1) \n",
    "  \n",
    "# Printing 3rd to 12th character \n",
    "print(\"\\nSlicing characters from 3-12: \") \n",
    "print(String1[3:12]) \n",
    "  \n",
    "# Printing characters between  \n",
    "# 3rd and 2nd last character \n",
    "print(\"\\nSlicing characters between \" +\n",
    "    \"3rd and 2nd last character: \") \n",
    "print(String1[3:-2]) "
   ]
  },
  {
   "cell_type": "markdown",
   "metadata": {},
   "source": [
    "### Specifying a Stride in a String Slice"
   ]
  },
  {
   "cell_type": "markdown",
   "metadata": {},
   "source": [
    "There is one more variant of the slicing syntax to discuss. Adding an additional : and a third index designates a **stride** (also called a *step*), which indicates how many characters to jump after retrieving each character in the slice."
   ]
  },
  {
   "cell_type": "code",
   "execution_count": 111,
   "metadata": {},
   "outputs": [
    {
     "name": "stdout",
     "output_type": "stream",
     "text": [
      "Pto\n",
      "yhn\n"
     ]
    }
   ],
   "source": [
    "s = 'Python'\n",
    "print(s[0:6:2])\n",
    "print(s[1:6:2])"
   ]
  },
  {
   "cell_type": "markdown",
   "metadata": {},
   "source": [
    "As with any slicing, the first and second indices can be omitted, and default to the first and last characters respectively:"
   ]
  },
  {
   "cell_type": "code",
   "execution_count": 113,
   "metadata": {},
   "outputs": [
    {
     "name": "stdout",
     "output_type": "stream",
     "text": [
      "1234512345123451234512345\n",
      "11111\n",
      "55555\n"
     ]
    }
   ],
   "source": [
    "string = '12345' * 5\n",
    "print(string)\n",
    "print(string[::5])\n",
    "print(string[4::5])"
   ]
  },
  {
   "cell_type": "markdown",
   "metadata": {},
   "source": [
    "You can specify a negative stride value as well, in which case Python steps backward through the string. In that case, the starting/first index should be greater than the ending/second index:"
   ]
  },
  {
   "cell_type": "code",
   "execution_count": 114,
   "metadata": {},
   "outputs": [
    {
     "name": "stdout",
     "output_type": "stream",
     "text": [
      "nhy\n"
     ]
    }
   ],
   "source": [
    "s = 'Python'\n",
    "print(s[5:0:-2])"
   ]
  },
  {
   "cell_type": "code",
   "execution_count": 115,
   "metadata": {},
   "outputs": [
    {
     "name": "stdout",
     "output_type": "stream",
     "text": [
      "1234512345123451234512345\n",
      "55555\n"
     ]
    }
   ],
   "source": [
    "str1 = '12345' * 5\n",
    "print(str1)\n",
    "print(str1[::-5])"
   ]
  },
  {
   "cell_type": "code",
   "execution_count": 116,
   "metadata": {},
   "outputs": [
    {
     "name": "stdout",
     "output_type": "stream",
     "text": [
      ".thgir eb tsum ti ,ti syas noelopaN edarmoC fI\n"
     ]
    }
   ],
   "source": [
    "str2 = 'If Comrade Napoleon says it, it must be right.'\n",
    "print(str2[::-1])"
   ]
  },
  {
   "cell_type": "markdown",
   "metadata": {},
   "source": [
    "### Deleting/Updating from a String"
   ]
  },
  {
   "cell_type": "code",
   "execution_count": 122,
   "metadata": {},
   "outputs": [
    {
     "name": "stdout",
     "output_type": "stream",
     "text": [
      "Initial String: \n",
      "Hello, I'm a Pythonist!\n"
     ]
    },
    {
     "ename": "TypeError",
     "evalue": "'str' object does not support item assignment",
     "output_type": "error",
     "traceback": [
      "\u001b[1;31m---------------------------------------------------------------------------\u001b[0m",
      "\u001b[1;31mTypeError\u001b[0m                                 Traceback (most recent call last)",
      "\u001b[1;32m<ipython-input-122-04ff02d3a495>\u001b[0m in \u001b[0;36m<module>\u001b[1;34m\u001b[0m\n\u001b[0;32m      8\u001b[0m \u001b[1;31m# Updating a character\u001b[0m\u001b[1;33m\u001b[0m\u001b[1;33m\u001b[0m\u001b[1;33m\u001b[0m\u001b[0m\n\u001b[0;32m      9\u001b[0m \u001b[1;31m# of the String\u001b[0m\u001b[1;33m\u001b[0m\u001b[1;33m\u001b[0m\u001b[1;33m\u001b[0m\u001b[0m\n\u001b[1;32m---> 10\u001b[1;33m \u001b[0mStr_1\u001b[0m\u001b[1;33m[\u001b[0m\u001b[1;36m2\u001b[0m\u001b[1;33m]\u001b[0m \u001b[1;33m=\u001b[0m \u001b[1;34m'p'\u001b[0m\u001b[1;33m\u001b[0m\u001b[1;33m\u001b[0m\u001b[0m\n\u001b[0m\u001b[0;32m     11\u001b[0m \u001b[0mprint\u001b[0m\u001b[1;33m(\u001b[0m\u001b[1;34m\"\\nUpdating character at 2nd Index: \"\u001b[0m\u001b[1;33m)\u001b[0m\u001b[1;33m\u001b[0m\u001b[1;33m\u001b[0m\u001b[0m\n\u001b[0;32m     12\u001b[0m \u001b[0mprint\u001b[0m\u001b[1;33m(\u001b[0m\u001b[0mStr_1\u001b[0m\u001b[1;33m)\u001b[0m\u001b[1;33m\u001b[0m\u001b[1;33m\u001b[0m\u001b[0m\n",
      "\u001b[1;31mTypeError\u001b[0m: 'str' object does not support item assignment"
     ]
    }
   ],
   "source": [
    "# Python Program to Update \n",
    "# character of a String \n",
    "  \n",
    "Str_1 = \"Hello, I'm a Pythonist!\"\n",
    "print(\"Initial String: \") \n",
    "print(Str_1) \n",
    "  \n",
    "# Updating a character  \n",
    "# of the String \n",
    "Str_1[2] = 'p'\n",
    "print(\"\\nUpdating character at 2nd Index: \") \n",
    "print(Str_1)"
   ]
  },
  {
   "cell_type": "code",
   "execution_count": 123,
   "metadata": {},
   "outputs": [
    {
     "name": "stdout",
     "output_type": "stream",
     "text": [
      "Initial String: \n",
      "Hello, I'm a Pythonist!\n",
      "\n",
      "Updated String: \n",
      "Hello, I'm a Pythonist!\n"
     ]
    }
   ],
   "source": [
    "# Python Program to Update \n",
    "# entire String \n",
    "  \n",
    "Str_1 = \"Hello, I'm a Pythonist!\"\n",
    "print(\"Initial String: \") \n",
    "print(Str_1) \n",
    "  \n",
    "# Updating a String \n",
    "String1 = \"Welcome to the Python World!\"\n",
    "print(\"\\nUpdated String: \") \n",
    "print(Str_1)"
   ]
  },
  {
   "cell_type": "code",
   "execution_count": 125,
   "metadata": {},
   "outputs": [
    {
     "name": "stdout",
     "output_type": "stream",
     "text": [
      "Initial String: \n",
      "Hello, I'm a Pythonist!\n"
     ]
    },
    {
     "ename": "TypeError",
     "evalue": "'str' object doesn't support item deletion",
     "output_type": "error",
     "traceback": [
      "\u001b[1;31m---------------------------------------------------------------------------\u001b[0m",
      "\u001b[1;31mTypeError\u001b[0m                                 Traceback (most recent call last)",
      "\u001b[1;32m<ipython-input-125-9d89c8171af8>\u001b[0m in \u001b[0;36m<module>\u001b[1;34m\u001b[0m\n\u001b[0;32m      8\u001b[0m \u001b[1;31m# Deleting a character\u001b[0m\u001b[1;33m\u001b[0m\u001b[1;33m\u001b[0m\u001b[1;33m\u001b[0m\u001b[0m\n\u001b[0;32m      9\u001b[0m \u001b[1;31m# of the String\u001b[0m\u001b[1;33m\u001b[0m\u001b[1;33m\u001b[0m\u001b[1;33m\u001b[0m\u001b[0m\n\u001b[1;32m---> 10\u001b[1;33m \u001b[1;32mdel\u001b[0m \u001b[0mStr_1\u001b[0m\u001b[1;33m[\u001b[0m\u001b[1;36m2\u001b[0m\u001b[1;33m]\u001b[0m\u001b[1;33m\u001b[0m\u001b[1;33m\u001b[0m\u001b[0m\n\u001b[0m\u001b[0;32m     11\u001b[0m \u001b[0mprint\u001b[0m\u001b[1;33m(\u001b[0m\u001b[1;34m\"\\nDeleting character at 2nd Index: \"\u001b[0m\u001b[1;33m)\u001b[0m\u001b[1;33m\u001b[0m\u001b[1;33m\u001b[0m\u001b[0m\n\u001b[0;32m     12\u001b[0m \u001b[0mprint\u001b[0m\u001b[1;33m(\u001b[0m\u001b[0mStr_1\u001b[0m\u001b[1;33m)\u001b[0m\u001b[1;33m\u001b[0m\u001b[1;33m\u001b[0m\u001b[0m\n",
      "\u001b[1;31mTypeError\u001b[0m: 'str' object doesn't support item deletion"
     ]
    }
   ],
   "source": [
    "# Python Program to Delete \n",
    "# characters from a String \n",
    "  \n",
    "Str_1 = \"Hello, I'm a Pythonist!\"\n",
    "print(\"Initial String: \") \n",
    "print(Str_1) \n",
    "  \n",
    "# Deleting a character  \n",
    "# of the String \n",
    "del Str_1[2]  \n",
    "print(\"\\nDeleting character at 2nd Index: \") \n",
    "print(Str_1)"
   ]
  },
  {
   "cell_type": "markdown",
   "metadata": {},
   "source": [
    "Deletion of entire string is possible with the use of **del** keyword. Further, if we try to print the string, this will produce an error because String is deleted and is unavailable to be printed."
   ]
  },
  {
   "cell_type": "code",
   "execution_count": 126,
   "metadata": {},
   "outputs": [
    {
     "name": "stdout",
     "output_type": "stream",
     "text": [
      "Initial String: \n",
      "Hello, I'm a Pythonist!\n",
      "\n",
      "Deleting entire String: \n"
     ]
    },
    {
     "ename": "NameError",
     "evalue": "name 'Str_1' is not defined",
     "output_type": "error",
     "traceback": [
      "\u001b[1;31m---------------------------------------------------------------------------\u001b[0m",
      "\u001b[1;31mNameError\u001b[0m                                 Traceback (most recent call last)",
      "\u001b[1;32m<ipython-input-126-47d7add41463>\u001b[0m in \u001b[0;36m<module>\u001b[1;34m\u001b[0m\n\u001b[0;32m     10\u001b[0m \u001b[1;32mdel\u001b[0m \u001b[0mStr_1\u001b[0m\u001b[1;33m\u001b[0m\u001b[1;33m\u001b[0m\u001b[0m\n\u001b[0;32m     11\u001b[0m \u001b[0mprint\u001b[0m\u001b[1;33m(\u001b[0m\u001b[1;34m\"\\nDeleting entire String: \"\u001b[0m\u001b[1;33m)\u001b[0m\u001b[1;33m\u001b[0m\u001b[1;33m\u001b[0m\u001b[0m\n\u001b[1;32m---> 12\u001b[1;33m \u001b[0mprint\u001b[0m\u001b[1;33m(\u001b[0m\u001b[0mStr_1\u001b[0m\u001b[1;33m)\u001b[0m\u001b[1;33m\u001b[0m\u001b[1;33m\u001b[0m\u001b[0m\n\u001b[0m",
      "\u001b[1;31mNameError\u001b[0m: name 'Str_1' is not defined"
     ]
    }
   ],
   "source": [
    "# Python Program to Delete \n",
    "# entire String \n",
    "  \n",
    "Str_1 = \"Hello, I'm a Pythonist!\"\n",
    "print(\"Initial String: \") \n",
    "print(Str_1) \n",
    "  \n",
    "# Deleting a String \n",
    "# with the use of del \n",
    "del Str_1  \n",
    "print(\"\\nDeleting entire String: \") \n",
    "print(Str_1)"
   ]
  },
  {
   "cell_type": "markdown",
   "metadata": {},
   "source": [
    "### Escape Sequencing in Python "
   ]
  },
  {
   "cell_type": "code",
   "execution_count": 128,
   "metadata": {},
   "outputs": [
    {
     "name": "stdout",
     "output_type": "stream",
     "text": [
      "Initial String with use of Triple Quotes: \n",
      "I'm a \"Pythonist!\"\n",
      "\n",
      "Escaping Single Quote: \n",
      "I'm a \"Pythonist!\"\n",
      "\n",
      "Escaping Double Quotes: \n",
      "I'm a \"Pythonist!\"\n",
      "\n",
      "Escaping Backslashes: \n",
      "C:\\Python\\Pythonist\\\n"
     ]
    }
   ],
   "source": [
    "# Python Program for \n",
    "# Escape Sequencing  \n",
    "# of String \n",
    "  \n",
    "# Initial String \n",
    "Str_1 = '''I'm a \"Pythonist!\"'''\n",
    "print(\"Initial String with use of Triple Quotes: \") \n",
    "print(Str_1) \n",
    "  \n",
    "# Escaping Single Quote  \n",
    "Str_1 = 'I\\'m a \"Pythonist!\"'\n",
    "print(\"\\nEscaping Single Quote: \") \n",
    "print(Str_1) \n",
    "  \n",
    "# Escaping Doule Quotes \n",
    "Str_1 = \"I'm a \\\"Pythonist!\\\"\"\n",
    "print(\"\\nEscaping Double Quotes: \") \n",
    "print(Str_1) \n",
    "  \n",
    "# Printing Paths with the  \n",
    "# use of Escape Sequences \n",
    "Str_1 = \"C:\\\\Python\\\\Pythonist\\\\\"\n",
    "print(\"\\nEscaping Backslashes: \") \n",
    "print(Str_1)"
   ]
  },
  {
   "cell_type": "markdown",
   "metadata": {},
   "source": [
    "To ignore the escape sequences in a String, **r** or **R** is used, this implies that the string is a raw string and escape sequences inside it are to be ignored."
   ]
  },
  {
   "cell_type": "code",
   "execution_count": 129,
   "metadata": {},
   "outputs": [
    {
     "name": "stdout",
     "output_type": "stream",
     "text": [
      "\n",
      "Printing in HEX with the use of Escape Sequences: \n",
      "This is Geeks in HEX\n",
      "\n",
      "Printing Raw String in HEX Format: \n",
      "This is \\x47\\x65\\x65\\x6b\\x73 in \\x48\\x45\\x58\n"
     ]
    }
   ],
   "source": [
    "# Printing Geeks in HEX \n",
    "Str_1 = \"This is \\x47\\x65\\x65\\x6b\\x73 in \\x48\\x45\\x58\"\n",
    "print(\"\\nPrinting in HEX with the use of Escape Sequences: \") \n",
    "print(Str_1) \n",
    "  \n",
    "# Using raw String to  \n",
    "# ignore Escape Sequences \n",
    "Str_1 = r\"This is \\x47\\x65\\x65\\x6b\\x73 in \\x48\\x45\\x58\"\n",
    "print(\"\\nPrinting Raw String in HEX Format: \") \n",
    "print(Str_1)"
   ]
  },
  {
   "cell_type": "markdown",
   "metadata": {},
   "source": [
    "**Escape Sequence in Python:**"
   ]
  },
  {
   "cell_type": "markdown",
   "metadata": {},
   "source": [
    "|Escape Sequence|Description|\n",
    "|:-:|:-|\n",
    "|\\newline|Backslash and newline ignored|\n",
    "|\\\\|Backslash|\n",
    "|\\'|Single quote|\n",
    "|\\\"|Double quote|\n",
    "|\\a|ASCII Bell|\n",
    "|\\b|ASCII Backspace|\n",
    "|\\f|ASCII Formfeed|\n",
    "|\\n|ASCII Linefeed|\n",
    "|\\r|ASCII Carriage Return|\n",
    "|\\t|ASCII Horizontal Tab|\n",
    "|\\v|ASCII Vertical Tab|\n",
    "|\\ooo|Character with octal value ooo|\n",
    "|\\xHH|Character with hexadecimal value HH|"
   ]
  },
  {
   "cell_type": "code",
   "execution_count": 131,
   "metadata": {},
   "outputs": [
    {
     "name": "stdout",
     "output_type": "stream",
     "text": [
      "C:\\Python32\\Lib\n",
      "This is printed\n",
      "in two lines\n",
      "This is HEX representation\n",
      "This is a \n",
      "good example\n",
      "This is \\x61 \\ngood example\n",
      "This is \\x61 \\ngood example\n"
     ]
    }
   ],
   "source": [
    "print(\"C:\\\\Python32\\\\Lib\")\n",
    "print(\"This is printed\\nin two lines\")\n",
    "print(\"This is \\x48\\x45\\x58 representation\")\n",
    "print(\"This is \\x61 \\ngood example\")\n",
    "print(r\"This is \\x61 \\ngood example\")\n",
    "print(R\"This is \\x61 \\ngood example\")"
   ]
  },
  {
   "cell_type": "markdown",
   "metadata": {},
   "source": [
    "### Interpolating Variables Into a String "
   ]
  },
  {
   "cell_type": "markdown",
   "metadata": {},
   "source": [
    "In Python version 3.8, a new string formatting mechanism was introduced. This feature is formally named the Formatted String Literal, but is more usually referred to by its nickname **f-string**.\n",
    "\n",
    "One simple feature of **f-strings** you can start using right away is variable interpolation. You can specify a variable name directly within an f-string literal, and Python will replace the name with the corresponding value.\n",
    "\n",
    "For example, suppose you want to display the result of an arithmetic calculation. You can do this with a straightforward *print()* statement, separating numeric values and string literals by commas:"
   ]
  },
  {
   "cell_type": "code",
   "execution_count": 132,
   "metadata": {},
   "outputs": [
    {
     "name": "stdout",
     "output_type": "stream",
     "text": [
      "The product of 20 and 25 is 500\n"
     ]
    }
   ],
   "source": [
    "n = 20\n",
    "m = 25\n",
    "prod = n * m\n",
    "print('The product of', n, 'and', m, 'is', prod)"
   ]
  },
  {
   "cell_type": "markdown",
   "metadata": {},
   "source": [
    "But this is cumbersome. To accomplish the same thing using an **f-string**:\n",
    "\n",
    "* Specify either a lowercase *f* or uppercase *F* directly before the opening quote of the string literal. This tells Python it is an f-string instead of a standard string.\n",
    "\n",
    "* Specify any variables to be interpolated in curly braces ({ }).\n",
    "\n",
    "Recast using an **f-string**, the above example looks much cleaner:"
   ]
  },
  {
   "cell_type": "code",
   "execution_count": 133,
   "metadata": {},
   "outputs": [
    {
     "name": "stdout",
     "output_type": "stream",
     "text": [
      "The product of 20 and 25 is 500\n"
     ]
    }
   ],
   "source": [
    "n = 20\n",
    "m = 25\n",
    "prod = n * m\n",
    "print(f'The product of {n} and {m} is {prod}')"
   ]
  },
  {
   "cell_type": "markdown",
   "metadata": {},
   "source": [
    "Any of Python’s three quoting mechanisms can be used to define an **f-string**:"
   ]
  },
  {
   "cell_type": "code",
   "execution_count": 134,
   "metadata": {},
   "outputs": [
    {
     "name": "stdout",
     "output_type": "stream",
     "text": [
      "A dog says Bark!\n",
      "A dog says Bark!\n",
      "A dog says Bark!\n"
     ]
    }
   ],
   "source": [
    "var = 'Bark'\n",
    "print(f'A dog says {var}!')\n",
    "print(f\"A dog says {var}!\")\n",
    "print(f'''A dog says {var}!''')"
   ]
  },
  {
   "cell_type": "markdown",
   "metadata": {},
   "source": [
    "### Modifying Strings"
   ]
  },
  {
   "cell_type": "markdown",
   "metadata": {},
   "source": [
    "In a nutshell, you can’t. Strings are one of the data types Python considers **immutable**, meaning not able to be changed. In fact, all the data types you have seen so far are **immutable**. (Python does provide data types that are mutable, as you will soon see.)\n",
    "\n",
    "A statement like this will cause an error:"
   ]
  },
  {
   "cell_type": "code",
   "execution_count": 136,
   "metadata": {},
   "outputs": [
    {
     "ename": "TypeError",
     "evalue": "'str' object does not support item assignment",
     "output_type": "error",
     "traceback": [
      "\u001b[1;31m---------------------------------------------------------------------------\u001b[0m",
      "\u001b[1;31mTypeError\u001b[0m                                 Traceback (most recent call last)",
      "\u001b[1;32m<ipython-input-136-0a7f39564f3b>\u001b[0m in \u001b[0;36m<module>\u001b[1;34m\u001b[0m\n\u001b[0;32m      1\u001b[0m \u001b[0ms\u001b[0m \u001b[1;33m=\u001b[0m \u001b[1;34m'Python'\u001b[0m\u001b[1;33m\u001b[0m\u001b[1;33m\u001b[0m\u001b[0m\n\u001b[1;32m----> 2\u001b[1;33m \u001b[0ms\u001b[0m\u001b[1;33m[\u001b[0m\u001b[1;36m3\u001b[0m\u001b[1;33m]\u001b[0m \u001b[1;33m=\u001b[0m \u001b[1;34m'a'\u001b[0m\u001b[1;33m\u001b[0m\u001b[1;33m\u001b[0m\u001b[0m\n\u001b[0m",
      "\u001b[1;31mTypeError\u001b[0m: 'str' object does not support item assignment"
     ]
    }
   ],
   "source": [
    "s = 'Python'\n",
    "s[3] = 'a'"
   ]
  },
  {
   "cell_type": "markdown",
   "metadata": {},
   "source": [
    "In truth, there really isn’t much need to modify strings. You can usually easily accomplish what you want by generating a copy of the original string that has the desired change in place. There are very many ways to do this in Python. Here is one possibility:"
   ]
  },
  {
   "cell_type": "code",
   "execution_count": 138,
   "metadata": {},
   "outputs": [
    {
     "name": "stdout",
     "output_type": "stream",
     "text": [
      "Pytaon\n"
     ]
    }
   ],
   "source": [
    "s = s[:3] + 'a' + s[4:]\n",
    "print(s)"
   ]
  },
  {
   "cell_type": "markdown",
   "metadata": {},
   "source": [
    "There is also a built-in string method to accomplish this:"
   ]
  },
  {
   "cell_type": "code",
   "execution_count": 139,
   "metadata": {},
   "outputs": [
    {
     "name": "stdout",
     "output_type": "stream",
     "text": [
      "Pytaon\n"
     ]
    }
   ],
   "source": [
    "str_1 = 'Python'\n",
    "str_1 = str_1.replace('h', 'a')\n",
    "print(str_1)"
   ]
  },
  {
   "cell_type": "markdown",
   "metadata": {},
   "source": [
    "### Built-in String Methods"
   ]
  },
  {
   "cell_type": "markdown",
   "metadata": {},
   "source": [
    "Methods are similar to functions. A method is a specialized type of callable procedure that is tightly associated with an object. Like a function, a method is called to perform a distinct task, but it is invoked on a specific object and has knowledge of its target object during execution.\n",
    "\n",
    "The syntax for invoking a method on an object is as follows:"
   ]
  },
  {
   "cell_type": "raw",
   "metadata": {},
   "source": [
    "obj.string(<args>)"
   ]
  },
  {
   "cell_type": "markdown",
   "metadata": {},
   "source": [
    "You will explore much more about defining and calling methods later in the discussion of object-oriented programming. For now, the goal is to present some of the more commonly used built-in methods Python supports for operating on string objects.\n",
    "\n",
    "In the following method definitions, arguments specified in square brackets ([ ]) are optional."
   ]
  },
  {
   "cell_type": "markdown",
   "metadata": {},
   "source": [
    "#### Case Conversion"
   ]
  },
  {
   "cell_type": "markdown",
   "metadata": {},
   "source": [
    "Methods in this group perform case conversion on the target string."
   ]
  },
  {
   "cell_type": "markdown",
   "metadata": {},
   "source": [
    "#### s.capitalize() - Capitalizes the target string."
   ]
  },
  {
   "cell_type": "markdown",
   "metadata": {},
   "source": [
    "**s.capitalize()** returns a copy of s with the first character converted to uppercase and all other characters converted to *lowercase*:"
   ]
  },
  {
   "cell_type": "code",
   "execution_count": 144,
   "metadata": {},
   "outputs": [
    {
     "name": "stdout",
     "output_type": "stream",
     "text": [
      "Acm 114 python course\n"
     ]
    }
   ],
   "source": [
    "s = 'aCM 114 Python Course'\n",
    "print(s.capitalize())"
   ]
  },
  {
   "cell_type": "code",
   "execution_count": 145,
   "metadata": {},
   "outputs": [
    {
     "name": "stdout",
     "output_type": "stream",
     "text": [
      "Python rocks!\n"
     ]
    }
   ],
   "source": [
    "print('python rocks!'.capitalize())"
   ]
  },
  {
   "cell_type": "markdown",
   "metadata": {},
   "source": [
    "Non-alphabetic characters are unchanged:"
   ]
  },
  {
   "cell_type": "code",
   "execution_count": 146,
   "metadata": {},
   "outputs": [
    {
     "name": "stdout",
     "output_type": "stream",
     "text": [
      "Ali123#python#.\n"
     ]
    }
   ],
   "source": [
    "s1 = 'ali123#PYTHON#.'\n",
    "print(s1.capitalize())"
   ]
  },
  {
   "cell_type": "code",
   "execution_count": 150,
   "metadata": {},
   "outputs": [
    {
     "name": "stdout",
     "output_type": "stream",
     "text": [
      "Python at acm 114\n"
     ]
    }
   ],
   "source": [
    "string=\"python at ACM 114\"\n",
    "print(string.capitalize())"
   ]
  },
  {
   "cell_type": "markdown",
   "metadata": {},
   "source": [
    "#### s.lower() - Converts alphabetic characters to lowercase. "
   ]
  },
  {
   "cell_type": "markdown",
   "metadata": {},
   "source": [
    "**s.lower()** returns a copy of s with all alphabetic characters converted to *lowercase*:"
   ]
  },
  {
   "cell_type": "code",
   "execution_count": 147,
   "metadata": {},
   "outputs": [
    {
     "name": "stdout",
     "output_type": "stream",
     "text": [
      "acm 114 python course\n"
     ]
    }
   ],
   "source": [
    "s = 'ACM 114 PyTHon CouRsE'\n",
    "print(s.lower())"
   ]
  },
  {
   "cell_type": "code",
   "execution_count": 148,
   "metadata": {},
   "outputs": [
    {
     "name": "stdout",
     "output_type": "stream",
     "text": [
      "hello, world!\n"
     ]
    }
   ],
   "source": [
    "s1 = \"Hello, world!\"\n",
    "print(s1.lower())"
   ]
  },
  {
   "cell_type": "code",
   "execution_count": 149,
   "metadata": {},
   "outputs": [
    {
     "name": "stdout",
     "output_type": "stream",
     "text": [
      "python at acm 114\n"
     ]
    }
   ],
   "source": [
    "string=\"PYTHON AT ACM 114\"\n",
    "print(string.lower())"
   ]
  },
  {
   "cell_type": "code",
   "execution_count": 151,
   "metadata": {},
   "outputs": [
    {
     "name": "stdout",
     "output_type": "stream",
     "text": [
      "istanbul\n"
     ]
    }
   ],
   "source": [
    "print('Istanbul'.lower())"
   ]
  },
  {
   "cell_type": "markdown",
   "metadata": {},
   "source": [
    "#### s.swapcase() - Swaps case of alphabetic characters."
   ]
  },
  {
   "cell_type": "markdown",
   "metadata": {},
   "source": [
    "**s.swapcase()** returns a copy of s with uppercase alphabetic characters converted to lowercase and vice versa:"
   ]
  },
  {
   "cell_type": "code",
   "execution_count": 152,
   "metadata": {},
   "outputs": [
    {
     "name": "stdout",
     "output_type": "stream",
     "text": [
      "acm 114 pYthON cOUrSe\n"
     ]
    }
   ],
   "source": [
    "s = 'ACM 114 PyTHon CouRsE'\n",
    "print(s.swapcase())"
   ]
  },
  {
   "cell_type": "code",
   "execution_count": 153,
   "metadata": {},
   "outputs": [
    {
     "name": "stdout",
     "output_type": "stream",
     "text": [
      "python at acm 114\n"
     ]
    }
   ],
   "source": [
    "string=\"PYTHON AT ACM 114\"\n",
    "print(string.swapcase())"
   ]
  },
  {
   "cell_type": "code",
   "execution_count": 154,
   "metadata": {},
   "outputs": [
    {
     "name": "stdout",
     "output_type": "stream",
     "text": [
      "hELLO, WORLD!\n"
     ]
    }
   ],
   "source": [
    "s1 = \"Hello, world!\"\n",
    "print(s1.swapcase())"
   ]
  },
  {
   "cell_type": "code",
   "execution_count": 155,
   "metadata": {},
   "outputs": [
    {
     "name": "stdout",
     "output_type": "stream",
     "text": [
      "iSTANBUL\n"
     ]
    }
   ],
   "source": [
    "print('Istanbul'.swapcase())"
   ]
  },
  {
   "cell_type": "markdown",
   "metadata": {},
   "source": [
    "#### s.title() - Converts the target string to “title case.”"
   ]
  },
  {
   "cell_type": "markdown",
   "metadata": {},
   "source": [
    "**s.title()** returns a copy of s in which the first letter of each word is converted to *uppercase* and remaining letters are *lowercase*:"
   ]
  },
  {
   "cell_type": "code",
   "execution_count": 157,
   "metadata": {},
   "outputs": [
    {
     "name": "stdout",
     "output_type": "stream",
     "text": [
      "The Sun Also Rises\n"
     ]
    }
   ],
   "source": [
    "print('the sun also rises'.title())"
   ]
  },
  {
   "cell_type": "markdown",
   "metadata": {},
   "source": [
    "This method uses a fairly simple algorithm. It does not attempt to distinguish between important and unimportant words, and it does not handle apostrophes, possessives, or acronyms gracefully:"
   ]
  },
  {
   "cell_type": "code",
   "execution_count": 158,
   "metadata": {},
   "outputs": [
    {
     "name": "stdout",
     "output_type": "stream",
     "text": [
      "What'S Happened To Ted'S Ibm Stock?\n"
     ]
    }
   ],
   "source": [
    "print(\"what's happened to ted's IBM stock?\".title())"
   ]
  },
  {
   "cell_type": "code",
   "execution_count": 159,
   "metadata": {},
   "outputs": [
    {
     "name": "stdout",
     "output_type": "stream",
     "text": [
      "hello, world!\n",
      "Hello, World!\n"
     ]
    }
   ],
   "source": [
    "s = \"Hello, world!\"\n",
    "print(s.lower())\n",
    "print(s.title())"
   ]
  },
  {
   "cell_type": "markdown",
   "metadata": {},
   "source": [
    "#### s.upper() - Converts alphabetic characters to uppercase."
   ]
  },
  {
   "cell_type": "markdown",
   "metadata": {},
   "source": [
    "**s.upper()** returns a copy of s with all alphabetic characters converted to *uppercase*:"
   ]
  },
  {
   "cell_type": "code",
   "execution_count": 160,
   "metadata": {},
   "outputs": [
    {
     "name": "stdout",
     "output_type": "stream",
     "text": [
      "HELLO, WORLD!\n"
     ]
    }
   ],
   "source": [
    "s = \"Hello, world!\"\n",
    "print(s.upper())"
   ]
  },
  {
   "cell_type": "code",
   "execution_count": 161,
   "metadata": {},
   "outputs": [
    {
     "name": "stdout",
     "output_type": "stream",
     "text": [
      "PYTHON AT ACM 114\n"
     ]
    }
   ],
   "source": [
    "string=\"python at acm 114\"\n",
    "print(string.upper())"
   ]
  },
  {
   "cell_type": "code",
   "execution_count": 162,
   "metadata": {},
   "outputs": [
    {
     "name": "stdout",
     "output_type": "stream",
     "text": [
      "APPLE\n"
     ]
    }
   ],
   "source": [
    "print('apple'.upper())"
   ]
  },
  {
   "cell_type": "markdown",
   "metadata": {},
   "source": [
    "#### Find and Replace"
   ]
  },
  {
   "cell_type": "markdown",
   "metadata": {},
   "source": [
    "These methods provide various means of searching the target string for a specified substring.\n",
    "\n",
    "Each method in this group supports optional \\< start \\> and \\< end \\> arguments. These are interpreted as for string slicing: the action of the method is restricted to the portion of the target string starting at character position \\< start \\> and proceeding up to but not including character position \\< end \\>. If \\< start \\> is specified but \\< end \\> is not, the method applies to the portion of the target string from \\< start \\> through the end of the string."
   ]
  },
  {
   "cell_type": "markdown",
   "metadata": {},
   "source": [
    "#### s.count(\\< sub \\>[, \\< start \\>[, \\< end \\>]]) - Counts occurrences of a substring in the target string."
   ]
  },
  {
   "cell_type": "markdown",
   "metadata": {},
   "source": [
    "**s.count(\\< sub \\>)** returns the number of non-overlapping occurrences of substring \\< sub \\> in *s*:"
   ]
  },
  {
   "cell_type": "code",
   "execution_count": 164,
   "metadata": {},
   "outputs": [
    {
     "name": "stdout",
     "output_type": "stream",
     "text": [
      "3\n",
      "1\n"
     ]
    }
   ],
   "source": [
    "s = \"Hello, world!\"\n",
    "print(s.count('l'))\n",
    "print(s.count('world'))"
   ]
  },
  {
   "cell_type": "code",
   "execution_count": 168,
   "metadata": {},
   "outputs": [
    {
     "name": "stdout",
     "output_type": "stream",
     "text": [
      "3\n"
     ]
    }
   ],
   "source": [
    "print('foo goo moo'.count('oo'))"
   ]
  },
  {
   "cell_type": "markdown",
   "metadata": {},
   "source": [
    "The count is restricted to the number of occurrences within the substring indicated by \\< start \\> and \\< end \\>, if they are specified:"
   ]
  },
  {
   "cell_type": "code",
   "execution_count": 167,
   "metadata": {},
   "outputs": [
    {
     "name": "stdout",
     "output_type": "stream",
     "text": [
      "2\n"
     ]
    }
   ],
   "source": [
    "print('foo goo moo'.count('oo', 0, 8))"
   ]
  },
  {
   "cell_type": "code",
   "execution_count": 171,
   "metadata": {},
   "outputs": [
    {
     "name": "stdout",
     "output_type": "stream",
     "text": [
      "1\n"
     ]
    }
   ],
   "source": [
    "string=\"python at acm 114\"\n",
    "print(string.count('a', 0, 10))"
   ]
  },
  {
   "cell_type": "markdown",
   "metadata": {},
   "source": [
    "#### s.endswith(\\< suffix \\>[, \\< start \\>[, \\< end \\>]]) - Determines whether the target string ends with a given substring."
   ]
  },
  {
   "cell_type": "markdown",
   "metadata": {},
   "source": [
    "**s.endswith(\\< suffix \\>)** returns *True* if s ends with the specified \\< suffix \\> and *False* otherwise:"
   ]
  },
  {
   "cell_type": "code",
   "execution_count": 172,
   "metadata": {},
   "outputs": [
    {
     "name": "stdout",
     "output_type": "stream",
     "text": [
      "True\n",
      "False\n"
     ]
    }
   ],
   "source": [
    "print('foobar'.endswith('bar'))\n",
    "print('foobar'.endswith('baz'))"
   ]
  },
  {
   "cell_type": "markdown",
   "metadata": {},
   "source": [
    "The comparison is restricted to the substring indicated by \\< start \\> and \\< end \\>, if they are specified:"
   ]
  },
  {
   "cell_type": "code",
   "execution_count": 173,
   "metadata": {},
   "outputs": [
    {
     "name": "stdout",
     "output_type": "stream",
     "text": [
      "True\n",
      "False\n"
     ]
    }
   ],
   "source": [
    "print('foobar'.endswith('oob', 0, 4))\n",
    "print('foobar'.endswith('oob', 2, 4))"
   ]
  },
  {
   "cell_type": "markdown",
   "metadata": {},
   "source": [
    "#### s.find(\\< sub \\>[, \\< start \\>[, \\< end \\>]]) - Searches the target string for a given substring."
   ]
  },
  {
   "cell_type": "markdown",
   "metadata": {},
   "source": [
    "You can use **.find()** to see if a Python string contains a particular substring. **s.find(\\< sub \\>)** returns the **lowest index** in *s* where substring \\< sub \\> is found:"
   ]
  },
  {
   "cell_type": "code",
   "execution_count": 174,
   "metadata": {},
   "outputs": [
    {
     "name": "stdout",
     "output_type": "stream",
     "text": [
      "0\n"
     ]
    }
   ],
   "source": [
    "print('foo bar foo baz foo qux'.find('foo'))"
   ]
  },
  {
   "cell_type": "markdown",
   "metadata": {},
   "source": [
    "This method returns *-1* if the specified substring is **not found**:"
   ]
  },
  {
   "cell_type": "code",
   "execution_count": 175,
   "metadata": {},
   "outputs": [
    {
     "name": "stdout",
     "output_type": "stream",
     "text": [
      "-1\n"
     ]
    }
   ],
   "source": [
    "print('foo bar foo baz foo qux'.find('blabla'))"
   ]
  },
  {
   "cell_type": "markdown",
   "metadata": {},
   "source": [
    "The search is restricted to the substring indicated by \\< start \\> and \\< end \\>, if they are specified:"
   ]
  },
  {
   "cell_type": "code",
   "execution_count": 176,
   "metadata": {},
   "outputs": [
    {
     "name": "stdout",
     "output_type": "stream",
     "text": [
      "8\n",
      "-1\n"
     ]
    }
   ],
   "source": [
    "print('foo bar foo baz foo qux'.find('foo', 4))\n",
    "print('foo bar foo baz foo qux'.find('foo', 4, 7))"
   ]
  },
  {
   "cell_type": "code",
   "execution_count": 178,
   "metadata": {},
   "outputs": [
    {
     "name": "stdout",
     "output_type": "stream",
     "text": [
      "8\n"
     ]
    }
   ],
   "source": [
    "s = \"Hello, world!\"\n",
    "print(s.find('or'))"
   ]
  },
  {
   "cell_type": "code",
   "execution_count": 179,
   "metadata": {},
   "outputs": [
    {
     "name": "stdout",
     "output_type": "stream",
     "text": [
      "7\n",
      "0\n",
      "-1\n",
      "6\n",
      "-1\n"
     ]
    }
   ],
   "source": [
    "string = 'Python ACM 114'\n",
    "print(string.find('ACM'))\n",
    "print(string.find('Pyt'))\n",
    "print(string.find('111'))\n",
    "print(string.find(' '))\n",
    "print(string.find('2'))"
   ]
  },
  {
   "cell_type": "markdown",
   "metadata": {},
   "source": [
    "#### s.index(\\< sub \\>[, \\< start \\>[, \\< end \\>]]) - Searches the target string for a given substring."
   ]
  },
  {
   "cell_type": "markdown",
   "metadata": {},
   "source": [
    "This method is identical to **.find()**, except that it raises an exception if \\< sub \\> is not found rather than returning **-1**:"
   ]
  },
  {
   "cell_type": "code",
   "execution_count": 180,
   "metadata": {},
   "outputs": [
    {
     "ename": "ValueError",
     "evalue": "substring not found",
     "output_type": "error",
     "traceback": [
      "\u001b[1;31m---------------------------------------------------------------------------\u001b[0m",
      "\u001b[1;31mValueError\u001b[0m                                Traceback (most recent call last)",
      "\u001b[1;32m<ipython-input-180-75dfeea9e2ef>\u001b[0m in \u001b[0;36m<module>\u001b[1;34m\u001b[0m\n\u001b[1;32m----> 1\u001b[1;33m \u001b[0mprint\u001b[0m\u001b[1;33m(\u001b[0m\u001b[1;34m'foo bar foo baz foo qux'\u001b[0m\u001b[1;33m.\u001b[0m\u001b[0mindex\u001b[0m\u001b[1;33m(\u001b[0m\u001b[1;34m'blabla'\u001b[0m\u001b[1;33m)\u001b[0m\u001b[1;33m)\u001b[0m\u001b[1;33m\u001b[0m\u001b[1;33m\u001b[0m\u001b[0m\n\u001b[0m",
      "\u001b[1;31mValueError\u001b[0m: substring not found"
     ]
    }
   ],
   "source": [
    "print('foo bar foo baz foo qux'.index('blabla'))"
   ]
  },
  {
   "cell_type": "code",
   "execution_count": 181,
   "metadata": {},
   "outputs": [
    {
     "name": "stdout",
     "output_type": "stream",
     "text": [
      "7\n",
      "0\n"
     ]
    },
    {
     "ename": "ValueError",
     "evalue": "substring not found",
     "output_type": "error",
     "traceback": [
      "\u001b[1;31m---------------------------------------------------------------------------\u001b[0m",
      "\u001b[1;31mValueError\u001b[0m                                Traceback (most recent call last)",
      "\u001b[1;32m<ipython-input-181-8c09f7e28fd0>\u001b[0m in \u001b[0;36m<module>\u001b[1;34m\u001b[0m\n\u001b[0;32m      2\u001b[0m \u001b[0mprint\u001b[0m\u001b[1;33m(\u001b[0m\u001b[0mstring\u001b[0m\u001b[1;33m.\u001b[0m\u001b[0mindex\u001b[0m\u001b[1;33m(\u001b[0m\u001b[1;34m'ACM'\u001b[0m\u001b[1;33m)\u001b[0m\u001b[1;33m)\u001b[0m\u001b[1;33m\u001b[0m\u001b[1;33m\u001b[0m\u001b[0m\n\u001b[0;32m      3\u001b[0m \u001b[0mprint\u001b[0m\u001b[1;33m(\u001b[0m\u001b[0mstring\u001b[0m\u001b[1;33m.\u001b[0m\u001b[0mindex\u001b[0m\u001b[1;33m(\u001b[0m\u001b[1;34m'Pyt'\u001b[0m\u001b[1;33m)\u001b[0m\u001b[1;33m)\u001b[0m\u001b[1;33m\u001b[0m\u001b[1;33m\u001b[0m\u001b[0m\n\u001b[1;32m----> 4\u001b[1;33m \u001b[0mprint\u001b[0m\u001b[1;33m(\u001b[0m\u001b[0mstring\u001b[0m\u001b[1;33m.\u001b[0m\u001b[0mindex\u001b[0m\u001b[1;33m(\u001b[0m\u001b[1;34m'111'\u001b[0m\u001b[1;33m)\u001b[0m\u001b[1;33m)\u001b[0m\u001b[1;33m\u001b[0m\u001b[1;33m\u001b[0m\u001b[0m\n\u001b[0m\u001b[0;32m      5\u001b[0m \u001b[0mprint\u001b[0m\u001b[1;33m(\u001b[0m\u001b[0mstring\u001b[0m\u001b[1;33m.\u001b[0m\u001b[0mindex\u001b[0m\u001b[1;33m(\u001b[0m\u001b[1;34m' '\u001b[0m\u001b[1;33m)\u001b[0m\u001b[1;33m)\u001b[0m\u001b[1;33m\u001b[0m\u001b[1;33m\u001b[0m\u001b[0m\n\u001b[0;32m      6\u001b[0m \u001b[0mprint\u001b[0m\u001b[1;33m(\u001b[0m\u001b[0mstring\u001b[0m\u001b[1;33m.\u001b[0m\u001b[0mindex\u001b[0m\u001b[1;33m(\u001b[0m\u001b[1;34m'2'\u001b[0m\u001b[1;33m)\u001b[0m\u001b[1;33m)\u001b[0m\u001b[1;33m\u001b[0m\u001b[1;33m\u001b[0m\u001b[0m\n",
      "\u001b[1;31mValueError\u001b[0m: substring not found"
     ]
    }
   ],
   "source": [
    "string = 'Python ACM 114'\n",
    "print(string.index('ACM'))\n",
    "print(string.index('Pyt'))\n",
    "print(string.index('111'))\n",
    "print(string.index(' '))\n",
    "print(string.index('2'))"
   ]
  },
  {
   "cell_type": "markdown",
   "metadata": {},
   "source": [
    "#### s.rfind(\\< sub \\>[, \\< start \\>[, \\< end \\>]]) - Searches the target string for a given substring starting at the end."
   ]
  },
  {
   "cell_type": "markdown",
   "metadata": {},
   "source": [
    "**s.rfind(\\< sub \\>)** returns the *highest index* in *s* where substring \\< sub \\> is found:"
   ]
  },
  {
   "cell_type": "code",
   "execution_count": 182,
   "metadata": {},
   "outputs": [
    {
     "name": "stdout",
     "output_type": "stream",
     "text": [
      "16\n"
     ]
    }
   ],
   "source": [
    "print('foo bar foo baz foo qux'.rfind('foo'))"
   ]
  },
  {
   "cell_type": "markdown",
   "metadata": {},
   "source": [
    "As with **.find()**, if the substring is not found, *-1* is returned:"
   ]
  },
  {
   "cell_type": "code",
   "execution_count": 183,
   "metadata": {},
   "outputs": [
    {
     "name": "stdout",
     "output_type": "stream",
     "text": [
      "-1\n"
     ]
    }
   ],
   "source": [
    "print('foo bar foo baz foo qux'.rfind('blabla'))"
   ]
  },
  {
   "cell_type": "markdown",
   "metadata": {},
   "source": [
    "The search is restricted to the substring indicated by \\< start \\> and \\< end \\>, if they are specified:"
   ]
  },
  {
   "cell_type": "code",
   "execution_count": 184,
   "metadata": {},
   "outputs": [
    {
     "name": "stdout",
     "output_type": "stream",
     "text": [
      "8\n",
      "-1\n"
     ]
    }
   ],
   "source": [
    "print('foo bar foo baz foo qux'.rfind('foo', 0, 14))\n",
    "print('foo bar foo baz foo qux'.rfind('foo', 10, 14))"
   ]
  },
  {
   "cell_type": "code",
   "execution_count": 186,
   "metadata": {},
   "outputs": [
    {
     "name": "stdout",
     "output_type": "stream",
     "text": [
      "71\n",
      "60\n",
      "-1\n",
      "70\n",
      "-1\n",
      "71\n",
      "73\n",
      "68\n",
      "61\n",
      "-1\n"
     ]
    }
   ],
   "source": [
    "string = 'Python ACM 114 ACM Python 114 114 ACM Python ACM 114 Python Python 114 ACM'\n",
    "print(string.rfind('ACM'))\n",
    "print(string.rfind('Pyt'))\n",
    "print(string.rfind('111'))\n",
    "print(string.rfind(' '))\n",
    "print(string.rfind('2'))\n",
    "print(string.rfind('A'))\n",
    "print(string.rfind('M'))\n",
    "print(string.rfind('1'))\n",
    "print(string.rfind('y'))\n",
    "print(string.rfind('0'))"
   ]
  },
  {
   "cell_type": "markdown",
   "metadata": {},
   "source": [
    "#### s.rindex(\\< sub \\>[, \\< start \\>[, \\< end \\>]]) - Searches the target string for a given substring starting at the end."
   ]
  },
  {
   "cell_type": "markdown",
   "metadata": {},
   "source": [
    "This method is identical to **.rfind()**, except that it raises an exception if \\< sub \\> is not found rather than returning *-1*:"
   ]
  },
  {
   "cell_type": "code",
   "execution_count": 188,
   "metadata": {},
   "outputs": [
    {
     "ename": "ValueError",
     "evalue": "substring not found",
     "output_type": "error",
     "traceback": [
      "\u001b[1;31m---------------------------------------------------------------------------\u001b[0m",
      "\u001b[1;31mValueError\u001b[0m                                Traceback (most recent call last)",
      "\u001b[1;32m<ipython-input-188-18b252a5f4e1>\u001b[0m in \u001b[0;36m<module>\u001b[1;34m\u001b[0m\n\u001b[1;32m----> 1\u001b[1;33m \u001b[0mprint\u001b[0m\u001b[1;33m(\u001b[0m\u001b[1;34m'foo bar foo baz foo qux'\u001b[0m\u001b[1;33m.\u001b[0m\u001b[0mrindex\u001b[0m\u001b[1;33m(\u001b[0m\u001b[1;34m'blabla'\u001b[0m\u001b[1;33m)\u001b[0m\u001b[1;33m)\u001b[0m\u001b[1;33m\u001b[0m\u001b[1;33m\u001b[0m\u001b[0m\n\u001b[0m",
      "\u001b[1;31mValueError\u001b[0m: substring not found"
     ]
    }
   ],
   "source": [
    "print('foo bar foo baz foo qux'.rindex('blabla'))"
   ]
  },
  {
   "cell_type": "code",
   "execution_count": 189,
   "metadata": {},
   "outputs": [
    {
     "name": "stdout",
     "output_type": "stream",
     "text": [
      "16\n"
     ]
    }
   ],
   "source": [
    "print('foo bar foo baz foo qux'.rindex('foo'))"
   ]
  },
  {
   "cell_type": "code",
   "execution_count": 190,
   "metadata": {},
   "outputs": [
    {
     "name": "stdout",
     "output_type": "stream",
     "text": [
      "8\n"
     ]
    },
    {
     "ename": "ValueError",
     "evalue": "substring not found",
     "output_type": "error",
     "traceback": [
      "\u001b[1;31m---------------------------------------------------------------------------\u001b[0m",
      "\u001b[1;31mValueError\u001b[0m                                Traceback (most recent call last)",
      "\u001b[1;32m<ipython-input-190-8bc7ca200d3a>\u001b[0m in \u001b[0;36m<module>\u001b[1;34m\u001b[0m\n\u001b[0;32m      1\u001b[0m \u001b[0mprint\u001b[0m\u001b[1;33m(\u001b[0m\u001b[1;34m'foo bar foo baz foo qux'\u001b[0m\u001b[1;33m.\u001b[0m\u001b[0mrindex\u001b[0m\u001b[1;33m(\u001b[0m\u001b[1;34m'foo'\u001b[0m\u001b[1;33m,\u001b[0m \u001b[1;36m0\u001b[0m\u001b[1;33m,\u001b[0m \u001b[1;36m14\u001b[0m\u001b[1;33m)\u001b[0m\u001b[1;33m)\u001b[0m\u001b[1;33m\u001b[0m\u001b[1;33m\u001b[0m\u001b[0m\n\u001b[1;32m----> 2\u001b[1;33m \u001b[0mprint\u001b[0m\u001b[1;33m(\u001b[0m\u001b[1;34m'foo bar foo baz foo qux'\u001b[0m\u001b[1;33m.\u001b[0m\u001b[0mrindex\u001b[0m\u001b[1;33m(\u001b[0m\u001b[1;34m'foo'\u001b[0m\u001b[1;33m,\u001b[0m \u001b[1;36m10\u001b[0m\u001b[1;33m,\u001b[0m \u001b[1;36m14\u001b[0m\u001b[1;33m)\u001b[0m\u001b[1;33m)\u001b[0m\u001b[1;33m\u001b[0m\u001b[1;33m\u001b[0m\u001b[0m\n\u001b[0m",
      "\u001b[1;31mValueError\u001b[0m: substring not found"
     ]
    }
   ],
   "source": [
    "print('foo bar foo baz foo qux'.rindex('foo', 0, 14))\n",
    "print('foo bar foo baz foo qux'.rindex('foo', 10, 14))"
   ]
  },
  {
   "cell_type": "code",
   "execution_count": 192,
   "metadata": {},
   "outputs": [
    {
     "name": "stdout",
     "output_type": "stream",
     "text": [
      "71\n",
      "60\n",
      "68\n",
      "70\n"
     ]
    },
    {
     "ename": "ValueError",
     "evalue": "substring not found",
     "output_type": "error",
     "traceback": [
      "\u001b[1;31m---------------------------------------------------------------------------\u001b[0m",
      "\u001b[1;31mValueError\u001b[0m                                Traceback (most recent call last)",
      "\u001b[1;32m<ipython-input-192-c913880cac35>\u001b[0m in \u001b[0;36m<module>\u001b[1;34m\u001b[0m\n\u001b[0;32m      4\u001b[0m \u001b[0mprint\u001b[0m\u001b[1;33m(\u001b[0m\u001b[0mstring\u001b[0m\u001b[1;33m.\u001b[0m\u001b[0mrindex\u001b[0m\u001b[1;33m(\u001b[0m\u001b[1;34m'1'\u001b[0m\u001b[1;33m)\u001b[0m\u001b[1;33m)\u001b[0m\u001b[1;33m\u001b[0m\u001b[1;33m\u001b[0m\u001b[0m\n\u001b[0;32m      5\u001b[0m \u001b[0mprint\u001b[0m\u001b[1;33m(\u001b[0m\u001b[0mstring\u001b[0m\u001b[1;33m.\u001b[0m\u001b[0mrindex\u001b[0m\u001b[1;33m(\u001b[0m\u001b[1;34m' '\u001b[0m\u001b[1;33m)\u001b[0m\u001b[1;33m)\u001b[0m\u001b[1;33m\u001b[0m\u001b[1;33m\u001b[0m\u001b[0m\n\u001b[1;32m----> 6\u001b[1;33m \u001b[0mprint\u001b[0m\u001b[1;33m(\u001b[0m\u001b[0mstring\u001b[0m\u001b[1;33m.\u001b[0m\u001b[0mrindex\u001b[0m\u001b[1;33m(\u001b[0m\u001b[1;34m'2'\u001b[0m\u001b[1;33m)\u001b[0m\u001b[1;33m)\u001b[0m\u001b[1;33m\u001b[0m\u001b[1;33m\u001b[0m\u001b[0m\n\u001b[0m\u001b[0;32m      7\u001b[0m \u001b[0mprint\u001b[0m\u001b[1;33m(\u001b[0m\u001b[0mstring\u001b[0m\u001b[1;33m.\u001b[0m\u001b[0mrindex\u001b[0m\u001b[1;33m(\u001b[0m\u001b[1;34m'A'\u001b[0m\u001b[1;33m)\u001b[0m\u001b[1;33m)\u001b[0m\u001b[1;33m\u001b[0m\u001b[1;33m\u001b[0m\u001b[0m\n\u001b[0;32m      8\u001b[0m \u001b[0mprint\u001b[0m\u001b[1;33m(\u001b[0m\u001b[0mstring\u001b[0m\u001b[1;33m.\u001b[0m\u001b[0mrindex\u001b[0m\u001b[1;33m(\u001b[0m\u001b[1;34m'M'\u001b[0m\u001b[1;33m)\u001b[0m\u001b[1;33m)\u001b[0m\u001b[1;33m\u001b[0m\u001b[1;33m\u001b[0m\u001b[0m\n",
      "\u001b[1;31mValueError\u001b[0m: substring not found"
     ]
    }
   ],
   "source": [
    "string = 'Python ACM 114 ACM Python 114 114 ACM Python ACM 114 Python Python 114 ACM'\n",
    "print(string.rindex('ACM'))\n",
    "print(string.rindex('Pyt'))\n",
    "print(string.rindex('1'))\n",
    "print(string.rindex(' '))\n",
    "print(string.rindex('2'))\n",
    "print(string.rindex('A'))\n",
    "print(string.rindex('M'))\n",
    "print(string.rindex('y'))\n",
    "print(string.rindex('0'))"
   ]
  },
  {
   "cell_type": "markdown",
   "metadata": {},
   "source": [
    "#### s.startswith(\\< prefix \\>[, \\< start \\>[, \\< end \\>]]) - Determines whether the target string starts with a given substring."
   ]
  },
  {
   "cell_type": "markdown",
   "metadata": {},
   "source": [
    "When you use the Python **.startswith()** method, **s.startswith(\\< suffix \\>)** returns *True* if **s** starts with the specified \\< suffix \\> and *False* otherwise:"
   ]
  },
  {
   "cell_type": "code",
   "execution_count": 193,
   "metadata": {},
   "outputs": [
    {
     "name": "stdout",
     "output_type": "stream",
     "text": [
      "True\n",
      "False\n"
     ]
    }
   ],
   "source": [
    "print('foobar'.startswith('foo'))\n",
    "print('foobar'.startswith('bar'))"
   ]
  },
  {
   "cell_type": "markdown",
   "metadata": {},
   "source": [
    "The comparison is restricted to the substring indicated by \\< start \\> and \\< end \\>, if they are specified:"
   ]
  },
  {
   "cell_type": "code",
   "execution_count": 196,
   "metadata": {},
   "outputs": [
    {
     "name": "stdout",
     "output_type": "stream",
     "text": [
      "True\n",
      "False\n"
     ]
    }
   ],
   "source": [
    "print('foobar'.startswith('bar', 3))\n",
    "print('foobar'.startswith('bar', 3, 2))"
   ]
  },
  {
   "cell_type": "code",
   "execution_count": 197,
   "metadata": {},
   "outputs": [
    {
     "name": "stdout",
     "output_type": "stream",
     "text": [
      "True\n",
      "True\n",
      "False\n",
      "True\n",
      "False\n"
     ]
    }
   ],
   "source": [
    "string = 'Python ACM 114'\n",
    "print(string.startswith('ACM', 7))\n",
    "print(string.startswith('Pyt'))\n",
    "print(string.startswith('111', 11, 13))\n",
    "print(string.startswith(' ', 10))\n",
    "print(string.startswith('2'))"
   ]
  },
  {
   "cell_type": "code",
   "execution_count": 198,
   "metadata": {},
   "outputs": [
    {
     "name": "stdout",
     "output_type": "stream",
     "text": [
      "True\n",
      "False\n"
     ]
    }
   ],
   "source": [
    "print('Mississippi'.startswith('Miss'))\n",
    "print('Ankara'.startswith('Ant'))"
   ]
  },
  {
   "cell_type": "markdown",
   "metadata": {},
   "source": [
    "#### Character Classification "
   ]
  },
  {
   "cell_type": "markdown",
   "metadata": {},
   "source": [
    "Methods in this group classify a string based on the characters it contains."
   ]
  },
  {
   "cell_type": "markdown",
   "metadata": {},
   "source": [
    "#### s.isalnum() - Determines whether the target string consists of alphanumeric characters."
   ]
  },
  {
   "cell_type": "markdown",
   "metadata": {},
   "source": [
    "**s.isalnum()** returns *True* if **s** is nonempty and all its characters are alphanumeric (either a letter or a number), and *False* otherwise:"
   ]
  },
  {
   "cell_type": "code",
   "execution_count": 199,
   "metadata": {},
   "outputs": [
    {
     "name": "stdout",
     "output_type": "stream",
     "text": [
      "True\n",
      "False\n",
      "False\n"
     ]
    }
   ],
   "source": [
    "print('abc123'.isalnum())\n",
    "print('abc$123'.isalnum())\n",
    "print(''.isalnum())"
   ]
  },
  {
   "cell_type": "code",
   "execution_count": 201,
   "metadata": {},
   "outputs": [
    {
     "name": "stdout",
     "output_type": "stream",
     "text": [
      "False\n",
      "True\n"
     ]
    }
   ],
   "source": [
    "string = 'Python ACM 114'\n",
    "print(string.isalnum())\n",
    "string = 'PythonACM114'\n",
    "print(string.isalnum())"
   ]
  },
  {
   "cell_type": "markdown",
   "metadata": {},
   "source": [
    "#### s.isalpha() - Determines whether the target string consists of alphabetic characters."
   ]
  },
  {
   "cell_type": "markdown",
   "metadata": {},
   "source": [
    "**s.isalpha()** returns *True* if **s** is nonempty and all its characters are **alphabetic**, and *False* otherwise:"
   ]
  },
  {
   "cell_type": "code",
   "execution_count": 202,
   "metadata": {},
   "outputs": [
    {
     "name": "stdout",
     "output_type": "stream",
     "text": [
      "True\n",
      "False\n"
     ]
    }
   ],
   "source": [
    "print('ABCabc'.isalpha())\n",
    "print('abc123'.isalpha())"
   ]
  },
  {
   "cell_type": "code",
   "execution_count": 203,
   "metadata": {},
   "outputs": [
    {
     "name": "stdout",
     "output_type": "stream",
     "text": [
      "False\n",
      "True\n"
     ]
    }
   ],
   "source": [
    "string = 'Python ACM'\n",
    "print(string.isalpha())\n",
    "string = 'PythonACM'\n",
    "print(string.isalpha())"
   ]
  },
  {
   "cell_type": "markdown",
   "metadata": {},
   "source": [
    "#### s.isdigit() - Determines whether the target string consists of digit characters."
   ]
  },
  {
   "cell_type": "markdown",
   "metadata": {},
   "source": [
    "You can use the **.isdigit()** Python method to check if your string is made of only digits. **s.digit()** returns *True* if **s** is nonempty and all its characters are **numeric digits**, and *False* otherwise:"
   ]
  },
  {
   "cell_type": "code",
   "execution_count": 204,
   "metadata": {},
   "outputs": [
    {
     "name": "stdout",
     "output_type": "stream",
     "text": [
      "True\n",
      "False\n"
     ]
    }
   ],
   "source": [
    "print('123'.isdigit())\n",
    "print('123abc'.isdigit())"
   ]
  },
  {
   "cell_type": "code",
   "execution_count": 205,
   "metadata": {},
   "outputs": [
    {
     "name": "stdout",
     "output_type": "stream",
     "text": [
      "True\n",
      "False\n"
     ]
    }
   ],
   "source": [
    "str1 = '42'\n",
    "str2 = 'fortytwo'\n",
    "print(str1.isdigit())\n",
    "print(str2.isdigit())"
   ]
  },
  {
   "cell_type": "markdown",
   "metadata": {},
   "source": [
    "#### s.isidentifier() - Determines whether the target string is a valid Python identifier."
   ]
  },
  {
   "cell_type": "markdown",
   "metadata": {},
   "source": [
    "**s.isidentifier()** returns *True* if **s** is a valid Python identifier according to the language definition, and *False* otherwise:"
   ]
  },
  {
   "cell_type": "code",
   "execution_count": 207,
   "metadata": {},
   "outputs": [
    {
     "name": "stdout",
     "output_type": "stream",
     "text": [
      "True\n",
      "False\n",
      "False\n",
      "True\n",
      "False\n",
      "True\n",
      "False\n",
      "False\n"
     ]
    }
   ],
   "source": [
    "print('foo32'.isidentifier())\n",
    "print('32foo'.isidentifier())\n",
    "print('foo$32'.isidentifier())\n",
    "print('str_1'.isidentifier())\n",
    "print('1_str'.isidentifier())\n",
    "print('circleArea'.isidentifier())\n",
    "print('#var'.isidentifier())\n",
    "print('var-1'.isidentifier())"
   ]
  },
  {
   "cell_type": "code",
   "execution_count": 208,
   "metadata": {},
   "outputs": [
    {
     "name": "stdout",
     "output_type": "stream",
     "text": [
      "True\n",
      "True\n",
      "True\n",
      "True\n",
      "True\n",
      "True\n",
      "True\n",
      "True\n"
     ]
    }
   ],
   "source": [
    "print('and'.isidentifier())\n",
    "print('True'.isidentifier())\n",
    "print('while'.isidentifier())\n",
    "print('def'.isidentifier())\n",
    "from keyword import iskeyword\n",
    "print(iskeyword('and'))\n",
    "print(iskeyword('True'))\n",
    "print(iskeyword('while'))\n",
    "print(iskeyword('def'))"
   ]
  },
  {
   "cell_type": "markdown",
   "metadata": {},
   "source": [
    "#### s.islower() - Determines whether the target string’s alphabetic characters are lowercase."
   ]
  },
  {
   "cell_type": "markdown",
   "metadata": {},
   "source": [
    "**s.islower()** returns *True* if **s** is **nonempty* and all the **alphabetic characters** it contains are *lowercase*, and *False* otherwise. **Non-alphabetic characters** are ignored:"
   ]
  },
  {
   "cell_type": "code",
   "execution_count": 209,
   "metadata": {},
   "outputs": [
    {
     "name": "stdout",
     "output_type": "stream",
     "text": [
      "True\n",
      "True\n",
      "False\n"
     ]
    }
   ],
   "source": [
    "print('abc'.islower())\n",
    "print('abc1$d'.islower())\n",
    "print('Abc1$D'.islower())"
   ]
  },
  {
   "cell_type": "markdown",
   "metadata": {},
   "source": [
    "#### s.isprintable() -  Determines whether the target string consists entirely of printable characters."
   ]
  },
  {
   "cell_type": "markdown",
   "metadata": {},
   "source": [
    "**s.isprintable()** returns *True* if **s** is **empty** or all the alphabetic characters it contains are printable. It returns *False* if **s** contains at least one non-printable character. **Non-alphabetic characters** are ignored:"
   ]
  },
  {
   "cell_type": "code",
   "execution_count": 210,
   "metadata": {},
   "outputs": [
    {
     "name": "stdout",
     "output_type": "stream",
     "text": [
      "False\n",
      "True\n",
      "True\n",
      "False\n"
     ]
    }
   ],
   "source": [
    "print('a\\tb'.isprintable())\n",
    "print('a b'.isprintable())\n",
    "print(''.isprintable())\n",
    "print('a\\nb'.isprintable())"
   ]
  },
  {
   "cell_type": "markdown",
   "metadata": {},
   "source": [
    "This is the only **.isxxxx()** method that returns *True* if **s** is an *empty* string. All the others return *False* for an *empty* string."
   ]
  },
  {
   "cell_type": "markdown",
   "metadata": {},
   "source": [
    "#### s.isspace() - Determines whether the target string consists of whitespace characters."
   ]
  },
  {
   "cell_type": "markdown",
   "metadata": {},
   "source": [
    "**s.isspace()** returns *True* if **s** is *nonempty* and all characters are *whitespace characters*, and *False* otherwise.\n",
    "\n",
    "The most commonly encountered *whitespace characters* are *space* **' '**, *tab* **'\\t'**, and *newline* **'\\n'**:"
   ]
  },
  {
   "cell_type": "code",
   "execution_count": 211,
   "metadata": {},
   "outputs": [
    {
     "name": "stdout",
     "output_type": "stream",
     "text": [
      "True\n",
      "False\n"
     ]
    }
   ],
   "source": [
    "print(' \\t \\n '.isspace())\n",
    "print('   a   '.isspace())"
   ]
  },
  {
   "cell_type": "markdown",
   "metadata": {},
   "source": [
    "However, there are a few other *ASCII characters* that qualify as *whitespace*, and if you account for *Unicode characters*, there are quite a few beyond that:"
   ]
  },
  {
   "cell_type": "code",
   "execution_count": 212,
   "metadata": {},
   "outputs": [
    {
     "name": "stdout",
     "output_type": "stream",
     "text": [
      "True\n"
     ]
    }
   ],
   "source": [
    "print('\\f\\u2005\\r'.isspace())"
   ]
  },
  {
   "cell_type": "markdown",
   "metadata": {},
   "source": [
    "(**'\\f'** and **'\\r'** are the escape sequences for the *ASCII Form Feed and Carriage Return* characters; **'\\u2005'** is the escape sequence for the *Unicode Four-Per-Em Space*.)"
   ]
  },
  {
   "cell_type": "markdown",
   "metadata": {},
   "source": [
    "#### s.istitle() - Determines whether the target string is title cased."
   ]
  },
  {
   "cell_type": "markdown",
   "metadata": {},
   "source": [
    "**s.istitle()** returns *True* if **s** is *nonempty*, the first alphabetic character of each word is **uppercase**, and all other alphabetic characters in each word are **lowercase**. It returns *False* otherwise:"
   ]
  },
  {
   "cell_type": "code",
   "execution_count": 213,
   "metadata": {},
   "outputs": [
    {
     "name": "stdout",
     "output_type": "stream",
     "text": [
      "True\n",
      "False\n",
      "True\n"
     ]
    }
   ],
   "source": [
    "print('This Is A Title'.istitle())\n",
    "print('This is a title'.istitle())\n",
    "print('Give Me The #$#@ Ball!'.istitle())"
   ]
  },
  {
   "cell_type": "markdown",
   "metadata": {},
   "source": [
    "#### s.isupper() - Determines whether the target string’s alphabetic characters are uppercase."
   ]
  },
  {
   "cell_type": "markdown",
   "metadata": {},
   "source": [
    "**s.isupper()** returns *True* if **s** is *nonempty* and all the alphabetic characters it contains are **uppercase**, and *False* otherwise. **Non-alphabetic characters** are ignored:"
   ]
  },
  {
   "cell_type": "code",
   "execution_count": 214,
   "metadata": {},
   "outputs": [
    {
     "name": "stdout",
     "output_type": "stream",
     "text": [
      "True\n",
      "True\n",
      "False\n"
     ]
    }
   ],
   "source": [
    "print('ABC'.isupper())\n",
    "print('ABC1$D'.isupper())\n",
    "print('Abc1$D'.isupper())"
   ]
  },
  {
   "cell_type": "markdown",
   "metadata": {},
   "source": [
    "### String Formatting"
   ]
  },
  {
   "cell_type": "markdown",
   "metadata": {},
   "source": [
    "Methods in this group modify or enhance the format of a string."
   ]
  },
  {
   "cell_type": "markdown",
   "metadata": {},
   "source": [
    "#### s.center(\\< width \\>[, \\< fill \\>]) - Centers a string in a field."
   ]
  },
  {
   "cell_type": "markdown",
   "metadata": {},
   "source": [
    "**s.center(\\< width \\>)** returns a string consisting of s centered in a field of width \\< width \\>. By default, padding consists of the *ASCII* space character:"
   ]
  },
  {
   "cell_type": "code",
   "execution_count": 216,
   "metadata": {},
   "outputs": [
    {
     "name": "stdout",
     "output_type": "stream",
     "text": [
      "       Python       \n"
     ]
    }
   ],
   "source": [
    "print('Python'.center(20))"
   ]
  },
  {
   "cell_type": "markdown",
   "metadata": {},
   "source": [
    "If the optional \\< fill \\> argument is specified, it is used as the padding character:"
   ]
  },
  {
   "cell_type": "code",
   "execution_count": 217,
   "metadata": {},
   "outputs": [
    {
     "name": "stdout",
     "output_type": "stream",
     "text": [
      "*******Python*******\n"
     ]
    }
   ],
   "source": [
    "print('Python'.center(20, \"*\"))"
   ]
  },
  {
   "cell_type": "markdown",
   "metadata": {},
   "source": [
    "If **s** is already at least as long as \\< width \\>, it is returned unchanged:"
   ]
  },
  {
   "cell_type": "code",
   "execution_count": 218,
   "metadata": {},
   "outputs": [
    {
     "name": "stdout",
     "output_type": "stream",
     "text": [
      "Python\n"
     ]
    }
   ],
   "source": [
    "print('Python'.center(2))"
   ]
  },
  {
   "cell_type": "markdown",
   "metadata": {},
   "source": [
    "#### s.expandtabs(tabsize=8) - Expands tabs in a string."
   ]
  },
  {
   "cell_type": "markdown",
   "metadata": {},
   "source": [
    "**s.expandtabs()** replaces each tab character **('\\t')** with *spaces*. By default, spaces are filled in assuming a tab stop at every **eighth column**:"
   ]
  },
  {
   "cell_type": "code",
   "execution_count": 219,
   "metadata": {},
   "outputs": [
    {
     "name": "stdout",
     "output_type": "stream",
     "text": [
      "a       b       c\n",
      "aaa     bbb     c\n"
     ]
    }
   ],
   "source": [
    "print('a\\tb\\tc'.expandtabs())\n",
    "print('aaa\\tbbb\\tc'.expandtabs())"
   ]
  },
  {
   "cell_type": "markdown",
   "metadata": {},
   "source": [
    "*tabsize* is an optional keyword parameter specifying alternate tab stop columns:"
   ]
  },
  {
   "cell_type": "code",
   "execution_count": 220,
   "metadata": {},
   "outputs": [
    {
     "name": "stdout",
     "output_type": "stream",
     "text": [
      "a   b   c\n",
      "aaa bbb c\n"
     ]
    }
   ],
   "source": [
    "print('a\\tb\\tc'.expandtabs(4))\n",
    "print('aaa\\tbbb\\tc'.expandtabs(tabsize=4))"
   ]
  },
  {
   "cell_type": "markdown",
   "metadata": {},
   "source": [
    "#### s.ljust(\\< width \\>[, \\< fill \\>]) - Left-justifies a string in field."
   ]
  },
  {
   "cell_type": "markdown",
   "metadata": {},
   "source": [
    "**s.ljust(\\< width \\>)** returns a string consisting of **s** *left-justified* in a field of width \\< width \\>. By default, padding consists of the *ASCII* space character:"
   ]
  },
  {
   "cell_type": "code",
   "execution_count": 224,
   "metadata": {},
   "outputs": [
    {
     "data": {
      "text/plain": [
       "'Python              '"
      ]
     },
     "execution_count": 224,
     "metadata": {},
     "output_type": "execute_result"
    }
   ],
   "source": [
    "'Python'.ljust(20)"
   ]
  },
  {
   "cell_type": "markdown",
   "metadata": {},
   "source": [
    "If the optional \\< fill \\> argument is specified, it is used as the padding character:"
   ]
  },
  {
   "cell_type": "code",
   "execution_count": 225,
   "metadata": {},
   "outputs": [
    {
     "data": {
      "text/plain": [
       "'Python--------------'"
      ]
     },
     "execution_count": 225,
     "metadata": {},
     "output_type": "execute_result"
    }
   ],
   "source": [
    "'Python'.ljust(20, '-')"
   ]
  },
  {
   "cell_type": "markdown",
   "metadata": {},
   "source": [
    "If **s** is already at least as long as \\< width \\>, it is returned unchanged:"
   ]
  },
  {
   "cell_type": "code",
   "execution_count": 226,
   "metadata": {},
   "outputs": [
    {
     "data": {
      "text/plain": [
       "'Python'"
      ]
     },
     "execution_count": 226,
     "metadata": {},
     "output_type": "execute_result"
    }
   ],
   "source": [
    "'Python'.ljust(2)"
   ]
  },
  {
   "cell_type": "markdown",
   "metadata": {},
   "source": [
    "#### s.lstrip([\\< chars \\>]) - Trims leading characters from a string."
   ]
  },
  {
   "cell_type": "markdown",
   "metadata": {},
   "source": [
    "**s.lstrip()** returns a copy of **s** with any *whitespace characters* removed from the left end:"
   ]
  },
  {
   "cell_type": "code",
   "execution_count": 227,
   "metadata": {},
   "outputs": [
    {
     "data": {
      "text/plain": [
       "'Python ACM 114   '"
      ]
     },
     "execution_count": 227,
     "metadata": {},
     "output_type": "execute_result"
    }
   ],
   "source": [
    "'   Python ACM 114   '.lstrip()"
   ]
  },
  {
   "cell_type": "code",
   "execution_count": 228,
   "metadata": {},
   "outputs": [
    {
     "data": {
      "text/plain": [
       "'Python\\t\\nACM\\t\\n114'"
      ]
     },
     "execution_count": 228,
     "metadata": {},
     "output_type": "execute_result"
    }
   ],
   "source": [
    "'\\t\\nPython\\t\\nACM\\t\\n114'.lstrip()"
   ]
  },
  {
   "cell_type": "markdown",
   "metadata": {},
   "source": [
    "If the optional \\< chars \\> argument is specified, it is a string that specifies the set of characters to be removed:"
   ]
  },
  {
   "cell_type": "code",
   "execution_count": 229,
   "metadata": {},
   "outputs": [
    {
     "data": {
      "text/plain": [
       "'www.yeditepe.edu.tr'"
      ]
     },
     "execution_count": 229,
     "metadata": {},
     "output_type": "execute_result"
    }
   ],
   "source": [
    "'http://www.yeditepe.edu.tr'.lstrip('/:pth')"
   ]
  },
  {
   "cell_type": "code",
   "execution_count": 232,
   "metadata": {},
   "outputs": [
    {
     "data": {
      "text/plain": [
       "'alpha beta\\tgamma'"
      ]
     },
     "execution_count": 232,
     "metadata": {},
     "output_type": "execute_result"
    }
   ],
   "source": [
    "s = \" \\t\\n alpha beta\\tgamma \"\n",
    "s.strip()"
   ]
  },
  {
   "cell_type": "code",
   "execution_count": 233,
   "metadata": {},
   "outputs": [
    {
     "data": {
      "text/plain": [
       "'alpha beta\\tgamma '"
      ]
     },
     "execution_count": 233,
     "metadata": {},
     "output_type": "execute_result"
    }
   ],
   "source": [
    "s.lstrip()"
   ]
  },
  {
   "cell_type": "code",
   "execution_count": 234,
   "metadata": {},
   "outputs": [
    {
     "data": {
      "text/plain": [
       "' \\t\\n alpha beta\\tgamma'"
      ]
     },
     "execution_count": 234,
     "metadata": {},
     "output_type": "execute_result"
    }
   ],
   "source": [
    "s.rstrip()"
   ]
  },
  {
   "cell_type": "markdown",
   "metadata": {},
   "source": [
    "#### s.replace(\\< old \\>, \\< new \\>[, \\< count \\>]) - Replaces occurrences of a substring within a string."
   ]
  },
  {
   "cell_type": "markdown",
   "metadata": {},
   "source": [
    "In Python, to remove a character from a string, you can use the Python string **.replace()** method. **s.replace(\\< old \\>, \\< new \\>)** returns a copy of s with all occurrences of substring \\< old \\> replaced by \\< new \\>:"
   ]
  },
  {
   "cell_type": "code",
   "execution_count": 235,
   "metadata": {},
   "outputs": [
    {
     "name": "stdout",
     "output_type": "stream",
     "text": [
      "blabla bar blabla baz blabla qux\n"
     ]
    }
   ],
   "source": [
    "print('foo bar foo baz foo qux'.replace('foo', 'blabla'))"
   ]
  },
  {
   "cell_type": "markdown",
   "metadata": {},
   "source": [
    "If the optional \\< count \\> argument is specified, a maximum of \\< count \\> replacements are performed, starting at the left end of **s**:"
   ]
  },
  {
   "cell_type": "code",
   "execution_count": 236,
   "metadata": {},
   "outputs": [
    {
     "name": "stdout",
     "output_type": "stream",
     "text": [
      "blabla bar blabla baz foo qux\n"
     ]
    }
   ],
   "source": [
    "print('foo bar foo baz foo qux'.replace('foo', 'blabla', 2))"
   ]
  },
  {
   "cell_type": "code",
   "execution_count": 237,
   "metadata": {},
   "outputs": [
    {
     "data": {
      "text/plain": [
       "'Hellx, wxrld!'"
      ]
     },
     "execution_count": 237,
     "metadata": {},
     "output_type": "execute_result"
    }
   ],
   "source": [
    "s = \"Hello, world!\"\n",
    "s.replace('o', 'x')"
   ]
  },
  {
   "cell_type": "code",
   "execution_count": 238,
   "metadata": {},
   "outputs": [
    {
     "name": "stdout",
     "output_type": "stream",
     "text": [
      "I love Python\n"
     ]
    }
   ],
   "source": [
    "oldstring = 'I like Python' \n",
    "newstring = oldstring.replace('like', 'love')\n",
    "print(newstring)"
   ]
  },
  {
   "cell_type": "code",
   "execution_count": 56,
   "metadata": {},
   "outputs": [
    {
     "name": "stdout",
     "output_type": "stream",
     "text": [
      "MXssXssXppX\n",
      "MississiMOMOi\n",
      "Mssssippi\n"
     ]
    }
   ],
   "source": [
    "print('Mississippi'.replace('i', 'X'))\n",
    "print('Mississippi'.replace('p', 'MO'))\n",
    "print('Mississippi'.replace('i', '', 2))"
   ]
  },
  {
   "cell_type": "markdown",
   "metadata": {},
   "source": [
    "#### s.rjust(\\< width \\>[, \\< fill \\>]) - Right-justifies a string in a field."
   ]
  },
  {
   "cell_type": "markdown",
   "metadata": {},
   "source": [
    "**s.rjust(\\< width \\>)** returns a string consisting of **s** *right-justified* in a field of width \\< width \\>. By default, padding consists of the *ASCII* space character:"
   ]
  },
  {
   "cell_type": "code",
   "execution_count": 239,
   "metadata": {},
   "outputs": [
    {
     "data": {
      "text/plain": [
       "'              Python'"
      ]
     },
     "execution_count": 239,
     "metadata": {},
     "output_type": "execute_result"
    }
   ],
   "source": [
    "'Python'.rjust(20)"
   ]
  },
  {
   "cell_type": "markdown",
   "metadata": {},
   "source": [
    "If the optional \\< fill \\> argument is specified, it is used as the padding character:"
   ]
  },
  {
   "cell_type": "code",
   "execution_count": 240,
   "metadata": {},
   "outputs": [
    {
     "data": {
      "text/plain": [
       "'**************Python'"
      ]
     },
     "execution_count": 240,
     "metadata": {},
     "output_type": "execute_result"
    }
   ],
   "source": [
    "'Python'.rjust(20, '*')"
   ]
  },
  {
   "cell_type": "markdown",
   "metadata": {},
   "source": [
    "If s is already at least as long as \\< width \\>, it is returned unchanged:"
   ]
  },
  {
   "cell_type": "code",
   "execution_count": 241,
   "metadata": {},
   "outputs": [
    {
     "data": {
      "text/plain": [
       "'Python'"
      ]
     },
     "execution_count": 241,
     "metadata": {},
     "output_type": "execute_result"
    }
   ],
   "source": [
    "'Python'.rjust(2)"
   ]
  },
  {
   "cell_type": "markdown",
   "metadata": {},
   "source": [
    "#### s.rstrip([\\< chars \\>]) - Trims trailing characters from a string."
   ]
  },
  {
   "cell_type": "markdown",
   "metadata": {},
   "source": [
    "**s.rstrip()** returns a copy of **s** with any whitespace characters removed from the right end:"
   ]
  },
  {
   "cell_type": "code",
   "execution_count": 242,
   "metadata": {},
   "outputs": [
    {
     "data": {
      "text/plain": [
       "'   Python ACM 114'"
      ]
     },
     "execution_count": 242,
     "metadata": {},
     "output_type": "execute_result"
    }
   ],
   "source": [
    "'   Python ACM 114   '.rstrip()"
   ]
  },
  {
   "cell_type": "code",
   "execution_count": 243,
   "metadata": {},
   "outputs": [
    {
     "data": {
      "text/plain": [
       "'Python\\t\\nACM\\t\\n114'"
      ]
     },
     "execution_count": 243,
     "metadata": {},
     "output_type": "execute_result"
    }
   ],
   "source": [
    "'Python\\t\\nACM\\t\\n114\\t\\n'.rstrip()"
   ]
  },
  {
   "cell_type": "markdown",
   "metadata": {},
   "source": [
    "If the optional \\< chars \\> argument is specified, it is a string that specifies the set of characters to be removed:"
   ]
  },
  {
   "cell_type": "code",
   "execution_count": 252,
   "metadata": {},
   "outputs": [
    {
     "data": {
      "text/plain": [
       "'Python'"
      ]
     },
     "execution_count": 252,
     "metadata": {},
     "output_type": "execute_result"
    }
   ],
   "source": [
    "'Python.$$$;'.rstrip('$;.')"
   ]
  },
  {
   "cell_type": "markdown",
   "metadata": {},
   "source": [
    "#### s.strip([\\< chars \\>]) - Strips characters from the left and right ends of a string."
   ]
  },
  {
   "cell_type": "markdown",
   "metadata": {},
   "source": [
    "**s.strip()** is essentially equivalent to invoking **s.lstrip()** and **s.rstrip()** in succession. Without the \\< chars \\> argument, it removes leading and trailing whitespace:"
   ]
  },
  {
   "cell_type": "code",
   "execution_count": 254,
   "metadata": {},
   "outputs": [
    {
     "data": {
      "text/plain": [
       "'Python ACM 114'"
      ]
     },
     "execution_count": 254,
     "metadata": {},
     "output_type": "execute_result"
    }
   ],
   "source": [
    "s = '   Python ACM 114\\t\\t\\t'\n",
    "s = s.lstrip()\n",
    "s = s.rstrip()\n",
    "s"
   ]
  },
  {
   "cell_type": "markdown",
   "metadata": {},
   "source": [
    "As with **.lstrip()** and **.rstrip()**, the optional \\< chars \\> argument specifies the set of characters to be removed:"
   ]
  },
  {
   "cell_type": "code",
   "execution_count": 257,
   "metadata": {},
   "outputs": [
    {
     "data": {
      "text/plain": [
       "'yeditep'"
      ]
     },
     "execution_count": 257,
     "metadata": {},
     "output_type": "execute_result"
    }
   ],
   "source": [
    "'www.yeditepe.edu.com'.strip('w.moc.due')"
   ]
  },
  {
   "cell_type": "markdown",
   "metadata": {},
   "source": [
    "When the return value of a string method is another string, as is often the case, methods can be invoked in succession by chaining the calls:"
   ]
  },
  {
   "cell_type": "code",
   "execution_count": 258,
   "metadata": {},
   "outputs": [
    {
     "name": "stdout",
     "output_type": "stream",
     "text": [
      "Python ACM 114\n",
      "Python ACM 114\n",
      "yeditepe.edu\n",
      "yeditep\n"
     ]
    }
   ],
   "source": [
    "print('   Python ACM 114\\t\\t\\t'.lstrip().rstrip())\n",
    "print('   Python ACM 114\\t\\t\\t'.strip())\n",
    "print('www.yeditepe.edu.com'.lstrip('w.moc').rstrip('w.moc'))\n",
    "print('www.yeditepe.edu.com'.strip('w.mocdue'))"
   ]
  },
  {
   "cell_type": "code",
   "execution_count": 259,
   "metadata": {},
   "outputs": [
    {
     "data": {
      "text/plain": [
       "'bbbccc'"
      ]
     },
     "execution_count": 259,
     "metadata": {},
     "output_type": "execute_result"
    }
   ],
   "source": [
    "s = \"aaabbbccc\"\n",
    "s.strip(\"a\")"
   ]
  },
  {
   "cell_type": "markdown",
   "metadata": {},
   "source": [
    "#### s.zfill(\\< width \\>) - Pads a string on the left with zeros."
   ]
  },
  {
   "cell_type": "markdown",
   "metadata": {},
   "source": [
    "**s.zfill(\\< width \\>)** returns a copy of s left-padded with **'0'** characters to the specified \\< width \\>:"
   ]
  },
  {
   "cell_type": "code",
   "execution_count": 260,
   "metadata": {},
   "outputs": [
    {
     "data": {
      "text/plain": [
       "'00042'"
      ]
     },
     "execution_count": 260,
     "metadata": {},
     "output_type": "execute_result"
    }
   ],
   "source": [
    "'42'.zfill(5)"
   ]
  },
  {
   "cell_type": "markdown",
   "metadata": {},
   "source": [
    "If **s** contains a leading sign, it remains at the left edge of the result string after *zeros* are inserted:"
   ]
  },
  {
   "cell_type": "code",
   "execution_count": 261,
   "metadata": {},
   "outputs": [
    {
     "name": "stdout",
     "output_type": "stream",
     "text": [
      "+0000042\n",
      "-0000042\n"
     ]
    }
   ],
   "source": [
    "print('+42'.zfill(8))\n",
    "print('-42'.zfill(8))"
   ]
  },
  {
   "cell_type": "markdown",
   "metadata": {},
   "source": [
    "If **s** is already at least as long as \\< width \\>, it is returned unchanged:"
   ]
  },
  {
   "cell_type": "code",
   "execution_count": 262,
   "metadata": {},
   "outputs": [
    {
     "data": {
      "text/plain": [
       "'-42'"
      ]
     },
     "execution_count": 262,
     "metadata": {},
     "output_type": "execute_result"
    }
   ],
   "source": [
    "'-42'.zfill(3)"
   ]
  },
  {
   "cell_type": "markdown",
   "metadata": {},
   "source": [
    "**.zfill()** is most useful for string representations of numbers, but Python will still happily zero-pad a string that isn’t:"
   ]
  },
  {
   "cell_type": "code",
   "execution_count": 263,
   "metadata": {},
   "outputs": [
    {
     "data": {
      "text/plain": [
       "'000Python'"
      ]
     },
     "execution_count": 263,
     "metadata": {},
     "output_type": "execute_result"
    }
   ],
   "source": [
    "'Python'.zfill(9)"
   ]
  },
  {
   "cell_type": "markdown",
   "metadata": {},
   "source": [
    "### Converting Between Strings and Lists"
   ]
  },
  {
   "cell_type": "markdown",
   "metadata": {},
   "source": [
    "#### s.join(\\< iterable \\>) - Concatenates strings from an iterable."
   ]
  },
  {
   "cell_type": "markdown",
   "metadata": {},
   "source": [
    "**s.join(\\< iterable \\>)** returns the string that results from concatenating the objects in \\< iterable \\> separated by **s**.\n",
    "\n",
    "Note that **.join()** is invoked on **s**, the separator string. \\< iterable \\> must be a sequence of string objects as well.\n",
    "\n",
    "Some sample code should help clarify. In the following example, the separator **s** is the string *', ',* and \\< iterable \\> is a list of string values:"
   ]
  },
  {
   "cell_type": "code",
   "execution_count": 265,
   "metadata": {},
   "outputs": [
    {
     "name": "stdout",
     "output_type": "stream",
     "text": [
      "Python, ACM, 114, Course\n"
     ]
    }
   ],
   "source": [
    "print(', '.join(['Python', 'ACM', '114', 'Course']))"
   ]
  },
  {
   "cell_type": "markdown",
   "metadata": {},
   "source": [
    "The result is a single string consisting of the list objects separated by commas.\n",
    "\n",
    "In the next example, \\< iterable \\> is specified as a single string value. When a string value is used as an iterable, it is interpreted as a list of the string’s individual characters:"
   ]
  },
  {
   "cell_type": "code",
   "execution_count": 266,
   "metadata": {},
   "outputs": [
    {
     "name": "stdout",
     "output_type": "stream",
     "text": [
      "['P', 'y', 't', 'h', 'o', 'n']\n"
     ]
    }
   ],
   "source": [
    "a = list('Python')\n",
    "print(a)"
   ]
  },
  {
   "cell_type": "code",
   "execution_count": 267,
   "metadata": {},
   "outputs": [
    {
     "name": "stdout",
     "output_type": "stream",
     "text": [
      "P:y:t:h:o:n\n"
     ]
    }
   ],
   "source": [
    "print(':'.join('Python'))"
   ]
  },
  {
   "cell_type": "markdown",
   "metadata": {},
   "source": [
    "Thus, the result of **':'.join('Python')** is a string consisting of each character in **'Python'** separated by **':'**.\n",
    "\n",
    "This example fails because one of the objects in \\< iterable \\> is not a string:"
   ]
  },
  {
   "cell_type": "code",
   "execution_count": 268,
   "metadata": {},
   "outputs": [
    {
     "ename": "TypeError",
     "evalue": "sequence item 2: expected str instance, int found",
     "output_type": "error",
     "traceback": [
      "\u001b[1;31m---------------------------------------------------------------------------\u001b[0m",
      "\u001b[1;31mTypeError\u001b[0m                                 Traceback (most recent call last)",
      "\u001b[1;32m<ipython-input-268-84cfccd6b73f>\u001b[0m in \u001b[0;36m<module>\u001b[1;34m\u001b[0m\n\u001b[1;32m----> 1\u001b[1;33m \u001b[0mprint\u001b[0m\u001b[1;33m(\u001b[0m\u001b[1;34m'---'\u001b[0m\u001b[1;33m.\u001b[0m\u001b[0mjoin\u001b[0m\u001b[1;33m(\u001b[0m\u001b[1;33m[\u001b[0m\u001b[1;34m'Python'\u001b[0m\u001b[1;33m,\u001b[0m \u001b[1;34m'ACM'\u001b[0m\u001b[1;33m,\u001b[0m \u001b[1;36m114\u001b[0m\u001b[1;33m]\u001b[0m\u001b[1;33m)\u001b[0m\u001b[1;33m)\u001b[0m\u001b[1;33m\u001b[0m\u001b[1;33m\u001b[0m\u001b[0m\n\u001b[0m",
      "\u001b[1;31mTypeError\u001b[0m: sequence item 2: expected str instance, int found"
     ]
    }
   ],
   "source": [
    "print('---'.join(['Python', 'ACM', 114]))"
   ]
  },
  {
   "cell_type": "markdown",
   "metadata": {},
   "source": [
    "That can be remedied, though:"
   ]
  },
  {
   "cell_type": "code",
   "execution_count": 1,
   "metadata": {},
   "outputs": [
    {
     "name": "stdout",
     "output_type": "stream",
     "text": [
      "Python---ACM---114\n",
      "Python---ACM---114\n"
     ]
    }
   ],
   "source": [
    "print('---'.join(['Python', 'ACM', '114']))\n",
    "print('---'.join(['Python', 'ACM', str(114)]))"
   ]
  },
  {
   "cell_type": "code",
   "execution_count": 45,
   "metadata": {},
   "outputs": [
    {
     "data": {
      "text/plain": [
       "'alpha:beta:gamma'"
      ]
     },
     "execution_count": 45,
     "metadata": {},
     "output_type": "execute_result"
    }
   ],
   "source": [
    "':'.join(['alpha', 'beta', 'gamma'])"
   ]
  },
  {
   "cell_type": "code",
   "execution_count": 46,
   "metadata": {},
   "outputs": [
    {
     "name": "stdout",
     "output_type": "stream",
     "text": [
      "P:y:t:h:o:n\n"
     ]
    }
   ],
   "source": [
    "print(\":\".join(\"Python\"))"
   ]
  },
  {
   "cell_type": "code",
   "execution_count": 47,
   "metadata": {},
   "outputs": [
    {
     "name": "stdout",
     "output_type": "stream",
     "text": [
      "54321\n"
     ]
    }
   ],
   "source": [
    "string=\"12345\"\n",
    "print(''.join(reversed(string)))"
   ]
  },
  {
   "cell_type": "code",
   "execution_count": 49,
   "metadata": {},
   "outputs": [
    {
     "name": "stdout",
     "output_type": "stream",
     "text": [
      "e***s***r***u***o***C*** ***4***1***1*** ***M***C***A*** ***!***s***k***c***o***R*** ***n***o***h***t***y***P\n"
     ]
    }
   ],
   "source": [
    "string = \"Python Rocks! ACM 114 Course\"\n",
    "print('***'.join(reversed(string)))"
   ]
  },
  {
   "cell_type": "markdown",
   "metadata": {},
   "source": [
    "#### s.partition(\\< sep \\>) - Divides a string based on a separator."
   ]
  },
  {
   "cell_type": "markdown",
   "metadata": {},
   "source": [
    "**s.partition(\\< sep \\>)** splits s at the first occurrence of string \\< sep \\>. The return value is a three-part tuple consisting of:\n",
    "\n",
    "* The portion of s preceding \\< sep \\>\n",
    "* \\< sep \\> itself\n",
    "* The portion of s following \\< sep \\>\n",
    "\n",
    "Here are a couple examples of **.partition()** in action:"
   ]
  },
  {
   "cell_type": "code",
   "execution_count": 2,
   "metadata": {},
   "outputs": [
    {
     "data": {
      "text/plain": [
       "('Python', '.', 'ACM.114')"
      ]
     },
     "execution_count": 2,
     "metadata": {},
     "output_type": "execute_result"
    }
   ],
   "source": [
    "'Python.ACM.114'.partition('.')"
   ]
  },
  {
   "cell_type": "code",
   "execution_count": 3,
   "metadata": {},
   "outputs": [
    {
     "data": {
      "text/plain": [
       "('Python', '@@', 'ACM@@114')"
      ]
     },
     "execution_count": 3,
     "metadata": {},
     "output_type": "execute_result"
    }
   ],
   "source": [
    "'Python@@ACM@@114'.partition('@@')"
   ]
  },
  {
   "cell_type": "markdown",
   "metadata": {},
   "source": [
    "If \\< sep \\> is not found in **s**, the returned tuple contains **s** followed by two empty strings:"
   ]
  },
  {
   "cell_type": "code",
   "execution_count": 4,
   "metadata": {},
   "outputs": [
    {
     "data": {
      "text/plain": [
       "('Python.ACM.114', '', '')"
      ]
     },
     "execution_count": 4,
     "metadata": {},
     "output_type": "execute_result"
    }
   ],
   "source": [
    "'Python.ACM.114'.partition('@@')"
   ]
  },
  {
   "cell_type": "markdown",
   "metadata": {},
   "source": [
    "#### s.rpartition(\\< sep \\>) - Divides a string based on a separator."
   ]
  },
  {
   "cell_type": "markdown",
   "metadata": {},
   "source": [
    "**s.rpartition(\\< sep \\>)** functions exactly like **s.partition(\\< sep \\>)**, except that **s** is split at the last occurrence of \\< sep \\> instead of the first occurrence:"
   ]
  },
  {
   "cell_type": "code",
   "execution_count": 5,
   "metadata": {},
   "outputs": [
    {
     "data": {
      "text/plain": [
       "('Python', '@@', 'ACM@@114')"
      ]
     },
     "execution_count": 5,
     "metadata": {},
     "output_type": "execute_result"
    }
   ],
   "source": [
    "'Python@@ACM@@114'.partition('@@')"
   ]
  },
  {
   "cell_type": "code",
   "execution_count": 6,
   "metadata": {},
   "outputs": [
    {
     "data": {
      "text/plain": [
       "('Python@@ACM', '@@', '114')"
      ]
     },
     "execution_count": 6,
     "metadata": {},
     "output_type": "execute_result"
    }
   ],
   "source": [
    "'Python@@ACM@@114'.rpartition('@@')"
   ]
  },
  {
   "cell_type": "markdown",
   "metadata": {},
   "source": [
    "#### s.rsplit(sep=None, maxsplit=-1) - Splits a string into a list of substrings."
   ]
  },
  {
   "cell_type": "markdown",
   "metadata": {},
   "source": [
    "Without arguments, **s.rsplit()** splits **s** into substrings delimited by any sequence of *whitespace* and returns the substrings as a list:"
   ]
  },
  {
   "cell_type": "code",
   "execution_count": 7,
   "metadata": {},
   "outputs": [
    {
     "data": {
      "text/plain": [
       "['Python', 'rocks', 'ACM', '114']"
      ]
     },
     "execution_count": 7,
     "metadata": {},
     "output_type": "execute_result"
    }
   ],
   "source": [
    "'Python rocks ACM 114'.rsplit()"
   ]
  },
  {
   "cell_type": "code",
   "execution_count": 8,
   "metadata": {},
   "outputs": [
    {
     "data": {
      "text/plain": [
       "['Python', 'rocks', 'ACM', '114']"
      ]
     },
     "execution_count": 8,
     "metadata": {},
     "output_type": "execute_result"
    }
   ],
   "source": [
    "'Python\\n\\trocks   ACM\\r\\f114'.rsplit()"
   ]
  },
  {
   "cell_type": "markdown",
   "metadata": {},
   "source": [
    "If \\< sep \\> is specified, it is used as the delimiter for splitting:"
   ]
  },
  {
   "cell_type": "code",
   "execution_count": 9,
   "metadata": {},
   "outputs": [
    {
     "data": {
      "text/plain": [
       "['Python', 'rocks', 'ACM', '114']"
      ]
     },
     "execution_count": 9,
     "metadata": {},
     "output_type": "execute_result"
    }
   ],
   "source": [
    "'Python.rocks.ACM.114'.rsplit(sep='.')"
   ]
  },
  {
   "cell_type": "code",
   "execution_count": 10,
   "metadata": {},
   "outputs": [
    {
     "data": {
      "text/plain": [
       "['Python', '', '', 'rocks', '', '', 'ACM', '', '', '114']"
      ]
     },
     "execution_count": 10,
     "metadata": {},
     "output_type": "execute_result"
    }
   ],
   "source": [
    "'Python...rocks...ACM...114'.rsplit(sep='.')"
   ]
  },
  {
   "cell_type": "code",
   "execution_count": 11,
   "metadata": {},
   "outputs": [
    {
     "data": {
      "text/plain": [
       "['Python', 'rocks', 'ACM', '114']"
      ]
     },
     "execution_count": 11,
     "metadata": {},
     "output_type": "execute_result"
    }
   ],
   "source": [
    "'Python\\t\\t\\trocks\\t\\tACM\\t\\t114'.rsplit()"
   ]
  },
  {
   "cell_type": "code",
   "execution_count": 12,
   "metadata": {},
   "outputs": [
    {
     "data": {
      "text/plain": [
       "['www.yeditepe.edu', 'tr']"
      ]
     },
     "execution_count": 12,
     "metadata": {},
     "output_type": "execute_result"
    }
   ],
   "source": [
    "'www.yeditepe.edu.tr'.rsplit(sep='.', maxsplit=1)"
   ]
  },
  {
   "cell_type": "code",
   "execution_count": 14,
   "metadata": {},
   "outputs": [
    {
     "data": {
      "text/plain": [
       "['www.yeditepe', 'edu', 'tr']"
      ]
     },
     "execution_count": 14,
     "metadata": {},
     "output_type": "execute_result"
    }
   ],
   "source": [
    "'www.yeditepe.edu.tr'.rsplit(sep='.', maxsplit=2)"
   ]
  },
  {
   "cell_type": "code",
   "execution_count": 15,
   "metadata": {},
   "outputs": [
    {
     "data": {
      "text/plain": [
       "['www', 'yeditepe', 'edu', 'tr']"
      ]
     },
     "execution_count": 15,
     "metadata": {},
     "output_type": "execute_result"
    }
   ],
   "source": [
    "'www.yeditepe.edu.tr'.rsplit(sep='.', maxsplit=4)"
   ]
  },
  {
   "cell_type": "code",
   "execution_count": 16,
   "metadata": {},
   "outputs": [
    {
     "data": {
      "text/plain": [
       "['www', 'yeditepe', 'edu', 'tr']"
      ]
     },
     "execution_count": 16,
     "metadata": {},
     "output_type": "execute_result"
    }
   ],
   "source": [
    "'www.yeditepe.edu.tr'.rsplit(sep='.', maxsplit=-1)"
   ]
  },
  {
   "cell_type": "code",
   "execution_count": 17,
   "metadata": {},
   "outputs": [
    {
     "data": {
      "text/plain": [
       "['www', 'yeditepe', 'edu', 'tr']"
      ]
     },
     "execution_count": 17,
     "metadata": {},
     "output_type": "execute_result"
    }
   ],
   "source": [
    "'www.yeditepe.edu.tr'.rsplit(sep='.')"
   ]
  },
  {
   "cell_type": "markdown",
   "metadata": {},
   "source": [
    "#### s.split(sep=None, maxsplit=-1) - Splits a string into a list of substrings."
   ]
  },
  {
   "cell_type": "markdown",
   "metadata": {},
   "source": [
    "**s.split()** behaves exactly like **s.rsplit()**, except that if \\< maxsplit \\> is specified, splits are counted from the left end of **s** rather than the right end:"
   ]
  },
  {
   "cell_type": "code",
   "execution_count": 19,
   "metadata": {},
   "outputs": [
    {
     "data": {
      "text/plain": [
       "['www', 'yeditepe.edu.tr']"
      ]
     },
     "execution_count": 19,
     "metadata": {},
     "output_type": "execute_result"
    }
   ],
   "source": [
    "'www.yeditepe.edu.tr'.split(sep='.', maxsplit=1)"
   ]
  },
  {
   "cell_type": "code",
   "execution_count": 20,
   "metadata": {},
   "outputs": [
    {
     "data": {
      "text/plain": [
       "['www.yeditepe.edu', 'tr']"
      ]
     },
     "execution_count": 20,
     "metadata": {},
     "output_type": "execute_result"
    }
   ],
   "source": [
    "'www.yeditepe.edu.tr'.rsplit(sep='.', maxsplit=1)"
   ]
  },
  {
   "cell_type": "code",
   "execution_count": 21,
   "metadata": {},
   "outputs": [
    {
     "ename": "AttributeError",
     "evalue": "'str' object has no attribute 'lsplit'",
     "output_type": "error",
     "traceback": [
      "\u001b[1;31m---------------------------------------------------------------------------\u001b[0m",
      "\u001b[1;31mAttributeError\u001b[0m                            Traceback (most recent call last)",
      "\u001b[1;32m<ipython-input-21-db850b9320ae>\u001b[0m in \u001b[0;36m<module>\u001b[1;34m\u001b[0m\n\u001b[1;32m----> 1\u001b[1;33m \u001b[1;34m'www.yeditepe.edu.tr'\u001b[0m\u001b[1;33m.\u001b[0m\u001b[0mlsplit\u001b[0m\u001b[1;33m(\u001b[0m\u001b[0msep\u001b[0m\u001b[1;33m=\u001b[0m\u001b[1;34m'.'\u001b[0m\u001b[1;33m,\u001b[0m \u001b[0mmaxsplit\u001b[0m\u001b[1;33m=\u001b[0m\u001b[1;33m-\u001b[0m\u001b[1;36m1\u001b[0m\u001b[1;33m)\u001b[0m\u001b[1;33m\u001b[0m\u001b[1;33m\u001b[0m\u001b[0m\n\u001b[0m",
      "\u001b[1;31mAttributeError\u001b[0m: 'str' object has no attribute 'lsplit'"
     ]
    }
   ],
   "source": [
    "'www.yeditepe.edu.tr'.lsplit(sep='.', maxsplit=-1)"
   ]
  },
  {
   "cell_type": "code",
   "execution_count": 22,
   "metadata": {},
   "outputs": [
    {
     "data": {
      "text/plain": [
       "['www', 'yeditepe', 'edu', 'tr']"
      ]
     },
     "execution_count": 22,
     "metadata": {},
     "output_type": "execute_result"
    }
   ],
   "source": [
    "'www.yeditepe.edu.tr'.split(sep='.', maxsplit=-1)"
   ]
  },
  {
   "cell_type": "code",
   "execution_count": 24,
   "metadata": {},
   "outputs": [
    {
     "data": {
      "text/plain": [
       "['www', 'yeditepe', 'edu.tr']"
      ]
     },
     "execution_count": 24,
     "metadata": {},
     "output_type": "execute_result"
    }
   ],
   "source": [
    "'www.yeditepe.edu.tr'.split(sep='.', maxsplit=2)"
   ]
  },
  {
   "cell_type": "code",
   "execution_count": 25,
   "metadata": {},
   "outputs": [
    {
     "data": {
      "text/plain": [
       "['www', 'yeditepe', 'edu', 'tr']"
      ]
     },
     "execution_count": 25,
     "metadata": {},
     "output_type": "execute_result"
    }
   ],
   "source": [
    "'www.yeditepe.edu.tr'.rsplit(sep='.', maxsplit=4)"
   ]
  },
  {
   "cell_type": "code",
   "execution_count": 44,
   "metadata": {},
   "outputs": [
    {
     "data": {
      "text/plain": [
       "['alpha', 'beta', 'gamma']"
      ]
     },
     "execution_count": 44,
     "metadata": {},
     "output_type": "execute_result"
    }
   ],
   "source": [
    "s = \"alpha:beta:gamma\"\n",
    "s.split(\":\")"
   ]
  },
  {
   "cell_type": "code",
   "execution_count": 50,
   "metadata": {},
   "outputs": [
    {
     "name": "stdout",
     "output_type": "stream",
     "text": [
      "['Pythonist', 'love', 'and', 'like', 'Python']\n"
     ]
    }
   ],
   "source": [
    "word = \"Pythonist love and like Python\"\n",
    "print(word.split(' '))"
   ]
  },
  {
   "cell_type": "code",
   "execution_count": 53,
   "metadata": {},
   "outputs": [
    {
     "name": "stdout",
     "output_type": "stream",
     "text": [
      "['Pythonist ', 'ove and ', 'ike Python']\n"
     ]
    }
   ],
   "source": [
    "word = \"Pythonist love and like Python\"\n",
    "print(word.split('l'))"
   ]
  },
  {
   "cell_type": "code",
   "execution_count": 55,
   "metadata": {},
   "outputs": [
    {
     "name": "stdout",
     "output_type": "stream",
     "text": [
      "['Py', 'nist ', 'r Py', 'n ', 'ugh ', 'rn']\n"
     ]
    }
   ],
   "source": [
    "word = \"Pythonist thor Python though thorn\"\n",
    "print(word.split('tho'))"
   ]
  },
  {
   "cell_type": "markdown",
   "metadata": {},
   "source": [
    "#### s.splitlines([\\< keepends \\>]) - Breaks a string at line boundaries."
   ]
  },
  {
   "cell_type": "markdown",
   "metadata": {},
   "source": [
    "**s.splitlines()** splits **s** up into lines and returns them in *a list*. Any of the following characters or character sequences is considered to constitute a line boundary:"
   ]
  },
  {
   "cell_type": "markdown",
   "metadata": {},
   "source": [
    "|Escape Sequence|Character\n",
    "|:-:|:-|\n",
    "|\\n|Newline|\n",
    "|\\r|Carriage Return|\n",
    "|\\r\\n|Carriage Return + Line Feed|\n",
    "|\\v or \\x0b|Line Tabulation|\n",
    "|\\f or \\x0c|Form Feed|\n",
    "|\\x1c|File Separator|\n",
    "|\\x1d|Group Separator|\n",
    "|\\x1e|Record Separator|\n",
    "|\\x85|Next Line (C1 Control Code)|\n",
    "|\\u2028|Unicode Line Separator|\n",
    "|\\u2029|Unicode Paragraph Separator|"
   ]
  },
  {
   "cell_type": "code",
   "execution_count": 33,
   "metadata": {},
   "outputs": [
    {
     "data": {
      "text/plain": [
       "['Python', 'rocks', 'ACM', '114', 'Course']"
      ]
     },
     "execution_count": 33,
     "metadata": {},
     "output_type": "execute_result"
    }
   ],
   "source": [
    "'Python\\nrocks\\r\\nACM\\f114\\u2028Course'.splitlines()"
   ]
  },
  {
   "cell_type": "code",
   "execution_count": 35,
   "metadata": {},
   "outputs": [
    {
     "data": {
      "text/plain": [
       "['Python', 'rocks', 'ACM', '114', 'Course']"
      ]
     },
     "execution_count": 35,
     "metadata": {},
     "output_type": "execute_result"
    }
   ],
   "source": [
    "'Python\\nrocks\\r\\nACM\\f114\\x85Course'.splitlines()"
   ]
  },
  {
   "cell_type": "code",
   "execution_count": 36,
   "metadata": {},
   "outputs": [
    {
     "data": {
      "text/plain": [
       "['Python', '', '', 'rokcs', '', '', 'ACM', '', '', '114']"
      ]
     },
     "execution_count": 36,
     "metadata": {},
     "output_type": "execute_result"
    }
   ],
   "source": [
    "'Python\\f\\f\\frokcs\\f\\f\\fACM\\f\\f\\f114'.splitlines()"
   ]
  },
  {
   "cell_type": "code",
   "execution_count": 37,
   "metadata": {},
   "outputs": [
    {
     "data": {
      "text/plain": [
       "['Python', 'rokcs', 'ACM', '114']"
      ]
     },
     "execution_count": 37,
     "metadata": {},
     "output_type": "execute_result"
    }
   ],
   "source": [
    "'Python\\frokcs\\fACM\\f114'.splitlines()"
   ]
  },
  {
   "cell_type": "code",
   "execution_count": 38,
   "metadata": {},
   "outputs": [
    {
     "data": {
      "text/plain": [
       "['Python\\n', 'rokcs\\n', 'ACM\\n', '114']"
      ]
     },
     "execution_count": 38,
     "metadata": {},
     "output_type": "execute_result"
    }
   ],
   "source": [
    "'Python\\nrokcs\\nACM\\n114'.splitlines(True)"
   ]
  },
  {
   "cell_type": "code",
   "execution_count": 42,
   "metadata": {},
   "outputs": [
    {
     "data": {
      "text/plain": [
       "['Python\\n', 'rokcs\\n', 'ACM\\n', '114']"
      ]
     },
     "execution_count": 42,
     "metadata": {},
     "output_type": "execute_result"
    }
   ],
   "source": [
    "'Python\\nrokcs\\nACM\\n114'.splitlines(7)"
   ]
  },
  {
   "cell_type": "markdown",
   "metadata": {},
   "source": [
    "### The dir() function and docstrings"
   ]
  },
  {
   "cell_type": "code",
   "execution_count": 57,
   "metadata": {},
   "outputs": [
    {
     "data": {
      "text/plain": [
       "['__add__',\n",
       " '__class__',\n",
       " '__contains__',\n",
       " '__delattr__',\n",
       " '__dir__',\n",
       " '__doc__',\n",
       " '__eq__',\n",
       " '__format__',\n",
       " '__ge__',\n",
       " '__getattribute__',\n",
       " '__getitem__',\n",
       " '__getnewargs__',\n",
       " '__gt__',\n",
       " '__hash__',\n",
       " '__init__',\n",
       " '__init_subclass__',\n",
       " '__iter__',\n",
       " '__le__',\n",
       " '__len__',\n",
       " '__lt__',\n",
       " '__mod__',\n",
       " '__mul__',\n",
       " '__ne__',\n",
       " '__new__',\n",
       " '__reduce__',\n",
       " '__reduce_ex__',\n",
       " '__repr__',\n",
       " '__rmod__',\n",
       " '__rmul__',\n",
       " '__setattr__',\n",
       " '__sizeof__',\n",
       " '__str__',\n",
       " '__subclasshook__',\n",
       " 'capitalize',\n",
       " 'casefold',\n",
       " 'center',\n",
       " 'count',\n",
       " 'encode',\n",
       " 'endswith',\n",
       " 'expandtabs',\n",
       " 'find',\n",
       " 'format',\n",
       " 'format_map',\n",
       " 'index',\n",
       " 'isalnum',\n",
       " 'isalpha',\n",
       " 'isascii',\n",
       " 'isdecimal',\n",
       " 'isdigit',\n",
       " 'isidentifier',\n",
       " 'islower',\n",
       " 'isnumeric',\n",
       " 'isprintable',\n",
       " 'isspace',\n",
       " 'istitle',\n",
       " 'isupper',\n",
       " 'join',\n",
       " 'ljust',\n",
       " 'lower',\n",
       " 'lstrip',\n",
       " 'maketrans',\n",
       " 'partition',\n",
       " 'replace',\n",
       " 'rfind',\n",
       " 'rindex',\n",
       " 'rjust',\n",
       " 'rpartition',\n",
       " 'rsplit',\n",
       " 'rstrip',\n",
       " 'split',\n",
       " 'splitlines',\n",
       " 'startswith',\n",
       " 'strip',\n",
       " 'swapcase',\n",
       " 'title',\n",
       " 'translate',\n",
       " 'upper',\n",
       " 'zfill']"
      ]
     },
     "execution_count": 57,
     "metadata": {},
     "output_type": "execute_result"
    }
   ],
   "source": [
    "dir(str)"
   ]
  },
  {
   "cell_type": "code",
   "execution_count": 58,
   "metadata": {},
   "outputs": [
    {
     "name": "stdout",
     "output_type": "stream",
     "text": [
      "['__add__', '__class__', '__contains__', '__delattr__', '__dir__', '__doc__', '__eq__', '__format__', '__ge__', '__getattribute__', '__getitem__', '__getnewargs__', '__gt__', '__hash__', '__init__', '__init_subclass__', '__iter__', '__le__', '__len__', '__lt__', '__mod__', '__mul__', '__ne__', '__new__', '__reduce__', '__reduce_ex__', '__repr__', '__rmod__', '__rmul__', '__setattr__', '__sizeof__', '__str__', '__subclasshook__', 'capitalize', 'casefold', 'center', 'count', 'encode', 'endswith', 'expandtabs', 'find', 'format', 'format_map', 'index', 'isalnum', 'isalpha', 'isascii', 'isdecimal', 'isdigit', 'isidentifier', 'islower', 'isnumeric', 'isprintable', 'isspace', 'istitle', 'isupper', 'join', 'ljust', 'lower', 'lstrip', 'maketrans', 'partition', 'replace', 'rfind', 'rindex', 'rjust', 'rpartition', 'rsplit', 'rstrip', 'split', 'splitlines', 'startswith', 'strip', 'swapcase', 'title', 'translate', 'upper', 'zfill']\n"
     ]
    }
   ],
   "source": [
    "print(dir(str))"
   ]
  },
  {
   "cell_type": "code",
   "execution_count": 59,
   "metadata": {},
   "outputs": [
    {
     "name": "stdout",
     "output_type": "stream",
     "text": [
      "Return a copy with all occurrences of substring old replaced by new.\n",
      "\n",
      "  count\n",
      "    Maximum number of occurrences to replace.\n",
      "    -1 (the default value) means replace all occurrences.\n",
      "\n",
      "If the optional argument count is given, only the first count occurrences are\n",
      "replaced.\n"
     ]
    }
   ],
   "source": [
    "print(str.replace.__doc__)"
   ]
  },
  {
   "cell_type": "code",
   "execution_count": 60,
   "metadata": {},
   "outputs": [
    {
     "name": "stdout",
     "output_type": "stream",
     "text": [
      "S.count(sub[, start[, end]]) -> int\n",
      "\n",
      "Return the number of non-overlapping occurrences of substring sub in\n",
      "string S[start:end].  Optional arguments start and end are\n",
      "interpreted as in slice notation.\n"
     ]
    }
   ],
   "source": [
    "print(str.count.__doc__)"
   ]
  },
  {
   "cell_type": "code",
   "execution_count": 61,
   "metadata": {},
   "outputs": [
    {
     "name": "stdout",
     "output_type": "stream",
     "text": [
      "S.index(sub[, start[, end]]) -> int\n",
      "\n",
      "Return the lowest index in S where substring sub is found, \n",
      "such that sub is contained within S[start:end].  Optional\n",
      "arguments start and end are interpreted as in slice notation.\n",
      "\n",
      "Raises ValueError when the substring is not found.\n"
     ]
    }
   ],
   "source": [
    "print(str.index.__doc__)"
   ]
  },
  {
   "cell_type": "markdown",
   "metadata": {},
   "source": [
    "### The format() Method for Formatting Strings"
   ]
  },
  {
   "cell_type": "code",
   "execution_count": 62,
   "metadata": {},
   "outputs": [
    {
     "name": "stdout",
     "output_type": "stream",
     "text": [
      "\n",
      "--- Default Order ---\n",
      "Ali, Ece and Can\n",
      "\n",
      "--- Positional Order ---\n",
      "Ece, Ali and Can\n",
      "\n",
      "--- Keyword Order ---\n",
      "Can, Ece and Ali\n"
     ]
    }
   ],
   "source": [
    "# default(implicit) order\n",
    "default_order = \"{}, {} and {}\".format('Ali','Ece','Can')\n",
    "print('\\n--- Default Order ---')\n",
    "print(default_order)\n",
    "\n",
    "# order using positional argument\n",
    "positional_order = \"{1}, {0} and {2}\".format('Ali','Ece','Can')\n",
    "print('\\n--- Positional Order ---')\n",
    "print(positional_order)\n",
    "\n",
    "# order using keyword argument\n",
    "keyword_order = \"{c}, {e} and {a}\".format(a='Ali',e='Ece',c='Can')\n",
    "print('\\n--- Keyword Order ---')\n",
    "print(keyword_order)"
   ]
  },
  {
   "cell_type": "code",
   "execution_count": 66,
   "metadata": {},
   "outputs": [
    {
     "name": "stdout",
     "output_type": "stream",
     "text": [
      "Binary representation of 12 is 1100\n",
      "Exponent representation: 1.566345e+03\n",
      "One third is: 0.333\n",
      "|Python    |   ACM    |       114|\n",
      "The value of num_1 is 12.35\n",
      "The value of num_1 is 12.3457\n"
     ]
    }
   ],
   "source": [
    "# formatting integers\n",
    "print(\"Binary representation of {0} is {0:b}\".format(12))\n",
    "# formatting floats\n",
    "print(\"Exponent representation: {0:e}\".format(1566.345))\n",
    "# round off\n",
    "print(\"One third is: {0:.3f}\".format(1/3))\n",
    "# string alignment\n",
    "print(\"|{:<10}|{:^10}|{:>10}|\".format('Python','ACM','114'))\n",
    "# old style formatting\n",
    "num_1 = 12.3456789\n",
    "print('The value of num_1 is %3.2f' %num_1)\n",
    "print('The value of num_1 is %3.4f' %num_1)"
   ]
  },
  {
   "cell_type": "code",
   "execution_count": 68,
   "metadata": {},
   "outputs": [
    {
     "name": "stdout",
     "output_type": "stream",
     "text": [
      "Hi my name is Cihan and I have secured 95 percent marks in my Python exam.\n"
     ]
    }
   ],
   "source": [
    "name = \"Cihan\"\n",
    "mark = 95\n",
    "print(\"Hi my name is %s and I have secured %d percent marks in my Python exam.\" %(name, mark))"
   ]
  },
  {
   "cell_type": "markdown",
   "metadata": {},
   "source": [
    "|Symbol|Purpose|\n",
    "|:-|:-|\n",
    "|%c|character|\n",
    "|%s|string|\n",
    "|%i|signed decimal integer|\n",
    "|%d|signed decimal integer|\n",
    "|%u|unsigned decimal integer|\n",
    "|%o|octal integer|\n",
    "|%x / %X|hexadecimal integer|\n",
    "|%e / %E|exponential notation|\n",
    "|%f|floating point real number|"
   ]
  },
  {
   "cell_type": "code",
   "execution_count": 82,
   "metadata": {},
   "outputs": [
    {
     "name": "stdout",
     "output_type": "stream",
     "text": [
      "x=   10   y=  1001.210\n"
     ]
    }
   ],
   "source": [
    "x=10\n",
    "y=1001.21\n",
    "print(\"x=%5d   y=%10.3f\" %(x,y))"
   ]
  },
  {
   "cell_type": "code",
   "execution_count": 77,
   "metadata": {},
   "outputs": [
    {
     "data": {
      "text/plain": [
       "'                      computer'"
      ]
     },
     "execution_count": 77,
     "metadata": {},
     "output_type": "execute_result"
    }
   ],
   "source": [
    "string='computer'\n",
    "\"%30s\"%(string,)"
   ]
  },
  {
   "cell_type": "code",
   "execution_count": 76,
   "metadata": {},
   "outputs": [
    {
     "data": {
      "text/plain": [
       "'computer                      '"
      ]
     },
     "execution_count": 76,
     "metadata": {},
     "output_type": "execute_result"
    }
   ],
   "source": [
    "\"%-30s\"%(string,)"
   ]
  },
  {
   "cell_type": "code",
   "execution_count": 79,
   "metadata": {},
   "outputs": [
    {
     "name": "stdout",
     "output_type": "stream",
     "text": [
      "Hi my name is Cihan and I have secured 95 percent marks in my Python exam.\n"
     ]
    }
   ],
   "source": [
    "name = \"Cihan\"\n",
    "mark = 95\n",
    "print(\"Hi my name is {} and I have secured {} percent marks in my Python exam.\".format(name, mark))"
   ]
  },
  {
   "cell_type": "code",
   "execution_count": 83,
   "metadata": {},
   "outputs": [
    {
     "name": "stdout",
     "output_type": "stream",
     "text": [
      "x=   10   y=  1001.210\n"
     ]
    }
   ],
   "source": [
    "x = 10\n",
    "y = 1001.21\n",
    "print(\"x={:5d}   y={:10.3f}\".format(x,y))"
   ]
  },
  {
   "cell_type": "code",
   "execution_count": 84,
   "metadata": {},
   "outputs": [
    {
     "data": {
      "text/plain": [
       "'computer                      '"
      ]
     },
     "execution_count": 84,
     "metadata": {},
     "output_type": "execute_result"
    }
   ],
   "source": [
    "string='computer'\n",
    "\"{:<30s}\".format(string,)"
   ]
  },
  {
   "cell_type": "code",
   "execution_count": 85,
   "metadata": {},
   "outputs": [
    {
     "data": {
      "text/plain": [
       "'computer                      '"
      ]
     },
     "execution_count": 85,
     "metadata": {},
     "output_type": "execute_result"
    }
   ],
   "source": [
    "\"{:30s}\".format(string,) #default is < - left alignment"
   ]
  },
  {
   "cell_type": "code",
   "execution_count": 86,
   "metadata": {},
   "outputs": [
    {
     "data": {
      "text/plain": [
       "'           computer           '"
      ]
     },
     "execution_count": 86,
     "metadata": {},
     "output_type": "execute_result"
    }
   ],
   "source": [
    "\"{:^30s}\".format(string,)"
   ]
  },
  {
   "cell_type": "code",
   "execution_count": 91,
   "metadata": {},
   "outputs": [
    {
     "data": {
      "text/plain": [
       "'                      computer'"
      ]
     },
     "execution_count": 91,
     "metadata": {},
     "output_type": "execute_result"
    }
   ],
   "source": [
    "\"{:>30s}\".format(string,)"
   ]
  },
  {
   "cell_type": "code",
   "execution_count": 95,
   "metadata": {},
   "outputs": [
    {
     "name": "stdout",
     "output_type": "stream",
     "text": [
      "Print String in default order: \n",
      "Python ACM 114\n",
      "\n",
      "Print String in Positional order: \n",
      "ACM Python 114\n",
      "\n",
      "Print String in order of Keywords: \n",
      "ACM 114 Python\n"
     ]
    }
   ],
   "source": [
    "# Python Program for \n",
    "# Formatting of Strings \n",
    "  \n",
    "# Default order \n",
    "str_1 = \"{} {} {}\".format('Python', 'ACM', '114') \n",
    "print(\"Print String in default order: \") \n",
    "print(str_1) \n",
    "  \n",
    "# Positional Formatting \n",
    "str_1 = \"{1} {0} {2}\".format('Python', 'ACM', '114') \n",
    "print(\"\\nPrint String in Positional order: \") \n",
    "print(str_1) \n",
    "  \n",
    "# Keyword Formatting \n",
    "str_1 = \"{A} {code} {P}\".format(P = 'Python', A = 'ACM', code = '114') \n",
    "print(\"\\nPrint String in order of Keywords: \") \n",
    "print(str_1) "
   ]
  },
  {
   "cell_type": "code",
   "execution_count": 96,
   "metadata": {},
   "outputs": [
    {
     "name": "stdout",
     "output_type": "stream",
     "text": [
      "\n",
      "Binary representation of 16 is \n",
      "10000\n",
      "\n",
      "Exponent representation of 165.6458 is \n",
      "1.656458e+02\n",
      "\n",
      "one-sixth is : \n",
      "0.17\n"
     ]
    }
   ],
   "source": [
    "# Formatting of Integers \n",
    "str_2 = \"{0:b}\".format(16) \n",
    "print(\"\\nBinary representation of 16 is \") \n",
    "print(str_2) \n",
    "  \n",
    "# Formatting of Floats \n",
    "str_2 = \"{0:e}\".format(165.6458) \n",
    "print(\"\\nExponent representation of 165.6458 is \") \n",
    "print(str_2) \n",
    "  \n",
    "# Rounding off Integers \n",
    "str_2 = \"{0:.2f}\".format(1/6) \n",
    "print(\"\\none-sixth is : \") \n",
    "print(str_2) "
   ]
  },
  {
   "cell_type": "code",
   "execution_count": 103,
   "metadata": {},
   "outputs": [
    {
     "name": "stdout",
     "output_type": "stream",
     "text": [
      "\n",
      "Left, center and right alignment with Formatting: \n",
      "|Python         |      ACM      |            114|\n",
      "\n",
      "Python ACM 114  Course continues in 2020 !\n"
     ]
    }
   ],
   "source": [
    "# String alignment \n",
    "str_3 = \"|{:<15}|{:^15}|{:>15}|\".format('Python', 'ACM', '114') \n",
    "print(\"\\nLeft, center and right alignment with Formatting: \") \n",
    "print(str_3) \n",
    "  \n",
    "# To demonstrate aligning of spaces  \n",
    "str_3 = \"\\n{0:^15} Course continues in {1:<5}!\".format(\"Python ACM 114\", 2020) \n",
    "print(str_3)"
   ]
  },
  {
   "cell_type": "code",
   "execution_count": 107,
   "metadata": {},
   "outputs": [
    {
     "name": "stdout",
     "output_type": "stream",
     "text": [
      "Formatting in 4.2f format: \n",
      "The value of Int_1 is 123.46\n",
      "\n",
      "Formatting in 3.4f format: \n",
      "The value of Int_1 is 123.4568\n"
     ]
    }
   ],
   "source": [
    "# Python Program for \n",
    "# Old Style Formatting \n",
    "# of Integers \n",
    "  \n",
    "Int_1 = 123.456789\n",
    "print(\"Formatting in 4.2f format: \") \n",
    "print('The value of Int_1 is %4.2f' %Int_1) \n",
    "print(\"\\nFormatting in 3.4f format: \") \n",
    "print('The value of Int_1 is %3.4f' %Int_1)"
   ]
  },
  {
   "cell_type": "code",
   "execution_count": 110,
   "metadata": {},
   "outputs": [
    {
     "name": "stdout",
     "output_type": "stream",
     "text": [
      "His name is Mehmet!\n",
      "I am Meltem and I am 10 years old.\n",
      "2 ** 10 = 1024 and 4 * 5 = 20.000000\n"
     ]
    }
   ],
   "source": [
    "print(\"His name is {0}!\".format(\"Mehmet\"))\n",
    "name = \"Meltem\"\n",
    "age = 10\n",
    "print(\"I am {0} and I am {1} years old.\".format(name, age))\n",
    "n1 = 4\n",
    "n2 = 5\n",
    "print(\"2 ** 10 = {0} and {1} * {2} = {3:f}\".format(2 ** 10, n1, n2, n1 * n2))"
   ]
  },
  {
   "cell_type": "code",
   "execution_count": 111,
   "metadata": {},
   "outputs": [
    {
     "name": "stdout",
     "output_type": "stream",
     "text": [
      "\n",
      "Dear Paris Hilton,\n",
      "\n",
      "Paris, I have an interesting money-making proposition for you!\n",
      "If you deposit $10 million into my bank account, I can\n",
      "double your money ...\n",
      "\n",
      "\n",
      "Dear Bill Gates,\n",
      "\n",
      "Bill, I have an interesting money-making proposition for you!\n",
      "If you deposit $10 million into my bank account, I can\n",
      "double your money ...\n",
      "\n"
     ]
    }
   ],
   "source": [
    "letter = \"\"\"\n",
    "Dear {0} {2},\n",
    "\n",
    "{0}, I have an interesting money-making proposition for you!\n",
    "If you deposit $10 million into my bank account, I can\n",
    "double your money ...\n",
    "\"\"\"\n",
    "\n",
    "print(letter.format(\"Paris\", \"Whitney\", \"Hilton\"))\n",
    "print(letter.format(\"Bill\", \"Henry\", \"Gates\"))"
   ]
  },
  {
   "cell_type": "code",
   "execution_count": 112,
   "metadata": {},
   "outputs": [
    {
     "ename": "IndexError",
     "evalue": "tuple index out of range",
     "output_type": "error",
     "traceback": [
      "\u001b[1;31m---------------------------------------------------------------------------\u001b[0m",
      "\u001b[1;31mIndexError\u001b[0m                                Traceback (most recent call last)",
      "\u001b[1;32m<ipython-input-112-f3f4f5c77a4a>\u001b[0m in \u001b[0;36m<module>\u001b[1;34m\u001b[0m\n\u001b[1;32m----> 1\u001b[1;33m \u001b[1;34m\"hello {3}\"\u001b[0m\u001b[1;33m.\u001b[0m\u001b[0mformat\u001b[0m\u001b[1;33m(\u001b[0m\u001b[1;34m\"Ali\"\u001b[0m\u001b[1;33m)\u001b[0m\u001b[1;33m\u001b[0m\u001b[1;33m\u001b[0m\u001b[0m\n\u001b[0m",
      "\u001b[1;31mIndexError\u001b[0m: tuple index out of range"
     ]
    }
   ],
   "source": [
    "\"hello {3}\".format(\"Ali\")"
   ]
  },
  {
   "cell_type": "code",
   "execution_count": 115,
   "metadata": {},
   "outputs": [
    {
     "name": "stdout",
     "output_type": "stream",
     "text": [
      "'Achille'll miss me very much to-night, I should think!'\n"
     ]
    }
   ],
   "source": [
    "s = \"'{dog}'ll {verb1} me very much {time}, I should {verb2}!'\"\n",
    "print(s.format(verb1=\"miss\", dog=\"Achille\", time=\"to-night\", verb2=\"think\"))"
   ]
  },
  {
   "cell_type": "code",
   "execution_count": 116,
   "metadata": {},
   "outputs": [
    {
     "name": "stdout",
     "output_type": "stream",
     "text": [
      "His name is Mehmet.\n",
      "I am Meltem and I am 10 years old.\n",
      "2**10 = 1024 and 4 * 5 = 20.000000\n"
     ]
    }
   ],
   "source": [
    "print(\"His name is %s.\"  % \"Mehmet\")\n",
    "name = \"Meltem\"\n",
    "age = 10\n",
    "print(\"I am %s and I am %d years old.\" % (name, age))\n",
    "n1 = 4\n",
    "n2 = 5\n",
    "print(\"2**10 = %d and %d * %d = %f\" % (2**10, n1, n2, n1 * n2))"
   ]
  },
  {
   "cell_type": "code",
   "execution_count": 117,
   "metadata": {},
   "outputs": [
    {
     "data": {
      "text/plain": [
       "'The result for 5 + 10 is 15'"
      ]
     },
     "execution_count": 117,
     "metadata": {},
     "output_type": "execute_result"
    }
   ],
   "source": [
    " a, b = 5, 10\n",
    "\"The result for %d + %d is %d\" % (a, b, a+b)"
   ]
  },
  {
   "cell_type": "code",
   "execution_count": 118,
   "metadata": {},
   "outputs": [
    {
     "data": {
      "text/plain": [
       "'The result for 0.100 + 002 is +2'"
      ]
     },
     "execution_count": 118,
     "metadata": {},
     "output_type": "execute_result"
    }
   ],
   "source": [
    " a, b = 0.1, 2\n",
    "\"The result for %.3f + %03d is %+d\" % (a, b, a+b)"
   ]
  },
  {
   "cell_type": "code",
   "execution_count": 119,
   "metadata": {},
   "outputs": [
    {
     "data": {
      "text/plain": [
       "'10 + 20 + 30'"
      ]
     },
     "execution_count": 119,
     "metadata": {},
     "output_type": "execute_result"
    }
   ],
   "source": [
    "dct = {\n",
    "    'a': 10,\n",
    "    'b': 20,\n",
    "    'c': 30,\n",
    "}\n",
    "\"%(a)d + %(b)d + %(c)d\" % dct"
   ]
  },
  {
   "cell_type": "code",
   "execution_count": 120,
   "metadata": {},
   "outputs": [
    {
     "name": "stdout",
     "output_type": "stream",
     "text": [
      "10, ciao, 5.4\n"
     ]
    }
   ],
   "source": [
    "a, b, c = 10, \"ciao\", 5.4\n",
    "print(\"%s, %s, %s\" % (a, b, c))"
   ]
  },
  {
   "cell_type": "code",
   "execution_count": 121,
   "metadata": {},
   "outputs": [
    {
     "data": {
      "text/plain": [
       "'My name is James Bond.'"
      ]
     },
     "execution_count": 121,
     "metadata": {},
     "output_type": "execute_result"
    }
   ],
   "source": [
    "\"My name is {0} {1}.\".format(\"James\", \"Bond\")"
   ]
  },
  {
   "cell_type": "code",
   "execution_count": 122,
   "metadata": {},
   "outputs": [
    {
     "data": {
      "text/plain": [
       "'My name is Bond James.'"
      ]
     },
     "execution_count": 122,
     "metadata": {},
     "output_type": "execute_result"
    }
   ],
   "source": [
    "\"My name is {1} {0}.\".format(\"James\", \"Bond\")"
   ]
  },
  {
   "cell_type": "code",
   "execution_count": 123,
   "metadata": {},
   "outputs": [
    {
     "data": {
      "text/plain": [
       "'My name is James Bond.'"
      ]
     },
     "execution_count": 123,
     "metadata": {},
     "output_type": "execute_result"
    }
   ],
   "source": [
    " \"My name is {} {}.\".format(\"James\", \"Bond\")"
   ]
  },
  {
   "cell_type": "code",
   "execution_count": 124,
   "metadata": {},
   "outputs": [
    {
     "data": {
      "text/plain": [
       "'My Name is James Bond.'"
      ]
     },
     "execution_count": 124,
     "metadata": {},
     "output_type": "execute_result"
    }
   ],
   "source": [
    "\"My Name is {name} {surname}.\".format(surname=\"Bond\", name=\"James\")"
   ]
  },
  {
   "cell_type": "code",
   "execution_count": 125,
   "metadata": {},
   "outputs": [
    {
     "data": {
      "text/plain": [
       "'My name is Bond. James Bond.'"
      ]
     },
     "execution_count": 125,
     "metadata": {},
     "output_type": "execute_result"
    }
   ],
   "source": [
    " \"My name is {1}. {0} {1}.\".format(\"James\", \"Bond\")"
   ]
  },
  {
   "cell_type": "code",
   "execution_count": 126,
   "metadata": {},
   "outputs": [
    {
     "data": {
      "text/plain": [
       "'My name is Bond. James Bond.'"
      ]
     },
     "execution_count": 126,
     "metadata": {},
     "output_type": "execute_result"
    }
   ],
   "source": [
    "\"My name is {s}. {n} {s}.\".format(n=\"James\", s=\"Bond\")"
   ]
  },
  {
   "cell_type": "code",
   "execution_count": 127,
   "metadata": {},
   "outputs": [
    {
     "data": {
      "text/plain": [
       "'two + one + zero + four = seven'"
      ]
     },
     "execution_count": 127,
     "metadata": {},
     "output_type": "execute_result"
    }
   ],
   "source": [
    "lst = [\"zero\", \"one\", \"two\", \"three\", \"four\", \"five\",\"six\", \"seven\", \"eight\", \"nine\", \"ten\"]\n",
    "\n",
    "\"{a[2]} + {a[1]} + {a[0]} + {a[4]} = {a[7]}\".format(a=lst)"
   ]
  },
  {
   "cell_type": "code",
   "execution_count": 128,
   "metadata": {},
   "outputs": [
    {
     "data": {
      "text/plain": [
       "'0, 2'"
      ]
     },
     "execution_count": 128,
     "metadata": {},
     "output_type": "execute_result"
    }
   ],
   "source": [
    "abc = {'a': 0, 'b':1, 'c':2}\n",
    "\n",
    "\"{d[a]}, {d[c]}\".format(d=abc)"
   ]
  },
  {
   "cell_type": "code",
   "execution_count": 129,
   "metadata": {},
   "outputs": [
    {
     "data": {
      "text/plain": [
       "'10 / 3 = 3.33'"
      ]
     },
     "execution_count": 129,
     "metadata": {},
     "output_type": "execute_result"
    }
   ],
   "source": [
    " \"{0:d} / {1:d} = {2:.2f}\".format(10, 3, 10 / 3)"
   ]
  },
  {
   "cell_type": "code",
   "execution_count": 130,
   "metadata": {},
   "outputs": [
    {
     "name": "stdout",
     "output_type": "stream",
     "text": [
      "abc : 'abc'\n"
     ]
    }
   ],
   "source": [
    "print(\"{0!s} : {0!r}\".format(\"abc\"))"
   ]
  },
  {
   "cell_type": "markdown",
   "metadata": {},
   "source": [
    "###  string interpolation / f-strings (python 3.6+)"
   ]
  },
  {
   "cell_type": "code",
   "execution_count": 131,
   "metadata": {},
   "outputs": [
    {
     "data": {
      "text/plain": [
       "'My name is Bond. James Bond.'"
      ]
     },
     "execution_count": 131,
     "metadata": {},
     "output_type": "execute_result"
    }
   ],
   "source": [
    "name = 'James'\n",
    "surname = 'Bond'\n",
    "f'My name is {surname}. {name} {surname}.'"
   ]
  },
  {
   "cell_type": "code",
   "execution_count": 132,
   "metadata": {},
   "outputs": [
    {
     "data": {
      "text/plain": [
       "'1 / 2 = 0.5'"
      ]
     },
     "execution_count": 132,
     "metadata": {},
     "output_type": "execute_result"
    }
   ],
   "source": [
    "one = 1 ; two = 2 ; half = 1/2\n",
    "f'{one} / {two} = {half}'"
   ]
  },
  {
   "cell_type": "code",
   "execution_count": 133,
   "metadata": {},
   "outputs": [
    {
     "data": {
      "text/plain": [
       "'1 / 2 = 0.5'"
      ]
     },
     "execution_count": 133,
     "metadata": {},
     "output_type": "execute_result"
    }
   ],
   "source": [
    "f'{one} / {two} = {one/two}'"
   ]
  },
  {
   "cell_type": "code",
   "execution_count": 135,
   "metadata": {},
   "outputs": [
    {
     "data": {
      "text/plain": [
       "\"Hello, Cihan! How's it going?\""
      ]
     },
     "execution_count": 135,
     "metadata": {},
     "output_type": "execute_result"
    }
   ],
   "source": [
    "def greet(name, question):\n",
    "    return f\"Hello, {name}! How's it {question}?\"\n",
    "greet('Cihan', 'going')"
   ]
  },
  {
   "cell_type": "code",
   "execution_count": null,
   "metadata": {},
   "outputs": [],
   "source": []
  }
 ],
 "metadata": {
  "kernelspec": {
   "display_name": "Python 3",
   "language": "python",
   "name": "python3"
  },
  "language_info": {
   "codemirror_mode": {
    "name": "ipython",
    "version": 3
   },
   "file_extension": ".py",
   "mimetype": "text/x-python",
   "name": "python",
   "nbconvert_exporter": "python",
   "pygments_lexer": "ipython3",
   "version": "3.7.4"
  }
 },
 "nbformat": 4,
 "nbformat_minor": 2
}
