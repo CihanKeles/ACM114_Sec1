{
 "cells": [
  {
   "cell_type": "markdown",
   "metadata": {},
   "source": [
    "Alarm clock is actually a software object.\n",
    "\n",
    "Object's data attributes: (consider like as varibles)\n",
    "current_second (a value in the range 0-59)\n",
    "current_minute (a value in the range 0-59)\n",
    "current_hour (a value in the range 1-12)\n",
    "alarm_time (a valid hour and minute)\n",
    "alarm_is_set (True or False)\n",
    "\n",
    "Alarm clock object's methods:\n",
    "set_time\n",
    "set_alarm_time\n",
    "set_alarm_on\n",
    "set_alarm_off\n",
    "\n",
    "Alarm clock object's private methods:\n",
    "incerement_current_second\n",
    "incerement_current_minute\n",
    "incerement_current_hour\n",
    "sound_alarm"
   ]
  }
 ],
 "metadata": {
  "kernelspec": {
   "display_name": "Python 3",
   "language": "python",
   "name": "python3"
  },
  "language_info": {
   "codemirror_mode": {
    "name": "ipython",
    "version": 3
   },
   "file_extension": ".py",
   "mimetype": "text/x-python",
   "name": "python",
   "nbconvert_exporter": "python",
   "pygments_lexer": "ipython3",
   "version": "3.7.4"
  }
 },
 "nbformat": 4,
 "nbformat_minor": 2
}
