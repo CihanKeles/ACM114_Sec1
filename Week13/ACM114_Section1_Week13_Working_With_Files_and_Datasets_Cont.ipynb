{
 "cells": [
  {
   "cell_type": "code",
   "execution_count": 2,
   "metadata": {},
   "outputs": [
    {
     "name": "stdout",
     "output_type": "stream",
     "text": [
      "Enter the names of your friends.\n",
      "Enter the number of friends: 10\n",
      "Friend #1: Sandy\n",
      "Friend #2: Danny\n",
      "Friend #3: Rizzo\n",
      "Friend #4: Kenickie\n",
      "Friend #5: Frenchy\n",
      "Friend #6: Roger\n",
      "Friend #7: Jan\n",
      "Friend #8: Putzie\n",
      "Friend #9: Marty\n",
      "Friend #10: Doody\n",
      "['Sandy', 'Danny', 'Rizzo', 'Kenickie', 'Frenchy', 'Roger', 'Jan', 'Putzie', 'Marty', 'Doody']\n",
      "The names were written to friends.txt.\n"
     ]
    }
   ],
   "source": [
    "# This program gets the names from the user\n",
    "# and writes them to a file.\n",
    "\n",
    "def main():\n",
    "    # Get the names.\n",
    "    print('Enter the names of your friends.')\n",
    "    n = int(input(\"Enter the number of friends: \"))\n",
    "    i = 0\n",
    "    names = []\n",
    "    while i < n:\n",
    "        name = input('Friend #%d: ' %(i+1))\n",
    "        names.append(name)\n",
    "        i += 1\n",
    "    print(names)\n",
    "    \n",
    "    # Open a file named friend.txt.\n",
    "    my_file = open('friends.txt', 'w')\n",
    "    \n",
    "    for each_name in names:\n",
    "        # Write the names to the file of friend.txt.\n",
    "        my_file.write(each_name + '\\n')\n",
    "        \n",
    "    # Close the file.\n",
    "    my_file.close()\n",
    "    \n",
    "    print('The names were written to friends.txt.')\n",
    "    \n",
    "# Call the main function for this process.\n",
    "main()"
   ]
  },
  {
   "cell_type": "code",
   "execution_count": 10,
   "metadata": {},
   "outputs": [
    {
     "name": "stdout",
     "output_type": "stream",
     "text": [
      "Socrates\n",
      "Plato\n",
      "Aristotle\n",
      "René Descartes\n",
      "Immanuel Kant\n"
     ]
    }
   ],
   "source": [
    "# This program reads the contents of the\n",
    "# philosophers.txt file one line at a time.\n",
    "\n",
    "def main():\n",
    "    \n",
    "    # Open a file named philosophers.txt\n",
    "    infile = open('philosophers.txt', 'r')\n",
    "    \n",
    "    # contents = infile.read()\n",
    "    \"\"\"contents = infile.readlines()\n",
    "    \n",
    "    print(contents)\n",
    "    \n",
    "    for line in contents:\n",
    "        line = line.rstrip('\\n').split()\n",
    "        print(line)\"\"\"\n",
    "    \n",
    "    # Read first five lines from the file.\n",
    "    line1 = infile.readline()\n",
    "    line2 = infile.readline()\n",
    "    line3 = infile.readline()\n",
    "    line4 = infile.readline()\n",
    "    line5 = infile.readline()\n",
    "    \n",
    "    # Strip the \\n from each string.\n",
    "    line1 = line1.rstrip('\\n')\n",
    "    line2 = line2.rstrip('\\n')\n",
    "    line3 = line3.rstrip()\n",
    "    line4 = line4.strip('\\n')\n",
    "    line5 = line5.strip()\n",
    "    \n",
    "    # Close the file.\n",
    "    infile.close()\n",
    "    \n",
    "    # print(contents)\n",
    "    \n",
    "    # Print the data that was read into memory.\n",
    "    print(line1)\n",
    "    print(line2)\n",
    "    print(line3)\n",
    "    print(line4)\n",
    "    print(line5)\n",
    "\n",
    "# Call the main function of the process.\n",
    "main()"
   ]
  },
  {
   "cell_type": "code",
   "execution_count": 12,
   "metadata": {},
   "outputs": [
    {
     "name": "stdout",
     "output_type": "stream",
     "text": [
      "Enter the names to add your friends list.\n",
      "Enter the number of friends to insert: 5\n",
      "Friend #1: Patty\n",
      "Friend #2: Angel\n",
      "Friend #3: Cha Cha\n",
      "Friend #4: Maggie\n",
      "Friend #5: Willy\n",
      "['Patty', 'Angel', 'Cha Cha', 'Maggie', 'Willy']\n",
      "The names were inserted to the friends.txt.\n"
     ]
    }
   ],
   "source": [
    "# This program gets the new names from the user\n",
    "# and appends (inserts) them to the existing file.\n",
    "\n",
    "def main():\n",
    "    # Get new names.\n",
    "    print('Enter the names to add your friends list.')\n",
    "    m = int(input(\"Enter the number of friends to insert: \"))\n",
    "    j = 0\n",
    "    newNames = []\n",
    "    while j < m:\n",
    "        new_name = input('Friend #%d: ' %(j+1))\n",
    "        newNames.append(new_name)\n",
    "        j += 1\n",
    "    print(newNames)\n",
    "    \n",
    "    # Open a file named friend.txt.\n",
    "    my_file = open('friends.txt', 'a')\n",
    "    \n",
    "    for adding_name in newNames:\n",
    "        # Write the names to the file of friend.txt.\n",
    "        my_file.write(adding_name + '\\n')\n",
    "        \n",
    "    # Close the file.\n",
    "    my_file.close()\n",
    "    \n",
    "    print('The names were inserted to the friends.txt.')\n",
    "    \n",
    "# Call the main function for this process.\n",
    "main()"
   ]
  },
  {
   "cell_type": "code",
   "execution_count": 13,
   "metadata": {},
   "outputs": [
    {
     "name": "stdout",
     "output_type": "stream",
     "text": [
      "['Name', 'Sex', 'Age', 'Team', 'Event', 'Medal']\n",
      "Edgar Lindenau Aabye: Tug-Of-War; Gold\n",
      "Arvo Ossian Aaltonen: Swimming; Bronze\n",
      "Arvo Ossian Aaltonen: Swimming; Bronze\n",
      "Juhamatti Tapio Aaltonen: Ice Hockey; Bronze\n",
      "Paavo Johannes Aaltonen: Gymnastics; Bronze\n",
      "Paavo Johannes Aaltonen: Gymnastics; Gold\n",
      "Paavo Johannes Aaltonen: Gymnastics; Gold\n",
      "Paavo Johannes Aaltonen: Gymnastics; Gold\n",
      "Paavo Johannes Aaltonen: Gymnastics; Bronze\n"
     ]
    }
   ],
   "source": [
    "fileconnection = open(\"olympics.csv\", 'r')\n",
    "lines = fileconnection.readlines()\n",
    "header = lines[0]\n",
    "field_names = header.strip().split(',')\n",
    "print(field_names)\n",
    "for row in lines[1:]:\n",
    "    vals = row.strip().split(',')\n",
    "    if vals[5] != \"NA\":\n",
    "        print(\"{}: {}; {}\".format(\n",
    "                vals[0],\n",
    "                vals[4],\n",
    "                vals[5]))"
   ]
  },
  {
   "cell_type": "code",
   "execution_count": 14,
   "metadata": {},
   "outputs": [],
   "source": [
    "olympians = [(\"John Aalberg\", 31, \"Cross Country Skiing\"),\n",
    "            (\"Minna Maarit Aalto\", 30, \"Sailing\"),\n",
    "            (\"Win Valdemar Aaltonen\", 54, \"Art Competitions\"),\n",
    "            (\"Wakako Abe\", 18, \"Cycling\")]\n",
    "\n",
    "outfile = open(\"reduced_olympics.csv\",\"w\")\n",
    "# output the header row\n",
    "outfile.write('Name,Age,Sport')\n",
    "outfile.write('\\n')\n",
    "# output each of the rows:\n",
    "for olympian in olympians:\n",
    "    row_string = '{},{},{}'.format(olympian[0], olympian[1], olympian[2])\n",
    "    outfile.write(row_string)\n",
    "    outfile.write('\\n')\n",
    "outfile.close()"
   ]
  },
  {
   "cell_type": "code",
   "execution_count": 23,
   "metadata": {},
   "outputs": [
    {
     "name": "stdout",
     "output_type": "stream",
     "text": [
      "Average: 3.52\n"
     ]
    }
   ],
   "source": [
    "def main():\n",
    "    # Declare local variables.\n",
    "    total = 0.0\n",
    "    number = 0.0\n",
    "    counter = 0\n",
    "    \n",
    "    try:\n",
    "        # Open the files for reading.\n",
    "        infile = open(\"exception_file.txt\", \"r\")\n",
    "        # infile = open('squared_numbers.txt', 'r')\n",
    "        # infile = open(\"Files_written/numbers.txt\", 'r')\n",
    "        # infile = open(\"numbers.txt\", 'r') # An error occured while trying to read the file.\n",
    "        # infile = open(\"friends.txt\", 'r') # Non_numeric data are found in the file.\n",
    "        \n",
    "        \n",
    "        for line in infile:\n",
    "            counter = counter + 1\n",
    "            number = float(line)\n",
    "            total += number\n",
    "            \n",
    "        # Close the file\n",
    "        infile.close()\n",
    "        \n",
    "        # Calculate the average\n",
    "        # counter = 0 # An error occured. (with exception_file.txt)\n",
    "        average = total / counter\n",
    "        \n",
    "        # Display the average of the numbers in the file.\n",
    "        print('Average:', format(average, '.2f'))\n",
    "        \n",
    "    except IOError:\n",
    "        print('An error occured while trying to read the file.')\n",
    "        \n",
    "    except ValueError:\n",
    "        print('Non_numeric data are found in the file.')\n",
    "        \n",
    "    except:\n",
    "        print('An error occured.')\n",
    "        \n",
    "# Call th main function of this process.\n",
    "main()"
   ]
  },
  {
   "cell_type": "code",
   "execution_count": null,
   "metadata": {},
   "outputs": [],
   "source": []
  }
 ],
 "metadata": {
  "kernelspec": {
   "display_name": "Python 3",
   "language": "python",
   "name": "python3"
  },
  "language_info": {
   "codemirror_mode": {
    "name": "ipython",
    "version": 3
   },
   "file_extension": ".py",
   "mimetype": "text/x-python",
   "name": "python",
   "nbconvert_exporter": "python",
   "pygments_lexer": "ipython3",
   "version": "3.7.4"
  }
 },
 "nbformat": 4,
 "nbformat_minor": 2
}
