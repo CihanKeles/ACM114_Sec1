{
 "cells": [
  {
   "cell_type": "markdown",
   "metadata": {},
   "source": [
    "Here is your first Python code as a *print()* function"
   ]
  },
  {
   "cell_type": "code",
   "execution_count": 1,
   "metadata": {},
   "outputs": [
    {
     "name": "stdout",
     "output_type": "stream",
     "text": [
      "Hello World! My name is Python =)\n"
     ]
    }
   ],
   "source": [
    "print(\"Hello World! My name is Python =)\")"
   ]
  },
  {
   "cell_type": "markdown",
   "metadata": {},
   "source": [
    "# Python Keywords"
   ]
  },
  {
   "cell_type": "markdown",
   "metadata": {},
   "source": [
    "Keywords are the reserved words in Python.\n",
    "\n",
    "We cannot use a keyword as a variable name, function name or any other identifier. They are used to define the syntax and structure of the Python language.\n",
    "\n",
    "In Python, keywords are case sensitive. There are **33** keywords (this number can vary slightly, additionally we will not use some of them in our course - **you don't need to fear!**) in Python 3.7.\n",
    "\n",
    "All the keywords except **True**, **False** and **None** are in **lowercase** and they must be written as it is. The list of all the keywords is given below."
   ]
  },
  {
   "cell_type": "markdown",
   "metadata": {},
   "source": [
    "## Keywords List in Python"
   ]
  },
  {
   "cell_type": "raw",
   "metadata": {},
   "source": [
    "False\t class\t    finally\t  is\t      return\n",
    "None\t continue\tfor\t      lambda\t  try\n",
    "True\t def\t    from\t  nonlocal\t  while\n",
    "and\t     del\t    global\t  not\t      with\n",
    "as\t     elif\t    if\t      or\t      yield\n",
    "assert\t else\t    import\t  pass\t \n",
    "break\t except\t    in\t      raise"
   ]
  },
  {
   "cell_type": "markdown",
   "metadata": {},
   "source": [
    "# Python Identifiers"
   ]
  },
  {
   "cell_type": "markdown",
   "metadata": {},
   "source": [
    "An identifier is a name given to entities like class, functions, variables, etc. It helps to differentiate one entity from another."
   ]
  },
  {
   "cell_type": "markdown",
   "metadata": {},
   "source": [
    "Here is the general rules of writing more acceptable and more accurate identfiers.\n",
    "\n",
    "1. Identifiers can be a combination of letters in **lowercase (a to z)** or **uppercase (A to Z)** or **digits (0 to 9)** or **an underscore _**. Names like *myClass*, *var_1* and *print_this_to_screen*, all are valid example.\n",
    "\n",
    "2. An identifier cannot start with a digit. *1variable* is **invalid**, but *variable1* is **perfectly fine**.\n",
    "\n",
    "3. Keywords cannot be used as identifiers - (this rule is very important!!). When you use the keywords as identifiers in your code block, you will get an error message on terminal like as:"
   ]
  },
  {
   "cell_type": "code",
   "execution_count": 2,
   "metadata": {},
   "outputs": [
    {
     "ename": "SyntaxError",
     "evalue": "invalid syntax (<ipython-input-2-dc35719f16ec>, line 1)",
     "output_type": "error",
     "traceback": [
      "\u001b[1;36m  File \u001b[1;32m\"<ipython-input-2-dc35719f16ec>\"\u001b[1;36m, line \u001b[1;32m1\u001b[0m\n\u001b[1;33m    from = 3\u001b[0m\n\u001b[1;37m         ^\u001b[0m\n\u001b[1;31mSyntaxError\u001b[0m\u001b[1;31m:\u001b[0m invalid syntax\n"
     ]
    }
   ],
   "source": [
    "from = 3"
   ]
  },
  {
   "cell_type": "code",
   "execution_count": 3,
   "metadata": {},
   "outputs": [
    {
     "ename": "SyntaxError",
     "evalue": "invalid syntax (<ipython-input-3-0ce0415087af>, line 1)",
     "output_type": "error",
     "traceback": [
      "\u001b[1;36m  File \u001b[1;32m\"<ipython-input-3-0ce0415087af>\"\u001b[1;36m, line \u001b[1;32m1\u001b[0m\n\u001b[1;33m    while = \"ali\"\u001b[0m\n\u001b[1;37m          ^\u001b[0m\n\u001b[1;31mSyntaxError\u001b[0m\u001b[1;31m:\u001b[0m invalid syntax\n"
     ]
    }
   ],
   "source": [
    "while = \"ali\""
   ]
  },
  {
   "cell_type": "markdown",
   "metadata": {},
   "source": [
    "4. We cannot use special symbols some kind of *!, @, #, $, %* etc. in our identifiers. For examples:"
   ]
  },
  {
   "cell_type": "code",
   "execution_count": 4,
   "metadata": {},
   "outputs": [
    {
     "ename": "SyntaxError",
     "evalue": "invalid syntax (<ipython-input-4-460241e228a4>, line 1)",
     "output_type": "error",
     "traceback": [
      "\u001b[1;36m  File \u001b[1;32m\"<ipython-input-4-460241e228a4>\"\u001b[1;36m, line \u001b[1;32m1\u001b[0m\n\u001b[1;33m    c@ = 77\u001b[0m\n\u001b[1;37m       ^\u001b[0m\n\u001b[1;31mSyntaxError\u001b[0m\u001b[1;31m:\u001b[0m invalid syntax\n"
     ]
    }
   ],
   "source": [
    "c@ = 77"
   ]
  },
  {
   "cell_type": "code",
   "execution_count": 5,
   "metadata": {},
   "outputs": [
    {
     "ename": "SyntaxError",
     "evalue": "invalid syntax (<ipython-input-5-0c275a7e746f>, line 1)",
     "output_type": "error",
     "traceback": [
      "\u001b[1;36m  File \u001b[1;32m\"<ipython-input-5-0c275a7e746f>\"\u001b[1;36m, line \u001b[1;32m1\u001b[0m\n\u001b[1;33m    b!b = \"the king\"\u001b[0m\n\u001b[1;37m     ^\u001b[0m\n\u001b[1;31mSyntaxError\u001b[0m\u001b[1;31m:\u001b[0m invalid syntax\n"
     ]
    }
   ],
   "source": [
    "b!b = \"the king\""
   ]
  },
  {
   "cell_type": "code",
   "execution_count": 6,
   "metadata": {},
   "outputs": [
    {
     "ename": "SyntaxError",
     "evalue": "invalid syntax (<ipython-input-6-8da193b5d0c1>, line 1)",
     "output_type": "error",
     "traceback": [
      "\u001b[1;36m  File \u001b[1;32m\"<ipython-input-6-8da193b5d0c1>\"\u001b[1;36m, line \u001b[1;32m1\u001b[0m\n\u001b[1;33m    d$z% = 3.98\u001b[0m\n\u001b[1;37m     ^\u001b[0m\n\u001b[1;31mSyntaxError\u001b[0m\u001b[1;31m:\u001b[0m invalid syntax\n"
     ]
    }
   ],
   "source": [
    "d$z% = 3.98"
   ]
  },
  {
   "cell_type": "markdown",
   "metadata": {},
   "source": [
    "5. Identifiers can be of any length. There is no limitation for assingning a name to your identifiers in your code under the condition that you define them acceptable and accurate name pattern rules."
   ]
  },
  {
   "cell_type": "markdown",
   "metadata": {},
   "source": [
    "In addition, Python is a **case-sensitive** (cS) language. This means that *Variable* and *variable* are not same and they can take different real values to identify them. Always name and use identifiers that make sense in order not to confuse. While, *c = 3* is valid and acceptable. Writing *count = 3* would make more sense and it would be easier to figure out what it does even when you look at your code after a long gap. Multiple words can be separated using an underscore **\"_\"**, *this_is_a_long_variable_for_this_code*."
   ]
  },
  {
   "cell_type": "markdown",
   "metadata": {},
   "source": [
    "# Python Statement"
   ]
  },
  {
   "cell_type": "markdown",
   "metadata": {},
   "source": [
    "Instructions that a Python interpreter can execute are called statements. For example, *a = 1* is an assignment statement. There are different kinds of statements - **if** statement, **for** statement, **while** statement etc. are other kinds of statements. We will see these types of statements in oncoming lectures later."
   ]
  },
  {
   "cell_type": "markdown",
   "metadata": {},
   "source": [
    "## Multi-line statement"
   ]
  },
  {
   "cell_type": "markdown",
   "metadata": {},
   "source": [
    "In Python, end of a statement is marked by a newline character. But we can make a statement extend over multiple lines with the *line continuation character* **(\\\\)**. For example:"
   ]
  },
  {
   "cell_type": "code",
   "execution_count": 9,
   "metadata": {},
   "outputs": [
    {
     "name": "stdout",
     "output_type": "stream",
     "text": [
      "45\n"
     ]
    }
   ],
   "source": [
    "x = 1 + 2 + 3 + \\\n",
    "    4 + 5 + 6 + \\\n",
    "    7 + 8 + 9\n",
    "\n",
    "print(x)"
   ]
  },
  {
   "cell_type": "markdown",
   "metadata": {},
   "source": [
    "This is an **explicit** *line continuation* example. On the other hand, we can also imply *line continuation* inside parentheses **( )**, brackets **\\[ \\]** and braces **{ }** in Python. For instance, we can implement the above multi-line statement as"
   ]
  },
  {
   "cell_type": "code",
   "execution_count": 10,
   "metadata": {},
   "outputs": [
    {
     "name": "stdout",
     "output_type": "stream",
     "text": [
      "45\n"
     ]
    }
   ],
   "source": [
    "x = (1 + 2 + 3 + \n",
    "    4 + 5 + 6 + \n",
    "    7 + 8 + 9)\n",
    "\n",
    "print(x)"
   ]
  },
  {
   "cell_type": "markdown",
   "metadata": {},
   "source": [
    "In the following examples, the surrounding parentheses represented as **( )** do the *line continuation* **implicitly**. Same is the case with **\\[ \\]** and **{ }**. For examples:"
   ]
  },
  {
   "cell_type": "code",
   "execution_count": 11,
   "metadata": {},
   "outputs": [
    {
     "name": "stdout",
     "output_type": "stream",
     "text": [
      "['red', 'blue', 'green', 'black', 'white']\n"
     ]
    }
   ],
   "source": [
    "colors = ['red',\n",
    "            'blue',\n",
    "            'green',\n",
    "                'black',\n",
    "                    'white']\n",
    "\n",
    "print(colors)"
   ]
  },
  {
   "cell_type": "code",
   "execution_count": 17,
   "metadata": {},
   "outputs": [
    {
     "name": "stdout",
     "output_type": "stream",
     "text": [
      "{'feyyaz', 'veli', 'mehmet', 'metin', 'ahmet', 'ali'}\n"
     ]
    }
   ],
   "source": [
    "names = {'ali',\n",
    "            'veli',\n",
    "                'mehmet',\n",
    "            'ahmet',\n",
    "        'feyyaz',\n",
    "                'metin'}\n",
    "\n",
    "print(names)"
   ]
  },
  {
   "cell_type": "markdown",
   "metadata": {},
   "source": [
    "We could also put multiple statements in a single line using *semicolons* **(;)**:"
   ]
  },
  {
   "cell_type": "code",
   "execution_count": 18,
   "metadata": {},
   "outputs": [
    {
     "name": "stdout",
     "output_type": "stream",
     "text": [
      "3 5 7\n"
     ]
    }
   ],
   "source": [
    "x = 3; y=5; z=7\n",
    "print(x,y,z)"
   ]
  },
  {
   "cell_type": "markdown",
   "metadata": {},
   "source": [
    "Or we could use multiple statements in a single line like this:"
   ]
  },
  {
   "cell_type": "code",
   "execution_count": 19,
   "metadata": {},
   "outputs": [
    {
     "name": "stdout",
     "output_type": "stream",
     "text": [
      "3 5 7\n"
     ]
    }
   ],
   "source": [
    "x, y, z = 3, 5, 7\n",
    "print(x,y,z)"
   ]
  },
  {
   "cell_type": "markdown",
   "metadata": {},
   "source": [
    "# Python Comments"
   ]
  },
  {
   "cell_type": "markdown",
   "metadata": {},
   "source": [
    "*Comments* are very important while writing a program. We use the *hash* **(#)** symbol for writing a comment. *Comments* are more useful and facilitative for programmers, they provide better understanding of a program. Please feel free to use :)), because Python Interpreter **ignores** comments and **does not execute** them."
   ]
  },
  {
   "cell_type": "code",
   "execution_count": 20,
   "metadata": {},
   "outputs": [
    {
     "name": "stdout",
     "output_type": "stream",
     "text": [
      "Hello World!\n"
     ]
    }
   ],
   "source": [
    "# This is a comment.\n",
    "# print out Hello World!\n",
    "# Please get used to using comment lines.\n",
    "print('Hello World!')"
   ]
  },
  {
   "cell_type": "markdown",
   "metadata": {},
   "source": [
    "## Multi-line comments"
   ]
  },
  {
   "cell_type": "markdown",
   "metadata": {},
   "source": [
    "Triple quotes, either **' ' '** or **\" \" \"**, are generally used for multi-line strings. However, they can be used as multi-line comment as well."
   ]
  },
  {
   "cell_type": "code",
   "execution_count": 23,
   "metadata": {},
   "outputs": [
    {
     "data": {
      "text/plain": [
       "' This is an alternative \\nmethod for using multi-line comments\\nin your code '"
      ]
     },
     "execution_count": 23,
     "metadata": {},
     "output_type": "execute_result"
    }
   ],
   "source": [
    "\"\"\" This is also \n",
    "a perfect example of\n",
    "multi-line comments \"\"\"\n",
    "\n",
    "''' This is an alternative \n",
    "method for using multi-line comments\n",
    "in your code '''"
   ]
  },
  {
   "cell_type": "markdown",
   "metadata": {},
   "source": [
    "## Docstring in Python"
   ]
  },
  {
   "cell_type": "markdown",
   "metadata": {},
   "source": [
    "Docstring is short for documentation string. It is a *string* that occurs as the first statement in a *module*, *function*, *class*, or *method* definition. We should write what a function or class does in the docstring. Triple quotes are used while writing docstrings, for example:"
   ]
  },
  {
   "cell_type": "code",
   "execution_count": 29,
   "metadata": {},
   "outputs": [
    {
     "name": "stdout",
     "output_type": "stream",
     "text": [
      "5.4\n"
     ]
    },
    {
     "data": {
      "text/plain": [
       "10.8"
      ]
     },
     "execution_count": 29,
     "metadata": {},
     "output_type": "execute_result"
    }
   ],
   "source": [
    "def double(num):\n",
    "    \"\"\"Function to double the value\"\"\"\n",
    "    print(num)\n",
    "    return 2*num\n",
    "double(5.4)"
   ]
  },
  {
   "cell_type": "markdown",
   "metadata": {},
   "source": [
    "# Python Variables"
   ]
  },
  {
   "cell_type": "markdown",
   "metadata": {},
   "source": [
    "A variable is a named location used to store data in the memory. It is helpful to think of variables as a container that holds data which can be changed later throughout programming. For example:"
   ]
  },
  {
   "cell_type": "code",
   "execution_count": 30,
   "metadata": {},
   "outputs": [
    {
     "name": "stdout",
     "output_type": "stream",
     "text": [
      "100\n",
      "33.9\n",
      "Python\n"
     ]
    }
   ],
   "source": [
    "x = 100 # initialize and declare a value to x.\n",
    "print(x)\n",
    "x = 33.9 # assigning a new variable to x.\n",
    "print(x)\n",
    "x = \"Python\" # assigning a new variable again to x.\n",
    "print(x)"
   ]
  },
  {
   "cell_type": "markdown",
   "metadata": {},
   "source": [
    "Here is an example of assigning multiple values to multiple variables. Second example shows how to assign the same value to multiple variables at once."
   ]
  },
  {
   "cell_type": "code",
   "execution_count": 31,
   "metadata": {},
   "outputs": [
    {
     "name": "stdout",
     "output_type": "stream",
     "text": [
      "ali\n",
      "veli\n",
      "3.14\n",
      "77\n",
      "0 0 0 0\n"
     ]
    }
   ],
   "source": [
    "x, y, z, t = 'ali' , \"veli\", 3.14, 77\n",
    "print(x)\n",
    "print(y)\n",
    "print(z)\n",
    "print(t)\n",
    "\n",
    "x = y = z = t = 0\n",
    "print(x,y,z,t)"
   ]
  },
  {
   "cell_type": "markdown",
   "metadata": {},
   "source": [
    "# Constants"
   ]
  },
  {
   "cell_type": "markdown",
   "metadata": {},
   "source": [
    "A *constant* is a type of variable whose value **cannot be changed**. It is helpful to think of constants as containers that hold information which **cannot be changed** later."
   ]
  },
  {
   "cell_type": "markdown",
   "metadata": {},
   "source": [
    "Here is an example of assigning and declaring a value to a constant using files named as *numeric_constants.py* and *main_file_constants.py*."
   ]
  },
  {
   "cell_type": "markdown",
   "metadata": {},
   "source": [
    "Create a *numeric_constants.py* that includes the well-known constant variables."
   ]
  },
  {
   "cell_type": "raw",
   "metadata": {},
   "source": [
    "Euler = 2.718281\n",
    "Fi = 1.618033\n",
    "Gravity = 9.8\n",
    "Pi = 3.141592"
   ]
  },
  {
   "cell_type": "markdown",
   "metadata": {},
   "source": [
    "Create a *main_file_constants.py* that imports the *numeric_connstants.py* to use."
   ]
  },
  {
   "cell_type": "raw",
   "metadata": {},
   "source": [
    "import numeric_constants\n",
    "\n",
    "print(numeric_constants.Euler)\n",
    "print(numeric_constants.Fi)\n",
    "print(numeric_constants.Gravity)\n",
    "print(numeric_constants.Pi)"
   ]
  },
  {
   "cell_type": "markdown",
   "metadata": {},
   "source": [
    "Run the *main_file_constants* program."
   ]
  },
  {
   "cell_type": "code",
   "execution_count": 32,
   "metadata": {},
   "outputs": [
    {
     "name": "stdout",
     "output_type": "stream",
     "text": [
      "2.718281\n",
      "1.618033\n",
      "9.8\n",
      "3.141592\n"
     ]
    }
   ],
   "source": [
    "%run main_file_constants.py"
   ]
  },
  {
   "cell_type": "markdown",
   "metadata": {},
   "source": [
    "Actually, constants are not used in Python. As shown in the example above, the globals or constants module is used throughout the Python programs."
   ]
  },
  {
   "cell_type": "markdown",
   "metadata": {},
   "source": [
    "# Literals"
   ]
  },
  {
   "cell_type": "markdown",
   "metadata": {},
   "source": [
    "Literal is a raw data given in a variable or constant. In Python, there are various types of literals."
   ]
  },
  {
   "cell_type": "markdown",
   "metadata": {},
   "source": [
    "## Numeric Literals"
   ]
  },
  {
   "cell_type": "markdown",
   "metadata": {},
   "source": [
    "Numeric Literals are **immutable (unchangeable)**. Numeric literals can belong to 3 different numerical types *Integer*, *Float*, and *Complex*."
   ]
  },
  {
   "cell_type": "code",
   "execution_count": 38,
   "metadata": {},
   "outputs": [
    {
     "name": "stdout",
     "output_type": "stream",
     "text": [
      "10 100 200 300\n",
      "10.5 150.0\n",
      "3.14j 3.14 0.0\n"
     ]
    }
   ],
   "source": [
    "a = 0b1010 #Binary Literals\n",
    "b = 100 #Decimal Literal \n",
    "c = 0o310 #Octal Literal\n",
    "d = 0x12c #Hexadecimal Literal\n",
    "\n",
    "#Float Literal\n",
    "float_1 = 10.5 \n",
    "float_2 = 1.5e2\n",
    "\n",
    "#Complex Literal \n",
    "x = 3.14j\n",
    "\n",
    "print(a, b, c, d)\n",
    "print(float_1, float_2)\n",
    "print(x, x.imag, x.real)"
   ]
  },
  {
   "cell_type": "markdown",
   "metadata": {},
   "source": [
    "## String literals"
   ]
  },
  {
   "cell_type": "markdown",
   "metadata": {},
   "source": [
    "A string literal is a sequence of characters surrounded by **quotes**. We can use both **single, double or triple quotes** for a string. And, a character literal is a single character surrounded by **single or double quotes**."
   ]
  },
  {
   "cell_type": "code",
   "execution_count": 58,
   "metadata": {},
   "outputs": [
    {
     "name": "stdout",
     "output_type": "stream",
     "text": [
      "This is ACM114 Course for Python!\n",
      "A b\n",
      "This is a multiline string with more than one line code.\n",
      "Ümit or ölÜm\n",
      "Üzüm, çikolata, şeker, öteki, ılımlı\n",
      "raw \\n string \\n as \\n an \\n example\n"
     ]
    }
   ],
   "source": [
    "string = \"This is ACM114 Course for Python!\"\n",
    "char_1 = \"A\"\n",
    "char_2 = 'b'\n",
    "multiline_string = \"\"\"This is a multiline string with more than one line code.\"\"\"\n",
    "unicode = u\"\\u00dcmit\" + \" or \" + u\"\\u00f6l\\u00dcm\"\n",
    "string_2 = \"Üzüm, çikolata, şeker, öteki, ılımlı\"\n",
    "raw_string = r\"raw \\n string \\n as \\n an \\n example\"\n",
    "\n",
    "print(string)\n",
    "print(char_1, char_2)\n",
    "print(multiline_string)\n",
    "print(unicode)\n",
    "print(string_2)\n",
    "print(raw_string)"
   ]
  },
  {
   "cell_type": "markdown",
   "metadata": {},
   "source": [
    "## Boolean literals"
   ]
  },
  {
   "cell_type": "markdown",
   "metadata": {},
   "source": [
    "A Boolean literal can have any of the two values: *True* or *False*."
   ]
  },
  {
   "cell_type": "code",
   "execution_count": 51,
   "metadata": {},
   "outputs": [
    {
     "name": "stdout",
     "output_type": "stream",
     "text": [
      "x is True\n",
      "y is True\n",
      "first variable: 5\n",
      "second variable: 7\n"
     ]
    }
   ],
   "source": [
    "x = (0 == False)\n",
    "y = (1 == True)\n",
    "one = True + 4\n",
    "two = False + 7\n",
    "\n",
    "print(\"x is\", x)\n",
    "print(\"y is\", y)\n",
    "print(\"first variable:\", one)\n",
    "print(\"second variable:\", two)"
   ]
  },
  {
   "cell_type": "markdown",
   "metadata": {},
   "source": [
    "## Special literals"
   ]
  },
  {
   "cell_type": "markdown",
   "metadata": {},
   "source": [
    "Python contains one special literal i.e. *None*. We use it to specify to that field which is not created."
   ]
  },
  {
   "cell_type": "code",
   "execution_count": 56,
   "metadata": {},
   "outputs": [
    {
     "name": "stdout",
     "output_type": "stream",
     "text": [
      "Lion\n",
      "None\n"
     ]
    }
   ],
   "source": [
    "x = \"Lion\"\n",
    "y = None\n",
    "print(x)\n",
    "print(y)"
   ]
  },
  {
   "cell_type": "markdown",
   "metadata": {},
   "source": [
    "## Literal Collections"
   ]
  },
  {
   "cell_type": "markdown",
   "metadata": {},
   "source": [
    "There are four different literal collections: \n",
    "1. **List literals**, \n",
    "2. **Tuple literals**, \n",
    "3. **Dict literals**, and \n",
    "4. **Set literals**."
   ]
  },
  {
   "cell_type": "code",
   "execution_count": 57,
   "metadata": {},
   "outputs": [
    {
     "name": "stdout",
     "output_type": "stream",
     "text": [
      "['apple', 'banana', 'orange', 'melon', 'watermelon']\n",
      "(1, 2, 3, 4, 5, 6, 7, 8, 9, 10)\n",
      "{'a': 'apple', 'b': 'banana', 'c': 'carpet', 'd': 'dentist', 'e': 'example'}\n",
      "{'i', 'ü', 'ı', 'u', 'ö', 'a', 'o', 'e'}\n"
     ]
    }
   ],
   "source": [
    "fruits = [\"apple\", \"banana\", \"orange\", \"melon\", \"watermelon\"] #list\n",
    "numbers = (1, 2, 3, 4, 5, 6, 7, 8, 9, 10) #tuple\n",
    "alphabets = {'a':'apple', 'b':'banana', 'c':'carpet', 'd':'dentist', 'e':'example'} #dictionary\n",
    "vowels = {'a', 'e', 'ı', 'i', 'o', 'ö', 'u', 'ü'} #set\n",
    "\n",
    "print(fruits)\n",
    "print(numbers)\n",
    "print(alphabets)\n",
    "print(vowels)"
   ]
  },
  {
   "cell_type": "markdown",
   "metadata": {},
   "source": [
    "# Python Data Types "
   ]
  },
  {
   "cell_type": "markdown",
   "metadata": {},
   "source": [
    "Every value has a datatype in Python. Since everything is an **object** in Python programming, data types are actually classes and the variables are *instances* (object) of these classes."
   ]
  },
  {
   "cell_type": "markdown",
   "metadata": {},
   "source": [
    "## Python Numbers"
   ]
  },
  {
   "cell_type": "markdown",
   "metadata": {},
   "source": [
    "*Integers*, *floating point numbers* and *complex numbers* falls under Python numbers category. They are defined as **int**, **float** and **complex class** in Python.\n",
    "\n",
    "We can use the *type()* function to know which class a variable or a value belongs to and the *isinstance()* function to check if an object belongs to a particular class."
   ]
  },
  {
   "cell_type": "code",
   "execution_count": 59,
   "metadata": {},
   "outputs": [
    {
     "name": "stdout",
     "output_type": "stream",
     "text": [
      "21 is of type <class 'int'>\n",
      "23.0 is of type <class 'float'>\n",
      "(3+4j) is complex number? True\n"
     ]
    }
   ],
   "source": [
    "x = 21\n",
    "print(x, \"is of type\", type(x))\n",
    "\n",
    "x = 23.0\n",
    "print(x, \"is of type\", type(x))\n",
    "\n",
    "x = 3+4j\n",
    "print(x, \"is complex number?\", isinstance(3+4j,complex))"
   ]
  },
  {
   "cell_type": "markdown",
   "metadata": {},
   "source": [
    "*Integers* can be of any length, it is only limited by the memory available.\n",
    "\n",
    "*A floating point number* is accurate up to **15** decimal places. **Integer** and **floating points** are separated by decimal points.\n",
    "\n",
    "Complex numbers are written in the form, *x + yj*, where **x** is the **real part** and **y** is the **imaginary part**."
   ]
  },
  {
   "cell_type": "code",
   "execution_count": 61,
   "metadata": {},
   "outputs": [
    {
     "name": "stdout",
     "output_type": "stream",
     "text": [
      "1234567890123456789\n",
      "0.12345678901234568\n",
      "(3+4j)\n"
     ]
    }
   ],
   "source": [
    "x = 1234567890123456789\n",
    "print(x)\n",
    "y = 0.1234567890123456789\n",
    "print(y)\n",
    "z = 3+4j\n",
    "print(z)"
   ]
  },
  {
   "cell_type": "markdown",
   "metadata": {},
   "source": [
    "## Python List"
   ]
  },
  {
   "cell_type": "markdown",
   "metadata": {},
   "source": [
    "**List** is an ordered sequence of items. It is one of the most used datatype in Python and is very flexible. All the items in a list do not need to be of the same type. Declaring a list is pretty straight forward. Items separated by commas are enclosed within brackets **\\[ \\]**. For example:"
   ]
  },
  {
   "cell_type": "code",
   "execution_count": 64,
   "metadata": {},
   "outputs": [
    {
     "name": "stdout",
     "output_type": "stream",
     "text": [
      "[7, 7.7, 'Python', 'Java', 'C++']\n"
     ]
    }
   ],
   "source": [
    "lst_1 = [7, 7.7, 'Python', \"Java\", \"\"\"C++\"\"\"]\n",
    "print(lst_1)"
   ]
  },
  {
   "cell_type": "markdown",
   "metadata": {},
   "source": [
    "Lists are **mutable(!)**, meaning, value of elements of a list can be altered."
   ]
  },
  {
   "cell_type": "markdown",
   "metadata": {},
   "source": [
    "## Python Tuple"
   ]
  },
  {
   "cell_type": "markdown",
   "metadata": {},
   "source": [
    "**Tuple** is an ordered sequence of items same as list.The only difference is that tuples are **immutable(!)**. Tuples once created cannot be modified or changed. Tuples are used to write-protect data and are usually faster than list as it cannot change dynamically. It is defined within parentheses **( )** where items are separated by commas. For example:"
   ]
  },
  {
   "cell_type": "code",
   "execution_count": 65,
   "metadata": {},
   "outputs": [
    {
     "name": "stdout",
     "output_type": "stream",
     "text": [
      "(7, 7.7, 'Python', (3+4j), 'Java', 'C++')\n"
     ]
    }
   ],
   "source": [
    "tpl_1 = (7, 7.7, 'Python', 3+4j, \"Java\", \"\"\"C++\"\"\")\n",
    "print(tpl_1)"
   ]
  },
  {
   "cell_type": "markdown",
   "metadata": {},
   "source": [
    "## Python Strings"
   ]
  },
  {
   "cell_type": "markdown",
   "metadata": {},
   "source": [
    "**String** is sequence of *Unicode* characters. We can use single quotes or double quotes to represent strings. Multi-line strings can be denoted using triple quotes, **'''** or **\"\"\"**. *Strings* are **immutable(!)**."
   ]
  },
  {
   "cell_type": "code",
   "execution_count": 69,
   "metadata": {},
   "outputs": [
    {
     "name": "stdout",
     "output_type": "stream",
     "text": [
      "ACM 114 - Python\n",
      "this is a multiline-string\n",
      "this is an other multiline-string\n"
     ]
    }
   ],
   "source": [
    "str_1 = \"ACM 114 - Python\"\n",
    "str_2 = '''this is a multiline-string'''\n",
    "str_3 = \"\"\"this is an other multiline-string\"\"\"\n",
    "print(str_1)\n",
    "print(str_2)\n",
    "print(str_3)"
   ]
  },
  {
   "cell_type": "markdown",
   "metadata": {},
   "source": [
    "## Python Set"
   ]
  },
  {
   "cell_type": "markdown",
   "metadata": {},
   "source": [
    "**Set** is an unordered collection of unique items. Set is defined by values separated by comma inside braces **{ }**. Items in a set are not orderly presented."
   ]
  },
  {
   "cell_type": "code",
   "execution_count": 70,
   "metadata": {},
   "outputs": [
    {
     "name": "stdout",
     "output_type": "stream",
     "text": [
      "set_1 =  {1, 2, 3, 4, 5}\n",
      "<class 'set'>\n"
     ]
    }
   ],
   "source": [
    "set_1 = {5,2,3,1,4}\n",
    "\n",
    "# printing set variable\n",
    "print(\"set_1 = \", set_1)\n",
    "\n",
    "# data type of variable set_1\n",
    "print(type(set_1))"
   ]
  },
  {
   "cell_type": "markdown",
   "metadata": {},
   "source": [
    "## Python Dictionary"
   ]
  },
  {
   "cell_type": "markdown",
   "metadata": {},
   "source": [
    "**Dictionary** is an unordered collection of *key-value pairs*. It is generally used when we have a huge amount of data. Dictionaries are optimized for retrieving data. We must know the key to retrieve the value. In Python, dictionaries are defined within braces **{ }** with each item being a pair in the form *key:value*. Key and value can be of any type."
   ]
  },
  {
   "cell_type": "code",
   "execution_count": 75,
   "metadata": {},
   "outputs": [
    {
     "data": {
      "text/plain": [
       "dict"
      ]
     },
     "execution_count": 75,
     "metadata": {},
     "output_type": "execute_result"
    }
   ],
   "source": [
    "dict_1 = {1:'apple', 2:'banana'}\n",
    "type(dict_1)\n",
    "# print(dict_1)\n",
    "# print(type(dict_1))"
   ]
  },
  {
   "cell_type": "markdown",
   "metadata": {},
   "source": [
    "## Conversion between data types"
   ]
  },
  {
   "cell_type": "markdown",
   "metadata": {},
   "source": [
    "We can convert between different data types by using different type conversion functions like *int()*, *float()*, *str()* etc.\n",
    "\n",
    "1. Conversion from float to int will truncate the value (make it closer to zero).\n",
    "\n",
    "2. Conversion to and from string must contain compatible values.\n",
    "\n",
    "For examples:"
   ]
  },
  {
   "cell_type": "code",
   "execution_count": 76,
   "metadata": {},
   "outputs": [
    {
     "data": {
      "text/plain": [
       "25.0"
      ]
     },
     "execution_count": 76,
     "metadata": {},
     "output_type": "execute_result"
    }
   ],
   "source": [
    "float(25)"
   ]
  },
  {
   "cell_type": "code",
   "execution_count": 77,
   "metadata": {},
   "outputs": [
    {
     "data": {
      "text/plain": [
       "7"
      ]
     },
     "execution_count": 77,
     "metadata": {},
     "output_type": "execute_result"
    }
   ],
   "source": [
    "int(7.8)"
   ]
  },
  {
   "cell_type": "code",
   "execution_count": 78,
   "metadata": {},
   "outputs": [
    {
     "data": {
      "text/plain": [
       "-7"
      ]
     },
     "execution_count": 78,
     "metadata": {},
     "output_type": "execute_result"
    }
   ],
   "source": [
    "int(-7.8)"
   ]
  },
  {
   "cell_type": "code",
   "execution_count": 79,
   "metadata": {},
   "outputs": [
    {
     "data": {
      "text/plain": [
       "-7"
      ]
     },
     "execution_count": 79,
     "metadata": {},
     "output_type": "execute_result"
    }
   ],
   "source": [
    "int(-7.2)"
   ]
  },
  {
   "cell_type": "code",
   "execution_count": 80,
   "metadata": {},
   "outputs": [
    {
     "data": {
      "text/plain": [
       "3.7"
      ]
     },
     "execution_count": 80,
     "metadata": {},
     "output_type": "execute_result"
    }
   ],
   "source": [
    "float('3.7')"
   ]
  },
  {
   "cell_type": "code",
   "execution_count": 105,
   "metadata": {},
   "outputs": [
    {
     "data": {
      "text/plain": [
       "77"
      ]
     },
     "execution_count": 105,
     "metadata": {},
     "output_type": "execute_result"
    }
   ],
   "source": [
    "int('77')"
   ]
  },
  {
   "cell_type": "code",
   "execution_count": 106,
   "metadata": {},
   "outputs": [
    {
     "ename": "ValueError",
     "evalue": "invalid literal for int() with base 10: '2+3'",
     "output_type": "error",
     "traceback": [
      "\u001b[1;31m---------------------------------------------------------------------------\u001b[0m",
      "\u001b[1;31mValueError\u001b[0m                                Traceback (most recent call last)",
      "\u001b[1;32m<ipython-input-106-7dc57dc68b93>\u001b[0m in \u001b[0;36m<module>\u001b[1;34m\u001b[0m\n\u001b[1;32m----> 1\u001b[1;33m \u001b[0mint\u001b[0m\u001b[1;33m(\u001b[0m\u001b[1;34m'2+3'\u001b[0m\u001b[1;33m)\u001b[0m\u001b[1;33m\u001b[0m\u001b[1;33m\u001b[0m\u001b[0m\n\u001b[0m",
      "\u001b[1;31mValueError\u001b[0m: invalid literal for int() with base 10: '2+3'"
     ]
    }
   ],
   "source": [
    "int('2+3')"
   ]
  },
  {
   "cell_type": "code",
   "execution_count": 107,
   "metadata": {},
   "outputs": [
    {
     "data": {
      "text/plain": [
       "5"
      ]
     },
     "execution_count": 107,
     "metadata": {},
     "output_type": "execute_result"
    }
   ],
   "source": [
    "eval('2+3')"
   ]
  },
  {
   "cell_type": "code",
   "execution_count": 81,
   "metadata": {},
   "outputs": [
    {
     "data": {
      "text/plain": [
       "'33'"
      ]
     },
     "execution_count": 81,
     "metadata": {},
     "output_type": "execute_result"
    }
   ],
   "source": [
    "str(33)"
   ]
  },
  {
   "cell_type": "code",
   "execution_count": 82,
   "metadata": {},
   "outputs": [
    {
     "data": {
      "text/plain": [
       "'33.9'"
      ]
     },
     "execution_count": 82,
     "metadata": {},
     "output_type": "execute_result"
    }
   ],
   "source": [
    "str(33.9)"
   ]
  },
  {
   "cell_type": "code",
   "execution_count": 83,
   "metadata": {},
   "outputs": [
    {
     "ename": "ValueError",
     "evalue": "invalid literal for int() with base 10: 'ali'",
     "output_type": "error",
     "traceback": [
      "\u001b[1;31m---------------------------------------------------------------------------\u001b[0m",
      "\u001b[1;31mValueError\u001b[0m                                Traceback (most recent call last)",
      "\u001b[1;32m<ipython-input-83-c68f3a9cbbd7>\u001b[0m in \u001b[0;36m<module>\u001b[1;34m\u001b[0m\n\u001b[1;32m----> 1\u001b[1;33m \u001b[0mint\u001b[0m\u001b[1;33m(\u001b[0m\u001b[1;34m'ali'\u001b[0m\u001b[1;33m)\u001b[0m\u001b[1;33m\u001b[0m\u001b[1;33m\u001b[0m\u001b[0m\n\u001b[0m",
      "\u001b[1;31mValueError\u001b[0m: invalid literal for int() with base 10: 'ali'"
     ]
    }
   ],
   "source": [
    "int('ali')"
   ]
  },
  {
   "cell_type": "markdown",
   "metadata": {},
   "source": [
    "## Type Conversion"
   ]
  },
  {
   "cell_type": "markdown",
   "metadata": {},
   "source": [
    "The process of converting the value of one data type (integer, string, float, etc.) to another data type is called *type conversion*. Python has two types of type conversion.\n",
    "\n",
    "1. **Implicit Type Conversion**\n",
    "2. **Explicit Type Conversion**\n"
   ]
  },
  {
   "cell_type": "markdown",
   "metadata": {},
   "source": [
    "### Implicit Type Conversion"
   ]
  },
  {
   "cell_type": "markdown",
   "metadata": {},
   "source": [
    "In *Implicit type conversion*, Python automatically converts one data type to another data type. This process doesn't need any user involvement."
   ]
  },
  {
   "cell_type": "code",
   "execution_count": 86,
   "metadata": {},
   "outputs": [
    {
     "name": "stdout",
     "output_type": "stream",
     "text": [
      "Data type of int_number: <class 'int'>\n",
      "Data type of float_number: <class 'float'>\n",
      "Value of newNumber: 351.78\n",
      "Data type of newNumber: <class 'float'>\n"
     ]
    }
   ],
   "source": [
    "int_number = 345\n",
    "float_number = 6.78\n",
    "\n",
    "newNumber = int_number + float_number\n",
    "\n",
    "print(\"Data type of int_number:\",type(int_number))\n",
    "print(\"Data type of float_number:\",type(float_number))\n",
    "\n",
    "print(\"Value of newNumber:\",newNumber)\n",
    "print(\"Data type of newNumber:\",type(newNumber))"
   ]
  },
  {
   "cell_type": "code",
   "execution_count": 87,
   "metadata": {},
   "outputs": [
    {
     "name": "stdout",
     "output_type": "stream",
     "text": [
      "Data type of int_number: <class 'int'>\n",
      "Data type of num_str: <class 'str'>\n"
     ]
    },
    {
     "ename": "TypeError",
     "evalue": "unsupported operand type(s) for +: 'int' and 'str'",
     "output_type": "error",
     "traceback": [
      "\u001b[1;31m---------------------------------------------------------------------------\u001b[0m",
      "\u001b[1;31mTypeError\u001b[0m                                 Traceback (most recent call last)",
      "\u001b[1;32m<ipython-input-87-266b5465df96>\u001b[0m in \u001b[0;36m<module>\u001b[1;34m\u001b[0m\n\u001b[0;32m      5\u001b[0m \u001b[0mprint\u001b[0m\u001b[1;33m(\u001b[0m\u001b[1;34m\"Data type of num_str:\"\u001b[0m\u001b[1;33m,\u001b[0m\u001b[0mtype\u001b[0m\u001b[1;33m(\u001b[0m\u001b[0mstr_number\u001b[0m\u001b[1;33m)\u001b[0m\u001b[1;33m)\u001b[0m\u001b[1;33m\u001b[0m\u001b[1;33m\u001b[0m\u001b[0m\n\u001b[0;32m      6\u001b[0m \u001b[1;33m\u001b[0m\u001b[0m\n\u001b[1;32m----> 7\u001b[1;33m \u001b[0mprint\u001b[0m\u001b[1;33m(\u001b[0m\u001b[0mint_number\u001b[0m \u001b[1;33m+\u001b[0m \u001b[0mstr_number\u001b[0m\u001b[1;33m)\u001b[0m\u001b[1;33m\u001b[0m\u001b[1;33m\u001b[0m\u001b[0m\n\u001b[0m",
      "\u001b[1;31mTypeError\u001b[0m: unsupported operand type(s) for +: 'int' and 'str'"
     ]
    }
   ],
   "source": [
    "int_number = 345\n",
    "str_number = \"456\"\n",
    "\n",
    "print(\"Data type of int_number:\",type(int_number))\n",
    "print(\"Data type of num_str:\",type(str_number))\n",
    "\n",
    "print(int_number + str_number)"
   ]
  },
  {
   "cell_type": "markdown",
   "metadata": {},
   "source": [
    "### Explicit Type Conversion"
   ]
  },
  {
   "cell_type": "markdown",
   "metadata": {},
   "source": [
    "In *Explicit Type Conversion*, users convert the data type of an object to required data type. We use the predefined functions like **int()**, **float()**, **str()**, etc to perform explicit type conversion. \n",
    "\n",
    "This type conversion is also called **typecasting** because the user casts (change) the data type of the objects."
   ]
  },
  {
   "cell_type": "code",
   "execution_count": 90,
   "metadata": {},
   "outputs": [
    {
     "name": "stdout",
     "output_type": "stream",
     "text": [
      "Data type of int_number: <class 'int'>\n",
      "Data type of str_number before Type Casting: <class 'str'>\n",
      "Data type of str_number after Type Casting: <class 'int'>\n",
      "Sum of int_number and str_number: 888\n",
      "Data type of the sum: <class 'int'>\n"
     ]
    }
   ],
   "source": [
    "int_number = 345\n",
    "str_number = \"543\"\n",
    "\n",
    "print(\"Data type of int_number:\",type(int_number))\n",
    "print(\"Data type of str_number before Type Casting:\",type(str_number))\n",
    "\n",
    "str_number = int(str_number)\n",
    "print(\"Data type of str_number after Type Casting:\",type(str_number))\n",
    "\n",
    "sumOfNumbers = int_number + str_number\n",
    "\n",
    "print(\"Sum of int_number and str_number:\",sumOfNumbers)\n",
    "print(\"Data type of the sum:\",type(sumOfNumbers))"
   ]
  },
  {
   "cell_type": "markdown",
   "metadata": {},
   "source": [
    "# Python Input, Output and Import"
   ]
  },
  {
   "cell_type": "markdown",
   "metadata": {},
   "source": [
    "Python provides numerous **built-in functions** that are readily available to us at the Python prompt. Some of the functions like *input()* and *print()* are widely used for standard input and output operations respectively."
   ]
  },
  {
   "cell_type": "markdown",
   "metadata": {},
   "source": [
    "## Python Output Using print() function"
   ]
  },
  {
   "cell_type": "markdown",
   "metadata": {},
   "source": [
    "We use the *print()* function to output data to the standard output device (screen)."
   ]
  },
  {
   "cell_type": "code",
   "execution_count": 94,
   "metadata": {},
   "outputs": [
    {
     "name": "stdout",
     "output_type": "stream",
     "text": [
      "This sentence is output to the screen\n",
      "The value of x is 333\n"
     ]
    }
   ],
   "source": [
    "print('This sentence is output to the screen')\n",
    "# Output_1: This sentence is output to the screen\n",
    "\n",
    "x = 333\n",
    "\n",
    "print('The value of x is', x)\n",
    "# Output_2: The value of x is 333"
   ]
  },
  {
   "cell_type": "markdown",
   "metadata": {},
   "source": [
    "The actual syntax of the *print()* function is:\n",
    "\n",
    "print(*objects, sep=' ', end='\\n', file=sys.stdout, flush=False)  \n",
    "\n",
    "where **objects** is the value(s) to be printed. \n",
    "\n",
    "The **sep** separator is used between the values. It defaults into a space character.\n",
    "\n",
    "After all values are printed, **end** is printed. It defaults into a new line.\n",
    "\n",
    "The **file** is the object where the values are printed and its default value is *sys.stdout* (screen)."
   ]
  },
  {
   "cell_type": "code",
   "execution_count": 95,
   "metadata": {},
   "outputs": [
    {
     "name": "stdout",
     "output_type": "stream",
     "text": [
      "1 2 3 4\n",
      "1*2*3*4\n",
      "1#2#3#4&"
     ]
    }
   ],
   "source": [
    "print(1,2,3,4)\n",
    "# Output_1: 1 2 3 4\n",
    "\n",
    "print(1,2,3,4,sep='*')\n",
    "# Output_2: 1*2*3*4\n",
    "\n",
    "print(1,2,3,4,sep='#',end='&')\n",
    "# Output_3: 1#2#3#4&"
   ]
  },
  {
   "cell_type": "markdown",
   "metadata": {},
   "source": [
    "## Output formatting with different examples using *print()* function"
   ]
  },
  {
   "cell_type": "markdown",
   "metadata": {},
   "source": [
    "Using *str.format()* method:"
   ]
  },
  {
   "cell_type": "code",
   "execution_count": 96,
   "metadata": {},
   "outputs": [
    {
     "name": "stdout",
     "output_type": "stream",
     "text": [
      "The value of x is 3 and y is 4.5\n"
     ]
    }
   ],
   "source": [
    "x = 3; \n",
    "y = 4.5\n",
    "print('The value of x is {} and y is {}'.format(x,y))"
   ]
  },
  {
   "cell_type": "code",
   "execution_count": 97,
   "metadata": {},
   "outputs": [
    {
     "name": "stdout",
     "output_type": "stream",
     "text": [
      "I like music, theatre and dance.\n",
      "I like dance, music and theatre.\n"
     ]
    }
   ],
   "source": [
    "print('I like {0}, {1} and {2}.'.format('music','theatre','dance'))\n",
    "# Output_1: I like music, theatre and dance.\n",
    "\n",
    "print('I like {2}, {0} and {1}.'.format('music','theatre','dance'))\n",
    "# Output_2: I like dance, music and theatre."
   ]
  },
  {
   "cell_type": "code",
   "execution_count": 98,
   "metadata": {},
   "outputs": [
    {
     "name": "stdout",
     "output_type": "stream",
     "text": [
      "Hello Cihan, Good morning my friend!\n"
     ]
    }
   ],
   "source": [
    "print('Hello {name}, {greeting}'.format(name = 'Cihan', greeting = 'Good morning my friend!'))"
   ]
  },
  {
   "cell_type": "markdown",
   "metadata": {},
   "source": [
    "We can even format strings like the old *sprintf()* style used in C programming language. We use the % operator to accomplish this."
   ]
  },
  {
   "cell_type": "code",
   "execution_count": 100,
   "metadata": {},
   "outputs": [
    {
     "name": "stdout",
     "output_type": "stream",
     "text": [
      "The value of no_1 is 123.46\n",
      "The value of no_1 is 123.4568\n"
     ]
    }
   ],
   "source": [
    "no_1 = 123.456789\n",
    "print('The value of no_1 is %3.2f' %no_1)\n",
    "print('The value of no_1 is %3.4f' %no_1)"
   ]
  },
  {
   "cell_type": "markdown",
   "metadata": {},
   "source": [
    "# Python Input"
   ]
  },
  {
   "cell_type": "markdown",
   "metadata": {},
   "source": [
    "To allow flexibility, we might want to take the input from the user. In Python, we have the *input()* function to allow this."
   ]
  },
  {
   "cell_type": "code",
   "execution_count": 103,
   "metadata": {},
   "outputs": [
    {
     "name": "stdout",
     "output_type": "stream",
     "text": [
      "Enter a number: 12345\n"
     ]
    },
    {
     "data": {
      "text/plain": [
       "'12345'"
      ]
     },
     "execution_count": 103,
     "metadata": {},
     "output_type": "execute_result"
    }
   ],
   "source": [
    "number = input('Enter a number: ')\n",
    "number\n",
    "# print(number)"
   ]
  },
  {
   "cell_type": "code",
   "execution_count": 108,
   "metadata": {},
   "outputs": [
    {
     "name": "stdout",
     "output_type": "stream",
     "text": [
      "Enter a number: 12345\n"
     ]
    },
    {
     "data": {
      "text/plain": [
       "12345"
      ]
     },
     "execution_count": 108,
     "metadata": {},
     "output_type": "execute_result"
    }
   ],
   "source": [
    "number = int(input('Enter a number: '))\n",
    "number\n",
    "# print(number)"
   ]
  },
  {
   "cell_type": "code",
   "execution_count": 109,
   "metadata": {},
   "outputs": [
    {
     "name": "stdout",
     "output_type": "stream",
     "text": [
      "Enter a number: 12.345\n"
     ]
    },
    {
     "data": {
      "text/plain": [
       "12.345"
      ]
     },
     "execution_count": 109,
     "metadata": {},
     "output_type": "execute_result"
    }
   ],
   "source": [
    "number = float(input('Enter a number: '))\n",
    "number\n",
    "# print(number)"
   ]
  },
  {
   "cell_type": "code",
   "execution_count": 112,
   "metadata": {},
   "outputs": [
    {
     "name": "stdout",
     "output_type": "stream",
     "text": [
      "Enter a string: ACM 114\n"
     ]
    },
    {
     "data": {
      "text/plain": [
       "'ACM 114'"
      ]
     },
     "execution_count": 112,
     "metadata": {},
     "output_type": "execute_result"
    }
   ],
   "source": [
    "string = str(input('Enter a string: '))\n",
    "string\n",
    "# print(number)"
   ]
  },
  {
   "cell_type": "markdown",
   "metadata": {},
   "source": [
    "# Python Import"
   ]
  },
  {
   "cell_type": "markdown",
   "metadata": {},
   "source": [
    "A *module* is a file containing Python definitions and statements. \n",
    "\n",
    "*Python modules* have a filename and end with the extension **.py**.\n",
    "\n",
    "Definitions inside a module can be imported to another module or the interactive interpreter in Python. We use the *import* keyword to do this.\n",
    "\n",
    "Here is an example:"
   ]
  },
  {
   "cell_type": "code",
   "execution_count": 113,
   "metadata": {},
   "outputs": [
    {
     "name": "stdout",
     "output_type": "stream",
     "text": [
      "3.141592653589793\n"
     ]
    }
   ],
   "source": [
    "import math\n",
    "print(math.pi)"
   ]
  },
  {
   "cell_type": "code",
   "execution_count": 116,
   "metadata": {},
   "outputs": [
    {
     "data": {
      "text/plain": [
       "3.141592653589793"
      ]
     },
     "execution_count": 116,
     "metadata": {},
     "output_type": "execute_result"
    }
   ],
   "source": [
    "from math import pi\n",
    "pi\n",
    "# print(pi)"
   ]
  },
  {
   "cell_type": "code",
   "execution_count": 117,
   "metadata": {},
   "outputs": [
    {
     "data": {
      "text/plain": [
       "3.141592653589793"
      ]
     },
     "execution_count": 117,
     "metadata": {},
     "output_type": "execute_result"
    }
   ],
   "source": [
    "from math import *\n",
    "pi\n",
    "# print(pi)"
   ]
  },
  {
   "cell_type": "code",
   "execution_count": 118,
   "metadata": {},
   "outputs": [
    {
     "name": "stdout",
     "output_type": "stream",
     "text": [
      "3.141592653589793\n"
     ]
    }
   ],
   "source": [
    "import math as m\n",
    "print(m.pi)"
   ]
  },
  {
   "cell_type": "code",
   "execution_count": 121,
   "metadata": {},
   "outputs": [
    {
     "data": {
      "text/plain": [
       "['C:\\\\Users\\\\cihan\\\\Desktop',\n",
       " 'C:\\\\Users\\\\cihan\\\\Anaconda3\\\\python37.zip',\n",
       " 'C:\\\\Users\\\\cihan\\\\Anaconda3\\\\DLLs',\n",
       " 'C:\\\\Users\\\\cihan\\\\Anaconda3\\\\lib',\n",
       " 'C:\\\\Users\\\\cihan\\\\Anaconda3',\n",
       " '',\n",
       " 'C:\\\\Users\\\\cihan\\\\AppData\\\\Roaming\\\\Python\\\\Python37\\\\site-packages',\n",
       " 'C:\\\\Users\\\\cihan\\\\Anaconda3\\\\lib\\\\site-packages',\n",
       " 'C:\\\\Users\\\\cihan\\\\Anaconda3\\\\lib\\\\site-packages\\\\win32',\n",
       " 'C:\\\\Users\\\\cihan\\\\Anaconda3\\\\lib\\\\site-packages\\\\win32\\\\lib',\n",
       " 'C:\\\\Users\\\\cihan\\\\Anaconda3\\\\lib\\\\site-packages\\\\Pythonwin',\n",
       " 'C:\\\\Users\\\\cihan\\\\Anaconda3\\\\lib\\\\site-packages\\\\IPython\\\\extensions',\n",
       " 'C:\\\\Users\\\\cihan\\\\.ipython']"
      ]
     },
     "execution_count": 121,
     "metadata": {},
     "output_type": "execute_result"
    }
   ],
   "source": [
    "import sys\n",
    "sys.path\n",
    "# print(sys.path)"
   ]
  },
  {
   "cell_type": "markdown",
   "metadata": {},
   "source": [
    "# Python Operators"
   ]
  },
  {
   "cell_type": "markdown",
   "metadata": {},
   "source": [
    "*Operators* are special symbols in Python that carry out arithmetic or logical computation. The value that the operator operates on is called the **operand**."
   ]
  },
  {
   "cell_type": "code",
   "execution_count": 124,
   "metadata": {},
   "outputs": [
    {
     "data": {
      "text/plain": [
       "11"
      ]
     },
     "execution_count": 124,
     "metadata": {},
     "output_type": "execute_result"
    }
   ],
   "source": [
    "5+6"
   ]
  },
  {
   "cell_type": "markdown",
   "metadata": {},
   "source": [
    "Here, + is the **operator** that performs addition. *5* and *6* are the **operands** and *11* is the **output** of the operation."
   ]
  },
  {
   "cell_type": "markdown",
   "metadata": {},
   "source": [
    "## Arithmetic operators"
   ]
  },
  {
   "cell_type": "markdown",
   "metadata": {},
   "source": [
    "Arithmetic operators are used to perform mathematical operations like *addition*, *subtraction*, *multiplication* etc."
   ]
  },
  {
   "cell_type": "code",
   "execution_count": 125,
   "metadata": {},
   "outputs": [
    {
     "name": "stdout",
     "output_type": "stream",
     "text": [
      "x + y = 14\n",
      "x - y = 6\n",
      "x * y = 40\n",
      "x / y = 2.5\n",
      "x // y = 2\n",
      "x ** y = 10000\n"
     ]
    }
   ],
   "source": [
    "x = 10\n",
    "y = 4\n",
    "# Output_1: x + y = 14\n",
    "print('x + y =',x+y)\n",
    "# Output_2: x - y = 6\n",
    "print('x - y =',x-y)\n",
    "# Output_3: x * y = 40\n",
    "print('x * y =',x*y)\n",
    "# Output_4: x / y = 2.5\n",
    "print('x / y =',x/y)\n",
    "# Output_5: x // y = 2\n",
    "print('x // y =',x//y)\n",
    "# Output_6: x ** y = 10000\n",
    "print('x ** y =',x**y)"
   ]
  },
  {
   "cell_type": "markdown",
   "metadata": {},
   "source": [
    "# Python Namespace and Scope"
   ]
  },
  {
   "cell_type": "markdown",
   "metadata": {},
   "source": [
    "## What is Name in Python?"
   ]
  },
  {
   "cell_type": "markdown",
   "metadata": {},
   "source": [
    "*Name* (also called **identifier**) is simply a name given to objects. Everything in Python is an **object**. *Name* is a way to access the underlying object.\n",
    "\n",
    "For example, when we do the assignment *x = 2*, here *2* is an object stored in memory and *x* is the name we associate it with. We can get the address (in RAM) of some object through *the built-in function*, **id()**. Let's check it."
   ]
  },
  {
   "cell_type": "code",
   "execution_count": 130,
   "metadata": {},
   "outputs": [
    {
     "name": "stdout",
     "output_type": "stream",
     "text": [
      "id(2) = 140703923282352\n",
      "id(x) = 140703923282352\n"
     ]
    }
   ],
   "source": [
    "# Note: You may get different value of id\n",
    "\n",
    "x = 2\n",
    "\n",
    "# Output_1: id(2)= 140703923282352\n",
    "print('id(2) =', id(2))\n",
    "\n",
    "# Output_2: id(x) = 140703923282352\n",
    "print('id(x) =', id(x))"
   ]
  },
  {
   "cell_type": "code",
   "execution_count": 131,
   "metadata": {},
   "outputs": [
    {
     "name": "stdout",
     "output_type": "stream",
     "text": [
      "id(x) = 140703923282352\n",
      "id(x) = 140703923282384\n",
      "id(3) = 140703923282384\n",
      "id(2) = 140703923282352\n",
      "id(y) = 140703923282352\n"
     ]
    }
   ],
   "source": [
    "# Note: You may get different value of id\n",
    "\n",
    "x = 2\n",
    "\n",
    "# Output_1: id(x) = 140703923282352\n",
    "print('id(x) =', id(x))\n",
    "\n",
    "x = x+1\n",
    "\n",
    "# Output_2: id(x) = 140703923282384\n",
    "print('id(x) =', id(x))\n",
    "\n",
    "# Output_3: id(3) = 140703923282384\n",
    "print('id(3) =', id(3))\n",
    "\n",
    "y = 2\n",
    "\n",
    "# Output_4: id(2)= 140703923282352\n",
    "print('id(2) =', id(2))\n",
    "\n",
    "# Output_5: id(y)= 140703923282352\n",
    "print('id(y) =', id(y))"
   ]
  },
  {
   "cell_type": "markdown",
   "metadata": {},
   "source": [
    "# Turtle Examples"
   ]
  },
  {
   "cell_type": "code",
   "execution_count": 132,
   "metadata": {},
   "outputs": [],
   "source": [
    "from turtle import *        # turtle (kaplumbağa) kütüphanesini kullan\n",
    "space = Screen()            # kaplumbağanın kullanımı için space adında bir ekran nesnesi tanımla\n",
    "alex = Turtle()             # alex adında bir kaplumbağa nesnesi tanımla\n",
    "alex.forward(150)           # alex objesi 150 birim ileri gitsin\n",
    "alex.left(90)               # alex objesi 90 derece sola dönsün\n",
    "alex.forward(75)            # alex objesi 75 birim ileri gitsin"
   ]
  },
  {
   "cell_type": "code",
   "execution_count": 1,
   "metadata": {},
   "outputs": [],
   "source": [
    "from turtle import *        # turtle (kaplumbağa) kütüphanesini kullan\n",
    "space = Screen()            # kaplumbağanın kullanımı için space adında bir ekran nesnesi tanımla\n",
    "zari = Turtle()             # zari adında bir turtle (kaplumbağa) nesnesi tanımla\n",
    "zari.setheading(90)         # Başlangıç noktasını kuzey olarak ata\n",
    "zari.forward(100)           # zariye ileri 100 birim ilerlemesini söyle\n",
    "zari.right(90)              # zari 90 derece sağa dönsün\n",
    "zari.forward(100)           # zariye ileri 100 birim ilerlemesini söyle\n",
    "zari.right(90)              # zari 90 derece sağa dönsün\n",
    "zari.forward(100)           # zariye ileri 100 birim ilerlemesini söyle\n",
    "zari.right(90)              # zari 90 derece sağa dönsün\n",
    "zari.forward(100)           # zariye ileri 100 birim ilerlemesini söyle\n",
    "zari.right(90)              # zari 90 derece sağa dönsün"
   ]
  },
  {
   "cell_type": "code",
   "execution_count": null,
   "metadata": {},
   "outputs": [],
   "source": []
  }
 ],
 "metadata": {
  "kernelspec": {
   "display_name": "Python 3",
   "language": "python",
   "name": "python3"
  },
  "language_info": {
   "codemirror_mode": {
    "name": "ipython",
    "version": 3
   },
   "file_extension": ".py",
   "mimetype": "text/x-python",
   "name": "python",
   "nbconvert_exporter": "python",
   "pygments_lexer": "ipython3",
   "version": "3.7.4"
  }
 },
 "nbformat": 4,
 "nbformat_minor": 2
}
