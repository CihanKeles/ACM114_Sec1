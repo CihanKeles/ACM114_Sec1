{
 "cells": [
  {
   "cell_type": "code",
   "execution_count": 5,
   "metadata": {},
   "outputs": [
    {
     "name": "stdout",
     "output_type": "stream",
     "text": [
      "5040\n",
      "\n",
      "5040\n",
      "\n",
      "Factorial has been called with n = 7\n",
      "Factorial has been called with n = 6\n",
      "Factorial has been called with n = 5\n",
      "Factorial has been called with n = 4\n",
      "Factorial has been called with n = 3\n",
      "Factorial has been called with n = 2\n",
      "Factorial has been called with n = 1\n",
      "Intermediate result for  2  * factorial( 1 ):  2\n",
      "Intermediate result for  3  * factorial( 2 ):  6\n",
      "Intermediate result for  4  * factorial( 3 ):  24\n",
      "Intermediate result for  5  * factorial( 4 ):  120\n",
      "Intermediate result for  6  * factorial( 5 ):  720\n",
      "Intermediate result for  7  * factorial( 6 ):  5040\n",
      "5040\n"
     ]
    }
   ],
   "source": [
    "def iterative_factorial(n):\n",
    "    result = 1 \n",
    "    for i in range(2, n+1):\n",
    "        result *= i\n",
    "    return result\n",
    "\n",
    "def recursive_factorial(n):\n",
    "    if n == 1:\n",
    "        return 1\n",
    "    else:\n",
    "        return n * recursive_factorial(n-1)\n",
    "    \n",
    "def factorial_each_recursion(n):\n",
    "    print(\"Factorial has been called with n = \" + str(n))\n",
    "    if n == 1:\n",
    "        return 1\n",
    "    else:\n",
    "        fact = n * factorial_each_recursion(n-1)\n",
    "        print(\"Intermediate result for \", n, \" * factorial(\", n-1, \"): \", fact)\n",
    "        return fact\n",
    "    \n",
    "print(iterative_factorial(7))\n",
    "print()\n",
    "print(recursive_factorial(7))\n",
    "print()\n",
    "print(factorial_each_recursion(7))"
   ]
  },
  {
   "cell_type": "code",
   "execution_count": 7,
   "metadata": {},
   "outputs": [
    {
     "name": "stdout",
     "output_type": "stream",
     "text": [
      "Enter the number of series: 10\n",
      "The first 10 numbers in the Fibonacci series are:\n",
      "0\n",
      "1\n",
      "1\n",
      "2\n",
      "3\n",
      "5\n",
      "8\n",
      "13\n",
      "21\n",
      "34\n",
      "55\n",
      "\n",
      "0\n",
      "1\n",
      "1\n",
      "2\n",
      "3\n",
      "5\n",
      "8\n",
      "13\n",
      "21\n",
      "34\n",
      "55\n",
      "\n",
      "55\n",
      "\n",
      "55\n"
     ]
    }
   ],
   "source": [
    "def iterative_fibonacci(n):\n",
    "    base_1, base_2 = 0, 1\n",
    "    for i in range(n):\n",
    "        base_1, base_2 = base_2, base_1 + base_2\n",
    "    return base_1\n",
    "\n",
    "def recursive_fibonacci(n):\n",
    "    if n == 0:\n",
    "        return 0\n",
    "    if n == 1:\n",
    "        return 1\n",
    "    else: \n",
    "        return recursive_fibonacci(n-1) + recursive_fibonacci(n-2)\n",
    "    \n",
    "number = int(input('Enter the number of series: '))\n",
    "print('The first', number, 'numbers in the ' + 'Fibonacci series are:')\n",
    "\n",
    "for i in range(0, number + 1):\n",
    "    print(iterative_fibonacci(i))\n",
    "print()\n",
    "for j in range(0, number + 1):\n",
    "    print(recursive_fibonacci(j))\n",
    "    \n",
    "print()\n",
    "print(iterative_fibonacci(number))\n",
    "print()\n",
    "print(recursive_fibonacci(number))"
   ]
  },
  {
   "cell_type": "code",
   "execution_count": null,
   "metadata": {},
   "outputs": [],
   "source": []
  }
 ],
 "metadata": {
  "kernelspec": {
   "display_name": "Python 3",
   "language": "python",
   "name": "python3"
  },
  "language_info": {
   "codemirror_mode": {
    "name": "ipython",
    "version": 3
   },
   "file_extension": ".py",
   "mimetype": "text/x-python",
   "name": "python",
   "nbconvert_exporter": "python",
   "pygments_lexer": "ipython3",
   "version": "3.7.4"
  }
 },
 "nbformat": 4,
 "nbformat_minor": 2
}
