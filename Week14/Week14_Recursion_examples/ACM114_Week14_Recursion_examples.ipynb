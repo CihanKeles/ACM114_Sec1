{
 "cells": [
  {
   "cell_type": "code",
   "execution_count": 1,
   "metadata": {},
   "outputs": [
    {
     "name": "stdout",
     "output_type": "stream",
     "text": [
      "Enter an integer: 65\n",
      "Enter another integer: 39\n",
      "The greatest common divisor of the two numbers is 13\n"
     ]
    }
   ],
   "source": [
    "# This program uses recursion to find the GCD\n",
    "# of two numbers.\n",
    "\n",
    "def main():\n",
    "    # Get two numbers.\n",
    "    num1 = int(input('Enter an integer: '))\n",
    "    num2 = int(input('Enter another integer: '))\n",
    "\n",
    "    # Display the GCD.\n",
    "    print('The greatest common divisor of', \\\n",
    "          'the two numbers is', gcd(num1, num2))\n",
    "    \n",
    "# The gcd function returns the greatest common\n",
    "# divisor of two numbers.\n",
    "def gcd(x, y):\n",
    "    if x % y == 0:\n",
    "        return y\n",
    "    else:\n",
    "        return gcd(x, x % y)\n",
    "\n",
    "# Call the main function.\n",
    "main()"
   ]
  },
  {
   "cell_type": "code",
   "execution_count": 2,
   "metadata": {},
   "outputs": [
    {
     "name": "stdout",
     "output_type": "stream",
     "text": [
      "Move a disc from peg 1 to peg 3\n",
      "Move a disc from peg 1 to peg 2\n",
      "Move a disc from peg 3 to peg 2\n",
      "Move a disc from peg 1 to peg 3\n",
      "Move a disc from peg 2 to peg 1\n",
      "Move a disc from peg 2 to peg 3\n",
      "Move a disc from peg 1 to peg 3\n",
      "All the pegs are moved!\n"
     ]
    }
   ],
   "source": [
    "# This program simulates the Towers of Hanoi game.\n",
    "\n",
    "def main():\n",
    "    # Set up some initial values.\n",
    "    num_discs = 3\n",
    "    from_peg = 1\n",
    "    to_peg = 3\n",
    "    temp_peg =2\n",
    "    \n",
    "    # Play the game.\n",
    "    move_discs(num_discs, from_peg, to_peg, temp_peg)\n",
    "    print('All the pegs are moved!')\n",
    "\n",
    "# The moveDiscs function displays a disc move in\n",
    "# the Towers of Hanoi game.\n",
    "# The parameters are:\n",
    "#    num:      The number of discs to move.\n",
    "#    from_peg: The peg to move from.\n",
    "#    to_peg:   The peg to move to.\n",
    "#    temp_peg: The temporary peg.\n",
    "def move_discs(num, from_peg, to_peg, temp_peg):\n",
    "    if num > 0:\n",
    "        move_discs(num - 1, from_peg, temp_peg, to_peg)\n",
    "        print('Move a disc from peg', from_peg, 'to peg', to_peg)\n",
    "        move_discs(num - 1, temp_peg, to_peg, from_peg)\n",
    "\n",
    "# Call the main function.\n",
    "main()"
   ]
  },
  {
   "cell_type": "markdown",
   "metadata": {},
   "source": [
    "The Fibonacci numbers are the result of an artificial rabbit population, satisfying the following conditions:\n",
    "\n",
    "* a newly born pair of rabbits, one male, one female, build the initial population\n",
    "* these rabbits are able to mate at the age of one month so that at the end of its second month a female can bring forth another pair of rabbits\n",
    "* these rabbits are immortal\n",
    "* a mating pair always produces one new pair (one male, one female) every month from the second month onwards\n",
    "\n",
    "The Fibonacci numbers are the numbers of rabbit pairs after n months, i.e. after 10 months we will have F_10 (sub division) rabbits.\n",
    "\n",
    "The Fibonacci numbers are easy to write as a Python function. It's more or less a one to one mapping from the mathematical definition:"
   ]
  },
  {
   "cell_type": "raw",
   "metadata": {},
   "source": [
    "def recursive_fibonacci(n):\n",
    "    if n == 0:\n",
    "        return 0\n",
    "    elif n == 1:\n",
    "        return 1\n",
    "    else:\n",
    "        return recursive_fibonacci(n-1) + recursive_fibonacci(n-2)"
   ]
  },
  {
   "cell_type": "markdown",
   "metadata": {},
   "source": [
    "An iterative solution for the problem is also easy to write, though the recursive solution looks more like the mathematical definition:"
   ]
  },
  {
   "cell_type": "raw",
   "metadata": {},
   "source": [
    "def iterative_fibonacci(n):\n",
    "    base_1, base_2 = 0, 1\n",
    "    for i in range(n):\n",
    "        base_1, base_2 = base_2, base_1 + base_2\n",
    "    return base_1"
   ]
  },
  {
   "cell_type": "markdown",
   "metadata": {},
   "source": [
    "If you check the functions **recursive_fibonacci()** and **iterative_fibonacci()**, you will find out that the iterative version **iterative_fibonacci()** is a lot faster than the recursive version **recursive_fibonacci()**. To get an idea of how much this **\"a lot faster\"** can be, we can write a script where we use the *timeit* module to measure the calls: (we can create a module of **fibonacci** that includes the functions above as *.py file*)"
   ]
  },
  {
   "cell_type": "code",
   "execution_count": 3,
   "metadata": {},
   "outputs": [],
   "source": [
    "%run fibonacci.py"
   ]
  },
  {
   "cell_type": "code",
   "execution_count": 4,
   "metadata": {},
   "outputs": [
    {
     "name": "stdout",
     "output_type": "stream",
     "text": [
      "n= 1, recursive_fibonacci: 0.000004, iterative_fibonacci:  0.000009, percent:       0.43\n",
      "n= 2, recursive_fibonacci: 0.000010, iterative_fibonacci:  0.000011, percent:       0.89\n",
      "n= 3, recursive_fibonacci: 0.000009, iterative_fibonacci:  0.000008, percent:       1.16\n",
      "n= 4, recursive_fibonacci: 0.000015, iterative_fibonacci:  0.000009, percent:       1.64\n",
      "n= 5, recursive_fibonacci: 0.000023, iterative_fibonacci:  0.000010, percent:       2.29\n",
      "n= 6, recursive_fibonacci: 0.000046, iterative_fibonacci:  0.000009, percent:       5.38\n",
      "n= 7, recursive_fibonacci: 0.000051, iterative_fibonacci:  0.000009, percent:       5.95\n",
      "n= 8, recursive_fibonacci: 0.000106, iterative_fibonacci:  0.000010, percent:      10.71\n",
      "n= 9, recursive_fibonacci: 0.000169, iterative_fibonacci:  0.000010, percent:      17.17\n",
      "n=10, recursive_fibonacci: 0.000267, iterative_fibonacci:  0.000013, percent:      21.00\n",
      "n=11, recursive_fibonacci: 0.000361, iterative_fibonacci:  0.000013, percent:      28.39\n",
      "n=12, recursive_fibonacci: 0.000669, iterative_fibonacci:  0.000014, percent:      46.57\n",
      "n=13, recursive_fibonacci: 0.000488, iterative_fibonacci:  0.000007, percent:      66.00\n",
      "n=14, recursive_fibonacci: 0.000876, iterative_fibonacci:  0.000007, percent:     118.55\n",
      "n=15, recursive_fibonacci: 0.001389, iterative_fibonacci:  0.000009, percent:     161.10\n",
      "n=16, recursive_fibonacci: 0.002696, iterative_fibonacci:  0.000013, percent:     211.85\n",
      "n=17, recursive_fibonacci: 0.003383, iterative_fibonacci:  0.000009, percent:     358.27\n",
      "n=18, recursive_fibonacci: 0.007715, iterative_fibonacci:  0.000022, percent:     354.59\n",
      "n=19, recursive_fibonacci: 0.008860, iterative_fibonacci:  0.000010, percent:     899.26\n",
      "n=20, recursive_fibonacci: 0.016464, iterative_fibonacci:  0.000011, percent:    1542.43\n",
      "n=21, recursive_fibonacci: 0.023644, iterative_fibonacci:  0.000009, percent:    2504.09\n",
      "n=22, recursive_fibonacci: 0.037862, iterative_fibonacci:  0.000010, percent:    3843.11\n",
      "n=23, recursive_fibonacci: 0.061676, iterative_fibonacci:  0.000010, percent:    6008.95\n",
      "n=24, recursive_fibonacci: 0.109954, iterative_fibonacci:  0.000011, percent:    9565.39\n",
      "n=25, recursive_fibonacci: 0.157685, iterative_fibonacci:  0.000021, percent:    7681.84\n",
      "n=26, recursive_fibonacci: 0.260386, iterative_fibonacci:  0.000012, percent:   21142.13\n",
      "n=27, recursive_fibonacci: 0.617237, iterative_fibonacci:  0.000025, percent:   24251.03\n",
      "n=28, recursive_fibonacci: 1.024256, iterative_fibonacci:  0.000012, percent:   86028.57\n",
      "n=29, recursive_fibonacci: 1.117636, iterative_fibonacci:  0.000013, percent:   87816.10\n",
      "n=30, recursive_fibonacci: 1.817175, iterative_fibonacci:  0.000013, percent:  142792.33\n",
      "n=31, recursive_fibonacci: 3.052054, iterative_fibonacci:  0.000048, percent:   64089.17\n",
      "n=32, recursive_fibonacci: 5.384914, iterative_fibonacci:  0.000013, percent:  409904.39\n",
      "n=33, recursive_fibonacci: 8.030229, iterative_fibonacci:  0.000014, percent:  575313.75\n",
      "n=34, recursive_fibonacci: 12.719380, iterative_fibonacci:  0.000014, percent:  885257.53\n",
      "n=35, recursive_fibonacci: 20.096871, iterative_fibonacci:  0.000014, percent: 1483382.86\n",
      "n=36, recursive_fibonacci: 32.053164, iterative_fibonacci:  0.000015, percent: 2110288.00\n",
      "n=37, recursive_fibonacci: 51.830191, iterative_fibonacci:  0.000015, percent: 3507016.08\n",
      "n=38, recursive_fibonacci: 84.392663, iterative_fibonacci:  0.000015, percent: 5710309.45\n",
      "n=39, recursive_fibonacci: 139.433718, iterative_fibonacci:  0.000015, percent: 9434584.07\n",
      "n=40, recursive_fibonacci: 226.512724, iterative_fibonacci:  0.000016, percent: 14147318.89\n"
     ]
    }
   ],
   "source": [
    "from timeit import Timer\n",
    "from fibonacci import recursive_fibonacci\n",
    "\n",
    "t1 = Timer(\"recursive_fibonacci(10)\",\"from fibonacci import recursive_fibonacci\")\n",
    "\n",
    "for i in range(1,41):\n",
    "    s = \"recursive_fibonacci(\" + str(i) + \")\"\n",
    "    t1 = Timer(s,\"from fibonacci import recursive_fibonacci\")\n",
    "    time1 = t1.timeit(3)\n",
    "    s = \"iterative_fibonacci(\" + str(i) + \")\"\n",
    "    t2 = Timer(s,\"from fibonacci import iterative_fibonacci\")\n",
    "    time2 = t2.timeit(3)\n",
    "    print(\"n=%2d, recursive_fibonacci: %8.6f, iterative_fibonacci:  %7.6f, percent: %10.2f\" % (i, time1, time2, time1/time2))"
   ]
  },
  {
   "cell_type": "markdown",
   "metadata": {},
   "source": [
    "*time1* is the time in seconds it takes for 3 calls to **recursive_fibonacci(n)** and *time2* respectively the time for **iterative_fibonacci()**. If we look at the results, we can see that calling **recursive_fibonacci(20)** three times needs about *16 milliseconds*. **iterative_fibonacci(20)** needs just *0.011 milliseconds* for 3 calls. So **iterative_fibonacci(20)** is about *1500 times faster than* **recursive_fibonacci(20)**.\n",
    "\n",
    "**recursive_fibonacci(40)** needs already *226 seconds* for three calls, while **iterative_fibonacci(40)** can do it in *0.016 milliseconds*. **iterative_fibonacci(40)** is more than *14 millions times faster than* **recursive_fibonacci(40)**."
   ]
  },
  {
   "cell_type": "markdown",
   "metadata": {},
   "source": [
    "What's wrong with our recursive implementation?\n",
    "\n",
    "Let's have a look at the calculation tree, i.e. the order in which the functions are called. **recursive_fibonacci()** is substituted by **recursive_fibonacci()**."
   ]
  },
  {
   "cell_type": "markdown",
   "metadata": {},
   "source": [
    "<img src=\"https://www.python-course.eu/images/fib_calculation_tree.png\" alt=\"fibonacci\" title=\"Fibonacci calculation tree\" />"
   ]
  },
  {
   "cell_type": "markdown",
   "metadata": {},
   "source": [
    "We can see that the subtree **f(2)** appears *3 times* and the subtree for the calculation of **f(3)** *two times*. If you imagine extending this tree for **f(6)**, you will understand that **f(4)** will be called *two times*, **f(3)** *three times* and so on. This means, *our recursion* **doesn't remember** previously calculated values.\n",
    "\n",
    "We can implement a **\"memory\"** for our *recursive version* by using a dictionary to save the previously calculated values. We can add this function to our *fibonacci module* (fibonacci.py file)."
   ]
  },
  {
   "cell_type": "raw",
   "metadata": {},
   "source": [
    "memory = {0:0, 1:1}\n",
    "def recursive_memory(n):\n",
    "    if not n in memory:\n",
    "        memory[n] = recursive_memory(n-1) + recursive_memory(n-2)\n",
    "    return memory[n]"
   ]
  },
  {
   "cell_type": "markdown",
   "metadata": {},
   "source": [
    "We time it again to compare it with iterative_fibonacci():"
   ]
  },
  {
   "cell_type": "code",
   "execution_count": 5,
   "metadata": {},
   "outputs": [],
   "source": [
    "%run fibonacci.py"
   ]
  },
  {
   "cell_type": "code",
   "execution_count": 6,
   "metadata": {},
   "outputs": [
    {
     "name": "stdout",
     "output_type": "stream",
     "text": [
      "n= 1, recursive_fibonacci: 0.000002, iterative_fibonacci:  0.000005, percent:       0.50\n",
      "n= 2, recursive_fibonacci: 0.000005, iterative_fibonacci:  0.000014, percent:       0.34\n",
      "n= 3, recursive_fibonacci: 0.000003, iterative_fibonacci:  0.000009, percent:       0.32\n",
      "n= 4, recursive_fibonacci: 0.000003, iterative_fibonacci:  0.000007, percent:       0.39\n",
      "n= 5, recursive_fibonacci: 0.000003, iterative_fibonacci:  0.000009, percent:       0.35\n",
      "n= 6, recursive_fibonacci: 0.000003, iterative_fibonacci:  0.000010, percent:       0.32\n",
      "n= 7, recursive_fibonacci: 0.000003, iterative_fibonacci:  0.000010, percent:       0.33\n",
      "n= 8, recursive_fibonacci: 0.000005, iterative_fibonacci:  0.000009, percent:       0.48\n",
      "n= 9, recursive_fibonacci: 0.000003, iterative_fibonacci:  0.000010, percent:       0.29\n",
      "n=10, recursive_fibonacci: 0.000003, iterative_fibonacci:  0.000011, percent:       0.26\n",
      "n=11, recursive_fibonacci: 0.000002, iterative_fibonacci:  0.000007, percent:       0.31\n",
      "n=12, recursive_fibonacci: 0.000002, iterative_fibonacci:  0.000006, percent:       0.33\n",
      "n=13, recursive_fibonacci: 0.000002, iterative_fibonacci:  0.000007, percent:       0.25\n",
      "n=14, recursive_fibonacci: 0.000002, iterative_fibonacci:  0.000007, percent:       0.29\n",
      "n=15, recursive_fibonacci: 0.000002, iterative_fibonacci:  0.000007, percent:       0.29\n",
      "n=16, recursive_fibonacci: 0.000002, iterative_fibonacci:  0.000007, percent:       0.28\n",
      "n=17, recursive_fibonacci: 0.000002, iterative_fibonacci:  0.000008, percent:       0.21\n",
      "n=18, recursive_fibonacci: 0.000002, iterative_fibonacci:  0.000009, percent:       0.27\n",
      "n=19, recursive_fibonacci: 0.000002, iterative_fibonacci:  0.000008, percent:       0.25\n",
      "n=20, recursive_fibonacci: 0.000002, iterative_fibonacci:  0.000008, percent:       0.20\n",
      "n=21, recursive_fibonacci: 0.000002, iterative_fibonacci:  0.000009, percent:       0.19\n",
      "n=22, recursive_fibonacci: 0.000002, iterative_fibonacci:  0.000009, percent:       0.19\n",
      "n=23, recursive_fibonacci: 0.000002, iterative_fibonacci:  0.000009, percent:       0.18\n",
      "n=24, recursive_fibonacci: 0.000003, iterative_fibonacci:  0.000027, percent:       0.12\n",
      "n=25, recursive_fibonacci: 0.000005, iterative_fibonacci:  0.000011, percent:       0.50\n",
      "n=26, recursive_fibonacci: 0.000002, iterative_fibonacci:  0.000010, percent:       0.16\n",
      "n=27, recursive_fibonacci: 0.000002, iterative_fibonacci:  0.000010, percent:       0.21\n",
      "n=28, recursive_fibonacci: 0.000002, iterative_fibonacci:  0.000011, percent:       0.23\n",
      "n=29, recursive_fibonacci: 0.000002, iterative_fibonacci:  0.000010, percent:       0.16\n",
      "n=30, recursive_fibonacci: 0.000002, iterative_fibonacci:  0.000011, percent:       0.15\n",
      "n=31, recursive_fibonacci: 0.000002, iterative_fibonacci:  0.000011, percent:       0.15\n",
      "n=32, recursive_fibonacci: 0.000002, iterative_fibonacci:  0.000013, percent:       0.19\n",
      "n=33, recursive_fibonacci: 0.000002, iterative_fibonacci:  0.000012, percent:       0.14\n",
      "n=34, recursive_fibonacci: 0.000002, iterative_fibonacci:  0.000012, percent:       0.17\n",
      "n=35, recursive_fibonacci: 0.000002, iterative_fibonacci:  0.000012, percent:       0.13\n",
      "n=36, recursive_fibonacci: 0.000002, iterative_fibonacci:  0.000012, percent:       0.13\n",
      "n=37, recursive_fibonacci: 0.000002, iterative_fibonacci:  0.000012, percent:       0.17\n",
      "n=38, recursive_fibonacci: 0.000002, iterative_fibonacci:  0.000013, percent:       0.16\n",
      "n=39, recursive_fibonacci: 0.000002, iterative_fibonacci:  0.000013, percent:       0.16\n",
      "n=40, recursive_fibonacci: 0.000002, iterative_fibonacci:  0.000013, percent:       0.13\n"
     ]
    }
   ],
   "source": [
    "from timeit import Timer\n",
    "from fibonacci import recursive_fibonacci\n",
    "\n",
    "t1 = Timer(\"recursive_fibonacci(10)\",\"from fibonacci import recursive_fibonacci\")\n",
    "\n",
    "for i in range(1,41):\n",
    "    s = \"recursive_memory(\" + str(i) + \")\"\n",
    "    t1 = Timer(s,\"from fibonacci import recursive_memory\")\n",
    "    time1 = t1.timeit(3)\n",
    "    s = \"iterative_fibonacci(\" + str(i) + \")\"\n",
    "    t2 = Timer(s,\"from fibonacci import iterative_fibonacci\")\n",
    "    time2 = t2.timeit(3)\n",
    "    print(\"n=%2d, recursive_fibonacci: %8.6f, iterative_fibonacci:  %7.6f, percent: %10.2f\" % (i, time1, time2, time1/time2))"
   ]
  },
  {
   "cell_type": "markdown",
   "metadata": {},
   "source": [
    "**Example 1: Think of a recursive version of the function f(n) = 3 * n, i.e. the multiples of 3**"
   ]
  },
  {
   "cell_type": "raw",
   "metadata": {},
   "source": [
    "Mathematically, we can write it like this:\n",
    "\n",
    "f(1) = 3, \n",
    "\n",
    "f(n+1) = f(n) + 3\n",
    "\n",
    "A Python function can be written like this:"
   ]
  },
  {
   "cell_type": "code",
   "execution_count": 7,
   "metadata": {},
   "outputs": [
    {
     "name": "stdout",
     "output_type": "stream",
     "text": [
      "Enter the iteration number of series: 10\n",
      "3\n",
      "6\n",
      "9\n",
      "12\n",
      "15\n",
      "18\n",
      "21\n",
      "24\n",
      "27\n",
      "30\n"
     ]
    }
   ],
   "source": [
    "def multiple_3(n):\n",
    "    if n == 1:\n",
    "        return 3\n",
    "    else:\n",
    "        return multiple_3(n-1) + 3\n",
    "\n",
    "n = int(input('Enter the iteration number of series: '))\n",
    "\n",
    "for i in range(1, n+1):\n",
    "    print(multiple_3(i))"
   ]
  },
  {
   "cell_type": "markdown",
   "metadata": {},
   "source": [
    "**Example 2: Write a recursive Python function that returns the sum of the first n integers.\n",
    "(Hint: The function will be similiar to the factorial function!)**"
   ]
  },
  {
   "cell_type": "code",
   "execution_count": 8,
   "metadata": {},
   "outputs": [
    {
     "name": "stdout",
     "output_type": "stream",
     "text": [
      "Enter the limit number to sum that is from 0 to its: 10\n",
      "The sum from 0 to 10 is 55\n"
     ]
    }
   ],
   "source": [
    "def sum_to_n(n):\n",
    "    if n== 0:\n",
    "        return 0\n",
    "    else:\n",
    "        return n + sum_to_n(n-1)\n",
    "    \n",
    "number_of_integers = int(input('Enter the limit number to sum that is from 0 to its: '))\n",
    "print('The sum from 0 to', number_of_integers, 'is', sum_to_n(number_of_integers))"
   ]
  },
  {
   "cell_type": "markdown",
   "metadata": {},
   "source": [
    "**Example 3: Write a function which implements the Pascal's triangle:**"
   ]
  },
  {
   "cell_type": "raw",
   "metadata": {},
   "source": [
    "                   1\n",
    "\n",
    "                 1   1\n",
    "\n",
    "               1   2   1\n",
    "\n",
    "             1   3    3   1\n",
    "\n",
    "           1   4    6    4   1\n",
    "\n",
    "         1   5   10   10   5   1"
   ]
  },
  {
   "cell_type": "code",
   "execution_count": 9,
   "metadata": {},
   "outputs": [
    {
     "name": "stdout",
     "output_type": "stream",
     "text": [
      "[1]\n",
      "[1, 1]\n",
      "[1, 2, 1]\n",
      "[1, 3, 3, 1]\n",
      "[1, 4, 6, 4, 1]\n",
      "[1, 5, 10, 10, 5, 1]\n",
      "[1, 5, 10, 10, 5, 1]\n"
     ]
    }
   ],
   "source": [
    "def pascal(n):\n",
    "    if n == 1:\n",
    "        return [1]\n",
    "    else:\n",
    "        line = [1]\n",
    "        previous_line = pascal(n-1)\n",
    "        for i in range(len(previous_line)-1):\n",
    "            line.append(previous_line[i] + previous_line[i+1])\n",
    "        line += [1]\n",
    "        print(line)\n",
    "    return line\n",
    "\n",
    "first_line = [1]\n",
    "print(first_line)\n",
    "print(pascal(6))"
   ]
  },
  {
   "cell_type": "markdown",
   "metadata": {},
   "source": [
    "Alternatively, we can write a function using list comprehension:"
   ]
  },
  {
   "cell_type": "code",
   "execution_count": 10,
   "metadata": {},
   "outputs": [
    {
     "name": "stdout",
     "output_type": "stream",
     "text": [
      "[1]\n",
      "[1, 1]\n",
      "[1, 2, 1]\n",
      "[1, 3, 3, 1]\n",
      "[1, 4, 6, 4, 1]\n",
      "[1, 5, 10, 10, 5, 1]\n",
      "[1, 5, 10, 10, 5, 1]\n"
     ]
    }
   ],
   "source": [
    "def pascal(n):\n",
    "    if n == 1:\n",
    "        return [1]\n",
    "    else:\n",
    "        p_line = pascal(n-1)\n",
    "        line = [p_line[i] + p_line[i+1] for i in range(len(p_line)-1)]\n",
    "        line.insert(0,1)\n",
    "        line.append(1)\n",
    "        print(line)\n",
    "    return line\n",
    "\n",
    "first_line = [1]\n",
    "print(first_line)\n",
    "print(pascal(6))"
   ]
  },
  {
   "cell_type": "code",
   "execution_count": null,
   "metadata": {},
   "outputs": [],
   "source": []
  }
 ],
 "metadata": {
  "kernelspec": {
   "display_name": "Python 3",
   "language": "python",
   "name": "python3"
  },
  "language_info": {
   "codemirror_mode": {
    "name": "ipython",
    "version": 3
   },
   "file_extension": ".py",
   "mimetype": "text/x-python",
   "name": "python",
   "nbconvert_exporter": "python",
   "pygments_lexer": "ipython3",
   "version": "3.7.4"
  }
 },
 "nbformat": 4,
 "nbformat_minor": 2
}
