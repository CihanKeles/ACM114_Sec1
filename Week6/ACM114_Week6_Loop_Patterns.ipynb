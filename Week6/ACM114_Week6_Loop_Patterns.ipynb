{
 "cells": [
  {
   "cell_type": "markdown",
   "metadata": {},
   "source": [
    "In this file, you can reach the practices and the examples of loop patterns <> if-elif-else, while and for loops respectively."
   ]
  },
  {
   "cell_type": "markdown",
   "metadata": {},
   "source": [
    "Firstly, it includes the examples on the lecture slides.\n",
    "\n",
    "### while loop examples:"
   ]
  },
  {
   "cell_type": "code",
   "execution_count": 2,
   "metadata": {},
   "outputs": [
    {
     "name": "stdout",
     "output_type": "stream",
     "text": [
      "Enter the amount of sales: 34\n",
      "Enter the commission rate: 0.4\n",
      "The commission is $13.60\n",
      "Do you want to calculate another commission (Enter y for yes): y\n",
      "Enter the amount of sales: 12\n",
      "Enter the commission rate: 0.1\n",
      "The commission is $1.20\n",
      "Do you want to calculate another commission (Enter y for yes): q\n"
     ]
    }
   ],
   "source": [
    "# Create a variable to control the loop.\n",
    "keep_going = 'y'\n",
    "\n",
    "# Calculate a series of commissions.\n",
    "while keep_going == 'y':\n",
    "   \n",
    "    # Get a salesperson's sales and commission rate.\n",
    "    sales = float(input('Enter the amount of sales: '))\n",
    "    comm_rate = float(input('Enter the commission rate: '))\n",
    "\n",
    "    # Calculate the commission.\n",
    "    commission = sales * comm_rate\n",
    "    # Display the commission.\n",
    "    print('The commission is $', \\\n",
    "          format(commission, ',.2f'), sep='')\n",
    "\n",
    "    # See if the user wants to do another one.\n",
    "    keep_going = input('Do you want to calculate another ' + \\\n",
    "                       'commission (Enter y for yes): ')"
   ]
  },
  {
   "cell_type": "code",
   "execution_count": 3,
   "metadata": {},
   "outputs": [
    {
     "name": "stdout",
     "output_type": "stream",
     "text": [
      "Enter the substance's Celsius temperature: 125\n",
      "The temperature is too high.\n",
      "Turn the thermostat down and wait\n",
      "5 minutes. Then take the temperature\n",
      "again and enter it.\n",
      "Enter the new Celsius temperature: 85\n",
      "The temperature is acceptable.\n",
      "Check it again in 15 minutes.\n"
     ]
    }
   ],
   "source": [
    "# This program assists a technician in the process\n",
    "# of checking a substance's temperature.\n",
    "max_temp = 102.5\n",
    "temperature = float(input(\"Enter the substance's Celsius temperature: \"))\n",
    "while temperature > max_temp:\n",
    "    print('The temperature is too high.')\n",
    "    print('Turn the thermostat down and wait')\n",
    "    print('5 minutes. Then take the temperature')\n",
    "    print('again and enter it.')\n",
    "    temperature = float(input('Enter the new Celsius temperature: '))\n",
    "print('The temperature is acceptable.')\n",
    "print('Check it again in 15 minutes.')"
   ]
  },
  {
   "cell_type": "markdown",
   "metadata": {},
   "source": [
    "#### Infinite while loops"
   ]
  },
  {
   "cell_type": "code",
   "execution_count": null,
   "metadata": {},
   "outputs": [
    {
     "name": "stdout",
     "output_type": "stream",
     "text": [
      "Enter the amount of sales: 12\n",
      "Enter the commission rate: 34\n",
      "The commission is $408.00\n",
      "Enter the amount of sales: 30\n",
      "Enter the commission rate: 25\n",
      "The commission is $750.00\n",
      "Enter the amount of sales: 45\n",
      "Enter the commission rate: 10\n",
      "The commission is $450.00\n"
     ]
    }
   ],
   "source": [
    "# This program demonstrates an infinite loop.\n",
    "# Create a variable to control the loop.\n",
    "keep_going = 'y'\n",
    "\n",
    "while keep_going == 'y':\n",
    "    # Get a salesperson's sales and commission rate.\n",
    "    sales = float(input('Enter the amount of sales: '))\n",
    "    comm_rate = float(input('Enter the commission rate: '))\n",
    "    commission = sales * comm_rate\n",
    "    print('The commission is $', \\\n",
    "          format(commission, ',.2f'), sep='')"
   ]
  },
  {
   "cell_type": "code",
   "execution_count": 1,
   "metadata": {},
   "outputs": [
    {
     "name": "stdout",
     "output_type": "stream",
     "text": [
      "> hello there\n",
      "hello there\n",
      "> finished\n",
      "finished\n",
      "> done\n",
      "Done!\n"
     ]
    }
   ],
   "source": [
    "while True:\n",
    "    line = input('> ')\n",
    "    if line == 'done' :\n",
    "        break\n",
    "    print(line)\n",
    "print('Done!')"
   ]
  },
  {
   "cell_type": "code",
   "execution_count": 2,
   "metadata": {},
   "outputs": [
    {
     "name": "stdout",
     "output_type": "stream",
     "text": [
      "> hello there\n",
      "hello there\n",
      "> # don't print this\n",
      "> print this!\n",
      "print this!\n",
      "> done\n",
      "Done!\n"
     ]
    }
   ],
   "source": [
    "while True:\n",
    "    line = input('> ')\n",
    "    if line[0] == '#' :\n",
    "        continue\n",
    "    if line == 'done' :\n",
    "        break\n",
    "    print(line)\n",
    "print('Done!')"
   ]
  },
  {
   "cell_type": "code",
   "execution_count": 3,
   "metadata": {},
   "outputs": [
    {
     "name": "stdout",
     "output_type": "stream",
     "text": [
      "I will display the numbers 1 through 5. \n",
      "1\n",
      "2\n",
      "3\n",
      "4\n",
      "5\n"
     ]
    }
   ],
   "source": [
    "# This program demonstrates a simple for loop\n",
    "# that uses a list of numbers.\n",
    "\n",
    "print('I will display the numbers 1 through 5. ')\n",
    "\n",
    "for num in [1, 2, 3, 4, 5]:\n",
    "    print(num)"
   ]
  },
  {
   "cell_type": "code",
   "execution_count": 4,
   "metadata": {},
   "outputs": [
    {
     "name": "stdout",
     "output_type": "stream",
     "text": [
      "Hi Ecem Please come to my party on Saturday!\n",
      "Hi Sahra Please come to my party on Saturday!\n",
      "Hi Can Please come to my party on Saturday!\n",
      "Hi Cihan Please come to my party on Saturday!\n",
      "Hi Deniz Please come to my party on Saturday!\n",
      "Hi Yiğit Please come to my party on Saturday!\n",
      "Hi Canan Please come to my party on Saturday!\n"
     ]
    }
   ],
   "source": [
    "# This program will print the same sentence \n",
    "# by using each name in the list\n",
    "\n",
    "for name in [\"Ecem\", \"Sahra\", \"Can\", \"Cihan\", \"Deniz\", \"Yiğit\", \"Canan\"]:\n",
    "    print(\"Hi\", name, \"Please come to my party on Saturday!\")"
   ]
  },
  {
   "cell_type": "code",
   "execution_count": 5,
   "metadata": {},
   "outputs": [
    {
     "name": "stdout",
     "output_type": "stream",
     "text": [
      "I will display the odd numbers 1 through 9.\n",
      "1\n",
      "3\n",
      "5\n",
      "7\n",
      "9\n",
      "Ali\n",
      "Emrah\n",
      "Ebru\n"
     ]
    }
   ],
   "source": [
    "print('I will display the odd numbers 1 through 9.')\n",
    "for num in [1, 3, 5, 7, 9]:\n",
    "    print(num)\n",
    "\n",
    "# This program also demonstrates a simple for\n",
    "# loop that uses a list of strings.\n",
    "\n",
    "for name in ['Ali', 'Emrah', 'Ebru']:\n",
    "    print(name)"
   ]
  },
  {
   "cell_type": "code",
   "execution_count": 6,
   "metadata": {},
   "outputs": [
    {
     "name": "stdout",
     "output_type": "stream",
     "text": [
      "G\n",
      "o\n",
      " \n",
      "F\n",
      "o\n",
      "r\n",
      " \n",
      "P\n",
      "y\n",
      "t\n",
      "h\n",
      "o\n",
      "n\n",
      "!\n"
     ]
    }
   ],
   "source": [
    "for achar in \"Go For Python!\":\n",
    "    print(achar)"
   ]
  },
  {
   "cell_type": "code",
   "execution_count": 7,
   "metadata": {},
   "outputs": [
    {
     "name": "stdout",
     "output_type": "stream",
     "text": [
      "Hello world!\n",
      "Hello world!\n",
      "Hello world!\n",
      "Hello world!\n",
      "Hello world!\n"
     ]
    }
   ],
   "source": [
    "# This program demonstrates how the range\n",
    "# function can be used with a for loop.\n",
    "\n",
    "# Print a message five times.\n",
    "for x in range(5):\n",
    "    print('Hello world!')"
   ]
  },
  {
   "cell_type": "code",
   "execution_count": 8,
   "metadata": {},
   "outputs": [
    {
     "name": "stdout",
     "output_type": "stream",
     "text": [
      "1 \t 1\n",
      "2 \t 4\n",
      "3 \t 9\n",
      "4 \t 16\n",
      "5 \t 25\n",
      "6 \t 36\n",
      "7 \t 49\n",
      "8 \t 64\n",
      "9 \t 81\n",
      "10 \t 100\n"
     ]
    }
   ],
   "source": [
    "# Print the numbers 1 through 10\n",
    "# and their squares.\n",
    "for number in range(1, 11):\n",
    "    square = number**2\n",
    "    print(number, '\\t', square)"
   ]
  },
  {
   "cell_type": "code",
   "execution_count": 9,
   "metadata": {},
   "outputs": [
    {
     "name": "stdout",
     "output_type": "stream",
     "text": [
      "This program displays a list of numbers\n",
      "and their squares.\n",
      "Enter the starting number: 1\n",
      "How high should I go? 10\n",
      "\n",
      "Number\tSquare\n",
      "--------------\n",
      "1 \t 1\n",
      "2 \t 4\n",
      "3 \t 9\n",
      "4 \t 16\n",
      "5 \t 25\n",
      "6 \t 36\n",
      "7 \t 49\n",
      "8 \t 64\n",
      "9 \t 81\n",
      "10 \t 100\n"
     ]
    }
   ],
   "source": [
    "print('This program displays a list of numbers')\n",
    "print('and their squares.')\n",
    "start = int(input('Enter the starting number: '))\n",
    "end = int(input('How high should I go? '))\n",
    "   \n",
    "print()\n",
    "print('Number\\tSquare')\n",
    "print('--------------')\n",
    "\n",
    "for number in range(start, end + 1):\n",
    "    square = number**2\n",
    "    print(number, '\\t', square)"
   ]
  },
  {
   "cell_type": "code",
   "execution_count": 10,
   "metadata": {},
   "outputs": [
    {
     "name": "stdout",
     "output_type": "stream",
     "text": [
      "Maximum value:5\n",
      "This program calculates the sum of\n",
      "5 numbers you will enter.\n",
      "Enter a number: 1\n",
      "1\n",
      "1\n",
      "Enter a number: 2\n",
      "1, 2\n",
      "1 - 2\n",
      "Enter a number: 3\n",
      "1, 2, 3\n",
      "1 - 2 - 3\n",
      "Enter a number: 4\n",
      "1, 2, 3, 4\n",
      "1 - 2 - 3 - 4\n",
      "Enter a number: 5\n",
      "1, 2, 3, 4, 5\n",
      "1 - 2 - 3 - 4 - 5\n",
      "The total is 15.0\n"
     ]
    }
   ],
   "source": [
    "max = int(input('Maximum value:'))   # The maximum number\n",
    "\n",
    "# Initialize an accumulator variable.\n",
    "total = 0.0\n",
    "s = ', '\n",
    "list_1 = []\n",
    "   \n",
    "# Explain what we are doing.\n",
    "print('This program calculates the sum of')\n",
    "print(max, 'numbers you will enter.')\n",
    "\n",
    "# Get the numbers and accumulate them.\n",
    "for counter in range(max):\n",
    "    number = int(input('Enter a number: '))\n",
    "    list_1.append(str(number))\n",
    "    print(s.join(list_1))\n",
    "    print(' - '.join(list_1))\n",
    "    total = total + number\n",
    "\n",
    "# Display the total of the numbers.\n",
    "print('The total is', total)"
   ]
  },
  {
   "cell_type": "code",
   "execution_count": 11,
   "metadata": {},
   "outputs": [
    {
     "name": "stdout",
     "output_type": "stream",
     "text": [
      "[1, 2, 3, 4, 5, 6, 7, 8, 9, 10, 11, 12, 13, 14, 15, 16, 17, 18, 19, 20, 21, 22, 23, 24, 25, 26, 27, 28, 29, 30, 31, 32, 33, 34, 35, 36, 37, 38, 39, 40, 41, 42, 43, 44, 45, 46, 47, 48, 49, 50, 51, 52]\n"
     ]
    }
   ],
   "source": [
    "numbers=[]\n",
    "for i in range(52):\n",
    "    numbers.append(i+1)\n",
    "print(numbers)"
   ]
  },
  {
   "cell_type": "code",
   "execution_count": 12,
   "metadata": {},
   "outputs": [
    {
     "name": "stdout",
     "output_type": "stream",
     "text": [
      "90\n"
     ]
    }
   ],
   "source": [
    "str1 = \"I like nonsense, it wakes up the brain cells. Fantasy is a necessary ingredient in living.\"\n",
    "numbs=0\n",
    "for i in str1:\n",
    "    numbs+=1\n",
    "print(numbs)"
   ]
  },
  {
   "cell_type": "code",
   "execution_count": 13,
   "metadata": {},
   "outputs": [
    {
     "name": "stdout",
     "output_type": "stream",
     "text": [
      "[0, 1, 2, 3, 4, 5, 6, 7, 8, 9, 10, 11, 12, 13, 14, 15, 16, 17, 18, 19, 20, 21, 22, 23, 24, 25, 26, 27, 28, 29, 30, 31, 32, 33, 34, 35, 36, 37, 38, 39, 40]\n",
      "820\n"
     ]
    }
   ],
   "source": [
    "numbers=[]\n",
    "sum1=0\n",
    "for i in range (41):\n",
    "    numbers.append(i)\n",
    "    sum1+=numbers[i]\n",
    "print(numbers)\n",
    "print(sum1)"
   ]
  },
  {
   "cell_type": "code",
   "execution_count": 1,
   "metadata": {},
   "outputs": [
    {
     "name": "stdout",
     "output_type": "stream",
     "text": [
      "Enter the property lot number\n",
      "or enter 0 to end.\n",
      "Lot number: 5\n",
      "Enter the property value: 56\n",
      "Property tax: $0.364\n",
      "Enter the next lot number or\n",
      "enter 0 to end.\n",
      "Lot number: 87\n",
      "Enter the property value: 3\n",
      "Property tax: $0.019\n",
      "Enter the next lot number or\n",
      "enter 0 to end.\n",
      "Lot number: 0\n"
     ]
    }
   ],
   "source": [
    "TAX_FACTOR = 0.0065   # Represents the tax factor.\n",
    "print('Enter the property lot number')\n",
    "print('or enter 0 to end.')\n",
    "lot = int(input('Lot number: '))\n",
    "while lot != 0:\n",
    "    value = float(input('Enter the property value: '))\n",
    "    tax = value * TAX_FACTOR\n",
    "    print('Property tax: $', format(tax, ',.3f'), sep='')\n",
    "    print('Enter the next lot number or')\n",
    "    print('enter 0 to end.')\n",
    "    lot = int(input('Lot number: '))"
   ]
  },
  {
   "cell_type": "code",
   "execution_count": 2,
   "metadata": {},
   "outputs": [
    {
     "name": "stdout",
     "output_type": "stream",
     "text": [
      "Enter the item's wholesale cost: 25\n",
      "Retail price: $62.50\n",
      "Do you have another item? (Enter y for yes): Y\n",
      "Enter the item's wholesale cost: 50\n",
      "Retail price: $125.00\n",
      "Do you have another item? (Enter y for yes): y\n",
      "Enter the item's wholesale cost: 100\n",
      "Retail price: $250.00\n",
      "Do you have another item? (Enter y for yes): q\n"
     ]
    }
   ],
   "source": [
    "mark_up = 2.5  # The markup percentage\n",
    "another = 'y'  # Variable to control the loop.\n",
    "\n",
    "while another == 'y' or another == 'Y':\n",
    "    wholesale = float(input(\"Enter the item's \" + \\\n",
    "                            \"wholesale cost: \"))\n",
    "    retail = wholesale * mark_up\n",
    "    print('Retail price: $', format(retail, ',.2f'), sep='')\n",
    "    another = input('Do you have another item? ' + \\\n",
    "                    '(Enter y for yes): ')"
   ]
  },
  {
   "cell_type": "code",
   "execution_count": 3,
   "metadata": {},
   "outputs": [
    {
     "name": "stdout",
     "output_type": "stream",
     "text": [
      "Enter the item's wholesale cost: 50\n",
      "Retail price: $125.00\n",
      "Do you have another item? (Enter y for yes): y\n",
      "Enter the item's wholesale cost: 100\n",
      "Retail price: $250.00\n",
      "Do you have another item? (Enter y for yes): Y\n",
      "Enter the item's wholesale cost: -50\n",
      "ERROR: the cost cannot be negative.\n",
      "Enter the correct wholesale cost:25\n",
      "Retail price: $62.50\n",
      "Do you have another item? (Enter y for yes): q\n"
     ]
    }
   ],
   "source": [
    "mark_up = 2.5  # The markup percentage\n",
    "another = 'y'  # Variable to control the loop.\n",
    "while another == 'y' or another == 'Y':\n",
    "    wholesale = float(input(\"Enter the item's \" + \\\n",
    "                            \"wholesale cost: \"))\n",
    "    while wholesale < 0:\n",
    "        print('ERROR: the cost cannot be negative.')\n",
    "        wholesale = float(input('Enter the correct ' + \\\n",
    "                                'wholesale cost:'))\n",
    "    retail = wholesale * mark_up\n",
    "    print('Retail price: $', format(retail, ',.2f'), sep='')\n",
    "    another = input('Do you have another item? ' + \\\n",
    "                    '(Enter y for yes): ')"
   ]
  },
  {
   "cell_type": "code",
   "execution_count": 4,
   "metadata": {},
   "outputs": [
    {
     "name": "stdout",
     "output_type": "stream",
     "text": [
      "How many students do you have? 3\n",
      "How many test scores per student? 2\n",
      "Student number 1\n",
      "-----------------\n",
      "Test number 1: 34\n",
      "Test number 2: 89\n",
      "The average for student number 1 is: 61.5\n",
      "\n",
      "Student number 2\n",
      "-----------------\n",
      "Test number 1: 12\n",
      "Test number 2: 78\n",
      "The average for student number 2 is: 45.0\n",
      "\n",
      "Student number 3\n",
      "-----------------\n",
      "Test number 1: 78\n",
      "Test number 2: 45\n",
      "The average for student number 3 is: 61.5\n",
      "\n"
     ]
    }
   ],
   "source": [
    "num_students = int(input('How many students do you have? '))\n",
    "num_test_scores = int(input('How many test scores per student? '))\n",
    "for student in range(num_students):\n",
    "    total = 0.0\n",
    "    print('Student number', student + 1)\n",
    "    print('-----------------')\n",
    "    for test_num in range(num_test_scores):\n",
    "        print('Test number', test_num + 1, end='')\n",
    "        score = float(input(': '))\n",
    "        # Add the score to the accumulator.\n",
    "        total += score\n",
    "    average = total / num_test_scores\n",
    "    print('The average for student number', student + 1, \\\n",
    "          'is:', format(average, '.1f'))\n",
    "    print()"
   ]
  },
  {
   "cell_type": "code",
   "execution_count": 5,
   "metadata": {},
   "outputs": [
    {
     "name": "stdout",
     "output_type": "stream",
     "text": [
      "Before -1\n",
      "9 9\n",
      "41 41\n",
      "41 12\n",
      "41 3\n",
      "74 74\n",
      "74 15\n",
      "After 74\n"
     ]
    }
   ],
   "source": [
    "largest_so_far = -1\n",
    "print('Before', largest_so_far)\n",
    "for the_num in [9, 41, 12, 3, 74, 15] :\n",
    "    if the_num > largest_so_far :\n",
    "        largest_so_far = the_num\n",
    "    print(largest_so_far, the_num)\n",
    "\n",
    "print('After', largest_so_far)"
   ]
  },
  {
   "cell_type": "code",
   "execution_count": 8,
   "metadata": {},
   "outputs": [
    {
     "name": "stdout",
     "output_type": "stream",
     "text": [
      "Before 0\n",
      "1 9\n",
      "2 41\n",
      "3 12\n",
      "4 3\n",
      "5 74\n",
      "6 15\n",
      "After 6\n"
     ]
    }
   ],
   "source": [
    "count = 0\n",
    "print('Before', count)\n",
    "for thing in [9, 41, 12, 3, 74, 15] :\n",
    "    count = count + 1\n",
    "    print(count, thing)\n",
    "print('After', count)"
   ]
  },
  {
   "cell_type": "code",
   "execution_count": 9,
   "metadata": {},
   "outputs": [
    {
     "name": "stdout",
     "output_type": "stream",
     "text": [
      "Before 0\n",
      "9 9\n",
      "50 41\n",
      "62 12\n",
      "65 3\n",
      "139 74\n",
      "154 15\n",
      "After 154\n"
     ]
    }
   ],
   "source": [
    "sum = 0\n",
    "print('Before', sum)\n",
    "for thing in [9, 41, 12, 3, 74, 15] :\n",
    "    sum = sum + thing\n",
    "    print(sum, thing)\n",
    "print('After', sum)"
   ]
  },
  {
   "cell_type": "code",
   "execution_count": 10,
   "metadata": {},
   "outputs": [
    {
     "name": "stdout",
     "output_type": "stream",
     "text": [
      "Before 0 0\n",
      "1 9 9\n",
      "2 50 41\n",
      "3 62 12\n",
      "4 65 3\n",
      "5 139 74\n",
      "6 154 15\n",
      "After 6 154 25.666666666666668\n"
     ]
    }
   ],
   "source": [
    "count = 0\n",
    "sum = 0\n",
    "print('Before', count, sum)\n",
    "for value in [9, 41, 12, 3, 74, 15] :\n",
    "    count = count + 1\n",
    "    sum = sum + value\n",
    "    print(count, sum, value)\n",
    "print('After', count, sum, sum / count)"
   ]
  },
  {
   "cell_type": "code",
   "execution_count": 11,
   "metadata": {},
   "outputs": [
    {
     "name": "stdout",
     "output_type": "stream",
     "text": [
      "Before\n",
      "Large number 41\n",
      "Large number 74\n",
      "After\n"
     ]
    }
   ],
   "source": [
    "print('Before')\n",
    "for value in [9, 41, 12, 3, 74, 15] :\n",
    "    if value > 20:\n",
    "        print('Large number',value)\n",
    "print('After')"
   ]
  },
  {
   "cell_type": "code",
   "execution_count": 12,
   "metadata": {},
   "outputs": [
    {
     "name": "stdout",
     "output_type": "stream",
     "text": [
      "Before False\n",
      "False 9\n",
      "False 41\n",
      "False 12\n",
      "True 3\n",
      "True 74\n",
      "True 15\n",
      "After True\n"
     ]
    }
   ],
   "source": [
    "found = False\n",
    "print('Before', found)\n",
    "for value in [9, 41, 12, 3, 74, 15] : \n",
    "    if value == 3 :\n",
    "        found = True\n",
    "    print(found, value)\n",
    "print('After', found)"
   ]
  },
  {
   "cell_type": "code",
   "execution_count": 13,
   "metadata": {},
   "outputs": [
    {
     "name": "stdout",
     "output_type": "stream",
     "text": [
      "Before -1\n",
      "9 9\n",
      "41 41\n",
      "41 12\n",
      "41 3\n",
      "74 74\n",
      "74 15\n",
      "After 74\n"
     ]
    }
   ],
   "source": [
    "largest_so_far = -1\n",
    "print('Before', largest_so_far)\n",
    "for the_num in [9, 41, 12, 3, 74, 15] :\n",
    "    if the_num > largest_so_far :\n",
    "        largest_so_far = the_num\n",
    "    print(largest_so_far, the_num)\n",
    "print('After', largest_so_far)"
   ]
  },
  {
   "cell_type": "code",
   "execution_count": 14,
   "metadata": {},
   "outputs": [
    {
     "name": "stdout",
     "output_type": "stream",
     "text": [
      "Before -1\n",
      "-1 9\n",
      "-1 41\n",
      "-1 12\n",
      "-1 3\n",
      "-1 74\n",
      "-1 15\n",
      "After -1\n"
     ]
    }
   ],
   "source": [
    "smallest_so_far = -1\n",
    "print('Before', smallest_so_far)\n",
    "for the_num in [9, 41, 12, 3, 74, 15] :\n",
    "    if the_num < smallest_so_far :\n",
    "        smallest_so_far = the_num\n",
    "    print(smallest_so_far, the_num)\n",
    "print('After', smallest_so_far)"
   ]
  },
  {
   "cell_type": "code",
   "execution_count": 15,
   "metadata": {},
   "outputs": [
    {
     "name": "stdout",
     "output_type": "stream",
     "text": [
      "Before\n",
      "9 9\n",
      "9 41\n",
      "9 12\n",
      "3 3\n",
      "3 74\n",
      "3 15\n",
      "After 3\n"
     ]
    }
   ],
   "source": [
    "smallest = None\n",
    "print('Before')\n",
    "for value in [9, 41, 12, 3, 74, 15] :\n",
    "    if smallest is None : \n",
    "        smallest = value\n",
    "    elif value < smallest : \n",
    "        smallest = value\n",
    "    print(smallest, value)\n",
    "print('After', smallest)"
   ]
  },
  {
   "cell_type": "markdown",
   "metadata": {},
   "source": [
    "### Mixed examples code practices"
   ]
  },
  {
   "cell_type": "code",
   "execution_count": 17,
   "metadata": {},
   "outputs": [
    {
     "name": "stdout",
     "output_type": "stream",
     "text": [
      "0\n",
      "2\n",
      "3\n"
     ]
    }
   ],
   "source": [
    "for i in range(4):\n",
    "    if i == 1:\n",
    "        continue\n",
    "    print(i)"
   ]
  },
  {
   "cell_type": "code",
   "execution_count": 19,
   "metadata": {},
   "outputs": [
    {
     "name": "stdout",
     "output_type": "stream",
     "text": [
      "0\n",
      "1\n",
      "2\n",
      "3\n",
      "\n",
      "0\n",
      "1\n",
      "finished!\n"
     ]
    }
   ],
   "source": [
    "for i in range(10):\n",
    "    if i > 3: break\n",
    "    print(i)\n",
    "else:\n",
    "    print(\"finished!\")\n",
    "    \n",
    "print()\n",
    "\n",
    "for i in range(2):\n",
    "    if i > 3: break\n",
    "    print(i)\n",
    "else:\n",
    "    print(\"finished!\")"
   ]
  },
  {
   "cell_type": "code",
   "execution_count": 20,
   "metadata": {},
   "outputs": [
    {
     "name": "stdout",
     "output_type": "stream",
     "text": [
      "0\n",
      "1\n",
      "2\n",
      "3\n"
     ]
    }
   ],
   "source": [
    "i = 0\n",
    "while i < 4:\n",
    "    print(i)\n",
    "    i += 1"
   ]
  },
  {
   "cell_type": "code",
   "execution_count": 21,
   "metadata": {},
   "outputs": [
    {
     "name": "stdout",
     "output_type": "stream",
     "text": [
      "The sum is 48\n"
     ]
    }
   ],
   "source": [
    "# Program to find the sum of all numbers stored in a list\n",
    "\n",
    "# List of numbers\n",
    "numbers = [6, 5, 3, 8, 4, 2, 5, 4, 11]\n",
    "\n",
    "# variable to store the sum\n",
    "sum = 0\n",
    "\n",
    "# iterate over the list\n",
    "for val in numbers:\n",
    "    sum = sum+val\n",
    "\n",
    "# Output: The sum is 48\n",
    "print(\"The sum is\", sum)"
   ]
  },
  {
   "cell_type": "code",
   "execution_count": 22,
   "metadata": {},
   "outputs": [
    {
     "name": "stdout",
     "output_type": "stream",
     "text": [
      "I like pop\n",
      "I like rock\n",
      "I like jazz\n"
     ]
    }
   ],
   "source": [
    "# Program to iterate through a list using indexing\n",
    "\n",
    "genre = ['pop', 'rock', 'jazz']\n",
    "\n",
    "# iterate over the list using index\n",
    "for i in range(len(genre)):\n",
    "    print(\"I like\", genre[i])"
   ]
  },
  {
   "cell_type": "code",
   "execution_count": 23,
   "metadata": {},
   "outputs": [
    {
     "name": "stdout",
     "output_type": "stream",
     "text": [
      "0\n",
      "1\n",
      "5\n",
      "No items left.\n"
     ]
    }
   ],
   "source": [
    "digits = [0, 1, 5]\n",
    "\n",
    "for i in digits:\n",
    "    print(i)\n",
    "else:\n",
    "    print(\"No items left.\")"
   ]
  },
  {
   "cell_type": "code",
   "execution_count": 24,
   "metadata": {},
   "outputs": [
    {
     "name": "stdout",
     "output_type": "stream",
     "text": [
      "The sum is 55\n"
     ]
    }
   ],
   "source": [
    "# Program to add natural\n",
    "# numbers upto \n",
    "# sum = 1+2+3+...+n\n",
    "\n",
    "# To take input from the user,\n",
    "# n = int(input(\"Enter n: \"))\n",
    "\n",
    "n = 10\n",
    "\n",
    "# initialize sum and counter\n",
    "sum = 0\n",
    "i = 1\n",
    "\n",
    "while i <= n:\n",
    "    sum = sum + i\n",
    "    i = i+1    # update counter\n",
    "\n",
    "# print the sum\n",
    "print(\"The sum is\", sum)"
   ]
  },
  {
   "cell_type": "code",
   "execution_count": 25,
   "metadata": {},
   "outputs": [
    {
     "name": "stdout",
     "output_type": "stream",
     "text": [
      "Inside loop\n",
      "Inside loop\n",
      "Inside loop\n",
      "Inside else\n"
     ]
    }
   ],
   "source": [
    "# Example to illustrate\n",
    "# the use of else statement\n",
    "# with the while loop\n",
    "\n",
    "counter = 0\n",
    "\n",
    "while counter < 3:\n",
    "    print(\"Inside loop\")\n",
    "    counter = counter + 1\n",
    "else:\n",
    "    print(\"Inside else\")"
   ]
  },
  {
   "cell_type": "code",
   "execution_count": 26,
   "metadata": {},
   "outputs": [
    {
     "name": "stdout",
     "output_type": "stream",
     "text": [
      "s\n",
      "t\n",
      "r\n",
      "The end\n"
     ]
    }
   ],
   "source": [
    "# Use of break statement inside loop\n",
    "\n",
    "for val in \"string\":\n",
    "    if val == \"i\":\n",
    "        break\n",
    "    print(val)\n",
    "\n",
    "print(\"The end\")"
   ]
  },
  {
   "cell_type": "code",
   "execution_count": 27,
   "metadata": {},
   "outputs": [
    {
     "name": "stdout",
     "output_type": "stream",
     "text": [
      "s\n",
      "t\n",
      "r\n",
      "n\n",
      "g\n",
      "The end\n"
     ]
    }
   ],
   "source": [
    "# Program to show the use of continue statement inside loops\n",
    "\n",
    "for val in \"string\":\n",
    "    if val == \"i\":\n",
    "        continue\n",
    "    print(val)\n",
    "\n",
    "print(\"The end\")"
   ]
  },
  {
   "cell_type": "code",
   "execution_count": 28,
   "metadata": {},
   "outputs": [],
   "source": [
    "# pass is just a placeholder for\n",
    "# functionality to be added later.\n",
    "sequence = {'p', 'a', 's', 's'}\n",
    "for val in sequence:\n",
    "    pass"
   ]
  },
  {
   "cell_type": "code",
   "execution_count": 29,
   "metadata": {},
   "outputs": [
    {
     "name": "stdout",
     "output_type": "stream",
     "text": [
      "What is the meaning of life, the universe, and everything? 2\n",
      "What is the meaning of life, the universe, and everything? 5\n",
      "What is the meaning of life, the universe, and everything? 41\n",
      "What is the meaning of life, the universe, and everything? 42\n"
     ]
    }
   ],
   "source": [
    "number = 0\n",
    "prompt = \"What is the meaning of life, the universe, and everything? \"\n",
    "\n",
    "while number != \"42\":\n",
    "    number =  input(prompt)"
   ]
  },
  {
   "cell_type": "code",
   "execution_count": 30,
   "metadata": {},
   "outputs": [
    {
     "name": "stdout",
     "output_type": "stream",
     "text": [
      "So I'm thinking of person's name. Try to guess it: ali\n",
      "Nope, that's not it! Hint: letter 1 is C. Guess again: can\n",
      "Nope, that's not it! Hint: letter 2 is i. Guess again: cigdem\n",
      "Nope, that's not it! Hint: letter 3 is h. Guess again: cihan\n",
      "Nope, that's not it! Hint: letter 4 is a. Guess again: Cihan\n",
      "\n",
      "Great, you got it in 5 guesses!\n"
     ]
    }
   ],
   "source": [
    "name = 'Cihan'\n",
    "guess = input(\"So I'm thinking of person's name. Try to guess it: \")\n",
    "pos = 0\n",
    "\n",
    "while guess != name and pos < len(name):\n",
    "    print(\"Nope, that's not it! Hint: letter \", end='')\n",
    "    print(pos + 1, \"is\", name[pos] + \". \", end='')\n",
    "    guess = input(\"Guess again: \")\n",
    "    pos = pos + 1\n",
    "\n",
    "if pos == len(name) and name != guess:\n",
    "    print(\"Too bad, you couldn't get it.  The name was\", name + \".\")\n",
    "else:\n",
    "    print(\"\\nGreat, you got it in\", pos + 1,  \"guesses!\")"
   ]
  },
  {
   "cell_type": "code",
   "execution_count": 31,
   "metadata": {},
   "outputs": [
    {
     "name": "stdout",
     "output_type": "stream",
     "text": [
      "Guess my number between 1 and 1000: 555\n",
      "555  is too low.\n",
      "Guess again: 649\n",
      "649  is too low.\n",
      "Guess again: 789\n",
      "789  is too low.\n",
      "Guess again: 950\n",
      "950 is too high.\n",
      "Guess again: 830\n",
      "830 is too high.\n",
      "Guess again: 800\n",
      "800 is too high.\n",
      "Guess again: 795\n",
      "795 is too high.\n",
      "Guess again: 792\n",
      "792 is too high.\n",
      "Guess again: 790\n",
      "790  is too low.\n",
      "Guess again: 791\n",
      "\n",
      "\n",
      "Great, you got it in 9 guesses!\n"
     ]
    }
   ],
   "source": [
    "import random                      # Import the random module \n",
    "\n",
    "number = random.randrange(1, 1000) # Get random number between [1 and 1000)\n",
    "guesses = 0\n",
    "guess = int(input(\"Guess my number between 1 and 1000: \"))\n",
    "\n",
    "while guess != number:\n",
    "    guesses += 1\n",
    "    if guess > number:\n",
    "        print(guess, \"is too high.\") \n",
    "    elif guess < number:\n",
    "        print(guess, \" is too low.\")\n",
    "    guess = int(input(\"Guess again: \"))\n",
    "\n",
    "print(\"\\n\\nGreat, you got it in\", guesses,  \"guesses!\")"
   ]
  },
  {
   "cell_type": "code",
   "execution_count": 32,
   "metadata": {},
   "outputs": [
    {
     "name": "stdout",
     "output_type": "stream",
     "text": [
      "12\n",
      "16\n",
      "done\n"
     ]
    }
   ],
   "source": [
    "for i in [12, 16, 17, 24, 29]:\n",
    "    if i % 2 == 1:  # if the number is odd\n",
    "        break        # immediately exit the loop\n",
    "    print(i)\n",
    "print(\"done\")"
   ]
  },
  {
   "cell_type": "code",
   "execution_count": 33,
   "metadata": {},
   "outputs": [
    {
     "name": "stdout",
     "output_type": "stream",
     "text": [
      "12\n",
      "16\n",
      "24\n",
      "30\n",
      "done\n"
     ]
    }
   ],
   "source": [
    "for i in [12, 16, 17, 24, 29, 30]:\n",
    "    if i % 2 == 1:      # if the number is odd\n",
    "        continue        # don't process it\n",
    "    print(i)\n",
    "print(\"done\")"
   ]
  },
  {
   "cell_type": "code",
   "execution_count": 34,
   "metadata": {},
   "outputs": [
    {
     "name": "stdout",
     "output_type": "stream",
     "text": [
      "Please enter a sentence: Hello World my name is Cihan!\n",
      "You sentence with spaces removed:\n",
      "HelloWorldmynameisCihan!\n"
     ]
    }
   ],
   "source": [
    "sentence = input('Please enter a sentence: ')\n",
    "no_spaces = ''\n",
    "\n",
    "for letter in sentence:\n",
    "    if letter != ' ':\n",
    "        no_spaces += letter\n",
    "\n",
    "print(\"You sentence with spaces removed:\")\n",
    "print(no_spaces)"
   ]
  },
  {
   "cell_type": "code",
   "execution_count": 35,
   "metadata": {},
   "outputs": [
    {
     "name": "stdout",
     "output_type": "stream",
     "text": [
      "Ali takes 2 courses\n",
      "Can takes 3 courses\n",
      "Ece takes 3 courses\n",
      "Merve takes 4 courses\n",
      "Mehmet takes 5 courses\n",
      "The number of students taking CompSci is 3\n"
     ]
    }
   ],
   "source": [
    "students = [(\"Ali\", [\"CompSci\", \"Physics\"]),\n",
    "            (\"Can\", [\"Math\", \"CompSci\", \"Stats\"]),\n",
    "            (\"Ece\", [\"CompSci\", \"Accounting\", \"Economics\"]),\n",
    "            (\"Merve\", [\"InfSys\", \"Accounting\", \"Economics\", \"CommLaw\"]),\n",
    "            (\"Mehmet\", [\"Sociology\", \"Economics\", \"Law\", \"Stats\", \"Music\"])]\n",
    "\n",
    "# print all students with a count of their courses.\n",
    "for (name, subjects) in students:\n",
    "    print(name, \"takes\", len(subjects), \"courses\")\n",
    "    \n",
    "# Count how many students are taking CompSci\n",
    "counter = 0\n",
    "for (name, subjects) in students:\n",
    "    for s in subjects:                 # a nested loop!\n",
    "        if s == \"CompSci\":\n",
    "            counter += 1\n",
    "\n",
    "print(\"The number of students taking CompSci is\", counter)"
   ]
  },
  {
   "cell_type": "code",
   "execution_count": 36,
   "metadata": {},
   "outputs": [
    {
     "name": "stdout",
     "output_type": "stream",
     "text": [
      "[1, 4, 9, 16]\n",
      "[9, 16]\n",
      "[(1, 1, 1), (2, 4, 8), (3, 9, 27), (4, 16, 64)]\n",
      "['bin', 'Data', 'Desktop']\n",
      "['a', 'b', 'c', 'aa', 'bb', 'cc', 'aaa', 'bbb', 'ccc', 'aaaa', 'bbbb', 'cccc']\n"
     ]
    }
   ],
   "source": [
    "numbers = [1, 2, 3, 4]\n",
    "print([x**2 for x in numbers])\n",
    "print([x**2 for x in numbers if x**2 > 8])\n",
    "print([(x, x**2, x**3) for x in numbers])\n",
    "files = ['bin', 'Data', 'Desktop', '.bashrc', '.ssh', '.vimrc']\n",
    "print([name for name in files if name[0] != '.'])\n",
    "letters = ['a', 'b', 'c']\n",
    "print([n * letter for n in numbers for letter in letters])"
   ]
  },
  {
   "cell_type": "code",
   "execution_count": 37,
   "metadata": {},
   "outputs": [
    {
     "name": "stdout",
     "output_type": "stream",
     "text": [
      "enter a number5\n",
      "factorial of 5 is 120\n"
     ]
    }
   ],
   "source": [
    "num=int(input(\"enter a number\"))\n",
    "fact=1\n",
    "for x in range(1,num+1):\n",
    "    fact=fact*x\n",
    "print (\"factorial of {} is {}\".format(num,fact))"
   ]
  },
  {
   "cell_type": "code",
   "execution_count": 38,
   "metadata": {},
   "outputs": [
    {
     "name": "stdout",
     "output_type": "stream",
     "text": [
      "A\n",
      "C\n",
      "M\n",
      "1\n",
      "1\n",
      "4\n",
      " \n",
      "P\n",
      "y\n",
      "t\n",
      "h\n",
      "o\n",
      "n\n"
     ]
    }
   ],
   "source": [
    "for char in \"ACM114 Python\":\n",
    "    print (char)"
   ]
  },
  {
   "cell_type": "code",
   "execution_count": 39,
   "metadata": {},
   "outputs": [
    {
     "name": "stdout",
     "output_type": "stream",
     "text": [
      "average: 25.0\n"
     ]
    }
   ],
   "source": [
    "sum=0\n",
    "numbers=[10,20,30,40]\n",
    "for num in numbers:\n",
    "       sum=sum+num\n",
    "avg=sum/len(numbers)\n",
    "print ('average:', avg)"
   ]
  },
  {
   "cell_type": "code",
   "execution_count": 43,
   "metadata": {},
   "outputs": [
    {
     "name": "stdout",
     "output_type": "stream",
     "text": [
      "(1, 100)\n",
      "(2, 200)\n",
      "(3, 300)\n",
      "\n",
      "1 100\n",
      "2 200\n",
      "3 300\n",
      "\n",
      "1 100\n",
      "2 200\n",
      "3 300\n"
     ]
    }
   ],
   "source": [
    "dict={1:100, 2:200, 3:300}\n",
    "for pair in dict.items():\n",
    "    print (pair)\n",
    "    \n",
    "print()\n",
    "for k,v in dict.items():\n",
    "    print (k,v)\n",
    "    \n",
    "print()\n",
    "for k in dict.keys():\n",
    "    print (k,dict.get(k))"
   ]
  },
  {
   "cell_type": "code",
   "execution_count": 45,
   "metadata": {},
   "outputs": [
    {
     "name": "stdout",
     "output_type": "stream",
     "text": [
      "iteration no  1\n",
      "iteration no  2\n",
      "iteration no  3\n",
      "iteration no  4\n",
      "iteration no  5\n",
      "in else block in loop\n",
      "end of loop\n"
     ]
    }
   ],
   "source": [
    "for x in range(5):\n",
    "    print (\"iteration no \", x+1)\n",
    "else:\n",
    "    print (\"in else block in loop\")\n",
    "print (\"end of loop\")"
   ]
  },
  {
   "cell_type": "code",
   "execution_count": 47,
   "metadata": {},
   "outputs": [
    {
     "name": "stdout",
     "output_type": "stream",
     "text": [
      "iteration no  2\n",
      "iteration no  3\n",
      "iteration no  4\n",
      "iteration no  5\n",
      "iteration no  6\n",
      "iteration no  7\n",
      "This is last statement in loop\n",
      "end of loop\n"
     ]
    }
   ],
   "source": [
    "x=0\n",
    "while x<=5:\n",
    "    x=x+1\n",
    "    print (\"iteration no \",(x+1))\n",
    "else:\n",
    "    print (\"This is last statement in loop\")\n",
    "print (\"end of loop\")"
   ]
  },
  {
   "cell_type": "code",
   "execution_count": 51,
   "metadata": {},
   "outputs": [
    {
     "name": "stdout",
     "output_type": "stream",
     "text": [
      "enter a number: 41\n",
      "41 is prime\n"
     ]
    }
   ],
   "source": [
    "num=int(input(\"enter a number: \"))\n",
    "for x in range(2,num):\n",
    "    if num%x==0:\n",
    "        print (\"{} is not prime\".format(num))\n",
    "        break\n",
    "else:\n",
    "    print (\"{} is prime\".format(num))"
   ]
  },
  {
   "cell_type": "code",
   "execution_count": 53,
   "metadata": {},
   "outputs": [
    {
     "name": "stdout",
     "output_type": "stream",
     "text": [
      "Enter a number: 5\n",
      "Enter a number: 3\n",
      "Enter a number: 1\n",
      "Enter a number: 7\n",
      "Enter a number: 0\n",
      "Got an even number on attempt no. 5\n"
     ]
    }
   ],
   "source": [
    "count=0\n",
    "while True:\n",
    "    count=count+1\n",
    "    n=int(input(\"Enter a number: \"))\n",
    "    if n%2!=0:\n",
    "        continue\n",
    "    print (\"Got an even number on attempt no. {}\".format(count))\n",
    "    break"
   ]
  },
  {
   "cell_type": "code",
   "execution_count": 54,
   "metadata": {},
   "outputs": [
    {
     "name": "stdout",
     "output_type": "stream",
     "text": [
      "x=0 y=0\n",
      "x=0 y=1\n",
      "x=1 y=0\n",
      "x=1 y=1\n"
     ]
    }
   ],
   "source": [
    "for x in range(2):\n",
    "    for y in range(2):\n",
    "        print (\"x={} y={}\".format(x,y))"
   ]
  },
  {
   "cell_type": "code",
   "execution_count": 60,
   "metadata": {},
   "outputs": [
    {
     "name": "stdout",
     "output_type": "stream",
     "text": [
      "10\n",
      "11\n",
      "12\n",
      "13\n",
      "14\n"
     ]
    }
   ],
   "source": [
    "for x in range(10,20):\n",
    "    if x == 15: break\n",
    "    #if x % 2 == 0: continue\n",
    "    print(x)"
   ]
  },
  {
   "cell_type": "code",
   "execution_count": 63,
   "metadata": {},
   "outputs": [
    {
     "name": "stdout",
     "output_type": "stream",
     "text": [
      "10\n",
      "11\n",
      "13\n",
      "14\n",
      "16\n",
      "17\n",
      "19\n"
     ]
    }
   ],
   "source": [
    "for x in range (10,20):\n",
    "    #if (x == 15): break\n",
    "    if (x % 3 == 0) : continue\n",
    "    print(x)"
   ]
  },
  {
   "cell_type": "code",
   "execution_count": 66,
   "metadata": {},
   "outputs": [
    {
     "name": "stdout",
     "output_type": "stream",
     "text": [
      "1 Jan\n",
      "2 Feb\n",
      "3 Mar\n",
      "4 April\n",
      "5 May\n",
      "6 June\n",
      "7 July\n",
      "8 Aug\n",
      "9 Sep\n",
      "10 Oct\n",
      "11 Nov\n",
      "12 Dec\n"
     ]
    }
   ],
   "source": [
    "#use a for loop over a collection\n",
    "Months = [\"Jan\",\"Feb\",\"Mar\",\"April\",\"May\",\"June\", \"July\", \"Aug\", \"Sep\", \"Oct\", \"Nov\", \"Dec\"]\n",
    "for i, m in enumerate (Months):\n",
    "    print(i+1,m)"
   ]
  },
  {
   "cell_type": "code",
   "execution_count": 67,
   "metadata": {},
   "outputs": [
    {
     "name": "stdout",
     "output_type": "stream",
     "text": [
      "Python 1\n",
      "Python 2\n",
      "Python 3\n",
      "Python 4\n",
      "Python 5\n"
     ]
    }
   ],
   "source": [
    "for i in '12345':\n",
    "    print (\"Python\",i)"
   ]
  },
  {
   "cell_type": "code",
   "execution_count": 72,
   "metadata": {},
   "outputs": [
    {
     "name": "stdout",
     "output_type": "stream",
     "text": [
      "Enter n:5\n",
      "[5, 5, 5, 5, 5]\n",
      "[[5, 5, 5, 5, 5], [5, 5, 5, 5, 5], [5, 5, 5, 5, 5], [5, 5, 5, 5, 5], [5, 5, 5, 5, 5]]\n",
      "\n",
      "[[5, 5, 5, 5, 5], [5, 5, 5, 5, 5], [5, 5, 5, 5, 5], [5, 5, 5, 5, 5], [5, 5, 5, 5, 5]]\n",
      "\n",
      "[5, 5, 5, 5, 5]\n",
      "[[5, 5, 5, 5, 5], [5, 5, 5, 5, 5], [5, 5, 5, 5, 5], [5, 5, 5, 5, 5], [5, 5, 5, 5, 5]]\n",
      "\n",
      "0 1\n",
      "1 2\n",
      "2 3\n",
      "3 4\n",
      "4 5\n",
      "\n",
      "0 1\n",
      "1 2\n",
      "2 3\n",
      "3 4\n",
      "4 5\n",
      "\n",
      "['P', 'y', 't', 'h', 'o', 'n']\n",
      "index is 0 and character is P:\n",
      "index is 1 and character is y:\n",
      "index is 2 and character is t:\n",
      "index is 3 and character is h:\n",
      "index is 4 and character is o:\n",
      "index is 5 and character is n:\n",
      "\n",
      "index is 0, character is P:\n",
      "index is 1, character is y:\n",
      "index is 2, character is t:\n",
      "index is 3, character is h:\n",
      "index is 4, character is o:\n",
      "index is 5, character is n:\n"
     ]
    }
   ],
   "source": [
    "n = int(input(\"Enter n:\"))\n",
    "list1 = [n for i in range(0,n)]\n",
    "sub_list = [list1 for i in range(0,n)]\n",
    "print(list1)\n",
    "print(sub_list)\n",
    "\n",
    "print()\n",
    "\n",
    "L = [[n for i in range(0,n)] for i in range(0,n)]\n",
    "print(L)\n",
    "\n",
    "print()\n",
    "\n",
    "L1 = []\n",
    "sub_L1 = []\n",
    "for i in range(0,n):\n",
    "    L1.append(n)\n",
    "    sub_L1.append(L1)\n",
    "print(L1)\n",
    "print(sub_L1)\n",
    "\n",
    "print()\n",
    "\n",
    "i = 0\n",
    "list2 = list(range(1,6))\n",
    "for l in list2:\n",
    "    print(i, l)\n",
    "    i += 1\n",
    "\n",
    "print()\n",
    "\n",
    "for i, val in enumerate(list2):\n",
    "    print(i, val)\n",
    "\n",
    "print()\n",
    "\n",
    "string = 'Python'\n",
    "list3 = list(string)\n",
    "print(list3)\n",
    "\n",
    "for idx, ch in enumerate(string):\n",
    "    print(\"index is %d and character is %s:\" %(idx, ch))\n",
    "    \n",
    "\n",
    "print()\n",
    "\n",
    "j = 0\n",
    "for ele in list3:\n",
    "    print(\"index is {}, character is {}:\".format(j, ele))\n",
    "    # print(\"index is {0}, character is {1}:\".format(j, ele))\n",
    "    j += 1"
   ]
  },
  {
   "cell_type": "code",
   "execution_count": 5,
   "metadata": {},
   "outputs": [
    {
     "name": "stdout",
     "output_type": "stream",
     "text": [
      "Enter the number of elements for lists: 2 3\n",
      "ali\n",
      "3\n",
      "veli\n",
      "4\n",
      "\n",
      "List 1:  [['ali', 3], ['veli', 4]]  --> before exchange with list_2!\n",
      "mehmet\n",
      "5\n",
      "can\n",
      "7\n",
      "ayşe\n",
      "11\n",
      "\n",
      "List 2:  [['mehmet', 5], ['can', 7], ['ayşe', 11]]  --> before exchange with list_1!\n",
      "\n",
      "After exchange process --> List 1:  [['mehmet', 5], ['can', 7], ['ayşe', 11]]\n",
      "After exchange process --> List 2:  [['ali', 3], ['veli', 4]]\n"
     ]
    }
   ],
   "source": [
    "list_1 = []\n",
    "list_2 = []\n",
    "list_3 = []\n",
    "list_4 = []\n",
    "m = input(\"Enter the number of elements for lists: \").split()\n",
    "# m = [x for x in input(\"Enter the number of elements for lists: \").split(',')]\n",
    "\n",
    "for i in range(int(m[0])):\n",
    "    # n = input(\"Element \"+str(i+1)+\" for list_1: \")\n",
    "    n = [input(), int(input())]\n",
    "    list_1.append(n)\n",
    "    list_3.append(n)\n",
    "\n",
    "print()\n",
    "print(\"List 1: \", list_1, \" --> before exchange with list_2!\")\n",
    "list_1.clear()\n",
    "    \n",
    "for j in range(int(m[1])):\n",
    "    # k = input(\"Element \"+str(i+1)+\" for list_2: \")\n",
    "    k = [input(), int(input())]\n",
    "    list_2.append(k)\n",
    "    list_4.append(k)\n",
    "\n",
    "print()\n",
    "print(\"List 2: \", list_2, \" --> before exchange with list_1!\")\n",
    "list_2.clear()\n",
    "    \n",
    "for x in list_3:\n",
    "    list_2.append(x)\n",
    "    \n",
    "for y in list_4:\n",
    "    list_1.append(y)\n",
    "\n",
    "print()\n",
    "print(\"After exchange process --> List 1: \", list_1)\n",
    "print(\"After exchange process --> List 2: \", list_2)"
   ]
  },
  {
   "cell_type": "code",
   "execution_count": null,
   "metadata": {},
   "outputs": [],
   "source": []
  }
 ],
 "metadata": {
  "kernelspec": {
   "display_name": "Python 3",
   "language": "python",
   "name": "python3"
  }
 },
 "nbformat": 4,
 "nbformat_minor": 2
}
