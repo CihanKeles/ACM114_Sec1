{
 "cells": [
  {
   "cell_type": "markdown",
   "metadata": {},
   "source": [
    "**1. Write a function that takes a value for the grade and returns a string according to that value. Program should print: grade F for any value less than 60 and 60, grade D for a value from 61 to 69, grade C for a value from 70 to 79, grade B for a value from 80 to 89 and grade A for a value of 90 and above. Write the code that tests each grade range. (Use input() function to assign values to the variables!)**"
   ]
  },
  {
   "cell_type": "code",
   "execution_count": 5,
   "metadata": {},
   "outputs": [
    {
     "name": "stdout",
     "output_type": "stream",
     "text": [
      "Enter the grade: 93\n",
      "Final Grade:  A\n"
     ]
    }
   ],
   "source": [
    "score = int(input(\"Enter the grade: \"))\n",
    "if score >= 90:\n",
    "    letterGrade = \"A\"\n",
    "elif score >= 80:\n",
    "    letterGrade = \"B\"\n",
    "elif score >= 70:\n",
    "    letterGrade = \"C\"\n",
    "elif score >= 60:\n",
    "    letterGrade = \"D\"\n",
    "elif score < 60:\n",
    "    letterGrade = \"F\"\n",
    "print(\"Final Grade: \", letterGrade)"
   ]
  },
  {
   "cell_type": "code",
   "execution_count": 7,
   "metadata": {},
   "outputs": [
    {
     "name": "stdout",
     "output_type": "stream",
     "text": [
      "Enter the grade: 45\n",
      "Final Grade:  F\n"
     ]
    }
   ],
   "source": [
    "# Alternative solution \n",
    "score = int(input(\"Enter the grade: \"))\n",
    "if score >= 90:\n",
    "    letterGrade = \"A\"\n",
    "if score >= 80 and score < 90:\n",
    "    letterGrade = \"B\"\n",
    "if score >= 70 and score < 80:\n",
    "    letterGrade = \"C\"\n",
    "if score >= 60 and score < 70:\n",
    "    letterGrade = \"D\"\n",
    "if score <= 60:\n",
    "    letterGrade= \"F\"\n",
    "print(\"Final Grade: \", letterGrade)"
   ]
  },
  {
   "cell_type": "markdown",
   "metadata": {},
   "source": [
    "**2. Write a code that prints the expression \"even\" if the given value is even and \"odd\" if the given value is odd. Test both possibilities. (Use input() function to assign values to the variables!)**"
   ]
  },
  {
   "cell_type": "code",
   "execution_count": 8,
   "metadata": {},
   "outputs": [
    {
     "name": "stdout",
     "output_type": "stream",
     "text": [
      "Enter a value: 5\n",
      "odd\n"
     ]
    }
   ],
   "source": [
    "x = int(input(\"Enter a value: \"))\n",
    "if x % 2 == 0:\n",
    "    print(\"even\")\n",
    "else:             # or if x % 2 != 0: or if x % 2 == 1\n",
    "    print(\"odd\")"
   ]
  },
  {
   "cell_type": "markdown",
   "metadata": {},
   "source": [
    "**3. Write a procedure that takes 3 integers (You should get these values using input() function), the first price for a product, the second price for an other product and the amount in the wallet. Program should print: if the difference between the amount in the wallet and the total price is greater than 0 or equals to 0, \"You have enough money.\" expression; otherwise \"Make more money!\" expression.**"
   ]
  },
  {
   "cell_type": "code",
   "execution_count": 10,
   "metadata": {},
   "outputs": [
    {
     "name": "stdout",
     "output_type": "stream",
     "text": [
      "Enter the first price: 15\n",
      "Enter the second price: 25\n",
      "Enter the current amount in your wallet: 50\n",
      "You have enough money.\n"
     ]
    }
   ],
   "source": [
    "price_1 = int(input(\"Enter the first price: \"))\n",
    "price_2 = int(input(\"Enter the second price: \"))\n",
    "amountWallet = int(input(\"Enter the current amount in your wallet: \"))\n",
    "totalPrice = price_1 + price_2\n",
    "if amountWallet - totalPrice == 0 or amountWallet - totalPrice > 0:\n",
    "    print(\"You have enough money.\")\n",
    "else:             # or if amountWallet – totalPrice < 0:\n",
    "    print(\"Make more money!\")"
   ]
  },
  {
   "cell_type": "markdown",
   "metadata": {},
   "source": [
    "**4. Write a code that prints \"Really\" when the number entered is divisible by 3, \"Yes\" when it is divisible by 5, and \"ReallyYes\" when it is divisible by both 3 and 5. (The program should also print \"Really\" and \"Yes\" if the number can be divided into both 3 and 5.) (Use input() function to assign values to the variables!)**"
   ]
  },
  {
   "cell_type": "code",
   "execution_count": 11,
   "metadata": {},
   "outputs": [
    {
     "name": "stdout",
     "output_type": "stream",
     "text": [
      "Enter a number: 15\n",
      "Really\n",
      "Yes\n",
      "ReallyYes\n"
     ]
    }
   ],
   "source": [
    "number = int(input(\"Enter a number: \"))\n",
    "str1 = \"Really\"\n",
    "str2 = \"Yes\"\n",
    "if number % 3 == 0:\n",
    "    print(str1)\n",
    "if number % 5 == 0:\n",
    "    print(str2)\n",
    "if number % 3 == 0 and number % 5 == 0:\n",
    "    print(str1+str2)"
   ]
  },
  {
   "cell_type": "markdown",
   "metadata": {},
   "source": [
    "**5. Create a list of all odd numbers between 1 and 20 and find the average of these numbers. Then create a list of numbers from 1 to 100, using the average number as an increment, and print the product of these numbers.**"
   ]
  },
  {
   "cell_type": "code",
   "execution_count": 25,
   "metadata": {},
   "outputs": [
    {
     "name": "stdout",
     "output_type": "stream",
     "text": [
      "Average of all odd numbers from 1 to 20:  10\n",
      "Product of the numbers from 1 to 100 with an increment as 10: 478015854767451\n"
     ]
    }
   ],
   "source": [
    "numbers = range(1, 21, 2)\n",
    "total = 0\n",
    "count = 0\n",
    "for number in numbers:\n",
    "    total = total + number\n",
    "    count = count + 1\n",
    "average = int((total / count))\n",
    "print(\"Average of all odd numbers from 1 to 20: \", average)\n",
    "list_1 = range(1, 101, average)\n",
    "product = 1\n",
    "for number in list_1:\n",
    "    product = product * number\n",
    "print(\"Product of the numbers from 1 to 100 with an increment as %d: %d\" % (average, product))"
   ]
  },
  {
   "cell_type": "code",
   "execution_count": 28,
   "metadata": {},
   "outputs": [
    {
     "name": "stdout",
     "output_type": "stream",
     "text": [
      "Average of all odd numbers from 1 to 20:  10\n",
      "Product of the numbers from 1 to 100 with an increment as 10: 478015854767451\n"
     ]
    }
   ],
   "source": [
    "# Alternative solution with using list methods\n",
    "numbers = range(1, 21, 2)\n",
    "average = int((sum(numbers) / len(numbers)))\n",
    "print(\"Average of all odd numbers from 1 to 20: \", average)\n",
    "list_1 = range(1, 101, average)\n",
    "product = 1\n",
    "for number in list_1:\n",
    "    product = product * number\n",
    "print(\"Product of the numbers from 1 to 100 with an increment as %d: %d\" % (average, product))"
   ]
  },
  {
   "cell_type": "markdown",
   "metadata": {},
   "source": [
    "**6. Write the code that finds the maximum number in the list of integers below. (Without using list methods)**"
   ]
  },
  {
   "cell_type": "raw",
   "metadata": {},
   "source": [
    "liste = [3, -77, 101, 33, -23, 0, 55, -11, 27, 91]"
   ]
  },
  {
   "cell_type": "code",
   "execution_count": 26,
   "metadata": {},
   "outputs": [
    {
     "name": "stdout",
     "output_type": "stream",
     "text": [
      "The largest value in the list:  101\n"
     ]
    }
   ],
   "source": [
    "liste = [3, -77, 101, 33, -23, 0, 55, -11, 27, 91]\n",
    "max = liste[0]\n",
    "for number in liste:\n",
    "        if number > max:\n",
    "            max = number\n",
    "print(\"The largest value in the list: \", max)"
   ]
  },
  {
   "cell_type": "markdown",
   "metadata": {},
   "source": [
    "**7. Create a blank list called number_list consisting of fractional numbers entered by the user, with a total value of 10. Write the program that calculates the smallest and largest value of this list, and the sum and average of all its elements. (You can use list methods.)**"
   ]
  },
  {
   "cell_type": "code",
   "execution_count": 2,
   "metadata": {},
   "outputs": [
    {
     "name": "stdout",
     "output_type": "stream",
     "text": [
      "Enter number 1 of 10: 1.2\n",
      "Enter number 2 of 10: 2.3\n",
      "Enter number 3 of 10: 4.5\n",
      "Enter number 4 of 10: 7.546\n",
      "Enter number 5 of 10: 12.34\n",
      "Enter number 6 of 10: 23.78\n",
      "Enter number 7 of 10: 123.657\n",
      "Enter number 8 of 10: 1.23243545\n",
      "Enter number 9 of 10: 0.6890\n",
      "Enter number 10 of 10: 45.438\n",
      "The smallest value of the list: 0.689\n",
      "The largest value of the list: 123.657\n",
      "Sum of all numbers in the list: 222.68\n",
      "Average of all numbers in the list: 22.27\n",
      "Average of all numbers in the list: 22.27\n"
     ]
    }
   ],
   "source": [
    "# List to store numbers\n",
    "number_list = []\n",
    "\n",
    "# Variables\n",
    "smallest = 0.0\n",
    "largest = 0.0\n",
    "total = 0.0\n",
    "average = 0.0\n",
    "number = 0\n",
    "\n",
    "# Prompt for numbers \n",
    "for i in range(10):\n",
    "    number = float(input('Enter number ' + \\\n",
    "                        str(i + 1) + \\\n",
    "                        ' of 10: '))\n",
    "    number_list.append(number)\n",
    "\n",
    "smallest = min(number_list)\n",
    "largest = max(number_list)\n",
    "total = sum(number_list)\n",
    "average_1 = total / 10.0\n",
    "average_2 = total / len(number_list)\n",
    "\n",
    "print ('The smallest value of the list:', smallest)\n",
    "print ('The largest value of the list:', largest)\n",
    "print ('Sum of all numbers in the list:', format(total, ',.2f'))\n",
    "print ('Average of all numbers in the list:', format(average_1, ',.2f'))\n",
    "print ('Average of all numbers in the list:', format(average_2, ',.2f'))"
   ]
  },
  {
   "cell_type": "markdown",
   "metadata": {},
   "source": [
    "**8. a) What will be the output of the following Python code snippet?**"
   ]
  },
  {
   "cell_type": "raw",
   "metadata": {},
   "source": [
    "my_string = \"hello world\"\n",
    "k = [(i.upper(), len(i)) for i in my_string]\n",
    "print(k)"
   ]
  },
  {
   "cell_type": "markdown",
   "metadata": {},
   "source": [
    "    A. [(‘HELLO’, 5), (‘WORLD’, 5)]\n",
    "    B. [(‘H’, 1), (‘E’, 1), (‘L’, 1), (‘L’, 1), (‘O’, 1), (‘ ‘, 1), (‘W’, 1), (‘O’, 1), (‘R’, 1),            (‘L’, 1), (‘D’, 1)]\n",
    "    C. [(‘HELLO WORLD’, 11)]\n",
    "    D. None of the mentioned"
   ]
  },
  {
   "cell_type": "code",
   "execution_count": 3,
   "metadata": {},
   "outputs": [
    {
     "name": "stdout",
     "output_type": "stream",
     "text": [
      "[('H', 1), ('E', 1), ('L', 1), ('L', 1), ('O', 1), (' ', 1), ('W', 1), ('O', 1), ('R', 1), ('L', 1), ('D', 1)]\n"
     ]
    }
   ],
   "source": [
    "my_string = \"hello world\"\n",
    "k = [(i.upper(), len(i)) for i in my_string]\n",
    "print(k)"
   ]
  },
  {
   "cell_type": "markdown",
   "metadata": {},
   "source": [
    "B"
   ]
  },
  {
   "cell_type": "markdown",
   "metadata": {},
   "source": [
    "**8. b) What will be the output of the following Python code snippet?**"
   ]
  },
  {
   "cell_type": "raw",
   "metadata": {},
   "source": [
    "print([[i+j for i in \"abc\"] for j in \"def\"])"
   ]
  },
  {
   "cell_type": "markdown",
   "metadata": {},
   "source": [
    "    A. [‘da’, ‘ea’, ‘fa’, ‘db’, ‘eb’, ‘fb’, ‘dc’, ‘ec’, ‘fc’]\n",
    "    B. [[‘ad’, ‘bd’, ‘cd’], [‘ae’, ‘be’, ‘ce’], [‘af’, ‘bf’, ‘cf’]]\n",
    "    C. [[‘da’, ‘db’, ‘dc’], [‘ea’, ‘eb’, ‘ec’], [‘fa’, ‘fb’, ‘fc’]]\n",
    "    D. [‘ad’, ‘ae’, ‘af’, ‘bd’, ‘be’, ‘bf’, ‘cd’, ‘ce’, ‘cf’]"
   ]
  },
  {
   "cell_type": "code",
   "execution_count": 5,
   "metadata": {},
   "outputs": [
    {
     "name": "stdout",
     "output_type": "stream",
     "text": [
      "[['ad', 'bd', 'cd'], ['ae', 'be', 'ce'], ['af', 'bf', 'cf']]\n"
     ]
    }
   ],
   "source": [
    "print([[i+j for i in \"abc\"] for j in \"def\"])"
   ]
  },
  {
   "cell_type": "markdown",
   "metadata": {},
   "source": [
    "B"
   ]
  },
  {
   "cell_type": "markdown",
   "metadata": {},
   "source": [
    "**9. a) What will be the output of the following Python code?**"
   ]
  },
  {
   "cell_type": "raw",
   "metadata": {},
   "source": [
    "a = ('check',)\n",
    "n = 2\n",
    "for i in range(int(n)):\n",
    "    a = (a,)\n",
    "    print(a)"
   ]
  },
  {
   "cell_type": "markdown",
   "metadata": {},
   "source": [
    "    A. Error, tuples are immutable\n",
    "    B. (('check',),)\n",
    "       ((('check',),),)\n",
    "    C. ((‘check’,)’check’,)\n",
    "    D. (('check',)’check’,)\n",
    "       ((('check',)’check’,)’check’,)"
   ]
  },
  {
   "cell_type": "code",
   "execution_count": 6,
   "metadata": {},
   "outputs": [
    {
     "name": "stdout",
     "output_type": "stream",
     "text": [
      "(('check',),)\n",
      "((('check',),),)\n"
     ]
    }
   ],
   "source": [
    "a = ('check',)\n",
    "n = 2\n",
    "for i in range(int(n)):\n",
    "    a = (a,)\n",
    "    print(a)"
   ]
  },
  {
   "cell_type": "markdown",
   "metadata": {},
   "source": [
    "B"
   ]
  },
  {
   "cell_type": "markdown",
   "metadata": {},
   "source": [
    "**9. b) What will be the output of the following Python code?**"
   ]
  },
  {
   "cell_type": "raw",
   "metadata": {},
   "source": [
    ">>> a,b=6,7\n",
    ">>> a,b=b,a\n",
    ">>> a,b"
   ]
  },
  {
   "cell_type": "markdown",
   "metadata": {},
   "source": [
    "    A. (6,7)\n",
    "    B. Invalid syntax\n",
    "    C. (7,6)\n",
    "    D. Nothing is printed"
   ]
  },
  {
   "cell_type": "code",
   "execution_count": 7,
   "metadata": {},
   "outputs": [
    {
     "data": {
      "text/plain": [
       "(7, 6)"
      ]
     },
     "execution_count": 7,
     "metadata": {},
     "output_type": "execute_result"
    }
   ],
   "source": [
    "a,b=6,7\n",
    "a,b=b,a\n",
    "a,b"
   ]
  },
  {
   "cell_type": "markdown",
   "metadata": {},
   "source": [
    "C"
   ]
  }
 ],
 "metadata": {
  "kernelspec": {
   "display_name": "Python 3",
   "language": "python",
   "name": "python3"
  },
  "language_info": {
   "codemirror_mode": {
    "name": "ipython",
    "version": 3
   },
   "file_extension": ".py",
   "mimetype": "text/x-python",
   "name": "python",
   "nbconvert_exporter": "python",
   "pygments_lexer": "ipython3",
   "version": "3.7.4"
  }
 },
 "nbformat": 4,
 "nbformat_minor": 2
}
