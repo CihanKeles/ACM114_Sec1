{
 "cells": [
  {
   "cell_type": "markdown",
   "metadata": {},
   "source": [
    "You’ll cover the important characteristics of lists and tuples. You’ll learn how to define them and how to manipulate them. When you’re finished, you should have a good feel for when and how to use these object types in a Python program."
   ]
  },
  {
   "cell_type": "markdown",
   "metadata": {},
   "source": [
    "# 1. Python List"
   ]
  },
  {
   "cell_type": "markdown",
   "metadata": {},
   "source": [
    "## 1.1. How to create a list?"
   ]
  },
  {
   "cell_type": "markdown",
   "metadata": {},
   "source": [
    "In Python programming, a list is created by placing all the items (elements) inside a square bracket [ ], separated by commas.\n",
    "\n",
    "* It can have any number of items and they may be of different types (integer, float, string etc.)."
   ]
  },
  {
   "cell_type": "code",
   "execution_count": 2,
   "metadata": {},
   "outputs": [
    {
     "name": "stdout",
     "output_type": "stream",
     "text": [
      "[1, 2, 3]\n",
      "[1, 'Hello', 3.4]\n"
     ]
    }
   ],
   "source": [
    "# empty list\n",
    "my_list = []\n",
    "\n",
    "# list of integers\n",
    "my_list = [1, 2, 3]\n",
    "print(my_list)\n",
    "\n",
    "# list with mixed datatypes\n",
    "my_list = [1, \"Hello\", 3.4]\n",
    "print(my_list)"
   ]
  },
  {
   "cell_type": "code",
   "execution_count": 3,
   "metadata": {},
   "outputs": [
    {
     "data": {
      "text/plain": [
       "[1, 4, 9, 16, 25]"
      ]
     },
     "execution_count": 3,
     "metadata": {},
     "output_type": "execute_result"
    }
   ],
   "source": [
    "squares = [1, 4, 9, 16, 25]\n",
    "squares"
   ]
  },
  {
   "cell_type": "code",
   "execution_count": 11,
   "metadata": {},
   "outputs": [
    {
     "name": "stdout",
     "output_type": "stream",
     "text": [
      "['ali', 'ahmet', 'ayşe', 'fatma']\n"
     ]
    },
    {
     "data": {
      "text/plain": [
       "['ali', 'ahmet', 'ayşe', 'fatma']"
      ]
     },
     "execution_count": 11,
     "metadata": {},
     "output_type": "execute_result"
    }
   ],
   "source": [
    "a = ['ali', 'ahmet', 'ayşe', 'fatma']\n",
    "print(a)\n",
    "a"
   ]
  },
  {
   "cell_type": "code",
   "execution_count": 5,
   "metadata": {},
   "outputs": [
    {
     "name": "stdout",
     "output_type": "stream",
     "text": [
      "['apple', 'banana', 'cherry']\n"
     ]
    }
   ],
   "source": [
    "thislist = [\"apple\", \"banana\", \"cherry\"]\n",
    "print(thislist)"
   ]
  },
  {
   "cell_type": "code",
   "execution_count": 6,
   "metadata": {},
   "outputs": [
    {
     "data": {
      "text/plain": [
       "['The', 'earth', 'revolves', 'around', 'sun']"
      ]
     },
     "execution_count": 6,
     "metadata": {},
     "output_type": "execute_result"
    }
   ],
   "source": [
    "myList = [\"The\", \"earth\", \"revolves\", \"around\", \"sun\"]\n",
    "myList"
   ]
  },
  {
   "cell_type": "code",
   "execution_count": 12,
   "metadata": {},
   "outputs": [
    {
     "name": "stdout",
     "output_type": "stream",
     "text": [
      "[10, 25.5, (3+2j), 'Hello']\n"
     ]
    }
   ],
   "source": [
    "L1=[10, 25.5, 3+2j, \"Hello\"]\n",
    "print(L1)"
   ]
  },
  {
   "cell_type": "markdown",
   "metadata": {},
   "source": [
    "* Also, a list can even have another list as an item. This is called nested list."
   ]
  },
  {
   "cell_type": "code",
   "execution_count": 10,
   "metadata": {},
   "outputs": [
    {
     "data": {
      "text/plain": [
       "['mouse', [8, 4, 6], ['a']]"
      ]
     },
     "execution_count": 10,
     "metadata": {},
     "output_type": "execute_result"
    }
   ],
   "source": [
    "# nested list\n",
    "my_list = [\"mouse\", [8, 4, 6], ['a']]\n",
    "my_list"
   ]
  },
  {
   "cell_type": "markdown",
   "metadata": {},
   "source": [
    "The important characteristics of Python lists are as follows:"
   ]
  },
  {
   "cell_type": "markdown",
   "metadata": {},
   "source": [
    "* Lists are ordered.\n",
    "* Lists can contain any arbitrary objects.\n",
    "* List elements can be accessed by index.\n",
    "* Lists can be nested to arbitrary depth.\n",
    "* Lists are mutable.\n",
    "* Lists are dynamic."
   ]
  },
  {
   "cell_type": "markdown",
   "metadata": {},
   "source": [
    "## 1.2. Lists are ordered"
   ]
  },
  {
   "cell_type": "markdown",
   "metadata": {},
   "source": [
    "A list is not merely a collection of objects. It is an ordered collection of objects. The order in which you specify the elements when you define a list is an innate characteristic of that list and is maintained for that list’s lifetime. \n",
    "\n",
    "Lists that have the same elements in a different order are not the same:"
   ]
  },
  {
   "cell_type": "code",
   "execution_count": 14,
   "metadata": {},
   "outputs": [
    {
     "name": "stdout",
     "output_type": "stream",
     "text": [
      "False\n",
      "False\n",
      "False\n"
     ]
    }
   ],
   "source": [
    "a = ['ali', 'ahmet', 'ayşe', 'fatma']\n",
    "b = ['Python', 'C++', 'Java', 'C', 'Fortran']\n",
    "print(a == b)\n",
    "\n",
    "print(a is b)\n",
    "\n",
    "print([1, 2, 3, 4] == [4, 1, 3, 2])"
   ]
  },
  {
   "cell_type": "markdown",
   "metadata": {},
   "source": [
    "## 1.3. Lists Can Contain Arbitrary Objects"
   ]
  },
  {
   "cell_type": "markdown",
   "metadata": {},
   "source": [
    "* A list can contain any assortment of objects. The elements of a list can all be the same type:"
   ]
  },
  {
   "cell_type": "code",
   "execution_count": 15,
   "metadata": {},
   "outputs": [
    {
     "data": {
      "text/plain": [
       "[2, 4, 6, 8]"
      ]
     },
     "execution_count": 15,
     "metadata": {},
     "output_type": "execute_result"
    }
   ],
   "source": [
    "a = [2, 4, 6, 8]\n",
    "a"
   ]
  },
  {
   "cell_type": "markdown",
   "metadata": {},
   "source": [
    "* Or the elements can be of varying types:"
   ]
  },
  {
   "cell_type": "code",
   "execution_count": 16,
   "metadata": {},
   "outputs": [
    {
     "data": {
      "text/plain": [
       "[21.42, 'ali', 3, 4, 'Python', False, 3.14159]"
      ]
     },
     "execution_count": 16,
     "metadata": {},
     "output_type": "execute_result"
    }
   ],
   "source": [
    "a = [21.42, 'ali', 3, 4, \"Python\", False, 3.14159]\n",
    "a"
   ]
  },
  {
   "cell_type": "markdown",
   "metadata": {},
   "source": [
    "* Lists can even contain complex objects, like functions, classes, and modules, which you will learn about in upcoming tutorials:"
   ]
  },
  {
   "cell_type": "code",
   "execution_count": 26,
   "metadata": {},
   "outputs": [
    {
     "data": {
      "text/plain": [
       "[int,\n",
       " <function len(obj, /)>,\n",
       " <function __main__.foo()>,\n",
       " <module 'math' (built-in)>]"
      ]
     },
     "execution_count": 26,
     "metadata": {},
     "output_type": "execute_result"
    }
   ],
   "source": [
    "int\n",
    "# print(type(int))\n",
    "\n",
    "len\n",
    "# print(type(len))\n",
    "\n",
    "def foo():\n",
    "    pass\n",
    "foo\n",
    "# print(type(foo))\n",
    "\n",
    "import math\n",
    "math\n",
    "# print(type(math))\n",
    "\n",
    "a = [int, len, foo, math]\n",
    "a\n",
    "# print(a)"
   ]
  },
  {
   "cell_type": "markdown",
   "metadata": {},
   "source": [
    "* A list can contain any number of objects, from zero to as many as your computer’s memory will allow:"
   ]
  },
  {
   "cell_type": "code",
   "execution_count": 28,
   "metadata": {},
   "outputs": [
    {
     "name": "stdout",
     "output_type": "stream",
     "text": [
      "[]\n",
      "['Python']\n",
      "[0, 1, 2, 3, 4, 5, 6, 7, 8, 9, 10, 11, 12, 13, 14, 15, 16, 17, 18, 19, 20, 21, 22, 23, 24, 25, 26, 27, 28, 29, 30, 31, 32, 33, 34, 35, 36, 37, 38, 39, 40, 41, 42, 43, 44, 45, 46, 47, 48, 49, 50, 51, 52, 53, 54, 55, 56, 57, 58, 59, 60, 61, 62, 63, 64, 65, 66, 67, 68, 69, 70, 71, 72, 73, 74, 75, 76, 77, 78, 79, 80, 81, 82, 83, 84, 85, 86, 87, 88, 89, 90, 91, 92, 93, 94, 95, 96, 97, 98, 99, 100]\n"
     ]
    }
   ],
   "source": [
    ">>> a = []\n",
    "print(a)\n",
    "\n",
    "a = [ 'Python' ]\n",
    "print(a)\n",
    "\n",
    "a = [0, 1, 2, 3, 4, 5, 6, 7, 8, 9, 10, 11, 12, 13, 14, 15, 16, 17, 18, 19, 20,\n",
    "21, 22, 23, 24, 25, 26, 27, 28, 29, 30, 31, 32, 33, 34, 35, 36, 37, 38, 39, 40,\n",
    "41, 42, 43, 44, 45, 46, 47, 48, 49, 50, 51, 52, 53, 54, 55, 56, 57, 58, 59, 60,\n",
    "61, 62, 63, 64, 65, 66, 67, 68, 69, 70, 71, 72, 73, 74, 75, 76, 77, 78, 79, 80,\n",
    "81, 82, 83, 84, 85, 86, 87, 88, 89, 90, 91, 92, 93, 94, 95, 96, 97, 98, 99, 100]\n",
    "print(a)"
   ]
  },
  {
   "cell_type": "markdown",
   "metadata": {},
   "source": [
    "(A list with a single object is sometimes referred to as a singleton list.)\n",
    "\n",
    "* List objects needn’t be unique. A given object can appear in a list multiple times:"
   ]
  },
  {
   "cell_type": "code",
   "execution_count": 30,
   "metadata": {},
   "outputs": [
    {
     "data": {
      "text/plain": [
       "['Python', 'ACM', '114', 114, 'ACM', 'Python']"
      ]
     },
     "execution_count": 30,
     "metadata": {},
     "output_type": "execute_result"
    }
   ],
   "source": [
    "a = ['Python', 'ACM', '114', 114, 'ACM', 'Python']\n",
    "a"
   ]
  },
  {
   "cell_type": "markdown",
   "metadata": {},
   "source": [
    "## 1.4. List Elements Can Be Accessed by Index"
   ]
  },
  {
   "cell_type": "markdown",
   "metadata": {},
   "source": [
    "Individual elements in a list can be accessed using an index in square brackets. This is exactly analogous to accessing individual characters in a string. List indexing is zero-based as it is with strings."
   ]
  },
  {
   "cell_type": "markdown",
   "metadata": {},
   "source": [
    "* We can use the index operator [ ] to access an item in a list. Index starts from 0. So, a list having 5 elements will have index from 0 to 4.\n",
    "\n",
    "* Trying to access an element other that this will raise an IndexError. The index must be an integer. We can't use float or other types, this will result into TypeError.\n",
    "\n",
    "* Nested list are accessed using nested indexing."
   ]
  },
  {
   "cell_type": "code",
   "execution_count": 32,
   "metadata": {},
   "outputs": [
    {
     "data": {
      "text/plain": [
       "['foo', 'bar', 'baz', 'qux', 'quux', 'corge']"
      ]
     },
     "execution_count": 32,
     "metadata": {},
     "output_type": "execute_result"
    }
   ],
   "source": [
    "a = ['foo', 'bar', 'baz', 'qux', 'quux', 'corge']\n",
    "a"
   ]
  },
  {
   "cell_type": "markdown",
   "metadata": {},
   "source": [
    "* The indices for the elements in a are shown below:"
   ]
  },
  {
   "cell_type": "markdown",
   "metadata": {},
   "source": [
    "<img src=\"https://files.realpython.com/media/t.eb0b38e642c5.png\" alt=\"Indices for a list\" title=\"The indices for the elements in a\" />"
   ]
  },
  {
   "cell_type": "code",
   "execution_count": 38,
   "metadata": {},
   "outputs": [
    {
     "name": "stdout",
     "output_type": "stream",
     "text": [
      "foo\n",
      "qux\n",
      "corge\n"
     ]
    }
   ],
   "source": [
    "print(a[0])\n",
    "print(a[3])\n",
    "print(a[5])"
   ]
  },
  {
   "cell_type": "code",
   "execution_count": 37,
   "metadata": {},
   "outputs": [
    {
     "name": "stdout",
     "output_type": "stream",
     "text": [
      "cherry\n"
     ]
    }
   ],
   "source": [
    "thislist = [\"apple\", \"banana\", \"cherry\"]\n",
    "print(thislist[2])"
   ]
  },
  {
   "cell_type": "code",
   "execution_count": 52,
   "metadata": {},
   "outputs": [
    {
     "name": "stdout",
     "output_type": "stream",
     "text": [
      "a\n",
      "apples\n"
     ]
    }
   ],
   "source": [
    "fruit = \"banana\"\n",
    "print(fruit[1])\n",
    "fruits = ['apples', 'cherries', 'pears']\n",
    "print(fruits[0])"
   ]
  },
  {
   "cell_type": "code",
   "execution_count": 39,
   "metadata": {},
   "outputs": [
    {
     "name": "stdout",
     "output_type": "stream",
     "text": [
      "List[3] =  Hi\n"
     ]
    }
   ],
   "source": [
    "List = [2, 4, 5.5, \"Hi\"]\n",
    "print(\"List[3] = \", List[3])"
   ]
  },
  {
   "cell_type": "code",
   "execution_count": 42,
   "metadata": {},
   "outputs": [
    {
     "name": "stdout",
     "output_type": "stream",
     "text": [
      "1\n",
      "9\n",
      "25\n"
     ]
    }
   ],
   "source": [
    "squares = [1, 4, 9, 16, 25]\n",
    "print(squares[0])  # indexing returns the item\n",
    "print(squares[2])\n",
    "print(squares[-1])"
   ]
  },
  {
   "cell_type": "code",
   "execution_count": 43,
   "metadata": {},
   "outputs": [
    {
     "name": "stdout",
     "output_type": "stream",
     "text": [
      "p\n",
      "o\n",
      "e\n",
      "a\n",
      "5\n"
     ]
    }
   ],
   "source": [
    "my_list = ['p','r','o','b','e']\n",
    "# Output_1: p\n",
    "print(my_list[0])\n",
    "\n",
    "# Output_2: o\n",
    "print(my_list[2])\n",
    "\n",
    "# Output_3: e\n",
    "print(my_list[4])\n",
    "\n",
    "# Error! Only integer can be used for indexing\n",
    "# my_list[4.0]\n",
    "\n",
    "# Nested List\n",
    "nested_list = [\"Happy\", [2,0,1,5]]\n",
    "\n",
    "# Nested indexing\n",
    "\n",
    "# Output_4: a\n",
    "print(nested_list[0][1])    \n",
    "\n",
    "# Output_5: 5\n",
    "print(nested_list[1][3])"
   ]
  },
  {
   "cell_type": "markdown",
   "metadata": {},
   "source": [
    "* Virtually everything about string indexing works similarly for lists. For example, a negative list index counts from the end of the list:"
   ]
  },
  {
   "cell_type": "code",
   "execution_count": 45,
   "metadata": {},
   "outputs": [
    {
     "data": {
      "text/plain": [
       "['foo', 'bar', 'baz', 'qux', 'quux', 'corge']"
      ]
     },
     "execution_count": 45,
     "metadata": {},
     "output_type": "execute_result"
    }
   ],
   "source": [
    "a = ['foo', 'bar', 'baz', 'qux', 'quux', 'corge']\n",
    "a"
   ]
  },
  {
   "cell_type": "markdown",
   "metadata": {},
   "source": [
    "<img src=\"https://files.realpython.com/media/t.c11ea56e8ca2.png\" alt=\"Negative List Indexing\" title=\"The negative indices for the elements in a\" />"
   ]
  },
  {
   "cell_type": "code",
   "execution_count": 46,
   "metadata": {},
   "outputs": [
    {
     "name": "stdout",
     "output_type": "stream",
     "text": [
      "corge\n",
      "qux\n",
      "foo\n"
     ]
    }
   ],
   "source": [
    "print(a[-1])\n",
    "print(a[-3])\n",
    "print(a[-6])"
   ]
  },
  {
   "cell_type": "code",
   "execution_count": 47,
   "metadata": {},
   "outputs": [
    {
     "name": "stdout",
     "output_type": "stream",
     "text": [
      "cherry\n"
     ]
    }
   ],
   "source": [
    "thislist = [\"apple\", \"banana\", \"cherry\"]\n",
    "print(thislist[-1])"
   ]
  },
  {
   "cell_type": "code",
   "execution_count": 48,
   "metadata": {},
   "outputs": [
    {
     "name": "stdout",
     "output_type": "stream",
     "text": [
      "e\n",
      "o\n",
      "p\n"
     ]
    }
   ],
   "source": [
    "my_list = ['p','r','o','b','e']\n",
    "\n",
    "# Output_1: e\n",
    "print(my_list[-1])\n",
    "\n",
    "# Output_2: o\n",
    "print(my_list[-3])\n",
    "\n",
    "# Output_3: p\n",
    "print(my_list[-5])"
   ]
  },
  {
   "cell_type": "markdown",
   "metadata": {},
   "source": [
    "<img src=\"https://cdn.programiz.com/sites/tutorial2program/files/python-list-index.png\" alt=\"Negative List Indexing\" title=\"The negative indices for the elements in my_list\" />"
   ]
  },
  {
   "cell_type": "code",
   "execution_count": 54,
   "metadata": {},
   "outputs": [
    {
     "name": "stdout",
     "output_type": "stream",
     "text": [
      "29\n",
      "Emrah\n",
      "h\n"
     ]
    }
   ],
   "source": [
    "prime_nums = [2, 3, 5, 7, 11, 13, 17, 19, 23, 29, 31]\n",
    "print(prime_nums[-2])\n",
    "\n",
    "classmates = (\"Ali\", \"Emrah\", \"Karin\", \"Peri\", \"Sinan\", \"Poyraz\")\n",
    "print(classmates[-5])\n",
    "\n",
    "word = \"Python\"\n",
    "print(word[-3])"
   ]
  },
  {
   "cell_type": "markdown",
   "metadata": {},
   "source": [
    "* Slicing also works. If a is a list, the expression a[m:n] returns the portion of a from index m to, but not including, index n:"
   ]
  },
  {
   "cell_type": "code",
   "execution_count": 55,
   "metadata": {},
   "outputs": [
    {
     "data": {
      "text/plain": [
       "['beril', 'ayşe', 'cansu']"
      ]
     },
     "execution_count": 55,
     "metadata": {},
     "output_type": "execute_result"
    }
   ],
   "source": [
    "a = ['ali', 'ahmet', 'beril', 'ayşe', 'cansu', 'can']\n",
    "a[2:5]"
   ]
  },
  {
   "cell_type": "code",
   "execution_count": 56,
   "metadata": {},
   "outputs": [
    {
     "name": "stdout",
     "output_type": "stream",
     "text": [
      "['cherry', 'orange', 'kiwi']\n"
     ]
    }
   ],
   "source": [
    "thislist = [\"apple\", \"banana\", \"cherry\", \"orange\", \"kiwi\", \"melon\", \"mango\"]\n",
    "print(thislist[2:5])"
   ]
  },
  {
   "cell_type": "code",
   "execution_count": 57,
   "metadata": {},
   "outputs": [
    {
     "name": "stdout",
     "output_type": "stream",
     "text": [
      "['apple', 'banana', 'cherry', 'orange']\n"
     ]
    }
   ],
   "source": [
    "thislist = [\"apple\", \"banana\", \"cherry\", \"orange\", \"kiwi\", \"melon\", \"mango\"]\n",
    "print(thislist[:4])"
   ]
  },
  {
   "cell_type": "code",
   "execution_count": 58,
   "metadata": {},
   "outputs": [
    {
     "name": "stdout",
     "output_type": "stream",
     "text": [
      "['cherry', 'orange', 'kiwi', 'melon', 'mango']\n"
     ]
    }
   ],
   "source": [
    "thislist = [\"apple\", \"banana\", \"cherry\", \"orange\", \"kiwi\", \"melon\", \"mango\"]\n",
    "print(thislist[2:])"
   ]
  },
  {
   "cell_type": "code",
   "execution_count": 60,
   "metadata": {},
   "outputs": [
    {
     "name": "stdout",
     "output_type": "stream",
     "text": [
      "List[0:3] =  [2, 4, 5.5]\n"
     ]
    }
   ],
   "source": [
    "List = [2, 4, 5.5, \"Hi\"]\n",
    "print(\"List[0:3] = \", List[0:3])"
   ]
  },
  {
   "cell_type": "markdown",
   "metadata": {},
   "source": [
    "Other features of string slicing work analogously for list slicing as well:\n",
    "\n",
    "* Both positive and negative indices can be specified:"
   ]
  },
  {
   "cell_type": "code",
   "execution_count": 61,
   "metadata": {},
   "outputs": [
    {
     "name": "stdout",
     "output_type": "stream",
     "text": [
      "['ahmet', 'beril', 'ayşe']\n",
      "['ahmet', 'beril', 'ayşe']\n",
      "True\n"
     ]
    }
   ],
   "source": [
    "a = ['ali', 'ahmet', 'beril', 'ayşe', 'cansu', 'can']\n",
    "print(a[-5:-2])\n",
    "print(a[1:4])\n",
    "print(a[-5:-2] == a[1:4])"
   ]
  },
  {
   "cell_type": "code",
   "execution_count": 62,
   "metadata": {},
   "outputs": [
    {
     "name": "stdout",
     "output_type": "stream",
     "text": [
      "[1, 4, 9, 16, 25]\n"
     ]
    }
   ],
   "source": [
    "squares = [1, 4, 9, 16, 25]\n",
    "print(squares[:])"
   ]
  },
  {
   "cell_type": "code",
   "execution_count": 66,
   "metadata": {},
   "outputs": [
    {
     "name": "stdout",
     "output_type": "stream",
     "text": [
      "['1', '1', '4']\n",
      "['A', 'C', 'M', '1', '1', '4']\n",
      "['P', 'y', 't', 'h', 'o', 'n']\n",
      "['A', 'C', 'M', '1', '1', '4', 'P', 'y', 't', 'h', 'o', 'n']\n"
     ]
    }
   ],
   "source": [
    "my_list = ['A','C','M','1','1','4','P','y','t','h','o','n']\n",
    "\n",
    "# elements 3rd to 5th\n",
    "print(my_list[3:6])\n",
    "\n",
    "# elements beginning to 4th\n",
    "print(my_list[:-6])\n",
    "\n",
    "# elements 6th to end\n",
    "print(my_list[6:])\n",
    "\n",
    "# elements beginning to end\n",
    "print(my_list[:])"
   ]
  },
  {
   "cell_type": "markdown",
   "metadata": {},
   "source": [
    "* Omitting the first index starts the slice at the beginning of the list, and omitting the second index extends the slice to the end of the list:"
   ]
  },
  {
   "cell_type": "code",
   "execution_count": 1,
   "metadata": {},
   "outputs": [
    {
     "name": "stdout",
     "output_type": "stream",
     "text": [
      "['ali', 'ahmet', 'beril', 'ayşe'] ['ali', 'ahmet', 'beril', 'ayşe']\n",
      "['beril', 'ayşe', 'cansu', 'can'] ['beril', 'ayşe', 'cansu', 'can']\n",
      "['ali', 'ahmet', 'beril', 'ayşe', 'cansu', 'can']\n",
      "True\n"
     ]
    }
   ],
   "source": [
    "a = ['ali', 'ahmet', 'beril', 'ayşe', 'cansu', 'can']\n",
    "print(a[:4], a[0:4])\n",
    "print(a[2:], a[2:len(a)])\n",
    "print(a[:4] + a[4:])\n",
    "print(a[:4] + a[4:] == a)"
   ]
  },
  {
   "cell_type": "markdown",
   "metadata": {},
   "source": [
    "* You can specify a stride—either positive or negative:"
   ]
  },
  {
   "cell_type": "code",
   "execution_count": 2,
   "metadata": {},
   "outputs": [
    {
     "name": "stdout",
     "output_type": "stream",
     "text": [
      "['ali', 'beril', 'cansu']\n",
      "['ahmet', 'ayşe', 'can']\n",
      "['can', 'ayşe', 'ahmet']\n"
     ]
    }
   ],
   "source": [
    "print(a[0:6:2])\n",
    "print(a[1:6:2])\n",
    "print(a[6:0:-2])"
   ]
  },
  {
   "cell_type": "markdown",
   "metadata": {},
   "source": [
    "* The syntax for reversing a list works the same way it does for strings:"
   ]
  },
  {
   "cell_type": "code",
   "execution_count": 4,
   "metadata": {},
   "outputs": [
    {
     "name": "stdout",
     "output_type": "stream",
     "text": [
      "['can', 'cansu', 'ayşe', 'beril', 'ahmet', 'ali']\n"
     ]
    }
   ],
   "source": [
    "print(a[::-1])"
   ]
  },
  {
   "cell_type": "markdown",
   "metadata": {},
   "source": [
    "* The [:] syntax works for lists. However, there is an important difference between how this operation works with a list and how it works with a string.\n",
    "\n",
    "    * If s is a string, s[:] returns a reference to the same object:"
   ]
  },
  {
   "cell_type": "code",
   "execution_count": 5,
   "metadata": {},
   "outputs": [
    {
     "name": "stdout",
     "output_type": "stream",
     "text": [
      "Python\n",
      "True\n"
     ]
    }
   ],
   "source": [
    "str_1 = 'Python'\n",
    "print(str_1[:])\n",
    "print(str_1[:] is str_1)"
   ]
  },
  {
   "cell_type": "code",
   "execution_count": 7,
   "metadata": {},
   "outputs": [
    {
     "name": "stdout",
     "output_type": "stream",
     "text": [
      "Tarkan\n",
      "Sezen\n",
      "Murat\n"
     ]
    }
   ],
   "source": [
    "singers = \"Tarkan, Sezen, and Murat\"\n",
    "print(singers[0:6])\n",
    "print(singers[8:13])\n",
    "print(singers[19:25])"
   ]
  },
  {
   "cell_type": "code",
   "execution_count": 12,
   "metadata": {},
   "outputs": [
    {
     "name": "stdout",
     "output_type": "stream",
     "text": [
      "ban\n",
      "ana\n",
      "na\n",
      "bnn\n",
      "aaa\n"
     ]
    }
   ],
   "source": [
    "fruit = \"banana\"\n",
    "print(fruit[:3])\n",
    "print(fruit[3:])\n",
    "print(fruit[-2:])\n",
    "print(fruit[0:6:2])\n",
    "print(fruit[::-2])"
   ]
  },
  {
   "cell_type": "markdown",
   "metadata": {},
   "source": [
    "* Conversely, if a is a list, a[:] returns a new object that is a copy of a:"
   ]
  },
  {
   "cell_type": "code",
   "execution_count": 13,
   "metadata": {},
   "outputs": [
    {
     "name": "stdout",
     "output_type": "stream",
     "text": [
      "['ali', 'ahmet', 'beril', 'ayşe', 'cansu', 'can']\n",
      "False\n"
     ]
    }
   ],
   "source": [
    "print(a[:])\n",
    "print(a[:] is a)"
   ]
  },
  {
   "cell_type": "markdown",
   "metadata": {},
   "source": [
    "* Several Python operators and built-in functions can also be used with lists in ways that are analogous to strings:\n",
    "    * The **in** and **not in** operators:"
   ]
  },
  {
   "cell_type": "code",
   "execution_count": 14,
   "metadata": {},
   "outputs": [
    {
     "name": "stdout",
     "output_type": "stream",
     "text": [
      "['ali', 'ahmet', 'beril', 'ayşe', 'cansu', 'can']\n",
      "True\n",
      "True\n"
     ]
    }
   ],
   "source": [
    "print(a)\n",
    "print('ali' in a)\n",
    "print('murat' not in a)"
   ]
  },
  {
   "cell_type": "code",
   "execution_count": 15,
   "metadata": {},
   "outputs": [
    {
     "name": "stdout",
     "output_type": "stream",
     "text": [
      "True\n",
      "False\n",
      "True\n"
     ]
    }
   ],
   "source": [
    "my_list = ['A','C','M','1','1','4','P','y','t','h','o','n']\n",
    "\n",
    "# Output_1: True\n",
    "print('P' in my_list)\n",
    "\n",
    "# Output_2: False\n",
    "print('a' in my_list)\n",
    "\n",
    "# Output_3: True\n",
    "print('m' not in my_list)"
   ]
  },
  {
   "cell_type": "code",
   "execution_count": 29,
   "metadata": {},
   "outputs": [
    {
     "name": "stdout",
     "output_type": "stream",
     "text": [
      "True\n",
      "False\n"
     ]
    }
   ],
   "source": [
    "stuff = ['this', 'that', 'these', 'those']\n",
    "print('this' in stuff)\n",
    "print('everything' in stuff)"
   ]
  },
  {
   "cell_type": "markdown",
   "metadata": {},
   "source": [
    "* **in** and **not in** operators can also be used for string literals as follows:"
   ]
  },
  {
   "cell_type": "code",
   "execution_count": 31,
   "metadata": {},
   "outputs": [
    {
     "name": "stdout",
     "output_type": "stream",
     "text": [
      "True\n",
      "True\n",
      "False\n",
      "True\n",
      "True\n",
      "False\n"
     ]
    }
   ],
   "source": [
    "print('P' in 'Python')\n",
    "print('t' in 'Python')\n",
    "print('m' in 'Python')\n",
    "print('Py' in 'Python')\n",
    "print('thon' in 'Python')\n",
    "print('then' in 'Python')"
   ]
  },
  {
   "cell_type": "markdown",
   "metadata": {},
   "source": [
    "* Note that a string is a substring of itself, and the empty string is a substring of any other string. **(Also note that computer programmers like to think about these edge cases quite carefully!)**"
   ]
  },
  {
   "cell_type": "code",
   "execution_count": 33,
   "metadata": {},
   "outputs": [
    {
     "name": "stdout",
     "output_type": "stream",
     "text": [
      "True\n",
      "True\n",
      "True\n",
      "True\n"
     ]
    }
   ],
   "source": [
    "print('P' in 'P')\n",
    "print('Python' in 'Python')\n",
    "print('' in 'P')\n",
    "print('' in 'Python')"
   ]
  },
  {
   "cell_type": "code",
   "execution_count": 20,
   "metadata": {},
   "outputs": [
    {
     "name": "stdout",
     "output_type": "stream",
     "text": [
      "Yes, 'kiwi' is in the fruits list.\n",
      "No, 'mango' is not in the fruits list.\n"
     ]
    }
   ],
   "source": [
    "fruits_list = [\"apple\", \"banana\", \"orange\", \"grapefruit\", \"mandarin\", \"kiwi\"]\n",
    "if \"kiwi\" in fruits_list:\n",
    "    print(\"Yes, 'kiwi' is in the fruits list.\")\n",
    "if \"mango\" not in fruits_list:\n",
    "    print(\"No, 'mango' is not in the fruits list.\")"
   ]
  },
  {
   "cell_type": "markdown",
   "metadata": {},
   "source": [
    "* Python operators and built-in functions (cont'd)\n",
    "    * The concatenation (+) and replication (*) operators:"
   ]
  },
  {
   "cell_type": "code",
   "execution_count": 22,
   "metadata": {},
   "outputs": [
    {
     "name": "stdout",
     "output_type": "stream",
     "text": [
      "['ali', 'ahmet', 'beril', 'ayşe', 'cansu', 'can']\n",
      "['ali', 'ahmet', 'beril', 'ayşe', 'cansu', 'can', 'murat', 'sahra']\n",
      "['ali', 'ahmet', 'beril', 'ayşe', 'cansu', 'can', 'ali', 'ahmet', 'beril', 'ayşe', 'cansu', 'can']\n"
     ]
    }
   ],
   "source": [
    "print(a)\n",
    "print(a + ['murat', 'sahra'])\n",
    "print(a * 2)"
   ]
  },
  {
   "cell_type": "code",
   "execution_count": 25,
   "metadata": {},
   "outputs": [
    {
     "name": "stdout",
     "output_type": "stream",
     "text": [
      "[1, 3, 5, 7, 9, 11, 13, 15]\n",
      "['Python', 'Python', 'Python', 'Python', 'Python']\n"
     ]
    }
   ],
   "source": [
    "odd_numbers = [1, 3, 5]\n",
    "\n",
    "# Output_1: [1, 3, 5, 7, 9, 11, 13, 15]\n",
    "print(odd_numbers + [7, 9, 11, 13, 15])\n",
    "\n",
    "#Output_2: [\"Python\", \"Python\", \"Python\", \"Python\", \"Python\"]\n",
    "print([\"Python\"] * 3 + ['Python'] * 2)"
   ]
  },
  {
   "cell_type": "code",
   "execution_count": 27,
   "metadata": {},
   "outputs": [
    {
     "name": "stdout",
     "output_type": "stream",
     "text": [
      "[1, 4, 9, 16, 25, 36, 49, 64, 81, 100]\n"
     ]
    }
   ],
   "source": [
    "squares = [1, 4, 9, 16, 25]\n",
    "print(squares + [6*6, 49, 8*8, 81, 10*10])"
   ]
  },
  {
   "cell_type": "markdown",
   "metadata": {},
   "source": [
    "* There are several ways to join, or concatenate, two or more lists in Python. One of the easiest ways are by using the + operator."
   ]
  },
  {
   "cell_type": "code",
   "execution_count": 28,
   "metadata": {},
   "outputs": [
    {
     "name": "stdout",
     "output_type": "stream",
     "text": [
      "['a', 'b', 'c', 1, 2, 3]\n"
     ]
    }
   ],
   "source": [
    "list_1 = [\"a\", \"b\" , \"c\"]\n",
    "list_2 = [1, 2, 3]\n",
    "list_3 = list_1 + list_2\n",
    "print(list_3)"
   ]
  },
  {
   "cell_type": "markdown",
   "metadata": {},
   "source": [
    "* Python operators and built-in functions (cont'd)\n",
    "    * The len(), min(), and max() functions:"
   ]
  },
  {
   "cell_type": "code",
   "execution_count": 38,
   "metadata": {},
   "outputs": [
    {
     "name": "stdout",
     "output_type": "stream",
     "text": [
      "[1, 2, 3, 4, 5]\n",
      "5\n",
      "1\n",
      "5\n",
      "15\n"
     ]
    }
   ],
   "source": [
    "b = [1, 2, 3, 4, 5]\n",
    "print(b)\n",
    "print(len(b))\n",
    "print(min(b))\n",
    "print(max(b))\n",
    "\n",
    "# For an extra example\n",
    "print(sum(b))"
   ]
  },
  {
   "cell_type": "code",
   "execution_count": 42,
   "metadata": {},
   "outputs": [
    {
     "name": "stdout",
     "output_type": "stream",
     "text": [
      "['a', 'b', 'c', 'd']\n",
      "4\n",
      "a\n",
      "d\n"
     ]
    },
    {
     "ename": "TypeError",
     "evalue": "unsupported operand type(s) for +: 'int' and 'str'",
     "output_type": "error",
     "traceback": [
      "\u001b[1;31m---------------------------------------------------------------------------\u001b[0m",
      "\u001b[1;31mTypeError\u001b[0m                                 Traceback (most recent call last)",
      "\u001b[1;32m<ipython-input-42-335e6c246412>\u001b[0m in \u001b[0;36m<module>\u001b[1;34m\u001b[0m\n\u001b[0;32m      4\u001b[0m \u001b[0mprint\u001b[0m\u001b[1;33m(\u001b[0m\u001b[0mmin\u001b[0m\u001b[1;33m(\u001b[0m\u001b[0mletters\u001b[0m\u001b[1;33m)\u001b[0m\u001b[1;33m)\u001b[0m\u001b[1;33m\u001b[0m\u001b[1;33m\u001b[0m\u001b[0m\n\u001b[0;32m      5\u001b[0m \u001b[0mprint\u001b[0m\u001b[1;33m(\u001b[0m\u001b[0mmax\u001b[0m\u001b[1;33m(\u001b[0m\u001b[0mletters\u001b[0m\u001b[1;33m)\u001b[0m\u001b[1;33m)\u001b[0m\u001b[1;33m\u001b[0m\u001b[1;33m\u001b[0m\u001b[0m\n\u001b[1;32m----> 6\u001b[1;33m \u001b[0mprint\u001b[0m\u001b[1;33m(\u001b[0m\u001b[0msum\u001b[0m\u001b[1;33m(\u001b[0m\u001b[0mletters\u001b[0m\u001b[1;33m)\u001b[0m\u001b[1;33m)\u001b[0m \u001b[1;31m# This will give an error (Traceback error - unsupported type()).\u001b[0m\u001b[1;33m\u001b[0m\u001b[1;33m\u001b[0m\u001b[0m\n\u001b[0m\u001b[0;32m      7\u001b[0m                     \u001b[1;31m# Because sum built-in function can not be used for string literals.\u001b[0m\u001b[1;33m\u001b[0m\u001b[1;33m\u001b[0m\u001b[1;33m\u001b[0m\u001b[0m\n",
      "\u001b[1;31mTypeError\u001b[0m: unsupported operand type(s) for +: 'int' and 'str'"
     ]
    }
   ],
   "source": [
    "letters = ['a', 'b', 'c', 'd']\n",
    "print(letters)\n",
    "print(len(letters))\n",
    "print(min(letters))\n",
    "print(max(letters))\n",
    "print(sum(letters)) # This will give an error (Traceback error - unsupported type()). \n",
    "                    # Because sum built-in function can not be used for string literals."
   ]
  },
  {
   "cell_type": "code",
   "execution_count": 44,
   "metadata": {},
   "outputs": [
    {
     "name": "stdout",
     "output_type": "stream",
     "text": [
      "6\n",
      "orange\n",
      "apple\n"
     ]
    }
   ],
   "source": [
    "fruits_list = [\"apple\", \"banana\", \"orange\", \"grapefruit\", \"mandarin\", \"kiwi\"]\n",
    "print(len(fruits_list))\n",
    "print(max(fruits_list))\n",
    "print(min(fruits_list))"
   ]
  },
  {
   "cell_type": "code",
   "execution_count": 46,
   "metadata": {},
   "outputs": [
    {
     "name": "stdout",
     "output_type": "stream",
     "text": [
      "6\n",
      "cansu\n",
      "ahmet\n"
     ]
    }
   ],
   "source": [
    "a = ['ali', 'ahmet', 'beril', 'ayşe', 'cansu', 'can']\n",
    "print(len(a))\n",
    "print(max(a))\n",
    "print(min(a)) # Is there something wrong here? Why do you think it gave such a result?\n",
    "              # It will give a result as 'ahmet'. Should it be 'ali' or 'can'?"
   ]
  },
  {
   "cell_type": "markdown",
   "metadata": {},
   "source": [
    "* It’s not an accident that strings and lists behave so similarly. They are both special cases of a more general object type called an iterable, which you will encounter in more detail in the upcoming tutorial on definite iteration. By the way, in each example above, the list is always assigned to a variable before an operation is performed on it. But you can operate on a list literal as well:"
   ]
  },
  {
   "cell_type": "code",
   "execution_count": 47,
   "metadata": {},
   "outputs": [
    {
     "name": "stdout",
     "output_type": "stream",
     "text": [
      "beril\n",
      "['can', 'cansu', 'ayşe', 'beril', 'ahmet', 'ali']\n",
      "False\n",
      "['ali', 'ahmet', 'beril', 'ayşe', 'cansu', 'can']\n",
      "6\n"
     ]
    }
   ],
   "source": [
    "print(['ali', 'ahmet', 'beril', 'ayşe', 'cansu', 'can'][2])\n",
    "\n",
    "print(['ali', 'ahmet', 'beril', 'ayşe', 'cansu', 'can'][::-1])\n",
    "\n",
    "print('murat' in ['ali', 'ahmet', 'beril', 'ayşe', 'cansu', 'can'])\n",
    "\n",
    "print(['ali', 'ahmet', 'beril'] + ['ayşe', 'cansu', 'can'])\n",
    "\n",
    "print(len(['ali', 'ahmet', 'beril', 'ayşe', 'cansu', 'can'][::-1]))"
   ]
  },
  {
   "cell_type": "markdown",
   "metadata": {},
   "source": [
    "* For that matter, you can do likewise with a string literal:"
   ]
  },
  {
   "cell_type": "code",
   "execution_count": 48,
   "metadata": {},
   "outputs": [
    {
     "name": "stdout",
     "output_type": "stream",
     "text": [
      ".gnihton wonk I taht si taht dna ,wonk I ylno gniht enO\n"
     ]
    }
   ],
   "source": [
    "print('One thing only I know, and that is that I know nothing.'[::-1])"
   ]
  },
  {
   "cell_type": "markdown",
   "metadata": {},
   "source": [
    "# 1.5. Lists Can Be Nested "
   ]
  },
  {
   "cell_type": "markdown",
   "metadata": {},
   "source": [
    "* You have seen that an element in a list can be any sort of object. That includes another list. A list can contain sublists, which in turn can contain sublists themselves, and so on to arbitrary depth.\n",
    "\n",
    "Consider this (admittedly contrived) example:"
   ]
  },
  {
   "cell_type": "code",
   "execution_count": 50,
   "metadata": {},
   "outputs": [
    {
     "name": "stdout",
     "output_type": "stream",
     "text": [
      "['a', ['bb', ['ccc', 'ddd'], 'ee', 'ff'], 'g', ['hh', 'ii'], 'j']\n"
     ]
    }
   ],
   "source": [
    "x = ['a', ['bb', ['ccc', 'ddd'], 'ee', 'ff'], 'g', ['hh', 'ii'], 'j']\n",
    "print(x)"
   ]
  },
  {
   "cell_type": "markdown",
   "metadata": {},
   "source": [
    "* The object structure that x references is diagrammed below:"
   ]
  },
  {
   "cell_type": "markdown",
   "metadata": {},
   "source": [
    "<img src=\"https://files.realpython.com/media/t.08554d94a1e5.png\" alt=\"Nested list as x\" title=\"A Nested List\" />"
   ]
  },
  {
   "cell_type": "markdown",
   "metadata": {},
   "source": [
    "* x[0], x[2], and x[4] are strings, each one character long:"
   ]
  },
  {
   "cell_type": "code",
   "execution_count": 51,
   "metadata": {},
   "outputs": [
    {
     "name": "stdout",
     "output_type": "stream",
     "text": [
      "a g j\n"
     ]
    }
   ],
   "source": [
    "print(x[0], x[2], x[4])"
   ]
  },
  {
   "cell_type": "markdown",
   "metadata": {},
   "source": [
    "* But x[1] and x[3] are sublists:"
   ]
  },
  {
   "cell_type": "code",
   "execution_count": 52,
   "metadata": {},
   "outputs": [
    {
     "name": "stdout",
     "output_type": "stream",
     "text": [
      "['bb', ['ccc', 'ddd'], 'ee', 'ff']\n",
      "['hh', 'ii']\n"
     ]
    }
   ],
   "source": [
    "print(x[1])\n",
    "print(x[3])"
   ]
  },
  {
   "cell_type": "markdown",
   "metadata": {},
   "source": [
    "* To access the items in a sublist, simply append an additional index:"
   ]
  },
  {
   "cell_type": "code",
   "execution_count": 55,
   "metadata": {},
   "outputs": [
    {
     "name": "stdout",
     "output_type": "stream",
     "text": [
      "['bb', ['ccc', 'ddd'], 'ee', 'ff']\n",
      "bb\n",
      "['ccc', 'ddd']\n",
      "ee\n",
      "ff\n",
      "['hh', 'ii']\n",
      "hh ii\n"
     ]
    }
   ],
   "source": [
    "print(x[1])\n",
    "print(x[1][0])\n",
    "print(x[1][1])\n",
    "print(x[1][2])\n",
    "print(x[1][3])\n",
    "print(x[3])\n",
    "print(x[3][0], x[3][1])"
   ]
  },
  {
   "cell_type": "markdown",
   "metadata": {},
   "source": [
    "* x[1][1] is yet another sublist, so adding one more index accesses its elements:"
   ]
  },
  {
   "cell_type": "code",
   "execution_count": 58,
   "metadata": {},
   "outputs": [
    {
     "name": "stdout",
     "output_type": "stream",
     "text": [
      "['bb', ['ccc', 'ddd'], 'ee', 'ff']\n",
      "['ccc', 'ddd']\n",
      "ccc ddd\n"
     ]
    }
   ],
   "source": [
    "print(x[1])\n",
    "print(x[1][1])\n",
    "print(x[1][1][0], x[1][1][1])"
   ]
  },
  {
   "cell_type": "markdown",
   "metadata": {},
   "source": [
    "* There is no limit, short of the extent of your computer’s memory, to the depth or complexity with which lists can be nested in this way. All the usual syntax regarding indices and slicing applies to sublists as well:"
   ]
  },
  {
   "cell_type": "code",
   "execution_count": 60,
   "metadata": {},
   "outputs": [
    {
     "name": "stdout",
     "output_type": "stream",
     "text": [
      "['bb', ['ccc', 'ddd'], 'ee', 'ff']\n",
      "ddd\n",
      "[['ccc', 'ddd'], 'ee']\n",
      "['hh', 'ii']\n",
      "['ii', 'hh']\n"
     ]
    }
   ],
   "source": [
    "print(x[1])\n",
    "print(x[1][1][-1])\n",
    "print(x[1][1:3])\n",
    "print(x[3])\n",
    "print(x[3][::-1])"
   ]
  },
  {
   "cell_type": "markdown",
   "metadata": {},
   "source": [
    "* However, be aware that operators and functions apply to only the list at the level you specify and are not recursive. Consider what happens when you query the length of x using len():"
   ]
  },
  {
   "cell_type": "code",
   "execution_count": 64,
   "metadata": {},
   "outputs": [
    {
     "name": "stdout",
     "output_type": "stream",
     "text": [
      "['a', ['bb', ['ccc', 'ddd'], 'ee', 'ff'], 'g', ['hh', 'ii'], 'j']\n",
      "5\n",
      "a\n",
      "1\n",
      "['bb', ['ccc', 'ddd'], 'ee', 'ff']\n",
      "4\n",
      "bb\n",
      "2\n",
      "['ccc', 'ddd']\n",
      "2\n",
      "ccc\n",
      "3\n",
      "ddd\n",
      "3\n",
      "ee\n",
      "2\n",
      "ff\n",
      "2\n",
      "g\n",
      "1\n",
      "['hh', 'ii']\n",
      "2\n",
      "hh\n",
      "2\n",
      "ii\n",
      "2\n",
      "j\n",
      "1\n"
     ]
    }
   ],
   "source": [
    "print(x)\n",
    "print(len(x))\n",
    "print(x[0])\n",
    "print(len(x[0]))\n",
    "print(x[1])\n",
    "print(len(x[1]))\n",
    "print(x[1][0])\n",
    "print(len(x[1][0]))\n",
    "print(x[1][1])\n",
    "print(len(x[1][1]))\n",
    "print(x[1][1][0])\n",
    "print(len(x[1][1][0]))\n",
    "print(x[1][1][1])\n",
    "print(len(x[1][1][1]))\n",
    "print(x[1][2])\n",
    "print(len(x[1][2]))\n",
    "print(x[1][3])\n",
    "print(len(x[1][3]))\n",
    "print(x[2])\n",
    "print(len(x[2]))\n",
    "print(x[3])\n",
    "print(len(x[3]))\n",
    "print(x[3][0])\n",
    "print(len(x[3][0]))\n",
    "print(x[3][1])\n",
    "print(len(x[3][1]))\n",
    "print(x[4])\n",
    "print(len(x[4]))"
   ]
  },
  {
   "cell_type": "markdown",
   "metadata": {},
   "source": [
    "* x has only five elements—three strings and two sublists. The individual elements in the sublists don’t count toward x’s length."
   ]
  },
  {
   "cell_type": "markdown",
   "metadata": {},
   "source": [
    "* You’d encounter a similar situation when using the in operator:"
   ]
  },
  {
   "cell_type": "code",
   "execution_count": 65,
   "metadata": {},
   "outputs": [
    {
     "name": "stdout",
     "output_type": "stream",
     "text": [
      "False\n",
      "False\n",
      "True\n"
     ]
    }
   ],
   "source": [
    "print('ddd' in x)\n",
    "print('ddd' in x[1])\n",
    "print('ddd' in x[1][1])"
   ]
  },
  {
   "cell_type": "markdown",
   "metadata": {},
   "source": [
    "* **'ddd'** is not one of the elements in x or x[1]. It is only directly an element in **the sublist** x[1][1]. An individual element in a *sublist* **does not count** as an element of the *parent list(s)*."
   ]
  },
  {
   "cell_type": "code",
   "execution_count": 69,
   "metadata": {},
   "outputs": [
    {
     "name": "stdout",
     "output_type": "stream",
     "text": [
      "[['a', 'b', 'c'], [1, 2, 3]]\n",
      "['a', 'b', 'c']\n",
      "b\n",
      "3\n",
      "['a', 'b', 'c', 1, 2, 3]\n",
      "[['a', 'b', 'c'], [1, 2, 3]]\n"
     ]
    }
   ],
   "source": [
    "a_1 = ['a', 'b', 'c']\n",
    "a_2 = [1, 2, 3]\n",
    "a_3 = [a_1, a_2]\n",
    "a_4 = a_1 + a_2\n",
    "a_5 = [a_1] + [a_2]\n",
    "print(a_3)\n",
    "print(a_3[0])\n",
    "print(a_3[0][1])\n",
    "print(a_3[1][2])\n",
    "print(a_4)\n",
    "print(a_5)"
   ]
  },
  {
   "cell_type": "code",
   "execution_count": 73,
   "metadata": {},
   "outputs": [
    {
     "name": "stdout",
     "output_type": "stream",
     "text": [
      "10\n",
      "20\n",
      "hello\n",
      "o\n"
     ]
    }
   ],
   "source": [
    "nested = [\"hello\", 2.0, 5, [10, 20]]\n",
    "elem_1 = nested[3]\n",
    "print(elem_1[0])\n",
    "print(nested[3][1])\n",
    "elem_2 = nested[0]\n",
    "print(elem_2)\n",
    "print(elem_2[4])"
   ]
  },
  {
   "cell_type": "code",
   "execution_count": 104,
   "metadata": {},
   "outputs": [
    {
     "name": "stdout",
     "output_type": "stream",
     "text": [
      "+---+---+---+\n",
      "| 1 | 2 | 3 |\n",
      "+---+---+---+\n",
      "| 4 | 5 | 6 |\n",
      "+---+---+---+\n",
      "| 7 | 8 | 9 |\n",
      "+---+---+---+\n",
      "\n"
     ]
    }
   ],
   "source": [
    "def print_matrix(list_of_list):\n",
    "    number_width = len(str(max([max(i) for i in list_of_list])))\n",
    "    cols = max(map(len, list_of_list))\n",
    "    output = '+'+('-'*(number_width+2)+'+')*cols + '\\n'\n",
    "    for row in list_of_list:\n",
    "        for column in row:\n",
    "            output += '|' + ' {:^{width}d} '.format(column, width = number_width)\n",
    "        output+='|\\n+'+('-'*(number_width+2)+'+')*cols + '\\n'\n",
    "    return output\n",
    "\n",
    "data = [[1,2,3],\n",
    "        [4,5,6],\n",
    "        [7,8,9]]\n",
    "print(print_matrix(data))"
   ]
  },
  {
   "cell_type": "code",
   "execution_count": 105,
   "metadata": {},
   "outputs": [
    {
     "name": "stdout",
     "output_type": "stream",
     "text": [
      "   X  Y   Z\n",
      "0  1  2   5\n",
      "1  2  3  13\n",
      "2  3  4  25\n",
      "3  4  5  41\n"
     ]
    }
   ],
   "source": [
    "import pandas as pd\n",
    "# z = x**2 + y**2\n",
    "data = [[1, 2, 1**2 + 2**2], [2, 3, 2**2 + 3**2], [3,4, 3**2 + 4**2], [4, 5, 4**2 + 5**2]]\n",
    "print(pd.DataFrame(data, columns=[\"X\", \"Y\", \"Z\"]))"
   ]
  },
  {
   "cell_type": "markdown",
   "metadata": {},
   "source": [
    "# 1.6. Lists Are Mutable"
   ]
  },
  {
   "cell_type": "markdown",
   "metadata": {},
   "source": [
    "Most of the data types you have encountered so far have been atomic types. Integer or float objects, for example, are primitive units that can’t be further broken down. These types are immutable, meaning that they can’t be changed once they have been assigned. It doesn’t make much sense to think of changing the value of an integer. If you want a different integer, you just assign a different one.\n",
    "\n",
    "By contrast, the string type is a composite type. Strings are reducible to smaller parts—the component characters. It might make sense to think of changing the characters in a string. But you can’t. In Python, strings are also immutable.\n",
    "\n",
    "The list is the first mutable data type you have encountered. Once a list has been created, elements can be added, deleted, shifted, and moved around at will. Python provides a wide range of ways to modify lists."
   ]
  },
  {
   "cell_type": "markdown",
   "metadata": {},
   "source": [
    "## 1.6.1. Modifying a Single List Value"
   ]
  },
  {
   "cell_type": "markdown",
   "metadata": {},
   "source": [
    "A single value in a list can be replaced by indexing and simple assignment:"
   ]
  },
  {
   "cell_type": "code",
   "execution_count": 106,
   "metadata": {},
   "outputs": [
    {
     "name": "stdout",
     "output_type": "stream",
     "text": [
      "[2, 4, 5.5, 'Hello']\n"
     ]
    }
   ],
   "source": [
    "List = [2, 4, 5.5, \"Hi\"]\n",
    "List[3] = \"Hello\"\n",
    "print(List)"
   ]
  },
  {
   "cell_type": "code",
   "execution_count": 74,
   "metadata": {},
   "outputs": [
    {
     "name": "stdout",
     "output_type": "stream",
     "text": [
      "['ali', 'ahmet', 'beril', 'ayşe', 'cansu', 'can']\n",
      "['ali', 'ahmet', 10, 'ayşe', 'cansu', 20]\n"
     ]
    }
   ],
   "source": [
    "a = ['ali', 'ahmet', 'beril', 'ayşe', 'cansu', 'can']\n",
    "print(a)\n",
    "a[2] = 10\n",
    "a[-1] = 20\n",
    "print(a)"
   ]
  },
  {
   "cell_type": "code",
   "execution_count": 75,
   "metadata": {},
   "outputs": [
    {
     "name": "stdout",
     "output_type": "stream",
     "text": [
      "[1, 4, 6, 8]\n",
      "[1, 3, 5, 7]\n"
     ]
    }
   ],
   "source": [
    "# mistake values\n",
    "odd = [2, 4, 6, 8]\n",
    "\n",
    "# change the 1st item    \n",
    "odd[0] = 1            \n",
    "\n",
    "# Output_1: [1, 4, 6, 8]\n",
    "print(odd)\n",
    "\n",
    "# change 2nd to 4th items\n",
    "odd[1:4] = [3, 5, 7]  \n",
    "\n",
    "# Output_2: [1, 3, 5, 7]\n",
    "print(odd)                 "
   ]
  },
  {
   "cell_type": "code",
   "execution_count": 76,
   "metadata": {},
   "outputs": [
    {
     "name": "stdout",
     "output_type": "stream",
     "text": [
      "[1, 8, 27, 65, 125]\n",
      "64\n",
      "[1, 8, 27, 64, 125]\n"
     ]
    }
   ],
   "source": [
    "cubes = [1, 8, 27, 65, 125]  # something's wrong here\n",
    "print(cubes)\n",
    "print(4 ** 3)\n",
    "cubes[3] = 64  # replace the wrong value\n",
    "print(cubes)"
   ]
  },
  {
   "cell_type": "code",
   "execution_count": 77,
   "metadata": {},
   "outputs": [
    {
     "name": "stdout",
     "output_type": "stream",
     "text": [
      "['pear', 'apple', 'orange']\n"
     ]
    }
   ],
   "source": [
    "fruit = [\"banana\", \"apple\", \"quince\"]\n",
    "fruit[0] = \"pear\"\n",
    "fruit[-1] = \"orange\"\n",
    "print(fruit)"
   ]
  },
  {
   "cell_type": "code",
   "execution_count": 78,
   "metadata": {},
   "outputs": [
    {
     "ename": "TypeError",
     "evalue": "'str' object does not support item assignment",
     "output_type": "error",
     "traceback": [
      "\u001b[1;31m---------------------------------------------------------------------------\u001b[0m",
      "\u001b[1;31mTypeError\u001b[0m                                 Traceback (most recent call last)",
      "\u001b[1;32m<ipython-input-78-5d0e47d69cf7>\u001b[0m in \u001b[0;36m<module>\u001b[1;34m\u001b[0m\n\u001b[0;32m      1\u001b[0m \u001b[0ms\u001b[0m \u001b[1;33m=\u001b[0m \u001b[1;34m'Python'\u001b[0m\u001b[1;33m\u001b[0m\u001b[1;33m\u001b[0m\u001b[0m\n\u001b[1;32m----> 2\u001b[1;33m \u001b[0ms\u001b[0m\u001b[1;33m[\u001b[0m\u001b[1;36m2\u001b[0m\u001b[1;33m]\u001b[0m \u001b[1;33m=\u001b[0m \u001b[1;34m'x'\u001b[0m\u001b[1;33m\u001b[0m\u001b[1;33m\u001b[0m\u001b[0m\n\u001b[0m\u001b[0;32m      3\u001b[0m \u001b[0mprint\u001b[0m\u001b[1;33m(\u001b[0m\u001b[0ms\u001b[0m\u001b[1;33m)\u001b[0m\u001b[1;33m\u001b[0m\u001b[1;33m\u001b[0m\u001b[0m\n",
      "\u001b[1;31mTypeError\u001b[0m: 'str' object does not support item assignment"
     ]
    }
   ],
   "source": [
    "s = 'Python'\n",
    "s[2] = 'x'\n",
    "print(s)"
   ]
  },
  {
   "cell_type": "code",
   "execution_count": 79,
   "metadata": {},
   "outputs": [
    {
     "ename": "TypeError",
     "evalue": "'str' object does not support item assignment",
     "output_type": "error",
     "traceback": [
      "\u001b[1;31m---------------------------------------------------------------------------\u001b[0m",
      "\u001b[1;31mTypeError\u001b[0m                                 Traceback (most recent call last)",
      "\u001b[1;32m<ipython-input-79-033b64bd545c>\u001b[0m in \u001b[0;36m<module>\u001b[1;34m\u001b[0m\n\u001b[0;32m      1\u001b[0m \u001b[0mmy_string\u001b[0m \u001b[1;33m=\u001b[0m \u001b[1;34m'TEST'\u001b[0m\u001b[1;33m\u001b[0m\u001b[1;33m\u001b[0m\u001b[0m\n\u001b[1;32m----> 2\u001b[1;33m \u001b[0mmy_string\u001b[0m\u001b[1;33m[\u001b[0m\u001b[1;36m2\u001b[0m\u001b[1;33m]\u001b[0m \u001b[1;33m=\u001b[0m \u001b[1;34m'X'\u001b[0m\u001b[1;33m\u001b[0m\u001b[1;33m\u001b[0m\u001b[0m\n\u001b[0m\u001b[0;32m      3\u001b[0m \u001b[0mprint\u001b[0m\u001b[1;33m(\u001b[0m\u001b[0mmy_string\u001b[0m\u001b[1;33m)\u001b[0m\u001b[1;33m\u001b[0m\u001b[1;33m\u001b[0m\u001b[0m\n",
      "\u001b[1;31mTypeError\u001b[0m: 'str' object does not support item assignment"
     ]
    }
   ],
   "source": [
    "my_string = 'TEST'\n",
    "my_string[2] = 'X'\n",
    "print(my_string)"
   ]
  },
  {
   "cell_type": "code",
   "execution_count": 80,
   "metadata": {},
   "outputs": [
    {
     "name": "stdout",
     "output_type": "stream",
     "text": [
      "['T', 'E', 'X', 'T']\n"
     ]
    }
   ],
   "source": [
    "my_list = ['T', 'E', 'S', 'T']\n",
    "my_list[2] = 'X'\n",
    "print(my_list)"
   ]
  },
  {
   "cell_type": "markdown",
   "metadata": {},
   "source": [
    "## 1.6.2. Modifying Multiple List Values"
   ]
  },
  {
   "cell_type": "markdown",
   "metadata": {},
   "source": [
    "What if you want to change several contiguous elements in a list at one time? Python allows this with slice assignment, which has the following syntax:"
   ]
  },
  {
   "cell_type": "raw",
   "metadata": {},
   "source": [
    "a[m:n] = <iterable>"
   ]
  },
  {
   "cell_type": "markdown",
   "metadata": {},
   "source": [
    "Again, for the moment, think of an iterable as a list. This assignment replaces the specified slice of a with \\< iterable \\>:"
   ]
  },
  {
   "cell_type": "code",
   "execution_count": 81,
   "metadata": {},
   "outputs": [
    {
     "name": "stdout",
     "output_type": "stream",
     "text": [
      "['ahmet', 'beril', 'ayşe']\n",
      "['ali', 1.1, 2.2, 3.3, 4.4, 5.5, 'cansu', 'can']\n",
      "[1.1, 2.2, 3.3, 4.4, 5.5]\n",
      "['ali', 'Python', 'cansu', 'can']\n"
     ]
    }
   ],
   "source": [
    "a = ['ali', 'ahmet', 'beril', 'ayşe', 'cansu', 'can']\n",
    "print(a[1:4])\n",
    "a[1:4] = [1.1, 2.2, 3.3, 4.4, 5.5]\n",
    "print(a)\n",
    "print(a[1:6])\n",
    "[1.1, 2.2, 3.3, 4.4, 5.5]\n",
    "a[1:6] = ['Python']\n",
    "print(a)"
   ]
  },
  {
   "cell_type": "code",
   "execution_count": 82,
   "metadata": {},
   "outputs": [
    {
     "name": "stdout",
     "output_type": "stream",
     "text": [
      "['a', 'b', 'c', 'd', 'e', 'f', 'g']\n",
      "['a', 'b', 'C', 'D', 'E', 'f', 'g']\n",
      "['a', 'b', 'f', 'g']\n",
      "[]\n"
     ]
    }
   ],
   "source": [
    "letters = ['a', 'b', 'c', 'd', 'e', 'f', 'g']\n",
    "print(letters)\n",
    "# replace some values\n",
    "letters[2:5] = ['C', 'D', 'E']\n",
    "print(letters)\n",
    "['a', 'b', 'C', 'D', 'E', 'f', 'g']\n",
    "# now remove them\n",
    "letters[2:5] = []\n",
    "print(letters)\n",
    "# clear the list by replacing all the elements with an empty list\n",
    "letters[:] = []\n",
    "print(letters)"
   ]
  },
  {
   "cell_type": "code",
   "execution_count": 84,
   "metadata": {},
   "outputs": [
    {
     "name": "stdout",
     "output_type": "stream",
     "text": [
      "['a', 'x', 'y', 'd', 'e', 'f']\n"
     ]
    }
   ],
   "source": [
    "a_list = ['a', 'b', 'c', 'd', 'e', 'f']\n",
    "a_list[1:3] = ['x', 'y']\n",
    "print(a_list)"
   ]
  },
  {
   "cell_type": "code",
   "execution_count": 85,
   "metadata": {},
   "outputs": [
    {
     "name": "stdout",
     "output_type": "stream",
     "text": [
      "['a', 'd', 'e', 'f']\n"
     ]
    }
   ],
   "source": [
    "a_list = ['a', 'b', 'c', 'd', 'e', 'f']\n",
    "a_list[1:3] = []\n",
    "print(a_list)"
   ]
  },
  {
   "cell_type": "code",
   "execution_count": 87,
   "metadata": {},
   "outputs": [
    {
     "name": "stdout",
     "output_type": "stream",
     "text": [
      "['a', 'd', 'f']\n",
      "['a', 'b', 'c', 'd', 'f']\n",
      "['a', 'b', 'c', 'd', 'e', 'f']\n"
     ]
    }
   ],
   "source": [
    "a_list = ['a', 'd', 'f']\n",
    "print(a_list)\n",
    "a_list[1:1] = ['b', 'c']\n",
    "print(a_list)\n",
    "a_list[4:4] = ['e']\n",
    "print(a_list)"
   ]
  },
  {
   "cell_type": "markdown",
   "metadata": {},
   "source": [
    "The number of elements inserted need not be equal to the number replaced. Python just grows or shrinks the list as needed.\n",
    "\n",
    "You can insert multiple elements in place of a single element—just use a slice that denotes only one element:"
   ]
  },
  {
   "cell_type": "code",
   "execution_count": 107,
   "metadata": {},
   "outputs": [
    {
     "name": "stdout",
     "output_type": "stream",
     "text": [
      "[1, 2.1, 2.2, 2.3, 3]\n"
     ]
    }
   ],
   "source": [
    "a = [1, 2, 3]\n",
    "a[1:2] = [2.1, 2.2, 2.3]\n",
    "print(a)"
   ]
  },
  {
   "cell_type": "markdown",
   "metadata": {},
   "source": [
    "Note that this is not the same as replacing the single element with a list:"
   ]
  },
  {
   "cell_type": "code",
   "execution_count": 108,
   "metadata": {},
   "outputs": [
    {
     "name": "stdout",
     "output_type": "stream",
     "text": [
      "[1, [2.1, 2.2, 2.3], 3]\n"
     ]
    }
   ],
   "source": [
    "a = [1, 2, 3]\n",
    "a[1] = [2.1, 2.2, 2.3]\n",
    "print(a)"
   ]
  },
  {
   "cell_type": "markdown",
   "metadata": {},
   "source": [
    "You can also insert elements into a list without removing anything. Simply specify a slice of the form [n:n] (a zero-length slice) at the desired index:"
   ]
  },
  {
   "cell_type": "code",
   "execution_count": 109,
   "metadata": {},
   "outputs": [
    {
     "name": "stdout",
     "output_type": "stream",
     "text": [
      "[1, 2, 3, 4, 5, 6, 7, 8]\n"
     ]
    }
   ],
   "source": [
    "a = [1, 2, 7, 8]\n",
    "a[2:2] = [3, 4, 5, 6]\n",
    "print(a)"
   ]
  },
  {
   "cell_type": "markdown",
   "metadata": {},
   "source": [
    "You can delete multiple elements out of the middle of a list by assigning the appropriate slice to an empty list:"
   ]
  },
  {
   "cell_type": "code",
   "execution_count": 111,
   "metadata": {},
   "outputs": [
    {
     "name": "stdout",
     "output_type": "stream",
     "text": [
      "['ali', 'can']\n"
     ]
    }
   ],
   "source": [
    "a = ['ali', 'ahmet', 'beril', 'ayşe', 'cansu', 'can']\n",
    "a[1:5] = []\n",
    "print(a)"
   ]
  },
  {
   "cell_type": "markdown",
   "metadata": {},
   "source": [
    "## 1.6.3. Prepending or Appending Items to a List"
   ]
  },
  {
   "cell_type": "markdown",
   "metadata": {},
   "source": [
    "Additional items can be added to the start or end of a list using the + concatenation operator or the += augmented assignment operator:"
   ]
  },
  {
   "cell_type": "code",
   "execution_count": 112,
   "metadata": {},
   "outputs": [
    {
     "name": "stdout",
     "output_type": "stream",
     "text": [
      "['ali', 'ahmet', 'beril', 'ayşe', 'cansu', 'can', 'murat', 'sahra']\n",
      "[10, 20, 'ali', 'ahmet', 'beril', 'ayşe', 'cansu', 'can']\n"
     ]
    }
   ],
   "source": [
    "a = ['ali', 'ahmet', 'beril', 'ayşe', 'cansu', 'can']\n",
    "a += ['murat', 'sahra']\n",
    "print(a)\n",
    "a = ['ali', 'ahmet', 'beril', 'ayşe', 'cansu', 'can']\n",
    "a = [10, 20] + a\n",
    "print(a)"
   ]
  },
  {
   "cell_type": "markdown",
   "metadata": {},
   "source": [
    "Note that a list must be concatenated with another list, so if you want to add only one element, you need to specify it as a singleton list:"
   ]
  },
  {
   "cell_type": "code",
   "execution_count": 113,
   "metadata": {},
   "outputs": [
    {
     "ename": "TypeError",
     "evalue": "'int' object is not iterable",
     "output_type": "error",
     "traceback": [
      "\u001b[1;31m---------------------------------------------------------------------------\u001b[0m",
      "\u001b[1;31mTypeError\u001b[0m                                 Traceback (most recent call last)",
      "\u001b[1;32m<ipython-input-113-078ca8b7e945>\u001b[0m in \u001b[0;36m<module>\u001b[1;34m\u001b[0m\n\u001b[0;32m      1\u001b[0m \u001b[0ma\u001b[0m \u001b[1;33m=\u001b[0m \u001b[1;33m[\u001b[0m\u001b[1;34m'ali'\u001b[0m\u001b[1;33m,\u001b[0m \u001b[1;34m'ahmet'\u001b[0m\u001b[1;33m,\u001b[0m \u001b[1;34m'beril'\u001b[0m\u001b[1;33m,\u001b[0m \u001b[1;34m'ayşe'\u001b[0m\u001b[1;33m,\u001b[0m \u001b[1;34m'cansu'\u001b[0m\u001b[1;33m,\u001b[0m \u001b[1;34m'can'\u001b[0m\u001b[1;33m]\u001b[0m\u001b[1;33m\u001b[0m\u001b[1;33m\u001b[0m\u001b[0m\n\u001b[1;32m----> 2\u001b[1;33m \u001b[0ma\u001b[0m \u001b[1;33m+=\u001b[0m \u001b[1;36m20\u001b[0m\u001b[1;33m\u001b[0m\u001b[1;33m\u001b[0m\u001b[0m\n\u001b[0m\u001b[0;32m      3\u001b[0m \u001b[0mprint\u001b[0m\u001b[1;33m(\u001b[0m\u001b[0ma\u001b[0m\u001b[1;33m)\u001b[0m\u001b[1;33m\u001b[0m\u001b[1;33m\u001b[0m\u001b[0m\n",
      "\u001b[1;31mTypeError\u001b[0m: 'int' object is not iterable"
     ]
    }
   ],
   "source": [
    "a = ['ali', 'ahmet', 'beril', 'ayşe', 'cansu', 'can']\n",
    "a += 20\n",
    "print(a)"
   ]
  },
  {
   "cell_type": "code",
   "execution_count": 114,
   "metadata": {},
   "outputs": [
    {
     "name": "stdout",
     "output_type": "stream",
     "text": [
      "['ali', 'ahmet', 'beril', 'ayşe', 'cansu', 'can', 20]\n"
     ]
    }
   ],
   "source": [
    "a = ['ali', 'ahmet', 'beril', 'ayşe', 'cansu', 'can']\n",
    "a += [20]\n",
    "print(a)"
   ]
  },
  {
   "cell_type": "code",
   "execution_count": 115,
   "metadata": {},
   "outputs": [
    {
     "name": "stdout",
     "output_type": "stream",
     "text": [
      "['ali', 'ahmet', 'beril', 'ayşe', 'cansu', 'can', 'm', 'u', 'r', 'a', 't']\n"
     ]
    }
   ],
   "source": [
    "a = ['ali', 'ahmet', 'beril', 'ayşe', 'cansu', 'can']\n",
    "a += 'murat'\n",
    "print(a)"
   ]
  },
  {
   "cell_type": "code",
   "execution_count": 116,
   "metadata": {},
   "outputs": [
    {
     "name": "stdout",
     "output_type": "stream",
     "text": [
      "['ali', 'ahmet', 'beril', 'ayşe', 'cansu', 'can', 'murat']\n"
     ]
    }
   ],
   "source": [
    "a = ['ali', 'ahmet', 'beril', 'ayşe', 'cansu', 'can']\n",
    "a += ['murat']\n",
    "print(a)"
   ]
  },
  {
   "cell_type": "markdown",
   "metadata": {},
   "source": [
    "## 1.6.4. Methods That Modify a List"
   ]
  },
  {
   "cell_type": "markdown",
   "metadata": {},
   "source": [
    "Finally, Python supplies several built-in methods that can be used to modify lists. Information on these methods is detailed below."
   ]
  },
  {
   "cell_type": "code",
   "execution_count": 119,
   "metadata": {},
   "outputs": [
    {
     "name": "stdout",
     "output_type": "stream",
     "text": [
      "python PYTHON\n"
     ]
    }
   ],
   "source": [
    "str_1 = 'python'\n",
    "str_2 = str_1.upper()\n",
    "print(str_1, str_2)"
   ]
  },
  {
   "cell_type": "markdown",
   "metadata": {},
   "source": [
    "### 1.6.4.1. List deletion"
   ]
  },
  {
   "cell_type": "code",
   "execution_count": 120,
   "metadata": {},
   "outputs": [
    {
     "name": "stdout",
     "output_type": "stream",
     "text": [
      "['ali', 'ahmet', 'beril', 'cansu', 'can']\n"
     ]
    }
   ],
   "source": [
    "a = ['ali', 'ahmet', 'beril', 'ayşe', 'cansu', 'can']\n",
    "del a[3]\n",
    "print(a)"
   ]
  },
  {
   "cell_type": "code",
   "execution_count": 121,
   "metadata": {},
   "outputs": [
    {
     "name": "stdout",
     "output_type": "stream",
     "text": [
      "['ali', 'can']\n"
     ]
    }
   ],
   "source": [
    "a = ['ali', 'ahmet', 'beril', 'ayşe', 'cansu', 'can']\n",
    "del a[1:5]\n",
    "print(a)"
   ]
  },
  {
   "cell_type": "code",
   "execution_count": 122,
   "metadata": {},
   "outputs": [
    {
     "name": "stdout",
     "output_type": "stream",
     "text": [
      "['one', 'three']\n"
     ]
    }
   ],
   "source": [
    "b = ['one', 'two', 'three']\n",
    "del b[1]\n",
    "print(b)"
   ]
  },
  {
   "cell_type": "code",
   "execution_count": 123,
   "metadata": {},
   "outputs": [
    {
     "name": "stdout",
     "output_type": "stream",
     "text": [
      "['a', 'f']\n"
     ]
    }
   ],
   "source": [
    "a_list = ['a', 'b', 'c', 'd', 'e', 'f']\n",
    "del a_list[1:5]\n",
    "print(a_list)"
   ]
  },
  {
   "cell_type": "code",
   "execution_count": 134,
   "metadata": {},
   "outputs": [
    {
     "name": "stdout",
     "output_type": "stream",
     "text": [
      "['p', 'r', 'b', 'l', 'e', 'm']\n",
      "['p', 'm']\n"
     ]
    },
    {
     "ename": "NameError",
     "evalue": "name 'my_list' is not defined",
     "output_type": "error",
     "traceback": [
      "\u001b[1;31m---------------------------------------------------------------------------\u001b[0m",
      "\u001b[1;31mNameError\u001b[0m                                 Traceback (most recent call last)",
      "\u001b[1;32m<ipython-input-134-6cbd1faa0b06>\u001b[0m in \u001b[0;36m<module>\u001b[1;34m\u001b[0m\n\u001b[0;32m     17\u001b[0m \u001b[1;33m\u001b[0m\u001b[0m\n\u001b[0;32m     18\u001b[0m \u001b[1;31m# Error: List not defined\u001b[0m\u001b[1;33m\u001b[0m\u001b[1;33m\u001b[0m\u001b[1;33m\u001b[0m\u001b[0m\n\u001b[1;32m---> 19\u001b[1;33m \u001b[0mprint\u001b[0m\u001b[1;33m(\u001b[0m\u001b[0mmy_list\u001b[0m\u001b[1;33m)\u001b[0m\u001b[1;33m\u001b[0m\u001b[1;33m\u001b[0m\u001b[0m\n\u001b[0m",
      "\u001b[1;31mNameError\u001b[0m: name 'my_list' is not defined"
     ]
    }
   ],
   "source": [
    "my_list = ['p','r','o','b','l','e','m']\n",
    "\n",
    "# delete one item\n",
    "del my_list[2]\n",
    "\n",
    "# Output_1: ['p', 'r', 'b', 'l', 'e', 'm']     \n",
    "print(my_list)\n",
    "\n",
    "# delete multiple items\n",
    "del my_list[1:5]  \n",
    "\n",
    "# Output_2: ['p', 'm']\n",
    "print(my_list)\n",
    "\n",
    "# delete entire list\n",
    "del my_list       \n",
    "\n",
    "# Error: List not defined\n",
    "print(my_list)"
   ]
  },
  {
   "cell_type": "markdown",
   "metadata": {},
   "source": [
    "### 1.6.4.2. a.append(\\< obj \\>)"
   ]
  },
  {
   "cell_type": "markdown",
   "metadata": {},
   "source": [
    "a.append(\\< obj \\>) appends object \\< obj \\> to the end of list a:"
   ]
  },
  {
   "cell_type": "code",
   "execution_count": 124,
   "metadata": {},
   "outputs": [
    {
     "name": "stdout",
     "output_type": "stream",
     "text": [
      "['a', 'b', 123]\n"
     ]
    }
   ],
   "source": [
    "a = ['a', 'b']\n",
    "a.append(123)\n",
    "print(a)"
   ]
  },
  {
   "cell_type": "markdown",
   "metadata": {},
   "source": [
    "Remember, list methods modify the target list in place. They do not return a new list:"
   ]
  },
  {
   "cell_type": "code",
   "execution_count": 126,
   "metadata": {},
   "outputs": [
    {
     "name": "stdout",
     "output_type": "stream",
     "text": [
      "None\n",
      "['a', 'b', 123]\n"
     ]
    }
   ],
   "source": [
    "a = ['a', 'b']\n",
    "x = a.append(123)\n",
    "print(x)\n",
    "print(a)"
   ]
  },
  {
   "cell_type": "markdown",
   "metadata": {},
   "source": [
    "Remember that when the + operator is used to concatenate to a list, if the target operand is an iterable, then its elements are broken out and appended to the list individually:"
   ]
  },
  {
   "cell_type": "code",
   "execution_count": 127,
   "metadata": {},
   "outputs": [
    {
     "name": "stdout",
     "output_type": "stream",
     "text": [
      "['a', 'b', 1, 2, 3]\n"
     ]
    }
   ],
   "source": [
    "a = ['a', 'b']\n",
    "print(a + [1, 2, 3])"
   ]
  },
  {
   "cell_type": "markdown",
   "metadata": {},
   "source": [
    "The .append() method does not work that way! If an iterable is appended to a list with .append(), it is added as a single object:"
   ]
  },
  {
   "cell_type": "code",
   "execution_count": 128,
   "metadata": {},
   "outputs": [
    {
     "name": "stdout",
     "output_type": "stream",
     "text": [
      "['a', 'b', [1, 2, 3]]\n"
     ]
    }
   ],
   "source": [
    "a = ['a', 'b']\n",
    "a.append([1, 2, 3])\n",
    "print(a)"
   ]
  },
  {
   "cell_type": "markdown",
   "metadata": {},
   "source": [
    "Thus, with .append(), you can append a string as a single entity:"
   ]
  },
  {
   "cell_type": "code",
   "execution_count": 129,
   "metadata": {},
   "outputs": [
    {
     "name": "stdout",
     "output_type": "stream",
     "text": [
      "['a', 'b', 'ali']\n"
     ]
    }
   ],
   "source": [
    "a = ['a', 'b']\n",
    "a.append('ali')\n",
    "print(a)"
   ]
  },
  {
   "cell_type": "code",
   "execution_count": 133,
   "metadata": {},
   "outputs": [
    {
     "name": "stdout",
     "output_type": "stream",
     "text": [
      "['this']\n",
      "['this', 'that']\n"
     ]
    }
   ],
   "source": [
    "mylist_1 = []\n",
    "mylist_1.append('this')\n",
    "print(mylist_1)\n",
    "mylist_1.append('that')\n",
    "print(mylist_1)"
   ]
  },
  {
   "cell_type": "code",
   "execution_count": 135,
   "metadata": {},
   "outputs": [
    {
     "name": "stdout",
     "output_type": "stream",
     "text": [
      "['apple', 'banana', 'cherry', 'orange']\n"
     ]
    }
   ],
   "source": [
    "thislist = [\"apple\", \"banana\", \"cherry\"]\n",
    "thislist.append(\"orange\")\n",
    "print(thislist)"
   ]
  },
  {
   "cell_type": "code",
   "execution_count": 138,
   "metadata": {},
   "outputs": [
    {
     "name": "stdout",
     "output_type": "stream",
     "text": [
      "[1, 3, 5, 7]\n"
     ]
    }
   ],
   "source": [
    "odd = [1, 3, 5]\n",
    "odd.append(7)\n",
    "print(odd)"
   ]
  },
  {
   "cell_type": "markdown",
   "metadata": {},
   "source": [
    "### 1.6.4.3. a.extend(\\< iterable \\>)"
   ]
  },
  {
   "cell_type": "markdown",
   "metadata": {},
   "source": [
    "Yes, this is probably what you think it is. .extend() also adds to the end of a list, but the argument is expected to be an iterable. The items in <iterable> are added individually:"
   ]
  },
  {
   "cell_type": "code",
   "execution_count": 136,
   "metadata": {},
   "outputs": [
    {
     "name": "stdout",
     "output_type": "stream",
     "text": [
      "['a', 'b', 1, 2, 3]\n"
     ]
    }
   ],
   "source": [
    "a = ['a', 'b']\n",
    "a.extend([1, 2, 3])\n",
    "print(a)"
   ]
  },
  {
   "cell_type": "markdown",
   "metadata": {},
   "source": [
    "In other words, .extend() behaves like the + operator. More precisely, since it modifies the list in place, it behaves like the += operator:"
   ]
  },
  {
   "cell_type": "code",
   "execution_count": 137,
   "metadata": {},
   "outputs": [
    {
     "name": "stdout",
     "output_type": "stream",
     "text": [
      "['a', 'b', 1, 2, 3]\n"
     ]
    }
   ],
   "source": [
    "a = ['a', 'b']\n",
    "a += [1, 2, 3]\n",
    "print(a)"
   ]
  },
  {
   "cell_type": "code",
   "execution_count": 139,
   "metadata": {},
   "outputs": [
    {
     "name": "stdout",
     "output_type": "stream",
     "text": [
      "[1, 3, 5, 7]\n",
      "[1, 3, 5, 7, 9, 11, 13]\n"
     ]
    }
   ],
   "source": [
    "odd = [1, 3, 5]\n",
    "\n",
    "odd.append(7)\n",
    "\n",
    "# Output_1: [1, 3, 5, 7]\n",
    "print(odd)\n",
    "\n",
    "odd.extend([9, 11, 13])\n",
    "\n",
    "# Output_2: [1, 3, 5, 7, 9, 11, 13]\n",
    "print(odd)"
   ]
  },
  {
   "cell_type": "code",
   "execution_count": 173,
   "metadata": {},
   "outputs": [
    {
     "name": "stdout",
     "output_type": "stream",
     "text": [
      "['a', 'b', 'c', 1, 2, 3]\n"
     ]
    }
   ],
   "source": [
    "list1 = [\"a\", \"b\" , \"c\"]\n",
    "list2 = [1, 2, 3]\n",
    "\n",
    "list1.extend(list2)\n",
    "print(list1)"
   ]
  },
  {
   "cell_type": "markdown",
   "metadata": {},
   "source": [
    "### 1.6.4.4. a.insert(\\< index \\>, \\< obj \\>)"
   ]
  },
  {
   "cell_type": "markdown",
   "metadata": {},
   "source": [
    "a.insert(\\< index \\>, \\< obj \\>) inserts object \\< obj \\> into list a at the specified \\< index \\>. Following the method call, a[\\< index \\>] is \\< obj \\>, and the remaining list elements are pushed to the right:"
   ]
  },
  {
   "cell_type": "code",
   "execution_count": 141,
   "metadata": {},
   "outputs": [
    {
     "name": "stdout",
     "output_type": "stream",
     "text": [
      "3.141592\n",
      "['ali', 'ahmet', 'beril', 3.141592, 'ayşe', 'cansu', 'can']\n"
     ]
    }
   ],
   "source": [
    "a = ['ali', 'ahmet', 'beril', 'ayşe', 'cansu', 'can']\n",
    "a.insert(3, 3.141592)\n",
    "print(a[3])\n",
    "print(a)"
   ]
  },
  {
   "cell_type": "code",
   "execution_count": 143,
   "metadata": {},
   "outputs": [
    {
     "name": "stdout",
     "output_type": "stream",
     "text": [
      "[1, 3, 5, 7, 9]\n"
     ]
    }
   ],
   "source": [
    "odd = [1, 9]\n",
    "odd.insert(1,3)\n",
    "odd.insert(2,5)\n",
    "odd.insert(3,7)\n",
    "\n",
    "# Output_1: [1, 3, 5, 7, 9] \n",
    "print(odd)"
   ]
  },
  {
   "cell_type": "code",
   "execution_count": 145,
   "metadata": {},
   "outputs": [
    {
     "name": "stdout",
     "output_type": "stream",
     "text": [
      "[1, 3, 5, 7, 9]\n"
     ]
    }
   ],
   "source": [
    "odd = [1, 9]\n",
    "odd[1:1] = [3, 5, 7]\n",
    "\n",
    "# Output_2: [1, 3, 5, 7, 9]\n",
    "print(odd)"
   ]
  },
  {
   "cell_type": "code",
   "execution_count": 148,
   "metadata": {},
   "outputs": [
    {
     "name": "stdout",
     "output_type": "stream",
     "text": [
      "['thing']\n",
      "['this', 'that', 'thing']\n"
     ]
    }
   ],
   "source": [
    "mylist_1 = []\n",
    "mylist_1.insert(1, 'thing')\n",
    "print(mylist_1)\n",
    "\n",
    "mylist_2 = ['this', 'that']\n",
    "mylist_2.insert(2, 'thing')\n",
    "print(mylist_2)\n"
   ]
  },
  {
   "cell_type": "markdown",
   "metadata": {},
   "source": [
    "### 1.6.4.5. a.remove(\\< obj \\>)"
   ]
  },
  {
   "cell_type": "markdown",
   "metadata": {},
   "source": [
    "a.remove(\\< obj \\>) removes object \\< obj \\> from list a. If \\< obj \\> isn’t in a, an exception is raised:"
   ]
  },
  {
   "cell_type": "code",
   "execution_count": 151,
   "metadata": {},
   "outputs": [
    {
     "name": "stdout",
     "output_type": "stream",
     "text": [
      "['ali', 'ahmet', 'beril', 'ayşe', 'can']\n"
     ]
    },
    {
     "ename": "ValueError",
     "evalue": "list.remove(x): x not in list",
     "output_type": "error",
     "traceback": [
      "\u001b[1;31m---------------------------------------------------------------------------\u001b[0m",
      "\u001b[1;31mValueError\u001b[0m                                Traceback (most recent call last)",
      "\u001b[1;32m<ipython-input-151-b77a8585e097>\u001b[0m in \u001b[0;36m<module>\u001b[1;34m\u001b[0m\n\u001b[0;32m      3\u001b[0m \u001b[0mprint\u001b[0m\u001b[1;33m(\u001b[0m\u001b[0ma\u001b[0m\u001b[1;33m)\u001b[0m\u001b[1;33m\u001b[0m\u001b[1;33m\u001b[0m\u001b[0m\n\u001b[0;32m      4\u001b[0m \u001b[1;33m\u001b[0m\u001b[0m\n\u001b[1;32m----> 5\u001b[1;33m \u001b[0ma\u001b[0m\u001b[1;33m.\u001b[0m\u001b[0mremove\u001b[0m\u001b[1;33m(\u001b[0m\u001b[1;34m'murat'\u001b[0m\u001b[1;33m)\u001b[0m\u001b[1;33m\u001b[0m\u001b[1;33m\u001b[0m\u001b[0m\n\u001b[0m\u001b[0;32m      6\u001b[0m \u001b[0mprint\u001b[0m\u001b[1;33m(\u001b[0m\u001b[0ma\u001b[0m\u001b[1;33m)\u001b[0m\u001b[1;33m\u001b[0m\u001b[1;33m\u001b[0m\u001b[0m\n",
      "\u001b[1;31mValueError\u001b[0m: list.remove(x): x not in list"
     ]
    }
   ],
   "source": [
    "a = ['ali', 'ahmet', 'beril', 'ayşe', 'cansu', 'can']\n",
    "a.remove('cansu')\n",
    "print(a)\n",
    "\n",
    "a.remove('murat')\n",
    "print(a)"
   ]
  },
  {
   "cell_type": "code",
   "execution_count": 152,
   "metadata": {},
   "outputs": [
    {
     "name": "stdout",
     "output_type": "stream",
     "text": [
      "['r', 'o', 'b', 'l', 'e', 'm']\n"
     ]
    }
   ],
   "source": [
    "my_list = ['p','r','o','b','l','e','m']\n",
    "my_list.remove('p')\n",
    "\n",
    "# Output: ['r', 'o', 'b', 'l', 'e', 'm']\n",
    "print(my_list)"
   ]
  },
  {
   "cell_type": "code",
   "execution_count": 153,
   "metadata": {},
   "outputs": [
    {
     "name": "stdout",
     "output_type": "stream",
     "text": [
      "['p', 'r', 'b', 'l', 'e', 'm']\n",
      "['p', 'r', 'm']\n"
     ]
    }
   ],
   "source": [
    "my_list = ['p','r','o','b','l','e','m']\n",
    "my_list[2:3] = []\n",
    "print(my_list)\n",
    "my_list[2:5] = []\n",
    "print(my_list)"
   ]
  },
  {
   "cell_type": "code",
   "execution_count": 158,
   "metadata": {},
   "outputs": [
    {
     "name": "stdout",
     "output_type": "stream",
     "text": [
      "['that', 'this']\n"
     ]
    }
   ],
   "source": [
    "mylist = ['that', 'thing', 'this']\n",
    "mylist.remove('thing')\n",
    "print(mylist)"
   ]
  },
  {
   "cell_type": "markdown",
   "metadata": {},
   "source": [
    "### 1.6.4.6. a.pop(index=-1)"
   ]
  },
  {
   "cell_type": "markdown",
   "metadata": {},
   "source": [
    "This method differs from .remove() in two ways:\n",
    "\n",
    "1. You specify the index of the item to remove, rather than the object itself.\n",
    "2. The method returns a value: the item that was removed.\n",
    "\n",
    "a.pop() simply removes the last item in the list:"
   ]
  },
  {
   "cell_type": "code",
   "execution_count": 154,
   "metadata": {},
   "outputs": [
    {
     "name": "stdout",
     "output_type": "stream",
     "text": [
      "['ali', 'ahmet', 'beril', 'ayşe', 'cansu']\n",
      "['ali', 'ahmet', 'beril', 'ayşe']\n"
     ]
    }
   ],
   "source": [
    "a = ['ali', 'ahmet', 'beril', 'ayşe', 'cansu', 'can']\n",
    "a.pop()\n",
    "print(a)\n",
    "a.pop()\n",
    "print(a)"
   ]
  },
  {
   "cell_type": "markdown",
   "metadata": {},
   "source": [
    "If the optional \\< index \\> parameter is specified, the item at that index is removed and returned. \\< index \\> may be negative, as with string and list indexing:"
   ]
  },
  {
   "cell_type": "code",
   "execution_count": 156,
   "metadata": {},
   "outputs": [
    {
     "name": "stdout",
     "output_type": "stream",
     "text": [
      "['ali', 'beril', 'ayşe', 'cansu', 'can']\n",
      "['ali', 'beril', 'cansu', 'can']\n"
     ]
    }
   ],
   "source": [
    "a = ['ali', 'ahmet', 'beril', 'ayşe', 'cansu', 'can']\n",
    "a.pop(1)\n",
    "print(a)\n",
    "a.pop(-3)\n",
    "print(a)"
   ]
  },
  {
   "cell_type": "markdown",
   "metadata": {},
   "source": [
    "\\< index \\> defaults to -1, so a.pop(-1) is equivalent to a.pop()."
   ]
  },
  {
   "cell_type": "markdown",
   "metadata": {},
   "source": [
    "### 1.6.4.7. a.clear()"
   ]
  },
  {
   "cell_type": "markdown",
   "metadata": {},
   "source": [
    "The clear() method empties the list:"
   ]
  },
  {
   "cell_type": "code",
   "execution_count": 159,
   "metadata": {},
   "outputs": [
    {
     "name": "stdout",
     "output_type": "stream",
     "text": [
      "[]\n"
     ]
    }
   ],
   "source": [
    "a = ['ali', 'ahmet', 'beril', 'ayşe', 'cansu', 'can']\n",
    "a.clear()\n",
    "print(a)"
   ]
  },
  {
   "cell_type": "code",
   "execution_count": 160,
   "metadata": {},
   "outputs": [
    {
     "name": "stdout",
     "output_type": "stream",
     "text": [
      "[]\n"
     ]
    }
   ],
   "source": [
    "thislist = [\"apple\", \"banana\", \"cherry\"]\n",
    "thislist.clear()\n",
    "print(thislist)"
   ]
  },
  {
   "cell_type": "code",
   "execution_count": 171,
   "metadata": {},
   "outputs": [
    {
     "name": "stdout",
     "output_type": "stream",
     "text": [
      "['r', 'o', 'b', 'l', 'e', 'm']\n",
      "o\n",
      "['r', 'b', 'l', 'e', 'm']\n",
      "m\n",
      "['r', 'b', 'l', 'e']\n",
      "[]\n"
     ]
    }
   ],
   "source": [
    "my_list = ['p','r','o','b','l','e','m']\n",
    "my_list.remove('p')\n",
    "\n",
    "# Output_1: ['r', 'o', 'b', 'l', 'e', 'm']\n",
    "print(my_list)\n",
    "\n",
    "# Output_2: 'o'\n",
    "print(my_list.pop(1))\n",
    "\n",
    "# Output_3: ['r', 'b', 'l', 'e', 'm']\n",
    "print(my_list)\n",
    "\n",
    "# Output_4: 'm'\n",
    "print(my_list.pop())\n",
    "\n",
    "# Output_5: ['r', 'b', 'l', 'e']\n",
    "print(my_list)\n",
    "\n",
    "my_list.clear()\n",
    "\n",
    "# Output_6: []\n",
    "print(my_list)"
   ]
  },
  {
   "cell_type": "markdown",
   "metadata": {},
   "source": [
    "### 1.6.4.7. a.copy()"
   ]
  },
  {
   "cell_type": "markdown",
   "metadata": {},
   "source": [
    "You cannot copy a list simply by typing **list2 = list1**, because: list2 will only be a reference to list1, and changes made in list1 will automatically also be made in list2.\n",
    "\n",
    "There are ways to make a copy, one way is to use the built-in List method copy()."
   ]
  },
  {
   "cell_type": "code",
   "execution_count": 161,
   "metadata": {},
   "outputs": [
    {
     "name": "stdout",
     "output_type": "stream",
     "text": [
      "['apple', 'banana', 'cherry']\n"
     ]
    }
   ],
   "source": [
    "thislist = [\"apple\", \"banana\", \"cherry\"]\n",
    "mylist = thislist.copy()\n",
    "print(mylist)"
   ]
  },
  {
   "cell_type": "code",
   "execution_count": 172,
   "metadata": {},
   "outputs": [
    {
     "name": "stdout",
     "output_type": "stream",
     "text": [
      "['apple', 'banana', 'cherry']\n"
     ]
    }
   ],
   "source": [
    "thislist = [\"apple\", \"banana\", \"cherry\"]\n",
    "mylist = list(thislist)\n",
    "print(mylist)"
   ]
  },
  {
   "cell_type": "markdown",
   "metadata": {},
   "source": [
    "#### 1.6.4.7.1. Names and mutable values"
   ]
  },
  {
   "cell_type": "markdown",
   "metadata": {},
   "source": [
    "If we execute these assignment statements,"
   ]
  },
  {
   "cell_type": "code",
   "execution_count": 164,
   "metadata": {},
   "outputs": [
    {
     "name": "stdout",
     "output_type": "stream",
     "text": [
      "[1, 2, 3] [1, 2, 3]\n"
     ]
    }
   ],
   "source": [
    "a = [1, 2, 3]\n",
    "b = [1, 2, 3]\n",
    "print(a, b)"
   ]
  },
  {
   "cell_type": "markdown",
   "metadata": {},
   "source": [
    "we know that the names a and b will refer to a list with the numbers 1, 2, and 3. But we don’t know yet whether they point to the same list.\n",
    "\n",
    "There are two possible states:"
   ]
  },
  {
   "cell_type": "markdown",
   "metadata": {},
   "source": [
    "<img src=\"http://www.openbookproject.net/books/bpp4awd/_images/mult_references1.png\" alt=\"case 1\" title=\"Case 1\" />"
   ]
  },
  {
   "cell_type": "markdown",
   "metadata": {},
   "source": [
    "or;"
   ]
  },
  {
   "cell_type": "markdown",
   "metadata": {},
   "source": [
    "<img src=\"http://www.openbookproject.net/books/bpp4awd/_images/mult_references2.png\" alt=\"case 2\" title=\"Case 2\" />"
   ]
  },
  {
   "cell_type": "markdown",
   "metadata": {},
   "source": [
    "In one case, a and b refer to two different things that have the same value. In the second case, they refer to the same object."
   ]
  },
  {
   "cell_type": "markdown",
   "metadata": {},
   "source": [
    "We can test whether two names have the same value using ==:"
   ]
  },
  {
   "cell_type": "code",
   "execution_count": 165,
   "metadata": {},
   "outputs": [
    {
     "data": {
      "text/plain": [
       "True"
      ]
     },
     "execution_count": 165,
     "metadata": {},
     "output_type": "execute_result"
    }
   ],
   "source": [
    "a == b"
   ]
  },
  {
   "cell_type": "markdown",
   "metadata": {},
   "source": [
    "We can test whether two names refer to the same object using the is operator:"
   ]
  },
  {
   "cell_type": "code",
   "execution_count": 166,
   "metadata": {},
   "outputs": [
    {
     "data": {
      "text/plain": [
       "False"
      ]
     },
     "execution_count": 166,
     "metadata": {},
     "output_type": "execute_result"
    }
   ],
   "source": [
    "a is b"
   ]
  },
  {
   "cell_type": "markdown",
   "metadata": {},
   "source": [
    "This tells us that both a and b do not refer to the same object, and that it is the first of the two state diagrams that describes the relationship."
   ]
  },
  {
   "cell_type": "markdown",
   "metadata": {},
   "source": [
    "#### 1.6.4.7.2. Aliasing"
   ]
  },
  {
   "cell_type": "markdown",
   "metadata": {},
   "source": [
    "Since variables refer to objects, if we assign one variable to another, both variables refer to the same object:"
   ]
  },
  {
   "cell_type": "code",
   "execution_count": 167,
   "metadata": {},
   "outputs": [
    {
     "data": {
      "text/plain": [
       "True"
      ]
     },
     "execution_count": 167,
     "metadata": {},
     "output_type": "execute_result"
    }
   ],
   "source": [
    "a = [1, 2, 3]\n",
    "b = a\n",
    "a is b"
   ]
  },
  {
   "cell_type": "markdown",
   "metadata": {},
   "source": [
    "In this case, it is the second of the two state diagrams that describes the relationship between the variables."
   ]
  },
  {
   "cell_type": "markdown",
   "metadata": {},
   "source": [
    "Because the same list has two different names, a and b, we say that it is **aliased**. Since lists are mutable, changes made with one alias affect the other:"
   ]
  },
  {
   "cell_type": "code",
   "execution_count": 168,
   "metadata": {},
   "outputs": [
    {
     "data": {
      "text/plain": [
       "[5, 2, 3]"
      ]
     },
     "execution_count": 168,
     "metadata": {},
     "output_type": "execute_result"
    }
   ],
   "source": [
    "b[0] = 5\n",
    "a"
   ]
  },
  {
   "cell_type": "markdown",
   "metadata": {},
   "source": [
    "Although this behavior can be useful, it is sometimes unexpected or undesirable. In general, it is safer to avoid aliasing when you are working with mutable objects. Of course, for immutable objects, there’s no problem, since they can’t be changed after they are created."
   ]
  },
  {
   "cell_type": "markdown",
   "metadata": {},
   "source": [
    "#### 1.6.4.7.3. Cloning lists"
   ]
  },
  {
   "cell_type": "markdown",
   "metadata": {},
   "source": [
    "If we want to modify a list and also keep a copy of the original, we need to be able to make a copy of the list itself, not just the reference. This process is sometimes called **cloning**, to avoid the ambiguity of the word copy.\n",
    "\n",
    "The easiest way to clone a list is to use the slice operator:"
   ]
  },
  {
   "cell_type": "code",
   "execution_count": 169,
   "metadata": {},
   "outputs": [
    {
     "data": {
      "text/plain": [
       "[1, 2, 3]"
      ]
     },
     "execution_count": 169,
     "metadata": {},
     "output_type": "execute_result"
    }
   ],
   "source": [
    "a = [1, 2, 3]\n",
    "b = a[:]\n",
    "b"
   ]
  },
  {
   "cell_type": "markdown",
   "metadata": {},
   "source": [
    "Taking any slice of a creates a new list. In this case the slice happens to consist of the whole list.\n",
    "\n",
    "Now we are free to make changes to b without worrying about a:"
   ]
  },
  {
   "cell_type": "code",
   "execution_count": 170,
   "metadata": {},
   "outputs": [
    {
     "data": {
      "text/plain": [
       "[1, 2, 3]"
      ]
     },
     "execution_count": 170,
     "metadata": {},
     "output_type": "execute_result"
    }
   ],
   "source": [
    "b[0] = 5\n",
    "a"
   ]
  },
  {
   "cell_type": "markdown",
   "metadata": {},
   "source": [
    "### 1.6.4.8. a.index() and a.count()"
   ]
  },
  {
   "cell_type": "code",
   "execution_count": 174,
   "metadata": {},
   "outputs": [
    {
     "name": "stdout",
     "output_type": "stream",
     "text": [
      "1\n",
      "2\n"
     ]
    }
   ],
   "source": [
    "my_list = [3, 8, 1, 6, 0, 8, 4]\n",
    "\n",
    "# Output_1: 1\n",
    "print(my_list.index(8))\n",
    "\n",
    "# Output_2: 2\n",
    "print(my_list.count(8))"
   ]
  },
  {
   "cell_type": "markdown",
   "metadata": {},
   "source": [
    "### 1.6.4.9. a.sort(), a.reverse(), sorted() and sorted(reverse=True)"
   ]
  },
  {
   "cell_type": "code",
   "execution_count": 176,
   "metadata": {},
   "outputs": [
    {
     "name": "stdout",
     "output_type": "stream",
     "text": [
      "[0, 1, 3, 4, 6, 8, 8]\n",
      "[8, 8, 6, 4, 3, 1, 0]\n"
     ]
    }
   ],
   "source": [
    "my_list = [3, 8, 1, 6, 0, 8, 4]\n",
    "\n",
    "my_list.sort()\n",
    "\n",
    "# Output_1: [0, 1, 3, 4, 6, 8, 8]\n",
    "print(my_list)\n",
    "\n",
    "my_list.reverse()\n",
    "\n",
    "# Output_2: [8, 8, 6, 4, 3, 1, 0]\n",
    "print(my_list)"
   ]
  },
  {
   "cell_type": "code",
   "execution_count": 180,
   "metadata": {},
   "outputs": [
    {
     "name": "stdout",
     "output_type": "stream",
     "text": [
      "['that', 'thing', 'this']\n",
      "['this', 'thing', 'that']\n"
     ]
    }
   ],
   "source": [
    "mylist= ['this', 'thing', 'that']\n",
    "mylist.sort()\n",
    "print(mylist)\n",
    "mylist.reverse()\n",
    "print(mylist)"
   ]
  },
  {
   "cell_type": "code",
   "execution_count": 181,
   "metadata": {},
   "outputs": [
    {
     "name": "stdout",
     "output_type": "stream",
     "text": [
      "[1, 2, 3, 4, 5, 7]\n"
     ]
    }
   ],
   "source": [
    "l = [3, 2, 5 ,4, 7, 1]\n",
    "print(sorted(l))"
   ]
  },
  {
   "cell_type": "code",
   "execution_count": 182,
   "metadata": {},
   "outputs": [
    {
     "name": "stdout",
     "output_type": "stream",
     "text": [
      "['Ali', 'Mehmet', 'Veli']\n"
     ]
    }
   ],
   "source": [
    "t = ['Mehmet', 'Veli', 'Ali']\n",
    "print(sorted(t))"
   ]
  },
  {
   "cell_type": "code",
   "execution_count": 184,
   "metadata": {},
   "outputs": [
    {
     "name": "stdout",
     "output_type": "stream",
     "text": [
      "[7, 5, 4, 3, 2, 1]\n",
      "['Veli', 'Mehmet', 'Ali']\n"
     ]
    }
   ],
   "source": [
    "print(sorted(l, reverse = True))\n",
    "print(sorted(t, reverse = True))"
   ]
  },
  {
   "cell_type": "markdown",
   "metadata": {},
   "source": [
    "# 1.7. Lists Are Dynamic"
   ]
  },
  {
   "cell_type": "markdown",
   "metadata": {},
   "source": [
    "The last one is that lists are dynamic. You have seen many examples of this in the sections above. When items are added to a list, it grows as needed:"
   ]
  },
  {
   "cell_type": "code",
   "execution_count": 185,
   "metadata": {},
   "outputs": [
    {
     "name": "stdout",
     "output_type": "stream",
     "text": [
      "['ali', 'ahmet', 1, 2, 3, 'beril', 'ayşe', 'cansu', 'can', 3.14159]\n"
     ]
    }
   ],
   "source": [
    "a = ['ali', 'ahmet', 'beril', 'ayşe', 'cansu', 'can']\n",
    "a[2:2] = [1, 2, 3]\n",
    "a += [3.14159]\n",
    "print(a)"
   ]
  },
  {
   "cell_type": "markdown",
   "metadata": {},
   "source": [
    "Similarly, a list shrinks to accommodate the removal of items:"
   ]
  },
  {
   "cell_type": "code",
   "execution_count": 186,
   "metadata": {},
   "outputs": [
    {
     "name": "stdout",
     "output_type": "stream",
     "text": [
      "['ahmet', 'ayşe', 'cansu', 'can']\n"
     ]
    }
   ],
   "source": [
    "a = ['ali', 'ahmet', 'beril', 'ayşe', 'cansu', 'can']\n",
    "a[2:3] = []\n",
    "del a[0]\n",
    "print(a)"
   ]
  },
  {
   "cell_type": "code",
   "execution_count": 251,
   "metadata": {},
   "outputs": [
    {
     "name": "stdout",
     "output_type": "stream",
     "text": [
      "after append [10, 30, 50, 20, 40, 100]\n",
      "after insert [10, 30, 30, 50, 20, 40, 100]\n",
      "count of 30 2\n",
      "after extend [10, 30, 30, 50, 20, 40, 100, 11, 22, 33]\n"
     ]
    }
   ],
   "source": [
    "L1=[10,30,50,20,40]\n",
    "L1.append(100) #appends new item\n",
    "print (\"after append\",L1)\n",
    "L1.insert(2,30) #inserts new value at index\n",
    "print ('after insert',L1)\n",
    "c=L1.count(30)\n",
    "print ('count of 30',c)\n",
    "L1.extend([11,22,33])\n",
    "print ('after extend', L1)   "
   ]
  },
  {
   "cell_type": "code",
   "execution_count": 252,
   "metadata": {},
   "outputs": [
    {
     "name": "stdout",
     "output_type": "stream",
     "text": [
      "item popped: 33\n",
      "list after popping [10, 30, 30, 50, 20, 40, 100, 11, 22]\n",
      "after removing value : [10, 30, 30, 50, 20, 40, 11, 22]\n",
      "all cleared: []\n"
     ]
    }
   ],
   "source": [
    "p=L1.pop()\n",
    "print ('item popped:', p)\n",
    "print ('list after popping', L1)\n",
    "L1.remove(100)\n",
    "print ('after removing value :',L1)\n",
    "L1.clear()\n",
    "print ('all cleared:', L1)"
   ]
  },
  {
   "cell_type": "code",
   "execution_count": 253,
   "metadata": {},
   "outputs": [
    {
     "name": "stdout",
     "output_type": "stream",
     "text": [
      "original list : [10, 30, 30, 50, 20, 40, 11, 22]\n",
      "after reversing: [22, 11, 40, 20, 50, 30, 30, 10]\n",
      "sorted list:  [10, 11, 20, 22, 30, 30, 40, 50]\n"
     ]
    }
   ],
   "source": [
    "L1=[10, 30, 30, 50, 20, 40, 11, 22]\n",
    "print ('original list :', L1)\n",
    "L1.reverse()\n",
    "print ('after reversing:',L1)\n",
    "L1.sort()\n",
    "print (\"sorted list: \", L1)"
   ]
  },
  {
   "cell_type": "markdown",
   "metadata": {},
   "source": [
    "## 1.7.1. Strings and lists"
   ]
  },
  {
   "cell_type": "markdown",
   "metadata": {},
   "source": [
    "The **list** command takes a sequence type as an argument and creates a list out of its elements. When applied to a string, you get a list of characters."
   ]
  },
  {
   "cell_type": "code",
   "execution_count": 187,
   "metadata": {},
   "outputs": [
    {
     "name": "stdout",
     "output_type": "stream",
     "text": [
      "['C', 'r', 'u', 'n', 'c', 'h', 'y', ' ', 'F', 'r', 'o', 'g']\n"
     ]
    }
   ],
   "source": [
    "print(list(\"Crunchy Frog\"))"
   ]
  },
  {
   "cell_type": "markdown",
   "metadata": {},
   "source": [
    "The **split** method invoked on a string and separates the string into a list of strings, breaking it apart whenever a substring called the delimiter occurs. The default delimiter is whitespace, which includes spaces, tabs, and newlines."
   ]
  },
  {
   "cell_type": "code",
   "execution_count": 188,
   "metadata": {},
   "outputs": [
    {
     "name": "stdout",
     "output_type": "stream",
     "text": [
      "['Crunchy', 'frog', 'covered', 'in', 'dark,', 'bittersweet', 'chocolate']\n"
     ]
    }
   ],
   "source": [
    "print(\"Crunchy frog covered in dark, bittersweet chocolate\".split())"
   ]
  },
  {
   "cell_type": "markdown",
   "metadata": {},
   "source": [
    "Here we have 'o' as the delimiter."
   ]
  },
  {
   "cell_type": "code",
   "execution_count": 189,
   "metadata": {},
   "outputs": [
    {
     "name": "stdout",
     "output_type": "stream",
     "text": [
      "['Crunchy fr', 'g c', 'vered in dark, bittersweet ch', 'c', 'late']\n"
     ]
    }
   ],
   "source": [
    "print(\"Crunchy frog covered in dark, bittersweet chocolate\".split('o'))"
   ]
  },
  {
   "cell_type": "markdown",
   "metadata": {},
   "source": [
    "Notice that the delimiter doesn’t appear in the list.\n",
    "\n",
    "The **join** method does approximately the oposite of the split method. It takes a list of strings as an argument and returns a string of all the list elements *joined* together."
   ]
  },
  {
   "cell_type": "code",
   "execution_count": 190,
   "metadata": {},
   "outputs": [
    {
     "name": "stdout",
     "output_type": "stream",
     "text": [
      "crunchy raw unboned real dead frog\n"
     ]
    }
   ],
   "source": [
    "print(' '. join(['crunchy', 'raw', 'unboned', 'real', 'dead', 'frog']))"
   ]
  },
  {
   "cell_type": "markdown",
   "metadata": {},
   "source": [
    "The string value on which the **join** method is invoked acts as a separator that gets placed between each element in the list in the returned string."
   ]
  },
  {
   "cell_type": "code",
   "execution_count": 191,
   "metadata": {},
   "outputs": [
    {
     "name": "stdout",
     "output_type": "stream",
     "text": [
      "crunchy**raw**unboned**real**dead**frog\n"
     ]
    }
   ],
   "source": [
    "print('**'.join(['crunchy', 'raw', 'unboned', 'real', 'dead', 'frog']))"
   ]
  },
  {
   "cell_type": "markdown",
   "metadata": {},
   "source": [
    "The separator can also be the empty string."
   ]
  },
  {
   "cell_type": "code",
   "execution_count": 192,
   "metadata": {},
   "outputs": [
    {
     "name": "stdout",
     "output_type": "stream",
     "text": [
      "crunchyrawunbonedrealdeadfrog\n"
     ]
    }
   ],
   "source": [
    "print(''.join(['crunchy', 'raw', 'unboned', 'real', 'dead', 'frog']))"
   ]
  },
  {
   "cell_type": "code",
   "execution_count": 254,
   "metadata": {},
   "outputs": [
    {
     "data": {
      "text/plain": [
       "\"['H', 'e', 'l', 'l', 'o']\""
      ]
     },
     "execution_count": 254,
     "metadata": {},
     "output_type": "execute_result"
    }
   ],
   "source": [
    "L2=['H', 'e', 'l', 'l', 'o']\n",
    "s1=str(L2)\n",
    "s1"
   ]
  },
  {
   "cell_type": "code",
   "execution_count": 255,
   "metadata": {},
   "outputs": [
    {
     "name": "stdout",
     "output_type": "stream",
     "text": [
      "string from list items: Hello\n"
     ]
    }
   ],
   "source": [
    "s2=\"\".join(L2)\n",
    "print ('string from list items:', s2)"
   ]
  },
  {
   "cell_type": "markdown",
   "metadata": {},
   "source": [
    "# 2. Python Tuple"
   ]
  },
  {
   "cell_type": "markdown",
   "metadata": {},
   "source": [
    "* A *tuple* in Python is similar to a list. The difference between the two is that we cannot change the elements of a *tuple* once it is assigned whereas, in a list, elements can be changed."
   ]
  },
  {
   "cell_type": "markdown",
   "metadata": {},
   "source": [
    "* *Tuples* are identical to lists in all respects, except for the following properties:\n",
    "\n",
    "    1. Tuples are defined by enclosing the elements in parentheses (()) instead of square brackets ([]).\n",
    "    2. Tuples are **immutable**."
   ]
  },
  {
   "cell_type": "markdown",
   "metadata": {},
   "source": [
    "* A *tuple* can have any number of items and they may be of different types (integer, float, list, string, etc.)."
   ]
  },
  {
   "cell_type": "code",
   "execution_count": 193,
   "metadata": {},
   "outputs": [
    {
     "name": "stdout",
     "output_type": "stream",
     "text": [
      "()\n",
      "(1, 2, 3)\n",
      "(1, 'Hello', 3.4)\n",
      "('mouse', [8, 4, 6], (1, 2, 3))\n"
     ]
    }
   ],
   "source": [
    "# Empty tuple\n",
    "my_tuple = ()\n",
    "print(my_tuple)  # Output_1: ()\n",
    "\n",
    "# Tuple having integers\n",
    "my_tuple = (1, 2, 3)\n",
    "print(my_tuple)  # Output_2: (1, 2, 3) \n",
    "\n",
    "# tuple with mixed datatypes\n",
    "my_tuple = (1, \"Hello\", 3.4)\n",
    "print(my_tuple)  # Output_3: (1, \"Hello\", 3.4)  \n",
    "\n",
    "# nested tuple\n",
    "my_tuple = (\"mouse\", [8, 4, 6], (1, 2, 3))\n",
    "\n",
    "# Output_4: (\"mouse\", [8, 4, 6], (1, 2, 3)) \n",
    "print(my_tuple)"
   ]
  },
  {
   "cell_type": "markdown",
   "metadata": {},
   "source": [
    "* A tuple can also be created without using parentheses. This is known as tuple packing."
   ]
  },
  {
   "cell_type": "code",
   "execution_count": 194,
   "metadata": {},
   "outputs": [
    {
     "name": "stdout",
     "output_type": "stream",
     "text": [
      "(3, 4.6, 'dog')\n",
      "3\n",
      "4.6\n",
      "dog\n"
     ]
    }
   ],
   "source": [
    "my_tuple = 3, 4.6, \"dog\"\n",
    "print(my_tuple)   # Output: 3, 4.6, \"dog\" \n",
    "\n",
    "# tuple unpacking is also possible\n",
    "a, b, c = my_tuple\n",
    "\n",
    "print(a)      # 3\n",
    "print(b)      # 4.6 \n",
    "print(c)      # dog "
   ]
  },
  {
   "cell_type": "code",
   "execution_count": 195,
   "metadata": {},
   "outputs": [
    {
     "name": "stdout",
     "output_type": "stream",
     "text": [
      "('ali', 'ahmet', 'beril', 'ayşe', 'cansu', 'can')\n"
     ]
    },
    {
     "ename": "TypeError",
     "evalue": "'tuple' object does not support item assignment",
     "output_type": "error",
     "traceback": [
      "\u001b[1;31m---------------------------------------------------------------------------\u001b[0m",
      "\u001b[1;31mTypeError\u001b[0m                                 Traceback (most recent call last)",
      "\u001b[1;32m<ipython-input-195-96e1eb81908e>\u001b[0m in \u001b[0;36m<module>\u001b[1;34m\u001b[0m\n\u001b[0;32m      1\u001b[0m \u001b[0mt\u001b[0m \u001b[1;33m=\u001b[0m \u001b[1;33m(\u001b[0m\u001b[1;34m'ali'\u001b[0m\u001b[1;33m,\u001b[0m \u001b[1;34m'ahmet'\u001b[0m\u001b[1;33m,\u001b[0m \u001b[1;34m'beril'\u001b[0m\u001b[1;33m,\u001b[0m \u001b[1;34m'ayşe'\u001b[0m\u001b[1;33m,\u001b[0m \u001b[1;34m'cansu'\u001b[0m\u001b[1;33m,\u001b[0m \u001b[1;34m'can'\u001b[0m\u001b[1;33m)\u001b[0m\u001b[1;33m\u001b[0m\u001b[1;33m\u001b[0m\u001b[0m\n\u001b[0;32m      2\u001b[0m \u001b[0mprint\u001b[0m\u001b[1;33m(\u001b[0m\u001b[0mt\u001b[0m\u001b[1;33m)\u001b[0m\u001b[1;33m\u001b[0m\u001b[1;33m\u001b[0m\u001b[0m\n\u001b[1;32m----> 3\u001b[1;33m \u001b[0mt\u001b[0m\u001b[1;33m[\u001b[0m\u001b[1;36m2\u001b[0m\u001b[1;33m]\u001b[0m \u001b[1;33m=\u001b[0m \u001b[1;34m'murat'\u001b[0m\u001b[1;33m\u001b[0m\u001b[1;33m\u001b[0m\u001b[0m\n\u001b[0m",
      "\u001b[1;31mTypeError\u001b[0m: 'tuple' object does not support item assignment"
     ]
    }
   ],
   "source": [
    "t = ('ali', 'ahmet', 'beril', 'ayşe', 'cansu', 'can')\n",
    "print(t)\n",
    "t[2] = 'murat'"
   ]
  },
  {
   "cell_type": "markdown",
   "metadata": {},
   "source": [
    "Python displays the response in parentheses because it is implicitly interpreting the input as a *tuple*."
   ]
  },
  {
   "cell_type": "code",
   "execution_count": 291,
   "metadata": {},
   "outputs": [
    {
     "data": {
      "text/plain": [
       "('Python', 3.14159, 42)"
      ]
     },
     "execution_count": 291,
     "metadata": {},
     "output_type": "execute_result"
    }
   ],
   "source": [
    "a = 'Python'\n",
    "b = 42\n",
    "a, 3.14159, b"
   ]
  },
  {
   "cell_type": "code",
   "execution_count": 293,
   "metadata": {},
   "outputs": [
    {
     "name": "stdout",
     "output_type": "stream",
     "text": [
      "(4, (3+4j), 'alfa', 42)\n"
     ]
    }
   ],
   "source": [
    "z = (3 + 4j)\n",
    "c = (4, z, \"alfa\", b)\n",
    "print(c)"
   ]
  },
  {
   "cell_type": "markdown",
   "metadata": {},
   "source": [
    "There is one peculiarity regarding tuple definition that you should be aware of. There is no ambiguity when defining an empty tuple, nor one with two or more elements. Python knows you are defining a *tuple*:"
   ]
  },
  {
   "cell_type": "code",
   "execution_count": 197,
   "metadata": {},
   "outputs": [
    {
     "name": "stdout",
     "output_type": "stream",
     "text": [
      "<class 'tuple'>\n",
      "<class 'tuple'>\n",
      "<class 'tuple'>\n"
     ]
    }
   ],
   "source": [
    "t = ()\n",
    "print(type(t))\n",
    "t = (1, 2)\n",
    "print(type(t))\n",
    "t = (1, 2, 3, 4, 5)\n",
    "print(type(t))"
   ]
  },
  {
   "cell_type": "markdown",
   "metadata": {},
   "source": [
    "But what happens when you try to define a *tuple* with one item:"
   ]
  },
  {
   "cell_type": "code",
   "execution_count": 200,
   "metadata": {},
   "outputs": [
    {
     "name": "stdout",
     "output_type": "stream",
     "text": [
      "<class 'int'>\n",
      "<class 'tuple'>\n",
      "2\n",
      "2\n",
      "(2,)\n"
     ]
    }
   ],
   "source": [
    "t = (2)\n",
    "print(type(t))\n",
    "t = (2,)\n",
    "print(type(t))\n",
    "print(t[0])\n",
    "print(t[-1])\n",
    "print(t)"
   ]
  },
  {
   "cell_type": "code",
   "execution_count": 201,
   "metadata": {},
   "outputs": [
    {
     "name": "stdout",
     "output_type": "stream",
     "text": [
      "<class 'str'>\n",
      "<class 'tuple'>\n",
      "<class 'tuple'>\n"
     ]
    }
   ],
   "source": [
    "my_tuple = (\"hello\")\n",
    "print(type(my_tuple))  # <class 'str'>\n",
    "\n",
    "# Creating a tuple having one element\n",
    "my_tuple = (\"hello\",)  \n",
    "print(type(my_tuple))  # <class 'tuple'> \n",
    "\n",
    "# Parentheses is optional\n",
    "my_tuple = \"hello\",\n",
    "print(type(my_tuple))  # <class 'tuple'> "
   ]
  },
  {
   "cell_type": "markdown",
   "metadata": {},
   "source": [
    "## 2.1. Access Tuple Elements"
   ]
  },
  {
   "cell_type": "markdown",
   "metadata": {},
   "source": [
    "There are various ways in which we can access the elements of a *tuple*."
   ]
  },
  {
   "cell_type": "markdown",
   "metadata": {},
   "source": [
    "### 2.1.1. Indexing"
   ]
  },
  {
   "cell_type": "markdown",
   "metadata": {},
   "source": [
    "We can use the index operator [] to access an item in a tuple where the index starts from 0.\n",
    "\n",
    "So, a tuple having 6 elements will have indices from 0 to 5. Trying to access an element outside of tuple (for example, 6, 7,...) will raise an IndexError.\n",
    "\n",
    "The index must be an integer; so we cannot use float or other types. This will result in **TypeError**.\n",
    "\n",
    "Likewise, nested tuples are accessed using nested indexing, as shown in the example below."
   ]
  },
  {
   "cell_type": "code",
   "execution_count": 202,
   "metadata": {},
   "outputs": [
    {
     "name": "stdout",
     "output_type": "stream",
     "text": [
      "p\n",
      "t\n",
      "s\n",
      "4\n"
     ]
    }
   ],
   "source": [
    "my_tuple = ('p','e','r','m','i','t')\n",
    "\n",
    "print(my_tuple[0])   # 'p' \n",
    "print(my_tuple[5])   # 't'\n",
    "\n",
    "# IndexError: list index out of range\n",
    "# print(my_tuple[6])\n",
    "\n",
    "# Index must be an integer\n",
    "# TypeError: list indices must be integers, not float\n",
    "# my_tuple[2.0]\n",
    "\n",
    "# nested tuple\n",
    "nested_tuple = (\"mouse\", [8, 4, 6], (1, 2, 3))\n",
    "\n",
    "# nested index\n",
    "print(nested_tuple[0][3])       # 's'\n",
    "print(nested_tuple[1][1])       # 4"
   ]
  },
  {
   "cell_type": "code",
   "execution_count": 204,
   "metadata": {},
   "outputs": [
    {
     "name": "stdout",
     "output_type": "stream",
     "text": [
      "('ali', 'ahmet', 'beril', 'ayşe', 'cansu', 'can')\n",
      "ali\n",
      "can\n",
      "('ahmet', 'ayşe', 'can')\n",
      "('can', 'cansu', 'ayşe', 'beril', 'ahmet', 'ali')\n"
     ]
    }
   ],
   "source": [
    "t = ('ali', 'ahmet', 'beril', 'ayşe', 'cansu', 'can')\n",
    "print(t)\n",
    "print(t[0])\n",
    "print(t[-1])\n",
    "print(t[1::2])\n",
    "print(t[::-1])"
   ]
  },
  {
   "cell_type": "markdown",
   "metadata": {},
   "source": [
    "## 2.1.2. Negative Indexing"
   ]
  },
  {
   "cell_type": "markdown",
   "metadata": {},
   "source": [
    "Python allows negative indexing for its sequences.\n",
    "\n",
    "The index of -1 refers to the last item, -2 to the second last item and so on."
   ]
  },
  {
   "cell_type": "code",
   "execution_count": 205,
   "metadata": {},
   "outputs": [
    {
     "name": "stdout",
     "output_type": "stream",
     "text": [
      "n\n",
      "P\n"
     ]
    }
   ],
   "source": [
    "my_tuple = ('P','y','t','h','o','n')\n",
    "\n",
    "# Output_1: 'n'\n",
    "print(my_tuple[-1])\n",
    "\n",
    "# Output_2: 'P'\n",
    "print(my_tuple[-6])"
   ]
  },
  {
   "cell_type": "markdown",
   "metadata": {},
   "source": [
    "## 2.1.3. Slicing"
   ]
  },
  {
   "cell_type": "markdown",
   "metadata": {},
   "source": [
    "We can access a range of items in a tuple by using the slicing operator - colon \":\"."
   ]
  },
  {
   "cell_type": "code",
   "execution_count": 208,
   "metadata": {},
   "outputs": [
    {
     "name": "stdout",
     "output_type": "stream",
     "text": [
      "('C', 'M', '1', '1', '4')\n",
      "('A', 'C', 'M')\n",
      "('y', 't', 'h', 'o', 'n')\n",
      "('A', 'C', 'M', '1', '1', '4', 'P', 'y', 't', 'h', 'o', 'n')\n"
     ]
    }
   ],
   "source": [
    "my_tuple = ('A','C','M','1','1','4','P','y','t', 'h', 'o', 'n')\n",
    "\n",
    "# elements 2nd to 6th\n",
    "# Output_1: ('C', 'M, '1', '1', '4')\n",
    "print(my_tuple[1:6])\n",
    "\n",
    "# elements beginning to 3rd\n",
    "# Output_2: ('A', 'C', 'M')\n",
    "print(my_tuple[:-9])\n",
    "\n",
    "# elements 8th to end\n",
    "# Output_3: ('y', 't', 'h', 'o', 'n')\n",
    "print(my_tuple[7:])\n",
    "\n",
    "# elements beginning to end\n",
    "# Output_4: ('A','C','M','1','1','4','P','y','t', 'h', 'o', 'n')\n",
    "print(my_tuple[:])"
   ]
  },
  {
   "cell_type": "markdown",
   "metadata": {},
   "source": [
    "## 2.2.  Changing a Tuple"
   ]
  },
  {
   "cell_type": "markdown",
   "metadata": {},
   "source": [
    "Unlike lists, tuples are immutable.\n",
    "\n",
    "This means that elements of a tuple cannot be changed once it has been assigned. But, if the element is itself a mutable datatype like list, its nested items can be changed.\n",
    "\n",
    "We can also assign a tuple to different values (reassignment)."
   ]
  },
  {
   "cell_type": "code",
   "execution_count": 209,
   "metadata": {},
   "outputs": [
    {
     "name": "stdout",
     "output_type": "stream",
     "text": [
      "(4, 2, 3, [9, 5])\n",
      "('A', 'C', 'M', '1', '1', '4', 'P', 'y', 't', 'h', 'o', 'n')\n"
     ]
    }
   ],
   "source": [
    "my_tuple = (4, 2, 3, [6, 5])\n",
    "\n",
    "\n",
    "# TypeError: 'tuple' object does not support item assignment\n",
    "# my_tuple[1] = 9\n",
    "\n",
    "# However, item of mutable element can be changed\n",
    "my_tuple[3][0] = 9    # Output_1: (4, 2, 3, [9, 5])\n",
    "print(my_tuple)\n",
    "\n",
    "# Tuples can be reassigned\n",
    "my_tuple = ('A','C','M','1','1','4','P','y','t', 'h', 'o', 'n')\n",
    "\n",
    "# Output_2: ('A','C','M','1','1','4','P','y','t', 'h', 'o', 'n')\n",
    "print(my_tuple)"
   ]
  },
  {
   "cell_type": "markdown",
   "metadata": {},
   "source": [
    "We can use + operator to combine two tuples. This is also called *concatenation*.\n",
    "\n",
    "We can also repeat the elements in a *tuple* for a given number of times using the * operator.\n",
    "\n",
    "Both + and * operations result in a *new tuple*.\n",
    "\n"
   ]
  },
  {
   "cell_type": "code",
   "execution_count": 213,
   "metadata": {},
   "outputs": [
    {
     "name": "stdout",
     "output_type": "stream",
     "text": [
      "(1, 2, 3, 4, 5, 6, 7, 8)\n",
      "('Python', 'Python', 'Python', 'Python', 'Python')\n"
     ]
    }
   ],
   "source": [
    "# Concatenation\n",
    "# Output_1: (1, 2, 3, 4, 5, 6, 7, 8)\n",
    "print((1, 2, 3, 4) + (5, 6, 7, 8))\n",
    "\n",
    "# Python\n",
    "# Output_2: ('Python', 'Python', 'Python', 'Python', 'Python')\n",
    "print((\"Python\",) * 3 + ('Python',) * 2)"
   ]
  },
  {
   "cell_type": "markdown",
   "metadata": {},
   "source": [
    "## 2.3. Deleting a Tuple"
   ]
  },
  {
   "cell_type": "markdown",
   "metadata": {},
   "source": [
    "As discussed above, we cannot change the elements in a tuple. That also means we cannot delete or remove items from a tuple.\n",
    "\n",
    "But deleting a tuple entirely is possible using the keyword **del**."
   ]
  },
  {
   "cell_type": "code",
   "execution_count": 214,
   "metadata": {},
   "outputs": [
    {
     "ename": "NameError",
     "evalue": "name 'my_tuple' is not defined",
     "output_type": "error",
     "traceback": [
      "\u001b[1;31m---------------------------------------------------------------------------\u001b[0m",
      "\u001b[1;31mNameError\u001b[0m                                 Traceback (most recent call last)",
      "\u001b[1;32m<ipython-input-214-ed226e1761ef>\u001b[0m in \u001b[0;36m<module>\u001b[1;34m\u001b[0m\n\u001b[0;32m      9\u001b[0m \u001b[1;33m\u001b[0m\u001b[0m\n\u001b[0;32m     10\u001b[0m \u001b[1;31m# NameError: name 'my_tuple' is not defined\u001b[0m\u001b[1;33m\u001b[0m\u001b[1;33m\u001b[0m\u001b[1;33m\u001b[0m\u001b[0m\n\u001b[1;32m---> 11\u001b[1;33m \u001b[0mprint\u001b[0m\u001b[1;33m(\u001b[0m\u001b[0mmy_tuple\u001b[0m\u001b[1;33m)\u001b[0m\u001b[1;33m\u001b[0m\u001b[1;33m\u001b[0m\u001b[0m\n\u001b[0m",
      "\u001b[1;31mNameError\u001b[0m: name 'my_tuple' is not defined"
     ]
    }
   ],
   "source": [
    "my_tuple = ('A','C','M','1','1','4','P','y','t', 'h', 'o', 'n')\n",
    "\n",
    "# can't delete items\n",
    "# TypeError: 'tuple' object doesn't support item deletion\n",
    "# del my_tuple[3]\n",
    "\n",
    "# Can delete an entire tuple\n",
    "del my_tuple\n",
    "\n",
    "# NameError: name 'my_tuple' is not defined\n",
    "print(my_tuple)"
   ]
  },
  {
   "cell_type": "markdown",
   "metadata": {},
   "source": [
    "## 2.4. Tuple Methods"
   ]
  },
  {
   "cell_type": "code",
   "execution_count": 222,
   "metadata": {},
   "outputs": [
    {
     "name": "stdout",
     "output_type": "stream",
     "text": [
      "1\n",
      "2\n",
      "3\n",
      "4\n"
     ]
    }
   ],
   "source": [
    "my_tuple_1 = ('P','y','t','h','o', 'n')\n",
    "my_tuple_2 = (1, 2, 2, 4, 5, 4, 2, 6, 5, 7)\n",
    "\n",
    "print(my_tuple_1.count('P'))   # Output_1: 1\n",
    "print(my_tuple_2.count(4))     # Output_2: 2\n",
    "print(my_tuple_1.index('h'))   # Output_3: 3\n",
    "print(my_tuple_2.index(5))     # Output_3: 4"
   ]
  },
  {
   "cell_type": "code",
   "execution_count": 249,
   "metadata": {},
   "outputs": [
    {
     "name": "stdout",
     "output_type": "stream",
     "text": [
      "5\n",
      "5\n",
      "max of L1 50\n",
      "max of T1 50\n",
      "min of L1 10\n",
      "min of T1 10\n",
      "sum of L1 150\n",
      "sum of T1 150\n",
      "L1 in sorted order [10, 20, 30, 40, 50]\n",
      "T1 in sorted order [10, 20, 30, 40, 50]\n"
     ]
    }
   ],
   "source": [
    "L1=[10,30,50,20,40]\n",
    "T1=(10,50,30,40,20)\n",
    "print (len(L1))\n",
    "print (len(T1))\n",
    "print ('max of L1', max(L1))\n",
    "print ('max of T1', max(T1))\n",
    "print ('min of L1', min(L1))\n",
    "print ('min of T1', min(T1))\n",
    "print ('sum of L1', sum(L1))\n",
    "print ('sum of T1', sum(T1))\n",
    "print ('L1 in sorted order', sorted(L1))\n",
    "print ('T1 in sorted order', sorted(T1))"
   ]
  },
  {
   "cell_type": "code",
   "execution_count": 250,
   "metadata": {},
   "outputs": [
    {
     "name": "stdout",
     "output_type": "stream",
     "text": [
      "max of L2 table\n",
      "max of T2 table\n",
      "min of L2 book\n",
      "min of T2 book\n"
     ]
    }
   ],
   "source": [
    "L2=['pen', 'book','computer', 'table', 'file']\n",
    "T2=('pen', 'book','computer', 'table', 'file')\n",
    "print ('max of L2', max(L2))\n",
    "print ('max of T2', max(T2))\n",
    "print ('min of L2', min(L2))\n",
    "print ('min of T2', min(T2))"
   ]
  },
  {
   "cell_type": "markdown",
   "metadata": {},
   "source": [
    "## 2.5. Tuple Membership Test"
   ]
  },
  {
   "cell_type": "markdown",
   "metadata": {},
   "source": [
    "We can test if an item exists in a tuple or not, using the keyword in."
   ]
  },
  {
   "cell_type": "code",
   "execution_count": 223,
   "metadata": {},
   "outputs": [
    {
     "name": "stdout",
     "output_type": "stream",
     "text": [
      "True\n",
      "False\n",
      "True\n"
     ]
    }
   ],
   "source": [
    "my_tuple = ('P','y','t','h','o', 'n')\n",
    "\n",
    "# In operation\n",
    "# Output_1: True\n",
    "print('y' in my_tuple)\n",
    "\n",
    "# Output_2: False\n",
    "print('m' in my_tuple)\n",
    "\n",
    "# Not in operation\n",
    "# Output_3: True\n",
    "print('L' not in my_tuple)"
   ]
  },
  {
   "cell_type": "markdown",
   "metadata": {},
   "source": [
    "## 2.7. Tuple Assignment, Packing, and Unpacking"
   ]
  },
  {
   "cell_type": "markdown",
   "metadata": {},
   "source": [
    "As you have already seen above, a literal tuple containing several items can be assigned to a single object:"
   ]
  },
  {
   "cell_type": "code",
   "execution_count": 225,
   "metadata": {},
   "outputs": [
    {
     "data": {
      "text/plain": [
       "('foo', 'bar', 'baz', 'qux')"
      ]
     },
     "execution_count": 225,
     "metadata": {},
     "output_type": "execute_result"
    }
   ],
   "source": [
    "t = ('foo', 'bar', 'baz', 'qux')\n",
    "t"
   ]
  },
  {
   "cell_type": "markdown",
   "metadata": {},
   "source": [
    "When this occurs, it is as though the items in the tuple have been “packed” into the object:"
   ]
  },
  {
   "cell_type": "markdown",
   "metadata": {},
   "source": [
    "<img src=\"https://files.realpython.com/media/t.feb20d10b75d.png\" alt=\"Packing\" title=\"Tuple Packing\" />"
   ]
  },
  {
   "cell_type": "code",
   "execution_count": 226,
   "metadata": {},
   "outputs": [
    {
     "name": "stdout",
     "output_type": "stream",
     "text": [
      "('foo', 'bar', 'baz', 'qux')\n",
      "foo\n",
      "qux\n"
     ]
    }
   ],
   "source": [
    "print(t)\n",
    "print(t[0])\n",
    "print(t[-1])"
   ]
  },
  {
   "cell_type": "markdown",
   "metadata": {},
   "source": [
    "If that “packed” object is subsequently assigned to a *new tuple*, the individual items are “unpacked” into the objects in the *tuple*:"
   ]
  },
  {
   "cell_type": "markdown",
   "metadata": {},
   "source": [
    "<img src=\"https://files.realpython.com/media/t.629d7402a412.png\" alt=\"Unpacking\" title=\"Tuple Unpacking\" />"
   ]
  },
  {
   "cell_type": "code",
   "execution_count": 227,
   "metadata": {},
   "outputs": [
    {
     "name": "stdout",
     "output_type": "stream",
     "text": [
      "foo\n",
      "bar\n",
      "baz\n",
      "qux\n"
     ]
    }
   ],
   "source": [
    "(s1, s2, s3, s4) = t\n",
    "print(s1)\n",
    "print(s2)\n",
    "print(s3)\n",
    "print(s4)"
   ]
  },
  {
   "cell_type": "markdown",
   "metadata": {},
   "source": [
    "When unpacking, the number of variables on the left must match the number of values in the tuple:"
   ]
  },
  {
   "cell_type": "code",
   "execution_count": 228,
   "metadata": {},
   "outputs": [
    {
     "ename": "ValueError",
     "evalue": "too many values to unpack (expected 3)",
     "output_type": "error",
     "traceback": [
      "\u001b[1;31m---------------------------------------------------------------------------\u001b[0m",
      "\u001b[1;31mValueError\u001b[0m                                Traceback (most recent call last)",
      "\u001b[1;32m<ipython-input-228-c45fae432ddf>\u001b[0m in \u001b[0;36m<module>\u001b[1;34m\u001b[0m\n\u001b[1;32m----> 1\u001b[1;33m \u001b[1;33m(\u001b[0m\u001b[0ms1\u001b[0m\u001b[1;33m,\u001b[0m \u001b[0ms2\u001b[0m\u001b[1;33m,\u001b[0m \u001b[0ms3\u001b[0m\u001b[1;33m)\u001b[0m \u001b[1;33m=\u001b[0m \u001b[0mt\u001b[0m\u001b[1;33m\u001b[0m\u001b[1;33m\u001b[0m\u001b[0m\n\u001b[0m",
      "\u001b[1;31mValueError\u001b[0m: too many values to unpack (expected 3)"
     ]
    }
   ],
   "source": [
    "(s1, s2, s3) = t"
   ]
  },
  {
   "cell_type": "code",
   "execution_count": 229,
   "metadata": {},
   "outputs": [
    {
     "ename": "ValueError",
     "evalue": "not enough values to unpack (expected 5, got 4)",
     "output_type": "error",
     "traceback": [
      "\u001b[1;31m---------------------------------------------------------------------------\u001b[0m",
      "\u001b[1;31mValueError\u001b[0m                                Traceback (most recent call last)",
      "\u001b[1;32m<ipython-input-229-f5e10d0652c9>\u001b[0m in \u001b[0;36m<module>\u001b[1;34m\u001b[0m\n\u001b[1;32m----> 1\u001b[1;33m \u001b[1;33m(\u001b[0m\u001b[0ms1\u001b[0m\u001b[1;33m,\u001b[0m \u001b[0ms2\u001b[0m\u001b[1;33m,\u001b[0m \u001b[0ms3\u001b[0m\u001b[1;33m,\u001b[0m \u001b[0ms4\u001b[0m\u001b[1;33m,\u001b[0m \u001b[0ms5\u001b[0m\u001b[1;33m)\u001b[0m \u001b[1;33m=\u001b[0m \u001b[0mt\u001b[0m\u001b[1;33m\u001b[0m\u001b[1;33m\u001b[0m\u001b[0m\n\u001b[0m",
      "\u001b[1;31mValueError\u001b[0m: not enough values to unpack (expected 5, got 4)"
     ]
    }
   ],
   "source": [
    "(s1, s2, s3, s4, s5) = t"
   ]
  },
  {
   "cell_type": "markdown",
   "metadata": {},
   "source": [
    "Packing and unpacking can be combined into one statement to make a compound assignment:"
   ]
  },
  {
   "cell_type": "code",
   "execution_count": 230,
   "metadata": {},
   "outputs": [
    {
     "name": "stdout",
     "output_type": "stream",
     "text": [
      "foo\n",
      "bar\n",
      "baz\n",
      "qux\n"
     ]
    }
   ],
   "source": [
    "(s1, s2, s3, s4) = ('foo', 'bar', 'baz', 'qux')\n",
    "print(s1)\n",
    "print(s2)\n",
    "print(s3)\n",
    "print(s4)"
   ]
  },
  {
   "cell_type": "markdown",
   "metadata": {},
   "source": [
    "Again, the number of elements in the tuple on the left of the assignment must equal the number on the right:"
   ]
  },
  {
   "cell_type": "code",
   "execution_count": 231,
   "metadata": {},
   "outputs": [
    {
     "ename": "ValueError",
     "evalue": "not enough values to unpack (expected 5, got 4)",
     "output_type": "error",
     "traceback": [
      "\u001b[1;31m---------------------------------------------------------------------------\u001b[0m",
      "\u001b[1;31mValueError\u001b[0m                                Traceback (most recent call last)",
      "\u001b[1;32m<ipython-input-231-30b06b4e1337>\u001b[0m in \u001b[0;36m<module>\u001b[1;34m\u001b[0m\n\u001b[1;32m----> 1\u001b[1;33m \u001b[1;33m(\u001b[0m\u001b[0ms1\u001b[0m\u001b[1;33m,\u001b[0m \u001b[0ms2\u001b[0m\u001b[1;33m,\u001b[0m \u001b[0ms3\u001b[0m\u001b[1;33m,\u001b[0m \u001b[0ms4\u001b[0m\u001b[1;33m,\u001b[0m \u001b[0ms5\u001b[0m\u001b[1;33m)\u001b[0m \u001b[1;33m=\u001b[0m \u001b[1;33m(\u001b[0m\u001b[1;34m'foo'\u001b[0m\u001b[1;33m,\u001b[0m \u001b[1;34m'bar'\u001b[0m\u001b[1;33m,\u001b[0m \u001b[1;34m'baz'\u001b[0m\u001b[1;33m,\u001b[0m \u001b[1;34m'qux'\u001b[0m\u001b[1;33m)\u001b[0m\u001b[1;33m\u001b[0m\u001b[1;33m\u001b[0m\u001b[0m\n\u001b[0m",
      "\u001b[1;31mValueError\u001b[0m: not enough values to unpack (expected 5, got 4)"
     ]
    }
   ],
   "source": [
    "(s1, s2, s3, s4, s5) = ('foo', 'bar', 'baz', 'qux')"
   ]
  },
  {
   "cell_type": "markdown",
   "metadata": {},
   "source": [
    "In assignments like this and a small handful of other situations, Python allows the parentheses that are usually used for denoting a tuple to be left out:"
   ]
  },
  {
   "cell_type": "code",
   "execution_count": 238,
   "metadata": {},
   "outputs": [
    {
     "name": "stdout",
     "output_type": "stream",
     "text": [
      "(1, 2, 3)\n"
     ]
    },
    {
     "data": {
      "text/plain": [
       "(1, 2, 3)"
      ]
     },
     "execution_count": 238,
     "metadata": {},
     "output_type": "execute_result"
    }
   ],
   "source": [
    "t = 1, 2, 3\n",
    "print(t)\n",
    "\n",
    "x1, x2, x3 = t\n",
    "x1, x2, x3"
   ]
  },
  {
   "cell_type": "code",
   "execution_count": 239,
   "metadata": {},
   "outputs": [
    {
     "data": {
      "text/plain": [
       "(4, 5, 6)"
      ]
     },
     "execution_count": 239,
     "metadata": {},
     "output_type": "execute_result"
    }
   ],
   "source": [
    "x1, x2, x3 = 4, 5, 6\n",
    "x1, x2, x3"
   ]
  },
  {
   "cell_type": "code",
   "execution_count": 240,
   "metadata": {},
   "outputs": [
    {
     "data": {
      "text/plain": [
       "(2,)"
      ]
     },
     "execution_count": 240,
     "metadata": {},
     "output_type": "execute_result"
    }
   ],
   "source": [
    "t = 2,\n",
    "t"
   ]
  },
  {
   "cell_type": "markdown",
   "metadata": {},
   "source": [
    "Tuple assignment allows for a curious bit of idiomatic Python. Frequently when programming, you have two variables whose values you need to swap. In most programming languages, it is necessary to store one of the values in a temporary variable while the swap occurs like this:"
   ]
  },
  {
   "cell_type": "code",
   "execution_count": 241,
   "metadata": {},
   "outputs": [
    {
     "data": {
      "text/plain": [
       "('ACM', '114')"
      ]
     },
     "execution_count": 241,
     "metadata": {},
     "output_type": "execute_result"
    }
   ],
   "source": [
    "a = 'ACM'\n",
    "b = '114'\n",
    "a, b"
   ]
  },
  {
   "cell_type": "code",
   "execution_count": 242,
   "metadata": {},
   "outputs": [
    {
     "data": {
      "text/plain": [
       "('114', 'ACM')"
      ]
     },
     "execution_count": 242,
     "metadata": {},
     "output_type": "execute_result"
    }
   ],
   "source": [
    "# We need to define a temp variable to accomplish the swap.\n",
    "temp = a\n",
    "a = b\n",
    "b = temp\n",
    "a,b"
   ]
  },
  {
   "cell_type": "markdown",
   "metadata": {},
   "source": [
    "In Python, the swap can be done with a single tuple assignment:"
   ]
  },
  {
   "cell_type": "code",
   "execution_count": 243,
   "metadata": {},
   "outputs": [
    {
     "data": {
      "text/plain": [
       "('ACM', '114')"
      ]
     },
     "execution_count": 243,
     "metadata": {},
     "output_type": "execute_result"
    }
   ],
   "source": [
    "a = 'ACM'\n",
    "b = '114'\n",
    "a, b"
   ]
  },
  {
   "cell_type": "code",
   "execution_count": 248,
   "metadata": {},
   "outputs": [
    {
     "data": {
      "text/plain": [
       "('114', 'ACM')"
      ]
     },
     "execution_count": 248,
     "metadata": {},
     "output_type": "execute_result"
    }
   ],
   "source": [
    "a = 'ACM'\n",
    "b = '114'\n",
    "a, b = b, a\n",
    "a, b"
   ]
  },
  {
   "cell_type": "code",
   "execution_count": 294,
   "metadata": {},
   "outputs": [
    {
     "name": "stdout",
     "output_type": "stream",
     "text": [
      "(3+4j)\n"
     ]
    },
    {
     "data": {
      "text/plain": [
       "(3.0, 4.0)"
      ]
     },
     "execution_count": 294,
     "metadata": {},
     "output_type": "execute_result"
    }
   ],
   "source": [
    "z = (3 + 4j)\n",
    "print(z)\n",
    "r, i = z.real, z.imag\n",
    "r, i"
   ]
  },
  {
   "cell_type": "code",
   "execution_count": 296,
   "metadata": {},
   "outputs": [
    {
     "data": {
      "text/plain": [
       "(3, 1)"
      ]
     },
     "execution_count": 296,
     "metadata": {},
     "output_type": "execute_result"
    }
   ],
   "source": [
    "d, m = divmod(22, 7)\n",
    "d, m"
   ]
  },
  {
   "cell_type": "markdown",
   "metadata": {},
   "source": [
    "# 3. Conversion functions (between lists, tuples and strings using list(), tuple() and str() constructors)"
   ]
  },
  {
   "cell_type": "code",
   "execution_count": 256,
   "metadata": {},
   "outputs": [
    {
     "name": "stdout",
     "output_type": "stream",
     "text": [
      "(10, 30, 30, 50, 20, 40, 11, 22)\n"
     ]
    }
   ],
   "source": [
    "L1=[10, 30, 30, 50, 20, 40, 11, 22]\n",
    "T1=tuple(L1)\n",
    "print (T1)"
   ]
  },
  {
   "cell_type": "code",
   "execution_count": 257,
   "metadata": {},
   "outputs": [
    {
     "name": "stdout",
     "output_type": "stream",
     "text": [
      "[10, 50, 30, 40, 20]\n"
     ]
    }
   ],
   "source": [
    "T1=(10,50,30,40,20)\n",
    "L1=list(T1)\n",
    "print (L1)"
   ]
  },
  {
   "cell_type": "code",
   "execution_count": 258,
   "metadata": {},
   "outputs": [
    {
     "name": "stdout",
     "output_type": "stream",
     "text": [
      "string to list: ['H', 'e', 'l', 'l', 'o']\n",
      "string to tuple ('H', 'e', 'l', 'l', 'o')\n"
     ]
    }
   ],
   "source": [
    "s1=\"Hello\"\n",
    "L2=list(s1)\n",
    "print ('string to list:', L2)\n",
    "T2=tuple(s1)\n",
    "print ('string to tuple', T2)"
   ]
  },
  {
   "cell_type": "code",
   "execution_count": 259,
   "metadata": {},
   "outputs": [
    {
     "name": "stdout",
     "output_type": "stream",
     "text": [
      "list to string [10, 50, 30, 40, 20]\n",
      "tuple to string (10, 50, 30, 40, 20)\n"
     ]
    }
   ],
   "source": [
    "s1=str(L1)\n",
    "s2=str(T1)\n",
    "print ('list to string',s1)\n",
    "print ('tuple to string',s2)"
   ]
  },
  {
   "cell_type": "markdown",
   "metadata": {},
   "source": [
    "# 4. Advantages of Tuple over List"
   ]
  },
  {
   "cell_type": "markdown",
   "metadata": {},
   "source": [
    "Since tuples are quite similar to lists, both of them are used in similar situations as well.\n",
    "\n",
    "However, there are certain advantages of implementing a tuple over a list. Below listed are some of the main advantages:"
   ]
  },
  {
   "cell_type": "markdown",
   "metadata": {},
   "source": [
    "* We generally use tuple for heterogeneous (different) datatypes and list for homogeneous (similar) datatypes.\n",
    "* Since tuples are immutable, iterating through tuple is faster than with list. So there is a slight performance boost.\n",
    "* Tuples that contain immutable elements can be used as a key for a dictionary. With lists, this is not possible.\n",
    "* If you have data that doesn't change, implementing it as tuple will guarantee that it remains write-protected."
   ]
  },
  {
   "cell_type": "markdown",
   "metadata": {},
   "source": [
    "# 5. Additional Applications"
   ]
  },
  {
   "cell_type": "markdown",
   "metadata": {},
   "source": [
    "## 5.1. The dir() function and docstrings"
   ]
  },
  {
   "cell_type": "code",
   "execution_count": 261,
   "metadata": {},
   "outputs": [
    {
     "name": "stdout",
     "output_type": "stream",
     "text": [
      "['__add__', '__class__', '__contains__', '__delattr__', '__dir__', '__doc__', '__eq__', '__format__', '__ge__', '__getattribute__', '__getitem__', '__getnewargs__', '__gt__', '__hash__', '__init__', '__init_subclass__', '__iter__', '__le__', '__len__', '__lt__', '__mod__', '__mul__', '__ne__', '__new__', '__reduce__', '__reduce_ex__', '__repr__', '__rmod__', '__rmul__', '__setattr__', '__sizeof__', '__str__', '__subclasshook__', 'capitalize', 'casefold', 'center', 'count', 'encode', 'endswith', 'expandtabs', 'find', 'format', 'format_map', 'index', 'isalnum', 'isalpha', 'isascii', 'isdecimal', 'isdigit', 'isidentifier', 'islower', 'isnumeric', 'isprintable', 'isspace', 'istitle', 'isupper', 'join', 'ljust', 'lower', 'lstrip', 'maketrans', 'partition', 'replace', 'rfind', 'rindex', 'rjust', 'rpartition', 'rsplit', 'rstrip', 'split', 'splitlines', 'startswith', 'strip', 'swapcase', 'title', 'translate', 'upper', 'zfill']\n"
     ]
    }
   ],
   "source": [
    "print(dir(str))"
   ]
  },
  {
   "cell_type": "code",
   "execution_count": 262,
   "metadata": {},
   "outputs": [
    {
     "name": "stdout",
     "output_type": "stream",
     "text": [
      "['__add__', '__class__', '__contains__', '__delattr__', '__delitem__', '__dir__', '__doc__', '__eq__', '__format__', '__ge__', '__getattribute__', '__getitem__', '__gt__', '__hash__', '__iadd__', '__imul__', '__init__', '__init_subclass__', '__iter__', '__le__', '__len__', '__lt__', '__mul__', '__ne__', '__new__', '__reduce__', '__reduce_ex__', '__repr__', '__reversed__', '__rmul__', '__setattr__', '__setitem__', '__sizeof__', '__str__', '__subclasshook__', 'append', 'clear', 'copy', 'count', 'extend', 'index', 'insert', 'pop', 'remove', 'reverse', 'sort']\n"
     ]
    }
   ],
   "source": [
    "print(dir(list))"
   ]
  },
  {
   "cell_type": "code",
   "execution_count": 263,
   "metadata": {},
   "outputs": [
    {
     "name": "stdout",
     "output_type": "stream",
     "text": [
      "['__add__', '__class__', '__contains__', '__delattr__', '__dir__', '__doc__', '__eq__', '__format__', '__ge__', '__getattribute__', '__getitem__', '__getnewargs__', '__gt__', '__hash__', '__init__', '__init_subclass__', '__iter__', '__le__', '__len__', '__lt__', '__mul__', '__ne__', '__new__', '__reduce__', '__reduce_ex__', '__repr__', '__rmul__', '__setattr__', '__sizeof__', '__str__', '__subclasshook__', 'count', 'index']\n"
     ]
    }
   ],
   "source": [
    "print(dir(tuple))"
   ]
  },
  {
   "cell_type": "code",
   "execution_count": 264,
   "metadata": {},
   "outputs": [
    {
     "name": "stdout",
     "output_type": "stream",
     "text": [
      "S.count(sub[, start[, end]]) -> int\n",
      "\n",
      "Return the number of non-overlapping occurrences of substring sub in\n",
      "string S[start:end].  Optional arguments start and end are\n",
      "interpreted as in slice notation.\n"
     ]
    }
   ],
   "source": [
    "print(str.count.__doc__)"
   ]
  },
  {
   "cell_type": "code",
   "execution_count": 265,
   "metadata": {},
   "outputs": [
    {
     "name": "stdout",
     "output_type": "stream",
     "text": [
      "Return number of occurrences of value.\n"
     ]
    }
   ],
   "source": [
    "print(tuple.count.__doc__)"
   ]
  },
  {
   "cell_type": "code",
   "execution_count": 266,
   "metadata": {},
   "outputs": [
    {
     "name": "stdout",
     "output_type": "stream",
     "text": [
      "Return number of occurrences of value.\n"
     ]
    }
   ],
   "source": [
    "print(list.count.__doc__)"
   ]
  },
  {
   "cell_type": "code",
   "execution_count": 267,
   "metadata": {},
   "outputs": [
    {
     "name": "stdout",
     "output_type": "stream",
     "text": [
      "S.index(sub[, start[, end]]) -> int\n",
      "\n",
      "Return the lowest index in S where substring sub is found, \n",
      "such that sub is contained within S[start:end].  Optional\n",
      "arguments start and end are interpreted as in slice notation.\n",
      "\n",
      "Raises ValueError when the substring is not found.\n"
     ]
    }
   ],
   "source": [
    "print(str.index.__doc__)"
   ]
  },
  {
   "cell_type": "code",
   "execution_count": 268,
   "metadata": {},
   "outputs": [
    {
     "name": "stdout",
     "output_type": "stream",
     "text": [
      "Return first index of value.\n",
      "\n",
      "Raises ValueError if the value is not present.\n"
     ]
    }
   ],
   "source": [
    "print(tuple.index.__doc__)"
   ]
  },
  {
   "cell_type": "code",
   "execution_count": 269,
   "metadata": {},
   "outputs": [
    {
     "name": "stdout",
     "output_type": "stream",
     "text": [
      "Return first index of value.\n",
      "\n",
      "Raises ValueError if the value is not present.\n"
     ]
    }
   ],
   "source": [
    "print(list.index.__doc__)"
   ]
  },
  {
   "cell_type": "code",
   "execution_count": 277,
   "metadata": {},
   "outputs": [
    {
     "name": "stdout",
     "output_type": "stream",
     "text": [
      "Append object to the end of the list.\n"
     ]
    }
   ],
   "source": [
    "print(list.append.__doc__)"
   ]
  },
  {
   "cell_type": "code",
   "execution_count": 278,
   "metadata": {},
   "outputs": [
    {
     "name": "stdout",
     "output_type": "stream",
     "text": [
      "Remove first occurrence of value.\n",
      "\n",
      "Raises ValueError if the value is not present.\n"
     ]
    }
   ],
   "source": [
    "print(list.remove.__doc__)"
   ]
  },
  {
   "cell_type": "code",
   "execution_count": 283,
   "metadata": {},
   "outputs": [
    {
     "name": "stdout",
     "output_type": "stream",
     "text": [
      "Return a list of the words in the string, using sep as the delimiter string.\n",
      "\n",
      "  sep\n",
      "    The delimiter according which to split the string.\n",
      "    None (the default value) means split according to any whitespace,\n",
      "    and discard empty strings from the result.\n",
      "  maxsplit\n",
      "    Maximum number of splits to do.\n",
      "    -1 (the default value) means no limit.\n"
     ]
    }
   ],
   "source": [
    "print(str.split.__doc__)"
   ]
  },
  {
   "cell_type": "code",
   "execution_count": 284,
   "metadata": {},
   "outputs": [
    {
     "name": "stdout",
     "output_type": "stream",
     "text": [
      "Concatenate any number of strings.\n",
      "\n",
      "The string whose method is called is inserted in between each given string.\n",
      "The result is returned as a new string.\n",
      "\n",
      "Example: '.'.join(['ab', 'pq', 'rs']) -> 'ab.pq.rs'\n"
     ]
    }
   ],
   "source": [
    "print(str.join.__doc__)"
   ]
  },
  {
   "cell_type": "code",
   "execution_count": 285,
   "metadata": {},
   "outputs": [
    {
     "name": "stdout",
     "output_type": "stream",
     "text": [
      "Return a copy with all occurrences of substring old replaced by new.\n",
      "\n",
      "  count\n",
      "    Maximum number of occurrences to replace.\n",
      "    -1 (the default value) means replace all occurrences.\n",
      "\n",
      "If the optional argument count is given, only the first count occurrences are\n",
      "replaced.\n"
     ]
    }
   ],
   "source": [
    "print(str.replace.__doc__)"
   ]
  },
  {
   "cell_type": "markdown",
   "metadata": {},
   "source": [
    "## 5.2. range() function"
   ]
  },
  {
   "cell_type": "markdown",
   "metadata": {},
   "source": [
    "Range is a function to build sequences of integers:"
   ]
  },
  {
   "cell_type": "code",
   "execution_count": 297,
   "metadata": {},
   "outputs": [
    {
     "data": {
      "text/plain": [
       "range(0, 4)"
      ]
     },
     "execution_count": 297,
     "metadata": {},
     "output_type": "execute_result"
    }
   ],
   "source": [
    "range(4)"
   ]
  },
  {
   "cell_type": "code",
   "execution_count": 298,
   "metadata": {},
   "outputs": [
    {
     "data": {
      "text/plain": [
       "[0, 1, 2, 3]"
      ]
     },
     "execution_count": 298,
     "metadata": {},
     "output_type": "execute_result"
    }
   ],
   "source": [
    "l = list(range(4))\n",
    "l"
   ]
  },
  {
   "cell_type": "code",
   "execution_count": 299,
   "metadata": {},
   "outputs": [
    {
     "data": {
      "text/plain": [
       "[3, 4, 5, 6]"
      ]
     },
     "execution_count": 299,
     "metadata": {},
     "output_type": "execute_result"
    }
   ],
   "source": [
    "list(range(3, 7))"
   ]
  },
  {
   "cell_type": "code",
   "execution_count": 300,
   "metadata": {},
   "outputs": [
    {
     "data": {
      "text/plain": [
       "[3, 5, 7, 9]"
      ]
     },
     "execution_count": 300,
     "metadata": {},
     "output_type": "execute_result"
    }
   ],
   "source": [
    "list(range(3, 10, 2))"
   ]
  },
  {
   "cell_type": "code",
   "execution_count": 301,
   "metadata": {},
   "outputs": [
    {
     "data": {
      "text/plain": [
       "[1, 2, 3, 4, 5, 6, 7, 8, 9, 10, 11, 12, 13, 14, 15, 16, 17]"
      ]
     },
     "execution_count": 301,
     "metadata": {},
     "output_type": "execute_result"
    }
   ],
   "source": [
    "l = list(range(20))\n",
    "l[1:18]  \n",
    "# try also \n",
    "#l[1:18:3]\n",
    "#l[1::3]\n",
    "#l[:5:3]\n",
    "#l[::3]"
   ]
  },
  {
   "cell_type": "code",
   "execution_count": 302,
   "metadata": {},
   "outputs": [
    {
     "data": {
      "text/plain": [
       "[18, 15, 12, 9, 6]"
      ]
     },
     "execution_count": 302,
     "metadata": {},
     "output_type": "execute_result"
    }
   ],
   "source": [
    "l = list(range(20))\n",
    "l[18:3:-3]  \n",
    "# try also \n",
    "#l[17:2:-3]\n",
    "#l[::-1] "
   ]
  },
  {
   "cell_type": "code",
   "execution_count": 309,
   "metadata": {},
   "outputs": [
    {
     "name": "stdout",
     "output_type": "stream",
     "text": [
      "[0, 1, 2, 3, 4]\n",
      "['a', 'b', 'c', 'd']\n"
     ]
    },
    {
     "data": {
      "text/plain": [
       "['a', 0, 1, 2, 3, 'd']"
      ]
     },
     "execution_count": 309,
     "metadata": {},
     "output_type": "execute_result"
    }
   ],
   "source": [
    "l = list(range(5))\n",
    "print(l)\n",
    "r = ['a', 'b', 'c', 'd']\n",
    "print(r)\n",
    "r[1:3] = l[:-1]  # len(r[1:3]) == len(l[:-1]), OK\n",
    "r"
   ]
  },
  {
   "cell_type": "code",
   "execution_count": 310,
   "metadata": {},
   "outputs": [
    {
     "name": "stdout",
     "output_type": "stream",
     "text": [
      "[0, 2, 4]\n",
      "['a', 2]\n"
     ]
    },
    {
     "ename": "ValueError",
     "evalue": "attempt to assign sequence of size 3 to extended slice of size 2",
     "output_type": "error",
     "traceback": [
      "\u001b[1;31m---------------------------------------------------------------------------\u001b[0m",
      "\u001b[1;31mValueError\u001b[0m                                Traceback (most recent call last)",
      "\u001b[1;32m<ipython-input-310-ca55f3397bef>\u001b[0m in \u001b[0;36m<module>\u001b[1;34m\u001b[0m\n\u001b[0;32m      1\u001b[0m \u001b[0mprint\u001b[0m\u001b[1;33m(\u001b[0m\u001b[0ml\u001b[0m\u001b[1;33m[\u001b[0m\u001b[1;33m:\u001b[0m\u001b[1;33m:\u001b[0m\u001b[1;36m2\u001b[0m\u001b[1;33m]\u001b[0m\u001b[1;33m)\u001b[0m\u001b[1;33m\u001b[0m\u001b[1;33m\u001b[0m\u001b[0m\n\u001b[0;32m      2\u001b[0m \u001b[0mprint\u001b[0m\u001b[1;33m(\u001b[0m\u001b[0mr\u001b[0m\u001b[1;33m[\u001b[0m\u001b[1;33m:\u001b[0m\u001b[1;33m:\u001b[0m\u001b[1;36m3\u001b[0m\u001b[1;33m]\u001b[0m\u001b[1;33m)\u001b[0m\u001b[1;33m\u001b[0m\u001b[1;33m\u001b[0m\u001b[0m\n\u001b[1;32m----> 3\u001b[1;33m \u001b[0mr\u001b[0m\u001b[1;33m[\u001b[0m\u001b[1;33m:\u001b[0m\u001b[1;33m:\u001b[0m\u001b[1;36m3\u001b[0m\u001b[1;33m]\u001b[0m \u001b[1;33m=\u001b[0m \u001b[0ml\u001b[0m\u001b[1;33m[\u001b[0m\u001b[1;33m:\u001b[0m\u001b[1;33m:\u001b[0m\u001b[1;36m2\u001b[0m\u001b[1;33m]\u001b[0m  \u001b[1;31m# len(r[::2]) != len(l[::2]), KO!!!\u001b[0m\u001b[1;33m\u001b[0m\u001b[1;33m\u001b[0m\u001b[0m\n\u001b[0m",
      "\u001b[1;31mValueError\u001b[0m: attempt to assign sequence of size 3 to extended slice of size 2"
     ]
    }
   ],
   "source": [
    "print(l[::2])\n",
    "print(r[::3])\n",
    "r[::3] = l[::2]  # len(r[::2]) != len(l[::2]), KO!!!"
   ]
  },
  {
   "cell_type": "code",
   "execution_count": 311,
   "metadata": {},
   "outputs": [
    {
     "data": {
      "text/plain": [
       "[0, 0, 2, 2, 4, 'd']"
      ]
     },
     "execution_count": 311,
     "metadata": {},
     "output_type": "execute_result"
    }
   ],
   "source": [
    " r[::2] = l[::2] # len(r[::2]) == len(l[::2]), ok\n",
    "r"
   ]
  },
  {
   "cell_type": "code",
   "execution_count": 312,
   "metadata": {},
   "outputs": [
    {
     "data": {
      "text/plain": [
       "[1, 2, 4, 5, 7, 8, 10]"
      ]
     },
     "execution_count": 312,
     "metadata": {},
     "output_type": "execute_result"
    }
   ],
   "source": [
    " l = list(range(11))\n",
    "del l[::3]\n",
    "l"
   ]
  },
  {
   "cell_type": "code",
   "execution_count": 313,
   "metadata": {},
   "outputs": [
    {
     "data": {
      "text/plain": [
       "[2, 5, 8]"
      ]
     },
     "execution_count": 313,
     "metadata": {},
     "output_type": "execute_result"
    }
   ],
   "source": [
    "del l[::2]\n",
    "l"
   ]
  },
  {
   "cell_type": "code",
   "execution_count": null,
   "metadata": {},
   "outputs": [],
   "source": []
  }
 ],
 "metadata": {
  "kernelspec": {
   "display_name": "Python 3",
   "language": "python",
   "name": "python3"
  },
  "language_info": {
   "codemirror_mode": {
    "name": "ipython",
    "version": 3
   },
   "file_extension": ".py",
   "mimetype": "text/x-python",
   "name": "python",
   "nbconvert_exporter": "python",
   "pygments_lexer": "ipython3",
   "version": "3.7.4"
  }
 },
 "nbformat": 4,
 "nbformat_minor": 2
}
