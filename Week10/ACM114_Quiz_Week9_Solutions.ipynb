{
 "cells": [
  {
   "cell_type": "code",
   "execution_count": 7,
   "metadata": {},
   "outputs": [
    {
     "name": "stdout",
     "output_type": "stream",
     "text": [
      "50,75,125,150,200,250\n",
      "14,17,22,24,28,32\n"
     ]
    }
   ],
   "source": [
    "from math import * # importing all math functions\n",
    "\n",
    "n1, n3 = 100, 50\n",
    "\n",
    "def calc(n2):\n",
    "    return sqrt((2 * n1 * n2) / n3)\n",
    "\n",
    "n2 = input().split(',')    # splits in comma position and set up in list\n",
    "n2 = [int(i) for i in n2]   # converts string to integer\n",
    "n2 = [calc(i) for i in n2]  # returns floating value by calc method for every item in n2\n",
    "n2 = [round(i) for i in n2] # All the floating values are rounded\n",
    "n2 = [str(i) for i in n2]   # All the integers are converted to string to be able to apply join operation\n",
    "\n",
    "print(\",\".join(n2))"
   ]
  },
  {
   "cell_type": "code",
   "execution_count": 15,
   "metadata": {},
   "outputs": [
    {
     "name": "stdout",
     "output_type": "stream",
     "text": [
      "50,75,125,150,200,250\n",
      "14,17,22,24,28,32\n"
     ]
    }
   ],
   "source": [
    "from math import * # importing all math functions\n",
    "\n",
    "n1, n3 = 100, 50\n",
    "\n",
    "def calc(n2):\n",
    "    return sqrt((2 * n1 * n2) / n3)\n",
    "\n",
    "# splits in comma position and set up in list\n",
    "n2 = input().split(',')                 \n",
    "# using comprehension method. It works in order of the previous code\n",
    "n2 = [str(round(calc(int(i)))) for i in n2]  \n",
    "print(\",\".join(n2))"
   ]
  },
  {
   "cell_type": "code",
   "execution_count": 20,
   "metadata": {},
   "outputs": [
    {
     "name": "stdout",
     "output_type": "stream",
     "text": [
      "50,75,125,150,200,250\n",
      "14,17,22,24,28,32\n"
     ]
    }
   ],
   "source": [
    "from math import *\n",
    "\n",
    "n1, n3 = 100, 50\n",
    "\n",
    "def calc(n2):\n",
    "    return sqrt((2 * n1 * n2) / n3)\n",
    "    \n",
    "print(\",\".join([str(round(calc(int(i)))) for i in input().split(',')]))"
   ]
  },
  {
   "cell_type": "code",
   "execution_count": 21,
   "metadata": {},
   "outputs": [
    {
     "name": "stdout",
     "output_type": "stream",
     "text": [
      "50,75,125,150,200,250\n",
      "14,17,22,24,28,32\n"
     ]
    }
   ],
   "source": [
    "from math import * # importing all math functions\n",
    "\n",
    "n1, n3 = 100, 50\n",
    "\n",
    "def calc(n2):\n",
    "    n2 = int(n2)\n",
    "    return str(round(sqrt((2 * n1 * n2) / n3)))\n",
    "\n",
    "n2 = input().split(',')\n",
    "n2 = list(map(calc,n2))   # applying calc function on n2 and storing as a list\n",
    "print(\",\".join(n2))"
   ]
  },
  {
   "cell_type": "code",
   "execution_count": null,
   "metadata": {},
   "outputs": [],
   "source": []
  }
 ],
 "metadata": {
  "kernelspec": {
   "display_name": "Python 3",
   "language": "python",
   "name": "python3"
  },
  "language_info": {
   "codemirror_mode": {
    "name": "ipython",
    "version": 3
   },
   "file_extension": ".py",
   "mimetype": "text/x-python",
   "name": "python",
   "nbconvert_exporter": "python",
   "pygments_lexer": "ipython3",
   "version": "3.7.4"
  }
 },
 "nbformat": 4,
 "nbformat_minor": 2
}
