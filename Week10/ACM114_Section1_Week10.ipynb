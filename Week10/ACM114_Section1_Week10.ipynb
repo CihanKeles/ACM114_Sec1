{
 "cells": [
  {
   "cell_type": "code",
   "execution_count": 11,
   "metadata": {},
   "outputs": [
    {
     "name": "stdout",
     "output_type": "stream",
     "text": [
      "[[1, 1], [2, 4], [3, 9], [4, 16], [5, 25], [6, 36], [7, 49], [8, 64], [9, 81], [10, 100], [11, 121], [12, 144], [13, 169], [14, 196], [15, 225], [16, 256], [17, 289], [18, 324], [19, 361], [20, 400]]\n",
      "\n",
      "[[1, 1], [2, 4], [3, 9], [4, 16], [5, 25], [6, 36], [7, 49], [8, 64], [9, 81], [10, 100], [11, 121], [12, 144], [13, 169], [14, 196], [15, 225], [16, 256], [17, 289], [18, 324], [19, 361], [20, 400]]\n",
      "\n",
      "[[1], [4], [9], [16], [25], [36], [49], [64], [81], [100], [121], [144], [169], [196], [225], [256], [289], [324], [361], [400]]\n",
      "\n",
      "\n",
      "[[1, 1], [2, 4], [3, 9], [4, 16], [5, 25], [6, 36], [7, 49], [8, 64], [9, 81], [10, 100], [11, 121], [12, 144], [13, 169], [14, 196], [15, 225], [16, 256], [17, 289], [18, 324], [19, 361], [20, 400]]\n"
     ]
    }
   ],
   "source": [
    "# Define a function which can generate and print a list \n",
    "# where the values are square of numbers between 1 and 20 (both included).\n",
    "\n",
    "def printList():\n",
    "    l = list()\n",
    "    l_1 = list()\n",
    "    for i in range(1, 21):\n",
    "        for j in range(i, i + 1):\n",
    "            # l_1.extend((j, j**2))\n",
    "            l_1.append(j)\n",
    "            l_1.append(j**2)\n",
    "            l.append(l_1)\n",
    "            l_1 = []\n",
    "    return l\n",
    "\n",
    "print(printList())\n",
    "print()\n",
    "\n",
    "def printList():\n",
    "    l = list()\n",
    "    l_1 = [0, 0]\n",
    "    for i in range(1, 21):\n",
    "        for j in range(i, i + 1):\n",
    "            l_1[0] = j\n",
    "            l_1[1] = j**2\n",
    "            l.append(l_1)\n",
    "            l_1 = [0, 0]\n",
    "    return l\n",
    "\n",
    "print(printList())\n",
    "print()\n",
    "\n",
    "def printList():\n",
    "    # With using comprehension method\n",
    "    lst = [[j, j**2] for i in range(1, 21) for j in range(i, i+1)]\n",
    "    lst_1 = [[j**2 for j in range(i, i+1)] for i in range(1, 21)]\n",
    "    print(lst_1)\n",
    "    print(\"\\n\")\n",
    "    return lst\n",
    "\n",
    "print(printList())"
   ]
  },
  {
   "cell_type": "code",
   "execution_count": 12,
   "metadata": {},
   "outputs": [
    {
     "name": "stdout",
     "output_type": "stream",
     "text": [
      "Enter the magnitude of list: 5\n",
      "Enter the elements of list: ahmet\n",
      "Enter the elements of list: 3.14\n",
      "Enter the elements of list: 35\n",
      "Enter the elements of list: klm\n",
      "Enter the elements of list: Coding in Python!\n",
      "['ahmet', '3.14', '35', 'klm', 'Coding in Python!']\n",
      "[[], ['ahmet'], ['ahmet', '3.14'], ['ahmet', '3.14', '35'], ['ahmet', '3.14', '35', 'klm'], ['ahmet', '3.14', '35', 'klm', 'Coding in Python!'], ['3.14'], ['3.14', '35'], ['3.14', '35', 'klm'], ['3.14', '35', 'klm', 'Coding in Python!'], ['35'], ['35', 'klm'], ['35', 'klm', 'Coding in Python!'], ['klm'], ['klm', 'Coding in Python!'], ['Coding in Python!']]\n"
     ]
    }
   ],
   "source": [
    "# Python program to print all\n",
    "# sublist from a given list\n",
    "\n",
    "# function to generate all sub-lists\n",
    "\n",
    "def sub_lists(list1):\n",
    "    \n",
    "    # we store all the sublists\n",
    "    sublist = [[]]\n",
    "    \n",
    "    # first for loop\n",
    "    for i in range(len(list1) + 1):\n",
    "        \n",
    "        # second for loop\n",
    "        for j in range(i + 1, len(list1) + 1):\n",
    "            \n",
    "            # we slice the sub-list\n",
    "            sub = list1[i:j]\n",
    "            sublist.append(sub)\n",
    "            \n",
    "    return sublist\n",
    "\n",
    "# we can drive the code\n",
    "n = int(input(\"Enter the magnitude of list: \"))\n",
    "l1 = []\n",
    "for i in range(0, n):\n",
    "    element = input(\"Enter the elements of list: \")\n",
    "    l1.append(element)\n",
    "    \n",
    "print(l1)\n",
    "print(sub_lists(l1))"
   ]
  },
  {
   "cell_type": "code",
   "execution_count": 22,
   "metadata": {},
   "outputs": [
    {
     "name": "stdout",
     "output_type": "stream",
     "text": [
      "([1, 1], [2, 4], [3, 9], [4, 16], [5, 25], [6, 36], [7, 49], [8, 64], [9, 81], [10, 100], [11, 121], [12, 144], [13, 169], [14, 196], [15, 225], [16, 256], [17, 289], [18, 324], [19, 361], [20, 400])\n",
      "\n",
      "([1], [4], [9], [16], [25], [36], [49], [64], [81], [100], [121], [144], [169], [196], [225], [256], [289], [324], [361], [400])\n",
      "\n",
      "[1, 4, 9, 16, 25, 36, 49, 64, 81, 100, 121, 144, 169, 196, 225, 256, 289, 324, 361, 400]\n",
      "(1, 4, 9, 16, 25, 36, 49, 64, 81, 100, 121, 144, 169, 196, 225, 256, 289, 324, 361, 400)\n",
      "\n",
      "([1, 1], [2, 4], [3, 9], [4, 16], [5, 25], [6, 36], [7, 49], [8, 64], [9, 81], [10, 100], [11, 121], [12, 144], [13, 169], [14, 196], [15, 225], [16, 256], [17, 289], [18, 324], [19, 361], [20, 400])\n",
      "\n",
      "((1, 1), (2, 4), (3, 9), (4, 16), (5, 25), (6, 36), (7, 49), (8, 64), (9, 81), (10, 100), (11, 121), (12, 144), (13, 169), (14, 196), (15, 225), (16, 256), (17, 289), (18, 324), (19, 361), (20, 400))\n"
     ]
    }
   ],
   "source": [
    "# Define a function which can generate and print a tuple\n",
    "# where the value are sqaure of numbers between 1 and 20 (both included).\n",
    "\n",
    "def printTuple():\n",
    "    li = list()\n",
    "    li_sub = list()\n",
    "    \n",
    "    for i in range(1, 21):\n",
    "        for j in range(i, i + 1):\n",
    "            # li_sub.extend((j, j**2))\n",
    "            li_sub.append(j)\n",
    "            li_sub.append(j**2)\n",
    "            li.append(li_sub)\n",
    "            li_sub = []\n",
    "    return tuple(li)\n",
    "\n",
    "print(printTuple())\n",
    "print()\n",
    "\n",
    "def printTupple():\n",
    "    lst = [[j, j**2] for i in range(1,21) for j in range(i,i+1)]\n",
    "    lst_1 = [[j**2 for j in range(i,i+1)] for i in range(1,21)]\n",
    "    lst_2 = [i**2 for i in range(1,21)]\n",
    "    print(tuple(lst_1))\n",
    "    print()\n",
    "    print(lst_2)\n",
    "    print(tuple(lst_2))\n",
    "    print()\n",
    "    return tuple(lst)\n",
    "\n",
    "print(printTupple())\n",
    "print()\n",
    "\n",
    "def square_of_numbers():\n",
    "    return tuple((i, i**2) for i in range(1, 21) for j in range(i, i+1))\n",
    "\n",
    "print(square_of_numbers())"
   ]
  },
  {
   "cell_type": "code",
   "execution_count": 26,
   "metadata": {},
   "outputs": [
    {
     "name": "stdout",
     "output_type": "stream",
     "text": [
      "{1: 1, 2: 4, 3: 9, 4: 16, 5: 25, 6: 36, 7: 49, 8: 64, 9: 81, 10: 100, 11: 121, 12: 144, 13: 169, 14: 196, 15: 225, 16: 256, 17: 289, 18: 324, 19: 361, 20: 400}\n",
      "\n",
      "{1: 1, 2: 4, 3: 9, 4: 16, 5: 25, 6: 36, 7: 49, 8: 64, 9: 81, 10: 100, 11: 121, 12: 144, 13: 169, 14: 196, 15: 225, 16: 256, 17: 289, 18: 324, 19: 361, 20: 400}\n",
      "\n",
      "1\n",
      "2\n",
      "3\n",
      "4\n",
      "5\n",
      "6\n",
      "7\n",
      "8\n",
      "9\n",
      "10\n",
      "11\n",
      "12\n",
      "13\n",
      "14\n",
      "15\n",
      "16\n",
      "17\n",
      "18\n",
      "19\n",
      "20\n",
      "dict_items([(1, 1), (2, 4), (3, 9), (4, 16), (5, 25), (6, 36), (7, 49), (8, 64), (9, 81), (10, 100), (11, 121), (12, 144), (13, 169), (14, 196), (15, 225), (16, 256), (17, 289), (18, 324), (19, 361), (20, 400)])\n",
      "\n",
      "dict_keys([1, 2, 3, 4, 5, 6, 7, 8, 9, 10, 11, 12, 13, 14, 15, 16, 17, 18, 19, 20])\n",
      "dict_values([1, 4, 9, 16, 25, 36, 49, 64, 81, 100, 121, 144, 169, 196, 225, 256, 289, 324, 361, 400])\n"
     ]
    }
   ],
   "source": [
    "# Define a function which can print a dictionary where\n",
    "# the keys are numbers between 1 and 20 (both included).\n",
    "# and the values are square of the keys.\n",
    "\n",
    "def printDict():\n",
    "    d = dict()\n",
    "    for i in range(1, 21):\n",
    "        d[i] = i**2\n",
    "    return d\n",
    "\n",
    "print(printDict())\n",
    "print()\n",
    "\n",
    "def printDict():\n",
    "    # Using with comprehension method for creating dictionary\n",
    "    dict = {i : i**2 for i in range(1,21)}\n",
    "    print(dict)\n",
    "    \n",
    "printDict()\n",
    "print()\n",
    "\n",
    "# The function should just print the keys only\n",
    "def printDict():\n",
    "    d = dict()\n",
    "    for i in range(1,21):\n",
    "        d[i] = i**2\n",
    "    for k in d.keys():\n",
    "        print(k)\n",
    "    return d.items()\n",
    "\n",
    "print(printDict())\n",
    "print()\n",
    "\n",
    "def printDict():\n",
    "    dict = {i : i**2 for i in range(1,21)}\n",
    "    # print keys of a dictionary\n",
    "    print(dict.keys())\n",
    "    return dict.values()\n",
    "\n",
    "print(printDict())"
   ]
  },
  {
   "cell_type": "markdown",
   "metadata": {},
   "source": [
    "# Anonymous / Lambda Functions"
   ]
  },
  {
   "cell_type": "code",
   "execution_count": 28,
   "metadata": {},
   "outputs": [
    {
     "name": "stdout",
     "output_type": "stream",
     "text": [
      "9\n",
      "9\n"
     ]
    }
   ],
   "source": [
    "def SumFunction(number1, number2):\n",
    "    return number1 + number2\n",
    "\n",
    "print(SumFunction(4,5))\n",
    "\n",
    "# here lambda is use to define little function as sum\n",
    "sum = lambda n1, n2 : n1 + n2\n",
    "print(sum(4,5))"
   ]
  },
  {
   "cell_type": "code",
   "execution_count": 30,
   "metadata": {},
   "outputs": [
    {
     "name": "stdout",
     "output_type": "stream",
     "text": [
      "5\n",
      "23\n",
      "<class 'str'>\n"
     ]
    }
   ],
   "source": [
    "def printValue(n):\n",
    "    print(str(n))\n",
    "    \n",
    "printValue(5)\n",
    "\n",
    "convert = lambda x: str(x)\n",
    "n = convert(23)\n",
    "print(n)\n",
    "print(type(n))"
   ]
  },
  {
   "cell_type": "code",
   "execution_count": 35,
   "metadata": {},
   "outputs": [
    {
     "name": "stdout",
     "output_type": "stream",
     "text": [
      "15\n",
      "178\n",
      "\n",
      "78\n",
      "10078\n"
     ]
    }
   ],
   "source": [
    "def printValue(s1, s2):\n",
    "    print(int(s1) + int(s2))\n",
    "    \n",
    "printValue(\"7\", \"8\") #15\n",
    "\n",
    "sum = lambda s1, s2: int(s1) + int(s2)\n",
    "print(sum(\"100\", \"78\")) #178\n",
    "print()\n",
    "\n",
    "def printValue(s1, s2):\n",
    "    print(s1 + s2)\n",
    "\n",
    "printValue(\"7\", \"8\") # 78\n",
    "\n",
    "sum = lambda s1, s2: s1 + s2\n",
    "print(sum(\"100\", \"78\")) #10078"
   ]
  },
  {
   "cell_type": "code",
   "execution_count": 39,
   "metadata": {},
   "outputs": [
    {
     "name": "stdout",
     "output_type": "stream",
     "text": [
      "Enter two strings to compare: Stay home! * Stay safe!\n",
      "Stay home!\n",
      "Stay safe!\n",
      "\n",
      "Stay home!\n",
      "Stay safe!\n"
     ]
    }
   ],
   "source": [
    "# Define a function that can accept two strings as input and\n",
    "# print the string with max lenght in output (screen)\n",
    "# If two strings have the same length, then the function\n",
    "# should print all strings line by line.\n",
    "\n",
    "def printVal(s1, s2):\n",
    "    length1 = len(s1)\n",
    "    length2 = len(s2)\n",
    "    if length1 > length2:\n",
    "        print(s1)\n",
    "    elif length1 < length2:\n",
    "        print(s2)\n",
    "    else:\n",
    "        print(s1)\n",
    "        print(s2)\n",
    "\n",
    "string1, string2 = input(\"Enter two strings to compare: \").split(' * ')\n",
    "printVal(string1, string2)\n",
    "print()\n",
    "\n",
    "function = lambda x, y: print(max((x,y), key = len)) if len(x) != len(y) else print(x + '\\n' + y)\n",
    "function(string1, string2)"
   ]
  },
  {
   "cell_type": "code",
   "execution_count": 42,
   "metadata": {},
   "outputs": [
    {
     "name": "stdout",
     "output_type": "stream",
     "text": [
      "['__add__', '__class__', '__contains__', '__delattr__', '__delitem__', '__dir__', '__doc__', '__eq__', '__format__', '__ge__', '__getattribute__', '__getitem__', '__gt__', '__hash__', '__iadd__', '__imul__', '__init__', '__init_subclass__', '__iter__', '__le__', '__len__', '__lt__', '__mul__', '__ne__', '__new__', '__reduce__', '__reduce_ex__', '__repr__', '__reversed__', '__rmul__', '__setattr__', '__setitem__', '__sizeof__', '__str__', '__subclasshook__', 'append', 'clear', 'copy', 'count', 'extend', 'index', 'insert', 'pop', 'remove', 'reverse', 'sort']\n",
      "\n",
      "Help on class filter in module builtins:\n",
      "\n",
      "class filter(object)\n",
      " |  filter(function or None, iterable) --> filter object\n",
      " |  \n",
      " |  Return an iterator yielding those items of iterable for which function(item)\n",
      " |  is true. If function is None, return the items that are true.\n",
      " |  \n",
      " |  Methods defined here:\n",
      " |  \n",
      " |  __getattribute__(self, name, /)\n",
      " |      Return getattr(self, name).\n",
      " |  \n",
      " |  __iter__(self, /)\n",
      " |      Implement iter(self).\n",
      " |  \n",
      " |  __next__(self, /)\n",
      " |      Implement next(self).\n",
      " |  \n",
      " |  __reduce__(...)\n",
      " |      Return state information for pickling.\n",
      " |  \n",
      " |  ----------------------------------------------------------------------\n",
      " |  Static methods defined here:\n",
      " |  \n",
      " |  __new__(*args, **kwargs) from builtins.type\n",
      " |      Create and return a new object.  See help(type) for accurate signature.\n",
      "\n",
      "None\n",
      "\n",
      "The magnitude of list: 9\n",
      "Enter the elements of the list: 1 5 23 17 19 201 58 88 91\n",
      "['1', '5', '23', '17', '19', '201', '58', '88', '91']\n",
      "['1', '5', '23', '17', '19', '201', '58', '88', '91']\n",
      "['58', '88']\n"
     ]
    }
   ],
   "source": [
    "# Program to filter out only the even items from a given list (or user input)\n",
    "\n",
    "print(dir(list))\n",
    "print()\n",
    "print(help(filter))\n",
    "print()\n",
    "my_list = []\n",
    "n = int(input(\"The magnitude of list: \"))\n",
    "element = input(\"Enter the elements of the list: \").split()\n",
    "print(element)\n",
    "for e in element:\n",
    "    my_list.append(e)\n",
    "\n",
    "print(my_list)\n",
    "new_list = list(filter(lambda i: (int(i) % 2) == 0, my_list))\n",
    "print(new_list)"
   ]
  },
  {
   "cell_type": "code",
   "execution_count": 44,
   "metadata": {},
   "outputs": [
    {
     "name": "stdout",
     "output_type": "stream",
     "text": [
      "Help on class map in module builtins:\n",
      "\n",
      "class map(object)\n",
      " |  map(func, *iterables) --> map object\n",
      " |  \n",
      " |  Make an iterator that computes the function using arguments from\n",
      " |  each of the iterables.  Stops when the shortest iterable is exhausted.\n",
      " |  \n",
      " |  Methods defined here:\n",
      " |  \n",
      " |  __getattribute__(self, name, /)\n",
      " |      Return getattr(self, name).\n",
      " |  \n",
      " |  __iter__(self, /)\n",
      " |      Implement iter(self).\n",
      " |  \n",
      " |  __next__(self, /)\n",
      " |      Implement next(self).\n",
      " |  \n",
      " |  __reduce__(...)\n",
      " |      Return state information for pickling.\n",
      " |  \n",
      " |  ----------------------------------------------------------------------\n",
      " |  Static methods defined here:\n",
      " |  \n",
      " |  __new__(*args, **kwargs) from builtins.type\n",
      " |      Create and return a new object.  See help(type) for accurate signature.\n",
      "\n",
      "None\n",
      "\n",
      "Enter the elements of the list: 1 2 3 4 5 6 7 8 9 10\n",
      "['1', '2', '3', '4', '5', '6', '7', '8', '9', '10']\n",
      "['1', '2', '3', '4', '5', '6', '7', '8', '9', '10']\n",
      "[1, 8, 27, 64, 125, 216, 343, 512, 729, 1000]\n"
     ]
    }
   ],
   "source": [
    "# Program to cube each item in a list using map()\n",
    "\n",
    "print(help(map))\n",
    "print()\n",
    "\n",
    "my_list = []\n",
    "element = input(\"Enter the elements of the list: \").split()\n",
    "print(element)\n",
    "for e in element:\n",
    "    my_list.append(e)\n",
    "    \n",
    "print(my_list)\n",
    "new_list = list(map(lambda i: (int(i) ** 3), my_list))\n",
    "\n",
    "print(new_list)"
   ]
  },
  {
   "cell_type": "markdown",
   "metadata": {},
   "source": [
    "# \\*args and \\**kwargs"
   ]
  },
  {
   "cell_type": "code",
   "execution_count": 45,
   "metadata": {},
   "outputs": [
    {
     "name": "stdout",
     "output_type": "stream",
     "text": [
      "Hello John\n",
      "Hello Can\n",
      "Hello James\n",
      "Hello Ayşe\n",
      "Hello Sinem\n"
     ]
    }
   ],
   "source": [
    "def greetings(*args):\n",
    "    \"\"\"\n",
    "    This function greets all the person in the names tuple\n",
    "    \"\"\"\n",
    "    # args is a tuple with arguments\n",
    "    for name in args:\n",
    "        print(\"Hello\", name)\n",
    "        \n",
    "greetings(\"John\", 'Can', '''James''', 'Ayşe', \"Sinem\")"
   ]
  },
  {
   "cell_type": "code",
   "execution_count": 49,
   "metadata": {},
   "outputs": [
    {
     "name": "stdout",
     "output_type": "stream",
     "text": [
      "Total:  33\n",
      "\n",
      "Total:  33\n"
     ]
    },
    {
     "ename": "TypeError",
     "evalue": "summation() takes 3 positional arguments but 5 were given",
     "output_type": "error",
     "traceback": [
      "\u001b[1;31m---------------------------------------------------------------------------\u001b[0m",
      "\u001b[1;31mTypeError\u001b[0m                                 Traceback (most recent call last)",
      "\u001b[1;32m<ipython-input-49-249c95a964b5>\u001b[0m in \u001b[0;36m<module>\u001b[1;34m\u001b[0m\n\u001b[0;32m     11\u001b[0m \u001b[1;31m# summation(10, 11, 12, 13, 14)\u001b[0m\u001b[1;33m\u001b[0m\u001b[1;33m\u001b[0m\u001b[1;33m\u001b[0m\u001b[0m\n\u001b[0;32m     12\u001b[0m \u001b[0mL2\u001b[0m \u001b[1;33m=\u001b[0m \u001b[1;33m[\u001b[0m\u001b[1;36m10\u001b[0m\u001b[1;33m,\u001b[0m \u001b[1;36m11\u001b[0m\u001b[1;33m,\u001b[0m \u001b[1;36m12\u001b[0m\u001b[1;33m,\u001b[0m \u001b[1;36m13\u001b[0m\u001b[1;33m,\u001b[0m \u001b[1;36m14\u001b[0m\u001b[1;33m]\u001b[0m\u001b[1;33m\u001b[0m\u001b[1;33m\u001b[0m\u001b[0m\n\u001b[1;32m---> 13\u001b[1;33m \u001b[0msummation\u001b[0m\u001b[1;33m(\u001b[0m\u001b[1;33m*\u001b[0m\u001b[0mL2\u001b[0m\u001b[1;33m)\u001b[0m\u001b[1;33m\u001b[0m\u001b[1;33m\u001b[0m\u001b[0m\n\u001b[0m",
      "\u001b[1;31mTypeError\u001b[0m: summation() takes 3 positional arguments but 5 were given"
     ]
    }
   ],
   "source": [
    "def summation(a, b, c):\n",
    "    print(\"Total: \", a+b+c)\n",
    "\n",
    "summation(10, 11, 12)\n",
    "\n",
    "print()\n",
    "\n",
    "L1 = [10, 11, 12]\n",
    "summation(*L1)\n",
    "\n",
    "# summation(10, 11, 12, 13, 14)\n",
    "L2 = [10, 11, 12, 13, 14]\n",
    "summation(*L2)"
   ]
  },
  {
   "cell_type": "code",
   "execution_count": 52,
   "metadata": {},
   "outputs": [
    {
     "name": "stdout",
     "output_type": "stream",
     "text": [
      "Total: 3\n",
      "Total: 10\n",
      "Total: 33\n",
      "Enter the elements of the list: 1 2 3 4 5 6 7 8 9 10\n",
      "['1', '2', '3', '4', '5', '6', '7', '8', '9', '10']\n",
      "[1, 2, 3, 4, 5, 6, 7, 8, 9, 10]\n",
      "Total: 55\n"
     ]
    }
   ],
   "source": [
    "def summation(*numbers):\n",
    "    total = 0\n",
    "    for number in numbers:\n",
    "        total += number\n",
    "    print(\"Total:\", total)\n",
    "    \n",
    "summation(1,2)\n",
    "summation(1,2,3,4)\n",
    "summation(3,4,5,6,7,8)\n",
    "\n",
    "my_list_1 = []\n",
    "my_list_2 = []\n",
    "element = input(\"Enter the elements of the list: \").split()\n",
    "for e in element:\n",
    "    my_list_1.append(e)\n",
    "    \n",
    "print(my_list_1)\n",
    "for i in my_list_1:\n",
    "    a = int(i)\n",
    "    my_list_2.append(a)\n",
    "    \n",
    "print(my_list_2)\n",
    "summation(*my_list_2)"
   ]
  },
  {
   "cell_type": "code",
   "execution_count": 53,
   "metadata": {},
   "outputs": [
    {
     "name": "stdout",
     "output_type": "stream",
     "text": [
      "Data type of argument: <class 'dict'>\n",
      "Firstname is Steve\n",
      "Lastname is Roger\n",
      "Age is 85\n",
      "Nickname is Captain America\n",
      "\n",
      "Data type of argument: <class 'dict'>\n",
      "Firstname is Peter\n",
      "Lastname is Parker\n",
      "Age is 18\n",
      "Email is peterparker@nomail.com\n",
      "Country is USA\n",
      "Origin is Turkey\n",
      "Nickname is Spiderman\n"
     ]
    }
   ],
   "source": [
    "def name_dict(**kwargs):\n",
    "    \n",
    "    print(\"Data type of argument:\", type(kwargs))\n",
    "    \n",
    "    for key, value in kwargs.items():\n",
    "        print(\"{} is {}\".format(key, value))\n",
    "        \n",
    "name_dict(Firstname = 'Steve', Lastname = \"Roger\", Age = '85', Nickname = \"Captain America\")\n",
    "print()\n",
    "name_dict(Firstname = 'Peter', Lastname = 'Parker', Age = \"18\", Email = 'peterparker@nomail.com', Country = 'USA', Origin = 'Turkey', Nickname = \"Spiderman\")"
   ]
  },
  {
   "cell_type": "code",
   "execution_count": 60,
   "metadata": {},
   "outputs": [
    {
     "name": "stdout",
     "output_type": "stream",
     "text": [
      "Coding in Python is exciting! \n",
      "\n",
      "{'1': '1', '2': '4', '3': '9', '4': '16', '5': '25', '6': '36', '7': '49', '8': '64', '9': '81', '10': '100', '11': '121', '12': '144', '13': '169', '14': '196', '15': '225', '16': '256', '17': '289', '18': '324', '19': '361', '20': '400'}\n",
      "\n",
      "0 1 1\n",
      "1 2 4\n",
      "2 3 9\n",
      "3 4 16\n",
      "4 5 25\n",
      "5 6 36\n",
      "6 7 49\n",
      "7 8 64\n",
      "8 9 81\n",
      "9 10 100\n",
      "10 11 121\n",
      "11 12 144\n",
      "12 13 169\n",
      "13 14 196\n",
      "14 15 225\n",
      "15 16 256\n",
      "16 17 289\n",
      "17 18 324\n",
      "18 19 361\n",
      "19 20 400\n",
      "\n",
      "1 4 9 16 25 36 49 64 81 100 121 144 169 196 225 256 289 324 361 400 \n",
      "\n",
      "{1: 'a', 2: 'B', 3: 'c', 4: 'D', 5: 'e', 6: 'F'}\n"
     ]
    }
   ],
   "source": [
    "def concatenate(**words):\n",
    "    result = \"\"\n",
    "    for arg in words.values():\n",
    "        result += arg + ' '\n",
    "    return result\n",
    "\n",
    "print(concatenate(a = 'Coding', b = 'in', c = 'Python', d = 'is', e = \"exciting!\"))\n",
    "print()\n",
    "Dict_1 = {str(i): str(i**2) for i in range(1,21)}\n",
    "print(Dict_1)\n",
    "print()\n",
    "for index, (k, v) in enumerate(Dict_1.items()):\n",
    "    print(index, k, v)\n",
    "print()\n",
    "print(concatenate(**Dict_1))\n",
    "print()\n",
    "Dict_2 = {1: 'a', 2: 'B', 3: 'c'}\n",
    "Dict_3 = {4: 'D', 5: 'e', 6: 'F'}\n",
    "Dict_4 = {**Dict_2, **Dict_3}\n",
    "print(Dict_4)"
   ]
  },
  {
   "cell_type": "code",
   "execution_count": 65,
   "metadata": {},
   "outputs": [
    {
     "name": "stdout",
     "output_type": "stream",
     "text": [
      "Return the absolute value of the argument.\n",
      "\n",
      "++++++++++++++++++++++++\n",
      "\n",
      "dict() -> new empty dictionary\n",
      "dict(mapping) -> new dictionary initialized from a mapping object's\n",
      "    (key, value) pairs\n",
      "dict(iterable) -> new dictionary initialized as if via:\n",
      "    d = {}\n",
      "    for k, v in iterable:\n",
      "        d[k] = v\n",
      "dict(**kwargs) -> new dictionary initialized with the name=value pairs\n",
      "    in the keyword argument list.  For example:  dict(one=1, two=2)\n",
      "\n",
      "++++++++++++++++++++++++\n",
      "\n",
      "Return a new list containing all items from the iterable in ascending order.\n",
      "\n",
      "A custom key function can be supplied to customize the sort order, and the\n",
      "reverse flag can be set to request the result in descending order.\n",
      "\n",
      "++++++++++++++++++++++++\n",
      "\n",
      "Equivalent to x**y (with two arguments) or x**y % z (with three arguments)\n",
      "\n",
      "Some types, such as ints, are able to use a more efficient algorithm when\n",
      "invoked using the three argument form.\n",
      "\n",
      "++++++++++++++++++++++++\n",
      "\n",
      "\n",
      "-------------------------\n",
      "\n",
      "81\n",
      "\n",
      "    param number: This is any integer number\n",
      "    param power: This is power over number\n",
      "    return: number to the power ---> power = number^power\n"
     ]
    }
   ],
   "source": [
    "print(abs.__doc__)\n",
    "print(\"\\n++++++++++++++++++++++++\\n\")\n",
    "print(dict.__doc__)\n",
    "print(\"\\n++++++++++++++++++++++++\\n\")\n",
    "print(sorted.__doc__)\n",
    "print(\"\\n++++++++++++++++++++++++\\n\")\n",
    "print(pow.__doc__)\n",
    "print(\"\\n++++++++++++++++++++++++\\n\")\n",
    "\n",
    "def power(number, power):\n",
    "    '''\n",
    "    param number: This is any integer number\n",
    "    param power: This is power over number\n",
    "    return: number to the power ---> power = number^power'''\n",
    "    \n",
    "    return number**power\n",
    "\n",
    "print(\"\\n-------------------------\\n\")\n",
    "print(power(3, 4))\n",
    "print(power.__doc__)"
   ]
  },
  {
   "cell_type": "code",
   "execution_count": null,
   "metadata": {},
   "outputs": [],
   "source": []
  }
 ],
 "metadata": {
  "kernelspec": {
   "display_name": "Python 3",
   "language": "python",
   "name": "python3"
  },
  "language_info": {
   "codemirror_mode": {
    "name": "ipython",
    "version": 3
   },
   "file_extension": ".py",
   "mimetype": "text/x-python",
   "name": "python",
   "nbconvert_exporter": "python",
   "pygments_lexer": "ipython3",
   "version": "3.7.4"
  }
 },
 "nbformat": 4,
 "nbformat_minor": 2
}
