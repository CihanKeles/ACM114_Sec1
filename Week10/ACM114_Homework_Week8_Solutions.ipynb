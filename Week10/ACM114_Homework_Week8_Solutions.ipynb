{
 "cells": [
  {
   "cell_type": "code",
   "execution_count": 11,
   "metadata": {},
   "outputs": [
    {
     "name": "stdout",
     "output_type": "stream",
     "text": [
      "Enter list1 elements: 1 ali Veli Python 3.14 True\n",
      "Longer than 5\n",
      "Enter list2 elements: You are doing good!\n",
      "Less than 5\n",
      "Enter an element for list3: To\n",
      "Enter an element for list3: be\n",
      "Enter an element for list3: or\n",
      "Enter an element for list3: not\n",
      "Enter an element for list3: to\n",
      "Enter an element for list3: be\n",
      "Enter an element for list3: ,\n",
      "Enter an element for list3: that's\n",
      "Enter an element for list3: the\n",
      "Enter an element for list3: question\n",
      "Enter an element for list3: !\n",
      "Enter an element for list3:  \n",
      "['To', 'be', 'or', 'not', 'to', 'be', ',', \"that's\", 'the', 'question', '!']\n",
      "Longer than 5\n",
      "['Corona', 1, 1.6000000000000002e-19, 'Foo fighters']\n",
      "Less than 5\n"
     ]
    }
   ],
   "source": [
    "def length(my_list):\n",
    "    if len(my_list) >= 5:\n",
    "        return \"Longer than 5\"\n",
    "    else:\n",
    "        return \"Less than 5\"\n",
    "    \n",
    "list1 = input(\"Enter list1 elements: \").split()\n",
    "print(length(list1))\n",
    "\n",
    "list2 = input(\"Enter list2 elements: \").split()\n",
    "print(length(list2))\n",
    "\n",
    "list3 = []\n",
    "e = input(\"Enter an element for list3: \")\n",
    "while e != \" \":\n",
    "    list3.append(e)\n",
    "    e = input(\"Enter an element for list3: \")\n",
    "    \n",
    "print(list3)\n",
    "print(length(list3))\n",
    "\n",
    "list4 = [\"Corona\", 1, 1.6*10**-19, 'Foo fighters']\n",
    "print(list4)\n",
    "print(length(list4))"
   ]
  },
  {
   "cell_type": "code",
   "execution_count": 5,
   "metadata": {},
   "outputs": [
    {
     "name": "stdout",
     "output_type": "stream",
     "text": [
      "Enter an integer: 9\n",
      "Less than 10.\n",
      "Enter an integer: 10\n",
      "Equal to 10.\n",
      "Enter an integer: 11\n",
      "Greater than 10.\n",
      "Enter an integer: -23\n",
      "Less than 10.\n",
      "Enter an integer: 10\n",
      "Equal to 10.\n",
      "Enter an integer: 210\n",
      "Greater than 10.\n"
     ]
    }
   ],
   "source": [
    "def num_test(number):\n",
    "    if int(number) > 10:\n",
    "        return \"Greater than 10.\"\n",
    "    elif int(number) < 10:\n",
    "        return \"Less than 10.\"\n",
    "    else:\n",
    "        return \"Equal to 10.\"\n",
    "\n",
    "for i in range(6):\n",
    "    n = input(\"Enter an integer: \")\n",
    "    print(num_test(n))"
   ]
  },
  {
   "cell_type": "code",
   "execution_count": 49,
   "metadata": {},
   "outputs": [
    {
     "name": "stdout",
     "output_type": "stream",
     "text": [
      "Enter an integer to calculate its number of digits (up to 10 digits): 4412537968\n",
      "\n",
      "10\n",
      "\n",
      "10\n",
      "\n",
      "1 st digit of number:  8\n",
      "2 nd digit of number:  6\n",
      "3 rd digit of number:  9\n",
      "4 th digit of number:  7\n",
      "5 th digit of number:  3\n",
      "6 th digit of number:  5\n",
      "7 th digit of number:  2\n",
      "8 th digit of number:  1\n",
      "9 th digit of number:  4\n",
      "10 th digit of number:  4\n",
      "\n",
      "1 st digit of number:  8\n",
      "2 nd digit of number:  6\n",
      "3 rd digit of number:  9\n",
      "4 th digit of number:  7\n",
      "5 th digit of number:  3\n",
      "6 th digit of number:  5\n",
      "7 th digit of number:  2\n",
      "8 th digit of number:  1\n",
      "9 th digit of number:  4\n",
      "10 th digit of number:  4\n",
      "None\n"
     ]
    }
   ],
   "source": [
    "def num_of_digits(number):\n",
    "    return len(str(number))\n",
    "\n",
    "def num_of_digits_while(number):\n",
    "    count = 0\n",
    "    while(number > 0):\n",
    "        number = number // 10\n",
    "        count += 1\n",
    "    return count\n",
    "\n",
    "def digits(number):\n",
    "    d = int(len(str(number)))\n",
    "    x = ''.join(reversed(str(number)))\n",
    "    for i in range(len(x)):\n",
    "        if i + 1 == 1:\n",
    "            print(i+1,\"st digit of number: \", x[i])\n",
    "        elif i + 1 == 2:\n",
    "            print(i+1,\"nd digit of number: \", x[i])\n",
    "        elif i + 1 == 3:\n",
    "            print(i+1,\"rd digit of number: \", x[i])\n",
    "        else:\n",
    "            print(i+1,\"th digit of number: \", x[i])\n",
    "            \n",
    "    print()\n",
    "            \n",
    "    for i in range(len(str(number))):\n",
    "        if i + 1 == 1:\n",
    "            print(i+1,\"st digit of number: \", int(number / 10**i) % 10)\n",
    "        elif i + 1 == 2:\n",
    "            print(i+1,\"nd digit of number: \", int(number / 10**i) % 10)\n",
    "        elif i + 1 == 3:\n",
    "            print(i+1,\"rd digit of number: \", int(number / 10**i) % 10)\n",
    "        else:\n",
    "            print(i+1,\"th digit of number: \", int(number / 10**i) % 10)\n",
    "    \n",
    "m = int(input(\"Enter an integer to calculate its number of digits (up to 10 digits): \"))\n",
    "print()\n",
    "print(num_of_digits(m))\n",
    "print()\n",
    "print(num_of_digits_while(m))\n",
    "print()\n",
    "print(digits(m))"
   ]
  },
  {
   "cell_type": "code",
   "execution_count": 51,
   "metadata": {},
   "outputs": [
    {
     "name": "stdout",
     "output_type": "stream",
     "text": [
      "Enter a string: Hello Cihan!\n",
      "!nahiC olleH\n"
     ]
    }
   ],
   "source": [
    "def reverse(astring):\n",
    "    # your code here\n",
    "    b=\"\"\n",
    "    for i in range(len(astring)):\n",
    "        b=b+astring[-(i+1)]\n",
    "    return b\n",
    "a=input(\"Enter a string: \")\n",
    "print(reverse(a))"
   ]
  },
  {
   "cell_type": "code",
   "execution_count": 52,
   "metadata": {},
   "outputs": [
    {
     "name": "stdout",
     "output_type": "stream",
     "text": [
      "Enter a string: Hello Python!\n",
      "Hello Python!!nohtyP olleH\n"
     ]
    }
   ],
   "source": [
    "str_1 = input(\"Enter a string: \")\n",
    "def mirror(string, Str1 = \"\", Str2 = \"\"):\n",
    "    for letter in string:\n",
    "        Str1 = Str1 + letter\n",
    "        Str2 = letter + Str2\n",
    "    return Str1 + Str2\n",
    "print(mirror(str_1))"
   ]
  },
  {
   "cell_type": "code",
   "execution_count": 53,
   "metadata": {},
   "outputs": [
    {
     "name": "stdout",
     "output_type": "stream",
     "text": [
      "Enter a string: Python is fun! Do you enjoy?\n",
      "Enter a letter: o\n",
      "Pythn is fun! D yu enjy?\n"
     ]
    }
   ],
   "source": [
    "def remove_letter(string, letter):\n",
    "    for i in string:\n",
    "        if i == letter:\n",
    "            string = string.replace(i,'')\n",
    "    return string\n",
    "theString=input(\"Enter a string: \")\n",
    "theLetter=input(\"Enter a letter: \")\n",
    "print(remove_letter(theString, theLetter))"
   ]
  },
  {
   "cell_type": "code",
   "execution_count": 55,
   "metadata": {},
   "outputs": [
    {
     "name": "stdout",
     "output_type": "stream",
     "text": [
      "[128, 651, 370, 456, 391, 488, 102, 408, 640, 717, 932, 580, 216, 380, 904, 685, 795, 572, 874, 785, 729, 887, 490, 908, 489, 516, 194, 889, 938, 471, 480, 816, 292, 988, 308, 690, 189, 838, 320, 379, 760, 239, 431, 191, 488, 120, 862, 871, 55, 710, 606, 760, 362, 818, 33, 973, 785, 402, 375, 168, 389, 119, 844, 491, 422, 512, 346, 74, 807, 78, 77, 484, 295, 657, 761, 612, 447, 662, 396, 622, 939, 488, 998, 218, 198, 906, 659, 178, 926, 669, 465, 207, 487, 484, 153, 242, 181, 189, 684, 822]\n",
      "998\n"
     ]
    }
   ],
   "source": [
    "import random\n",
    "def max(my_List):\n",
    "    max = 0\n",
    "    for e in my_List:\n",
    "        if e > max:\n",
    "            max = e\n",
    "    return max\n",
    "lst_1 = []\n",
    "for i in range(100):\n",
    "    lst_1.append(random.randint(0, 1000))\n",
    "print(lst_1)\n",
    "print(max(lst_1))"
   ]
  },
  {
   "cell_type": "code",
   "execution_count": 56,
   "metadata": {},
   "outputs": [
    {
     "name": "stdout",
     "output_type": "stream",
     "text": [
      "5\n"
     ]
    }
   ],
   "source": [
    "def countOdd(lst):\n",
    "    odd = 0\n",
    "    for e in lst:\n",
    "        if e % 2 != 0:\n",
    "            odd = odd + 1\n",
    "    return odd\n",
    "Lst=[3,5,1,6,8,7,11,14]\n",
    "print(countOdd(Lst))"
   ]
  },
  {
   "cell_type": "code",
   "execution_count": 58,
   "metadata": {},
   "outputs": [
    {
     "name": "stdout",
     "output_type": "stream",
     "text": [
      "Enter the length of your list: 10\n",
      "Enter an integer for the list: 2\n",
      "Enter an integer for the list: -2\n",
      "Enter an integer for the list: -12\n",
      "Enter an integer for the list: 12\n",
      "Enter an integer for the list: 8\n",
      "Enter an integer for the list: -8\n",
      "Enter an integer for the list: -23\n",
      "Enter an integer for the list: 23\n",
      "Enter an integer for the list: 10\n",
      "Enter an integer for the list: -10\n",
      "[2, -2, -12, 12, 8, -8, -23, 23, 10, -10]\n",
      "-55\n"
     ]
    }
   ],
   "source": [
    "def sumNegative(lst, total = 0):\n",
    "    for e in lst:\n",
    "        if e < 0:\n",
    "            total = total + e\n",
    "    return total\n",
    "Lst = []\n",
    "length = int(input(\"Enter the length of your list: \"))\n",
    "for i in range(length):\n",
    "    elem = int(input(\"Enter an integer for the list: \"))\n",
    "    Lst.append(elem)\n",
    "print(Lst)\n",
    "print(sumNegative(Lst))"
   ]
  },
  {
   "cell_type": "code",
   "execution_count": 59,
   "metadata": {},
   "outputs": [
    {
     "name": "stdout",
     "output_type": "stream",
     "text": [
      "Enter side 1 of the right triangle: 7\n",
      "Enter side 2 of the right triangle: 24\n",
      "25\n"
     ]
    }
   ],
   "source": [
    "def findHypot(side1, side2):\n",
    "    hypot = ((side1 ** 2) + (side2 ** 2)) ** 0.5\n",
    "    return int(hypot)\n",
    "\n",
    "s1 = int(input(\"Enter side 1 of the right triangle: \"))\n",
    "s2 = int(input(\"Enter side 2 of the right triangle: \"))\n",
    "print(findHypot(s1, s2))"
   ]
  },
  {
   "cell_type": "code",
   "execution_count": 61,
   "metadata": {},
   "outputs": [
    {
     "name": "stdout",
     "output_type": "stream",
     "text": [
      "Enter an integer to check whether it is an even number or not: 77\n",
      "False\n",
      "Enter an integer to check whether it is an even number or not: 3468\n",
      "True\n"
     ]
    }
   ],
   "source": [
    "def is_even(n):\n",
    "    if n % 2 == 0:\n",
    "        return True\n",
    "    else:\n",
    "        return False\n",
    "\n",
    "for i in range(2):\n",
    "    number = int(input(\"Enter an integer to check whether it is an even number or not: \"))\n",
    "    print(is_even(number))"
   ]
  },
  {
   "cell_type": "code",
   "execution_count": 65,
   "metadata": {},
   "outputs": [
    {
     "name": "stdout",
     "output_type": "stream",
     "text": [
      "Enter an integer: 27\n",
      "13.5 19.5\n",
      "19.5\n"
     ]
    }
   ],
   "source": [
    "def divide(n):\n",
    "    return n / 2\n",
    "\n",
    "def sum(m):\n",
    "    newNumber = divide(m)\n",
    "    print(newNumber, newNumber + 6)\n",
    "    return divide(m) + 6\n",
    "\n",
    "number = int(input(\"Enter an integer: \"))\n",
    "print(sum(number))"
   ]
  },
  {
   "cell_type": "code",
   "execution_count": null,
   "metadata": {},
   "outputs": [],
   "source": []
  }
 ],
 "metadata": {
  "kernelspec": {
   "display_name": "Python 3",
   "language": "python",
   "name": "python3"
  },
  "language_info": {
   "codemirror_mode": {
    "name": "ipython",
    "version": 3
   },
   "file_extension": ".py",
   "mimetype": "text/x-python",
   "name": "python",
   "nbconvert_exporter": "python",
   "pygments_lexer": "ipython3",
   "version": "3.7.4"
  }
 },
 "nbformat": 4,
 "nbformat_minor": 2
}
