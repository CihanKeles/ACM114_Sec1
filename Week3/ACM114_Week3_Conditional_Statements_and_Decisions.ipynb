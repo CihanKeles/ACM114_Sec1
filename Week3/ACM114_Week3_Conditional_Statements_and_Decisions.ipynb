{
 "cells": [
  {
   "cell_type": "markdown",
   "metadata": {},
   "source": [
    "# 1. Comparison operators"
   ]
  },
  {
   "cell_type": "markdown",
   "metadata": {},
   "source": [
    "Comparison operators are used to compare values. It either returns **True** or **False** according to the condition."
   ]
  },
  {
   "cell_type": "raw",
   "metadata": {},
   "source": [
    "                           Comparision operators in Python\n",
    "                           \n",
    "Operator\t   Meaning\t                                                          Example\n",
    "\n",
    "   >           Greater than - True if left operand is greater than the right\t  x > y\n",
    "   <           Less than - True if left operand is less than the right\t          x < y\n",
    "   ==\t       Equal to - True if both operands are equal\t                      x == y\n",
    "   !=\t       Not equal to - True if operands are not equal\t                  x != y\n",
    "   >=\t       Greater than or equal to - True if left operand is greater         x >= y\n",
    "               than or equal to the right\n",
    "   <=\t       Less than or equal to - True if left operand is less than          x <= y\n",
    "               or equal to the right"
   ]
  },
  {
   "cell_type": "code",
   "execution_count": 1,
   "metadata": {},
   "outputs": [
    {
     "name": "stdout",
     "output_type": "stream",
     "text": [
      "x > y  is False\n",
      "x < y  is True\n",
      "x == y is False\n",
      "x != y is True\n",
      "x >= y is False\n",
      "x <= y is True\n"
     ]
    }
   ],
   "source": [
    "x = 33\n",
    "y = 34\n",
    "\n",
    "# Output_1: x > y is False\n",
    "print('x > y  is',x>y)\n",
    "\n",
    "# Output_2: x < y is True\n",
    "print('x < y  is',x<y)\n",
    "\n",
    "# Output_3: x == y is False\n",
    "print('x == y is',x==y)\n",
    "\n",
    "# Output_4: x != y is True\n",
    "print('x != y is',x!=y)\n",
    "\n",
    "# Output_5: x >= y is False\n",
    "print('x >= y is',x>=y)\n",
    "\n",
    "# Output_6: x <= y is True\n",
    "print('x <= y is',x<=y)"
   ]
  },
  {
   "cell_type": "markdown",
   "metadata": {},
   "source": [
    "# 2. Logical operators"
   ]
  },
  {
   "cell_type": "markdown",
   "metadata": {},
   "source": [
    "Logical operators are the *and*, *or*, *not* operators."
   ]
  },
  {
   "cell_type": "raw",
   "metadata": {},
   "source": [
    "                            Logical operators in Python\n",
    "                            \n",
    "Operator\t   Meaning\t                                               Example\n",
    "\n",
    "  and\t       True if both the operands are true\t                   x and y\n",
    "  or\t       True if either of the operands is true\t               x or y\n",
    "  not\t       True if operand is false (complements the operand)\t   not x"
   ]
  },
  {
   "cell_type": "code",
   "execution_count": 2,
   "metadata": {},
   "outputs": [
    {
     "name": "stdout",
     "output_type": "stream",
     "text": [
      "x and y is False\n",
      "x or y is True\n",
      "not x is False\n"
     ]
    }
   ],
   "source": [
    "x = True\n",
    "y = False\n",
    "\n",
    "# Output_1: x and y is False\n",
    "print('x and y is',x and y)\n",
    "\n",
    "# Output_2: x or y is True\n",
    "print('x or y is',x or y)\n",
    "\n",
    "# Output_3: not x is False\n",
    "print('not x is',not x)"
   ]
  },
  {
   "cell_type": "markdown",
   "metadata": {},
   "source": [
    "# 3. Bitwise operators"
   ]
  },
  {
   "cell_type": "markdown",
   "metadata": {},
   "source": [
    "Bitwise operators act on operands as if they were string of binary digits. It operates bit by bit, hence the name.\n",
    "\n",
    "For example, **2** is *10* in binary and **7** is *111*.\n",
    "\n",
    "**In the table below**: Let **x = 10** (*0000 1010* in binary) and **y = 4** (*0000 0100* in binary)\n",
    "\n",
    "For more information, you can visit this site:\n",
    "\n",
    "https://www.tutorialspoint.com/computer_logical_organization/logic_gates.htm\n",
    "https://www.tutorialspoint.com/python/bitwise_operators_example.htm"
   ]
  },
  {
   "cell_type": "raw",
   "metadata": {},
   "source": [
    "              Bitwise operators in Python\n",
    "              \n",
    "Operator\t  Meaning\t               Example\n",
    "\n",
    "  &\t          Bitwise AND\t           x & y = 0 (0000 0000)\n",
    "  |\t          Bitwise OR\t           x | y = 14 (0000 1110)\n",
    "  ~\t          Bitwise NOT\t           ~x = -11 (1111 0101)\n",
    "  ^\t          Bitwise XOR\t           x ^ y = 14 (0000 1110)\n",
    "  >>\t      Bitwise right shift\t   x >> 2 = 2 (0000 0010)\n",
    "  <<\t      Bitwise left shift\t   x << 2 = 40 (0010 1000)"
   ]
  },
  {
   "cell_type": "markdown",
   "metadata": {},
   "source": [
    "# 4. Assignment operators"
   ]
  },
  {
   "cell_type": "markdown",
   "metadata": {},
   "source": [
    "Assignment operators are used in Python to assign values to variables.\n",
    "\n",
    "*x = 5* is a simple assignment operator that assigns the value **5** on the right to the variable a on the left.\n",
    "\n",
    "There are various compound operators in Python like *x += 5* that adds to the variable and later assigns the same. It is equivalent to *x = x + 5*."
   ]
  },
  {
   "cell_type": "raw",
   "metadata": {},
   "source": [
    "       Assignment operators in Python\n",
    "       \n",
    "Operator       Example       Equivatent to\n",
    "\n",
    "  =\t           x = 5\t     x = 5\n",
    "  +=\t       x += 5\t     x = x + 5\n",
    "  -=\t       x -= 5\t     x = x - 5\n",
    "  *=\t       x *= 5\t     x = x * 5\n",
    "  /=\t       x /= 5\t     x = x / 5\n",
    "  %=\t       x %= 5\t     x = x % 5\n",
    "  //=\t       x //= 5\t     x = x // 5\n",
    "  **=\t       x **= 5\t     x = x ** 5\n",
    "  &=\t       x &= 5\t     x = x & 5\n",
    "  |=\t       x |= 5\t     x = x | 5\n",
    "  ^=\t       x ^= 5\t     x = x ^ 5\n",
    "  >>=\t       x >>= 5\t     x = x >> 5\n",
    "  <<=\t       x <<= 5\t     x = x << 5"
   ]
  },
  {
   "cell_type": "markdown",
   "metadata": {},
   "source": [
    "# 5. Special operators"
   ]
  },
  {
   "cell_type": "markdown",
   "metadata": {},
   "source": [
    "Python language offers some special type of operators like the identity operator or the membership operator. They are described below with examples."
   ]
  },
  {
   "cell_type": "markdown",
   "metadata": {},
   "source": [
    "## 5.1. Identity operators"
   ]
  },
  {
   "cell_type": "markdown",
   "metadata": {},
   "source": [
    "*is* and *is not* are the identity operators in Python. They are used to check if two values (or variables) are located on the same part of the memory. Two variables that are equal does not imply that they are identical."
   ]
  },
  {
   "cell_type": "raw",
   "metadata": {},
   "source": [
    "                            Identity operators in Python\n",
    "                            \n",
    "Operator\t   Meaning\t                                                            Example\n",
    "\n",
    "  is\t       True if the operands are identical (refer to the same object)\t    x is True\n",
    "  is not\t   True if the operands are not identical (do not refer to the          x is not True     \n",
    "               same object)"
   ]
  },
  {
   "cell_type": "code",
   "execution_count": 3,
   "metadata": {},
   "outputs": [
    {
     "name": "stdout",
     "output_type": "stream",
     "text": [
      "False\n",
      "True\n",
      "False\n"
     ]
    }
   ],
   "source": [
    "x1 = 5\n",
    "y1 = 5\n",
    "x2 = 'Hello'\n",
    "y2 = 'Hello'\n",
    "x3 = [1,2,3]\n",
    "y3 = [1,2,3]\n",
    "\n",
    "# Output_1: False\n",
    "print(x1 is not y1)\n",
    "\n",
    "# Output_2: True\n",
    "print(x2 is y2)\n",
    "\n",
    "# Output_3: False\n",
    "print(x3 is y3)"
   ]
  },
  {
   "cell_type": "markdown",
   "metadata": {},
   "source": [
    "**x3** and **y3** are lists. They are *equal* but *not identical*. It is because interpreter locates them separately in *memory* although they are *equal*."
   ]
  },
  {
   "cell_type": "markdown",
   "metadata": {},
   "source": [
    "# 5.2. Membership operators"
   ]
  },
  {
   "cell_type": "markdown",
   "metadata": {},
   "source": [
    "*in* and *not in* are the membership operators in Python. They are used to test whether a value or variable is found in a sequence (string, list, tuple, set and dictionary).\n",
    "\n",
    "**In a dictionary we can only test for presence of key, not the value.**"
   ]
  },
  {
   "cell_type": "raw",
   "metadata": {},
   "source": [
    "Operator\t   Meaning\t                                                 Example\n",
    "\n",
    "  in\t       True if value/variable is found in the sequence\t         5 in x\n",
    "  not in\t   True if value/variable is not found in the sequence\t     5 not in x"
   ]
  },
  {
   "cell_type": "code",
   "execution_count": 5,
   "metadata": {},
   "outputs": [
    {
     "name": "stdout",
     "output_type": "stream",
     "text": [
      "True\n",
      "True\n",
      "True\n",
      "False\n",
      "True False False True False\n"
     ]
    }
   ],
   "source": [
    "x = 'Hello world'\n",
    "y = {1:'a',2:'b'}\n",
    "z = [1, 'ali', \"23\", 7.5]\n",
    "\n",
    "# Output_1: True\n",
    "print('H' in x)\n",
    "\n",
    "# Output_2: True\n",
    "print('hello' not in x)\n",
    "\n",
    "# Output_3: True\n",
    "print(1 in y)\n",
    "\n",
    "# Output_4: False\n",
    "print('a' in y)\n",
    "\n",
    "# Output_5: True False False True False\n",
    "print(1 in z, 'ali' not in z, 23 in z, '23' in z, 7.5 not in z)"
   ]
  },
  {
   "cell_type": "markdown",
   "metadata": {},
   "source": [
    "# 6. Python if...else Statement"
   ]
  },
  {
   "cell_type": "markdown",
   "metadata": {},
   "source": [
    "Decision making is required when we want to execute a code only if a certain condition is satisfied.\n",
    "\n",
    "The **if…elif…else** statement is used in Python for decision making."
   ]
  },
  {
   "cell_type": "markdown",
   "metadata": {},
   "source": [
    "## Python if Statement Syntax"
   ]
  },
  {
   "cell_type": "raw",
   "metadata": {},
   "source": [
    "if test expression:\n",
    "    statement(s)"
   ]
  },
  {
   "cell_type": "markdown",
   "metadata": {},
   "source": [
    "Here, the program evaluates the test expression and will execute statement(s) only if the text expression is **True**.\n",
    "\n",
    "If the text expression is **False**, the statement(s) is **not executed**.\n",
    "\n",
    "In Python, the body of the *if statement* is indicated by the *indentation*. Body starts with an *indentation* and the first *unindented* line marks **the end**.\n",
    "\n",
    "Python interprets *non-zero values* as **True**. *None* and *0* are interpreted as **False**."
   ]
  },
  {
   "cell_type": "code",
   "execution_count": 6,
   "metadata": {},
   "outputs": [
    {
     "name": "stdout",
     "output_type": "stream",
     "text": [
      "7 is a positive number.\n",
      "This is always printed.\n",
      "This is also always printed.\n"
     ]
    }
   ],
   "source": [
    "# If the number is positive, we print an appropriate message\n",
    "\n",
    "num = 7\n",
    "if num > 0:\n",
    "    print(num, \"is a positive number.\")\n",
    "print(\"This is always printed.\")\n",
    "\n",
    "num = -7\n",
    "if num > 0:\n",
    "    print(num, \"is a positive number.\")\n",
    "print(\"This is also always printed.\")"
   ]
  },
  {
   "cell_type": "markdown",
   "metadata": {},
   "source": [
    "### Examples for Python if statement"
   ]
  },
  {
   "cell_type": "code",
   "execution_count": 11,
   "metadata": {},
   "outputs": [
    {
     "name": "stdout",
     "output_type": "stream",
     "text": [
      "b is greater than a\n"
     ]
    }
   ],
   "source": [
    "a = 33\n",
    "b = 200\n",
    "if b > a:\n",
    "    print(\"b is greater than a\")"
   ]
  },
  {
   "cell_type": "code",
   "execution_count": 8,
   "metadata": {},
   "outputs": [
    {
     "name": "stdout",
     "output_type": "stream",
     "text": [
      "Num is smaller than 10\n",
      "This statements will always be executed\n"
     ]
    }
   ],
   "source": [
    "Num = 5\n",
    "if(Num < 10):\n",
    "    print(\"Num is smaller than 10\")\n",
    "    \n",
    "print(\"This statements will always be executed\")"
   ]
  },
  {
   "cell_type": "code",
   "execution_count": 20,
   "metadata": {},
   "outputs": [
    {
     "name": "stdout",
     "output_type": "stream",
     "text": [
      "yes\n",
      "yes\n",
      "yes\n",
      "yes\n"
     ]
    }
   ],
   "source": [
    "x = 0\n",
    "y = 5\n",
    "\n",
    "if x < y:                            # True\n",
    "    print('yes')\n",
    "\n",
    "if y < x:                            # False\n",
    "    print('yes')\n",
    "\n",
    "if x:                                # False\n",
    "    print('yes')\n",
    "\n",
    "if y:                                # True\n",
    "    print('yes')\n",
    "\n",
    "if x or y:                           # True\n",
    "    print('yes')\n",
    "\n",
    "if x and y:                          # False\n",
    "    print('yes')\n",
    "\n",
    "if 'aul' in 'grault':                # True\n",
    "    print('yes')\n",
    "\n",
    "if 'quux' in ['foo', 'bar', 'baz']:  # False\n",
    "    print('yes')"
   ]
  },
  {
   "cell_type": "code",
   "execution_count": 17,
   "metadata": {},
   "outputs": [
    {
     "name": "stdout",
     "output_type": "stream",
     "text": [
      "a is greater than b\n",
      "b is greater than a\n",
      "true\n"
     ]
    }
   ],
   "source": [
    "a = 7\n",
    "b = 0\n",
    "if (a > b):\n",
    "    print(\"a is greater than b\")\n",
    "    \n",
    "if (b < a):\n",
    "    print(\"b is greater than a\")\n",
    "        \n",
    "if(a):\n",
    "    print(\"true\")\n",
    "    # print(True)"
   ]
  },
  {
   "cell_type": "code",
   "execution_count": 18,
   "metadata": {},
   "outputs": [
    {
     "name": "stdout",
     "output_type": "stream",
     "text": [
      "true\n"
     ]
    }
   ],
   "source": [
    "if ('python' in ['Java', 'python', 'C#']):\n",
    "    print(\"true\")"
   ]
  },
  {
   "cell_type": "code",
   "execution_count": 21,
   "metadata": {},
   "outputs": [
    {
     "name": "stdout",
     "output_type": "stream",
     "text": [
      "After conditional\n"
     ]
    }
   ],
   "source": [
    "%run foo.py"
   ]
  },
  {
   "cell_type": "code",
   "execution_count": 22,
   "metadata": {},
   "outputs": [
    {
     "name": "stdout",
     "output_type": "stream",
     "text": [
      "Outer condition is true\n",
      "Between inner conditions\n",
      "Inner condition 2\n",
      "End of outer condition\n",
      "After outer condition\n"
     ]
    }
   ],
   "source": [
    "%run blocks.py"
   ]
  },
  {
   "cell_type": "code",
   "execution_count": 26,
   "metadata": {},
   "outputs": [
    {
     "name": "stdout",
     "output_type": "stream",
     "text": [
      "Enter your score:75\n",
      "Congratulations!!!\n",
      "You are passed in the exam\n",
      "You are passed in the exam\n",
      "Congratulations!!!\n"
     ]
    }
   ],
   "source": [
    "passingScore = 60\n",
    "myScore = int(input(\"Enter your score:\"))\n",
    "if(myScore >= passingScore):\n",
    "    print(\"Congratulations!!!\")\n",
    "    print(\"You are passed in the exam\")\n",
    "\n",
    "# Alternatively:\n",
    "\n",
    "if(myScore >= passingScore):\n",
    "    print(\"You are passed in the exam\")\n",
    "print(\"Congratulations!!!\")"
   ]
  },
  {
   "cell_type": "markdown",
   "metadata": {},
   "source": [
    "**Problem 1 : Write the code that calculates the cost of a 14 km taxi ride and prints the result on the screen. If the distance traveled is less than or equal to 12 km, the cost is \\\\$ 2.00 / km and if the distance traveled is more than 12 km, the cost is \\\\$ 1.50 / km.**"
   ]
  },
  {
   "cell_type": "markdown",
   "metadata": {},
   "source": [
    "**Solution 1:**"
   ]
  },
  {
   "cell_type": "code",
   "execution_count": 27,
   "metadata": {},
   "outputs": [
    {
     "name": "stdout",
     "output_type": "stream",
     "text": [
      "Total cost of the travel: 21.0\n"
     ]
    }
   ],
   "source": [
    "distance = 14\n",
    "# Define conditions\n",
    "if distance <= 12:\n",
    "    rate = 2.00\n",
    "if distance > 12:\n",
    "    rate = 1.50\n",
    "# Calculate the cost of travel\n",
    "total_cost = distance * rate\n",
    "print(\"Total cost of the travel: \" + str(total_cost))"
   ]
  },
  {
   "cell_type": "code",
   "execution_count": 30,
   "metadata": {},
   "outputs": [
    {
     "name": "stdout",
     "output_type": "stream",
     "text": [
      "Please enter a number between 1 and 10 --> 5\n",
      "The number you entered is valid\n",
      "Process completed\n"
     ]
    }
   ],
   "source": [
    "x = int(input(\"Please enter a number between 1 and 10 --> \"))\n",
    "if x >= 1 and x <= 10:\n",
    "    print (\"The number you entered is valid\")\n",
    "print (\"Process completed\")"
   ]
  },
  {
   "cell_type": "code",
   "execution_count": 31,
   "metadata": {},
   "outputs": [
    {
     "name": "stdout",
     "output_type": "stream",
     "text": [
      "enter 1 if room is clean, 0 if not clean --> 1\n",
      "Enter 1 if homework is over, 0 otherwise --> 0\n",
      "You can go out!\n",
      "Process completed\n"
     ]
    }
   ],
   "source": [
    "clearRoom = int(input(\"enter 1 if room is clean, 0 if not clean --> \"))\n",
    "finishedHomework = int(input(\"Enter 1 if homework is over, 0 otherwise --> \"))\n",
    "if clearRoom or finishedHomework:\n",
    "    print (\"You can go out!\")\n",
    "print (\"Process completed\")"
   ]
  },
  {
   "cell_type": "code",
   "execution_count": 33,
   "metadata": {},
   "outputs": [
    {
     "name": "stdout",
     "output_type": "stream",
     "text": [
      "Weight: 0.5\n",
      "Price: 1.45\n",
      "Total: 0.725\n"
     ]
    }
   ],
   "source": [
    "weight = 0.5\n",
    "if weight < 1:\n",
    "    price = 1.45\n",
    "if weight > 1:\n",
    "    price = 1.15\n",
    "total = weight * price\n",
    "print(\"Weight:\", weight)\n",
    "print(\"Price:\", price)\n",
    "print(\"Total:\", total)"
   ]
  },
  {
   "cell_type": "code",
   "execution_count": 2,
   "metadata": {},
   "outputs": [
    {
     "name": "stdout",
     "output_type": "stream",
     "text": [
      "Enter the weight:0.75\n",
      "Enter the number:15\n",
      "Weight: 0.75\n",
      "Price: 1.45\n",
      "Total: 0.9787499999999999\n"
     ]
    }
   ],
   "source": [
    "weight = float(input(\"Enter the weight:\"))\n",
    "number = int(input(\"Enter the number:\"))\n",
    "if weight < 1:\n",
    "    price = 1.45\n",
    "if weight >= 1:\n",
    "    price= 1.15\n",
    "total = weight * price\n",
    "if number >= 10:\n",
    "    total = total * 0.9\n",
    "print(\"Weight:\", weight)\n",
    "print(\"Price:\", price)\n",
    "print(\"Total:\", total)"
   ]
  },
  {
   "cell_type": "markdown",
   "metadata": {},
   "source": [
    "**Problem 2: What will appear on the screen when the code below executes?**"
   ]
  },
  {
   "cell_type": "raw",
   "metadata": {},
   "source": [
    "score = 93\n",
    "if score >= 90:\n",
    "    grade = \"A\"\n",
    "if score >= 80:\n",
    "    grade = \"B\"\n",
    "if score >= 70:\n",
    "    grade = \"C\"\n",
    "if score >= 60:\n",
    "    grade = \"D\"\n",
    "if score < 60:\n",
    "    grade = \"E\"\n",
    "print(\"Grade: \", grade)"
   ]
  },
  {
   "cell_type": "raw",
   "metadata": {},
   "source": [
    "A. A\n",
    "B. B\n",
    "C. C\n",
    "D. D\n",
    "E. E"
   ]
  },
  {
   "cell_type": "markdown",
   "metadata": {},
   "source": [
    "**Problem 3: Which of the following is true according to the code given?**"
   ]
  },
  {
   "cell_type": "raw",
   "metadata": {},
   "source": [
    "x = 3\n",
    "if (x > 2):\n",
    "    x = x * 2\n",
    "if (x > 4):\n",
    "    x = 0\n",
    "print(x)"
   ]
  },
  {
   "cell_type": "raw",
   "metadata": {},
   "source": [
    "A. After this code executes with any x value, x will always be equal to 0.\n",
    "B. If x is greater than 2, the last value of x will be double.\n",
    "C. If x is greater than 2, the last value of x will be 0."
   ]
  },
  {
   "cell_type": "markdown",
   "metadata": {},
   "source": [
    "## Python if...else Statement Syntax"
   ]
  },
  {
   "cell_type": "raw",
   "metadata": {},
   "source": [
    "if <expr>:\n",
    "    <statement(s)>\n",
    "else:\n",
    "    <statement(s)>"
   ]
  },
  {
   "cell_type": "markdown",
   "metadata": {},
   "source": [
    "The *if..else statement* evaluates test expression and will execute body of if only when test condition is True.\n",
    "\n",
    "If the condition is **False**, *body of else* is **executed**. *Indentation* is used to separate the blocks."
   ]
  },
  {
   "cell_type": "code",
   "execution_count": 4,
   "metadata": {},
   "outputs": [
    {
     "name": "stdout",
     "output_type": "stream",
     "text": [
      "Positive or Zero\n"
     ]
    }
   ],
   "source": [
    "# Program checks if the number is positive or negative\n",
    "# And displays an appropriate message\n",
    "\n",
    "num = 7\n",
    "\n",
    "# Try these two variations as well. \n",
    "# num = -5\n",
    "# num = 0\n",
    "\n",
    "if num >= 0:\n",
    "    print(\"Positive or Zero\")\n",
    "else:\n",
    "    print(\"Negative number\")"
   ]
  },
  {
   "cell_type": "markdown",
   "metadata": {},
   "source": [
    "### Examples for Python if...else statement"
   ]
  },
  {
   "cell_type": "code",
   "execution_count": 9,
   "metadata": {},
   "outputs": [
    {
     "name": "stdout",
     "output_type": "stream",
     "text": [
      "b is not greater than a\n",
      "b is smaller than a\n"
     ]
    }
   ],
   "source": [
    "a = 200\n",
    "b = 33\n",
    "if b > a:\n",
    "    print(\"b is greater than a\")\n",
    "else:\n",
    "    print(\"b is not greater than a\")\n",
    "if (a < b):\n",
    "    print(\"a is smaller than b\")\n",
    "else:\n",
    "    print(\"b is smaller than a\")"
   ]
  },
  {
   "cell_type": "code",
   "execution_count": 7,
   "metadata": {},
   "outputs": [
    {
     "name": "stdout",
     "output_type": "stream",
     "text": [
      "number is less than 10\n",
      "This statement will always be executed\n"
     ]
    }
   ],
   "source": [
    "num = 7\n",
    "if(num > 10):\n",
    "     print(\"number is greater than 10\")\n",
    "else:\n",
    "     print(\"number is less than 10\")\n",
    "\n",
    "print(\"This statement will always be executed\")"
   ]
  },
  {
   "cell_type": "code",
   "execution_count": 11,
   "metadata": {},
   "outputs": [
    {
     "name": "stdout",
     "output_type": "stream",
     "text": [
      "Enter your score:45\n",
      "Sorry!!!\n",
      "You are failed in the exam, better luck next time\n"
     ]
    }
   ],
   "source": [
    "passingScore = 60\n",
    "myScore = int(input(\"Enter your score:\"))\n",
    "if(myScore >= passingScore):\n",
    "    print(\"Congratulations!!!\")\n",
    "    print(\"You are passed in the exam\")\n",
    "else:\n",
    "    print(\"Sorry!!!\")\n",
    "    print(\"You are failed in the exam, better luck next time\")"
   ]
  },
  {
   "cell_type": "code",
   "execution_count": 13,
   "metadata": {},
   "outputs": [
    {
     "name": "stdout",
     "output_type": "stream",
     "text": [
      "Enter the vacation number: 123\n",
      "(second suite)\n",
      "x is large\n"
     ]
    }
   ],
   "source": [
    "x = input(\"Enter the vacation number: \")\n",
    "\n",
    "if int(x) < 50:\n",
    "    print('(first suite)')\n",
    "    print('x is small')\n",
    "else:\n",
    "    print('(second suite)')\n",
    "    print('x is large')"
   ]
  },
  {
   "cell_type": "code",
   "execution_count": 18,
   "metadata": {},
   "outputs": [
    {
     "name": "stdout",
     "output_type": "stream",
     "text": [
      "Enter the weight: 1\n",
      "Weight:  1.0\n",
      "Price:  1.15\n",
      "Total:  1.15\n"
     ]
    }
   ],
   "source": [
    "weight = float(input(\"Enter the weight: \"))\n",
    "if weight < 1:\n",
    "    price = 1.45\n",
    "else:\n",
    "    price = 1.15\n",
    "total = weight * price\n",
    "print(\"Weight: \", weight)\n",
    "print(\"Price: \", price)\n",
    "print(\"Total: \", total)"
   ]
  },
  {
   "cell_type": "code",
   "execution_count": 27,
   "metadata": {},
   "outputs": [
    {
     "name": "stdout",
     "output_type": "stream",
     "text": [
      "Enter a value to check that is even or odd number: -7\n",
      "-7 is a negative number please enter positive value!\n",
      "Enter a value to check that is even or odd number: 23\n",
      "23 is odd number.\n"
     ]
    }
   ],
   "source": [
    "x = int(input(\"Enter a value to check that is even or odd number: \"))\n",
    "if x < 0:\n",
    "    print(\"{} is a negative number please enter positive value!\".format(x))\n",
    "    x = int(input(\"Enter a value to check that is even or odd number: \"))\n",
    "if x % 2 == 0:\n",
    "    print(x,\" is even number.\")\n",
    "else:\n",
    "    print(\"%d is odd number.\" %x)"
   ]
  },
  {
   "cell_type": "markdown",
   "metadata": {},
   "source": [
    "## Python if...elif...else Statement and Syntax"
   ]
  },
  {
   "cell_type": "raw",
   "metadata": {},
   "source": [
    "if <expr>:\n",
    "    <statement(s)>\n",
    "elif <expr>:\n",
    "    <statement(s)>\n",
    "elif <expr>:\n",
    "    <statement(s)>\n",
    "    ...\n",
    "else:\n",
    "    <statement(s)>"
   ]
  },
  {
   "cell_type": "markdown",
   "metadata": {},
   "source": [
    "The **elif** is *short* for **else if**. It allows us to check for multiple expressions.\n",
    "\n",
    "If the condition for if is **False**, it checks the condition of the next **elif** block and so on.\n",
    "\n",
    "If all the conditions are **False**, body of *else* is **executed**.\n",
    "\n",
    "Only one block among the several *if...elif...else blocks* is executed according to the condition.\n",
    "\n",
    "The **if** block can have **only one else block**. But it can have **multiple elif blocks**."
   ]
  },
  {
   "cell_type": "code",
   "execution_count": 28,
   "metadata": {},
   "outputs": [
    {
     "name": "stdout",
     "output_type": "stream",
     "text": [
      "Positive number\n"
     ]
    }
   ],
   "source": [
    "# In this program, \n",
    "# we check if the number is positive or\n",
    "# negative or zero and \n",
    "# display an appropriate message\n",
    "\n",
    "num = 3.4\n",
    "\n",
    "# Try these two variations as well:\n",
    "# num = 0\n",
    "# num = -4.5\n",
    "\n",
    "if num > 0:\n",
    "    print(\"Positive number\")\n",
    "elif num == 0:\n",
    "    print(\"Zero\")\n",
    "else:\n",
    "    print(\"Negative number\")"
   ]
  },
  {
   "cell_type": "markdown",
   "metadata": {},
   "source": [
    "### Examples for Python if...elif...else statement"
   ]
  },
  {
   "cell_type": "code",
   "execution_count": 30,
   "metadata": {},
   "outputs": [
    {
     "name": "stdout",
     "output_type": "stream",
     "text": [
      "a and b are equal\n"
     ]
    }
   ],
   "source": [
    "a = 33\n",
    "b = 33\n",
    "if b > a:\n",
    "    print(\"b is greater than a\")\n",
    "elif a == b:\n",
    "    print(\"a and b are equal\")"
   ]
  },
  {
   "cell_type": "code",
   "execution_count": 31,
   "metadata": {},
   "outputs": [
    {
     "name": "stdout",
     "output_type": "stream",
     "text": [
      "a is greater than b\n"
     ]
    }
   ],
   "source": [
    "a = 200\n",
    "b = 33\n",
    "if b > a:\n",
    "    print(\"b is greater than a\")\n",
    "elif a == b:\n",
    "    print(\"a and b are equal\")\n",
    "else:\n",
    "    print(\"a is greater than b\")"
   ]
  },
  {
   "cell_type": "code",
   "execution_count": 32,
   "metadata": {},
   "outputs": [
    {
     "name": "stdout",
     "output_type": "stream",
     "text": [
      "Number is greater than 5\n"
     ]
    }
   ],
   "source": [
    "num = 10\n",
    "if (num == 0):\n",
    "    print(\"Number is Zero\")\n",
    "elif (num > 5):\n",
    "    print(\"Number is greater than 5\")\n",
    "else:\n",
    "    print(\"Number is smaller than 5\")"
   ]
  },
  {
   "cell_type": "code",
   "execution_count": 36,
   "metadata": {},
   "outputs": [
    {
     "name": "stdout",
     "output_type": "stream",
     "text": [
      "Number is negative\n"
     ]
    }
   ],
   "source": [
    "num = -7\n",
    "if (num >= 0):\n",
    "    print(\"Number is positive\")\n",
    "elif (num <= 0):\n",
    "    print(\"Number is negative\")\n",
    "else:\n",
    "    print(\"Number is Zero\")"
   ]
  },
  {
   "cell_type": "code",
   "execution_count": 37,
   "metadata": {},
   "outputs": [
    {
     "name": "stdout",
     "output_type": "stream",
     "text": [
      "Hello Joe\n"
     ]
    }
   ],
   "source": [
    "name = 'Joe'\n",
    "if name == 'Fred':\n",
    "    print('Hello Fred')\n",
    "elif name == 'Xander':\n",
    "    print('Hello Xander')\n",
    "elif name == 'Joe':\n",
    "    print('Hello Joe')\n",
    "elif name == 'Arnold':\n",
    "    print('Hello Arnold')\n",
    "else:\n",
    "    print(\"I don't know who you are!\")"
   ]
  },
  {
   "cell_type": "code",
   "execution_count": 38,
   "metadata": {},
   "outputs": [
    {
     "name": "stdout",
     "output_type": "stream",
     "text": [
      "Hello Joe\n",
      "I don't know who you are!\n"
     ]
    }
   ],
   "source": [
    "names = { 'Fred': 'Hello Fred',\n",
    "        'Xander': 'Hello Xander',\n",
    "        'Joe': 'Hello Joe',\n",
    "        'Arnold': 'Hello Arnold'}\n",
    "print(names.get('Joe', \"I don't know who you are!\"))\n",
    "print(names.get('Rick', \"I don't know who you are!\"))"
   ]
  },
  {
   "cell_type": "code",
   "execution_count": 48,
   "metadata": {},
   "outputs": [
    {
     "name": "stdout",
     "output_type": "stream",
     "text": [
      "foo\n"
     ]
    }
   ],
   "source": [
    "var = 0\n",
    "if 'a' in 'bar':\n",
    "    print('foo')\n",
    "elif var/1 != 0:\n",
    "    print(\"This won't happen\")\n",
    "elif var is not 1:\n",
    "    print(\"This won't either\")"
   ]
  },
  {
   "cell_type": "code",
   "execution_count": 54,
   "metadata": {},
   "outputs": [
    {
     "name": "stdout",
     "output_type": "stream",
     "text": [
      "Enter an integer value: 3\n",
      "3 is a pozitive number.\n"
     ]
    }
   ],
   "source": [
    "x = int(input(\"Enter an integer value: \"))\n",
    "if x < 0:\n",
    "    print(x,\" is a negative number.\")\n",
    "elif x == 0:\n",
    "    print(\"Value is %d.\" %x)\n",
    "else:\n",
    "    print(\"{} is a pozitive number.\".format(x))"
   ]
  },
  {
   "cell_type": "code",
   "execution_count": 7,
   "metadata": {},
   "outputs": [
    {
     "name": "stdout",
     "output_type": "stream",
     "text": [
      "Enter a float number of x between 0 and 1: 0.678925\n",
      "x is in the third quarter --> .5 <  0.678925  <= .75\n"
     ]
    }
   ],
   "source": [
    "x = float(input(\"Enter a float number of x between 0 and 1: \"))\n",
    "if x <= .25:\n",
    "    print(\"x is in the first quarter --> %.3f <= .25\" %x)\n",
    "elif x <= .5:\n",
    "    print(\"x is in the second quarter --> .25 < {} <= .5\".format(x))\n",
    "elif x <= .75:\n",
    "    print(\"x is in the third quarter --> .5 < \",x,\" <= .75\")\n",
    "else:\n",
    "    print(\"x is in the fourth quarter --> .75 < {} <= 1\".format(x))"
   ]
  },
  {
   "cell_type": "code",
   "execution_count": 18,
   "metadata": {},
   "outputs": [
    {
     "name": "stdout",
     "output_type": "stream",
     "text": [
      "1 ve 5 arasında bir sayı giriniz: 5\n",
      "Sınavdan çok yüksek not alacaksınız\n"
     ]
    }
   ],
   "source": [
    "sayi = input (\"1 ve 5 arasında bir sayı giriniz: \")\n",
    "if sayi == \"1\":\n",
    "    print(\"Bir tehdit alacaksınız\")\n",
    "elif sayi == \"2\":\n",
    "    print(\"Bir şeyinizi kaybedeceksiniz\")\n",
    "elif sayi == \"3\":\n",
    "    print(\"Yeni birisi ile tanışacaksınız\")\n",
    "elif sayi == \"4\":\n",
    "    print(\"Grip olacaksınız\")\n",
    "else:\n",
    "    print(\"Sınavdan çok yüksek not alacaksınız\")"
   ]
  },
  {
   "cell_type": "code",
   "execution_count": 19,
   "metadata": {},
   "outputs": [
    {
     "name": "stdout",
     "output_type": "stream",
     "text": [
      "1 ile 81 arasında bir sayı giriniz: 120\n",
      "Türkiye’de sadece 81 şehir olduğunu bilmiyor olamazsın?\n"
     ]
    }
   ],
   "source": [
    "sehirSayisi = int(input (\"1 ile 81 arasında bir sayı giriniz: \"))\n",
    "if sehirSayisi < 10 :\n",
    "    print(\"Öğrencisin galiba?\")\n",
    "elif sehirSayisi < 25:\n",
    "    print(\"Otostop yapmak bence de güzel bir şey\")\n",
    "elif sehirSayisi < 81:\n",
    "    print(\"Hangi şirkette çalışıyorsunuz?\")\n",
    "elif sehirSayisi == 81:\n",
    "    print(\"Evliya Çelebi ile bir akrabalığın var mı acaba?\")\n",
    "else:\n",
    "    print(\"Türkiye’de sadece 81 şehir olduğunu bilmiyor olamazsın?\")"
   ]
  },
  {
   "cell_type": "code",
   "execution_count": 32,
   "metadata": {},
   "outputs": [
    {
     "name": "stdout",
     "output_type": "stream",
     "text": [
      "Enter your grade (between 0 and 100): 20\n",
      "Sorry!!!, You are failed in the exam\n"
     ]
    }
   ],
   "source": [
    "myMark = int(input(\"Enter your grade (between 0 and 100): \"))\n",
    "if (myMark < 35): print(\"Sorry!!!, You are failed in the exam\")\n",
    "elif(myMark < 60): print(\"Passed in Second class\") \n",
    "elif(myMark > 60 and myMark < 85): print(\"Passed in First class\")\n",
    "else: print(\"Passed in First class with distinction\")"
   ]
  },
  {
   "cell_type": "markdown",
   "metadata": {},
   "source": [
    "## Python Nested if statements"
   ]
  },
  {
   "cell_type": "markdown",
   "metadata": {},
   "source": [
    "We can have a *if...elif...else statement* inside another *if...elif...else statement*. This is called **nesting** in computer programming.\n",
    "\n",
    "Any number of these statements can be *nested* inside one another. *Indentation* is the only way to figure out the level of **nesting**. This can get confusing, so must be avoided if we can."
   ]
  },
  {
   "cell_type": "code",
   "execution_count": 22,
   "metadata": {},
   "outputs": [
    {
     "name": "stdout",
     "output_type": "stream",
     "text": [
      "Enter a number: -9.8\n",
      "Negative number\n"
     ]
    }
   ],
   "source": [
    "# In this program, we input a number\n",
    "# check if the number is positive or\n",
    "# negative or zero and display\n",
    "# an appropriate message\n",
    "# This time we use nested if\n",
    "\n",
    "num = float(input(\"Enter a number: \"))\n",
    "if num >= 0:\n",
    "    if num == 0:\n",
    "        print(\"Zero\")\n",
    "    else:\n",
    "        print(\"Positive number\")\n",
    "else:\n",
    "    print(\"Negative number\")"
   ]
  },
  {
   "cell_type": "code",
   "execution_count": 23,
   "metadata": {},
   "outputs": [
    {
     "name": "stdout",
     "output_type": "stream",
     "text": [
      "Number is greater than Zero\n"
     ]
    }
   ],
   "source": [
    "num = 7\n",
    "if (num != 0):\n",
    "    if (num > 0):\n",
    "        print(\"Number is greater than Zero\")"
   ]
  },
  {
   "cell_type": "code",
   "execution_count": 24,
   "metadata": {},
   "outputs": [
    {
     "name": "stdout",
     "output_type": "stream",
     "text": [
      "Python is present in the list\n",
      "Java is present in the list\n",
      "C# is present in the list\n",
      "Perl is not present in the list\n"
     ]
    }
   ],
   "source": [
    "if ('Python' in ['Java', 'Python', 'C#']):\n",
    "    print(\"Python is present in the list\")\n",
    "    if ('Java' in ['Java', 'Python', 'C#']):\n",
    "        print(\"Java is present in the list\")\n",
    "        if ('C#' in ['Java', 'Python', 'C#']):\n",
    "            print(\"C# is present in the list\")\n",
    "            if('Perl' not in ['Java', 'Python', 'C#']):\n",
    "                print(\"Perl is not present in the list\")"
   ]
  },
  {
   "cell_type": "code",
   "execution_count": 38,
   "metadata": {},
   "outputs": [
    {
     "name": "stdout",
     "output_type": "stream",
     "text": [
      "Enter the cost value of your trade: 100\n",
      "Enter your country (US or TR): TR\n",
      "FREE\n"
     ]
    }
   ],
   "source": [
    "%run nestedIF_example.py"
   ]
  },
  {
   "cell_type": "markdown",
   "metadata": {},
   "source": [
    "## One-Line if Statements"
   ]
  },
  {
   "cell_type": "markdown",
   "metadata": {},
   "source": [
    "It is customary to write if *\\< expr \\>* on one line and *\\< statement \\>* indented on the following line like this:"
   ]
  },
  {
   "cell_type": "raw",
   "metadata": {},
   "source": [
    "if <expr>:\n",
    "    <statement>"
   ]
  },
  {
   "cell_type": "markdown",
   "metadata": {},
   "source": [
    "But it is permissible to write an entire if statement on one line. The following is functionally equivalent to the example above:"
   ]
  },
  {
   "cell_type": "raw",
   "metadata": {},
   "source": [
    "if <expr>: <statement>"
   ]
  },
  {
   "cell_type": "markdown",
   "metadata": {},
   "source": [
    "There can even be more than one *\\< statement \\>* on the same line, separated by **semicolons** - (;):"
   ]
  },
  {
   "cell_type": "raw",
   "metadata": {},
   "source": [
    "if <expr>: <statement_1>; <statement_2>; ...; <statement_n>"
   ]
  },
  {
   "cell_type": "markdown",
   "metadata": {},
   "source": [
    "Python takes the *latter* interpretation. The **semicolon** separating the *\\< statements \\>* has higher precedence than the colon following *\\< expr \\>* — in computer lingo, the **semicolon** - (;) is said to bind more tightly than the **colon** - (:). \n",
    "\n",
    "Thus, the *\\< statements \\>* are treated as a suite, and either all of them are executed, or none of them are:"
   ]
  },
  {
   "cell_type": "code",
   "execution_count": 39,
   "metadata": {},
   "outputs": [
    {
     "name": "stdout",
     "output_type": "stream",
     "text": [
      "1\n",
      "2\n",
      "3\n"
     ]
    }
   ],
   "source": [
    "if 'f' in 'foo': print('1'); print('2'); print('3')\n",
    "if 'z' in 'foo': print('1'); print('2'); print('3')"
   ]
  },
  {
   "cell_type": "markdown",
   "metadata": {},
   "source": [
    "Multiple statements may be specified on the same line as an *elif* or *else* clause as well:"
   ]
  },
  {
   "cell_type": "code",
   "execution_count": 47,
   "metadata": {},
   "outputs": [
    {
     "name": "stdout",
     "output_type": "stream",
     "text": [
      "black\n",
      "white\n",
      "\n",
      "\n",
      "Maths\n",
      "Physics\n",
      "\n",
      "\n",
      "Maths\n",
      "Physics\n"
     ]
    }
   ],
   "source": [
    "x = 2\n",
    "if x == 1: print('Ali'); print('Veli'); print('Can')\n",
    "elif x == 2: print('black'); print('white')\n",
    "else: print('Maths'); print('Physics')\n",
    "    \n",
    "print(\"\\n\")\n",
    "\n",
    "x = 3\n",
    "if x == 1: print('Ali'); print('Veli'); print('Can')\n",
    "elif x == 2: print('black'); print('white')\n",
    "else: print('Maths'); print('Physics')\n",
    "    \n",
    "print(\"\\n\")\n",
    "    \n",
    "# Normally\n",
    "x = 3\n",
    "if x == 1:\n",
    "    print('Ali')\n",
    "    print('Veli')\n",
    "    print('Can')\n",
    "elif x == 2:\n",
    "    print('black')\n",
    "    print('white')\n",
    "else:\n",
    "    print('Maths')\n",
    "    print('Physics')"
   ]
  },
  {
   "cell_type": "markdown",
   "metadata": {},
   "source": [
    "If an *if statement* is simple enough, though, putting it all on one line may be reasonable. Something like this probably wouldn’t raise anyone’s hackles too much:"
   ]
  },
  {
   "cell_type": "code",
   "execution_count": 50,
   "metadata": {},
   "outputs": [
    {
     "name": "stdout",
     "output_type": "stream",
     "text": [
      "About to call function foo()\n"
     ]
    }
   ],
   "source": [
    "debugging = True  # Set to True to turn debugging on.\n",
    "\"\"\"\n",
    "    .\n",
    "    .\n",
    "    .\n",
    "\n",
    "\"\"\"\n",
    "\n",
    "if debugging: print('About to call function foo()')"
   ]
  },
  {
   "cell_type": "markdown",
   "metadata": {},
   "source": [
    "### Examples for One-line condition statements"
   ]
  },
  {
   "cell_type": "code",
   "execution_count": 51,
   "metadata": {},
   "outputs": [
    {
     "name": "stdout",
     "output_type": "stream",
     "text": [
      "Mango\n",
      "Grapes\n"
     ]
    }
   ],
   "source": [
    "if ('a' in 'fruits'): print(\"Apple\"); print(\"Orange\")\n",
    "elif ('u' in 'fruits'): print(\"Mango\"); print(\"Grapes\")\n",
    "else: print(\"No fruits available\")"
   ]
  },
  {
   "cell_type": "markdown",
   "metadata": {},
   "source": [
    "## Conditional Expressions (Python’s Ternary Operator)"
   ]
  },
  {
   "cell_type": "markdown",
   "metadata": {},
   "source": [
    "In its simplest form, the syntax of the conditional expression is as follows:"
   ]
  },
  {
   "cell_type": "raw",
   "metadata": {},
   "source": [
    "<expr1> if <conditional_expr> else <expr2>"
   ]
  },
  {
   "cell_type": "code",
   "execution_count": 59,
   "metadata": {},
   "outputs": [
    {
     "name": "stdout",
     "output_type": "stream",
     "text": [
      "B\n"
     ]
    }
   ],
   "source": [
    "a = 2\n",
    "b = 33\n",
    "print(\"A\") if a > b else print(\"B\")"
   ]
  },
  {
   "cell_type": "code",
   "execution_count": 60,
   "metadata": {},
   "outputs": [
    {
     "name": "stdout",
     "output_type": "stream",
     "text": [
      "=\n"
     ]
    }
   ],
   "source": [
    "a = 33\n",
    "b = 33\n",
    "print(\"A\") if a > b else print(\"=\") if a == b else print(\"B\")"
   ]
  },
  {
   "cell_type": "code",
   "execution_count": 65,
   "metadata": {},
   "outputs": [
    {
     "name": "stdout",
     "output_type": "stream",
     "text": [
      "Let's go to the beach\n",
      "Let's go to the library\n",
      "minor\n",
      "no\n"
     ]
    }
   ],
   "source": [
    "raining = False\n",
    "print(\"Let's go to the\", 'beach' if not raining else 'library')\n",
    "\n",
    "raining = True\n",
    "print(\"Let's go to the\", 'beach' if not raining else 'library')\n",
    "\n",
    "\n",
    "age = 12\n",
    "state = 'minor' if age < 21 else 'adult'\n",
    "print(state)\n",
    "\n",
    "\n",
    "print('yes' if ('Mehmet' in ['Ali', 'Veli', 'Can']) else 'no')"
   ]
  },
  {
   "cell_type": "code",
   "execution_count": 67,
   "metadata": {},
   "outputs": [
    {
     "name": "stdout",
     "output_type": "stream",
     "text": [
      "5\n",
      "5\n"
     ]
    }
   ],
   "source": [
    "# Standard usage of if...else statement\n",
    "a, b = 3, 5\n",
    "if a > b:\n",
    "    m = a\n",
    "else:\n",
    "    m = b\n",
    "print(m)\n",
    "\n",
    "# One-Line usage of if...else statement (very exciting)\n",
    "m = a if a > b else b\n",
    "print(m)"
   ]
  },
  {
   "cell_type": "code",
   "execution_count": 70,
   "metadata": {},
   "outputs": [
    {
     "name": "stdout",
     "output_type": "stream",
     "text": [
      "42\n",
      "42\n",
      "43\n"
     ]
    }
   ],
   "source": [
    "x = y = 40\n",
    "z = 1 + x if x > y else y + 2\n",
    "print(z)\n",
    "\n",
    "z = (1 + x) if x > y else (y + 2)\n",
    "print(z)\n",
    "\n",
    "z = 1 + (x if x > y else y) + 2\n",
    "print(z)"
   ]
  },
  {
   "cell_type": "code",
   "execution_count": 72,
   "metadata": {},
   "outputs": [
    {
     "name": "stdout",
     "output_type": "stream",
     "text": [
      "foo\n",
      "bar\n"
     ]
    }
   ],
   "source": [
    "print('foo' if True else 1/0)\n",
    "print(1/0 if False else 'bar')"
   ]
  },
  {
   "cell_type": "code",
   "execution_count": 73,
   "metadata": {},
   "outputs": [
    {
     "name": "stdout",
     "output_type": "stream",
     "text": [
      "Ahmet\n"
     ]
    }
   ],
   "source": [
    "s = ('Ali' if (x == 1) else\n",
    "    'Veli' if (x == 2) else\n",
    "    'Can' if (x == 3) else\n",
    "    'Mehmet' if (x == 4) else\n",
    "    'Ahmet')\n",
    "print(s)"
   ]
  },
  {
   "cell_type": "markdown",
   "metadata": {},
   "source": [
    "## Multiple Conditions in if Statements"
   ]
  },
  {
   "cell_type": "code",
   "execution_count": 75,
   "metadata": {},
   "outputs": [
    {
     "name": "stdout",
     "output_type": "stream",
     "text": [
      "All the conditions are true\n"
     ]
    }
   ],
   "source": [
    "num1 = 10\n",
    "num2 = 20\n",
    "num3 = 30\n",
    "if (num1 == 10 and num2 == 20 and num3 == 30):\n",
    "    print(\"All the conditions are true\")"
   ]
  },
  {
   "cell_type": "code",
   "execution_count": 76,
   "metadata": {},
   "outputs": [
    {
     "name": "stdout",
     "output_type": "stream",
     "text": [
      "It’s a fruit\n"
     ]
    }
   ],
   "source": [
    "fruitName = \"Apple\"\n",
    "if (fruitName == \"Mango\" or fruitName == \"Apple\" or fruitName == \"Grapes\"):\n",
    "    print(\"It’s a fruit\")"
   ]
  },
  {
   "cell_type": "markdown",
   "metadata": {},
   "source": [
    "## The Python pass Statement"
   ]
  },
  {
   "cell_type": "markdown",
   "metadata": {},
   "source": [
    "The Python pass statement give a solution for indentation using **pass** statement. It doesn’t change program behavior at all. It is used as a placeholder to keep the interpreter happy in any situation where a statement is syntactically required, but you don’t really want to do anything:"
   ]
  },
  {
   "cell_type": "code",
   "execution_count": 79,
   "metadata": {},
   "outputs": [
    {
     "name": "stdout",
     "output_type": "stream",
     "text": [
      "foo\n"
     ]
    }
   ],
   "source": [
    "if True:\n",
    "    pass\n",
    "\n",
    "print('foo')\n",
    "\n",
    "# As a second example\n",
    "a = 33\n",
    "b = 200\n",
    "\n",
    "if b > a:\n",
    "    pass"
   ]
  },
  {
   "cell_type": "markdown",
   "metadata": {},
   "source": [
    "## Simple try and except example for zero division error"
   ]
  },
  {
   "cell_type": "code",
   "execution_count": 80,
   "metadata": {},
   "outputs": [
    {
     "ename": "ZeroDivisionError",
     "evalue": "division by zero",
     "output_type": "error",
     "traceback": [
      "\u001b[1;31m---------------------------------------------------------------------------\u001b[0m",
      "\u001b[1;31mZeroDivisionError\u001b[0m                         Traceback (most recent call last)",
      "\u001b[1;32m<ipython-input-80-57f5c2170cec>\u001b[0m in \u001b[0;36m<module>\u001b[1;34m\u001b[0m\n\u001b[0;32m      1\u001b[0m \u001b[0ma\u001b[0m \u001b[1;33m=\u001b[0m \u001b[1;36m10\u001b[0m\u001b[1;33m\u001b[0m\u001b[1;33m\u001b[0m\u001b[0m\n\u001b[0;32m      2\u001b[0m \u001b[0mb\u001b[0m \u001b[1;33m=\u001b[0m \u001b[1;36m0\u001b[0m\u001b[1;33m\u001b[0m\u001b[1;33m\u001b[0m\u001b[0m\n\u001b[1;32m----> 3\u001b[1;33m \u001b[0mprint\u001b[0m\u001b[1;33m(\u001b[0m\u001b[1;34m\"Result of Division: \"\u001b[0m \u001b[1;33m+\u001b[0m \u001b[0mstr\u001b[0m\u001b[1;33m(\u001b[0m\u001b[0ma\u001b[0m\u001b[1;33m/\u001b[0m\u001b[0mb\u001b[0m\u001b[1;33m)\u001b[0m\u001b[1;33m)\u001b[0m\u001b[1;33m\u001b[0m\u001b[1;33m\u001b[0m\u001b[0m\n\u001b[0m",
      "\u001b[1;31mZeroDivisionError\u001b[0m: division by zero"
     ]
    }
   ],
   "source": [
    "a = 10\n",
    "b = 0\n",
    "print(\"Result of Division: \" + str(a/b))"
   ]
  },
  {
   "cell_type": "code",
   "execution_count": 81,
   "metadata": {},
   "outputs": [
    {
     "name": "stdout",
     "output_type": "stream",
     "text": [
      "You have divided a number by zero, which is not allowed.\n"
     ]
    }
   ],
   "source": [
    "try:\n",
    "    a = 10\n",
    "    b = 0\n",
    "    print(\"Result of Division: \" + str(a/b))\n",
    "except:\n",
    "    print(\"You have divided a number by zero, which is not allowed.\")"
   ]
  },
  {
   "cell_type": "code",
   "execution_count": 82,
   "metadata": {},
   "outputs": [
    {
     "name": "stdout",
     "output_type": "stream",
     "text": [
      "You have divided a number by zero, which is not allowed.\n",
      "Yo! This line will be executed.\n"
     ]
    }
   ],
   "source": [
    "try:\n",
    "    a = 10\n",
    "    b = 0\n",
    "    print(\"Result of Division: \" + str(a/b))\n",
    "    print(\"No! This line will not be executed.\")\n",
    "except:\n",
    "    print(\"You have divided a number by zero, which is not allowed.\")\n",
    "\n",
    "# outside the try-except blocks\n",
    "print(\"Yo! This line will be executed.\")"
   ]
  },
  {
   "cell_type": "code",
   "execution_count": 86,
   "metadata": {},
   "outputs": [
    {
     "name": "stdout",
     "output_type": "stream",
     "text": [
      "Enter numerator number: 3\n",
      "Enter denominator number: 0\n",
      "You have divided a number by zero, which is not allowed.\n"
     ]
    }
   ],
   "source": [
    "try:\n",
    "    a = int(input(\"Enter numerator number: \"))\n",
    "    b = int(input(\"Enter denominator number: \"))\n",
    "    print(\"Result of Division: \" + str(a/b))\n",
    "    \n",
    "# except block handling division by zero\n",
    "except(ZeroDivisionError):\n",
    "    print(\"You have divided a number by zero, which is not allowed.\")\n",
    "    \n",
    "# except block handling wrong value type\n",
    "except(ValueError):\n",
    "    print(\"You must enter integer value\")"
   ]
  },
  {
   "cell_type": "markdown",
   "metadata": {},
   "source": [
    "## Turtle Examples with conditions"
   ]
  },
  {
   "cell_type": "code",
   "execution_count": null,
   "metadata": {},
   "outputs": [],
   "source": [
    "import turtle\n",
    "turtle.pensize(5)\n",
    "turtle.pencolor('red')\n",
    "turtle.circle(100)\n",
    "\n",
    "if turtle.pencolor() == 'red':\n",
    "    turtle.pencolor('blue')\n",
    "\n",
    "if turtle.pensize() < 7:\n",
    "    turtle.pensize(7)\n",
    "\n",
    "turtle.circle(100)"
   ]
  },
  {
   "cell_type": "code",
   "execution_count": null,
   "metadata": {},
   "outputs": [],
   "source": [
    "import turtle\n",
    "turtle.hideturtle()\n",
    "turtle.fillcolor('red')\n",
    "turtle.begin_fill()\n",
    "turtle.circle(100)\n",
    "turtle.end_fill()\n",
    "\n",
    "if turtle.isvisible():\n",
    "    turtle.hideturtle()\n",
    "else:\n",
    "    turtle.showturtle()\n",
    "\n",
    "if turtle.fillcolor() == 'red':\n",
    "    turtle.fillcolor('blue')\n",
    "    \n",
    "if turtle.bgcolor() == 'white':\n",
    "    turtle.bgcolor('gray')\n",
    "\n",
    "turtle.begin_fill()\n",
    "turtle.circle(100)\n",
    "turtle.end_fill()"
   ]
  },
  {
   "cell_type": "code",
   "execution_count": null,
   "metadata": {},
   "outputs": [],
   "source": [
    "import turtle\n",
    "turtle.goto(0, 100)\n",
    "turtle.goto(−100, 0)\n",
    "turtle.goto(0, 0)\n",
    "\n",
    "if turtle.speed() > 0:\n",
    "    turtle.speed(0)\n",
    "\n",
    "if turtle.xcor() == 0 and turtle.ycor() == 0:\n",
    "    turtle.goto(-50, -50)"
   ]
  },
  {
   "cell_type": "code",
   "execution_count": null,
   "metadata": {},
   "outputs": [],
   "source": [
    "import turtle\n",
    "turtle.forward(50)\n",
    "turtle.penup()\n",
    "turtle.forward(25)\n",
    "turtle.pendown()\n",
    "turtle.forward(50)\n",
    "turtle.penup()\n",
    "turtle.forward(25)\n",
    "turtle.pendown()\n",
    "turtle.forward(50)\n",
    "turtle.penup()\n",
    "\n",
    "if not(turtle.isdown()):\n",
    "    turtle.pendown()\n",
    "    turtle.left(90)\n",
    "    turtle.forward(50)\n",
    "\n",
    "if turtle.isdown():\n",
    "    turtle.penup()\n",
    "    turtle.forward(25)\n",
    "    turtle.pendown()\n",
    "    turtle.left(90)\n",
    "    turtle.forward(50)"
   ]
  },
  {
   "cell_type": "markdown",
   "metadata": {},
   "source": [
    "## A Leap Year Problem"
   ]
  },
  {
   "cell_type": "markdown",
   "metadata": {},
   "source": [
    "Let’s consider a real-time scenario to find the number of days present in a month and we know that during a leap year the number of days will change. We will see this in a programmatic way using if, elif and else statements."
   ]
  },
  {
   "cell_type": "markdown",
   "metadata": {},
   "source": [
    "**Solution:**"
   ]
  },
  {
   "cell_type": "code",
   "execution_count": 89,
   "metadata": {},
   "outputs": [
    {
     "name": "stdout",
     "output_type": "stream",
     "text": [
      "Enter the year: 2020\n",
      "Enter the month: 4\n",
      "Leap Year\n",
      "There are 30 days in this month.\n"
     ]
    }
   ],
   "source": [
    "%run Leap_Year.py"
   ]
  },
  {
   "cell_type": "code",
   "execution_count": 90,
   "metadata": {},
   "outputs": [
    {
     "name": "stdout",
     "output_type": "stream",
     "text": [
      "Enter the year: 2020\n",
      "Enter the month: 1\n",
      "Leap Year\n",
      "There are 31 days in this month.\n"
     ]
    }
   ],
   "source": [
    "%run Leap_Year.py"
   ]
  },
  {
   "cell_type": "code",
   "execution_count": 91,
   "metadata": {},
   "outputs": [
    {
     "name": "stdout",
     "output_type": "stream",
     "text": [
      "Enter the year: 2019\n",
      "Enter the month: 2\n",
      "Non Leap Year\n",
      "There are 28 days in this month\n"
     ]
    }
   ],
   "source": [
    "%run Leap_Year.py"
   ]
  },
  {
   "cell_type": "code",
   "execution_count": 92,
   "metadata": {},
   "outputs": [
    {
     "name": "stdout",
     "output_type": "stream",
     "text": [
      "Enter the year: 2020\n",
      "Enter the month: 2\n",
      "Leap Year\n",
      "There are 29 days in this month.\n"
     ]
    }
   ],
   "source": [
    "%run Leap_Year.py"
   ]
  },
  {
   "cell_type": "code",
   "execution_count": 93,
   "metadata": {},
   "outputs": [
    {
     "name": "stdout",
     "output_type": "stream",
     "text": [
      "Enter the year: 1986\n",
      "Enter the month: 12\n",
      "Non Leap Year\n",
      "There are 31 days in this month\n"
     ]
    }
   ],
   "source": [
    "%run Leap_Year.py"
   ]
  },
  {
   "cell_type": "code",
   "execution_count": null,
   "metadata": {},
   "outputs": [],
   "source": []
  }
 ],
 "metadata": {
  "kernelspec": {
   "display_name": "Python 3",
   "language": "python",
   "name": "python3"
  },
  "language_info": {
   "codemirror_mode": {
    "name": "ipython",
    "version": 3
   },
   "file_extension": ".py",
   "mimetype": "text/x-python",
   "name": "python",
   "nbconvert_exporter": "python",
   "pygments_lexer": "ipython3",
   "version": "3.7.4"
  }
 },
 "nbformat": 4,
 "nbformat_minor": 2
}
