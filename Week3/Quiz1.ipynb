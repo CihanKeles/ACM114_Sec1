{
 "cells": [
  {
   "cell_type": "markdown",
   "metadata": {},
   "source": [
    "**1. Place the correct operators in #, with the word *True* written for each line. Note that == checks for equality.**"
   ]
  },
  {
   "cell_type": "raw",
   "metadata": {},
   "source": [
    "print(16 # 7 == 2)\n",
    "print((7 # 2) # 10 == 35)\n",
    "print(2 # 4 == 0.5)\n",
    "print(5 # 2 # 3 == -1)\n",
    "print(3 # 2 # 1 == 7)"
   ]
  },
  {
   "cell_type": "code",
   "execution_count": null,
   "metadata": {},
   "outputs": [],
   "source": []
  },
  {
   "cell_type": "markdown",
   "metadata": {},
   "source": [
    "**2. Consider that the days are represented as Sunday 1, Monday 2, Tuesday 3, etc. Accept that today is Sunday. Write the code below to show which day will be 82 days from now. (the program must print the 6 value that represents Friday)**"
   ]
  },
  {
   "cell_type": "code",
   "execution_count": null,
   "metadata": {},
   "outputs": [],
   "source": []
  },
  {
   "cell_type": "markdown",
   "metadata": {},
   "source": [
    "**3. Accept that your vehicle goes 40 miles per gallon and the cost of one gallon of gas is \\\\$ 3.65. Write the code below to print how many miles you can drive with a \\\\$ 25 budget. The program should print the value 273.97.**"
   ]
  },
  {
   "cell_type": "code",
   "execution_count": null,
   "metadata": {},
   "outputs": [],
   "source": []
  },
  {
   "cell_type": "markdown",
   "metadata": {},
   "source": [
    "**4. Suppose you wait 270 minutes for a meeting (You should get this value using input() function). Write the code below to print how many hours and minutes you expect in total. Remember that it is 60 minutes in an hour. The program should also print 30 after 4.0.**"
   ]
  },
  {
   "cell_type": "code",
   "execution_count": null,
   "metadata": {},
   "outputs": [],
   "source": []
  },
  {
   "cell_type": "markdown",
   "metadata": {},
   "source": [
    "**5. A car consumes fuel at the rate of 23 mpg (23 miles per gallon - milepergallon). Someone fills the car with 15 gallons of fuel and moves 112 miles. Write the code below to determine how many gallons of fuel remain. The answer should be 10.130435.**"
   ]
  },
  {
   "cell_type": "code",
   "execution_count": null,
   "metadata": {},
   "outputs": [],
   "source": []
  },
  {
   "cell_type": "markdown",
   "metadata": {},
   "source": [
    "**6. One projectile travels at a speed of 25 m / s. Write the code that determines how many seconds it will go 111 m ahead. (Your program should print 4.44 seconds as a result)\n",
    "(Use input() function to assign values to the variables!)**"
   ]
  },
  {
   "cell_type": "code",
   "execution_count": null,
   "metadata": {},
   "outputs": [],
   "source": []
  },
  {
   "cell_type": "markdown",
   "metadata": {},
   "source": [
    "**7. Write a program that takes first name, last name and age of the user as an input and prints out the result as in the example below.**"
   ]
  },
  {
   "cell_type": "raw",
   "metadata": {},
   "source": [
    "Example Output:\n",
    "\n",
    "Hi, my name is James Bond! I'm 52 years old.\n",
    "Square of 5 is 25 and cube of 2 is 8. When we add this numbers to each others, we get 33."
   ]
  },
  {
   "cell_type": "code",
   "execution_count": null,
   "metadata": {},
   "outputs": [],
   "source": []
  }
 ],
 "metadata": {
  "kernelspec": {
   "display_name": "Python 3",
   "language": "python",
   "name": "python3"
  },
  "language_info": {
   "codemirror_mode": {
    "name": "ipython",
    "version": 3
   },
   "file_extension": ".py",
   "mimetype": "text/x-python",
   "name": "python",
   "nbconvert_exporter": "python",
   "pygments_lexer": "ipython3",
   "version": "3.7.4"
  }
 },
 "nbformat": 4,
 "nbformat_minor": 2
}
