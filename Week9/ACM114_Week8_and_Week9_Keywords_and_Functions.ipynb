{
 "cells": [
  {
   "cell_type": "markdown",
   "metadata": {},
   "source": [
    "This is an example which I want that you remember how to use lists and strings together with using their pre-defined functions (built-in functions)."
   ]
  },
  {
   "cell_type": "code",
   "execution_count": 6,
   "metadata": {},
   "outputs": [
    {
     "name": "stdout",
     "output_type": "stream",
     "text": [
      "OR.HE.SA.ED.\n"
     ]
    }
   ],
   "source": [
    "stopwords = ['to', 'a', 'for', 'by', 'an', 'am', 'the', 'so', 'it', 'and', \"The\"]\n",
    "org = \"The organization for health, safety, and education\"\n",
    "new=org.split()\n",
    "for i in new:\n",
    "    if i in stopwords:\n",
    "        new.remove(i)\n",
    "\n",
    "b=\"\"\n",
    "for i in new:\n",
    "    b=b+i[0:2].upper()+\".\"\n",
    "    \n",
    "print(b)"
   ]
  },
  {
   "cell_type": "markdown",
   "metadata": {},
   "source": [
    "**Examples for this lecture.**"
   ]
  },
  {
   "cell_type": "code",
   "execution_count": 7,
   "metadata": {},
   "outputs": [
    {
     "name": "stdout",
     "output_type": "stream",
     "text": [
      "Hello\n",
      "Glad to meet you\n"
     ]
    }
   ],
   "source": [
    "def hello():\n",
    "    print(\"Hello\")\n",
    "    print(\"Glad to meet you\")\n",
    "\n",
    "hello()"
   ]
  },
  {
   "cell_type": "code",
   "execution_count": 8,
   "metadata": {},
   "outputs": [
    {
     "name": "stdout",
     "output_type": "stream",
     "text": [
      "Hello Cihan\n",
      "Glad to meet you\n"
     ]
    }
   ],
   "source": [
    "def hello2(s):\n",
    "    print(\"Hello \" + s)\n",
    "    print(\"Glad to meet you\")\n",
    "\n",
    "hello2(\"Cihan\")"
   ]
  },
  {
   "cell_type": "code",
   "execution_count": 13,
   "metadata": {},
   "outputs": [
    {
     "name": "stdout",
     "output_type": "stream",
     "text": [
      "10\n"
     ]
    }
   ],
   "source": [
    "def main():\n",
    "    value = 5\n",
    "    show_double(value)\n",
    "    \n",
    "def show_double(number):\n",
    "    result = number * 2\n",
    "    print(result)\n",
    "        \n",
    "main()"
   ]
  },
  {
   "cell_type": "code",
   "execution_count": 14,
   "metadata": {},
   "outputs": [
    {
     "name": "stdout",
     "output_type": "stream",
     "text": [
      "The sum of 12 and 45 is\n",
      "57\n"
     ]
    }
   ],
   "source": [
    "def main():\n",
    "    print(\"The sum of 12 and 45 is\")\n",
    "    show_sum(12,45)\n",
    "    \n",
    "def show_sum(num1, num2):\n",
    "    result = num1 + num2\n",
    "    print(result)\n",
    "    \n",
    "main()"
   ]
  },
  {
   "cell_type": "code",
   "execution_count": 32,
   "metadata": {},
   "outputs": [
    {
     "name": "stdout",
     "output_type": "stream",
     "text": [
      "Enter a: 12\n",
      "Enter b: 45\n",
      "The sum of 12 and 45 is:\n",
      "57\n",
      "The sum of 12 and 45 is 57\n",
      "The sum of 12 and 45 is 57\n"
     ]
    }
   ],
   "source": [
    "def main():\n",
    "    a = int(input(\"Enter a: \"))\n",
    "    b= int(input(\"Enter b: \"))\n",
    "    print(\"The sum of %d and %d is:\" %(a, b))\n",
    "    print(show_sum(a, b))\n",
    "    c = show_sum(a, b)\n",
    "    print(\"The sum of\", a, \"and\", b, \"is\", c)\n",
    "    print(\"The sum of {0} and {1} is {2}\".format(a, b, show_sum(a,b)))\n",
    "    \n",
    "def show_sum(num1, num2):\n",
    "    result = num1 + num2\n",
    "    return result\n",
    "\n",
    "main()"
   ]
  },
  {
   "cell_type": "code",
   "execution_count": 33,
   "metadata": {},
   "outputs": [
    {
     "name": "stdout",
     "output_type": "stream",
     "text": [
      "100\n"
     ]
    }
   ],
   "source": [
    "def square(x):\n",
    "    y = x * x\n",
    "    return y\n",
    "\n",
    "toSquare = 10\n",
    "result = square(toSquare)\n",
    "print(result)"
   ]
  },
  {
   "cell_type": "code",
   "execution_count": 34,
   "metadata": {},
   "outputs": [
    {
     "name": "stdout",
     "output_type": "stream",
     "text": [
      "False\n",
      "True\n"
     ]
    }
   ],
   "source": [
    "def longer_than_five(list_of_names):\n",
    "    for name in list_of_names: # iterate over the list to look at each name\n",
    "        if len(name) > 5: # as soon as you see a name longer than 5 letters,\n",
    "            return True # then return True!\n",
    "            # If Python executes that return statement, the function is over and the rest \n",
    "            # of the code will not run -- you already have your answer!\n",
    "    return False # You will only get to this line if you\n",
    "    # iterated over the whole list and did not get a name where\n",
    "    # the if expression evaluated to True, so at this point, it's correct to return False!\n",
    "\n",
    "# Here are a couple sample calls to the function with different lists of names. Try \n",
    "# running this code in Jupyter Notebook a few times and make sure you \n",
    "# understand exactly what is happening.\n",
    "\n",
    "list1 = [\"Ali\", \"Veli\", \"Ece\", \"Canan\"]\n",
    "list2 = [\"Can\", \"Efe\", \"Lerzan\", \"Nagehan\"]\n",
    "\n",
    "print(longer_than_five(list1))\n",
    "print(longer_than_five(list2))"
   ]
  },
  {
   "cell_type": "code",
   "execution_count": 44,
   "metadata": {},
   "outputs": [
    {
     "name": "stdout",
     "output_type": "stream",
     "text": [
      "the answer is 6\n",
      "6\n",
      "the answer is abc\n",
      "abc\n",
      "the answer is [1, 2, 3, 'a', 'b', 'c', 3.14, 2.72, 1.69]\n",
      "[1, 2, 3, 'a', 'b', 'c', 3.14, 2.72, 1.69]\n"
     ]
    }
   ],
   "source": [
    "def addEm(x, y, z):\n",
    "    print('the answer is', x+y+z)\n",
    "    return x+y+z\n",
    "\n",
    "print(addEm(1, 2, 3))\n",
    "print(addEm('a', 'b', 'c'))\n",
    "print(addEm([1, 2, 3], ['a', 'b', 'c'], [3.14, 2.72, 1.69]))"
   ]
  },
  {
   "cell_type": "code",
   "execution_count": 40,
   "metadata": {},
   "outputs": [
    {
     "name": "stdout",
     "output_type": "stream",
     "text": [
      "50\n"
     ]
    }
   ],
   "source": [
    "def square(x):\n",
    "    y = x * x\n",
    "    return y\n",
    "\n",
    "print(square(5) + square(5))"
   ]
  },
  {
   "cell_type": "code",
   "execution_count": 45,
   "metadata": {},
   "outputs": [
    {
     "name": "stdout",
     "output_type": "stream",
     "text": [
      "16\n"
     ]
    }
   ],
   "source": [
    "def square(x):\n",
    "    y = x * x\n",
    "    return y\n",
    "\n",
    "print(square(square(2)))"
   ]
  },
  {
   "cell_type": "code",
   "execution_count": 46,
   "metadata": {},
   "outputs": [
    {
     "name": "stdout",
     "output_type": "stream",
     "text": [
      "g\n",
      "square\n",
      "25\n"
     ]
    }
   ],
   "source": [
    "def square(x):\n",
    "    print(\"square\")\n",
    "    return x*x\n",
    "\n",
    "def g(y):\n",
    "    print(\"g\")\n",
    "    return y + 3\n",
    "\n",
    "print(square(g(2)))"
   ]
  },
  {
   "attachments": {},
   "cell_type": "markdown",
   "metadata": {},
   "source": [
    "* **Write a function named same that takes a string as input, and simply returns that string.**"
   ]
  },
  {
   "cell_type": "code",
   "execution_count": 47,
   "metadata": {},
   "outputs": [
    {
     "name": "stdout",
     "output_type": "stream",
     "text": [
      "Enter a string: Python\n",
      "Python\n"
     ]
    }
   ],
   "source": [
    "def same(s):\n",
    "    return str_1\n",
    "\n",
    "str_1 = input(\"Enter a string: \")\n",
    "print(same(str_1))"
   ]
  },
  {
   "attachments": {},
   "cell_type": "markdown",
   "metadata": {},
   "source": [
    "* **Write a function named intro that takes a string as input. Given the string “Becky” as input, the function should return: “Hello, my name is Becky and I love Python.”**"
   ]
  },
  {
   "cell_type": "code",
   "execution_count": 50,
   "metadata": {},
   "outputs": [
    {
     "name": "stdout",
     "output_type": "stream",
     "text": [
      "Enter the name as 'Becky' --> Becky\n",
      "Hello, my name is Becky and I love Python.\n",
      "Hello, my name is Becky and I love Python\n",
      "Hello, my name is Becky and I love Python.\n"
     ]
    }
   ],
   "source": [
    "def intro(str_1):\n",
    "    print(\"Hello, my name is %s and I love Python.\" %str_1)\n",
    "    print(\"Hello, my name is {} and I love Python\".format(str_1))\n",
    "    return \"Hello, my name is \" + str_1 + \" and I love Python.\"\n",
    "\n",
    "string = input(\"Enter the name as 'Becky' --> \")\n",
    "print(intro(string))"
   ]
  },
  {
   "attachments": {},
   "cell_type": "markdown",
   "metadata": {},
   "source": [
    "* **Write a function called decision that takes a string as input, and then checks the number of characters. If it has over 17 characters, return “This is a long string”, if it is shorter or has 17 characters, return “This is a short string”.**"
   ]
  },
  {
   "cell_type": "code",
   "execution_count": 52,
   "metadata": {},
   "outputs": [
    {
     "name": "stdout",
     "output_type": "stream",
     "text": [
      "Enter a string: To be or not to be, that is the question!\n",
      "This is a long string\n",
      "This is a short string\n"
     ]
    }
   ],
   "source": [
    "def decision(s):\n",
    "    if len(s) > 17:\n",
    "        return \"This is a long string\"\n",
    "    else:\n",
    "        return \"This is a short string\"\n",
    "    \n",
    "string = input(\"Enter a string: \")\n",
    "print(decision(string))\n",
    "string = \"Hello Python!\"\n",
    "print(decision(string))"
   ]
  },
  {
   "attachments": {},
   "cell_type": "markdown",
   "metadata": {},
   "source": [
    "* **Write a function called change that takes one number as its input and returns that number, plus 7.**"
   ]
  },
  {
   "cell_type": "code",
   "execution_count": 53,
   "metadata": {},
   "outputs": [
    {
     "name": "stdout",
     "output_type": "stream",
     "text": [
      "Enter a number: 5\n",
      "12\n"
     ]
    }
   ],
   "source": [
    "def change(n):\n",
    "    return n + 7\n",
    "\n",
    "number = input(\"Enter a number: \")\n",
    "print(change(int(number)))"
   ]
  },
  {
   "attachments": {},
   "cell_type": "markdown",
   "metadata": {},
   "source": [
    "* **Write a function named total that takes a list of integers as input, and returns the total value of all those integers added together.**"
   ]
  },
  {
   "cell_type": "code",
   "execution_count": 59,
   "metadata": {},
   "outputs": [
    {
     "name": "stdout",
     "output_type": "stream",
     "text": [
      "55\n",
      "15\n",
      "Enter list_2 elements: 3\n",
      "Enter list_2 elements: 4\n",
      "Enter list_2 elements: 5\n",
      "Enter list_2 elements: 6\n",
      "Enter list_2 elements: 7\n",
      "[3, 4, 5, 6, 7]\n",
      "25\n"
     ]
    }
   ],
   "source": [
    "def total(n):\n",
    "    total = 0\n",
    "    for i in n:\n",
    "        total += i\n",
    "    return total\n",
    "\n",
    "m = list(range(1,10 + 1))\n",
    "print(total(m))\n",
    "list_1 = [1, 2, 3, 4, 5]\n",
    "print(total(list_1))\n",
    "\n",
    "list_2 = []\n",
    "for i in range(1, 5 + 1):\n",
    "    number = int(input(\"Enter list_2 elements: \"))\n",
    "    list_2.append(number)\n",
    "    \n",
    "print(list_2)\n",
    "print(total(list_2))"
   ]
  },
  {
   "attachments": {},
   "cell_type": "markdown",
   "metadata": {},
   "source": [
    "* **Write a function called count that takes a list of numbers as input and returns a count of the number of elements in the list.**"
   ]
  },
  {
   "cell_type": "code",
   "execution_count": 2,
   "metadata": {},
   "outputs": [
    {
     "name": "stdout",
     "output_type": "stream",
     "text": [
      "[1, 2, 3, 4, 5, 6, 7, 8, 9, 10]\n",
      "10\n",
      "10\n",
      "[1, 2, 3, 4, 5]\n",
      "5\n",
      "5\n",
      "Enter list_2 elements: 3\n",
      "Enter list_2 elements: 4\n",
      "Enter list_2 elements: 5\n",
      "Enter list_2 elements: 6\n",
      "Enter list_2 elements: 7\n",
      "[3, 4, 5, 6, 7]\n",
      "5\n",
      "5\n"
     ]
    }
   ],
   "source": [
    "def count(n):\n",
    "    count = 0\n",
    "    for i in n:\n",
    "        count += 1\n",
    "    return count\n",
    "\n",
    "m = list(range(1,10 + 1))\n",
    "print(m)\n",
    "print(len(m))\n",
    "print(count(m))\n",
    "list_1 = [1, 2, 3, 4, 5]\n",
    "print(list_1)\n",
    "print(len(list_1))\n",
    "print(count(list_1))\n",
    "\n",
    "list_2 = []\n",
    "for i in range(1, 5 + 1):\n",
    "    number = int(input(\"Enter list_2 elements: \"))\n",
    "    list_2.append(number)\n",
    "    \n",
    "print(list_2)\n",
    "print(len(list_2))\n",
    "print(count(list_2))"
   ]
  },
  {
   "cell_type": "code",
   "execution_count": 3,
   "metadata": {},
   "outputs": [
    {
     "name": "stdout",
     "output_type": "stream",
     "text": [
      "The value is 99\n",
      "I'm changing the value.\n",
      "Now the value is 0\n",
      "Back in main the value is 99\n"
     ]
    }
   ],
   "source": [
    "def main():\n",
    "    value = 99\n",
    "    print(\"The value is\", value)\n",
    "    change_me(value)\n",
    "    print(\"Back in main the value is\", value)\n",
    "    \n",
    "def change_me(arg):\n",
    "    print(\"I'm changing the value.\")\n",
    "    arg = 0\n",
    "    print(\"Now the value is\", arg)\n",
    "    \n",
    "main()"
   ]
  },
  {
   "cell_type": "code",
   "execution_count": 31,
   "metadata": {},
   "outputs": [
    {
     "name": "stdout",
     "output_type": "stream",
     "text": [
      "7\n",
      "\n",
      "abc\n",
      "abc\n",
      "bac\n",
      "bac\n",
      "\n",
      "4.140000000000001\n",
      "1 + 3.14 = 4.140\n",
      "4.14 a\n"
     ]
    },
    {
     "data": {
      "text/plain": [
       "'1 3.14 a'"
      ]
     },
     "execution_count": 31,
     "metadata": {},
     "output_type": "execute_result"
    }
   ],
   "source": [
    "def f(a = 1, b = 3.14 , c = \"a\"):\n",
    "    print(a + b)\n",
    "    print(\"%d + %.2f = %.3f\" %(a, b , a + b))\n",
    "    print(\"{0:.2f} {1}\".format(a + b, c))\n",
    "    return str(a) + ' ' + str(b) + ' ' + c\n",
    "\n",
    "def f1(a, b = 3):\n",
    "    return a + b\n",
    "\n",
    "def f2(a, b , c = 'c'):\n",
    "    print(a + b + c)\n",
    "    return a + b + c\n",
    "\n",
    "y = 4\n",
    "print(f1(y))\n",
    "print()\n",
    "\n",
    "str_1 = 'a'\n",
    "str_2 = 'b'\n",
    "print(f2(str_1, str_2))\n",
    "print(f2(str_2, str_1))\n",
    "print()\n",
    "\n",
    "f()"
   ]
  },
  {
   "cell_type": "code",
   "execution_count": 32,
   "metadata": {},
   "outputs": [
    {
     "ename": "SyntaxError",
     "evalue": "non-default argument follows default argument (<ipython-input-32-727feff2b2c4>, line 3)",
     "output_type": "error",
     "traceback": [
      "\u001b[1;36m  File \u001b[1;32m\"<ipython-input-32-727feff2b2c4>\"\u001b[1;36m, line \u001b[1;32m3\u001b[0m\n\u001b[1;33m    def f3(a, b = 'b', c):\u001b[0m\n\u001b[1;37m          ^\u001b[0m\n\u001b[1;31mSyntaxError\u001b[0m\u001b[1;31m:\u001b[0m non-default argument follows default argument\n"
     ]
    }
   ],
   "source": [
    "str_1 = 'a'\n",
    "str_2 = 'c'\n",
    "def f3(a, b = 'b', c):\n",
    "    print(a + b + c)\n",
    "    return a + b + c\n",
    "print(f2(str_1, str_2))"
   ]
  },
  {
   "cell_type": "code",
   "execution_count": 35,
   "metadata": {},
   "outputs": [
    {
     "name": "stdout",
     "output_type": "stream",
     "text": [
      "4\n"
     ]
    },
    {
     "ename": "NameError",
     "evalue": "name 'y_1' is not defined",
     "output_type": "error",
     "traceback": [
      "\u001b[1;31m---------------------------------------------------------------------------\u001b[0m",
      "\u001b[1;31mNameError\u001b[0m                                 Traceback (most recent call last)",
      "\u001b[1;32m<ipython-input-35-f93732aa8045>\u001b[0m in \u001b[0;36m<module>\u001b[1;34m\u001b[0m\n\u001b[0;32m      5\u001b[0m \u001b[0mz\u001b[0m \u001b[1;33m=\u001b[0m \u001b[0msquare\u001b[0m\u001b[1;33m(\u001b[0m\u001b[1;36m10\u001b[0m\u001b[1;33m)\u001b[0m\u001b[1;33m\u001b[0m\u001b[1;33m\u001b[0m\u001b[0m\n\u001b[0;32m      6\u001b[0m \u001b[0mprint\u001b[0m\u001b[1;33m(\u001b[0m\u001b[0mz\u001b[0m\u001b[1;33m)\u001b[0m\u001b[1;33m\u001b[0m\u001b[1;33m\u001b[0m\u001b[0m\n\u001b[1;32m----> 7\u001b[1;33m \u001b[0mprint\u001b[0m\u001b[1;33m(\u001b[0m\u001b[0my_1\u001b[0m\u001b[1;33m)\u001b[0m\u001b[1;33m\u001b[0m\u001b[1;33m\u001b[0m\u001b[0m\n\u001b[0m\u001b[0;32m      8\u001b[0m \u001b[1;31m#y is local variable!\u001b[0m\u001b[1;33m\u001b[0m\u001b[1;33m\u001b[0m\u001b[1;33m\u001b[0m\u001b[0m\n",
      "\u001b[1;31mNameError\u001b[0m: name 'y_1' is not defined"
     ]
    }
   ],
   "source": [
    "def square(x_1):\n",
    "    y_1 = x_1 * x_1\n",
    "    return y\n",
    "\n",
    "z = square(10)\n",
    "print(z)\n",
    "print(y_1) # y_1 is local variable!"
   ]
  },
  {
   "cell_type": "code",
   "execution_count": 46,
   "metadata": {},
   "outputs": [
    {
     "ename": "NameError",
     "evalue": "name 'y_2' is not defined",
     "output_type": "error",
     "traceback": [
      "\u001b[1;31m---------------------------------------------------------------------------\u001b[0m",
      "\u001b[1;31mNameError\u001b[0m                                 Traceback (most recent call last)",
      "\u001b[1;32m<ipython-input-46-1a5f440cceea>\u001b[0m in \u001b[0;36m<module>\u001b[1;34m\u001b[0m\n\u001b[0;32m      8\u001b[0m     \u001b[1;32mreturn\u001b[0m \u001b[0mz\u001b[0m\u001b[1;33m\u001b[0m\u001b[1;33m\u001b[0m\u001b[0m\n\u001b[0;32m      9\u001b[0m \u001b[1;33m\u001b[0m\u001b[0m\n\u001b[1;32m---> 10\u001b[1;33m \u001b[0mprint\u001b[0m\u001b[1;33m(\u001b[0m\u001b[0mproducing\u001b[0m\u001b[1;33m(\u001b[0m\u001b[0madding\u001b[0m\u001b[1;33m(\u001b[0m\u001b[1;36m4\u001b[0m\u001b[1;33m)\u001b[0m\u001b[1;33m)\u001b[0m\u001b[1;33m)\u001b[0m\u001b[1;33m\u001b[0m\u001b[1;33m\u001b[0m\u001b[0m\n\u001b[0m",
      "\u001b[1;32m<ipython-input-46-1a5f440cceea>\u001b[0m in \u001b[0;36mproducing\u001b[1;34m(x_2)\u001b[0m\n\u001b[0;32m      5\u001b[0m \u001b[1;33m\u001b[0m\u001b[0m\n\u001b[0;32m      6\u001b[0m \u001b[1;32mdef\u001b[0m \u001b[0mproducing\u001b[0m\u001b[1;33m(\u001b[0m\u001b[0mx_2\u001b[0m\u001b[1;33m)\u001b[0m\u001b[1;33m:\u001b[0m\u001b[1;33m\u001b[0m\u001b[1;33m\u001b[0m\u001b[0m\n\u001b[1;32m----> 7\u001b[1;33m     \u001b[0mz\u001b[0m \u001b[1;33m=\u001b[0m \u001b[0mx_2\u001b[0m \u001b[1;33m*\u001b[0m \u001b[0my_2\u001b[0m\u001b[1;33m\u001b[0m\u001b[1;33m\u001b[0m\u001b[0m\n\u001b[0m\u001b[0;32m      8\u001b[0m     \u001b[1;32mreturn\u001b[0m \u001b[0mz\u001b[0m\u001b[1;33m\u001b[0m\u001b[1;33m\u001b[0m\u001b[0m\n\u001b[0;32m      9\u001b[0m \u001b[1;33m\u001b[0m\u001b[0m\n",
      "\u001b[1;31mNameError\u001b[0m: name 'y_2' is not defined"
     ]
    }
   ],
   "source": [
    "def adding(x_2):\n",
    "    y_2 = 3\n",
    "    z = y_2 + x_2 + x_2\n",
    "    return z\n",
    "\n",
    "def producing(x_2):\n",
    "    z = x_2 * y_2\n",
    "    return z\n",
    "\n",
    "print(producing(adding(4)))"
   ]
  },
  {
   "cell_type": "code",
   "execution_count": 47,
   "metadata": {},
   "outputs": [
    {
     "name": "stdout",
     "output_type": "stream",
     "text": [
      "44\n"
     ]
    }
   ],
   "source": [
    "def adding(x_2):\n",
    "    y_2 = 3\n",
    "    z = y_2 + x_2 + x_2\n",
    "    return z\n",
    "\n",
    "def producing(x_2, y_2):\n",
    "    z = x_2 * y_2\n",
    "    return z\n",
    "\n",
    "print(producing(adding(4), 4))"
   ]
  },
  {
   "cell_type": "code",
   "execution_count": 50,
   "metadata": {},
   "outputs": [
    {
     "name": "stdout",
     "output_type": "stream",
     "text": [
      "100\n"
     ]
    }
   ],
   "source": [
    "def badsquare(x_3):\n",
    "    y_3 = x_3 ** power\n",
    "    return y_3\n",
    "\n",
    "power = 2  # power is global variable!\n",
    "result = badsquare(10)\n",
    "print(result)"
   ]
  },
  {
   "cell_type": "code",
   "execution_count": 51,
   "metadata": {},
   "outputs": [
    {
     "name": "stdout",
     "output_type": "stream",
     "text": [
      "x inside : global\n",
      "x outside: global\n"
     ]
    }
   ],
   "source": [
    "x = \"global\"\n",
    "\n",
    "def func_1():\n",
    "    print(\"x inside :\", x)\n",
    "\n",
    "func_1()\n",
    "print(\"x outside:\", x)"
   ]
  },
  {
   "cell_type": "code",
   "execution_count": 52,
   "metadata": {},
   "outputs": [
    {
     "ename": "UnboundLocalError",
     "evalue": "local variable 'x' referenced before assignment",
     "output_type": "error",
     "traceback": [
      "\u001b[1;31m---------------------------------------------------------------------------\u001b[0m",
      "\u001b[1;31mUnboundLocalError\u001b[0m                         Traceback (most recent call last)",
      "\u001b[1;32m<ipython-input-52-6d1d24c16f37>\u001b[0m in \u001b[0;36m<module>\u001b[1;34m\u001b[0m\n\u001b[0;32m      5\u001b[0m     \u001b[0mprint\u001b[0m\u001b[1;33m(\u001b[0m\u001b[0mx\u001b[0m\u001b[1;33m)\u001b[0m\u001b[1;33m\u001b[0m\u001b[1;33m\u001b[0m\u001b[0m\n\u001b[0;32m      6\u001b[0m \u001b[1;33m\u001b[0m\u001b[0m\n\u001b[1;32m----> 7\u001b[1;33m \u001b[0mfunc_2\u001b[0m\u001b[1;33m(\u001b[0m\u001b[1;33m)\u001b[0m\u001b[1;33m\u001b[0m\u001b[1;33m\u001b[0m\u001b[0m\n\u001b[0m",
      "\u001b[1;32m<ipython-input-52-6d1d24c16f37>\u001b[0m in \u001b[0;36mfunc_2\u001b[1;34m()\u001b[0m\n\u001b[0;32m      2\u001b[0m \u001b[1;33m\u001b[0m\u001b[0m\n\u001b[0;32m      3\u001b[0m \u001b[1;32mdef\u001b[0m \u001b[0mfunc_2\u001b[0m\u001b[1;33m(\u001b[0m\u001b[1;33m)\u001b[0m\u001b[1;33m:\u001b[0m\u001b[1;33m\u001b[0m\u001b[1;33m\u001b[0m\u001b[0m\n\u001b[1;32m----> 4\u001b[1;33m     \u001b[0mx\u001b[0m \u001b[1;33m=\u001b[0m \u001b[0mx\u001b[0m \u001b[1;33m*\u001b[0m \u001b[1;36m2\u001b[0m\u001b[1;33m\u001b[0m\u001b[1;33m\u001b[0m\u001b[0m\n\u001b[0m\u001b[0;32m      5\u001b[0m     \u001b[0mprint\u001b[0m\u001b[1;33m(\u001b[0m\u001b[0mx\u001b[0m\u001b[1;33m)\u001b[0m\u001b[1;33m\u001b[0m\u001b[1;33m\u001b[0m\u001b[0m\n\u001b[0;32m      6\u001b[0m \u001b[1;33m\u001b[0m\u001b[0m\n",
      "\u001b[1;31mUnboundLocalError\u001b[0m: local variable 'x' referenced before assignment"
     ]
    }
   ],
   "source": [
    "x = \"global\"\n",
    "\n",
    "def func_2():\n",
    "    x = x * 2\n",
    "    print(x)\n",
    "    \n",
    "func_2()"
   ]
  },
  {
   "cell_type": "code",
   "execution_count": 54,
   "metadata": {},
   "outputs": [
    {
     "ename": "NameError",
     "evalue": "name 'y_local' is not defined",
     "output_type": "error",
     "traceback": [
      "\u001b[1;31m---------------------------------------------------------------------------\u001b[0m",
      "\u001b[1;31mNameError\u001b[0m                                 Traceback (most recent call last)",
      "\u001b[1;32m<ipython-input-54-430627b23f23>\u001b[0m in \u001b[0;36m<module>\u001b[1;34m\u001b[0m\n\u001b[0;32m      3\u001b[0m \u001b[1;33m\u001b[0m\u001b[0m\n\u001b[0;32m      4\u001b[0m \u001b[0mfunc_3\u001b[0m\u001b[1;33m(\u001b[0m\u001b[1;33m)\u001b[0m\u001b[1;33m\u001b[0m\u001b[1;33m\u001b[0m\u001b[0m\n\u001b[1;32m----> 5\u001b[1;33m \u001b[0mprint\u001b[0m\u001b[1;33m(\u001b[0m\u001b[0my_local\u001b[0m\u001b[1;33m)\u001b[0m\u001b[1;33m\u001b[0m\u001b[1;33m\u001b[0m\u001b[0m\n\u001b[0m",
      "\u001b[1;31mNameError\u001b[0m: name 'y_local' is not defined"
     ]
    }
   ],
   "source": [
    "def func_3():\n",
    "    y_local = \"local\"\n",
    "\n",
    "func_3()\n",
    "print(y_local)"
   ]
  },
  {
   "cell_type": "code",
   "execution_count": 55,
   "metadata": {},
   "outputs": [
    {
     "name": "stdout",
     "output_type": "stream",
     "text": [
      "local\n"
     ]
    }
   ],
   "source": [
    "def func_3():\n",
    "    y_local = \"local\"\n",
    "    print(y_local)\n",
    "\n",
    "func_3()"
   ]
  },
  {
   "cell_type": "code",
   "execution_count": 56,
   "metadata": {},
   "outputs": [
    {
     "name": "stdout",
     "output_type": "stream",
     "text": [
      "globalglobal\n",
      "local\n"
     ]
    }
   ],
   "source": [
    "x_global = \"global\"\n",
    "\n",
    "def func_4():\n",
    "    global x\n",
    "    y_local = \"local\"\n",
    "    x_global = x * 2\n",
    "    print(x_global)\n",
    "    print(y_local)\n",
    "    \n",
    "func_4()"
   ]
  },
  {
   "cell_type": "code",
   "execution_count": 57,
   "metadata": {},
   "outputs": [
    {
     "name": "stdout",
     "output_type": "stream",
     "text": [
      "local x: 10\n",
      "global x: 5\n"
     ]
    }
   ],
   "source": [
    "x = 5\n",
    "\n",
    "def func_5():\n",
    "    x = 10\n",
    "    print(\"local x:\", x)\n",
    "\n",
    "func_5()\n",
    "print(\"global x:\", x)"
   ]
  },
  {
   "cell_type": "code",
   "execution_count": 77,
   "metadata": {},
   "outputs": [
    {
     "name": "stdout",
     "output_type": "stream",
     "text": [
      "68\n",
      "4\n",
      "Return random integer in range [a, b], including both end points.\n",
      "        \n",
      "['BPF', 'LOG4', 'NV_MAGICCONST', 'RECIP_BPF', 'Random', 'SG_MAGICCONST', 'SystemRandom', 'TWOPI', '_BuiltinMethodType', '_MethodType', '_Sequence', '_Set', '__all__', '__builtins__', '__cached__', '__doc__', '__file__', '__loader__', '__name__', '__package__', '__spec__', '_acos', '_bisect', '_ceil', '_cos', '_e', '_exp', '_inst', '_itertools', '_log', '_os', '_pi', '_random', '_sha512', '_sin', '_sqrt', '_test', '_test_generator', '_urandom', '_warn', 'betavariate', 'choice', 'choices', 'expovariate', 'gammavariate', 'gauss', 'getrandbits', 'getstate', 'lognormvariate', 'normalvariate', 'paretovariate', 'randint', 'random', 'randrange', 'sample', 'seed', 'setstate', 'shuffle', 'triangular', 'uniform', 'vonmisesvariate', 'weibullvariate']\n",
      "Help on method randint in module random:\n",
      "\n",
      "randint(a, b) method of random.Random instance\n",
      "    Return random integer in range [a, b], including both end points.\n",
      "\n",
      "None\n"
     ]
    },
    {
     "ename": "TypeError",
     "evalue": "randint() missing 2 required positional arguments: 'a' and 'b'",
     "output_type": "error",
     "traceback": [
      "\u001b[1;31m---------------------------------------------------------------------------\u001b[0m",
      "\u001b[1;31mTypeError\u001b[0m                                 Traceback (most recent call last)",
      "\u001b[1;32m<ipython-input-77-ce5b6cf0d670>\u001b[0m in \u001b[0;36m<module>\u001b[1;34m\u001b[0m\n\u001b[0;32m     11\u001b[0m \u001b[0mprint\u001b[0m\u001b[1;33m(\u001b[0m\u001b[0mhelp\u001b[0m\u001b[1;33m(\u001b[0m\u001b[0mrandom\u001b[0m\u001b[1;33m.\u001b[0m\u001b[0mrandint\u001b[0m\u001b[1;33m)\u001b[0m\u001b[1;33m)\u001b[0m\u001b[1;33m\u001b[0m\u001b[1;33m\u001b[0m\u001b[0m\n\u001b[0;32m     12\u001b[0m \u001b[1;33m\u001b[0m\u001b[0m\n\u001b[1;32m---> 13\u001b[1;33m \u001b[0mnumber\u001b[0m \u001b[1;33m=\u001b[0m \u001b[0mrandom\u001b[0m\u001b[1;33m.\u001b[0m\u001b[0mrandint\u001b[0m\u001b[1;33m(\u001b[0m\u001b[1;33m)\u001b[0m\u001b[1;33m\u001b[0m\u001b[1;33m\u001b[0m\u001b[0m\n\u001b[0m\u001b[0;32m     14\u001b[0m \u001b[0mprint\u001b[0m\u001b[1;33m(\u001b[0m\u001b[0mnumber\u001b[0m\u001b[1;33m)\u001b[0m\u001b[1;33m\u001b[0m\u001b[1;33m\u001b[0m\u001b[0m\n",
      "\u001b[1;31mTypeError\u001b[0m: randint() missing 2 required positional arguments: 'a' and 'b'"
     ]
    }
   ],
   "source": [
    "import random\n",
    "\n",
    "number = random.randint(0,100)\n",
    "print(number)\n",
    "\n",
    "number = random.randint(1,5)\n",
    "print(number)\n",
    "\n",
    "print(random.randint.__doc__)\n",
    "print(dir(random))\n",
    "print(help(random.randint))\n",
    "\n",
    "number = random.randint()\n",
    "print(number)"
   ]
  },
  {
   "cell_type": "code",
   "execution_count": 91,
   "metadata": {},
   "outputs": [
    {
     "name": "stdout",
     "output_type": "stream",
     "text": [
      "8\n",
      "15\n",
      "Help on method randrange in module random:\n",
      "\n",
      "randrange(start, stop=None, step=1, _int=<class 'int'>) method of random.Random instance\n",
      "    Choose a random item from range(start, stop[, step]).\n",
      "    \n",
      "    This fixes the problem with randint() which includes the\n",
      "    endpoint; in Python this is usually not what you want.\n",
      "\n",
      "None\n"
     ]
    }
   ],
   "source": [
    "import random\n",
    "\n",
    "n = random.randrange(5, 10)\n",
    "print(n)\n",
    "\n",
    "n = random.randrange(5, 20, 5)\n",
    "print(n)\n",
    "\n",
    "print(help(random.randrange))"
   ]
  },
  {
   "cell_type": "code",
   "execution_count": 117,
   "metadata": {},
   "outputs": [
    {
     "name": "stdout",
     "output_type": "stream",
     "text": [
      "0.7463602738752548\n",
      "\n",
      "26.845388481313904\n",
      "\n",
      "413.5619464794936\n",
      "863.7260094282656\n",
      "27.529902184233013\n",
      "769.3910698013665\n",
      "673.323782863452\n",
      "\n",
      "Help on built-in function random:\n",
      "\n",
      "random(...) method of random.Random instance\n",
      "    random() -> x in the interval [0, 1).\n",
      "\n",
      "None\n",
      "\n",
      "88.15546694834771\n",
      "\n",
      "Help on method uniform in module random:\n",
      "\n",
      "uniform(a, b) method of random.Random instance\n",
      "    Get a random number in the range [a, b) or [a, b] depending on rounding.\n",
      "\n",
      "None\n"
     ]
    }
   ],
   "source": [
    "import random\n",
    "\n",
    "m = random.random()\n",
    "print(m)\n",
    "print()\n",
    "\n",
    "m = random.random() * 100\n",
    "print(m)\n",
    "print()\n",
    "\n",
    "for i in range(5):\n",
    "    m = random.random() * 1000\n",
    "    print(m)\n",
    "    \n",
    "print()   \n",
    "print(help(random.random))\n",
    "print()\n",
    "\n",
    "k = random.uniform(1, 100)\n",
    "print(k)\n",
    "print()\n",
    "print(help(random.uniform))"
   ]
  },
  {
   "cell_type": "code",
   "execution_count": 1,
   "metadata": {},
   "outputs": [
    {
     "name": "stdout",
     "output_type": "stream",
     "text": [
      "red\n",
      "Help on method choice in module random:\n",
      "\n",
      "choice(seq) method of random.Random instance\n",
      "    Choose a random element from a non-empty sequence.\n",
      "\n",
      "None\n",
      "\n",
      "Ipsum\n",
      "['Lorem', 482, 109, False, 10, 'Ipsum', 2]\n",
      "\n",
      "reshuffled list  [40, 60, 50, 10, 30, 20]\n",
      "reshuffled list  [40, 50, 10, 20, 30, 60]\n",
      "\n",
      "Help on method seed in module random:\n",
      "\n",
      "seed(a=None, version=2) method of random.Random instance\n",
      "    Initialize internal state from hashable object.\n",
      "    \n",
      "    None or no argument seeds from current time or from an operating\n",
      "    system specific randomness source if available.\n",
      "    \n",
      "    If *a* is an int, all bits are used.\n",
      "    \n",
      "    For version 2 (the default), all of the bits are used if *a* is a str,\n",
      "    bytes, or bytearray.  For version 1 (provided for reproducing random\n",
      "    sequences from older versions of Python), the algorithm for str and\n",
      "    bytes generates a narrower range of seeds.\n",
      "\n",
      "None\n",
      "\n",
      "244\n",
      "244\n",
      "607\n"
     ]
    }
   ],
   "source": [
    "import random\n",
    "\n",
    "print(random.choice( ['red', 'black', 'green'] ))\n",
    "\n",
    "myList = [2, 109, False, 10, \"Lorem\", 482, \"Ipsum\"]\n",
    "\n",
    "print(help(random.choice))\n",
    "print()\n",
    "print(random.choice(myList))\n",
    "\n",
    "random.shuffle(myList)\n",
    "print(myList)\n",
    "print()\n",
    "\n",
    "import random as r\n",
    "\n",
    "numbers = [10, 20, 30, 40, 50, 60]\n",
    "r.seed(4)\n",
    "r.shuffle(numbers)\n",
    "print(\"reshuffled list \", numbers)\n",
    "r.seed(3)\n",
    "r.shuffle(numbers)\n",
    "print(\"reshuffled list \", numbers)\n",
    "print()\n",
    "print(help(random.seed))\n",
    "print()\n",
    "\n",
    "random.seed(3) \n",
    "  \n",
    "# print a random number between 1 and 1000. \n",
    "print(random.randint(1, 1000)) \n",
    "  \n",
    "# if you want to get the same random number again then, \n",
    "random.seed(3)  \n",
    "print(random.randint(1, 1000)) \n",
    "  \n",
    "# If seed function is not used \n",
    "  \n",
    "# Gives totally unpredictable response. \n",
    "print(random.randint(1, 1000))"
   ]
  },
  {
   "cell_type": "code",
   "execution_count": 2,
   "metadata": {},
   "outputs": [
    {
     "name": "stdout",
     "output_type": "stream",
     "text": [
      "dict_keys(['heads', 'tails'])\n",
      "['heads', 'tails']\n",
      "Heads: 4958\n",
      "Tails: 5042\n"
     ]
    }
   ],
   "source": [
    "import random\n",
    "\n",
    "outcomes = { 'heads': 0,\n",
    "             'tails': 0,\n",
    "             }\n",
    "\n",
    "print(outcomes.keys())\n",
    "sides = list(outcomes.keys())\n",
    "print(sides)\n",
    "\n",
    "for i in range(10000):\n",
    "    outcomes[random.choice(sides)] += 1\n",
    "\n",
    "print('Heads:', outcomes['heads'])\n",
    "print('Tails:', outcomes['tails'])"
   ]
  },
  {
   "cell_type": "code",
   "execution_count": 3,
   "metadata": {},
   "outputs": [
    {
     "name": "stdout",
     "output_type": "stream",
     "text": [
      "(25, 100, 4.0, 0, 4)\n"
     ]
    }
   ],
   "source": [
    "def f(a,b):\n",
    "    return a+b, a*b, a/b, a%b, a//b\n",
    "\n",
    "print(f(20,5))"
   ]
  },
  {
   "cell_type": "code",
   "execution_count": 25,
   "metadata": {},
   "outputs": [
    {
     "name": "stdout",
     "output_type": "stream",
     "text": [
      "The area of the circle that has a radius 3 is 28.274\n",
      "\n",
      "2.718281828459045\n",
      "\n",
      "20.085536923187668 ------> 20.085536923187664\n",
      "\n",
      "3.0\n",
      "\n",
      "3.0\n",
      "\n",
      "True\n",
      "True\n",
      "6.123233995736766e-17\n",
      "1.0\n",
      "0.0\n",
      "-1.0 1.2246467991473532e-16\n",
      "\n",
      "25.0\n",
      "\n",
      "Enter the first side of triangle: 5\n",
      "Enter the second side of triangle: 18\n",
      "Enter the third of triangle: 24\n",
      "False\n"
     ]
    }
   ],
   "source": [
    "from math import *\n",
    "\n",
    "def circleArea(radius):\n",
    "    return \"The area of the circle that has a radius {0} is {1:.3f}\".format(radius, pi * radius ** 2)\n",
    "\n",
    "print(circleArea(3))\n",
    "print()\n",
    "\n",
    "x = 3\n",
    "print(e)\n",
    "print()\n",
    "print(exp(x), \"------>\", e**x)\n",
    "print()\n",
    "y = exp(x)\n",
    "print(log(y))\n",
    "print()\n",
    "x = 1000\n",
    "print(log10(1000))\n",
    "\n",
    "print()\n",
    "print(sin (pi/2) == cos (0))\n",
    "print(sin (pi) != cos(pi/2))\n",
    "print(cos(pi/2))\n",
    "print(cos(0))\n",
    "print(sin(0))\n",
    "print(cos(pi), sin(pi))\n",
    "\n",
    "print()\n",
    "z = hypot(7, 24)\n",
    "print(z)\n",
    "print()\n",
    "\n",
    "def hyp(x, y, z):\n",
    "    if z == sqrt(x * x + y * y):\n",
    "        return True\n",
    "    else:\n",
    "        return False\n",
    "\n",
    "side_1 = int(input(\"Enter the first side of triangle: \"))\n",
    "side_2 = int(input(\"Enter the second side of triangle: \"))\n",
    "side_3 = int(input(\"Enter the third of triangle: \"))\n",
    "print(hyp(side_1, side_2, side_3))"
   ]
  },
  {
   "cell_type": "code",
   "execution_count": 34,
   "metadata": {},
   "outputs": [
    {
     "name": "stdout",
     "output_type": "stream",
     "text": [
      "Enter the target value: 6\n",
      "Enter the guessed value: 2.4\n",
      "\n",
      "Square root of 6 is 2.45\n",
      "\n",
      "Square root of 6 is 2.45\n"
     ]
    }
   ],
   "source": [
    "# Square root calculation method without using math library\n",
    "import math as m\n",
    "targetValue = int(input(\"Enter the target value: \"))\n",
    "guessValue  = float(input(\"Enter the guessed value: \"))\n",
    "squareOfGuess = guessValue * guessValue\n",
    "while abs(targetValue - squareOfGuess) > 0.01:\n",
    "    convergence = targetValue / guessValue\n",
    "    guessValue = (guessValue + convergence) / 2.0\n",
    "    squareOfGuess = guessValue * guessValue\n",
    "print()\n",
    "print(\"Square root of %d is %.2f\" %(targetValue, guessValue))\n",
    "print()\n",
    "print(\"Square root of {0} is {1:.2f}\".format(targetValue, m.sqrt(targetValue)))"
   ]
  },
  {
   "cell_type": "code",
   "execution_count": 38,
   "metadata": {},
   "outputs": [
    {
     "name": "stdout",
     "output_type": "stream",
     "text": [
      "3\n",
      "3\n",
      "5\n",
      "5\n"
     ]
    }
   ],
   "source": [
    "def absolute(x):\n",
    "    if x < 0:\n",
    "        return x * -1\n",
    "    else:\n",
    "        return x\n",
    "    \n",
    "print(absolute(-3))\n",
    "print(abs(-3))\n",
    "print(absolute(5))\n",
    "print(abs(5))"
   ]
  },
  {
   "cell_type": "code",
   "execution_count": 40,
   "metadata": {},
   "outputs": [
    {
     "name": "stdout",
     "output_type": "stream",
     "text": [
      "['__doc__', '__loader__', '__name__', '__package__', '__spec__', 'acos', 'acosh', 'asin', 'asinh', 'atan', 'atan2', 'atanh', 'ceil', 'copysign', 'cos', 'cosh', 'degrees', 'e', 'erf', 'erfc', 'exp', 'expm1', 'fabs', 'factorial', 'floor', 'fmod', 'frexp', 'fsum', 'gamma', 'gcd', 'hypot', 'inf', 'isclose', 'isfinite', 'isinf', 'isnan', 'ldexp', 'lgamma', 'log', 'log10', 'log1p', 'log2', 'modf', 'nan', 'pi', 'pow', 'radians', 'remainder', 'sin', 'sinh', 'sqrt', 'tan', 'tanh', 'tau', 'trunc']\n",
      "\n",
      "Return the cosine of x (measured in radians).\n",
      "\n",
      "Help on built-in function sin in module math:\n",
      "\n",
      "sin(x, /)\n",
      "    Return the sine of x (measured in radians).\n",
      "\n",
      "None\n"
     ]
    }
   ],
   "source": [
    "print(dir(math))\n",
    "print()\n",
    "print(math.cos.__doc__)\n",
    "print()\n",
    "print(help(math.sin))"
   ]
  },
  {
   "cell_type": "code",
   "execution_count": null,
   "metadata": {},
   "outputs": [],
   "source": []
  }
 ],
 "metadata": {
  "kernelspec": {
   "display_name": "Python 3",
   "language": "python",
   "name": "python3"
  },
  "language_info": {
   "codemirror_mode": {
    "name": "ipython",
    "version": 3
   },
   "file_extension": ".py",
   "mimetype": "text/x-python",
   "name": "python",
   "nbconvert_exporter": "python",
   "pygments_lexer": "ipython3",
   "version": "3.7.4"
  }
 },
 "nbformat": 4,
 "nbformat_minor": 2
}
